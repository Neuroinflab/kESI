{
 "cells": [
  {
   "cell_type": "markdown",
   "metadata": {},
   "source": [
    "# Requirements\n",
    "\n",
    "## Environment\n",
    "\n",
    "1. Anaconda Python distribution (tested with _Anaconda3-2021.11-Linux-x86\\_64.sh_, _conda v. 4.12.0_).\n",
    "2. Jupyter server (see _extras/jupyter\\_server.sh_ for details).\n",
    "3. Anaconda environments (run _setup\\_conda\\_envs.sh_).\n",
    "4. gmsh (not necessary if you already have meshes in either MSH or XDMF format).\n",
    "\n",
    "\n",
    "## Setup\n",
    "\n",
    "### Geometry: mesh\n",
    "\n",
    "You need to have a mesh in XDMF format.  Try:\n",
    "\n",
    "    conda activate kesi37\n",
    "    cd extras/FEM/_meshes_new\n",
    "    snakemake finite_slice_fine.xdmf -j 1\n",
    "    \n",
    "It may take a while.  Sadly, errors are expected.  If the build fails due to an error in the _MSH_ rule, you may need to remove the intermediate _finite\\_slice\\_fine.msh_ file and remove `-optimize_netgen` _gmsh_ flag from _Snakefile_ to disable mesh optimization which may crash _gmsh_ with a segmentation fault.\n",
    "\n",
    "Now you have the following files created:\n",
    "- _finite\\_slice\\_fine.xdmf_,\n",
    "- _finite\\_slice\\_fine.h5_,\n",
    "- _finite\\_slice\\_fine_boundaries.xdmf_,\n",
    "- _finite\\_slice\\_fine_boundaries.h5_,\n",
    "- _finite\\_slice\\_fine_subdomains.xdmf_,\n",
    "- _finite\\_slice\\_fine_subdomains.h5_\n",
    "\n",
    "(_*.xdmf_ files are headers for _*.h5_ files).  The files are derived from _finite\\_slice\\_fine.msh_ mesh saved in _gmsh_ format, which is created from blueprints in the _finite\\_slice\\_fine.geo_.  The blueprint itself is derived from a template _finite\\_slice\\_fine.geo.template_.  \n",
    "\n",
    "The template may also derive meshes of other resolutions:\n",
    "- _finite\\_slice\\_finest.xdmf_,\n",
    "- _finite\\_slice\\_finer.xdmf_,\n",
    "- _finite\\_slice.xdmf_,\n",
    "- _finite\\_slice\\_coarse.xdmf_,\n",
    "- _finite\\_slice\\_coarser.xdmf_, and\n",
    "- _finite\\_slice\\_coarsest.xdmf_.\n",
    "\n",
    "There are also blueprints for _finite_slice_composite.xdmf_.\n",
    "\n",
    "> There are also templates for single sphere geometries:\n",
    "> - _one\\_sphere\\_composite.geo.template_,\n",
    "> - _one\\_sphere\\_plain.geo.template_, and\n",
    "> - _one\\_sphere\\_uniform\\_cortex.geo.template_.\n",
    "> The recommended meshes derived from them are:\n",
    "> - _one\\_sphere\\_composite\\_finest.xdmf_,\n",
    "> - _one\\_sphere\\_plain\\_finer.xdmf_, \n",
    "> - _one\\_sphere\\_plain\\_finest.xdmf_, \n",
    "> - _one\\_sphere\\_uniform\\_cortex\\_fine.xdmf_,\n",
    "> - _one\\_sphere\\_uniform\\_cortex\\_finer.xdmf_, and\n",
    "> - _one\\_sphere\\_uniform\\_cortex\\_finest.xdmf_.\n",
    ">\n",
    "> For four sphere geometry there are blueprints from which you can derive:\n",
    "> - _four\\_spheres\\_separate\\_cortex\\_composite.xdmf_,\n",
    "> - _four\\_spheres\\_separate\\_cortex\\_composite\\_fine.xdmf_, and\n",
    "> - _four\\_spheres\\_plain.xdmf_."
   ]
  },
  {
   "cell_type": "markdown",
   "metadata": {},
   "source": [
    "### Geometry: properties\n",
    "\n",
    "For every mesh additional information is necessary, like conductivity of its compartments.  Such information is stored in the following files:\n",
    "- _extras/FEM/\\_meshes\\_new/finite\\_slice.ini_,\n",
    "- _extras/FEM/\\_meshes\\_new/one\\_sphere.ini_, and\n",
    "- _extras/FEM/\\_meshes\\_new/four\\_spheres.ini_.\n",
    "\n",
    "Format of such file is:\n",
    "\n",
    "    [<compartment name>]\n",
    "    volume = <volume number>\n",
    "    conductivity = <conductivity in SI units>\n",
    "    \n",
    "for a compartment and:\n",
    "\n",
    "    [<surface name>]\n",
    "    surface = <surface number>\n",
    "    \n",
    "for a boundary.  Additional information may be provided, like radius, thickness, or conductivity associated with external surface for subtraction method."
   ]
  },
  {
   "cell_type": "markdown",
   "metadata": {},
   "source": [
    "### FEM\n",
    "\n",
    "In the _extras/FEM/fem\\_configs_ you can find examplary configurations of FEM solver in the _fem_ section of INI files:\n",
    "\n",
    "    [fem]\n",
    "    mesh = _meshes_new/finite_slice_composite.xdmf\n",
    "    config = _meshes_new/finite_slice.ini\n",
    "    element_type = CG\n",
    "    degree = 3\n",
    "    solution_metadata_filename = solutions/paper/finite_slice/composite_3/grid_3d.ini\n",
    "\n",
    "`mesh` is a path to the mesh header, while `config` - to properties of its compartments and boundaries.  `element_type` (`CG` for _continuous Galerkin_) and `degree` is configuration of elements used by FEM.\n",
    "`solution_metadata_filename` points to a directory where the solutions are to be stored, and an INI file containing their metadata.\n",
    "\n",
    "\n",
    "### electrodes\n",
    "\n",
    "Other sections of the INI files have format:\n",
    "\n",
    "    [<electrode name>]\n",
    "    filename = <solution filename.h5>\n",
    "    x = <X coordinate in meters>\n",
    "    y = <Y coordinate in meters>\n",
    "    z = <Z coordinate in meters>\n",
    "    \n",
    "and define name and spatial location of electrodes.  They also define the (relative) path to the file where the leadfield correction is to be stored."
   ]
  },
  {
   "cell_type": "markdown",
   "metadata": {},
   "source": [
    "# Preprocessing\n",
    "\n",
    "Lets define a simple setup of three point electrodes:\n",
    "\n",
    "    [fem]\n",
    "    mesh = _meshes_new/finite_slice_fine.xdmf\n",
    "    config = _meshes_new/finite_slice.ini\n",
    "    element_type = CG\n",
    "    degree = 3\n",
    "    solution_metadata_filename = solutions/tutorial/finite_slice/fine_3/demo.ini\n",
    "    \n",
    "    [first]\n",
    "    filename = demo/first.h5\n",
    "    x = 0\n",
    "    y = 0\n",
    "    z = 0.5e-4\n",
    "    \n",
    "    [second]\n",
    "    filename = demo/second.h5\n",
    "    x = 0.5e-4\n",
    "    y = 0\n",
    "    z = 1.5e-4\n",
    "    \n",
    "    [third]\n",
    "    filename = demo/third.h5\n",
    "    x = 0.5e-4\n",
    "    y = -0.5e-4\n",
    "    z = 2.5e-4\n",
    "    \n",
    "Write the setup as _extras/FEM/fem\\_configs/tutorial/finite\\_slice/fine\\_3/demo.ini_.\n",
    " \n",
    "For every electrode solve for the leadfield correction:\n",
    "\n",
    "    cd extras\n",
    "    python paper_solve_slice_on_plate.py -c FEM/fem_configs/tutorial/finite_slice/fine_3/demo.ini -n first -o FEM/solutions/tutorial/finite_slice/fine_3/demo/first.ini\n",
    "    python paper_solve_slice_on_plate.py -c FEM/fem_configs/tutorial/finite_slice/fine_3/demo.ini -n second -o FEM/solutions/tutorial/finite_slice/fine_3/demo/second.ini\n",
    "    python paper_solve_slice_on_plate.py -c FEM/fem_configs/tutorial/finite_slice/fine_3/demo.ini -n third -o FEM/solutions/tutorial/finite_slice/fine_3/demo/third.ini\n",
    "    \n",
    "Then join the scattered metadata."
   ]
  },
  {
   "cell_type": "code",
   "execution_count": null,
   "metadata": {},
   "outputs": [],
   "source": [
    "import configparser\n",
    "\n",
    "metadata = configparser.ConfigParser()\n",
    "for filename in ['FEM/fem_configs/tutorial/finite_slice/fine_3/demo.ini',\n",
    "                 'FEM/solutions/tutorial/finite_slice/fine_3/demo/first.ini',\n",
    "                 'FEM/solutions/tutorial/finite_slice/fine_3/demo/second.ini',\n",
    "                 'FEM/solutions/tutorial/finite_slice/fine_3/demo/third.ini',\n",
    "                 ]:\n",
    "    metadata.read(filename)\n",
    "    metadata.write(open('FEM/solutions/tutorial/finite_slice/fine_3/demo.ini', 'w'))"
   ]
  },
  {
   "cell_type": "markdown",
   "metadata": {},
   "source": [
    "Sample the solution on NxNxN grid, where `N = 2**K + 1`:\n",
    "\n",
    "    mkdir -p FEM/solutions/tutorial/finite_slice/fine_3/demo_sampled/9/\n",
    "    python paper_sample_slice_solution.py -c FEM/solutions/tutorial/finite_slice/fine_3/demo.ini -n first -k 9 -o FEM/solutions/tutorial/finite_slice/fine_3/demo_sampled/9/first.npz -r 0.0003\n",
    "    python paper_sample_slice_solution.py -c FEM/solutions/tutorial/finite_slice/fine_3/demo.ini -n second -k 9 -o FEM/solutions/tutorial/finite_slice/fine_3/demo_sampled/9/second.npz -r 0.0003\n",
    "    python paper_sample_slice_solution.py -c FEM/solutions/tutorial/finite_slice/fine_3/demo.ini -n third -k 9 -o FEM/solutions/tutorial/finite_slice/fine_3/demo_sampled/9/third.npz -r 0.0003\n",
    "    \n",
    "It may take several hours."
   ]
  },
  {
   "cell_type": "markdown",
   "metadata": {},
   "source": [
    "# Kernel construction\n",
    "\n",
    "## Electrode object\n",
    "\n",
    "An electrode object contains information about electrode spatial location (`.x`, `.y` and `.z` attribute), which is an absolute minimum to be used by kESI (in this case: kCSD with known base function in potential space).  It may also provide additional information about:\n",
    "- base leadfield (`.base_potential()` method) which enable kCSD for arbitrary base function in CSD space, or\n",
    "- leadfield correction (`.correction_potential()` method) which enable kESI for setups violating kCSD assumptions,\n",
    "- base conductivity (`.base_conductivity` attribute) assumed when calculating the leadfield correction."
   ]
  },
  {
   "cell_type": "code",
   "execution_count": null,
   "metadata": {},
   "outputs": [],
   "source": [
    "import numpy as np\n",
    "\n",
    "class Electrode(object):\n",
    "    def __init__(self, filename, decimals_tolerance=None, dx=0):\n",
    "        \"\"\"\n",
    "        Parameters\n",
    "        ----------\n",
    "        \n",
    "        filename : str\n",
    "            Path to the sampled correction potential.\n",
    "            \n",
    "        decimals_tolerance : int\n",
    "            Precision of coordinate comparison\n",
    "            in the `.correction_potential()` method.\n",
    "            \n",
    "        dx : float\n",
    "            Integration step used to calculate a regularization\n",
    "            parameter of the `.base_potential()` method.\n",
    "        \"\"\"\n",
    "        self.filename = filename\n",
    "        self.decimals_tolerance = decimals_tolerance\n",
    "        self.dx = dx\n",
    "        with np.load(filename) as fh:\n",
    "            self._X = self.round(fh['X'])\n",
    "            self._Y = self.round(fh['Y'])\n",
    "            self._Z = self.round(fh['Z'])\n",
    "            self.x, self.y, self.z = fh['LOCATION']\n",
    "            self.base_conductivity = fh['BASE_CONDUCTIVITY']\n",
    "\n",
    "    @property\n",
    "    def _epsilon(self):\n",
    "        \"\"\"\n",
    "        Regularization parameter of the `.base_potential()` method.\n",
    "        \n",
    "        Note\n",
    "        ----\n",
    "        \n",
    "        The 0.15 factor choice has been based on a toy numerical experiment.\n",
    "        Further, more rigorous experiments are definitely recommended.\n",
    "        \"\"\"\n",
    "        return 0.15 * self.dx\n",
    "    \n",
    "    def round(self, A):\n",
    "        if self.decimals_tolerance is None:\n",
    "            return A\n",
    "        return np.round(A, decimals=self.decimals_tolerance)\n",
    "\n",
    "    def correction_potential(self, X, Y, Z):\n",
    "        \"\"\"\n",
    "        Parameters\n",
    "        ----------\n",
    "        X, Y, Z : np.array\n",
    "            Coordinate matrices with matrix indexing.\n",
    "            Coordinates are expected to be - respectively -\n",
    "            from `._X`, `._Y` and `._Z` attributes.\n",
    "            May be obtained with\n",
    "            `X, Y, Z = np.meshgrid(..., indexing='ij')`.\n",
    "        \"\"\"\n",
    "        _X, IDX_X, _ = np.intersect1d(self._X, self.round(X[:, 0, 0]), return_indices=True)\n",
    "        assert len(_X) == np.shape(X)[0]\n",
    "        _Y, IDX_Y, _ = np.intersect1d(self._Y, self.round(Y[0, :, 0]), return_indices=True)\n",
    "        assert len(_Y) == np.shape(Y)[1]\n",
    "        _Z, IDX_Z, _ = np.intersect1d(self._Z, self.round(Z[0, 0, :]), return_indices=True)\n",
    "        assert len(_Z) == np.shape(Z)[2]\n",
    "\n",
    "        with np.load(self.filename) as fh:\n",
    "            return fh['CORRECTION_POTENTIAL'][np.ix_(IDX_X, IDX_Y, IDX_Z)]\n",
    "\n",
    "    def base_potential(self, X, Y, Z):\n",
    "        return (0.25 / (np.pi * self.base_conductivity)\n",
    "                / (self._epsilon\n",
    "                   + np.sqrt(np.square(X - self.x)\n",
    "                             + np.square(Y - self.y)\n",
    "                             + np.square(Z - self.z))))"
   ]
  },
  {
   "cell_type": "code",
   "execution_count": null,
   "metadata": {},
   "outputs": [],
   "source": [
    "electrodes = [Electrode(f'FEM/solutions/tutorial/finite_slice/fine_3/demo_sampled/9/{name}.npz')\n",
    "              for name in ['first', 'second', 'third']]"
   ]
  },
  {
   "cell_type": "markdown",
   "metadata": {},
   "source": [
    "## FRR: Fast Reciprocal Reconstructor \n",
    "\n",
    "The `_fast_reciprocal_reconstructor` experimental module contains tools which allow for fast construction of (cross)kernels.  They use discrete for high throughput integration.\n",
    "\n",
    "### Convolver object\n",
    "\n",
    "The convolver is the engine of the FRR tools.  It is used to:\n",
    "- integrate leadfields weighted by a CSD profile,\n",
    "- obtain CSD profile of a mixture of base functions.\n",
    "\n",
    "The convolver operates on three regular 3D grids of coordinates:\n",
    "- _POT_ grid used for leadfield (_reciprocal potential_) integration,\n",
    "- _CSD_ grid used for CSD profile calculation,\n",
    "- _SRC_ grid used for distributing of base function centroids.\n",
    "\n",
    "The _SRC_ grid is an intersection (in set arithmetic sense) of the _POT_ and the _CSD_ grids, thus they define the convolver unequivocally."
   ]
  },
  {
   "cell_type": "code",
   "execution_count": null,
   "metadata": {},
   "outputs": [],
   "source": [
    "from _fast_reciprocal_reconstructor import ckESI_convolver"
   ]
  },
  {
   "cell_type": "code",
   "execution_count": null,
   "metadata": {},
   "outputs": [],
   "source": [
    "_X = electrodes[0]._X\n",
    "_Y = electrodes[0]._Y\n",
    "_Z = electrodes[0]._Z\n",
    "\n",
    "_pot_mesh = [_X, _Y, _Z]\n",
    "_csd_mesh = [_X, _Y, _Z]\n",
    "\n",
    "convolver = ckESI_convolver(_pot_mesh, _csd_mesh)"
   ]
  },
  {
   "cell_type": "code",
   "execution_count": null,
   "metadata": {},
   "outputs": [],
   "source": [
    "print(convolver.csd_shape)"
   ]
  },
  {
   "cell_type": "code",
   "execution_count": null,
   "metadata": {},
   "outputs": [],
   "source": [
    "for name in ['POT', 'CSD', 'SRC']:\n",
    "    print(f'{name} mesh')\n",
    "    print('  shape:', convolver.shape(name))\n",
    "    print('  spacing:', convolver.ds(name))"
   ]
  },
  {
   "cell_type": "markdown",
   "metadata": {},
   "source": [
    "Open 3D meshgrids may be accessed as `.{NAME}_MESH` attributes, where `{NAME}` is the name of the mesh.\n",
    "Components of each meshgrid may be accessed as `.{NAME}_{C}` attributes, where `{C}` is the name of the coordinate."
   ]
  },
  {
   "cell_type": "markdown",
   "metadata": {},
   "source": [
    "### Model source\n",
    "\n",
    "While FRR tools operate on base function profiles defined as callables, we can use convenience kCSD base function objects as model bases (bases which centroid is `(0, 0, 0)`).\n",
    "As convolver will use the Romberg method for integration, the size of the CSD profile is limited by the K parameter of the method."
   ]
  },
  {
   "cell_type": "code",
   "execution_count": null,
   "metadata": {},
   "outputs": [],
   "source": [
    "from _common_new import SphericalSplineSourceKCSD, GaussianSourceKCSD3D\n",
    "\n",
    "ROMBERG_K = 6\n",
    "SRC_R_MAX = 2 ** (ROMBERG_K - 1) * min(convolver.ds('POT'))\n",
    "BASE_CONDUCTIVITY = electrodes[0].base_conductivity\n",
    "\n",
    "spline_nodes = [SRC_R_MAX / 3, SRC_R_MAX]\n",
    "spline_polynomials = [[1],\n",
    "                      [0,\n",
    "                       6.75 / SRC_R_MAX,\n",
    "                       -13.5 / SRC_R_MAX ** 2,\n",
    "                       6.75 / SRC_R_MAX ** 3]]\n",
    "model_src = SphericalSplineSourceKCSD(0, 0, 0,\n",
    "                                      spline_nodes,\n",
    "                                      spline_polynomials,\n",
    "                                      BASE_CONDUCTIVITY)\n",
    "print(SRC_R_MAX)"
   ]
  },
  {
   "cell_type": "markdown",
   "metadata": {},
   "source": [
    "### Convolver interface\n",
    "\n",
    "The convolver interface binds the convolver to:\n",
    "- a CSD profile,\n",
    "- weights of a quadrature of equally-spaced nodes,\n",
    "- boolean mask of nodes of the _SRC_ mesh with centroids of the base functions.\n",
    "\n",
    "When analytical solution of the kCSD forward problem is used coupled with numeric integration of leadfield correction, it is advised not to put centroids near the boundary of the _SRC_ grid."
   ]
  },
  {
   "cell_type": "code",
   "execution_count": null,
   "metadata": {},
   "outputs": [],
   "source": [
    "from _fast_reciprocal_reconstructor import ConvolverInterfaceIndexed\n",
    "from scipy.integrate import romb\n",
    "\n",
    "ROMBERG_N = 2 ** ROMBERG_K + 1\n",
    "ROMBERG_WEIGHTS = romb(np.identity(ROMBERG_N)) * 2 ** -ROMBERG_K\n",
    "\n",
    "SRC_IDX = ((convolver.SRC_Z > SRC_R_MAX)\n",
    "           & (convolver.SRC_Z < 3e-4 - SRC_R_MAX)\n",
    "           & (abs(convolver.SRC_X) < 1.5e-4 - SRC_R_MAX)\n",
    "           & (abs(convolver.SRC_Y) < 1.5e-4 - SRC_R_MAX))"
   ]
  },
  {
   "cell_type": "code",
   "execution_count": null,
   "metadata": {},
   "outputs": [],
   "source": [
    "print(SRC_IDX.sum())"
   ]
  },
  {
   "cell_type": "code",
   "execution_count": null,
   "metadata": {},
   "outputs": [],
   "source": [
    "convolver_interface = ConvolverInterfaceIndexed(convolver,\n",
    "                                                model_src.csd,\n",
    "                                                ROMBERG_WEIGHTS,\n",
    "                                                SRC_IDX)"
   ]
  },
  {
   "cell_type": "markdown",
   "metadata": {},
   "source": [
    "### Kernel constructor and cross-kernel constructor\n",
    "\n",
    "The kernel constructor is an object which is a collection of callables (methods) facilitating construction of base function images at electrodes (_PHI_ matrix) and the kernel matrix.  The cross-kernel constructor is a callable which - based on the _PHI_ matrix and boolean mask of the _CSD_ grid - constructs the cross-kernel."
   ]
  },
  {
   "cell_type": "code",
   "execution_count": null,
   "metadata": {},
   "outputs": [],
   "source": [
    "from _fast_reciprocal_reconstructor import ckESI_kernel_constructor, ckESI_crosskernel_constructor"
   ]
  },
  {
   "cell_type": "code",
   "execution_count": null,
   "metadata": {},
   "outputs": [],
   "source": [
    "kernel_constructor = ckESI_kernel_constructor()"
   ]
  },
  {
   "cell_type": "code",
   "execution_count": null,
   "metadata": {},
   "outputs": [],
   "source": [
    "CSD_IDX = np.ones(convolver.shape('CSD'),\n",
    "                  dtype=bool)"
   ]
  },
  {
   "cell_type": "code",
   "execution_count": null,
   "metadata": {},
   "outputs": [],
   "source": [
    "kernel_constructor.create_crosskernel = ckESI_crosskernel_constructor(convolver_interface,\n",
    "                                                                      CSD_IDX)"
   ]
  },
  {
   "cell_type": "markdown",
   "metadata": {},
   "source": [
    "### Potential At Electrode: analytical solution of the kCSD forward problem"
   ]
  },
  {
   "cell_type": "code",
   "execution_count": null,
   "metadata": {},
   "outputs": [],
   "source": [
    "from _fast_reciprocal_reconstructor import PAE_kCSD_Analytical"
   ]
  },
  {
   "cell_type": "code",
   "execution_count": null,
   "metadata": {},
   "outputs": [],
   "source": [
    "pae_kcsd_a = PAE_kCSD_Analytical(convolver_interface,\n",
    "                                 potential=model_src.potential)"
   ]
  },
  {
   "cell_type": "code",
   "execution_count": null,
   "metadata": {},
   "outputs": [],
   "source": [
    "%%time\n",
    "PHI_KCSD_ANALYTICAL = kernel_constructor.create_base_images_at_electrodes(electrodes,\n",
    "                                                                          pae_kcsd_a)"
   ]
  },
  {
   "cell_type": "code",
   "execution_count": null,
   "metadata": {},
   "outputs": [],
   "source": [
    "KERNEL_KCSD_ANALYTICAL = kernel_constructor.create_kernel(PHI_KCSD_ANALYTICAL)"
   ]
  },
  {
   "cell_type": "code",
   "execution_count": null,
   "metadata": {},
   "outputs": [],
   "source": [
    "%%time\n",
    "CROSSKERNEL_KCSD_ANALYTICAL = kernel_constructor.create_crosskernel(PHI_KCSD_ANALYTICAL)"
   ]
  },
  {
   "cell_type": "markdown",
   "metadata": {},
   "source": [
    "### Potential At Electrode: numerical solution of the kCSD forward problem"
   ]
  },
  {
   "cell_type": "code",
   "execution_count": null,
   "metadata": {},
   "outputs": [],
   "source": [
    "from _fast_reciprocal_reconstructor import PAE_kCSD_Numerical"
   ]
  },
  {
   "cell_type": "code",
   "execution_count": null,
   "metadata": {},
   "outputs": [],
   "source": [
    "pae_kcsd_n = PAE_kCSD_Numerical(convolver_interface)"
   ]
  },
  {
   "cell_type": "code",
   "execution_count": null,
   "metadata": {},
   "outputs": [],
   "source": [
    "%%time\n",
    "PHI_KCSD_NUMERICAL = kernel_constructor.create_base_images_at_electrodes(electrodes,\n",
    "                                                                         pae_kcsd_n)"
   ]
  },
  {
   "cell_type": "code",
   "execution_count": null,
   "metadata": {},
   "outputs": [],
   "source": [
    "KERNEL_KCSD_NUMERICAL = kernel_constructor.create_kernel(PHI_KCSD_NUMERICAL)"
   ]
  },
  {
   "cell_type": "code",
   "execution_count": null,
   "metadata": {},
   "outputs": [],
   "source": [
    "%%time\n",
    "CROSSKERNEL_KCSD_NUMERICAL = kernel_constructor.create_crosskernel(PHI_KCSD_NUMERICAL)"
   ]
  },
  {
   "cell_type": "markdown",
   "metadata": {},
   "source": [
    "### Potential At Electrode: kESI corrected analytical solution of the kCSD forward problem"
   ]
  },
  {
   "cell_type": "code",
   "execution_count": null,
   "metadata": {},
   "outputs": [],
   "source": [
    "from _fast_reciprocal_reconstructor import PAE_kESI_Analytical"
   ]
  },
  {
   "cell_type": "code",
   "execution_count": null,
   "metadata": {},
   "outputs": [],
   "source": [
    "pae_kesi_a = PAE_kESI_Analytical(convolver_interface,\n",
    "                                 potential=model_src.potential)"
   ]
  },
  {
   "cell_type": "code",
   "execution_count": null,
   "metadata": {},
   "outputs": [],
   "source": [
    "%%time\n",
    "PHI_KESI_ANALYTICAL = kernel_constructor.create_base_images_at_electrodes(electrodes,\n",
    "                                                                          pae_kesi_a)"
   ]
  },
  {
   "cell_type": "code",
   "execution_count": null,
   "metadata": {},
   "outputs": [],
   "source": [
    "KERNEL_KESI_ANALYTICAL = kernel_constructor.create_kernel(PHI_KESI_ANALYTICAL)"
   ]
  },
  {
   "cell_type": "code",
   "execution_count": null,
   "metadata": {},
   "outputs": [],
   "source": [
    "%%time\n",
    "CROSSKERNEL_KESI_ANALYTICAL = kernel_constructor.create_crosskernel(PHI_KESI_ANALYTICAL)"
   ]
  },
  {
   "cell_type": "markdown",
   "metadata": {},
   "source": [
    "### Potential At Electrode: kESI corrected numerical solution of the kCSD forward problem"
   ]
  },
  {
   "cell_type": "code",
   "execution_count": null,
   "metadata": {},
   "outputs": [],
   "source": [
    "from _fast_reciprocal_reconstructor import PAE_kESI_Numerical"
   ]
  },
  {
   "cell_type": "code",
   "execution_count": null,
   "metadata": {},
   "outputs": [],
   "source": [
    "pae_kesi_n = PAE_kESI_Numerical(convolver_interface)"
   ]
  },
  {
   "cell_type": "code",
   "execution_count": null,
   "metadata": {},
   "outputs": [],
   "source": [
    "%%time\n",
    "PHI_KESI_NUMERICAL = kernel_constructor.create_base_images_at_electrodes(electrodes,\n",
    "                                                                         pae_kesi_n)"
   ]
  },
  {
   "cell_type": "code",
   "execution_count": null,
   "metadata": {},
   "outputs": [],
   "source": [
    "KERNEL_KESI_NUMERICAL = kernel_constructor.create_kernel(PHI_KESI_NUMERICAL)"
   ]
  },
  {
   "cell_type": "code",
   "execution_count": null,
   "metadata": {},
   "outputs": [],
   "source": [
    "%%time\n",
    "CROSSKERNEL_KESI_NUMERICAL = kernel_constructor.create_crosskernel(PHI_KESI_NUMERICAL)"
   ]
  },
  {
   "cell_type": "markdown",
   "metadata": {},
   "source": [
    "# Reconstructor"
   ]
  },
  {
   "cell_type": "code",
   "execution_count": null,
   "metadata": {},
   "outputs": [],
   "source": [
    "from kesi._verbose import _CrossKernelReconstructor as Reconstructor\n",
    "from kesi._engine import _LinearKernelSolver as KernelSolver"
   ]
  },
  {
   "cell_type": "code",
   "execution_count": null,
   "metadata": {},
   "outputs": [],
   "source": [
    "reconstructor_kcsd_a = Reconstructor(KernelSolver(KERNEL_KCSD_ANALYTICAL),\n",
    "                                     CROSSKERNEL_KCSD_ANALYTICAL)"
   ]
  },
  {
   "cell_type": "code",
   "execution_count": null,
   "metadata": {},
   "outputs": [],
   "source": [
    "reconstructor_kesi_a = Reconstructor(KernelSolver(KERNEL_KESI_ANALYTICAL),\n",
    "                                     CROSSKERNEL_KESI_ANALYTICAL)"
   ]
  },
  {
   "cell_type": "code",
   "execution_count": null,
   "metadata": {},
   "outputs": [],
   "source": [
    "reconstructor_kcsd_n = Reconstructor(KernelSolver(KERNEL_KCSD_NUMERICAL),\n",
    "                                     CROSSKERNEL_KCSD_NUMERICAL)"
   ]
  },
  {
   "cell_type": "code",
   "execution_count": null,
   "metadata": {},
   "outputs": [],
   "source": [
    "reconstructor_kesi_n = Reconstructor(KernelSolver(KERNEL_KESI_NUMERICAL),\n",
    "                                     CROSSKERNEL_KESI_NUMERICAL)"
   ]
  },
  {
   "cell_type": "markdown",
   "metadata": {},
   "source": [
    "# FEM forward modelling"
   ]
  },
  {
   "cell_type": "code",
   "execution_count": null,
   "metadata": {},
   "outputs": [],
   "source": [
    "import configparser\n",
    "import dolfin\n",
    "import scipy.interpolate as si\n",
    "\n",
    "import FEM.fem_common as fc"
   ]
  },
  {
   "cell_type": "markdown",
   "metadata": {},
   "source": [
    "We define a FEM forward model. It is a callable, which accepts CSD profile as a callable compatible with `scipy.interpolate.RegularGridInterpolator`."
   ]
  },
  {
   "cell_type": "code",
   "execution_count": null,
   "metadata": {},
   "outputs": [],
   "source": [
    "class ForwardModel(object):\n",
    "    # XXX: duplicated code with FEM classes\n",
    "    def __init__(self, config):\n",
    "        self.fm = fc.FunctionManagerINI(config)\n",
    "        \n",
    "        self.V = self.fm.function_space\n",
    "        mesh = self.fm.mesh\n",
    "\n",
    "        n = self.V.dim()\n",
    "        d = mesh.geometry().dim()\n",
    "\n",
    "        self.dof_coords = self.V.tabulate_dof_coordinates()\n",
    "        self.dof_coords.resize((n, d))\n",
    "        \n",
    "        self.csd_f = self.fm.function()\n",
    "        \n",
    "        \n",
    "        mesh_filename = self.fm.getpath('fem', 'mesh')[:-5]\n",
    "        with dolfin.XDMFFile(mesh_filename + '_subdomains.xdmf') as fh:\n",
    "            mvc = dolfin.MeshValueCollection(\"size_t\", mesh, 3)\n",
    "            fh.read(mvc, \"subdomains\")\n",
    "            self.subdomains = dolfin.cpp.mesh.MeshFunctionSizet(mesh, mvc)\n",
    "            self.dx = dolfin.Measure(\"dx\")(subdomain_data=self.subdomains)\n",
    "            \n",
    "            \n",
    "        self.config = configparser.ConfigParser()\n",
    "        self.config.read(self.fm.getpath('fem', 'config'))\n",
    "\n",
    "    @property\n",
    "    def CONDUCTIVITY(self):\n",
    "        for section in self.config.sections():\n",
    "            if self._is_conductive_volume(section):\n",
    "                yield (self.config.getint(section, 'volume'),\n",
    "                       self.config.getfloat(section, 'conductivity'))\n",
    "\n",
    "    def _is_conductive_volume(self, section):\n",
    "        return (self.config.has_option(section, 'volume')\n",
    "                and self.config.has_option(section, 'conductivity')) \n",
    "        \n",
    "    def __call__(self, csd_interpolator):\n",
    "        self.csd_f.vector()[:] = csd_interpolator(self.dof_coords)\n",
    "        \n",
    "        dirichlet_bc_gt = dolfin.DirichletBC(self.V,\n",
    "                                     dolfin.Constant(0),\n",
    "                                     (lambda x, on_boundary:\n",
    "                                      on_boundary and x[2] > 0))\n",
    "        test = self.fm.test_function()\n",
    "        trial = self.fm.trial_function()\n",
    "        potential = self.fm.function()\n",
    "        \n",
    "        \n",
    "        dx = self.dx\n",
    "        a = sum(dolfin.Constant(c)\n",
    "                * dolfin.inner(dolfin.grad(trial),\n",
    "                               dolfin.grad(test))\n",
    "                * dx(i)\n",
    "                for i, c\n",
    "                in self.CONDUCTIVITY)\n",
    "        L = self.csd_f * test * dx\n",
    "        \n",
    "        b = dolfin.assemble(L)\n",
    "        A = dolfin.assemble(a)\n",
    "        dirichlet_bc_gt.apply(A, b)\n",
    "        \n",
    "        solver = dolfin.KrylovSolver(\"cg\", \"ilu\")\n",
    "        solver.parameters[\"maximum_iterations\"] = 10000\n",
    "        solver.parameters[\"absolute_tolerance\"] = 1E-8\n",
    "        # solver.parameters[\"monitor_convergence\"] = True  # Goes to Jupyter server output stream\n",
    "        solver.solve(A, potential.vector(), b)\n",
    "        \n",
    "        return potential"
   ]
  },
  {
   "cell_type": "code",
   "execution_count": null,
   "metadata": {},
   "outputs": [],
   "source": [
    "%time fem = ForwardModel('FEM/fem_configs/tutorial/finite_slice/fine_3/demo.ini')"
   ]
  },
  {
   "cell_type": "code",
   "execution_count": null,
   "metadata": {},
   "outputs": [],
   "source": [
    "%%time\n",
    "_EIGENVALUES, _EIGENVECTORS = np.linalg.eigh(KERNEL_KESI_ANALYTICAL)\n",
    "_CSD = reconstructor_kesi_a(_EIGENVECTORS[:, 1]).reshape(convolver.shape('CSD'))\n",
    "_csd = si.RegularGridInterpolator(\n",
    "                                  [getattr(convolver, f'CSD_{x}').flatten()\n",
    "                                   for x in 'XYZ'],\n",
    "                                  _CSD,\n",
    "                                  bounds_error=False,\n",
    "                                  fill_value=0)\n",
    "_v = fem(_csd)\n",
    "_V = np.array([_v(_e.x, _e.y, _e.z) for _e in electrodes])\n",
    "\n",
    "print(np.matmul(_V, _EIGENVECTORS))"
   ]
  },
  {
   "cell_type": "markdown",
   "metadata": {},
   "source": [
    "# Reconstruction\n",
    "\n",
    "## Ground truth CSD and its image at the electrodes\n",
    "\n",
    "Derive GT CSD as an eigensource of analytical kCSD."
   ]
  },
  {
   "cell_type": "code",
   "execution_count": null,
   "metadata": {},
   "outputs": [],
   "source": [
    "%%time\n",
    "_EIGENVALUES, _EIGENVECTORS = np.linalg.eigh(KERNEL_KCSD_ANALYTICAL)\n",
    "GT_CSD = reconstructor_kcsd_a(_EIGENVECTORS[:, 1]).reshape(convolver.shape('CSD'))\n",
    "_csd = si.RegularGridInterpolator(\n",
    "                                  [getattr(convolver, f'CSD_{x}').flatten()\n",
    "                                   for x in 'XYZ'],\n",
    "                                  GT_CSD,\n",
    "                                  bounds_error=False,\n",
    "                                  fill_value=0)\n",
    "_v = fem(_csd)\n",
    "GT_V = np.array([_v(_e.x, _e.y, _e.z) for _e in electrodes])\n",
    "\n",
    "print(np.matmul(GT_V, _EIGENVECTORS))"
   ]
  },
  {
   "cell_type": "code",
   "execution_count": null,
   "metadata": {},
   "outputs": [],
   "source": [
    "%%time\n",
    "V_WHOLE_SPACE = np.vectorize(_v)(convolver.CSD_X[::4, :, :],\n",
    "                                 convolver.CSD_Y[:, ::4, :],\n",
    "                                 convolver.CSD_Z[:, :, ::4])"
   ]
  },
  {
   "cell_type": "markdown",
   "metadata": {},
   "source": [
    "### Visualisation"
   ]
  },
  {
   "cell_type": "code",
   "execution_count": null,
   "metadata": {},
   "outputs": [],
   "source": [
    "import matplotlib.pyplot as plt\n",
    "import cbf"
   ]
  },
  {
   "cell_type": "code",
   "execution_count": null,
   "metadata": {},
   "outputs": [],
   "source": [
    "def crude_plot_data(DATA,\n",
    "                    x=None,\n",
    "                    y=None,\n",
    "                    z=None,\n",
    "                    grid=None,\n",
    "                    dpi=30,\n",
    "                    cmap=cbf.bwr,\n",
    "                    title=None,\n",
    "                    amp=None):\n",
    "    wx, wy, wz = DATA.shape\n",
    "    \n",
    "    if grid is None:\n",
    "        ix, iy, iz = [w // 2 if a is None else a\n",
    "                      for a, w in zip([x, y, z],\n",
    "                                      [wx, wy, wz])]\n",
    "        x, y, z = ix, iy, iz\n",
    "        \n",
    "    else:\n",
    "        x, y, z = [g.mean() if a is None else a\n",
    "                   for a, g in zip([x, y, z],\n",
    "                                   grid)]\n",
    "        ix, iy, iz = [np.searchsorted(g, a)\n",
    "                      for a, g in zip([x, y, z],\n",
    "                                   grid)]\n",
    "\n",
    "    fig = plt.figure(figsize=((wx + wy) / dpi,\n",
    "                              (wz + wy) / dpi))\n",
    "    if title is not None:\n",
    "        fig.suptitle(title)\n",
    "    gs = plt.GridSpec(2, 2,\n",
    "                      figure=fig,\n",
    "                      width_ratios=[wx, wy],\n",
    "                      height_ratios=[wz, wy])\n",
    "\n",
    "    ax_xz = fig.add_subplot(gs[0, 0])\n",
    "    ax_xz.set_aspect('equal')\n",
    "    ax_xz.set_ylabel('Z')\n",
    "\n",
    "    ax_xy = fig.add_subplot(gs[1, 0],\n",
    "                            sharex=ax_xz)\n",
    "    ax_xy.set_aspect('equal')\n",
    "    ax_xy.set_ylabel('Y')\n",
    "    ax_xy.set_xlabel('X')\n",
    "\n",
    "    ax_yz = fig.add_subplot(gs[0, 1],\n",
    "                            sharey=ax_xz)\n",
    "    ax_yz.set_aspect('equal')\n",
    "    ax_yz.set_xlabel('Y')\n",
    "\n",
    "    cax = fig.add_subplot(gs[1,1])\n",
    "    cax.set_visible(False)\n",
    "#     cax.get_xaxis().set_visible(False)\n",
    "#     cax.get_yaxis().set_visible(False)\n",
    "\n",
    "\n",
    "    if amp is None:\n",
    "        amp = abs(DATA).max()\n",
    "\n",
    "    if grid is None:\n",
    "        ax_xz.imshow(DATA[:, iy, :].T,\n",
    "                     vmin=-amp,\n",
    "                     vmax=amp,\n",
    "                     cmap=cmap)\n",
    "        ax_xy.imshow(DATA[:, :, iz].T,\n",
    "             vmin=-amp,\n",
    "             vmax=amp,\n",
    "             cmap=cmap)\n",
    "        im = ax_yz.imshow(DATA[ix, :, :].T,\n",
    "                          vmin=-amp,\n",
    "                          vmax=amp,\n",
    "                          cmap=cmap)\n",
    "    else:\n",
    "        ax_xz.imshow(DATA[:, iy, :].T,\n",
    "                     vmin=-amp,\n",
    "                     vmax=amp,\n",
    "                     cmap=cmap,\n",
    "                     extent=(grid[0].min(), grid[0].max(),\n",
    "                             grid[2].min(), grid[2].max()))\n",
    "        ax_xy.imshow(DATA[:, :, iz].T,\n",
    "                     vmin=-amp,\n",
    "                     vmax=amp,\n",
    "                     cmap=cmap,\n",
    "                     extent=(grid[0].min(), grid[0].max(),\n",
    "                             grid[1].min(), grid[1].max()))\n",
    "        im = ax_yz.imshow(DATA[ix, :, :].T,\n",
    "                          vmin=-amp,\n",
    "                          vmax=amp,\n",
    "                          cmap=cmap,\n",
    "                          extent=(grid[1].min(), grid[1].max(),\n",
    "                                  grid[2].min(), grid[2].max()))\n",
    "        \n",
    "    ax_xz.axvline(x, ls=':', color=cbf.BLACK)\n",
    "    ax_xz.axhline(z, ls=':', color=cbf.BLACK)\n",
    "\n",
    "    ax_xy.axvline(x, ls=':', color=cbf.BLACK)\n",
    "    ax_xy.axhline(y, ls=':', color=cbf.BLACK)\n",
    "\n",
    "    ax_yz.axvline(y, ls=':', color=cbf.BLACK)\n",
    "    ax_yz.axhline(z, ls=':', color=cbf.BLACK)\n",
    "    fig.colorbar(im, ax=cax)\n"
   ]
  },
  {
   "cell_type": "code",
   "execution_count": null,
   "metadata": {},
   "outputs": [],
   "source": [
    "crude_plot_data(GT_CSD,\n",
    "                grid=[_x.flatten() for _x in convolver.CSD_MESH],\n",
    "                x=5e-5)"
   ]
  },
  {
   "cell_type": "code",
   "execution_count": null,
   "metadata": {},
   "outputs": [],
   "source": [
    "crude_plot_data(V_WHOLE_SPACE,\n",
    "                cmap=cbf.PRGn,\n",
    "                x=90)"
   ]
  },
  {
   "cell_type": "code",
   "execution_count": null,
   "metadata": {},
   "outputs": [],
   "source": []
  }
 ],
 "metadata": {
  "kernelspec": {
   "display_name": "Python [conda env:kesi37]",
   "language": "python",
   "name": "conda-env-kesi37-py"
  },
  "language_info": {
   "codemirror_mode": {
    "name": "ipython",
    "version": 3
   },
   "file_extension": ".py",
   "mimetype": "text/x-python",
   "name": "python",
   "nbconvert_exporter": "python",
   "pygments_lexer": "ipython3",
   "version": "3.7.12"
  }
 },
 "nbformat": 4,
 "nbformat_minor": 4
}
