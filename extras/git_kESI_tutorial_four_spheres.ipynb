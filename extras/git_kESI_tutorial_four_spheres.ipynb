{
 "cells": [
  {
   "cell_type": "markdown",
   "metadata": {},
   "source": [
    "# Requirements\n",
    "\n",
    "## Environment\n",
    "\n",
    "1. Anaconda Python distribution (tested with _Anaconda3-2021.11-Linux-x86\\_64.sh_, _conda v. 4.12.0_).\n",
    "2. Jupyter server (see _extras/jupyter\\_server.sh_ for details).\n",
    "3. Anaconda environments (run _setup\\_conda\\_envs.sh_).\n",
    "4. gmsh (not necessary if you already have meshes in either MSH or XDMF format).\n",
    "\n",
    "\n",
    "## Setup\n",
    "\n",
    "### Mesh\n",
    "\n",
    "You need to have a mesh in XDMF format.  Try:\n",
    "\n",
    "    conda activate kesi37\n",
    "    cd extras/FEM/meshes\n",
    "    snakemake meshes/four_spheres_csf_1_mm_plain/normal.xdmf -j 1\n",
    "    \n",
    "It may take a while.\n",
    "\n",
    "Now you have the following files created:\n",
    "- _meshes/four\\_spheres\\_csf\\_1\\_mm\\_plain/normal.xdmf_,\n",
    "- _meshes/four\\_spheres\\_csf\\_1\\_mm\\_plain/normal.h5_,\n",
    "- _meshes/four\\_spheres\\_csf\\_1\\_mm\\_plain/normal\\_boundaries.xdmf_,\n",
    "- _meshes/four\\_spheres\\_csf\\_1\\_mm\\_plain/normal\\_boundaries.h5_,\n",
    "- _meshes/four\\_spheres\\_csf\\_1\\_mm\\_plain/normal\\_subdomains.xdmf_, and\n",
    "- _meshes/four\\_spheres\\_csf\\_1\\_mm\\_plain/normal\\_subdomains.h5_\n",
    "\n",
    "(_\\*.xdmf_ files are headers for _\\*.h5_ files).  The files are derived from _meshes/four\\_spheres\\_csf\\_1\\_mm\\_plain/normal.msh_ mesh saved in _gmsh_ format, which is created from blueprint in the _meshes/four\\_spheres\\_csf\\_1\\_mm\\_plain/normal.geo_.  The blueprint itself is derived from a template _four\\_spheres\\_csf\\_1\\_mm\\_plain.geo.template_.\n",
    "\n",
    "The template may also be used to derive meshes of other resolutions:\n",
    "- _meshes/four\\_spheres\\_csf\\_1\\_mm\\_plain/finest.xdmf_,\n",
    "- _meshes/four\\_spheres\\_csf\\_1\\_mm\\_plain/finer.xdmf_,\n",
    "- _meshes/four\\_spheres\\_csf\\_1\\_mm\\_plain/fine.xdmf_,\n",
    "- _meshes/four\\_spheres\\_csf\\_1\\_mm\\_plain/coarse.xdmf_,\n",
    "- _meshes/four\\_spheres\\_csf\\_1\\_mm\\_plain/coarser.xdmf_, and\n",
    "- _meshes/four\\_spheres\\_csf\\_1\\_mm\\_plain/coarsest.xdmf_,\n",
    "\n",
    "For four sphere geometry there are also templates:\n",
    "- _four\\_spheres\\_csf\\_1\\_mm\\_composite.geo.template_ (with more complex mesh structure),\n",
    "- _four\\_spheres\\_csf\\_1\\_mm\\_separate\\_cortex\\_composite.geo.template_ (with more complex mesh structure and cortex defined as a separate volume), and\n",
    "- _four\\_spheres\\_csf\\_3\\_mm\\_plain.geo.template_ (with thicker layer of cerebrospinal fluid)."
   ]
  },
  {
   "cell_type": "markdown",
   "metadata": {},
   "source": [
    "### Model properties\n",
    "\n",
    "For every mesh additional information is necessary, like conductivity of its compartments.  Such information is stored in the following files (appropriate for the tutorial marked in bold) in the _extras/FEM/model\\_properties_ directory:\n",
    "- _circular\\_slice.ini_,\n",
    "- _single\\_sphere.ini_,\n",
    "- **_four\\_spheres\\_csf\\_1\\_mm.ini_**,\n",
    "- _four\\_spheres\\_csf\\_1\\_mm\\_separate\\_cortex.ini_, and\n",
    "- _four\\_spheres\\_csf\\_3\\_mm.ini_.\n",
    "\n",
    "\n",
    "Format of such file is:\n",
    "\n",
    "    [<compartment name>]\n",
    "    volume = <volume number>\n",
    "    conductivity = <conductivity in SI units>\n",
    "    \n",
    "for a compartment and:\n",
    "\n",
    "    [<surface name>]\n",
    "    surface = <surface number>\n",
    "    \n",
    "for a boundary.  Additional information may be provided, like radius, thickness, or conductivity associated with external surface for subtraction method."
   ]
  },
  {
   "cell_type": "markdown",
   "metadata": {},
   "source": [
    "### electrodes\n",
    "\n",
    "In the _extras/FEM/electrode\\_locations_ you can find examplary positions of electrodes in appropriate sections of INI files:\n",
    "\n",
    "    [<electrode name>]\n",
    "    x = <X coordinate in meters>\n",
    "    y = <Y coordinate in meters>\n",
    "    z = <Z coordinate in meters>"
   ]
  },
  {
   "cell_type": "markdown",
   "metadata": {},
   "source": [
    "# Preprocessing\n",
    "\n",
    "Lets define positions of three point electrodes:\n",
    "\n",
    "    [first]\n",
    "    x = 0\n",
    "    y = 0\n",
    "    z = 0.0785\n",
    "    \n",
    "    [second]\n",
    "    x = 0.01\n",
    "    y = 0\n",
    "    z = 0.07\n",
    "    \n",
    "    [third]\n",
    "    x = 0.01\n",
    "    y = 0.01\n",
    "    z = 0.07\n",
    "\n",
    "Write the positions as _extras/FEM/electrode\\_locations/tutorial/four\\_spheres.ini_.\n",
    "\n",
    "\n",
    "For every electrode solve for the leadfield correction:\n",
    "\n",
    "    cd extras\n",
    "    python paper_solve_sphere_on_plate.py \\\n",
    "      --mesh FEM/meshes/meshes/four_spheres_csf_1_mm_plain/normal.xdmf \\\n",
    "      --degree 1 \\\n",
    "      --config FEM/model_properties/four_spheres_csf_1_mm.ini \\\n",
    "      --grounded-plate-edge-z -0.088 \\\n",
    "      --electrodes FEM/electrode_locations/tutorial/four_spheres.ini \\\n",
    "      --name first \\\n",
    "      --output FEM/solutions/tutorial/four_spheres/first.ini\n",
    "    python paper_solve_sphere_on_plate.py \\\n",
    "      --mesh FEM/meshes/meshes/four_spheres_csf_1_mm_plain/normal.xdmf \\\n",
    "      --degree 1 \\\n",
    "      --config FEM/model_properties/four_spheres_csf_1_mm.ini \\\n",
    "      --grounded-plate-edge-z -0.088 \\\n",
    "      --electrodes FEM/electrode_locations/tutorial/four_spheres.ini \\\n",
    "      --name second \\\n",
    "      --output FEM/solutions/tutorial/four_spheres/second.ini\n",
    "    python paper_solve_sphere_on_plate.py \\\n",
    "      --mesh FEM/meshes/meshes/four_spheres_csf_1_mm_plain/normal.xdmf \\\n",
    "      --degree 1 \\\n",
    "      --config FEM/model_properties/four_spheres_csf_1_mm.ini \\\n",
    "      --grounded-plate-edge-z -0.088 \\\n",
    "      --electrodes FEM/electrode_locations/tutorial/four_spheres.ini \\\n",
    "      --name third \\\n",
    "      --output FEM/solutions/tutorial/four_spheres/third.ini\n",
    "\n",
    "> Note, that for spherical geometries a dedicated tool\n",
    "> `paper_solve_sphere_on_plate.py` is used, with an\n",
    "> additional parameter `--grounded-plate-edge-z`.\n",
    "\n",
    "| Parameter  | Description  |\n",
    "|:------------|:--------------|\n",
    "| `--mesh`   | FEM mesh |\n",
    "| `--degree` | degree of FEM elements |\n",
    "| `--config` | physical model configuration (conductivity of subdomains etc.) |\n",
    "| `--grounded-plate-edge-z` | Z-coordinate of the edge of the grounded plate |\n",
    "| `--electrodes` | definition of electrode positions |\n",
    "| `--name` | name of the electrode for which leadfield correction is to be calculated |\n",
    "| `--output` | _\\*.ini_ file for solution metadata (path to the file with the calculated function is the same up to the _\\*.h5_ extension) |"
   ]
  },
  {
   "cell_type": "markdown",
   "metadata": {},
   "source": [
    "Sample the solution on NxNxN grid, where `N = 2**K + 1`:\n",
    "\n",
    "    mkdir -p FEM/solutions/tutorial/four_spheres/sampled/9/\n",
    "    python paper_sample_spherical_solution.py \\\n",
    "      -k 9 \\\n",
    "      --fill 0 \\\n",
    "      --sampling-radius 0.079 \\\n",
    "      --config FEM/solutions/tutorial/four_spheres/first.ini \\\n",
    "      --output FEM/solutions/tutorial/four_spheres/sampled/9/first.npz\n",
    "    python paper_sample_spherical_solution.py \\\n",
    "      -k 9 \\\n",
    "      --fill 0 \\\n",
    "      --sampling-radius 0.079 \\\n",
    "      --config FEM/solutions/tutorial/four_spheres/second.ini \\\n",
    "      --output FEM/solutions/tutorial/four_spheres/sampled/9/second.npz\n",
    "    python paper_sample_spherical_solution.py \\\n",
    "      -k 9 \\\n",
    "      --fill 0 \\\n",
    "      --sampling-radius 0.079 \\\n",
    "      --config FEM/solutions/tutorial/four_spheres/third.ini \\\n",
    "      --output FEM/solutions/tutorial/four_spheres/sampled/9/third.npz\n",
    "\n",
    "It may take several hours.\n",
    "\n",
    "> Note, that for spherical geometries a dedicated tool\n",
    "> `paper_sample_spherical_solution.py` is used.\n",
    "\n",
    "| Parameter  | Description  |\n",
    "|:------------|:--------------|\n",
    "| `-k`   | binary logarithm of sample number in each dimansion (which is `2**k + 1`) |\n",
    "| `--fill` | fill value for points where solution cannot be sampled |\n",
    "| `--sampling-radius` | radius of the sampled sphere |\n",
    "| `--config` | the solution metadata |\n",
    "| `--output` | file for the sampled solution |"
   ]
  },
  {
   "cell_type": "markdown",
   "metadata": {},
   "source": [
    "# Kernel construction\n",
    "\n",
    "## Electrode object\n",
    "\n",
    "An electrode object contains information about electrode spatial location (`.x`, `.y` and `.z` attribute), which is an absolute minimum to be used by kESI (in this case: kCSD with known base function in potential space).  It may also provide additional information about:\n",
    "- base leadfield (`.base_potential()` method) which enable kCSD for arbitrary base function in CSD space, or\n",
    "- leadfield correction (`.correction_potential()` method) which enable kESI for setups violating kCSD assumptions,\n",
    "- base conductivity (`.base_conductivity` attribute) assumed when calculating the leadfield correction."
   ]
  },
  {
   "cell_type": "code",
   "execution_count": null,
   "metadata": {},
   "outputs": [],
   "source": [
    "import numpy as np\n",
    "\n",
    "class Electrode(object):\n",
    "    def __init__(self, filename, decimals_tolerance=None, dx=0):\n",
    "        \"\"\"\n",
    "        Parameters\n",
    "        ----------\n",
    "        \n",
    "        filename : str\n",
    "            Path to the sampled correction potential.\n",
    "            \n",
    "        decimals_tolerance : int\n",
    "            Precision of coordinate comparison\n",
    "            in the `.correction_potential()` method.\n",
    "            \n",
    "        dx : float\n",
    "            Integration step used to calculate a regularization\n",
    "            parameter of the `.base_potential()` method.\n",
    "        \"\"\"\n",
    "        self.filename = filename\n",
    "        self.decimals_tolerance = decimals_tolerance\n",
    "        self.dx = dx\n",
    "        with np.load(filename) as fh:\n",
    "            self._X = self.round(fh['X'])\n",
    "            self._Y = self.round(fh['Y'])\n",
    "            self._Z = self.round(fh['Z'])\n",
    "            self.x, self.y, self.z = fh['LOCATION']\n",
    "            self.base_conductivity = fh['BASE_CONDUCTIVITY']\n",
    "\n",
    "    @property\n",
    "    def _epsilon(self):\n",
    "        \"\"\"\n",
    "        Regularization parameter of the `.base_potential()` method.\n",
    "        \n",
    "        Note\n",
    "        ----\n",
    "        \n",
    "        The 0.15 factor choice has been based on a toy numerical experiment.\n",
    "        Further, more rigorous experiments are definitely recommended.\n",
    "        \"\"\"\n",
    "        return 0.15 * self.dx\n",
    "    \n",
    "    def round(self, A):\n",
    "        if self.decimals_tolerance is None:\n",
    "            return A\n",
    "        return np.round(A, decimals=self.decimals_tolerance)\n",
    "\n",
    "    def correction_potential(self, X, Y, Z):\n",
    "        \"\"\"\n",
    "        Parameters\n",
    "        ----------\n",
    "        X, Y, Z : np.array\n",
    "            Coordinate matrices with matrix indexing.\n",
    "            Coordinates are expected to be - respectively -\n",
    "            from `._X`, `._Y` and `._Z` attributes.\n",
    "            May be obtained with\n",
    "            `X, Y, Z = np.meshgrid(..., indexing='ij')`.\n",
    "        \"\"\"\n",
    "        _X, IDX_X, _ = np.intersect1d(self._X, self.round(X[:, 0, 0]), return_indices=True)\n",
    "        assert len(_X) == np.shape(X)[0]\n",
    "        _Y, IDX_Y, _ = np.intersect1d(self._Y, self.round(Y[0, :, 0]), return_indices=True)\n",
    "        assert len(_Y) == np.shape(Y)[1]\n",
    "        _Z, IDX_Z, _ = np.intersect1d(self._Z, self.round(Z[0, 0, :]), return_indices=True)\n",
    "        assert len(_Z) == np.shape(Z)[2]\n",
    "\n",
    "        with np.load(self.filename) as fh:\n",
    "            return fh['CORRECTION_POTENTIAL'][np.ix_(IDX_X, IDX_Y, IDX_Z)]\n",
    "\n",
    "    def base_potential(self, X, Y, Z):\n",
    "        return (0.25 / (np.pi * self.base_conductivity)\n",
    "                / (self._epsilon\n",
    "                   + np.sqrt(np.square(X - self.x)\n",
    "                             + np.square(Y - self.y)\n",
    "                             + np.square(Z - self.z))))"
   ]
  },
  {
   "cell_type": "code",
   "execution_count": null,
   "metadata": {},
   "outputs": [],
   "source": [
    "electrodes = [Electrode(f'FEM/solutions/tutorial/four_spheres/sampled/9/{name}.npz')\n",
    "              for name in ['first', 'second', 'third']]"
   ]
  },
  {
   "cell_type": "markdown",
   "metadata": {},
   "source": [
    "## FRR: Fast Reciprocal Reconstructor \n",
    "\n",
    "The `_fast_reciprocal_reconstructor` experimental module contains tools which allow for fast construction of (cross)kernels.  They use discrete for high throughput integration.\n",
    "\n",
    "### Convolver object\n",
    "\n",
    "The convolver is the engine of the FRR tools.  It is used to:\n",
    "- integrate leadfields weighted by a CSD profile,\n",
    "- obtain CSD profile of a mixture of base functions.\n",
    "\n",
    "The convolver operates on three regular 3D grids of coordinates:\n",
    "- _POT_ grid used for leadfield (_reciprocal potential_) integration,\n",
    "- _CSD_ grid used for CSD profile calculation,\n",
    "- _SRC_ grid used for distributing of base function centroids.\n",
    "\n",
    "The _SRC_ grid is an intersection (in set arithmetic sense) of the _POT_ and the _CSD_ grids, thus they define the convolver unequivocally."
   ]
  },
  {
   "cell_type": "code",
   "execution_count": null,
   "metadata": {},
   "outputs": [],
   "source": [
    "from _fast_reciprocal_reconstructor import ckESI_convolver"
   ]
  },
  {
   "cell_type": "code",
   "execution_count": null,
   "metadata": {},
   "outputs": [],
   "source": [
    "_X = electrodes[0]._X\n",
    "_Y = electrodes[0]._Y\n",
    "_Z = electrodes[0]._Z\n",
    "\n",
    "\n",
    "_pot_mesh = [_X, _Y, _Z]\n",
    "_csd_mesh = [_X, _Y, _Z[_Z >= 0]]\n",
    "\n",
    "convolver = ckESI_convolver(_pot_mesh, _csd_mesh)"
   ]
  },
  {
   "cell_type": "code",
   "execution_count": null,
   "metadata": {},
   "outputs": [],
   "source": [
    "print(convolver.csd_shape)"
   ]
  },
  {
   "cell_type": "code",
   "execution_count": null,
   "metadata": {},
   "outputs": [],
   "source": [
    "for name in ['POT', 'CSD', 'SRC']:\n",
    "    print(f'{name} mesh')\n",
    "    print('  shape:', convolver.shape(name))\n",
    "    print('  spacing:', convolver.ds(name))"
   ]
  },
  {
   "cell_type": "markdown",
   "metadata": {},
   "source": [
    "Open 3D meshgrids may be accessed as `.{NAME}_MESH` attributes, where `{NAME}` is the name of the mesh.\n",
    "Components of each meshgrid may be accessed as `.{NAME}_{C}` attributes, where `{C}` is the name of the coordinate."
   ]
  },
  {
   "cell_type": "markdown",
   "metadata": {},
   "source": [
    "### Model source\n",
    "\n",
    "While FRR tools operate on base function profiles defined as callables, we can use convenience kCSD base function objects as model bases (bases which centroid is `(0, 0, 0)`).\n",
    "As convolver will use the Romberg method for integration, the size of the CSD profile is limited by the K parameter of the method."
   ]
  },
  {
   "cell_type": "code",
   "execution_count": null,
   "metadata": {},
   "outputs": [],
   "source": [
    "from _common_new import SphericalSplineSourceKCSD, GaussianSourceKCSD3D\n",
    "\n",
    "ROMBERG_K = 6\n",
    "SRC_R_MAX = 2 ** (ROMBERG_K - 1) * min(convolver.ds('POT'))\n",
    "BASE_CONDUCTIVITY = electrodes[0].base_conductivity\n",
    "\n",
    "spline_nodes = [SRC_R_MAX / 3, SRC_R_MAX]\n",
    "spline_polynomials = [[1],\n",
    "                      [0,\n",
    "                       6.75 / SRC_R_MAX,\n",
    "                       -13.5 / SRC_R_MAX ** 2,\n",
    "                       6.75 / SRC_R_MAX ** 3]]\n",
    "model_src = SphericalSplineSourceKCSD(0, 0, 0,\n",
    "                                      spline_nodes,\n",
    "                                      spline_polynomials,\n",
    "                                      BASE_CONDUCTIVITY)\n",
    "print(SRC_R_MAX)"
   ]
  },
  {
   "cell_type": "markdown",
   "metadata": {},
   "source": [
    "### Convolver interface\n",
    "\n",
    "The convolver interface binds the convolver to:\n",
    "- a CSD profile,\n",
    "- weights of a quadrature of equally-spaced nodes,\n",
    "- boolean mask of nodes of the _SRC_ mesh with centroids of the base functions.\n",
    "\n",
    "When analytical solution of the kCSD forward problem is used coupled with numeric integration of leadfield correction, it is advised not to put centroids near the boundary of the _SRC_ grid."
   ]
  },
  {
   "cell_type": "code",
   "execution_count": null,
   "metadata": {},
   "outputs": [],
   "source": [
    "from _fast_reciprocal_reconstructor import ConvolverInterfaceIndexed\n",
    "from scipy.integrate import romb\n",
    "\n",
    "ROMBERG_N = 2 ** ROMBERG_K + 1\n",
    "ROMBERG_WEIGHTS = romb(np.identity(ROMBERG_N)) * 2 ** -ROMBERG_K\n",
    "BRAIN_RADIUS = 0.079\n",
    "\n",
    "SRC_IDX = ((convolver.SRC_Z > 0)\n",
    "           & (np.sqrt(np.square(convolver.SRC_X)\n",
    "                      + np.square(convolver.SRC_Y)\n",
    "                      + np.square(convolver.SRC_Z)) < BRAIN_RADIUS - SRC_R_MAX))"
   ]
  },
  {
   "cell_type": "code",
   "execution_count": null,
   "metadata": {},
   "outputs": [],
   "source": [
    "print(SRC_IDX.sum())"
   ]
  },
  {
   "cell_type": "code",
   "execution_count": null,
   "metadata": {},
   "outputs": [],
   "source": [
    "convolver_interface = ConvolverInterfaceIndexed(convolver,\n",
    "                                                model_src.csd,\n",
    "                                                ROMBERG_WEIGHTS,\n",
    "                                                SRC_IDX)"
   ]
  },
  {
   "cell_type": "markdown",
   "metadata": {},
   "source": [
    "### Kernel constructor and cross-kernel constructor\n",
    "\n",
    "The kernel constructor is an object which is a collection of callables (methods) facilitating construction of base function images at electrodes (_PHI_ matrix) and the kernel matrix.  The cross-kernel constructor is a callable which - based on the _PHI_ matrix and boolean mask of the _CSD_ grid - constructs the cross-kernel."
   ]
  },
  {
   "cell_type": "code",
   "execution_count": null,
   "metadata": {},
   "outputs": [],
   "source": [
    "from _fast_reciprocal_reconstructor import ckESI_kernel_constructor, ckESI_crosskernel_constructor"
   ]
  },
  {
   "cell_type": "code",
   "execution_count": null,
   "metadata": {},
   "outputs": [],
   "source": [
    "kernel_constructor = ckESI_kernel_constructor()"
   ]
  },
  {
   "cell_type": "code",
   "execution_count": null,
   "metadata": {},
   "outputs": [],
   "source": [
    "CSD_IDX = np.ones(convolver.shape('CSD'),\n",
    "                  dtype=bool)"
   ]
  },
  {
   "cell_type": "code",
   "execution_count": null,
   "metadata": {},
   "outputs": [],
   "source": [
    "kernel_constructor.create_crosskernel = ckESI_crosskernel_constructor(convolver_interface,\n",
    "                                                                      CSD_IDX)"
   ]
  },
  {
   "cell_type": "markdown",
   "metadata": {},
   "source": [
    "As all elements of `CSD_IDX` are true, conversion of the reconstructed CSD vector is as simple as its rearrangement to match the _CSD_ grid of `convolver`.  We declare an auxilary `to_3D()` function for that purpose."
   ]
  },
  {
   "cell_type": "code",
   "execution_count": null,
   "metadata": {},
   "outputs": [],
   "source": [
    "def to_3D(CSD):\n",
    "    return CSD.reshape(convolver.shape('CSD'))"
   ]
  },
  {
   "cell_type": "markdown",
   "metadata": {},
   "source": [
    "### Potential At Electrode: analytical solution of the kCSD forward problem"
   ]
  },
  {
   "cell_type": "code",
   "execution_count": null,
   "metadata": {},
   "outputs": [],
   "source": [
    "from _fast_reciprocal_reconstructor import PAE_kCSD_Analytical"
   ]
  },
  {
   "cell_type": "code",
   "execution_count": null,
   "metadata": {},
   "outputs": [],
   "source": [
    "pae_kcsd_a = PAE_kCSD_Analytical(convolver_interface,\n",
    "                                 potential=model_src.potential)"
   ]
  },
  {
   "cell_type": "code",
   "execution_count": null,
   "metadata": {},
   "outputs": [],
   "source": [
    "%%time\n",
    "PHI_KCSD_ANALYTICAL = kernel_constructor.create_base_images_at_electrodes(electrodes,\n",
    "                                                                          pae_kcsd_a)"
   ]
  },
  {
   "cell_type": "code",
   "execution_count": null,
   "metadata": {},
   "outputs": [],
   "source": [
    "KERNEL_KCSD_ANALYTICAL = kernel_constructor.create_kernel(PHI_KCSD_ANALYTICAL)"
   ]
  },
  {
   "cell_type": "code",
   "execution_count": null,
   "metadata": {},
   "outputs": [],
   "source": [
    "%%time\n",
    "CROSSKERNEL_KCSD_ANALYTICAL = kernel_constructor.create_crosskernel(PHI_KCSD_ANALYTICAL)"
   ]
  },
  {
   "cell_type": "markdown",
   "metadata": {},
   "source": [
    "### Potential At Electrode: numerical solution of the kCSD forward problem"
   ]
  },
  {
   "cell_type": "code",
   "execution_count": null,
   "metadata": {},
   "outputs": [],
   "source": [
    "from _fast_reciprocal_reconstructor import PAE_kCSD_Numerical"
   ]
  },
  {
   "cell_type": "code",
   "execution_count": null,
   "metadata": {},
   "outputs": [],
   "source": [
    "pae_kcsd_n = PAE_kCSD_Numerical(convolver_interface)"
   ]
  },
  {
   "cell_type": "code",
   "execution_count": null,
   "metadata": {},
   "outputs": [],
   "source": [
    "%%time\n",
    "PHI_KCSD_NUMERICAL = kernel_constructor.create_base_images_at_electrodes(electrodes,\n",
    "                                                                         pae_kcsd_n)"
   ]
  },
  {
   "cell_type": "code",
   "execution_count": null,
   "metadata": {},
   "outputs": [],
   "source": [
    "KERNEL_KCSD_NUMERICAL = kernel_constructor.create_kernel(PHI_KCSD_NUMERICAL)"
   ]
  },
  {
   "cell_type": "code",
   "execution_count": null,
   "metadata": {},
   "outputs": [],
   "source": [
    "%%time\n",
    "CROSSKERNEL_KCSD_NUMERICAL = kernel_constructor.create_crosskernel(PHI_KCSD_NUMERICAL)"
   ]
  },
  {
   "cell_type": "markdown",
   "metadata": {},
   "source": [
    "### Potential At Electrode: kESI corrected analytical solution of the kCSD forward problem"
   ]
  },
  {
   "cell_type": "code",
   "execution_count": null,
   "metadata": {},
   "outputs": [],
   "source": [
    "from _fast_reciprocal_reconstructor import PAE_kESI_Analytical"
   ]
  },
  {
   "cell_type": "code",
   "execution_count": null,
   "metadata": {},
   "outputs": [],
   "source": [
    "pae_kesi_a = PAE_kESI_Analytical(convolver_interface,\n",
    "                                 potential=model_src.potential)"
   ]
  },
  {
   "cell_type": "code",
   "execution_count": null,
   "metadata": {},
   "outputs": [],
   "source": [
    "%%time\n",
    "PHI_KESI_ANALYTICAL = kernel_constructor.create_base_images_at_electrodes(electrodes,\n",
    "                                                                          pae_kesi_a)"
   ]
  },
  {
   "cell_type": "code",
   "execution_count": null,
   "metadata": {},
   "outputs": [],
   "source": [
    "KERNEL_KESI_ANALYTICAL = kernel_constructor.create_kernel(PHI_KESI_ANALYTICAL)"
   ]
  },
  {
   "cell_type": "code",
   "execution_count": null,
   "metadata": {},
   "outputs": [],
   "source": [
    "%%time\n",
    "CROSSKERNEL_KESI_ANALYTICAL = kernel_constructor.create_crosskernel(PHI_KESI_ANALYTICAL)"
   ]
  },
  {
   "cell_type": "markdown",
   "metadata": {},
   "source": [
    "### Potential At Electrode: kESI corrected numerical solution of the kCSD forward problem"
   ]
  },
  {
   "cell_type": "code",
   "execution_count": null,
   "metadata": {},
   "outputs": [],
   "source": [
    "from _fast_reciprocal_reconstructor import PAE_kESI_Numerical"
   ]
  },
  {
   "cell_type": "code",
   "execution_count": null,
   "metadata": {},
   "outputs": [],
   "source": [
    "pae_kesi_n = PAE_kESI_Numerical(convolver_interface)"
   ]
  },
  {
   "cell_type": "code",
   "execution_count": null,
   "metadata": {},
   "outputs": [],
   "source": [
    "%%time\n",
    "PHI_KESI_NUMERICAL = kernel_constructor.create_base_images_at_electrodes(electrodes,\n",
    "                                                                         pae_kesi_n)"
   ]
  },
  {
   "cell_type": "code",
   "execution_count": null,
   "metadata": {},
   "outputs": [],
   "source": [
    "KERNEL_KESI_NUMERICAL = kernel_constructor.create_kernel(PHI_KESI_NUMERICAL)"
   ]
  },
  {
   "cell_type": "code",
   "execution_count": null,
   "metadata": {},
   "outputs": [],
   "source": [
    "%%time\n",
    "CROSSKERNEL_KESI_NUMERICAL = kernel_constructor.create_crosskernel(PHI_KESI_NUMERICAL)"
   ]
  },
  {
   "cell_type": "markdown",
   "metadata": {},
   "source": [
    "# Reconstructor"
   ]
  },
  {
   "cell_type": "code",
   "execution_count": null,
   "metadata": {},
   "outputs": [],
   "source": [
    "from kesi._verbose import _CrossKernelReconstructor as Reconstructor\n",
    "from kesi._engine import _LinearKernelSolver as KernelSolver"
   ]
  },
  {
   "cell_type": "code",
   "execution_count": null,
   "metadata": {},
   "outputs": [],
   "source": [
    "reconstructor_kcsd_a = Reconstructor(KernelSolver(KERNEL_KCSD_ANALYTICAL),\n",
    "                                     CROSSKERNEL_KCSD_ANALYTICAL)"
   ]
  },
  {
   "cell_type": "code",
   "execution_count": null,
   "metadata": {},
   "outputs": [],
   "source": [
    "reconstructor_kesi_a = Reconstructor(KernelSolver(KERNEL_KESI_ANALYTICAL),\n",
    "                                     CROSSKERNEL_KESI_ANALYTICAL)"
   ]
  },
  {
   "cell_type": "code",
   "execution_count": null,
   "metadata": {},
   "outputs": [],
   "source": [
    "reconstructor_kcsd_n = Reconstructor(KernelSolver(KERNEL_KCSD_NUMERICAL),\n",
    "                                     CROSSKERNEL_KCSD_NUMERICAL)"
   ]
  },
  {
   "cell_type": "code",
   "execution_count": null,
   "metadata": {},
   "outputs": [],
   "source": [
    "reconstructor_kesi_n = Reconstructor(KernelSolver(KERNEL_KESI_NUMERICAL),\n",
    "                                     CROSSKERNEL_KESI_NUMERICAL)"
   ]
  },
  {
   "cell_type": "markdown",
   "metadata": {},
   "source": [
    "# FEM forward modelling"
   ]
  },
  {
   "cell_type": "code",
   "execution_count": null,
   "metadata": {},
   "outputs": [],
   "source": [
    "import configparser\n",
    "import dolfin\n",
    "import scipy.interpolate as si\n",
    "\n",
    "import FEM.fem_common as fc"
   ]
  },
  {
   "cell_type": "markdown",
   "metadata": {},
   "source": [
    "We define a FEM forward model. It is a callable, which accepts CSD profile as a callable compatible with `scipy.interpolate.RegularGridInterpolator`.  Note that the model uses a different Dirichlet boundary condition than a forward model for slice geometry."
   ]
  },
  {
   "cell_type": "code",
   "execution_count": null,
   "metadata": {},
   "outputs": [],
   "source": [
    "class ForwardModel(object):\n",
    "    GROUNDED_PLATE_AT = -0.088\n",
    "\n",
    "    def __init__(self, config):\n",
    "        metadata = fc.MetadataReader(config)\n",
    "        self.fm = fc.FunctionManager(metadata.getpath('fem', 'mesh'),\n",
    "                                     metadata.getint('fem', 'degree'),\n",
    "                                     metadata.get('fem', 'element_type'))\n",
    "        self.config = configparser.ConfigParser()\n",
    "        self.config.read(metadata.getpath('model', 'config'))\n",
    "\n",
    "        self.V = self.fm.function_space\n",
    "        mesh = self.fm.mesh\n",
    "\n",
    "        n = self.V.dim()\n",
    "        d = mesh.geometry().dim()\n",
    "\n",
    "        self.dof_coords = self.V.tabulate_dof_coordinates()\n",
    "        self.dof_coords.resize((n, d))\n",
    "        \n",
    "        self.csd_f = self.fm.function()\n",
    "        \n",
    "        self.subdomains = self.fm.load_subdomains()\n",
    "        self.dx = dolfin.Measure(\"dx\")(subdomain_data=self.subdomains)            \n",
    "\n",
    "    @property\n",
    "    def CONDUCTIVITY(self):\n",
    "        for section in self.config.sections():\n",
    "            if self._is_conductive_volume(section):\n",
    "                yield (self.config.getint(section, 'volume'),\n",
    "                       self.config.getfloat(section, 'conductivity'))\n",
    "\n",
    "    def _is_conductive_volume(self, section):\n",
    "        return (self.config.has_option(section, 'volume')\n",
    "                and self.config.has_option(section, 'conductivity')) \n",
    "        \n",
    "    def __call__(self, csd_interpolator):\n",
    "        self.csd_f.vector()[:] = csd_interpolator(self.dof_coords)\n",
    "        \n",
    "        dirichlet_bc_gt = dolfin.DirichletBC(self.V,\n",
    "                                     dolfin.Constant(0),\n",
    "                                     (lambda x, on_boundary:\n",
    "                                      on_boundary and x[2] <= self.GROUNDED_PLATE_AT))\n",
    "        test = self.fm.test_function()\n",
    "        trial = self.fm.trial_function()\n",
    "        potential = self.fm.function()\n",
    "        \n",
    "        \n",
    "        dx = self.dx\n",
    "        a = sum(dolfin.Constant(c)\n",
    "                * dolfin.inner(dolfin.grad(trial),\n",
    "                               dolfin.grad(test))\n",
    "                * dx(i)\n",
    "                for i, c\n",
    "                in self.CONDUCTIVITY)\n",
    "        L = self.csd_f * test * dx\n",
    "        \n",
    "        b = dolfin.assemble(L)\n",
    "        A = dolfin.assemble(a)\n",
    "        dirichlet_bc_gt.apply(A, b)\n",
    "        \n",
    "        solver = dolfin.KrylovSolver(\"cg\", \"ilu\")\n",
    "        solver.parameters[\"maximum_iterations\"] = 10000\n",
    "        solver.parameters[\"absolute_tolerance\"] = 1E-8\n",
    "        # solver.parameters[\"monitor_convergence\"] = True  # Goes to Jupyter server output stream\n",
    "        solver.solve(A, potential.vector(), b)\n",
    "        \n",
    "        return potential"
   ]
  },
  {
   "cell_type": "code",
   "execution_count": null,
   "metadata": {},
   "outputs": [],
   "source": [
    "%time fem = ForwardModel('FEM/solutions/tutorial/four_spheres/first.ini')"
   ]
  },
  {
   "cell_type": "markdown",
   "metadata": {},
   "source": [
    "To test, whether the forward model is compatible with kESI:\n",
    "\n",
    "1. Take an eigenvector of kESI.\n",
    "2. Use kESI to reconstruct its CSD profile (~eigensource).\n",
    "3. Use the forvard model to calculate potential at electrodes for the reconstructed CSD.\n",
    "4. Plot the measured potentials in eigenvector base.\n",
    "\n",
    "If the backward and forward models are compatible, the measured potential should be close to the original eigenvector (dot-product close to 1) and far from the others (dot-product close to 0)."
   ]
  },
  {
   "cell_type": "code",
   "execution_count": null,
   "metadata": {},
   "outputs": [],
   "source": [
    "import matplotlib.pyplot as plt\n",
    "import cbf\n",
    "\n",
    "def plot_projection(POTENTIAL, BASE):\n",
    "    plt.stem(np.matmul(POTENTIAL, BASE))\n",
    "    plt.axhline(0, ls=':', color=cbf.BLACK)\n",
    "    plt.axhline(1, ls=':', color=cbf.BLACK)"
   ]
  },
  {
   "cell_type": "code",
   "execution_count": null,
   "metadata": {},
   "outputs": [],
   "source": [
    "%%time\n",
    "_EIGENVALUES, _EIGENVECTORS = np.linalg.eigh(KERNEL_KESI_ANALYTICAL)\n",
    "_CSD = to_3D(reconstructor_kesi_a(_EIGENVECTORS[:, 1]))\n",
    "_csd = si.RegularGridInterpolator(\n",
    "                                  [getattr(convolver, f'CSD_{x}').flatten()\n",
    "                                   for x in 'XYZ'],\n",
    "                                  _CSD,\n",
    "                                  bounds_error=False,\n",
    "                                  fill_value=0)\n",
    "_v = fem(_csd)\n",
    "plot_projection([_v(_e.x, _e.y, _e.z) for _e in electrodes],\n",
    "                _EIGENVECTORS)"
   ]
  },
  {
   "cell_type": "markdown",
   "metadata": {},
   "source": [
    "# Reconstruction"
   ]
  },
  {
   "cell_type": "markdown",
   "metadata": {},
   "source": [
    "## Visualisation\n",
    "\n",
    "For volumetric data visualisation we define an auxilary functions `crude_plot_data()` and `plot_csd_reconstruction()`."
   ]
  },
  {
   "cell_type": "code",
   "execution_count": null,
   "metadata": {},
   "outputs": [],
   "source": [
    "def crude_plot_data(DATA,\n",
    "                    x=None,\n",
    "                    y=None,\n",
    "                    z=None,\n",
    "                    grid=None,\n",
    "                    dpi=30,\n",
    "                    cmap=cbf.bwr,\n",
    "                    title=None,\n",
    "                    amp=None):\n",
    "    wx, wy, wz = DATA.shape\n",
    "    \n",
    "    if grid is None:\n",
    "        ix, iy, iz = [w // 2 if a is None else a\n",
    "                      for a, w in zip([x, y, z],\n",
    "                                      [wx, wy, wz])]\n",
    "        x, y, z = ix, iy, iz\n",
    "        \n",
    "    else:\n",
    "        x, y, z = [g.mean() if a is None else a\n",
    "                   for a, g in zip([x, y, z],\n",
    "                                   grid)]\n",
    "        ix, iy, iz = [np.searchsorted(g, a)\n",
    "                      for a, g in zip([x, y, z],\n",
    "                                   grid)]\n",
    "\n",
    "    fig = plt.figure(figsize=((wx + wy) / dpi,\n",
    "                              (wz + wy) / dpi))\n",
    "    if title is not None:\n",
    "        fig.suptitle(title)\n",
    "    gs = plt.GridSpec(2, 2,\n",
    "                      figure=fig,\n",
    "                      width_ratios=[wx, wy],\n",
    "                      height_ratios=[wz, wy])\n",
    "\n",
    "    ax_xz = fig.add_subplot(gs[0, 0])\n",
    "    ax_xz.set_aspect('equal')\n",
    "    ax_xz.set_ylabel('Z')\n",
    "    ax_xz.set_xlabel('X')\n",
    "\n",
    "    ax_yx = fig.add_subplot(gs[1, 1])\n",
    "    ax_yx.set_aspect('equal')\n",
    "    ax_yx.set_ylabel('X')\n",
    "    ax_yx.set_xlabel('Y')\n",
    "\n",
    "    ax_yz = fig.add_subplot(gs[0, 1],\n",
    "                            sharey=ax_xz,\n",
    "                            sharex=ax_yx)\n",
    "    ax_yz.set_aspect('equal')\n",
    "\n",
    "    cax = fig.add_subplot(gs[1, 0])\n",
    "    cax.set_visible(False)\n",
    "#     cax.get_xaxis().set_visible(False)\n",
    "#     cax.get_yaxis().set_visible(False)\n",
    "\n",
    "\n",
    "    if amp is None:\n",
    "        amp = abs(DATA).max()\n",
    "\n",
    "    if grid is None:\n",
    "        ax_xz.imshow(DATA[:, iy, :].T,\n",
    "                     vmin=-amp,\n",
    "                     vmax=amp,\n",
    "                     cmap=cmap,\n",
    "                     origin='lower')\n",
    "        ax_yx.imshow(DATA[:, :, iz],\n",
    "                     vmin=-amp,\n",
    "                     vmax=amp,\n",
    "                     cmap=cmap,\n",
    "                     origin='lower')\n",
    "        im = ax_yz.imshow(DATA[ix, :, :].T,\n",
    "                          vmin=-amp,\n",
    "                          vmax=amp,\n",
    "                          cmap=cmap,\n",
    "                          origin='lower')\n",
    "    else:\n",
    "        ax_xz.imshow(DATA[:, iy, :].T,\n",
    "                     vmin=-amp,\n",
    "                     vmax=amp,\n",
    "                     cmap=cmap,\n",
    "                     origin='lower',\n",
    "                     extent=(grid[0].min(), grid[0].max(),\n",
    "                             grid[2].min(), grid[2].max()))\n",
    "        ax_yx.imshow(DATA[:, :, iz],\n",
    "                     vmin=-amp,\n",
    "                     vmax=amp,\n",
    "                     cmap=cmap,\n",
    "                     origin='lower',\n",
    "                     extent=(grid[1].min(), grid[1].max(),\n",
    "                             grid[0].min(), grid[0].max()))\n",
    "        im = ax_yz.imshow(DATA[ix, :, :].T,\n",
    "                          vmin=-amp,\n",
    "                          vmax=amp,\n",
    "                          cmap=cmap,\n",
    "                          origin='lower',\n",
    "                          extent=(grid[1].min(), grid[1].max(),\n",
    "                                  grid[2].min(), grid[2].max()))\n",
    "        \n",
    "    ax_xz.axvline(x, ls=':', color=cbf.BLACK)\n",
    "    ax_xz.axhline(z, ls=':', color=cbf.BLACK)\n",
    "\n",
    "    ax_yx.axvline(y, ls=':', color=cbf.BLACK)\n",
    "    ax_yx.axhline(x, ls=':', color=cbf.BLACK)\n",
    "\n",
    "    ax_yz.axvline(y, ls=':', color=cbf.BLACK)\n",
    "    ax_yz.axhline(z, ls=':', color=cbf.BLACK)\n",
    "    fig.colorbar(im, ax=cax)\n",
    "\n",
    "    return (fig, ((ax_xz, ax_yz),\n",
    "                  (cax, ax_yx)))"
   ]
  },
  {
   "cell_type": "code",
   "execution_count": null,
   "metadata": {},
   "outputs": [],
   "source": [
    "csd_grid = [_x.flatten() for _x in convolver.CSD_MESH]"
   ]
  },
  {
   "cell_type": "code",
   "execution_count": null,
   "metadata": {},
   "outputs": [],
   "source": [
    "def add_spheres(plot, x, y, z,\n",
    "                sphere_radii=[0.079, 0.080, 0.085, 0.090]):\n",
    "    def plot_circle(ax, r):\n",
    "        ax.add_artist(plt.Circle((0, 0), r,\n",
    "                                facecolor='none',\n",
    "                                edgecolor=cbf.BLACK,\n",
    "                                linestyle=':'))\n",
    "\n",
    "    (fig, ((ax_xz, ax_yz),\n",
    "           (cax, ax_yx))) = plot\n",
    "    for r2 in np.square(sphere_radii):\n",
    "        plot_circle(ax_xz, np.sqrt(r2 - np.square(y)))\n",
    "        plot_circle(ax_yz, np.sqrt(r2 - np.square(x)))\n",
    "        plot_circle(ax_yx, np.sqrt(r2 - np.square(z)))\n",
    "\n",
    "def plot_csd_reconstruction(CSD, x, y, z, title=''):\n",
    "    ERROR = CSD - GT_CSD\n",
    "    error_L2 = np.sqrt(np.square(ERROR).sum() / np.square(GT_CSD).sum())\n",
    "    amp = max(abs(CSD).max(),\n",
    "              abs(GT_CSD).max(),\n",
    "              abs(ERROR).max())\n",
    "    \n",
    "    for plot in [crude_plot_data(GT_CSD, title='GT CSD',\n",
    "                                 grid=csd_grid, x=x, y=y, z=z, dpi=35,\n",
    "                                 amp=amp),\n",
    "                 crude_plot_data(CSD, title=f'{title} reconstruction',\n",
    "                                 grid=csd_grid, x=x, y=y, z=z, dpi=35,\n",
    "                                 amp=amp),\n",
    "                 crude_plot_data(ERROR, title=f'{title} error (GT normalized L2 norm: {error_L2:.2g})',\n",
    "                                 grid=csd_grid, x=x, y=y, z=z, dpi=35,\n",
    "                                 amp=amp)]:\n",
    "        add_spheres(plot, x, y, z)"
   ]
  },
  {
   "cell_type": "markdown",
   "metadata": {},
   "source": [
    "## Ground truth CSD and its image at the electrodes\n",
    "\n",
    "Derive GT CSD as an eigensource of analytical kCSD."
   ]
  },
  {
   "cell_type": "code",
   "execution_count": null,
   "metadata": {},
   "outputs": [],
   "source": [
    "%%time\n",
    "EIGENVALUES_KCSD_ANALYTICAL, EIGENVECTORS_KCSD_ANALYTICAL = np.linalg.eigh(KERNEL_KCSD_ANALYTICAL)\n",
    "EIGENVALUES_KCSD_ANALYTICAL, EIGENVECTORS_KCSD_ANALYTICAL = EIGENVALUES_KCSD_ANALYTICAL[::-1], EIGENVECTORS_KCSD_ANALYTICAL[:, ::-1]\n",
    "\n",
    "GT_CSD = to_3D(reconstructor_kcsd_a(EIGENVECTORS_KCSD_ANALYTICAL[:, 0]))"
   ]
  },
  {
   "cell_type": "code",
   "execution_count": null,
   "metadata": {},
   "outputs": [],
   "source": [
    "add_spheres(crude_plot_data(GT_CSD,\n",
    "                            title='GT CSD',\n",
    "                            grid=csd_grid,\n",
    "                            x=0.01,\n",
    "                            y=0,\n",
    "                            z=0.065,\n",
    "                            dpi=70),\n",
    "            x=0.01,\n",
    "            y=0,\n",
    "            z=0.065)"
   ]
  },
  {
   "cell_type": "markdown",
   "metadata": {},
   "source": [
    "Simulate the potential generated by the ground truth CSD profile."
   ]
  },
  {
   "cell_type": "code",
   "execution_count": null,
   "metadata": {},
   "outputs": [],
   "source": [
    "%%time\n",
    "_csd = si.RegularGridInterpolator(csd_grid,\n",
    "                                  GT_CSD,\n",
    "                                  bounds_error=False,\n",
    "                                  fill_value=0)\n",
    "potential = fem(_csd)"
   ]
  },
  {
   "cell_type": "markdown",
   "metadata": {},
   "source": [
    "We probe the potential in the whole region of interest to visualise it."
   ]
  },
  {
   "cell_type": "code",
   "execution_count": null,
   "metadata": {},
   "outputs": [],
   "source": [
    "%%time\n",
    "with np.nditer([convolver.CSD_X[::4, :, :],\n",
    "                convolver.CSD_Y[:, ::4, :],\n",
    "                convolver.CSD_Z[:, :, ::4],\n",
    "                None]) as it:\n",
    "    for _x, _y, _z, _res in it:\n",
    "        try:\n",
    "            _res[...] = potential(_x, _y, _z)\n",
    "        except RuntimeError:\n",
    "            _res[...] = np.nan\n",
    "\n",
    "    V_ROI = np.ma.masked_invalid(it.operands[3])"
   ]
  },
  {
   "cell_type": "code",
   "execution_count": null,
   "metadata": {},
   "outputs": [],
   "source": [
    "add_spheres(crude_plot_data(V_ROI,\n",
    "                            cmap=cbf.PRGn,\n",
    "                            grid=[_x[::4] for _x in csd_grid],\n",
    "                            x=0.01,\n",
    "                            y=0,\n",
    "                            z=0.065,\n",
    "                            dpi=17,\n",
    "                            title='POTENTIAL'),\n",
    "            x=0.01,\n",
    "            y=0,\n",
    "            z=0.065)"
   ]
  },
  {
   "cell_type": "markdown",
   "metadata": {},
   "source": [
    "Probe the potential at electrodes."
   ]
  },
  {
   "cell_type": "code",
   "execution_count": null,
   "metadata": {},
   "outputs": [],
   "source": [
    "GT_V = np.array([potential(_e.x, _e.y, _e.z) for _e in electrodes])"
   ]
  },
  {
   "cell_type": "code",
   "execution_count": null,
   "metadata": {},
   "outputs": [],
   "source": [
    "plot_projection(GT_V, EIGENVECTORS_KCSD_ANALYTICAL)"
   ]
  },
  {
   "cell_type": "markdown",
   "metadata": {},
   "source": [
    "As you see, the forward model is incompatible with kCSD, as:\n",
    "- the original eigenvector is significantly overrepresented in the probed potential,\n",
    "- the other eigenvectors are significant nonzero components of the simulated potential.\n",
    "\n",
    "We can see that it leads to erratic kCSD reconstruction, which is mostly composed of error:"
   ]
  },
  {
   "cell_type": "code",
   "execution_count": null,
   "metadata": {},
   "outputs": [],
   "source": [
    "CSD_KCSD = to_3D(reconstructor_kcsd_a(GT_V))"
   ]
  },
  {
   "cell_type": "code",
   "execution_count": null,
   "metadata": {
    "scrolled": false
   },
   "outputs": [],
   "source": [
    "plot_csd_reconstruction(CSD_KCSD, 0.01, 0, 0.065,\n",
    "                        title='kCSD')"
   ]
  },
  {
   "cell_type": "markdown",
   "metadata": {},
   "source": [
    "Meanwhile the kESI reconstruction matches the ground truth CSD quite well:"
   ]
  },
  {
   "cell_type": "code",
   "execution_count": null,
   "metadata": {},
   "outputs": [],
   "source": [
    "CSD_KESI = to_3D(reconstructor_kesi_a(GT_V))"
   ]
  },
  {
   "cell_type": "code",
   "execution_count": null,
   "metadata": {
    "scrolled": false
   },
   "outputs": [],
   "source": [
    "plot_csd_reconstruction(CSD_KESI, 0.01, 0, 0.065,\n",
    "                        title='kESI')"
   ]
  },
  {
   "cell_type": "markdown",
   "metadata": {},
   "source": [
    "## Noise\n",
    "\n",
    "As no measurement is perfect, we introduce 2% noise to see, how kESI may deal with it:"
   ]
  },
  {
   "cell_type": "code",
   "execution_count": null,
   "metadata": {},
   "outputs": [],
   "source": [
    "np.random.seed(42)\n",
    "NOISE_V = np.random.normal(loc=GT_V, scale=0.02*np.sqrt(np.square(GT_V).mean()))"
   ]
  },
  {
   "cell_type": "code",
   "execution_count": null,
   "metadata": {},
   "outputs": [],
   "source": [
    "CSD_KESI_NOISE = to_3D(reconstructor_kesi_a(NOISE_V))"
   ]
  },
  {
   "cell_type": "code",
   "execution_count": null,
   "metadata": {
    "scrolled": false
   },
   "outputs": [],
   "source": [
    "plot_csd_reconstruction(CSD_KESI_NOISE, 0.01, 0, 0.065,\n",
    "                        title='kESI (noise)')"
   ]
  },
  {
   "cell_type": "markdown",
   "metadata": {},
   "source": [
    "As you can see, the quality of reconstruction decreased significatntly."
   ]
  },
  {
   "cell_type": "markdown",
   "metadata": {},
   "source": [
    "## Regularization\n",
    "\n",
    "To counter the noise we select a regularization parameter which minimizes cross-validation error.  The span of parameters from which it is being selected should cover eigenvalues of the kernel."
   ]
  },
  {
   "cell_type": "code",
   "execution_count": null,
   "metadata": {},
   "outputs": [],
   "source": [
    "EIGENVALUES_KCSD_ANALYTICAL = np.linalg.eigvalsh(KERNEL_KCSD_ANALYTICAL)[::-1]\n",
    "EIGENVALUES_KESI_ANALYTICAL = np.linalg.eigvalsh(KERNEL_KESI_ANALYTICAL)[::-1]\n",
    "EIGENVALUES_KCSD_NUMERICAL = np.linalg.eigvalsh(KERNEL_KCSD_NUMERICAL)[::-1]\n",
    "EIGENVALUES_KESI_NUMERICAL = np.linalg.eigvalsh(KERNEL_KESI_NUMERICAL)[::-1]"
   ]
  },
  {
   "cell_type": "code",
   "execution_count": null,
   "metadata": {},
   "outputs": [],
   "source": [
    "_kcsd = plt.plot(EIGENVALUES_KCSD_ANALYTICAL, ls=(0, [3, 3]), marker='x', label='kCSD analytical')\n",
    "_kesi = plt.plot(EIGENVALUES_KESI_ANALYTICAL, ls=(0, [3, 3]), marker='+', label='kESI analytical')\n",
    "plt.plot(EIGENVALUES_KCSD_NUMERICAL, ls=(0, [1, 1]), marker='+', color=_kcsd[0].get_color(), label='kCSD numerical')\n",
    "plt.plot(EIGENVALUES_KESI_NUMERICAL, ls=(0, [1, 1]), marker='x', color=_kesi[0].get_color(), label='kESI numerical')\n",
    "\n",
    "plt.yscale('log')\n",
    "plt.legend(loc='best')"
   ]
  },
  {
   "cell_type": "code",
   "execution_count": null,
   "metadata": {},
   "outputs": [],
   "source": [
    "REGULARIZATION_PARAMETERS = np.logspace(5, 15, 10 * 10 + 1)"
   ]
  },
  {
   "cell_type": "code",
   "execution_count": null,
   "metadata": {},
   "outputs": [],
   "source": [
    "from _common_new import cv"
   ]
  },
  {
   "cell_type": "code",
   "execution_count": null,
   "metadata": {},
   "outputs": [],
   "source": [
    "%%time\n",
    "CV_ERRORS_KCSD_ANALYTICAL = cv(reconstructor_kcsd_a, NOISE_V, REGULARIZATION_PARAMETERS)"
   ]
  },
  {
   "cell_type": "code",
   "execution_count": null,
   "metadata": {},
   "outputs": [],
   "source": [
    "%%time\n",
    "CV_ERRORS_KESI_ANALYTICAL = cv(reconstructor_kesi_a, NOISE_V, REGULARIZATION_PARAMETERS)"
   ]
  },
  {
   "cell_type": "code",
   "execution_count": null,
   "metadata": {},
   "outputs": [],
   "source": [
    "regularization_parameter_kesi_a = REGULARIZATION_PARAMETERS[np.argmin(CV_ERRORS_KESI_ANALYTICAL)]\n",
    "regularization_parameter_kcsd_a = REGULARIZATION_PARAMETERS[np.argmin(CV_ERRORS_KCSD_ANALYTICAL)]"
   ]
  },
  {
   "cell_type": "code",
   "execution_count": null,
   "metadata": {},
   "outputs": [],
   "source": [
    "_kcsd = plt.plot(REGULARIZATION_PARAMETERS,\n",
    "                 CV_ERRORS_KCSD_ANALYTICAL,\n",
    "                 label='kCSD analytical')\n",
    "_kesi = plt.plot(REGULARIZATION_PARAMETERS,\n",
    "                 CV_ERRORS_KESI_ANALYTICAL,\n",
    "                 label='kESI analytical')\n",
    "plt.axvline(regularization_parameter_kcsd_a,\n",
    "            ls=':',\n",
    "            color=_kcsd[0].get_color())\n",
    "plt.axvline(regularization_parameter_kesi_a,\n",
    "            ls=':',\n",
    "            color=_kesi[0].get_color())\n",
    "plt.xscale('log')\n",
    "plt.xlabel('regularization parameter')\n",
    "plt.yscale('log')\n",
    "plt.ylabel('L2 norm of cross-validation error')\n",
    "plt.legend(loc='best')"
   ]
  },
  {
   "cell_type": "code",
   "execution_count": null,
   "metadata": {},
   "outputs": [],
   "source": [
    "CSD_KESI_CV = to_3D(reconstructor_kesi_a(NOISE_V, regularization_parameter_kesi_a))"
   ]
  },
  {
   "cell_type": "code",
   "execution_count": null,
   "metadata": {
    "scrolled": false
   },
   "outputs": [],
   "source": [
    "plot_csd_reconstruction(CSD_KESI_CV, 0.01, 0, 0.065,\n",
    "                        title='kESI (regularized)')"
   ]
  },
  {
   "cell_type": "code",
   "execution_count": null,
   "metadata": {},
   "outputs": [],
   "source": []
  }
 ],
 "metadata": {
  "kernelspec": {
   "display_name": "Python [conda env:kesi37]",
   "language": "python",
   "name": "conda-env-kesi37-py"
  },
  "language_info": {
   "codemirror_mode": {
    "name": "ipython",
    "version": 3
   },
   "file_extension": ".py",
   "mimetype": "text/x-python",
   "name": "python",
   "nbconvert_exporter": "python",
   "pygments_lexer": "ipython3",
   "version": "3.7.13"
  }
 },
 "nbformat": 4,
 "nbformat_minor": 4
}
