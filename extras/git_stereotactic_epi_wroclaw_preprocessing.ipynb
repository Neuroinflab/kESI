{
 "cells": [
  {
   "cell_type": "code",
   "execution_count": null,
   "metadata": {},
   "outputs": [],
   "source": [
    "import configparser\n",
    "import os\n",
    "\n",
    "import numpy as np\n",
    "import pandas as pd\n",
    "import scipy.optimize as so\n",
    "\n",
    "import stereotactic_electrodes as se"
   ]
  },
  {
   "cell_type": "code",
   "execution_count": null,
   "metadata": {},
   "outputs": [],
   "source": [
    "electrodes = se.ElectrodesBrainLabACPC('stereotactic_electrodes/epi_eles.ini')"
   ]
  },
  {
   "cell_type": "code",
   "execution_count": null,
   "metadata": {},
   "outputs": [],
   "source": [
    "DF = []\n",
    "\n",
    "for name, _contacts in electrodes._electrodes.items():\n",
    "    for n, e in _contacts._contacts.items():\n",
    "        DF.append({'NAME': f'{name}_{n}',\n",
    "                   'GROUP': name,\n",
    "                   'N': n,\n",
    "                   'X': e.x,\n",
    "                   'Y': e.y,\n",
    "                   'Z': e.z,\n",
    "                   })\n",
    "\n",
    "DF = pd.DataFrame(DF)"
   ]
  },
  {
   "cell_type": "code",
   "execution_count": null,
   "metadata": {},
   "outputs": [],
   "source": [
    "DF['R'] = np.sqrt(np.square(DF.X) + np.square(DF.Y) + np.square(DF.Z))"
   ]
  },
  {
   "cell_type": "code",
   "execution_count": null,
   "metadata": {},
   "outputs": [],
   "source": [
    "GB = DF.groupby('GROUP')"
   ]
  },
  {
   "cell_type": "code",
   "execution_count": null,
   "metadata": {},
   "outputs": [],
   "source": [
    "DF2 = GB.apply(lambda DF: DF.iloc[np.argmax(DF.R)])"
   ]
  },
  {
   "cell_type": "code",
   "execution_count": null,
   "metadata": {},
   "outputs": [],
   "source": [
    "DF2"
   ]
  },
  {
   "cell_type": "code",
   "execution_count": null,
   "metadata": {},
   "outputs": [],
   "source": [
    "XYZ = DF2[['X', 'Y', 'Z']].to_numpy()"
   ]
  },
  {
   "cell_type": "code",
   "execution_count": null,
   "metadata": {},
   "outputs": [],
   "source": [
    "def f(x):\n",
    "    dr = np.sqrt(np.square(XYZ - x).sum(axis=1)) - 78.9\n",
    "    return np.square(np.maximum(0, dr)).sum()"
   ]
  },
  {
   "cell_type": "code",
   "execution_count": null,
   "metadata": {},
   "outputs": [],
   "source": [
    "minimum = so.minimize(f, [0, 0, 0])\n",
    "print(minimum.fun)\n",
    "print(minimum.x)"
   ]
  },
  {
   "cell_type": "code",
   "execution_count": null,
   "metadata": {},
   "outputs": [],
   "source": [
    "for c, delta in zip('XYZ', minimum.x):\n",
    "    DF[f'{c}0'] = (DF[c] - delta) / 1e3"
   ]
  },
  {
   "cell_type": "code",
   "execution_count": null,
   "metadata": {},
   "outputs": [],
   "source": [
    "DF['R0'] = np.sqrt(np.square(DF.X0) + np.square(DF.Y0) + np.square(DF.Z0))"
   ]
  },
  {
   "cell_type": "code",
   "execution_count": null,
   "metadata": {},
   "outputs": [],
   "source": [
    "DF.R0.max()"
   ]
  },
  {
   "cell_type": "code",
   "execution_count": null,
   "metadata": {},
   "outputs": [],
   "source": [
    "PATH = '4SM_CSF_3_mm/uniform_coarse_3/'"
   ]
  },
  {
   "cell_type": "code",
   "execution_count": null,
   "metadata": {},
   "outputs": [],
   "source": [
    "base_config = configparser.ConfigParser()\n",
    "base_config.read(os.path.join('FEM/fem_configs/paper/', PATH, 'stereotactic.ini'))"
   ]
  },
  {
   "cell_type": "code",
   "execution_count": null,
   "metadata": {},
   "outputs": [],
   "source": [
    "config = configparser.ConfigParser()\n",
    "config.add_section('fem')\n",
    "\n",
    "for field in ['mesh', 'config', 'element_type', 'degree']:\n",
    "    config.set('fem', field, base_config.get('fem', field))\n",
    "    \n",
    "config.set('fem', 'solution_metadata_filename', os.path.join('solutions/paper/', PATH, 'epi_wroclaw.ini'))"
   ]
  },
  {
   "cell_type": "code",
   "execution_count": null,
   "metadata": {},
   "outputs": [],
   "source": [
    "for _, ROW in DF.iterrows():\n",
    "    config.add_section(ROW.NAME)\n",
    "    config.set(ROW.NAME, 'filename', f'epi_wroclaw/{ROW.NAME}.h5')\n",
    "    for c in 'XYZ':\n",
    "        config.set(ROW.NAME, c.lower(), repr(ROW[f'{c}0']))"
   ]
  },
  {
   "cell_type": "code",
   "execution_count": null,
   "metadata": {},
   "outputs": [],
   "source": [
    "config.write(open(os.path.join('FEM/fem_configs/paper/',\n",
    "                               PATH,\n",
    "                               'epi_wroclaw.ini'),\n",
    "                  'w'))"
   ]
  },
  {
   "cell_type": "code",
   "execution_count": null,
   "metadata": {},
   "outputs": [],
   "source": [
    "print(repr(list(DF.NAME)))"
   ]
  },
  {
   "cell_type": "code",
   "execution_count": null,
   "metadata": {},
   "outputs": [],
   "source": [
    "PATH = '1SM/finest_3'"
   ]
  },
  {
   "cell_type": "code",
   "execution_count": null,
   "metadata": {},
   "outputs": [],
   "source": [
    "base_config = configparser.ConfigParser()\n",
    "base_config.read(os.path.join('FEM/fem_configs/paper/', PATH, 'stereotactic.ini'))"
   ]
  },
  {
   "cell_type": "code",
   "execution_count": null,
   "metadata": {},
   "outputs": [],
   "source": [
    "config = configparser.ConfigParser()\n",
    "config.add_section('fem')\n",
    "\n",
    "for field in ['mesh', 'config', 'element_type', 'degree']:\n",
    "    config.set('fem', field, base_config.get('fem', field))\n",
    "    \n",
    "config.set('fem', 'solution_metadata_filename', os.path.join('solutions/paper/', PATH, 'epi_wroclaw.ini'))"
   ]
  },
  {
   "cell_type": "code",
   "execution_count": null,
   "metadata": {},
   "outputs": [],
   "source": [
    "for _, ROW in DF.iterrows():\n",
    "    config.add_section(ROW.NAME)\n",
    "    config.set(ROW.NAME, 'filename', f'epi_wroclaw/{ROW.NAME}.h5')\n",
    "    for c in 'XYZ':\n",
    "        config.set(ROW.NAME, c.lower(), repr(ROW[c]))"
   ]
  },
  {
   "cell_type": "code",
   "execution_count": null,
   "metadata": {},
   "outputs": [],
   "source": [
    "config.write(open(os.path.join('FEM/fem_configs/paper/',\n",
    "                               PATH,\n",
    "                               'epi_wroclaw.ini'),\n",
    "                  'w'))"
   ]
  },
  {
   "cell_type": "code",
   "execution_count": null,
   "metadata": {},
   "outputs": [],
   "source": []
  }
 ],
 "metadata": {
  "kernelspec": {
   "display_name": "Python [conda env:kesi37]",
   "language": "python",
   "name": "conda-env-kesi37-py"
  },
  "language_info": {
   "codemirror_mode": {
    "name": "ipython",
    "version": 3
   },
   "file_extension": ".py",
   "mimetype": "text/x-python",
   "name": "python",
   "nbconvert_exporter": "python",
   "pygments_lexer": "ipython3",
   "version": "3.7.11"
  }
 },
 "nbformat": 4,
 "nbformat_minor": 4
}
