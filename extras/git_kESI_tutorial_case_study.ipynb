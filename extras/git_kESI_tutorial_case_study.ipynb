{
 "cells": [
  {
   "cell_type": "markdown",
   "metadata": {},
   "source": [
    "Please note that this tutorial is focused at case study.  If you are interested in more technical details, please consult the other tutorials."
   ]
  },
  {
   "cell_type": "markdown",
   "metadata": {},
   "source": [
    "# Requirements\n",
    "\n",
    "## Memory\n",
    "\n",
    "The code of the notebook requires at least 27 GB (25 GiB) of free memory.\n",
    "\n",
    "\n",
    "## Environment\n",
    "\n",
    "1. Anaconda Python distribution (tested with _Miniconda3-py39\\_4.12.0-Linux-x86\\_64.sh_, _conda v. 4.12.0_).\n",
    "2. Jupyter server (see _extras/jupyter\\_server.sh_ for details).\n",
    "3. Anaconda environments (run _setup\\_conda\\_envs.sh_).\n",
    "4. gmsh (not necessary if you already have meshes in either MSH or XDMF format).\n",
    "\n",
    "\n",
    "## Setup\n",
    "\n",
    "### Mesh for kESI\n",
    "\n",
    "You need to have a mesh in XDMF format.  Run:\n",
    "\n",
    "    conda activate kesi37\n",
    "    cd extras/FEM/meshes\n",
    "    snakemake meshes/four_spheres_csf_3_mm_plain/coarse.xdmf -j 1\n",
    "\n",
    "It may take a while.  At least 1 GB (0.91 GiB) of free memory is necessary.\n",
    "\n",
    "\n",
    "### Mesh for forward modelling\n",
    "\n",
    "You will also need a mesh of slightly different geometry to simulate difference between assumed and actual brain.  Run:\n",
    "\n",
    "    snakemake meshes/four_spheres_csf_1_mm_plain/normal.xdmf -j 1\n",
    "\n",
    "At least 5.3 GB (5 GiB) of free memory is necessary."
   ]
  },
  {
   "cell_type": "markdown",
   "metadata": {},
   "source": [
    "#### Preprocessing\n",
    "\n",
    "We are going to use:\n",
    "  - the _extras/FEM/electrode\\_locations/tutorial/case\\_study.ini_ electrode positions,\n",
    "  - the _extras/FEM/meshes/meshes/four\\_spheres\\_csf\\_3\\_mm\\_plain/coarse.xdmf_ mesh, and\n",
    "  - the _extras/FEM/model_properties/four\\_spheres\\_csf\\_3\\_mm.ini_ properties.\n",
    "\n",
    "The preprocessing workflow is defined in the _extras/Snakefile_ and we run it with `snakemake`:\n",
    "\n",
    "    cd extras\n",
    "    snakemake .tutorial_case_study -j 1 --resources mem_mb=15000 --restart-times 2\n",
    "\n",
    "That may take few **days**.  Ensure that you have enough diskspace (74+ GiB) at the filesystem of the _extras/FEM/solutions/tutorial/case\\_study/_ directory.\n",
    "\n",
    "> The `-j 1` parameter sets the number of jobs that can be run in parallel to 1.  If more CPU cores are available, you can increase that number to increase throughput, thus reduce the total preprocessing time.  But mind that in some systems (e.g. certain virtual machines) increase of paralellization beyond certain limit may significantly compromise performance.  It took about 10 days when run with `-j 2` on a dualcore virtual machine while only 6 days when run serially on a single core one.  The same physical machine was used in both cases.\n",
    "> The `--resources mem_mb=15000` parameter tells the scheduler to possibly limit the total memory used by all simultaneous jobs to 15000 MiB.  You can adjust the parameter according to the value of the `-j` parameter and available free memory.  The scheduler limits the memory available for a job to 15000 MiB in case of calculating the leadfield correction, and to 7500 MiB in case of sampling the leadfield.  Both limits include about 2 GiB of safety margins.  Moreover, if a job fails, it is restarted (up to 2 times - given by the `--restart-times 2` parameter) with a doubled limit.\n",
    "\n",
    "<!-- Solving requires at least 13.5 GB of memory, and sampling it - at least 5.7 GB -->"
   ]
  },
  {
   "cell_type": "markdown",
   "metadata": {},
   "source": [
    "# FRR: Fast Reciprocal Reconstructor kernel construction tools \n",
    "\n",
    "The `_fast_reciprocal_reconstructor` module contains tools which allow for fast construction of (cross)kernels.  They use discrete for high throughput integration."
   ]
  },
  {
   "cell_type": "markdown",
   "metadata": {},
   "source": [
    "## Electrode object\n",
    "\n",
    "An electrode object contains information about electrode spatial location (`.x`, `.y` and `.z` attribute), which is an absolute minimum to be used by kESI (in this case: kCSD with known base function in potential space).  It also provides additional information about:\n",
    "- leadfield correction (`.correction_leadfield()` method) which enables kESI for setups violating kCSD assumptions,\n",
    "  while facilitating application of analitically derived kCSD base functions to avoid significant numerical errors,\n",
    "- base conductivity (`.base_conductivity` attribute) assumed when calculating the leadfield correction,\n",
    "- grid used to sample the leadfield correction (`.SAMPLING_GRID` attribute)."
   ]
  },
  {
   "cell_type": "code",
   "execution_count": null,
   "metadata": {},
   "outputs": [],
   "source": [
    "import numpy as np\n",
    "\n",
    "class Electrode(object):\n",
    "    def __init__(self, filename):\n",
    "        \"\"\"\n",
    "        Parameters\n",
    "        ----------\n",
    "        \n",
    "        filename : str\n",
    "            Path to the sampled correction potential.\n",
    "        \"\"\"\n",
    "        self.filename = filename\n",
    "        with np.load(filename) as fh:\n",
    "            self.SAMPLING_GRID = [fh[c] for c in 'XYZ']\n",
    "            self.x, self.y, self.z = fh['LOCATION']\n",
    "            self.base_conductivity = fh['BASE_CONDUCTIVITY']\n",
    "\n",
    "    def correction_leadfield(self, X, Y, Z):\n",
    "        \"\"\"\n",
    "        Correction of the leadfield of the electrode\n",
    "        for violation of kCSD assumptions\n",
    "        \n",
    "        Parameters\n",
    "        ----------\n",
    "        X, Y, Z : np.array\n",
    "            Coordinate matrices of the same shape.\n",
    "        \"\"\"\n",
    "        with np.load(self.filename) as fh:\n",
    "            return self._correction_leadfield(fh['CORRECTION_POTENTIAL'],\n",
    "                                              [X, Y, Z])\n",
    "\n",
    "    def _correction_leadfield(self, SAMPLES, XYZ):\n",
    "        # if XYZ points are in nodes of the sampling grid,\n",
    "        # no time-consuming interpolation is necessary\n",
    "        return SAMPLES[self._sampling_grid_indices(XYZ)]\n",
    "\n",
    "    def _sampling_grid_indices(self, XYZ):\n",
    "        return tuple(np.searchsorted(GRID, COORD)\n",
    "                     for GRID, COORD in zip(self.SAMPLING_GRID, XYZ))"
   ]
  },
  {
   "cell_type": "code",
   "execution_count": null,
   "metadata": {},
   "outputs": [],
   "source": [
    "import glob\n",
    "\n",
    "electrodes = [Electrode(filename)\n",
    "              for filename in glob.glob('FEM/solutions/tutorial/case_study/sampled/9/*.npz')]"
   ]
  },
  {
   "cell_type": "code",
   "execution_count": null,
   "metadata": {},
   "outputs": [],
   "source": [
    "len(electrodes)"
   ]
  },
  {
   "cell_type": "markdown",
   "metadata": {},
   "source": [
    "## Model source\n",
    "\n",
    "While FRR tools operate on base function profiles defined as callables, we can use convenience kCSD base function objects as model bases (bases which centroid is `(0, 0, 0)`)."
   ]
  },
  {
   "cell_type": "code",
   "execution_count": null,
   "metadata": {},
   "outputs": [],
   "source": [
    "from _common_new import SphericalSplineSourceKCSD, GaussianSourceKCSD3D\n",
    "\n",
    "SRC_R = 9.8e-3\n",
    "BASE_CONDUCTIVITY = electrodes[0].base_conductivity\n",
    "\n",
    "spline_nodes = [SRC_R / 3, SRC_R]\n",
    "spline_polynomials = [[1],\n",
    "                      [0,\n",
    "                       6.75 / SRC_R,\n",
    "                       -13.5 / SRC_R ** 2,\n",
    "                       6.75 / SRC_R ** 3]]\n",
    "model_src = SphericalSplineSourceKCSD(0, 0, 0,\n",
    "                                      spline_nodes,\n",
    "                                      spline_polynomials,\n",
    "                                      BASE_CONDUCTIVITY)"
   ]
  },
  {
   "cell_type": "markdown",
   "metadata": {},
   "source": [
    "## Convolver object\n",
    "\n",
    "The convolver is the engine of the FRR tools.  It is used to:\n",
    "- integrate leadfields weighted by a CSD profile,\n",
    "- obtain CSD profile of a mixture of base functions.\n",
    "\n",
    "The convolver operates on three regular 3D grids of coordinates:\n",
    "- _POT_ grid used for leadfield (_reciprocal potential_) integration,\n",
    "- _CSD_ grid used for CSD profile calculation,\n",
    "- _SRC_ grid used for distributing of base function centroids.\n",
    "\n",
    "The _SRC_ grid is an intersection (in set arithmetic sense) of the _POT_ and the _CSD_ grids, thus they define the convolver unequivocally.\n",
    "\n",
    "As convolver will use the Romberg method for integration ($2^k + 1$ quadrature nodes), the integrated CSD profile will be cropped to $2^{k - 1} h$ from centroid in every dimension, where $h$ is the quadrature step size (distance between adjacent _POT_ grid nodes).  To avoid errors by design, we want $h \\geq 2^{1 - k} R$."
   ]
  },
  {
   "cell_type": "code",
   "execution_count": null,
   "metadata": {},
   "outputs": [],
   "source": [
    "from _fast_reciprocal_reconstructor import ckESI_convolver\n",
    "\n",
    "ROMBERG_K = 6\n",
    "\n",
    "_h_min = SRC_R * 2**(1 - ROMBERG_K)\n",
    "_X, _Y, _Z = electrodes[0].SAMPLING_GRID\n",
    "\n",
    "_pot_grid = [_X, _Y, _Z]\n",
    "_csd_grid = [_X[::2], _Y[::2], _Z[::2]]\n",
    "\n",
    "convolver = ckESI_convolver(_pot_grid, _csd_grid)\n",
    "\n",
    "for _h in convolver.ds('POT'):\n",
    "    assert _h >= _h_min, f'{_h} < {_h_min}'"
   ]
  },
  {
   "cell_type": "markdown",
   "metadata": {},
   "source": [
    "## Convolver interface\n",
    "\n",
    "The convolver interface binds the convolver to:\n",
    "- a CSD profile,\n",
    "- weights of a quadrature of equally-spaced nodes,\n",
    "- boolean mask of nodes of the _SRC_ grid with centroids of the base functions.\n",
    "\n",
    "When analytical solution of the kCSD forward problem is used coupled with numeric integration of leadfield correction, it is advised not to put centroids near the boundary of the _SRC_ grid."
   ]
  },
  {
   "cell_type": "code",
   "execution_count": null,
   "metadata": {},
   "outputs": [],
   "source": [
    "from _fast_reciprocal_reconstructor import ConvolverInterfaceIndexed\n",
    "from scipy.integrate import romb\n",
    "\n",
    "ROMBERG_N = 2 ** ROMBERG_K + 1\n",
    "ROMBERG_WEIGHTS = romb(np.identity(ROMBERG_N)) * 2 ** -ROMBERG_K\n",
    "BRAIN_RADIUS = 0.079\n",
    "\n",
    "SRC_IDX = ((convolver.SRC_Z > -0.06 + SRC_R)\n",
    "           & (np.sqrt(np.square(convolver.SRC_X)\n",
    "                      + np.square(convolver.SRC_Y)\n",
    "                      + np.square(convolver.SRC_Z)) < BRAIN_RADIUS - SRC_R))"
   ]
  },
  {
   "cell_type": "code",
   "execution_count": null,
   "metadata": {},
   "outputs": [],
   "source": [
    "print(SRC_IDX.sum())"
   ]
  },
  {
   "cell_type": "code",
   "execution_count": null,
   "metadata": {},
   "outputs": [],
   "source": [
    "convolver_interface = ConvolverInterfaceIndexed(convolver,\n",
    "                                                model_src.csd,\n",
    "                                                ROMBERG_WEIGHTS,\n",
    "                                                SRC_IDX)"
   ]
  },
  {
   "cell_type": "markdown",
   "metadata": {},
   "source": [
    "## Potential At Electrode object"
   ]
  },
  {
   "cell_type": "markdown",
   "metadata": {},
   "source": [
    "### Potential At Electrode: analytical solution of the forward problem (kCSD)"
   ]
  },
  {
   "cell_type": "code",
   "execution_count": null,
   "metadata": {},
   "outputs": [],
   "source": [
    "from _fast_reciprocal_reconstructor import PAE_Analytical"
   ]
  },
  {
   "cell_type": "code",
   "execution_count": null,
   "metadata": {},
   "outputs": [],
   "source": [
    "pae_kcsd = PAE_Analytical(convolver_interface,\n",
    "                          potential=model_src.potential)"
   ]
  },
  {
   "cell_type": "markdown",
   "metadata": {},
   "source": [
    "### Potential At Electrode: numerically corrected analytical solution of the forward problem (kESI)"
   ]
  },
  {
   "cell_type": "code",
   "execution_count": null,
   "metadata": {},
   "outputs": [],
   "source": [
    "from _fast_reciprocal_reconstructor import PAE_AnalyticalCorrectedNumerically"
   ]
  },
  {
   "cell_type": "code",
   "execution_count": null,
   "metadata": {},
   "outputs": [],
   "source": [
    "pae_kesi = PAE_AnalyticalCorrectedNumerically(convolver_interface,\n",
    "                                              potential=model_src.potential)"
   ]
  },
  {
   "cell_type": "markdown",
   "metadata": {},
   "source": [
    "## Kernel constructor and cross-kernel constructor"
   ]
  },
  {
   "cell_type": "code",
   "execution_count": null,
   "metadata": {},
   "outputs": [],
   "source": [
    "from _fast_reciprocal_reconstructor import ckESI_kernel_constructor, ckESI_crosskernel_constructor"
   ]
  },
  {
   "cell_type": "code",
   "execution_count": null,
   "metadata": {},
   "outputs": [],
   "source": [
    "kernel_constructor = ckESI_kernel_constructor()"
   ]
  },
  {
   "cell_type": "code",
   "execution_count": null,
   "metadata": {},
   "outputs": [],
   "source": [
    "CSD_IDX = np.ones(convolver.shape('CSD'),\n",
    "                  dtype=bool)"
   ]
  },
  {
   "cell_type": "code",
   "execution_count": null,
   "metadata": {},
   "outputs": [],
   "source": [
    "kernel_constructor.create_crosskernel = ckESI_crosskernel_constructor(convolver_interface,\n",
    "                                                                      CSD_IDX)"
   ]
  },
  {
   "cell_type": "markdown",
   "metadata": {},
   "source": [
    "As all elements of `CSD_IDX` are true, conversion of the reconstructed CSD vector is as simple as its rearrangement to match the _CSD_ grid of `convolver`.  We declare an auxilary `to_3D()` function for that purpose."
   ]
  },
  {
   "cell_type": "code",
   "execution_count": null,
   "metadata": {},
   "outputs": [],
   "source": [
    "def to_3D(CSD):\n",
    "    return CSD.reshape(convolver.shape('CSD'))"
   ]
  },
  {
   "cell_type": "markdown",
   "metadata": {},
   "source": [
    "# kCSD reconstructor"
   ]
  },
  {
   "cell_type": "markdown",
   "metadata": {},
   "source": [
    "## Construction of kernels"
   ]
  },
  {
   "cell_type": "code",
   "execution_count": null,
   "metadata": {},
   "outputs": [],
   "source": [
    "%%time\n",
    "PHI_KCSD = kernel_constructor.create_base_images_at_electrodes(electrodes,\n",
    "                                                               pae_kcsd)"
   ]
  },
  {
   "cell_type": "code",
   "execution_count": null,
   "metadata": {},
   "outputs": [],
   "source": [
    "%%time\n",
    "KERNEL_KCSD = kernel_constructor.create_kernel(PHI_KCSD)"
   ]
  },
  {
   "cell_type": "code",
   "execution_count": null,
   "metadata": {},
   "outputs": [],
   "source": [
    "%%time\n",
    "CROSSKERNEL_KCSD = kernel_constructor.create_crosskernel(PHI_KCSD)"
   ]
  },
  {
   "cell_type": "markdown",
   "metadata": {},
   "source": [
    "It may take few minutes."
   ]
  },
  {
   "cell_type": "code",
   "execution_count": null,
   "metadata": {},
   "outputs": [],
   "source": [
    "del PHI_KCSD  # the array is large and no longer needed"
   ]
  },
  {
   "cell_type": "markdown",
   "metadata": {},
   "source": [
    "## Reconstructor object"
   ]
  },
  {
   "cell_type": "code",
   "execution_count": null,
   "metadata": {},
   "outputs": [],
   "source": [
    "from kesi._verbose import _CrossKernelReconstructor as Reconstructor\n",
    "from kesi._engine import _LinearKernelSolver as KernelSolver"
   ]
  },
  {
   "cell_type": "code",
   "execution_count": null,
   "metadata": {},
   "outputs": [],
   "source": [
    "reconstructor_kcsd = Reconstructor(KernelSolver(KERNEL_KCSD),\n",
    "                                   CROSSKERNEL_KCSD)"
   ]
  },
  {
   "cell_type": "markdown",
   "metadata": {},
   "source": [
    "# Visualisation\n",
    "\n",
    "For volumetric data visualisation we define an auxilary functions `crude_plot_data()` and `plot_csd_reconstruction()`."
   ]
  },
  {
   "cell_type": "code",
   "execution_count": null,
   "metadata": {},
   "outputs": [],
   "source": [
    "import matplotlib.pyplot as plt\n",
    "import cbf"
   ]
  },
  {
   "cell_type": "code",
   "execution_count": null,
   "metadata": {},
   "outputs": [],
   "source": [
    "def crude_plot_data(DATA,\n",
    "                    x=None,\n",
    "                    y=None,\n",
    "                    z=None,\n",
    "                    grid=None,\n",
    "                    dpi=35,\n",
    "                    cmap=cbf.bwr,\n",
    "                    title=None,\n",
    "                    amp=None,\n",
    "                    length_factor=1,\n",
    "                    length_unit='$m$',\n",
    "                    unit=''):\n",
    "    wx, wy, wz = DATA.shape\n",
    "    \n",
    "    if grid is None:\n",
    "        ix, iy, iz = [w // 2 if a is None else a\n",
    "                      for a, w in zip([x, y, z],\n",
    "                                      [wx, wy, wz])]\n",
    "        x, y, z = ix, iy, iz\n",
    "        \n",
    "    else:\n",
    "        _xyz = [g.mean() if a is None else a\n",
    "                for a, g in zip([x, y, z],\n",
    "                                grid)]\n",
    "        ix, iy, iz = [np.searchsorted(g, a)\n",
    "                      for a, g in zip(_xyz,\n",
    "                                      grid)]\n",
    "        x, y, z = [length_factor * a for a in _xyz]\n",
    "\n",
    "        def _extent(first, second):\n",
    "            _first = grid[first] * length_factor\n",
    "            _second = grid[second] * length_factor\n",
    "            return (_first.min(), _first.max(),\n",
    "                    _second.min(), _second.max())\n",
    "\n",
    "    fig = plt.figure(figsize=((wx + wy) / dpi,\n",
    "                              (wz + wy) / dpi))\n",
    "    if title is not None:\n",
    "        fig.suptitle(title)\n",
    "    gs = plt.GridSpec(2, 2,\n",
    "                      figure=fig,\n",
    "                      width_ratios=[wx, wy],\n",
    "                      height_ratios=[wz, wy])\n",
    "\n",
    "    ax_xz = fig.add_subplot(gs[0, 0])\n",
    "    ax_xz.set_aspect('equal')\n",
    "    ax_xz.set_ylabel(f'Z [{length_unit}]')\n",
    "    ax_xz.set_xlabel(f'X [{length_unit}]')\n",
    "\n",
    "    ax_yx = fig.add_subplot(gs[1, 1])\n",
    "    ax_yx.set_aspect('equal')\n",
    "    ax_yx.set_ylabel(f'X [{length_unit}]')\n",
    "    ax_yx.set_xlabel(f'Y [{length_unit}]')\n",
    "\n",
    "    ax_yz = fig.add_subplot(gs[0, 1],\n",
    "                            sharey=ax_xz,\n",
    "                            sharex=ax_yx)\n",
    "    ax_yz.set_aspect('equal')\n",
    "\n",
    "    cax = fig.add_subplot(gs[1, 0])\n",
    "    cax.set_visible(False)\n",
    "\n",
    "    if amp is None:\n",
    "        amp = abs(DATA).max()\n",
    "\n",
    "    if grid is None:\n",
    "        ax_xz.imshow(DATA[:, iy, :].T,\n",
    "                     vmin=-amp,\n",
    "                     vmax=amp,\n",
    "                     cmap=cmap,\n",
    "                     origin='lower')\n",
    "        ax_yx.imshow(DATA[:, :, iz],\n",
    "                     vmin=-amp,\n",
    "                     vmax=amp,\n",
    "                     cmap=cmap,\n",
    "                     origin='lower')\n",
    "        im = ax_yz.imshow(DATA[ix, :, :].T,\n",
    "                          vmin=-amp,\n",
    "                          vmax=amp,\n",
    "                          cmap=cmap,\n",
    "                          origin='lower')\n",
    "    else:\n",
    "        ax_xz.imshow(DATA[:, iy, :].T,\n",
    "                     vmin=-amp,\n",
    "                     vmax=amp,\n",
    "                     cmap=cmap,\n",
    "                     origin='lower',\n",
    "                     extent=_extent(0, 2))\n",
    "        ax_yx.imshow(DATA[:, :, iz],\n",
    "                     vmin=-amp,\n",
    "                     vmax=amp,\n",
    "                     cmap=cmap,\n",
    "                     origin='lower',\n",
    "                     extent=_extent(1, 0))\n",
    "        im = ax_yz.imshow(DATA[ix, :, :].T,\n",
    "                          vmin=-amp,\n",
    "                          vmax=amp,\n",
    "                          cmap=cmap,\n",
    "                          origin='lower',\n",
    "                          extent=_extent(1, 2))\n",
    "        \n",
    "    ax_xz.axvline(x, ls=':', color=cbf.BLACK)\n",
    "    ax_xz.axhline(z, ls=':', color=cbf.BLACK)\n",
    "\n",
    "    ax_yx.axvline(y, ls=':', color=cbf.BLACK)\n",
    "    ax_yx.axhline(x, ls=':', color=cbf.BLACK)\n",
    "\n",
    "    ax_yz.axvline(y, ls=':', color=cbf.BLACK)\n",
    "    ax_yz.axhline(z, ls=':', color=cbf.BLACK)\n",
    "    fig.colorbar(im, ax=cax,\n",
    "                 orientation='horizontal',\n",
    "                 label=unit)\n",
    "\n",
    "    return (fig, ((ax_xz, ax_yz),\n",
    "                  (cax, ax_yx)))"
   ]
  },
  {
   "cell_type": "code",
   "execution_count": null,
   "metadata": {},
   "outputs": [],
   "source": [
    "csd_grid = [_x.flatten() for _x in convolver.CSD_GRID]"
   ]
  },
  {
   "cell_type": "code",
   "execution_count": null,
   "metadata": {},
   "outputs": [],
   "source": [
    "def add_spheres(plot, x, y, z,\n",
    "                length_factor=1,\n",
    "                sphere_radii=[0.079, 0.082, 0.086, 0.090]):\n",
    "    def plot_circle(ax, r):\n",
    "        ax.add_artist(plt.Circle((0, 0), r * length_factor,\n",
    "                                facecolor='none',\n",
    "                                edgecolor=cbf.BLACK,\n",
    "                                linestyle=':'))\n",
    "\n",
    "    (fig, ((ax_xz, ax_yz),\n",
    "           (cax, ax_yx))) = plot\n",
    "    for r2 in np.square(sphere_radii):\n",
    "        plot_circle(ax_xz, np.sqrt(r2 - np.square(y)))\n",
    "        plot_circle(ax_yz, np.sqrt(r2 - np.square(x)))\n",
    "        plot_circle(ax_yx, np.sqrt(r2 - np.square(z)))\n",
    "\n",
    "def plot_csd_reconstruction(CSD, x, y, z, title='', dpi=35):\n",
    "    unit_scaling_factor = 1e-3\n",
    "    unit = '$\\\\frac{pA}{mm^3}$'\n",
    "    length_factor = 1000\n",
    "    length_unit = '$mm$'\n",
    "\n",
    "    ERROR = CSD - GT_CSD\n",
    "    error_L2 = np.sqrt(np.square(ERROR).sum() / np.square(GT_CSD).sum())\n",
    "    amp = max(abs(CSD).max(),\n",
    "              abs(GT_CSD).max(),\n",
    "              abs(ERROR).max()) * unit_scaling_factor\n",
    "    \n",
    "    for plot in [crude_plot_data(GT_CSD * unit_scaling_factor,\n",
    "                                 unit=unit,\n",
    "                                 title='GT CSD',\n",
    "                                 grid=csd_grid, x=x, y=y, z=z, dpi=dpi,\n",
    "                                 length_unit=length_unit,\n",
    "                                 length_factor=length_factor,\n",
    "                                 amp=amp),\n",
    "                 crude_plot_data(CSD * unit_scaling_factor,\n",
    "                                 unit=unit,\n",
    "                                 title=f'{title} reconstruction',\n",
    "                                 grid=csd_grid, x=x, y=y, z=z, dpi=dpi,\n",
    "                                 length_unit=length_unit,\n",
    "                                 length_factor=length_factor,\n",
    "                                 amp=amp),\n",
    "                 crude_plot_data(ERROR * unit_scaling_factor,\n",
    "                                 unit=unit,\n",
    "                                 title=f'{title} error (GT normalized L2 norm: {error_L2:.2g})',\n",
    "                                 grid=csd_grid, x=x, y=y, z=z, dpi=dpi,\n",
    "                                 length_unit=length_unit,\n",
    "                                 length_factor=length_factor,\n",
    "                                 amp=amp)]:\n",
    "        add_spheres(plot, x, y, z,\n",
    "                    length_factor=length_factor)"
   ]
  },
  {
   "cell_type": "markdown",
   "metadata": {},
   "source": [
    "# Ground truth CSD and its potential at the electrodes\n",
    "\n",
    "We derive GT CSD as an eigensource (scaled by a factor) of kCSD.  The order of the returned eigenvalues (and eigenvectors) is reversed for the sake of the highest-first convention."
   ]
  },
  {
   "cell_type": "markdown",
   "metadata": {},
   "source": [
    "## GT CSD"
   ]
  },
  {
   "cell_type": "code",
   "execution_count": null,
   "metadata": {},
   "outputs": [],
   "source": [
    "%%time\n",
    "EIGENVALUES_KCSD, EIGENVECTORS_KCSD = np.linalg.eigh(KERNEL_KCSD)\n",
    "EIGENVALUES_KCSD, EIGENVECTORS_KCSD = EIGENVALUES_KCSD[::-1], EIGENVECTORS_KCSD[:, ::-1]\n",
    "\n",
    "GT_CSD = to_3D(reconstructor_kcsd(EIGENVECTORS_KCSD[:, 2] * 100))"
   ]
  },
  {
   "cell_type": "code",
   "execution_count": null,
   "metadata": {},
   "outputs": [],
   "source": [
    "add_spheres(crude_plot_data(GT_CSD * 1e-3,\n",
    "                            unit='$\\\\frac{pA}{mm^3}$',\n",
    "                            title='GT CSD',\n",
    "                            grid=csd_grid,\n",
    "                            x=-0.05,\n",
    "                            y=0.015,\n",
    "                            z=-0.02,\n",
    "                            length_factor=1000,\n",
    "                            length_unit='$mm$'),\n",
    "            x=-0.05,\n",
    "            y=0.015,\n",
    "            z=-0.02,\n",
    "            length_factor=1000,\n",
    "            sphere_radii=[0.079, 0.080, 0.085, 0.090])"
   ]
  },
  {
   "cell_type": "markdown",
   "metadata": {},
   "source": [
    "## FEM forward modelling"
   ]
  },
  {
   "cell_type": "code",
   "execution_count": null,
   "metadata": {},
   "outputs": [],
   "source": [
    "import configparser\n",
    "import dolfin\n",
    "import scipy.interpolate as si\n",
    "\n",
    "import FEM.fem_common as fc"
   ]
  },
  {
   "cell_type": "markdown",
   "metadata": {},
   "source": [
    "We define a FEM forward model. It is a callable, which accepts CSD profile as a callable compatible with `scipy.interpolate.RegularGridInterpolator`."
   ]
  },
  {
   "cell_type": "code",
   "execution_count": null,
   "metadata": {},
   "outputs": [],
   "source": [
    "class ForwardModel(object):\n",
    "    GROUNDED_PLATE_AT = -0.088\n",
    "\n",
    "    def __init__(self, mesh, degree, config):\n",
    "        self.fm = fc.FunctionManager(mesh, degree, 'CG')\n",
    "        self.config = configparser.ConfigParser()\n",
    "        self.config.read(config)\n",
    "        \n",
    "        self.V = self.fm.function_space\n",
    "        mesh = self.fm.mesh\n",
    "\n",
    "        n = self.V.dim()\n",
    "        d = mesh.geometry().dim()\n",
    "\n",
    "        self.dof_coords = self.V.tabulate_dof_coordinates()\n",
    "        self.dof_coords.resize((n, d))\n",
    "        \n",
    "        self.csd_f = self.fm.function()\n",
    "        \n",
    "        self.subdomains = self.fm.load_subdomains()\n",
    "        self.dx = dolfin.Measure(\"dx\")(subdomain_data=self.subdomains)\n",
    "\n",
    "    @property\n",
    "    def CONDUCTIVITY(self):\n",
    "        for section in self.config.sections():\n",
    "            if self._is_conductive_volume(section):\n",
    "                yield (self.config.getint(section, 'volume'),\n",
    "                       self.config.getfloat(section, 'conductivity'))\n",
    "\n",
    "    def _is_conductive_volume(self, section):\n",
    "        return (self.config.has_option(section, 'volume')\n",
    "                and self.config.has_option(section, 'conductivity')) \n",
    "        \n",
    "    def __call__(self, csd_interpolator):\n",
    "        self.csd_f.vector()[:] = csd_interpolator(self.dof_coords)\n",
    "        \n",
    "        dirichlet_bc_gt = dolfin.DirichletBC(self.V,\n",
    "                                     dolfin.Constant(0),\n",
    "                                     (lambda x, on_boundary:\n",
    "                                      on_boundary and x[2] <= self.GROUNDED_PLATE_AT))\n",
    "        test = self.fm.test_function()\n",
    "        trial = self.fm.trial_function()\n",
    "        potential = self.fm.function()\n",
    "        \n",
    "        \n",
    "        dx = self.dx\n",
    "        a = sum(dolfin.Constant(c)\n",
    "                * dolfin.inner(dolfin.grad(trial),\n",
    "                               dolfin.grad(test))\n",
    "                * dx(i)\n",
    "                for i, c\n",
    "                in self.CONDUCTIVITY)\n",
    "        L = self.csd_f * test * dx\n",
    "        \n",
    "        b = dolfin.assemble(L)\n",
    "        A = dolfin.assemble(a)\n",
    "        dirichlet_bc_gt.apply(A, b)\n",
    "        \n",
    "        solver = dolfin.KrylovSolver(\"cg\", \"ilu\")\n",
    "        solver.parameters[\"maximum_iterations\"] = 10000\n",
    "        solver.parameters[\"absolute_tolerance\"] = 1E-8\n",
    "        solver.solve(A, potential.vector(), b)\n",
    "        \n",
    "        return potential"
   ]
  },
  {
   "cell_type": "markdown",
   "metadata": {},
   "source": [
    "To simulate the differences between actual and assumed head geometries, we use model with thinner CSF layer for forward modelling."
   ]
  },
  {
   "cell_type": "code",
   "execution_count": null,
   "metadata": {},
   "outputs": [],
   "source": [
    "%%time\n",
    "fem = ForwardModel(mesh='FEM/meshes/meshes/four_spheres_csf_1_mm_plain/normal.xdmf',\n",
    "                   degree=1,\n",
    "                   config='FEM/model_properties/four_spheres_csf_1_mm.ini')"
   ]
  },
  {
   "cell_type": "markdown",
   "metadata": {},
   "source": [
    "It may take few minutes."
   ]
  },
  {
   "cell_type": "markdown",
   "metadata": {},
   "source": [
    "We simulate the potential generated by the ground truth CSD profile."
   ]
  },
  {
   "cell_type": "code",
   "execution_count": null,
   "metadata": {},
   "outputs": [],
   "source": [
    "%%time\n",
    "_csd = si.RegularGridInterpolator(csd_grid,\n",
    "                                  GT_CSD,\n",
    "                                  bounds_error=False,\n",
    "                                  fill_value=0)\n",
    "potential = fem(_csd)\n",
    "\n",
    "del _csd  # the object is large and no longer needed"
   ]
  },
  {
   "cell_type": "markdown",
   "metadata": {},
   "source": [
    "We probe the potential in the whole region of interest to visualise it (it may take several minutes)."
   ]
  },
  {
   "cell_type": "code",
   "execution_count": null,
   "metadata": {},
   "outputs": [],
   "source": [
    "%%time\n",
    "with np.nditer([convolver.CSD_X[::2, :, :],\n",
    "                convolver.CSD_Y[:, ::2, :],\n",
    "                convolver.CSD_Z[:, :, ::2],\n",
    "                None]) as it:\n",
    "    for _x, _y, _z, _res in it:\n",
    "        try:\n",
    "            _res[...] = potential(_x, _y, _z)\n",
    "        except RuntimeError:\n",
    "            _res[...] = np.nan\n",
    "\n",
    "    V_ROI = np.ma.masked_invalid(it.operands[3])"
   ]
  },
  {
   "cell_type": "code",
   "execution_count": null,
   "metadata": {},
   "outputs": [],
   "source": [
    "add_spheres(crude_plot_data(V_ROI,\n",
    "                            cmap=cbf.PRGn,\n",
    "                            grid=[_x[::2] for _x in csd_grid],\n",
    "                            x=-0.05,\n",
    "                            y=0.015,\n",
    "                            z=-0.02,\n",
    "                            dpi=17,\n",
    "                            title='POTENTIAL',\n",
    "                            length_unit='$mm$',\n",
    "                            length_factor=1000,\n",
    "                            unit='$\\mu{}V$'),\n",
    "            x=-0.05,\n",
    "            y=0.015,\n",
    "            z=-0.02,\n",
    "            length_factor=1000,\n",
    "            sphere_radii=[0.079, 0.080, 0.085, 0.090])"
   ]
  },
  {
   "cell_type": "code",
   "execution_count": null,
   "metadata": {},
   "outputs": [],
   "source": [
    "del V_ROI  # the array is no longer needed"
   ]
  },
  {
   "cell_type": "markdown",
   "metadata": {},
   "source": [
    "We probe the potential at electrodes."
   ]
  },
  {
   "cell_type": "code",
   "execution_count": null,
   "metadata": {},
   "outputs": [],
   "source": [
    "GT_V = np.array([potential(_e.x, _e.y, _e.z) for _e in electrodes])"
   ]
  },
  {
   "cell_type": "code",
   "execution_count": null,
   "metadata": {},
   "outputs": [],
   "source": [
    "del potential, fem  # these objects are large and no longer needed"
   ]
  },
  {
   "cell_type": "markdown",
   "metadata": {},
   "source": [
    "To make the case more realistic we introduce 1% noise."
   ]
  },
  {
   "cell_type": "code",
   "execution_count": null,
   "metadata": {},
   "outputs": [],
   "source": [
    "np.random.seed(42)\n",
    "NOISE_V = np.random.normal(loc=GT_V,\n",
    "                           scale=0.01 * GT_V.std())"
   ]
  },
  {
   "cell_type": "markdown",
   "metadata": {},
   "source": [
    "# Reconstruction"
   ]
  },
  {
   "cell_type": "markdown",
   "metadata": {},
   "source": [
    "## kCSD\n",
    "\n",
    "As the ground truth CSD is a kCSD eigensource, kCSD is (theoretically) able to reconstruct it exactly.  But the forward model does not conform to assumptions of kCSD, which may lead to reconstruction artifacts."
   ]
  },
  {
   "cell_type": "code",
   "execution_count": null,
   "metadata": {},
   "outputs": [],
   "source": [
    "CSD_KCSD = to_3D(reconstructor_kcsd(NOISE_V))"
   ]
  },
  {
   "cell_type": "code",
   "execution_count": null,
   "metadata": {
    "scrolled": false
   },
   "outputs": [],
   "source": [
    "plot_csd_reconstruction(CSD_KCSD,\n",
    "                        x=-0.05,\n",
    "                        y=0.015,\n",
    "                        z=-0.02,\n",
    "                        title='kCSD')"
   ]
  },
  {
   "cell_type": "markdown",
   "metadata": {},
   "source": [
    "As you see, the reconstruction is mostly error."
   ]
  },
  {
   "cell_type": "code",
   "execution_count": null,
   "metadata": {},
   "outputs": [],
   "source": [
    "del CSD_KCSD  # the array is large and no longer needed"
   ]
  },
  {
   "cell_type": "markdown",
   "metadata": {},
   "source": [
    "## Regularization"
   ]
  },
  {
   "cell_type": "markdown",
   "metadata": {},
   "source": [
    "### Cross-validation\n",
    "\n",
    "To counter the noise we select a regularization parameter which minimizes cross-validation error.  The span of parameters from which it is being selected should cover eigenvalues of the kernel."
   ]
  },
  {
   "cell_type": "code",
   "execution_count": null,
   "metadata": {},
   "outputs": [],
   "source": [
    "plt.figure(figsize=(18, 12))\n",
    "plt.plot(EIGENVALUES_KCSD)\n",
    "plt.yscale('log')"
   ]
  },
  {
   "cell_type": "code",
   "execution_count": null,
   "metadata": {},
   "outputs": [],
   "source": [
    "REGULARIZATION_PARAMETERS = np.logspace(-2, 15, 17 * 10 + 1)"
   ]
  },
  {
   "cell_type": "code",
   "execution_count": null,
   "metadata": {},
   "outputs": [],
   "source": [
    "from _common_new import cv"
   ]
  },
  {
   "cell_type": "code",
   "execution_count": null,
   "metadata": {},
   "outputs": [],
   "source": [
    "%%time\n",
    "CV_ERRORS_KCSD = cv(reconstructor_kcsd, NOISE_V, REGULARIZATION_PARAMETERS)"
   ]
  },
  {
   "cell_type": "markdown",
   "metadata": {},
   "source": [
    "It may take several minutes if other tasks are running."
   ]
  },
  {
   "cell_type": "code",
   "execution_count": null,
   "metadata": {},
   "outputs": [],
   "source": [
    "regularization_parameter_kcsd = REGULARIZATION_PARAMETERS[np.argmin(CV_ERRORS_KCSD)]"
   ]
  },
  {
   "cell_type": "code",
   "execution_count": null,
   "metadata": {},
   "outputs": [],
   "source": [
    "plt.plot(REGULARIZATION_PARAMETERS,\n",
    "         CV_ERRORS_KCSD,\n",
    "         color=cbf.BLUE)\n",
    "plt.axvline(regularization_parameter_kcsd,\n",
    "            ls=':',\n",
    "            color=cbf.BLUE)\n",
    "plt.xscale('log')\n",
    "plt.xlabel('regularization parameter')\n",
    "plt.yscale('log')\n",
    "plt.ylabel('L2 norm of cross-validation error')"
   ]
  },
  {
   "cell_type": "markdown",
   "metadata": {},
   "source": [
    "## Regularized kCSD"
   ]
  },
  {
   "cell_type": "code",
   "execution_count": null,
   "metadata": {},
   "outputs": [],
   "source": [
    "CSD_KCSD_CV = to_3D(reconstructor_kcsd(NOISE_V, regularization_parameter_kcsd))"
   ]
  },
  {
   "cell_type": "code",
   "execution_count": null,
   "metadata": {
    "scrolled": false
   },
   "outputs": [],
   "source": [
    "plot_csd_reconstruction(CSD_KCSD_CV,\n",
    "                        x=-0.05,\n",
    "                        y=0.015,\n",
    "                        z=-0.02,\n",
    "                        title='kCSD (regularized)')"
   ]
  },
  {
   "cell_type": "markdown",
   "metadata": {},
   "source": [
    "The reconstruction still is mostly error."
   ]
  },
  {
   "cell_type": "code",
   "execution_count": null,
   "metadata": {},
   "outputs": [],
   "source": [
    "del CSD_KCSD_CV  # the array is large and no longer needed"
   ]
  },
  {
   "cell_type": "code",
   "execution_count": null,
   "metadata": {},
   "outputs": [],
   "source": [
    "del reconstructor_kcsd, CROSSKERNEL_KCSD  # These objects are large and no longer needed"
   ]
  },
  {
   "cell_type": "markdown",
   "metadata": {},
   "source": [
    "## Unregularized kESI\n",
    "\n",
    "kESI accounts for violation of kCSD assumptions, thus we expect more reliable reconstruction."
   ]
  },
  {
   "cell_type": "code",
   "execution_count": null,
   "metadata": {},
   "outputs": [],
   "source": [
    "%%time\n",
    "PHI_KESI = kernel_constructor.create_base_images_at_electrodes(electrodes,\n",
    "                                                               pae_kesi)"
   ]
  },
  {
   "cell_type": "markdown",
   "metadata": {},
   "source": [
    "It may take even an hour."
   ]
  },
  {
   "cell_type": "code",
   "execution_count": null,
   "metadata": {},
   "outputs": [],
   "source": [
    "%%time\n",
    "KERNEL_KESI = kernel_constructor.create_kernel(PHI_KESI)"
   ]
  },
  {
   "cell_type": "code",
   "execution_count": null,
   "metadata": {},
   "outputs": [],
   "source": [
    "%%time\n",
    "CROSSKERNEL_KESI = kernel_constructor.create_crosskernel(PHI_KESI)"
   ]
  },
  {
   "cell_type": "markdown",
   "metadata": {},
   "source": [
    "It may take few minutes."
   ]
  },
  {
   "cell_type": "code",
   "execution_count": null,
   "metadata": {},
   "outputs": [],
   "source": [
    "del PHI_KESI  # the array is large and no longer needed"
   ]
  },
  {
   "cell_type": "code",
   "execution_count": null,
   "metadata": {},
   "outputs": [],
   "source": [
    "reconstructor_kesi = Reconstructor(KernelSolver(KERNEL_KESI),\n",
    "                                   CROSSKERNEL_KESI)"
   ]
  },
  {
   "cell_type": "code",
   "execution_count": null,
   "metadata": {},
   "outputs": [],
   "source": [
    "CSD_KESI = to_3D(reconstructor_kesi(NOISE_V))"
   ]
  },
  {
   "cell_type": "code",
   "execution_count": null,
   "metadata": {
    "scrolled": false
   },
   "outputs": [],
   "source": [
    "plot_csd_reconstruction(CSD_KESI,\n",
    "                        x=-0.05,\n",
    "                        y=0.015,\n",
    "                        z=-0.02,\n",
    "                        title='kESI')"
   ]
  },
  {
   "cell_type": "markdown",
   "metadata": {},
   "source": [
    "As you see, the unregularized kESI reconstruction somehow resembles the ground truth."
   ]
  },
  {
   "cell_type": "code",
   "execution_count": null,
   "metadata": {},
   "outputs": [],
   "source": [
    "del CSD_KESI  # the array is large and no longer needed"
   ]
  },
  {
   "cell_type": "markdown",
   "metadata": {},
   "source": [
    "## Regularized kESI"
   ]
  },
  {
   "cell_type": "code",
   "execution_count": null,
   "metadata": {},
   "outputs": [],
   "source": [
    "EIGENVALUES_KESI = np.linalg.eigvalsh(KERNEL_KESI)[::-1]"
   ]
  },
  {
   "cell_type": "markdown",
   "metadata": {},
   "source": [
    "We reversed order of the returned eigenvalues for the sake of the highest-first convention."
   ]
  },
  {
   "cell_type": "code",
   "execution_count": null,
   "metadata": {},
   "outputs": [],
   "source": [
    "plt.figure(figsize=(18, 12))\n",
    "plt.plot(EIGENVALUES_KCSD, label='kCSD', ls='-')\n",
    "plt.plot(EIGENVALUES_KESI, label='kESI', ls=':')\n",
    "plt.yscale('log')\n",
    "plt.legend(loc='best')"
   ]
  },
  {
   "cell_type": "code",
   "execution_count": null,
   "metadata": {},
   "outputs": [],
   "source": [
    "%%time\n",
    "CV_ERRORS_KESI = cv(reconstructor_kesi, NOISE_V, REGULARIZATION_PARAMETERS)"
   ]
  },
  {
   "cell_type": "markdown",
   "metadata": {},
   "source": [
    "It may take several minutes if other tasks are running."
   ]
  },
  {
   "cell_type": "code",
   "execution_count": null,
   "metadata": {},
   "outputs": [],
   "source": [
    "regularization_parameter_kesi = REGULARIZATION_PARAMETERS[np.argmin(CV_ERRORS_KESI)]"
   ]
  },
  {
   "cell_type": "code",
   "execution_count": null,
   "metadata": {},
   "outputs": [],
   "source": [
    "plt.plot(REGULARIZATION_PARAMETERS,\n",
    "         CV_ERRORS_KCSD,\n",
    "         color=cbf.BLUE,\n",
    "         label='kCSD')\n",
    "plt.plot(REGULARIZATION_PARAMETERS,\n",
    "         CV_ERRORS_KESI,\n",
    "         color=cbf.VERMILION,\n",
    "         label='kESI')\n",
    "plt.axvline(regularization_parameter_kcsd,\n",
    "            ls=':',\n",
    "            color=cbf.BLUE)\n",
    "plt.axvline(regularization_parameter_kesi,\n",
    "            ls=':',\n",
    "            color=cbf.VERMILION)\n",
    "plt.xscale('log')\n",
    "plt.xlabel('regularization parameter')\n",
    "plt.yscale('log')\n",
    "plt.ylabel('L2 norm of cross-validation error')\n",
    "plt.legend(loc='best')"
   ]
  },
  {
   "cell_type": "code",
   "execution_count": null,
   "metadata": {},
   "outputs": [],
   "source": [
    "CSD_KESI_CV = to_3D(reconstructor_kesi(NOISE_V, regularization_parameter_kesi))"
   ]
  },
  {
   "cell_type": "code",
   "execution_count": null,
   "metadata": {
    "scrolled": false
   },
   "outputs": [],
   "source": [
    "plot_csd_reconstruction(CSD_KESI_CV,\n",
    "                        x=-0.05,\n",
    "                        y=0.015,\n",
    "                        z=-0.02,\n",
    "                        title='kESI (regularized)')"
   ]
  },
  {
   "cell_type": "markdown",
   "metadata": {},
   "source": [
    "The kESI reconstruction definitely benefitted from regularization."
   ]
  },
  {
   "cell_type": "code",
   "execution_count": null,
   "metadata": {},
   "outputs": [],
   "source": [
    "del CSD_KESI_CV  # the array is large and no longer needed"
   ]
  },
  {
   "cell_type": "code",
   "execution_count": null,
   "metadata": {},
   "outputs": [],
   "source": []
  }
 ],
 "metadata": {
  "kernelspec": {
   "display_name": "Python [conda env:kesi37]",
   "language": "python",
   "name": "conda-env-kesi37-py"
  },
  "language_info": {
   "codemirror_mode": {
    "name": "ipython",
    "version": 3
   },
   "file_extension": ".py",
   "mimetype": "text/x-python",
   "name": "python",
   "nbconvert_exporter": "python",
   "pygments_lexer": "ipython3",
   "version": "3.7.13"
  }
 },
 "nbformat": 4,
 "nbformat_minor": 5
}
