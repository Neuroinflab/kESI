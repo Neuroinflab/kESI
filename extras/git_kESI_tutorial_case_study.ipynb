{
 "cells": [
  {
   "cell_type": "markdown",
   "id": "bfd8f38d",
   "metadata": {},
   "source": [
    "Please note that this tutorial is focused at case study.  If you are interested in more technical details, please consult the other tutorials."
   ]
  },
  {
   "cell_type": "markdown",
   "id": "e3e575e9",
   "metadata": {},
   "source": [
    "# Requirements\n",
    "\n",
    "## Environment\n",
    "\n",
    "1. Anaconda Python distribution (tested with _Miniconda3-py39\\_4.12.0-Linux-x86\\_64.sh_, _conda v. 4.12.0_).\n",
    "2. Jupyter server (see _extras/jupyter\\_server.sh_ for details).\n",
    "3. Anaconda environments (run _setup\\_conda\\_envs.sh_).\n",
    "4. gmsh (not necessary if you already have meshes in either MSH or XDMF format).\n",
    "\n",
    "\n",
    "## Setup\n",
    "\n",
    "### Mesh for kESI\n",
    "\n",
    "You need to have a mesh in XDMF format.  Run:\n",
    "\n",
    "    conda activate kesi37\n",
    "    cd extras/FEM/meshes\n",
    "    snakemake meshes/four_spheres_csf_3_mm_plain/coarse.xdmf -j 1\n",
    "    \n",
    "It may take a while.\n",
    "\n",
    "\n",
    "### Mesh for forward modelling\n",
    "\n",
    "You will also need a mesh of slightly different geometry to simulate difference between assumed and actual brain.  Run:\n",
    "\n",
    "    snakemake meshes/four_spheres_csf_1_mm_plain/mesh.xdmf -j 1"
   ]
  },
  {
   "cell_type": "markdown",
   "id": "2264e9f8",
   "metadata": {},
   "source": [
    "#### Preprocessing\n",
    "\n",
    "We are going to use:\n",
    "  - the _extras/FEM/electrode\\_locations/tutorial/case\\_study.ini_ electrode positions,\n",
    "  - the _extras/FEM/meshes/meshes/four\\_spheres\\_csf\\_3\\_mm\\_plain/coarse.xdmf_ mesh, and\n",
    "  - the _extras/FEM/model_properties/four\\_spheres\\_csf\\_3\\_mm.ini_ properties.\n",
    "\n",
    "The preprocessing workflow is defined in the _extras/Snakefile_ and we run it with `snakemake`:\n",
    "\n",
    "    cd extras\n",
    "    snakemake .tutorial_case_study -j 4 --resources mem_mb=100000 --restart-times 3\n",
    "    \n",
    "Thet may take few **days**.  Ensure that you have enough diskspace (74+ GiB) at the filesystem of the _extras/FEM/solutions/tutorial/case\\_study/_ directory."
   ]
  },
  {
   "cell_type": "markdown",
   "id": "63926731",
   "metadata": {},
   "source": [
    "# Kernel construction\n",
    "\n",
    "## Electrode object\n",
    "\n",
    "An electrode object contains information about electrode spatial location (`.x`, `.y` and `.z` attribute), which is an absolute minimum to be used by kESI (in this case: kCSD with known base function in potential space).  It may also provide additional information about:\n",
    "- base leadfield (`.base_potential()` method) which enable kCSD for arbitrary base function in CSD space, or\n",
    "- leadfield correction (`.correction_potential()` method) which enable kESI for setups violating kCSD assumptions,\n",
    "- base conductivity (`.base_conductivity` attribute) assumed when calculating the leadfield correction."
   ]
  },
  {
   "cell_type": "code",
   "execution_count": null,
   "id": "940530f8",
   "metadata": {},
   "outputs": [],
   "source": [
    "import numpy as np\n",
    "\n",
    "\n",
    "class Electrode(object):\n",
    "    def __init__(self, filename, decimals_tolerance=None, dx=0):\n",
    "        \"\"\"\n",
    "        Parameters\n",
    "        ----------\n",
    "        \n",
    "        filename : str\n",
    "            Path to the sampled correction potential.\n",
    "            \n",
    "        decimals_tolerance : int\n",
    "            Precision of coordinate comparison\n",
    "            in the `.correction_potential()` method.\n",
    "            \n",
    "        dx : float\n",
    "            Integration step used to calculate a regularization\n",
    "            parameter of the `.base_potential()` method.\n",
    "        \"\"\"\n",
    "        self.filename = filename\n",
    "        self.decimals_tolerance = decimals_tolerance\n",
    "        self.dx = dx\n",
    "        with np.load(filename) as fh:\n",
    "            self._X = self.round(fh['X'])\n",
    "            self._Y = self.round(fh['Y'])\n",
    "            self._Z = self.round(fh['Z'])\n",
    "            self.x, self.y, self.z = fh['LOCATION']\n",
    "            self.base_conductivity = fh['BASE_CONDUCTIVITY']\n",
    "\n",
    "    @property\n",
    "    def _epsilon(self):\n",
    "        \"\"\"\n",
    "        Regularization parameter of the `.base_potential()` method.\n",
    "        \n",
    "        Note\n",
    "        ----\n",
    "        \n",
    "        The 0.15 factor choice has been based on a toy numerical experiment.\n",
    "        Further, more rigorous experiments are definitely recommended.\n",
    "        \"\"\"\n",
    "        return 0.15 * self.dx\n",
    "    \n",
    "    def round(self, A):\n",
    "        if self.decimals_tolerance is None:\n",
    "            return A\n",
    "        return np.round(A, decimals=self.decimals_tolerance)\n",
    "\n",
    "    def correction_potential(self, X, Y, Z):\n",
    "        \"\"\"\n",
    "        Parameters\n",
    "        ----------\n",
    "        X, Y, Z : np.array\n",
    "            Coordinate matrices with matrix indexing.\n",
    "            Coordinates are expected to be - respectively -\n",
    "            from `._X`, `._Y` and `._Z` attributes.\n",
    "            May be obtained with\n",
    "            `X, Y, Z = np.meshgrid(..., indexing='ij')`.\n",
    "        \"\"\"\n",
    "        _X, IDX_X, _ = np.intersect1d(self._X, self.round(X[:, 0, 0]), return_indices=True)\n",
    "        assert len(_X) == np.shape(X)[0]\n",
    "        _Y, IDX_Y, _ = np.intersect1d(self._Y, self.round(Y[0, :, 0]), return_indices=True)\n",
    "        assert len(_Y) == np.shape(Y)[1]\n",
    "        _Z, IDX_Z, _ = np.intersect1d(self._Z, self.round(Z[0, 0, :]), return_indices=True)\n",
    "        assert len(_Z) == np.shape(Z)[2]\n",
    "\n",
    "        with np.load(self.filename) as fh:\n",
    "            return fh['CORRECTION_POTENTIAL'][np.ix_(IDX_X, IDX_Y, IDX_Z)]\n",
    "\n",
    "    def base_potential(self, X, Y, Z):\n",
    "        return (0.25 / (np.pi * self.base_conductivity)\n",
    "                / (self._epsilon\n",
    "                   + np.sqrt(np.square(X - self.x)\n",
    "                             + np.square(Y - self.y)\n",
    "                             + np.square(Z - self.z))))"
   ]
  },
  {
   "cell_type": "markdown",
   "id": "5f8608df",
   "metadata": {},
   "source": [
    "We load electrode names as names of the sections of the config file.  Please note that the _fem_ section is not a name of an electrode."
   ]
  },
  {
   "cell_type": "code",
   "execution_count": null,
   "id": "b940bbad",
   "metadata": {},
   "outputs": [],
   "source": [
    "import glob\n",
    "\n",
    "electrodes = [Electrode(filename)\n",
    "              for filename in glob.glob('FEM/solutions/tutorial/case_study/sampled/9/*.npz')]"
   ]
  },
  {
   "cell_type": "code",
   "execution_count": null,
   "id": "02755351",
   "metadata": {},
   "outputs": [],
   "source": [
    "len(electrodes)"
   ]
  },
  {
   "cell_type": "markdown",
   "id": "82a12beb",
   "metadata": {},
   "source": [
    "## FRR: Fast Reciprocal Reconstructor \n",
    "\n",
    "The `_fast_reciprocal_reconstructor` experimental module contains tools which allow for fast construction of (cross)kernels.  They use discrete for high throughput integration.\n",
    "\n",
    "### Convolver object\n",
    "\n",
    "The convolver is the engine of the FRR tools.  It is used to:\n",
    "- integrate leadfields weighted by a CSD profile,\n",
    "- obtain CSD profile of a mixture of base functions.\n",
    "\n",
    "The convolver operates on three regular 3D grids of coordinates:\n",
    "- _POT_ grid used for leadfield (_reciprocal potential_) integration,\n",
    "- _CSD_ grid used for CSD profile calculation,\n",
    "- _SRC_ grid used for distributing of base function centroids.\n",
    "\n",
    "The _SRC_ grid is an intersection (in set arithmetic sense) of the _POT_ and the _CSD_ grids, thus they define the convolver unequivocally."
   ]
  },
  {
   "cell_type": "code",
   "execution_count": null,
   "id": "5651a2ed",
   "metadata": {},
   "outputs": [],
   "source": [
    "from _fast_reciprocal_reconstructor import ckESI_convolver"
   ]
  },
  {
   "cell_type": "code",
   "execution_count": null,
   "id": "e7fe2b04",
   "metadata": {},
   "outputs": [],
   "source": [
    "_X = electrodes[0]._X\n",
    "_Y = electrodes[0]._Y\n",
    "_Z = electrodes[0]._Z\n",
    "\n",
    "\n",
    "_pot_mesh = [_X, _Y, _Z]\n",
    "_csd_mesh = [_X[::2], _Y[::2], _Z[::2]]\n",
    "\n",
    "convolver = ckESI_convolver(_pot_mesh, _csd_mesh)"
   ]
  },
  {
   "cell_type": "markdown",
   "id": "b062a765",
   "metadata": {},
   "source": [
    "Open 3D meshgrids may be accessed as `.{NAME}_MESH` attributes, where `{NAME}` is the name of the mesh.\n",
    "Components of each meshgrid may be accessed as `.{NAME}_{C}` attributes, where `{C}` is the name of the coordinate."
   ]
  },
  {
   "cell_type": "markdown",
   "id": "78527a82",
   "metadata": {},
   "source": [
    "### Model source\n",
    "\n",
    "While FRR tools operate on base function profiles defined as callables, we can use convenience kCSD base function objects as model bases (bases which centroid is `(0, 0, 0)`).\n",
    "As convolver will use the Romberg method for integration, the size of the CSD profile is limited by the K parameter of the method."
   ]
  },
  {
   "cell_type": "code",
   "execution_count": null,
   "id": "2c6f5b69",
   "metadata": {},
   "outputs": [],
   "source": [
    "from _common_new import SphericalSplineSourceKCSD, GaussianSourceKCSD3D\n",
    "\n",
    "ROMBERG_K = 6\n",
    "SRC_R_MAX = 2 ** (ROMBERG_K - 1) * min(convolver.ds('POT'))\n",
    "BASE_CONDUCTIVITY = electrodes[0].base_conductivity\n",
    "\n",
    "spline_nodes = [SRC_R_MAX / 3, SRC_R_MAX]\n",
    "spline_polynomials = [[1],\n",
    "                      [0,\n",
    "                       6.75 / SRC_R_MAX,\n",
    "                       -13.5 / SRC_R_MAX ** 2,\n",
    "                       6.75 / SRC_R_MAX ** 3]]\n",
    "model_src = SphericalSplineSourceKCSD(0, 0, 0,\n",
    "                                      spline_nodes,\n",
    "                                      spline_polynomials,\n",
    "                                      BASE_CONDUCTIVITY)\n",
    "print(SRC_R_MAX)"
   ]
  },
  {
   "cell_type": "markdown",
   "id": "634f06b7",
   "metadata": {},
   "source": [
    "### Convolver interface\n",
    "\n",
    "The convolver interface binds the convolver to:\n",
    "- a CSD profile,\n",
    "- weights of a quadrature of equally-spaced nodes,\n",
    "- boolean mask of nodes of the _SRC_ mesh with centroids of the base functions.\n",
    "\n",
    "When analytical solution of the kCSD forward problem is used coupled with numeric integration of leadfield correction, it is advised not to put centroids near the boundary of the _SRC_ grid."
   ]
  },
  {
   "cell_type": "code",
   "execution_count": null,
   "id": "53154992",
   "metadata": {},
   "outputs": [],
   "source": [
    "from _fast_reciprocal_reconstructor import ConvolverInterfaceIndexed\n",
    "from scipy.integrate import romb\n",
    "\n",
    "ROMBERG_N = 2 ** ROMBERG_K + 1\n",
    "ROMBERG_WEIGHTS = romb(np.identity(ROMBERG_N)) * 2 ** -ROMBERG_K\n",
    "BRAIN_RADIUS = 0.079\n",
    "\n",
    "SRC_IDX = ((convolver.SRC_Z > -0.06 + SRC_R_MAX)\n",
    "           & (np.sqrt(np.square(convolver.SRC_X)\n",
    "                      + np.square(convolver.SRC_Y)\n",
    "                      + np.square(convolver.SRC_Z)) < BRAIN_RADIUS - SRC_R_MAX))"
   ]
  },
  {
   "cell_type": "code",
   "execution_count": null,
   "id": "727681c0",
   "metadata": {},
   "outputs": [],
   "source": [
    "print(SRC_IDX.sum())"
   ]
  },
  {
   "cell_type": "code",
   "execution_count": null,
   "id": "98e4eec5",
   "metadata": {},
   "outputs": [],
   "source": [
    "convolver_interface = ConvolverInterfaceIndexed(convolver,\n",
    "                                                model_src.csd,\n",
    "                                                ROMBERG_WEIGHTS,\n",
    "                                                SRC_IDX)"
   ]
  },
  {
   "cell_type": "markdown",
   "id": "c623dbc3",
   "metadata": {},
   "source": [
    "### Kernel constructor and cross-kernel constructor\n",
    "\n",
    "The kernel constructor is an object which is a collection of callables (methods) facilitating construction of base function images at electrodes (_PHI_ matrix) and the kernel matrix.  The cross-kernel constructor is a callable which - based on the _PHI_ matrix and boolean mask of the _CSD_ grid - constructs the cross-kernel."
   ]
  },
  {
   "cell_type": "code",
   "execution_count": null,
   "id": "301e320f",
   "metadata": {},
   "outputs": [],
   "source": [
    "from _fast_reciprocal_reconstructor import ckESI_kernel_constructor, ckESI_crosskernel_constructor"
   ]
  },
  {
   "cell_type": "code",
   "execution_count": null,
   "id": "916f877f",
   "metadata": {},
   "outputs": [],
   "source": [
    "kernel_constructor = ckESI_kernel_constructor()"
   ]
  },
  {
   "cell_type": "code",
   "execution_count": null,
   "id": "4e9bbf61",
   "metadata": {},
   "outputs": [],
   "source": [
    "CSD_IDX = np.ones(convolver.shape('CSD'),\n",
    "                  dtype=bool)"
   ]
  },
  {
   "cell_type": "code",
   "execution_count": null,
   "id": "02093dd9",
   "metadata": {},
   "outputs": [],
   "source": [
    "kernel_constructor.create_crosskernel = ckESI_crosskernel_constructor(convolver_interface,\n",
    "                                                                      CSD_IDX)"
   ]
  },
  {
   "cell_type": "markdown",
   "id": "e03155cd",
   "metadata": {},
   "source": [
    "As all elements of `CSD_IDX` are true, conversion of the reconstructed CSD vector is as simple as its rearrangement to match the _CSD_ grid of `convolver`.  We declare an auxilary `to_3D()` function for that purpose."
   ]
  },
  {
   "cell_type": "code",
   "execution_count": null,
   "id": "7e9c4420",
   "metadata": {},
   "outputs": [],
   "source": [
    "def to_3D(CSD):\n",
    "    return CSD.reshape(convolver.shape('CSD'))"
   ]
  },
  {
   "cell_type": "markdown",
   "id": "24a13d83",
   "metadata": {},
   "source": [
    "### Potential At Electrode: analytical solution of the kCSD forward problem"
   ]
  },
  {
   "cell_type": "code",
   "execution_count": null,
   "id": "7f39d3f7",
   "metadata": {},
   "outputs": [],
   "source": [
    "from _fast_reciprocal_reconstructor import PAE_kCSD_Analytical"
   ]
  },
  {
   "cell_type": "code",
   "execution_count": null,
   "id": "360f7a30",
   "metadata": {},
   "outputs": [],
   "source": [
    "pae_kcsd = PAE_kCSD_Analytical(convolver_interface,\n",
    "                               potential=model_src.potential)"
   ]
  },
  {
   "cell_type": "code",
   "execution_count": null,
   "id": "36465abb",
   "metadata": {},
   "outputs": [],
   "source": [
    "%%time\n",
    "PHI_KCSD = kernel_constructor.create_base_images_at_electrodes(electrodes,\n",
    "                                                               pae_kcsd)"
   ]
  },
  {
   "cell_type": "code",
   "execution_count": null,
   "id": "56ca8286",
   "metadata": {},
   "outputs": [],
   "source": [
    "%%time\n",
    "KERNEL_KCSD = kernel_constructor.create_kernel(PHI_KCSD)"
   ]
  },
  {
   "cell_type": "code",
   "execution_count": null,
   "id": "ae18e461",
   "metadata": {},
   "outputs": [],
   "source": [
    "%%time\n",
    "CROSSKERNEL_KCSD = kernel_constructor.create_crosskernel(PHI_KCSD)"
   ]
  },
  {
   "cell_type": "markdown",
   "id": "d82c4070",
   "metadata": {},
   "source": [
    "It may take few minutes."
   ]
  },
  {
   "cell_type": "code",
   "execution_count": null,
   "id": "b726181a",
   "metadata": {},
   "outputs": [],
   "source": [
    "del PHI_KCSD"
   ]
  },
  {
   "cell_type": "markdown",
   "id": "f0ed873a",
   "metadata": {},
   "source": [
    "### Potential At Electrode: kESI corrected analytical solution of the kCSD forward problem"
   ]
  },
  {
   "cell_type": "code",
   "execution_count": null,
   "id": "0a4004b7",
   "metadata": {},
   "outputs": [],
   "source": [
    "from _fast_reciprocal_reconstructor import PAE_kESI_Analytical"
   ]
  },
  {
   "cell_type": "code",
   "execution_count": null,
   "id": "fc6c3a89",
   "metadata": {},
   "outputs": [],
   "source": [
    "pae_kesi = PAE_kESI_Analytical(convolver_interface,\n",
    "                               potential=model_src.potential)"
   ]
  },
  {
   "cell_type": "code",
   "execution_count": null,
   "id": "3c853bb0",
   "metadata": {},
   "outputs": [],
   "source": [
    "%%time\n",
    "PHI_KESI = kernel_constructor.create_base_images_at_electrodes(electrodes,\n",
    "                                                               pae_kesi)"
   ]
  },
  {
   "cell_type": "markdown",
   "id": "bd8b82e9",
   "metadata": {},
   "source": [
    "It may take even an hour."
   ]
  },
  {
   "cell_type": "code",
   "execution_count": null,
   "id": "8018372c",
   "metadata": {},
   "outputs": [],
   "source": [
    "%%time\n",
    "KERNEL_KESI = kernel_constructor.create_kernel(PHI_KESI)"
   ]
  },
  {
   "cell_type": "code",
   "execution_count": null,
   "id": "4bb12d0b",
   "metadata": {},
   "outputs": [],
   "source": [
    "%%time\n",
    "CROSSKERNEL_KESI = kernel_constructor.create_crosskernel(PHI_KESI)"
   ]
  },
  {
   "cell_type": "markdown",
   "id": "78ff5ccd",
   "metadata": {},
   "source": [
    "It may take few minutes."
   ]
  },
  {
   "cell_type": "code",
   "execution_count": null,
   "id": "4391c28d",
   "metadata": {},
   "outputs": [],
   "source": [
    "del PHI_KESI"
   ]
  },
  {
   "cell_type": "markdown",
   "id": "513cba52",
   "metadata": {},
   "source": [
    "# Reconstructor"
   ]
  },
  {
   "cell_type": "code",
   "execution_count": null,
   "id": "2c737a82",
   "metadata": {},
   "outputs": [],
   "source": [
    "from kesi._verbose import _CrossKernelReconstructor as Reconstructor\n",
    "from kesi._engine import _LinearKernelSolver as KernelSolver"
   ]
  },
  {
   "cell_type": "code",
   "execution_count": null,
   "id": "e0245c6f",
   "metadata": {},
   "outputs": [],
   "source": [
    "reconstructor_kcsd = Reconstructor(KernelSolver(KERNEL_KCSD),\n",
    "                                   CROSSKERNEL_KCSD)"
   ]
  },
  {
   "cell_type": "code",
   "execution_count": null,
   "id": "5108b7e6",
   "metadata": {},
   "outputs": [],
   "source": [
    "reconstructor_kesi = Reconstructor(KernelSolver(KERNEL_KESI),\n",
    "                                   CROSSKERNEL_KESI)"
   ]
  },
  {
   "cell_type": "markdown",
   "id": "1838a30e",
   "metadata": {},
   "source": [
    "# FEM forward modelling"
   ]
  },
  {
   "cell_type": "code",
   "execution_count": null,
   "id": "8219c940",
   "metadata": {},
   "outputs": [],
   "source": [
    "import configparser\n",
    "import dolfin\n",
    "import scipy.interpolate as si\n",
    "\n",
    "import FEM.fem_common as fc"
   ]
  },
  {
   "cell_type": "markdown",
   "id": "d1963dda",
   "metadata": {},
   "source": [
    "We define a FEM forward model. It is a callable, which accepts CSD profile as a callable compatible with `scipy.interpolate.RegularGridInterpolator`."
   ]
  },
  {
   "cell_type": "code",
   "execution_count": null,
   "id": "d17a0979",
   "metadata": {},
   "outputs": [],
   "source": [
    "class ForwardModel(object):\n",
    "    GROUNDED_PLATE_AT = -0.088\n",
    "\n",
    "    def __init__(self, mesh, degree, config):\n",
    "        self.fm = fc.FunctionManager(mesh, degree, 'CG')\n",
    "        self.config = configparser.ConfigParser()\n",
    "        self.config.read(config)\n",
    "        \n",
    "        self.V = self.fm.function_space\n",
    "        mesh = self.fm.mesh\n",
    "\n",
    "        n = self.V.dim()\n",
    "        d = mesh.geometry().dim()\n",
    "\n",
    "        self.dof_coords = self.V.tabulate_dof_coordinates()\n",
    "        self.dof_coords.resize((n, d))\n",
    "        \n",
    "        self.csd_f = self.fm.function()\n",
    "        \n",
    "        self.subdomains = self.fm.load_subdomains()\n",
    "        self.dx = dolfin.Measure(\"dx\")(subdomain_data=self.subdomains)\n",
    "\n",
    "    @property\n",
    "    def CONDUCTIVITY(self):\n",
    "        for section in self.config.sections():\n",
    "            if self._is_conductive_volume(section):\n",
    "                yield (self.config.getint(section, 'volume'),\n",
    "                       self.config.getfloat(section, 'conductivity'))\n",
    "\n",
    "    def _is_conductive_volume(self, section):\n",
    "        return (self.config.has_option(section, 'volume')\n",
    "                and self.config.has_option(section, 'conductivity')) \n",
    "        \n",
    "    def __call__(self, csd_interpolator):\n",
    "        self.csd_f.vector()[:] = csd_interpolator(self.dof_coords)\n",
    "        \n",
    "        dirichlet_bc_gt = dolfin.DirichletBC(self.V,\n",
    "                                     dolfin.Constant(0),\n",
    "                                     (lambda x, on_boundary:\n",
    "                                      on_boundary and x[2] <= self.GROUNDED_PLATE_AT))\n",
    "        test = self.fm.test_function()\n",
    "        trial = self.fm.trial_function()\n",
    "        potential = self.fm.function()\n",
    "        \n",
    "        \n",
    "        dx = self.dx\n",
    "        a = sum(dolfin.Constant(c)\n",
    "                * dolfin.inner(dolfin.grad(trial),\n",
    "                               dolfin.grad(test))\n",
    "                * dx(i)\n",
    "                for i, c\n",
    "                in self.CONDUCTIVITY)\n",
    "        L = self.csd_f * test * dx\n",
    "        \n",
    "        b = dolfin.assemble(L)\n",
    "        A = dolfin.assemble(a)\n",
    "        dirichlet_bc_gt.apply(A, b)\n",
    "        \n",
    "        solver = dolfin.KrylovSolver(\"cg\", \"ilu\")\n",
    "        solver.parameters[\"maximum_iterations\"] = 10000\n",
    "        solver.parameters[\"absolute_tolerance\"] = 1E-8\n",
    "        solver.solve(A, potential.vector(), b)\n",
    "        \n",
    "        return potential"
   ]
  },
  {
   "cell_type": "markdown",
   "id": "1afccdaf",
   "metadata": {},
   "source": [
    "To simulate the differences between actual and assumed head geometries, we use model with thinner CSF layer for forward modelling."
   ]
  },
  {
   "cell_type": "code",
   "execution_count": null,
   "id": "d3cd7584",
   "metadata": {},
   "outputs": [],
   "source": [
    "%%time\n",
    "fem = ForwardModel(mesh='FEM/meshes/meshes/four_spheres_csf_1_mm_plain/mesh.xdmf',\n",
    "                   degree=1,\n",
    "                   config='FEM/model_properties/four_spheres_csf_1_mm.ini')"
   ]
  },
  {
   "cell_type": "markdown",
   "id": "c2d05807",
   "metadata": {},
   "source": [
    "It may take few minutes."
   ]
  },
  {
   "cell_type": "markdown",
   "id": "3cb3a319",
   "metadata": {},
   "source": [
    "# Reconstruction"
   ]
  },
  {
   "cell_type": "markdown",
   "id": "4cd60bb6",
   "metadata": {},
   "source": [
    "## Visualisation\n",
    "\n",
    "For volumetric data visualisation we define an auxilary functions `crude_plot_data()` and `plot_csd_reconstruction()`."
   ]
  },
  {
   "cell_type": "code",
   "execution_count": null,
   "id": "137952c4",
   "metadata": {},
   "outputs": [],
   "source": [
    "import matplotlib.pyplot as plt\n",
    "import cbf"
   ]
  },
  {
   "cell_type": "code",
   "execution_count": null,
   "id": "c730a2c9",
   "metadata": {},
   "outputs": [],
   "source": [
    "def crude_plot_data(DATA,\n",
    "                    x=None,\n",
    "                    y=None,\n",
    "                    z=None,\n",
    "                    grid=None,\n",
    "                    dpi=30,\n",
    "                    cmap=cbf.bwr,\n",
    "                    title=None,\n",
    "                    amp=None):\n",
    "    wx, wy, wz = DATA.shape\n",
    "    \n",
    "    if grid is None:\n",
    "        ix, iy, iz = [w // 2 if a is None else a\n",
    "                      for a, w in zip([x, y, z],\n",
    "                                      [wx, wy, wz])]\n",
    "        x, y, z = ix, iy, iz\n",
    "        \n",
    "    else:\n",
    "        x, y, z = [g.mean() if a is None else a\n",
    "                   for a, g in zip([x, y, z],\n",
    "                                   grid)]\n",
    "        ix, iy, iz = [np.searchsorted(g, a)\n",
    "                      for a, g in zip([x, y, z],\n",
    "                                   grid)]\n",
    "\n",
    "    fig = plt.figure(figsize=((wx + wy) / dpi,\n",
    "                              (wz + wy) / dpi))\n",
    "    if title is not None:\n",
    "        fig.suptitle(title)\n",
    "    gs = plt.GridSpec(2, 2,\n",
    "                      figure=fig,\n",
    "                      width_ratios=[wx, wy],\n",
    "                      height_ratios=[wz, wy])\n",
    "\n",
    "    ax_xz = fig.add_subplot(gs[0, 0])\n",
    "    ax_xz.set_aspect('equal')\n",
    "    ax_xz.set_ylabel('Z')\n",
    "    ax_xz.set_xlabel('X')\n",
    "\n",
    "    ax_yx = fig.add_subplot(gs[1, 1])\n",
    "    ax_yx.set_aspect('equal')\n",
    "    ax_yx.set_ylabel('X')\n",
    "    ax_yx.set_xlabel('Y')\n",
    "\n",
    "    ax_yz = fig.add_subplot(gs[0, 1],\n",
    "                            sharey=ax_xz,\n",
    "                            sharex=ax_yx)\n",
    "    ax_yz.set_aspect('equal')\n",
    "\n",
    "    cax = fig.add_subplot(gs[1, 0])\n",
    "    cax.set_visible(False)\n",
    "\n",
    "    if amp is None:\n",
    "        amp = abs(DATA).max()\n",
    "\n",
    "    if grid is None:\n",
    "        ax_xz.imshow(DATA[:, iy, :].T,\n",
    "                     vmin=-amp,\n",
    "                     vmax=amp,\n",
    "                     cmap=cmap,\n",
    "                     origin='lower')\n",
    "        ax_yx.imshow(DATA[:, :, iz],\n",
    "                     vmin=-amp,\n",
    "                     vmax=amp,\n",
    "                     cmap=cmap,\n",
    "                     origin='lower')\n",
    "        im = ax_yz.imshow(DATA[ix, :, :].T,\n",
    "                          vmin=-amp,\n",
    "                          vmax=amp,\n",
    "                          cmap=cmap,\n",
    "                          origin='lower')\n",
    "    else:\n",
    "        ax_xz.imshow(DATA[:, iy, :].T,\n",
    "                     vmin=-amp,\n",
    "                     vmax=amp,\n",
    "                     cmap=cmap,\n",
    "                     origin='lower',\n",
    "                     extent=(grid[0].min(), grid[0].max(),\n",
    "                             grid[2].min(), grid[2].max()))\n",
    "        ax_yx.imshow(DATA[:, :, iz],\n",
    "                     vmin=-amp,\n",
    "                     vmax=amp,\n",
    "                     cmap=cmap,\n",
    "                     origin='lower',\n",
    "                     extent=(grid[1].min(), grid[1].max(),\n",
    "                             grid[0].min(), grid[0].max()))\n",
    "        im = ax_yz.imshow(DATA[ix, :, :].T,\n",
    "                          vmin=-amp,\n",
    "                          vmax=amp,\n",
    "                          cmap=cmap,\n",
    "                          origin='lower',\n",
    "                          extent=(grid[1].min(), grid[1].max(),\n",
    "                                  grid[2].min(), grid[2].max()))\n",
    "        \n",
    "    ax_xz.axvline(x, ls=':', color=cbf.BLACK)\n",
    "    ax_xz.axhline(z, ls=':', color=cbf.BLACK)\n",
    "\n",
    "    ax_yx.axvline(y, ls=':', color=cbf.BLACK)\n",
    "    ax_yx.axhline(x, ls=':', color=cbf.BLACK)\n",
    "\n",
    "    ax_yz.axvline(y, ls=':', color=cbf.BLACK)\n",
    "    ax_yz.axhline(z, ls=':', color=cbf.BLACK)\n",
    "    fig.colorbar(im, ax=cax)\n",
    "\n",
    "    return (fig, ((ax_xz, ax_yz),\n",
    "                  (cax, ax_yx)))"
   ]
  },
  {
   "cell_type": "code",
   "execution_count": null,
   "id": "1a99e8fa",
   "metadata": {},
   "outputs": [],
   "source": [
    "csd_grid = [_x.flatten() for _x in convolver.CSD_MESH]"
   ]
  },
  {
   "cell_type": "code",
   "execution_count": null,
   "id": "c2ad133f",
   "metadata": {},
   "outputs": [],
   "source": [
    "def add_spheres(plot, x, y, z,\n",
    "                sphere_radii=[0.079, 0.082, 0.086, 0.090]):\n",
    "    def plot_circle(ax, r):\n",
    "        ax.add_artist(plt.Circle((0, 0), r,\n",
    "                                facecolor='none',\n",
    "                                edgecolor=cbf.BLACK,\n",
    "                                linestyle=':'))\n",
    "\n",
    "    (fig, ((ax_xz, ax_yz),\n",
    "           (cax, ax_yx))) = plot\n",
    "    for r2 in np.square(sphere_radii):\n",
    "        plot_circle(ax_xz, np.sqrt(r2 - np.square(y)))\n",
    "        plot_circle(ax_yz, np.sqrt(r2 - np.square(x)))\n",
    "        plot_circle(ax_yx, np.sqrt(r2 - np.square(z)))\n",
    "\n",
    "def plot_csd_reconstruction(CSD, x, y, z, title=''):\n",
    "    ERROR = CSD - GT_CSD\n",
    "    error_L2 = np.sqrt(np.square(ERROR).sum() / np.square(GT_CSD).sum())\n",
    "    amp = max(abs(CSD).max(),\n",
    "              abs(GT_CSD).max(),\n",
    "              abs(ERROR).max())\n",
    "    \n",
    "    for plot in [crude_plot_data(GT_CSD, title='GT CSD',\n",
    "                                 grid=csd_grid, x=x, y=y, z=z, dpi=35,\n",
    "                                 amp=amp),\n",
    "                 crude_plot_data(CSD, title=f'{title} reconstruction',\n",
    "                                 grid=csd_grid, x=x, y=y, z=z, dpi=35,\n",
    "                                 amp=amp),\n",
    "                 crude_plot_data(ERROR, title=f'{title} error (GT normalized L2 norm: {error_L2:.2g})',\n",
    "                                 grid=csd_grid, x=x, y=y, z=z, dpi=35,\n",
    "                                 amp=amp)]:\n",
    "        add_spheres(plot, x, y, z)"
   ]
  },
  {
   "cell_type": "markdown",
   "id": "8c1343dc",
   "metadata": {},
   "source": [
    "## Ground truth CSD and its image at the electrodes\n",
    "\n",
    "Derive GT CSD as an eigensource of analytical kCSD."
   ]
  },
  {
   "cell_type": "code",
   "execution_count": null,
   "id": "ff9d8ec5",
   "metadata": {},
   "outputs": [],
   "source": [
    "%%time\n",
    "EIGENVALUES_KCSD, EIGENVECTORS_KCSD = np.linalg.eigh(KERNEL_KCSD)\n",
    "EIGENVALUES_KCSD, EIGENVECTORS_KCSD = EIGENVALUES_KCSD[::-1], EIGENVECTORS_KCSD[:, ::-1]\n",
    "\n",
    "GT_CSD = to_3D(reconstructor_kcsd(EIGENVECTORS_KCSD[:, 2]))"
   ]
  },
  {
   "cell_type": "code",
   "execution_count": null,
   "id": "ae39a37a",
   "metadata": {},
   "outputs": [],
   "source": [
    "add_spheres(crude_plot_data(GT_CSD,\n",
    "                            title='GT CSD',\n",
    "                            grid=csd_grid,\n",
    "                            x=-0.05,\n",
    "                            y=0.015,\n",
    "                            z=-0.02,\n",
    "                            dpi=35),\n",
    "            x=-0.05,\n",
    "            y=0.015,\n",
    "            z=-0.02,\n",
    "            sphere_radii=[0.079, 0.080, 0.085, 0.090])"
   ]
  },
  {
   "cell_type": "markdown",
   "id": "f3bfa612",
   "metadata": {},
   "source": [
    "Simulate the potential generated by the ground truth CSD profile."
   ]
  },
  {
   "cell_type": "code",
   "execution_count": null,
   "id": "4a75d79d",
   "metadata": {},
   "outputs": [],
   "source": [
    "%%time\n",
    "_csd = si.RegularGridInterpolator(csd_grid,\n",
    "                                  GT_CSD,\n",
    "                                  bounds_error=False,\n",
    "                                  fill_value=0)\n",
    "potential = fem(_csd)"
   ]
  },
  {
   "cell_type": "markdown",
   "id": "b3ee0035",
   "metadata": {},
   "source": [
    "We probe the potential in the whole region of interest to visualise it (it may take several minutes)."
   ]
  },
  {
   "cell_type": "code",
   "execution_count": null,
   "id": "c36d826c",
   "metadata": {},
   "outputs": [],
   "source": [
    "%%time\n",
    "with np.nditer([convolver.CSD_X[::2, :, :],\n",
    "                convolver.CSD_Y[:, ::2, :],\n",
    "                convolver.CSD_Z[:, :, ::2],\n",
    "                None]) as it:\n",
    "    for _x, _y, _z, _res in it:\n",
    "        try:\n",
    "            _res[...] = potential(_x, _y, _z)\n",
    "        except RuntimeError:\n",
    "            _res[...] = np.nan\n",
    "\n",
    "    V_ROI = np.ma.masked_invalid(it.operands[3])"
   ]
  },
  {
   "cell_type": "code",
   "execution_count": null,
   "id": "e9e7ec68",
   "metadata": {},
   "outputs": [],
   "source": [
    "add_spheres(crude_plot_data(V_ROI,\n",
    "                            cmap=cbf.PRGn,\n",
    "                            grid=[_x[::2] for _x in csd_grid],\n",
    "                            x=-0.05,\n",
    "                            y=0.015,\n",
    "                            z=-0.02,\n",
    "                            dpi=17,\n",
    "                            title='POTENTIAL'),\n",
    "            x=-0.05,\n",
    "            y=0.015,\n",
    "            z=-0.02,\n",
    "            sphere_radii=[0.079, 0.080, 0.085, 0.090])"
   ]
  },
  {
   "cell_type": "markdown",
   "id": "bfe3fe7e",
   "metadata": {},
   "source": [
    "Probe the potential at electrodes."
   ]
  },
  {
   "cell_type": "code",
   "execution_count": null,
   "id": "13744197",
   "metadata": {},
   "outputs": [],
   "source": [
    "GT_V = np.array([potential(_e.x, _e.y, _e.z) for _e in electrodes])"
   ]
  },
  {
   "cell_type": "markdown",
   "id": "1041a32b",
   "metadata": {},
   "source": [
    "To make the case more realistic we introduce 1% noise."
   ]
  },
  {
   "cell_type": "code",
   "execution_count": null,
   "id": "9c5549f1",
   "metadata": {},
   "outputs": [],
   "source": [
    "np.random.seed(42)\n",
    "NOISE_V = np.random.normal(loc=GT_V,\n",
    "                           scale=0.01 * GT_V.std())"
   ]
  },
  {
   "cell_type": "code",
   "execution_count": null,
   "id": "8efbf951",
   "metadata": {},
   "outputs": [],
   "source": [
    "CSD_KCSD = to_3D(reconstructor_kcsd(NOISE_V))"
   ]
  },
  {
   "cell_type": "code",
   "execution_count": null,
   "id": "f8f159c9",
   "metadata": {},
   "outputs": [],
   "source": [
    "CSD_KESI = to_3D(reconstructor_kesi(NOISE_V))"
   ]
  },
  {
   "cell_type": "code",
   "execution_count": null,
   "id": "e8d99615",
   "metadata": {
    "scrolled": false
   },
   "outputs": [],
   "source": [
    "plot_csd_reconstruction(CSD_KCSD, -0.05, 0.015, -0.02,\n",
    "                        title='kCSD')"
   ]
  },
  {
   "cell_type": "code",
   "execution_count": null,
   "id": "1c463608",
   "metadata": {
    "scrolled": false
   },
   "outputs": [],
   "source": [
    "plot_csd_reconstruction(CSD_KESI, -0.05, 0.015, -0.02,\n",
    "                        title='kESI')"
   ]
  },
  {
   "cell_type": "markdown",
   "id": "b06f8974",
   "metadata": {},
   "source": [
    "As you see, while the kCSD reconstruction is mostly error, the kESI reconstruction somehow resembles the ground truth."
   ]
  },
  {
   "cell_type": "markdown",
   "id": "9480f92f",
   "metadata": {},
   "source": [
    "## Regularization"
   ]
  },
  {
   "cell_type": "markdown",
   "id": "a7418efc",
   "metadata": {},
   "source": [
    "### Cross-validation\n",
    "\n",
    "To counter the noise we select a regularization parameter which minimizes cross-validation error.  The span of parameters from which it is being selected should cover eigenvalues of the kernel."
   ]
  },
  {
   "cell_type": "code",
   "execution_count": null,
   "id": "25726830",
   "metadata": {},
   "outputs": [],
   "source": [
    "EIGENVALUES_KESI = np.linalg.eigvalsh(KERNEL_KESI)[::-1]"
   ]
  },
  {
   "cell_type": "code",
   "execution_count": null,
   "id": "4d2b4f86",
   "metadata": {},
   "outputs": [],
   "source": [
    "plt.figure(figsize=(18, 12))\n",
    "plt.plot(EIGENVALUES_KCSD, label='kCSD', ls='-')\n",
    "plt.plot(EIGENVALUES_KESI, label='kESI', ls=':')\n",
    "plt.yscale('log')\n",
    "plt.legend(loc='best')"
   ]
  },
  {
   "cell_type": "code",
   "execution_count": null,
   "id": "5550e0f0",
   "metadata": {},
   "outputs": [],
   "source": [
    "REGULARIZATION_PARAMETERS = np.logspace(-2, 15, 17 * 10 + 1)"
   ]
  },
  {
   "cell_type": "code",
   "execution_count": null,
   "id": "8bc37b64",
   "metadata": {},
   "outputs": [],
   "source": [
    "from _common_new import cv"
   ]
  },
  {
   "cell_type": "code",
   "execution_count": null,
   "id": "e48c2b6d",
   "metadata": {},
   "outputs": [],
   "source": [
    "%%time\n",
    "CV_ERRORS_KCSD = cv(reconstructor_kcsd, NOISE_V, REGULARIZATION_PARAMETERS)"
   ]
  },
  {
   "cell_type": "markdown",
   "id": "8c793f37",
   "metadata": {},
   "source": [
    "It may take several minutes if other tasks are running."
   ]
  },
  {
   "cell_type": "code",
   "execution_count": null,
   "id": "8f480110",
   "metadata": {},
   "outputs": [],
   "source": [
    "%%time\n",
    "CV_ERRORS_KESI = cv(reconstructor_kesi, NOISE_V, REGULARIZATION_PARAMETERS)"
   ]
  },
  {
   "cell_type": "markdown",
   "id": "a2e7dd26",
   "metadata": {},
   "source": [
    "It may take several minutes if other tasks are running."
   ]
  },
  {
   "cell_type": "code",
   "execution_count": null,
   "id": "3f3d21c6",
   "metadata": {},
   "outputs": [],
   "source": [
    "regularization_parameter_kesi = REGULARIZATION_PARAMETERS[np.argmin(CV_ERRORS_KESI)]\n",
    "regularization_parameter_kcsd = REGULARIZATION_PARAMETERS[np.argmin(CV_ERRORS_KCSD)]"
   ]
  },
  {
   "cell_type": "code",
   "execution_count": null,
   "id": "b702eae3",
   "metadata": {},
   "outputs": [],
   "source": [
    "_kcsd = plt.plot(REGULARIZATION_PARAMETERS,\n",
    "                 CV_ERRORS_KCSD,\n",
    "                 label='kCSD')\n",
    "_kesi = plt.plot(REGULARIZATION_PARAMETERS,\n",
    "                 CV_ERRORS_KESI,\n",
    "                 label='kESI')\n",
    "plt.axvline(regularization_parameter_kcsd,\n",
    "            ls=':',\n",
    "            color=_kcsd[0].get_color())\n",
    "plt.axvline(regularization_parameter_kesi,\n",
    "            ls=':',\n",
    "            color=_kesi[0].get_color())\n",
    "plt.xscale('log')\n",
    "plt.xlabel('regularization parameter')\n",
    "plt.yscale('log')\n",
    "plt.ylabel('L2 norm of cross-validation error')\n",
    "plt.legend(loc='best')"
   ]
  },
  {
   "cell_type": "code",
   "execution_count": null,
   "id": "06212ab0",
   "metadata": {},
   "outputs": [],
   "source": [
    "CSD_KCSD_CV = to_3D(reconstructor_kcsd(NOISE_V, regularization_parameter_kcsd))"
   ]
  },
  {
   "cell_type": "code",
   "execution_count": null,
   "id": "5280abe3",
   "metadata": {},
   "outputs": [],
   "source": [
    "CSD_KESI_CV = to_3D(reconstructor_kesi(NOISE_V, regularization_parameter_kesi))"
   ]
  },
  {
   "cell_type": "code",
   "execution_count": null,
   "id": "93a71feb",
   "metadata": {
    "scrolled": false
   },
   "outputs": [],
   "source": [
    "plot_csd_reconstruction(CSD_KCSD_CV, -0.05, 0.015, -0.02,\n",
    "                        title='kCSD (regularized)')"
   ]
  },
  {
   "cell_type": "markdown",
   "id": "825396ac",
   "metadata": {},
   "source": [
    "The reconstruction still is mostly error."
   ]
  },
  {
   "cell_type": "code",
   "execution_count": null,
   "id": "c03f0361",
   "metadata": {
    "scrolled": false
   },
   "outputs": [],
   "source": [
    "plot_csd_reconstruction(CSD_KESI_CV, -0.05, 0.015, -0.02,\n",
    "                        title='kESI (regularized)')"
   ]
  },
  {
   "cell_type": "markdown",
   "id": "cd241afd",
   "metadata": {},
   "source": [
    "The kESI reconstruction definitely benefitted from regularization."
   ]
  },
  {
   "cell_type": "code",
   "execution_count": null,
   "id": "05d2232f",
   "metadata": {},
   "outputs": [],
   "source": []
  }
 ],
 "metadata": {
  "kernelspec": {
   "display_name": "Python [conda env:kesi37]",
   "language": "python",
   "name": "conda-env-kesi37-py"
  },
  "language_info": {
   "codemirror_mode": {
    "name": "ipython",
    "version": 3
   },
   "file_extension": ".py",
   "mimetype": "text/x-python",
   "name": "python",
   "nbconvert_exporter": "python",
   "pygments_lexer": "ipython3",
   "version": "3.7.13"
  }
 },
 "nbformat": 4,
 "nbformat_minor": 5
}
