{
 "cells": [
  {
   "cell_type": "code",
   "execution_count": null,
   "metadata": {},
   "outputs": [],
   "source": [
    "import datetime\n",
    "import configparser\n",
    "import os\n",
    "\n",
    "import numpy as np\n",
    "import pandas as pd"
   ]
  },
  {
   "cell_type": "code",
   "execution_count": null,
   "metadata": {},
   "outputs": [],
   "source": [
    "DEGREE = 1\n",
    "CONFIG_NAME = 'comb'\n",
    "MESH_NAME = 'composite_fine'\n",
    "MODEL_NAME = '4SM'\n",
    "K = 9\n",
    "ROMBERG_K = 5\n",
    "GROUNDED_PLATE_AT = -0.088\n",
    "\n",
    "FILENAME_PATTERN = f'FEM/solutions/paper/{MODEL_NAME}/{MESH_NAME}_{DEGREE}/{CONFIG_NAME}_sampled/{K}/{{name}}.npz'\n",
    "ES_PREFIX = f'ES/paper/{MODEL_NAME}/{MESH_NAME}/{DEGREE}/{CONFIG_NAME}/'"
   ]
  },
  {
   "cell_type": "code",
   "execution_count": null,
   "metadata": {},
   "outputs": [],
   "source": [
    "ELECTRODES = []\n",
    "for col, x in zip('ABCDE', np.linspace(-6e-3, 6e-3, 5)):\n",
    "    for row, z in enumerate(np.linspace(0.046, 0.076, 13)):\n",
    "        ELECTRODES.append({'NAME': f'{col}_{row:02d}',\n",
    "                           'X': x,\n",
    "                           'Y': 0.0,\n",
    "                           'Z': z})\n",
    "ELECTRODES = pd.DataFrame(ELECTRODES)"
   ]
  },
  {
   "cell_type": "code",
   "execution_count": null,
   "metadata": {},
   "outputs": [],
   "source": []
  },
  {
   "cell_type": "code",
   "execution_count": null,
   "metadata": {},
   "outputs": [],
   "source": [
    "import _fast_reciprocal_reconstructor as frr\n",
    "import common"
   ]
  },
  {
   "cell_type": "code",
   "execution_count": null,
   "metadata": {},
   "outputs": [],
   "source": [
    "class Electrode_kESI(object):\n",
    "    def __init__(self, filename, decimals_tolerance=None, dx=0):\n",
    "        self.filename = filename\n",
    "        self.decimals_tolerance = decimals_tolerance\n",
    "        self.dx = dx\n",
    "        with np.load(filename) as fh:\n",
    "            self._X = self.round(fh['X'])\n",
    "            self._Y = self.round(fh['Y'])\n",
    "            self._Z = self.round(fh['Z'])\n",
    "            self.x, self.y, self.z = fh['LOCATION']\n",
    "#             try:\n",
    "            self.base_conductivity = fh['BASE_CONDUCTIVITY']\n",
    "#             except KeyError:\n",
    "#                 pass\n",
    "    \n",
    "    def round(self, A):\n",
    "        if self.decimals_tolerance is None:\n",
    "            return A\n",
    "        return np.round(A, decimals=self.decimals_tolerance)\n",
    "\n",
    "    def correction_potential(self, X, Y, Z):\n",
    "        _X, IDX_X, _ = np.intersect1d(self._X, self.round(X[:, 0, 0]), return_indices=True)\n",
    "        assert len(_X) == np.shape(X)[0]\n",
    "        _Y, IDX_Y, _ = np.intersect1d(self._Y, self.round(Y[0, :, 0]), return_indices=True)\n",
    "        assert len(_Y) == np.shape(Y)[1]\n",
    "        _Z, IDX_Z, _ = np.intersect1d(self._Z, self.round(Z[0, 0, :]), return_indices=True)\n",
    "        assert len(_Z) == np.shape(Z)[2]\n",
    "\n",
    "        with np.load(self.filename) as fh:\n",
    "            return fh['CORRECTION_POTENTIAL'][np.ix_(IDX_X, IDX_Y, IDX_Z)]\n",
    "\n",
    "    def base_potential(self, X, Y, Z):\n",
    "        return (0.25 / (np.pi * self.base_conductivity)\n",
    "                / (self.dx * 0.15\n",
    "                   + np.sqrt(np.square(X - self.x)\n",
    "                             + np.square(Y - self.y)\n",
    "                             + np.square(Z - self.z))))\n",
    "\n",
    "        \n",
    "class Electrode_kCSD(object):\n",
    "    def __init__(self, filename):\n",
    "        with np.load(filename) as fh:\n",
    "            self.x, self.y, self.z = fh['LOCATION']"
   ]
  },
  {
   "cell_type": "code",
   "execution_count": null,
   "metadata": {},
   "outputs": [],
   "source": [
    "electrode = Electrode_kESI(FILENAME_PATTERN.format(name='A_00'))\n",
    "# assert all(X == electrode._X)\n",
    "# assert all(Y == electrode._Y)\n",
    "# assert all(Z == electrode._Z)\n",
    "XX = electrode._X\n",
    "YY = electrode._Y\n",
    "ZZ = electrode._Z"
   ]
  },
  {
   "cell_type": "code",
   "execution_count": null,
   "metadata": {},
   "outputs": [],
   "source": [
    "dx = (XX[-1] - XX[0]) / (len(XX) - 1)\n",
    "SRC_R_MAX = (2**(ROMBERG_K - 1)) * dx\n",
    "ROMBERG_N = 2**ROMBERG_K + 1\n",
    "print(SRC_R_MAX)\n",
    "\n",
    "WIDE_R_MAX = 90e-3 - SRC_R_MAX\n",
    "WIDE_R_MIN = 31e-3\n",
    "\n",
    "NARROW_R_MAX = 79e-3\n",
    "NARROW_R_MIN = 67e-3\n",
    "\n",
    "E_Z_MAX = 76.1e-3\n",
    "E_Z_MIN = 39.9e-3\n",
    "E_X_DIST_MAX = 6.0001e-3\n",
    "\n",
    "\n",
    "X_DIST_MAX = 9e-3\n",
    "Y_DIST_MAX = 1e-3\n",
    "print(E_Z_MIN, E_Z_MAX)"
   ]
  },
  {
   "cell_type": "code",
   "execution_count": null,
   "metadata": {},
   "outputs": [],
   "source": [
    "X = XX[abs(XX) < X_DIST_MAX + SRC_R_MAX + dx]\n",
    "Y = YY[abs(YY) < Y_DIST_MAX + SRC_R_MAX + dx]\n",
    "Z = ZZ[(ZZ < max(WIDE_R_MAX, NARROW_R_MAX) + SRC_R_MAX + dx)\n",
    "      & (ZZ > min(WIDE_R_MIN, NARROW_R_MIN) - SRC_R_MAX - dx)]"
   ]
  },
  {
   "cell_type": "code",
   "execution_count": null,
   "metadata": {},
   "outputs": [],
   "source": [
    "ELE_WIDE = ELECTRODES[(ELECTRODES.Z >= E_Z_MIN)\n",
    "                       & (ELECTRODES.Z <= E_Z_MAX)\n",
    "                       & (abs(ELECTRODES.X) <= E_X_DIST_MAX)].copy()\n",
    "print(len(ELE_WIDE))\n",
    "\n",
    "_ELE_WIDE_R2 = np.square(ELE_WIDE.X) + np.square(ELE_WIDE.Y) + np.square(ELE_WIDE.Z)\n",
    "ELE_NARROW = ELE_WIDE[(_ELE_WIDE_R2 >= np.square(NARROW_R_MIN))\n",
    "                          & (_ELE_WIDE_R2 <= np.square(NARROW_R_MAX))].copy()\n",
    "print(len(ELE_NARROW))\n",
    "\n",
    "electrodes = {'kesi_narrow': \n",
    "                  [Electrode_kESI(FILENAME_PATTERN.format(name=name),\n",
    "                                  decimals_tolerance=16,\n",
    "                                  dx=dx)\n",
    "                   for name in ELE_NARROW.NAME],\n",
    "              'kcsd_narrow': \n",
    "                  [Electrode_kCSD(FILENAME_PATTERN.format(name=name))\n",
    "                   for name in ELE_NARROW.NAME],\n",
    "              'kesi_wide': \n",
    "                  [Electrode_kESI(FILENAME_PATTERN.format(name=name),\n",
    "                                  decimals_tolerance=16,\n",
    "                                  dx=dx)\n",
    "                   for name in ELE_WIDE.NAME],\n",
    "              'kcsd_wide': \n",
    "                  [Electrode_kCSD(FILENAME_PATTERN.format(name=name))\n",
    "                   for name in ELE_WIDE.NAME],\n",
    "              }"
   ]
  },
  {
   "cell_type": "code",
   "execution_count": null,
   "metadata": {},
   "outputs": [],
   "source": [
    "# arc = np.arctan(abs(ELE.X / ELE.Z).max())\n",
    "arc = np.arctan(E_X_DIST_MAX / NARROW_R_MIN)\n",
    "print(f'{arc / np.pi * 180} deg')"
   ]
  },
  {
   "cell_type": "code",
   "execution_count": null,
   "metadata": {},
   "outputs": [],
   "source": [
    "def inflate(A):\n",
    "    B = np.empty(2 * len(A) - 1)\n",
    "    B[::2] = A\n",
    "    B[1::2] = 0.5 * (A[:-1] + A[1:])\n",
    "    return B"
   ]
  },
  {
   "cell_type": "code",
   "execution_count": null,
   "metadata": {},
   "outputs": [],
   "source": [
    "# convolver = frr.ckESI_convolver([X, Y, Z], [X, Y, Z])\n",
    "convolver = frr.ckESI_convolver([X,\n",
    "                                 Y,\n",
    "                                 Z],\n",
    "                                [inflate(X),\n",
    "                                 inflate(Y),\n",
    "                                 inflate(Z)])"
   ]
  },
  {
   "cell_type": "code",
   "execution_count": null,
   "metadata": {},
   "outputs": [],
   "source": [
    "conductivity = 0.33\n",
    "# sd = convolver.ds('POT')[0] * 16 / 6\n",
    "sd = SRC_R_MAX / 3\n",
    "model_src = common.SphericalSplineSourceKCSD(0, 0, 0,\n",
    "                                             [sd, 3 * sd],\n",
    "                                             [[1],\n",
    "                                              [0,\n",
    "                                               2.25 / sd,\n",
    "                                               -1.5 / sd ** 2,\n",
    "                                               0.25 / sd ** 3]],\n",
    "                                             conductivity)\n",
    "print(3 * sd)"
   ]
  },
  {
   "cell_type": "code",
   "execution_count": null,
   "metadata": {},
   "outputs": [],
   "source": [
    "SRC_R2 = (np.square(convolver.SRC_X)\n",
    "          + np.square(convolver.SRC_Y)\n",
    "          + np.square(convolver.SRC_Z))\n",
    "SRC_IDX_WIDE = ((SRC_R2 >= WIDE_R_MIN ** 2)\n",
    "                 & (SRC_R2 <= WIDE_R_MAX ** 2)\n",
    "                 & (abs(convolver.SRC_Y) < Y_DIST_MAX)\n",
    "                 )\n",
    "\n",
    "SRC_IDX_NARROW = ((SRC_R2 >= NARROW_R_MIN ** 2)\n",
    "                    & (SRC_R2 <= NARROW_R_MAX ** 2)\n",
    "                    & (abs(convolver.SRC_Y) < Y_DIST_MAX)\n",
    "                    & (((convolver.SRC_X * 0\n",
    "                        + convolver.SRC_Y * 0\n",
    "                        + convolver.SRC_Z\n",
    "                        / np.sqrt(SRC_R2)) >= np.cos(arc)))\n",
    "                   )\n",
    "source_idx = {'wide': SRC_IDX_WIDE,\n",
    "              'narrow': SRC_IDX_NARROW}"
   ]
  },
  {
   "cell_type": "code",
   "execution_count": null,
   "metadata": {},
   "outputs": [],
   "source": [
    "CSD_R2 = (np.square(convolver.CSD_X)\n",
    "          + np.square(convolver.CSD_Y)\n",
    "          + np.square(convolver.CSD_Z))\n",
    "CSD_IDX = CSD_R2 <= 0.090 ** 2"
   ]
  },
  {
   "cell_type": "code",
   "execution_count": null,
   "metadata": {},
   "outputs": [],
   "source": [
    "POT_R2 = (np.square(convolver.POT_X)\n",
    "          + np.square(convolver.POT_Y)\n",
    "          + np.square(convolver.POT_Z))\n",
    "POT_ALLOWED = POT_R2 <= 0.090 ** 2"
   ]
  },
  {
   "cell_type": "code",
   "execution_count": null,
   "metadata": {},
   "outputs": [],
   "source": [
    "CSD_IDX.mean(), SRC_IDX_WIDE.mean(), SRC_IDX_NARROW.mean()"
   ]
  },
  {
   "cell_type": "code",
   "execution_count": null,
   "metadata": {},
   "outputs": [],
   "source": []
  },
  {
   "cell_type": "markdown",
   "metadata": {},
   "source": [
    "# Kernels"
   ]
  },
  {
   "cell_type": "code",
   "execution_count": null,
   "metadata": {},
   "outputs": [],
   "source": [
    "kernels = {f'{setup}__SRCS_{src}': frr.ckESI_kernel_constructor(\n",
    "                                   model_src,\n",
    "                                   convolver,\n",
    "                                   SRC_IDX,\n",
    "                                   CSD_IDX,\n",
    "                                   eles,\n",
    "                                   weights=ROMBERG_N)\n",
    "           for setup, eles in electrodes.items()\n",
    "           for src, SRC_IDX in source_idx.items()}"
   ]
  },
  {
   "cell_type": "code",
   "execution_count": null,
   "metadata": {},
   "outputs": [],
   "source": []
  },
  {
   "cell_type": "code",
   "execution_count": null,
   "metadata": {},
   "outputs": [],
   "source": [
    "# %%time\n",
    "# kernels['kesi_naive_handicapped'] = kernels['kesi_naive']\n",
    "# kernels['kesi_naive'] = frr.ckESI_kernel_constructor(\n",
    "#                                 model_src,\n",
    "#                                 convolver,\n",
    "#                                 SRC_IDX_NAIVE,\n",
    "#                                 CSD_IDX,\n",
    "#                                 electrodes['kesi_naive'],\n",
    "#                                 weights=ROMBERG_N,\n",
    "#                                 leadfield_allowed_mask=POT_ALLOWED,\n",
    "#                                 csd_allowed_mask=CSD_IDX) #,"
   ]
  },
  {
   "cell_type": "code",
   "execution_count": null,
   "metadata": {},
   "outputs": [],
   "source": []
  },
  {
   "cell_type": "markdown",
   "metadata": {},
   "source": [
    "# Eigenanalysis"
   ]
  },
  {
   "cell_type": "code",
   "execution_count": null,
   "metadata": {},
   "outputs": [],
   "source": [
    "_SRC = np.zeros(convolver.shape('SRC'))\n",
    "_CSD = np.zeros(convolver.shape('CSD'))\n",
    "\n",
    "for name, ks in kernels.items():\n",
    "    _n = len(ks._pre_kernel)\n",
    "    _PHI = ks._pre_kernel * _n\n",
    "    _KERNEL = ks.kernel * _n\n",
    "\n",
    "    _EIGENVALUES, _EIGENVECTORS = np.linalg.eigh(_KERNEL)\n",
    "    _EIGENVALUES, _EIGENVECTORS = _EIGENVALUES[::-1], _EIGENVECTORS[:, ::-1]\n",
    "    _EIGENSOURCES = np.matmul(_PHI,\n",
    "                              np.matmul(_EIGENVECTORS,\n",
    "                                        np.diag(1. / np.sqrt(_EIGENVALUES))))\n",
    "\n",
    "    for i, _ES in enumerate(_EIGENSOURCES.T):\n",
    "        print(name, i)\n",
    "        _SRC[ks.source_indices] = _ES\n",
    "        _CSD[CSD_IDX] = convolver.base_weights_to_csd(_SRC,\n",
    "                                                      model_src.csd,\n",
    "                                                      (ROMBERG_N * 2 - 1,)*3)[CSD_IDX]\n",
    "        np.savez_compressed(os.path.join(ES_PREFIX,\n",
    "                                         f'{name}_ES{i:02d}.npz'),\n",
    "                            X=convolver.CSD_X.flatten(),\n",
    "                            Y=convolver.CSD_Y.flatten(),\n",
    "                            Z=convolver.CSD_Z.flatten(),\n",
    "                            CSD=_CSD,\n",
    "                            EIGENSOURCE=_ES,\n",
    "                            EIGENVECTOR=_EIGENVECTORS[:, i],\n",
    "                            EIGENVALUE=_EIGENVALUES[i],\n",
    "                            SOURCE_X=convolver.SRC_X.flatten(),\n",
    "                            SOURCE_Y=convolver.SRC_Y.flatten(),\n",
    "                            SOURCE_Z=convolver.SRC_Z.flatten(),\n",
    "                            SOURCE_IDX=ks.source_indices)\n",
    "    else:\n",
    "        _SRC[ks.source_indices] = 0"
   ]
  },
  {
   "cell_type": "code",
   "execution_count": null,
   "metadata": {},
   "outputs": [],
   "source": []
  }
 ],
 "metadata": {
  "kernelspec": {
   "display_name": "Python [conda env:kesi37]",
   "language": "python",
   "name": "conda-env-kesi37-py"
  },
  "language_info": {
   "codemirror_mode": {
    "name": "ipython",
    "version": 3
   },
   "file_extension": ".py",
   "mimetype": "text/x-python",
   "name": "python",
   "nbconvert_exporter": "python",
   "pygments_lexer": "ipython3",
   "version": "3.7.12"
  }
 },
 "nbformat": 4,
 "nbformat_minor": 4
}
