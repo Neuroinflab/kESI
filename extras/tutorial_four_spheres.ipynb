{
 "cells": [
  {
   "cell_type": "markdown",
   "metadata": {},
   "source": [
    "Please note that this tutorial assumes you are already familiar\n",
    "with technical details of kESI implementation.  If you are not,\n",
    "consider running its expanded version\n",
    "_tutorial\\_four\\_spheres\\_basics\\_explained.ipynb_ instead."
   ]
  },
  {
   "cell_type": "markdown",
   "metadata": {},
   "source": [
    "# Requirements\n",
    "\n",
    "## Memory\n",
    "\n",
    "The code of the notebook requires at least 7.0 GB (6.6 GiB) of free memory.\n",
    "\n",
    "\n",
    "## Environment\n",
    "\n",
    "1. Anaconda Python distribution (tested with _Miniconda3-py39\\_4.12.0-Linux-x86\\_64.sh_, _conda v. 4.12.0_).\n",
    "2. Jupyter server (see _extras/jupyter\\_server.sh_ for details).\n",
    "3. Anaconda environments (run _setup\\_conda\\_envs.sh_).\n",
    "4. gmsh (not necessary if you already have meshes in either MSH or XDMF format).\n",
    "\n",
    "\n",
    "## Setup\n",
    "\n",
    "### Mesh\n",
    "\n",
    "You need to have a mesh in XDMF format.  Try:\n",
    "\n",
    "    conda activate kesi37\n",
    "    cd extras/FEM/meshes\n",
    "    snakemake meshes/four_spheres_csf_1_mm_plain/normal.xdmf -j 1\n",
    "    \n",
    "It may take a while.  At least 5.3 GB (5 GiB) of free memory is necessary."
   ]
  },
  {
   "cell_type": "markdown",
   "metadata": {},
   "source": [
    "### Model properties\n",
    "\n",
    "We are going to use the _extras/FEM/model\\_properties/four\\_spheres\\_csf\\_1\\_mm.ini_ property file."
   ]
  },
  {
   "cell_type": "markdown",
   "metadata": {},
   "source": [
    "### Electrodes\n",
    "\n",
    "Lets define positions of three point electrodes:\n",
    "\n",
    "    [first]\n",
    "    x = 0\n",
    "    y = 0\n",
    "    z = 0.0785\n",
    "    \n",
    "    [second]\n",
    "    x = 0.01\n",
    "    y = 0\n",
    "    z = 0.07\n",
    "    \n",
    "    [third]\n",
    "    x = 0.01\n",
    "    y = 0.01\n",
    "    z = 0.07\n",
    "\n",
    "Write the positions as _extras/FEM/electrode\\_locations/tutorial/four\\_spheres.ini_."
   ]
  },
  {
   "cell_type": "markdown",
   "metadata": {},
   "source": [
    "# Preprocessing\n",
    "\n",
    "## Calculation of the leadfield correction\n",
    "\n",
    "For every electrode we use Finite Element Method (FEM) to calculate the leadfield correction (at least 5.5 GB of free RAM is required):\n",
    "\n",
    "    cd extras\n",
    "    python paper_solve_sphere_on_plate.py \\\n",
    "      --mesh FEM/meshes/meshes/four_spheres_csf_1_mm_plain/normal.xdmf \\\n",
    "      --degree 1 \\\n",
    "      --config FEM/model_properties/four_spheres_csf_1_mm.ini \\\n",
    "      --grounded-plate-edge-z -0.088 \\\n",
    "      --electrodes FEM/electrode_locations/tutorial/four_spheres.ini \\\n",
    "      --name first \\\n",
    "      --output FEM/solutions/tutorial/four_spheres/first.ini\n",
    "    python paper_solve_sphere_on_plate.py \\\n",
    "      --mesh FEM/meshes/meshes/four_spheres_csf_1_mm_plain/normal.xdmf \\\n",
    "      --degree 1 \\\n",
    "      --config FEM/model_properties/four_spheres_csf_1_mm.ini \\\n",
    "      --grounded-plate-edge-z -0.088 \\\n",
    "      --electrodes FEM/electrode_locations/tutorial/four_spheres.ini \\\n",
    "      --name second \\\n",
    "      --output FEM/solutions/tutorial/four_spheres/second.ini\n",
    "    python paper_solve_sphere_on_plate.py \\\n",
    "      --mesh FEM/meshes/meshes/four_spheres_csf_1_mm_plain/normal.xdmf \\\n",
    "      --degree 1 \\\n",
    "      --config FEM/model_properties/four_spheres_csf_1_mm.ini \\\n",
    "      --grounded-plate-edge-z -0.088 \\\n",
    "      --electrodes FEM/electrode_locations/tutorial/four_spheres.ini \\\n",
    "      --name third \\\n",
    "      --output FEM/solutions/tutorial/four_spheres/third.ini\n",
    "\n",
    "> Note, that for spherical geometries a dedicated tool\n",
    "> `paper_solve_sphere_on_plate.py` is used, with an\n",
    "> additional parameter `--grounded-plate-edge-z`.\n",
    "\n",
    "| Parameter  | Description  |\n",
    "|:------------|:--------------|\n",
    "| `--mesh`   | FEM mesh |\n",
    "| `--degree` | degree of FEM elements |\n",
    "| `--config` | physical model configuration (conductivity of subdomains etc.) |\n",
    "| `--grounded-plate-edge-z` | Z-coordinate of the edge of the grounded plate |\n",
    "| `--electrodes` | definition of electrode positions |\n",
    "| `--name` | name of the electrode for which leadfield correction is to be calculated |\n",
    "| `--output` | _\\*.ini_ file for solution metadata (path to the file with the calculated function is the same up to the _\\*.h5_ extension) |"
   ]
  },
  {
   "cell_type": "markdown",
   "metadata": {},
   "source": [
    "## Sampling of the leadfield correction\n",
    "\n",
    "We sample the correction on NxNxN grid, where `N = 2**K + 1`:\n",
    "\n",
    "    mkdir -p FEM/solutions/tutorial/four_spheres/sampled/9/\n",
    "    python paper_sample_spherical_solution.py \\\n",
    "      -k 9 \\\n",
    "      --fill 0 \\\n",
    "      --sampling-radius 0.079 \\\n",
    "      --config FEM/solutions/tutorial/four_spheres/first.ini \\\n",
    "      --output FEM/solutions/tutorial/four_spheres/sampled/9/first.npz\n",
    "    python paper_sample_spherical_solution.py \\\n",
    "      -k 9 \\\n",
    "      --fill 0 \\\n",
    "      --sampling-radius 0.079 \\\n",
    "      --config FEM/solutions/tutorial/four_spheres/second.ini \\\n",
    "      --output FEM/solutions/tutorial/four_spheres/sampled/9/second.npz\n",
    "    python paper_sample_spherical_solution.py \\\n",
    "      -k 9 \\\n",
    "      --fill 0 \\\n",
    "      --sampling-radius 0.079 \\\n",
    "      --config FEM/solutions/tutorial/four_spheres/third.ini \\\n",
    "      --output FEM/solutions/tutorial/four_spheres/sampled/9/third.npz\n",
    "\n",
    "It may take several hours (at least 6.1 GB of free RAM is required).\n",
    "\n",
    "> Note, that for spherical geometries a dedicated tool\n",
    "> `paper_sample_spherical_solution.py` is used.\n",
    "\n",
    "| Parameter  | Description  |\n",
    "|:------------|:--------------|\n",
    "| `-k`   | binary logarithm of sample number in each dimansion (which is `2**k + 1`) |\n",
    "| `--fill` | fill value for points where solution cannot be sampled |\n",
    "| `--sampling-radius` | radius of the sampled sphere |\n",
    "| `--config` | the solution metadata |\n",
    "| `--output` | file for the sampled solution |"
   ]
  },
  {
   "cell_type": "markdown",
   "metadata": {},
   "source": [
    "# FRR: Fast Reciprocal Reconstructor kernel construction tools"
   ]
  },
  {
   "cell_type": "markdown",
   "metadata": {},
   "source": [
    "## Electrode object"
   ]
  },
  {
   "cell_type": "code",
   "execution_count": null,
   "metadata": {},
   "outputs": [],
   "source": [
    "import numpy as np\n",
    "import scipy.interpolate as si\n",
    "\n",
    "class Electrode(object):\n",
    "    def __init__(self, filename, dx=0):\n",
    "        \"\"\"\n",
    "        Parameters\n",
    "        ----------\n",
    "        \n",
    "        filename : str\n",
    "            Path to the sampled correction potential.\n",
    "            \n",
    "        dx : float\n",
    "            Integration step used to calculate a regularization\n",
    "            parameter of the `.leadfield()` method.\n",
    "        \"\"\"\n",
    "        self.filename = filename\n",
    "        self.dx = dx\n",
    "        with np.load(filename) as fh:\n",
    "            self.SAMPLING_GRID = [fh[c] for c in 'XYZ']\n",
    "            self.x, self.y, self.z = fh['LOCATION']\n",
    "            self.base_conductivity = fh['BASE_CONDUCTIVITY']\n",
    "\n",
    "    @property\n",
    "    def _epsilon(self):\n",
    "        \"\"\"\n",
    "        Regularization parameter of the `.leadfield()` method.\n",
    "        \n",
    "        Note\n",
    "        ----\n",
    "        \n",
    "        The 0.15 factor choice has been based on a toy numerical experiment.\n",
    "        Further, more rigorous experiments are definitely recommended.\n",
    "        \"\"\"\n",
    "        return 0.15 * self.dx\n",
    "\n",
    "    def correction_leadfield(self, X, Y, Z):\n",
    "        \"\"\"\n",
    "        Correction of the leadfield of the electrode\n",
    "        for violation of kCSD assumptions\n",
    "        \n",
    "        Parameters\n",
    "        ----------\n",
    "        X, Y, Z : np.array\n",
    "            Coordinate matrices of the same shape.\n",
    "        \"\"\"\n",
    "        with np.load(self.filename) as fh:\n",
    "            return self._correction_leadfield(fh['CORRECTION_POTENTIAL'],\n",
    "                                              [X, Y, Z])\n",
    "\n",
    "    def _correction_leadfield(self, SAMPLES, XYZ):\n",
    "        return self._interpolate(SAMPLES, XYZ)\n",
    "        # # if XYZ points are in nodes of the sampling grid,\n",
    "        # # no time-consuming interpolation is necessary\n",
    "        # return SAMPLES[self._sampling_grid_indices(XYZ)]\n",
    "\n",
    "    def _interpolate(self, SAMPLES, XYZ):\n",
    "        # The interpolation can be speeded up at the cost\n",
    "        # of precision by changing the method to 'nearest'\n",
    "        interpolator = si.RegularGridInterpolator(\n",
    "                              self.SAMPLING_GRID,\n",
    "                              SAMPLES,\n",
    "                              bounds_error=False,\n",
    "                              fill_value=0,\n",
    "                              method='linear')\n",
    "        return interpolator(np.stack(XYZ, axis=-1))\n",
    "#\n",
    "#     def _sampling_grid_indices(self, XYZ):\n",
    "#         return tuple(np.searchsorted(GRID, COORD)\n",
    "#                      for GRID, COORD in zip(self.SAMPLING_GRID, XYZ))\n",
    "\n",
    "    def leadfield(self, X, Y, Z):\n",
    "        \"\"\"\n",
    "        Regularized leadfield of the electrode in infinite homogenous\n",
    "        isotropic medium (kCSD assumptions) of conductivity\n",
    "        `.base_conductivity` S/m.\n",
    "        \n",
    "        Note\n",
    "        ----\n",
    "        \n",
    "        The regularization is necessary to limit numerical integration\n",
    "        errors.\n",
    "        \"\"\"\n",
    "        return (0.25 / (np.pi * self.base_conductivity)\n",
    "                / (self._epsilon\n",
    "                   + np.sqrt(np.square(X - self.x)\n",
    "                             + np.square(Y - self.y)\n",
    "                             + np.square(Z - self.z))))"
   ]
  },
  {
   "cell_type": "code",
   "execution_count": null,
   "metadata": {},
   "outputs": [],
   "source": [
    "electrodes = [Electrode(f'FEM/solutions/tutorial/four_spheres/sampled/9/{name}.npz')\n",
    "              for name in ['first', 'second', 'third']]"
   ]
  },
  {
   "cell_type": "markdown",
   "metadata": {},
   "source": [
    "## Model source\n",
    "\n",
    "We want to use CSD bases 18mm wide ($R = 9mm$)."
   ]
  },
  {
   "cell_type": "code",
   "execution_count": null,
   "metadata": {},
   "outputs": [],
   "source": [
    "from _common_new import SphericalSplineSourceKCSD\n",
    "\n",
    "def get_model_source(radius, conductivity):\n",
    "    spline_nodes = [radius / 3, radius]\n",
    "    spline_polynomial_coefficients = [[1],\n",
    "                                      [0,\n",
    "                                       6.75 / radius,\n",
    "                                       -13.5 / radius ** 2,\n",
    "                                       6.75 / radius ** 3]]\n",
    "    return SphericalSplineSourceKCSD(0, 0, 0,\n",
    "                                     spline_nodes,\n",
    "                                     spline_polynomial_coefficients,\n",
    "                                     conductivity)"
   ]
  },
  {
   "cell_type": "code",
   "execution_count": null,
   "metadata": {},
   "outputs": [],
   "source": [
    "SRC_R = 9e-3\n",
    "BASE_CONDUCTIVITY = electrodes[0].base_conductivity\n",
    "\n",
    "model_src = get_model_source(SRC_R, BASE_CONDUCTIVITY)"
   ]
  },
  {
   "cell_type": "markdown",
   "metadata": {},
   "source": [
    "## Convolver object"
   ]
  },
  {
   "cell_type": "code",
   "execution_count": null,
   "metadata": {},
   "outputs": [],
   "source": [
    "from _fast_reciprocal_reconstructor import Convolver\n",
    "\n",
    "BRAIN_RADIUS = 0.079\n",
    "ROMBERG_K = 5\n",
    "\n",
    "_h_min = SRC_R * 2**(1 - ROMBERG_K)\n",
    "_X = _Y = np.linspace(-BRAIN_RADIUS, BRAIN_RADIUS, int(np.floor(2 * BRAIN_RADIUS / _h_min)) + 1)\n",
    "_Z = np.linspace(-SRC_R, BRAIN_RADIUS, int(np.floor((BRAIN_RADIUS + SRC_R) / _h_min)) + 1)\n",
    "\n",
    "_pot_grid = [_X, _Y, _Z]\n",
    "_csd_grid = [_X, _Y, _Z[_Z >= 0]]\n",
    "\n",
    "convolver = Convolver(_pot_grid, _csd_grid)\n",
    "\n",
    "for _h in convolver.steps('POT'):\n",
    "    assert _h >= _h_min, f'{_h} < {_h_min}'"
   ]
  },
  {
   "cell_type": "code",
   "execution_count": null,
   "metadata": {},
   "outputs": [],
   "source": [
    "print(convolver.csd_shape)"
   ]
  },
  {
   "cell_type": "code",
   "execution_count": null,
   "metadata": {},
   "outputs": [],
   "source": [
    "for name in ['POT', 'CSD', 'SRC']:\n",
    "    print(f'{name} grid')\n",
    "    print('  shape:', convolver.shape(name))\n",
    "    print('  spacing:', convolver.steps(name))"
   ]
  },
  {
   "cell_type": "markdown",
   "metadata": {},
   "source": [
    "## Convolver interface\n",
    "\n",
    "We include only CSD bases which supports fit in the brain\n",
    "and which centroid lies in the upper hemisphere."
   ]
  },
  {
   "cell_type": "code",
   "execution_count": null,
   "metadata": {},
   "outputs": [],
   "source": [
    "from _fast_reciprocal_reconstructor import ConvolverInterfaceIndexed\n",
    "from scipy.integrate import romb\n",
    "\n",
    "ROMBERG_N = 2 ** ROMBERG_K + 1\n",
    "ROMBERG_WEIGHTS = romb(np.identity(ROMBERG_N), dx=2 ** -ROMBERG_K)\n",
    "\n",
    "SRC_MASK = ((convolver.SRC_Z > 0)\n",
    "            & (np.sqrt(np.square(convolver.SRC_X)\n",
    "                       + np.square(convolver.SRC_Y)\n",
    "                       + np.square(convolver.SRC_Z)) < BRAIN_RADIUS - SRC_R))"
   ]
  },
  {
   "cell_type": "code",
   "execution_count": null,
   "metadata": {},
   "outputs": [],
   "source": [
    "print(SRC_MASK.sum())"
   ]
  },
  {
   "cell_type": "code",
   "execution_count": null,
   "metadata": {},
   "outputs": [],
   "source": [
    "convolver_interface = ConvolverInterfaceIndexed(convolver,\n",
    "                                                model_src.csd,\n",
    "                                                ROMBERG_WEIGHTS,\n",
    "                                                SRC_MASK)"
   ]
  },
  {
   "cell_type": "markdown",
   "metadata": {},
   "source": [
    "## Potential At Electrode object"
   ]
  },
  {
   "cell_type": "markdown",
   "metadata": {},
   "source": [
    "### Potential At Electrode: analytical solution of the forward problem (kCSD)"
   ]
  },
  {
   "cell_type": "code",
   "execution_count": null,
   "metadata": {},
   "outputs": [],
   "source": [
    "from _fast_reciprocal_reconstructor import PAE_Analytical"
   ]
  },
  {
   "cell_type": "code",
   "execution_count": null,
   "metadata": {},
   "outputs": [],
   "source": [
    "pae_kcsd = PAE_Analytical(convolver_interface,\n",
    "                          potential=model_src.potential)"
   ]
  },
  {
   "cell_type": "markdown",
   "metadata": {},
   "source": [
    "### Potential At Electrode: numerically corrected analytical solution of the forward problem (kESI)"
   ]
  },
  {
   "cell_type": "code",
   "execution_count": null,
   "metadata": {},
   "outputs": [],
   "source": [
    "from _fast_reciprocal_reconstructor import PAE_AnalyticalCorrectedNumerically"
   ]
  },
  {
   "cell_type": "code",
   "execution_count": null,
   "metadata": {},
   "outputs": [],
   "source": [
    "pae_kesi = PAE_AnalyticalCorrectedNumerically(convolver_interface,\n",
    "                                              potential=model_src.potential)"
   ]
  },
  {
   "cell_type": "markdown",
   "metadata": {},
   "source": [
    "## Kernel constructor and cross-kernel constructor"
   ]
  },
  {
   "cell_type": "code",
   "execution_count": null,
   "metadata": {},
   "outputs": [],
   "source": [
    "from _fast_reciprocal_reconstructor import KernelConstructor, CrossKernelConstructor"
   ]
  },
  {
   "cell_type": "code",
   "execution_count": null,
   "metadata": {},
   "outputs": [],
   "source": [
    "kernel_constructor = KernelConstructor()"
   ]
  },
  {
   "cell_type": "code",
   "execution_count": null,
   "metadata": {},
   "outputs": [],
   "source": [
    "CSD_MASK = np.ones(convolver.shape('CSD'),\n",
    "                   dtype=bool)"
   ]
  },
  {
   "cell_type": "code",
   "execution_count": null,
   "metadata": {},
   "outputs": [],
   "source": [
    "kernel_constructor.create_crosskernel = CrossKernelConstructor(convolver_interface,\n",
    "                                                               CSD_MASK)"
   ]
  },
  {
   "cell_type": "code",
   "execution_count": null,
   "metadata": {},
   "outputs": [],
   "source": [
    "def to_3D(CSD):\n",
    "    return CSD.reshape(convolver.shape('CSD'))"
   ]
  },
  {
   "cell_type": "markdown",
   "metadata": {},
   "source": [
    "# kCSD reconstructor"
   ]
  },
  {
   "cell_type": "markdown",
   "metadata": {},
   "source": [
    "## Construction of kernels"
   ]
  },
  {
   "cell_type": "code",
   "execution_count": null,
   "metadata": {},
   "outputs": [],
   "source": [
    "%%time\n",
    "PHI_KCSD = kernel_constructor.create_base_images_at_electrodes(electrodes,\n",
    "                                                               pae_kcsd)"
   ]
  },
  {
   "cell_type": "code",
   "execution_count": null,
   "metadata": {},
   "outputs": [],
   "source": [
    "KERNEL_KCSD = kernel_constructor.create_kernel(PHI_KCSD)"
   ]
  },
  {
   "cell_type": "code",
   "execution_count": null,
   "metadata": {},
   "outputs": [],
   "source": [
    "%%time\n",
    "CROSSKERNEL_KCSD = kernel_constructor.create_crosskernel(PHI_KCSD)"
   ]
  },
  {
   "cell_type": "code",
   "execution_count": null,
   "metadata": {},
   "outputs": [],
   "source": [
    "del PHI_KCSD  # the array is large and no longer needed"
   ]
  },
  {
   "cell_type": "markdown",
   "metadata": {},
   "source": [
    "## Reconstructor object"
   ]
  },
  {
   "cell_type": "code",
   "execution_count": null,
   "metadata": {},
   "outputs": [],
   "source": [
    "from kesi._verbose import _CrossKernelReconstructor as Reconstructor\n",
    "from kesi._engine import _LinearKernelSolver as KernelSolver"
   ]
  },
  {
   "cell_type": "code",
   "execution_count": null,
   "metadata": {},
   "outputs": [],
   "source": [
    "reconstructor_kcsd = Reconstructor(KernelSolver(KERNEL_KCSD),\n",
    "                                   CROSSKERNEL_KCSD)"
   ]
  },
  {
   "cell_type": "markdown",
   "metadata": {},
   "source": [
    "# Visualisation"
   ]
  },
  {
   "cell_type": "code",
   "execution_count": null,
   "metadata": {},
   "outputs": [],
   "source": [
    "import matplotlib.pyplot as plt\n",
    "import cbf\n",
    "\n",
    "class CardinalPlaneVisualisation(object):\n",
    "    SPHERE_RADII = [0.079, 0.080, 0.085, 0.090]\n",
    "\n",
    "    def __init__(self,\n",
    "                 grid,\n",
    "                 plane_intersection,\n",
    "                 dpi=35,\n",
    "                 cmap=cbf.bwr,\n",
    "                 amp=None,\n",
    "                 length_factor=1,\n",
    "                 length_unit='$m$',\n",
    "                 unit_factor=1,\n",
    "                 unit=''):\n",
    "        self.grid = grid\n",
    "        self.plane_intersection = np.array(plane_intersection)\n",
    "        self.indices = [np.searchsorted(g, a)\n",
    "                        for a, g in zip(plane_intersection,\n",
    "                                        grid)]\n",
    "        self.dpi = dpi\n",
    "        self.cmap = cmap\n",
    "        self.amp = amp\n",
    "        self.length_factor = length_factor\n",
    "        self.length_unit = length_unit\n",
    "        self.unit_factor = unit_factor\n",
    "        self.unit = unit\n",
    "\n",
    "    def start_new_image(self, title, wx, wy, wz):\n",
    "        self.fig = plt.figure(figsize=((wx + wy) / self.dpi,\n",
    "                                       (wz + wy) / self.dpi))\n",
    "        if title is not None:\n",
    "            self.fig.suptitle(title)\n",
    "\n",
    "        gs = plt.GridSpec(2, 2,\n",
    "                          figure=self.fig,\n",
    "                          width_ratios=[wx, wy],\n",
    "                          height_ratios=[wz, wy])\n",
    "\n",
    "        self.ax_xz = self.fig.add_subplot(gs[0, 0])\n",
    "        self.ax_xz.set_aspect('equal')\n",
    "        self.ax_xz.set_ylabel(f'Z [{self.length_unit}]')\n",
    "        self.ax_xz.set_xlabel(f'X [{self.length_unit}]')\n",
    "\n",
    "        self.ax_yx = self.fig.add_subplot(gs[1, 1])\n",
    "        self.ax_yx.set_aspect('equal')\n",
    "        self.ax_yx.set_ylabel(f'X [{self.length_unit}]')\n",
    "        self.ax_yx.set_xlabel(f'Y [{self.length_unit}]')\n",
    "\n",
    "        self.ax_yz = self.fig.add_subplot(gs[0, 1],\n",
    "                                          sharey=self.ax_xz,\n",
    "                                          sharex=self.ax_yx)\n",
    "        self.ax_yz.set_aspect('equal')\n",
    "\n",
    "        self.cax = self.fig.add_subplot(gs[1, 0])\n",
    "        self.cax.set_visible(False)\n",
    "\n",
    "    def finish_image(self):\n",
    "        x, y, z = self.length_factor * self.plane_intersection\n",
    "\n",
    "        self.ax_xz.axvline(x, ls=':', color=cbf.BLACK)\n",
    "        self.ax_xz.axhline(z, ls=':', color=cbf.BLACK)\n",
    "\n",
    "        self.ax_yx.axvline(y, ls=':', color=cbf.BLACK)\n",
    "        self.ax_yx.axhline(x, ls=':', color=cbf.BLACK)\n",
    "\n",
    "        self.ax_yz.axvline(y, ls=':', color=cbf.BLACK)\n",
    "        self.ax_yz.axhline(z, ls=':', color=cbf.BLACK)\n",
    "        self.fig.colorbar(self.im, ax=self.cax,\n",
    "                          orientation='horizontal',\n",
    "                          label=self.unit)\n",
    "\n",
    "        self._add_spheres(self.SPHERE_RADII)\n",
    "\n",
    "    def plot_volume(self, DATA, title=None, amp=None):\n",
    "        self.start_new_image(title, *DATA.shape)\n",
    "        ix, iy, iz = self.indices\n",
    "        self._plot_planes([DATA[ix:ix+1, :, :],\n",
    "                           DATA[:, iy:iy+1, :],\n",
    "                           DATA[:, :, iz:iz+1],\n",
    "                           ],\n",
    "                           amp if amp is not None else abs(DATA).max())\n",
    "        self.finish_image()\n",
    "\n",
    "    def _plot_planes(self, DATA_PLANES, amp):\n",
    "        DATA_ZY = DATA_PLANES[0][0, :, :].T * self.unit_factor\n",
    "        DATA_ZX = DATA_PLANES[1][:, 0, :].T * self.unit_factor\n",
    "        DATA_XY = DATA_PLANES[2][:, :, 0] * self.unit_factor\n",
    "        \n",
    "        def _extent(first, second):\n",
    "            _first = self.grid[first] * self.length_factor\n",
    "            _second = self.grid[second] * self.length_factor\n",
    "            return (_first.min(), _first.max(),\n",
    "                    _second.min(), _second.max())\n",
    "\n",
    "        self.ax_xz.imshow(DATA_ZX,\n",
    "                          vmin=-amp * self.unit_factor,\n",
    "                          vmax=amp * self.unit_factor,\n",
    "                          cmap=self.cmap,\n",
    "                          origin='lower',\n",
    "                          extent=_extent(0, 2))\n",
    "        self.ax_yx.imshow(DATA_XY,\n",
    "                          vmin=-amp * self.unit_factor,\n",
    "                          vmax=amp * self.unit_factor,\n",
    "                          cmap=self.cmap,\n",
    "                          origin='lower',\n",
    "                          extent=_extent(1, 0))\n",
    "        self.im = self.ax_yz.imshow(DATA_ZY,\n",
    "                                    vmin=-amp * self.unit_factor,\n",
    "                                    vmax=amp * self.unit_factor,\n",
    "                                    cmap=self.cmap,\n",
    "                                    origin='lower',\n",
    "                                    extent=_extent(1, 2))\n",
    "\n",
    "    def plot_planes(self,\n",
    "                    DATA_PLANES,\n",
    "                    title=None,\n",
    "                    amp=None):\n",
    "\n",
    "        DATA_YZ, DATA_XZ, DATA_XY = DATA_PLANES\n",
    "        wx, wy, _ = DATA_XY.shape\n",
    "        wz = DATA_YZ.shape[2]\n",
    "        assert DATA_YZ.shape[1] == wy\n",
    "        assert DATA_XZ.shape[0] == wx\n",
    "        assert DATA_XZ.shape[2] == wz\n",
    "        \n",
    "        self.start_new_image(title, wx, wy, wz)\n",
    "        self._plot_planes(DATA_PLANES,\n",
    "                          amp if amp is not None else max(abs(_A).max() for _A in DATA_PLANES))\n",
    "        self.finish_image()\n",
    "\n",
    "    def compare_with_gt(self, GT, CSD, title=''):\n",
    "        ERROR = CSD - GT\n",
    "        error_L2 = np.sqrt(np.square(ERROR).sum() / np.square(GT_CSD).sum())\n",
    "        amp = max(abs(CSD).max(),\n",
    "                  abs(GT).max(),\n",
    "                  abs(ERROR).max())\n",
    "        self.plot_volume(GT,\n",
    "                         title='GT CSD',\n",
    "                         amp=amp)\n",
    "        self.plot_volume(CSD,\n",
    "                         title=f'{title} reconstruction',\n",
    "                         amp=amp)\n",
    "        self.plot_volume(ERROR,\n",
    "                         title=f'{title} error (GT normalized L2 norm: {error_L2:.2g})',\n",
    "                         amp=amp)\n",
    "\n",
    "    def _add_spheres(self, sphere_radii):\n",
    "        for c, ax in zip(self.plane_intersection,\n",
    "                         [self.ax_yz,\n",
    "                          self.ax_xz,\n",
    "                          self.ax_yx]):\n",
    "            for r2 in np.square(sphere_radii):\n",
    "                self._plot_circle(ax, np.sqrt(r2 - np.square(c)))\n",
    "\n",
    "    def _plot_circle(self, ax, r):\n",
    "        ax.add_artist(plt.Circle((0, 0), r * self.length_factor,\n",
    "                                facecolor='none',\n",
    "                                edgecolor=cbf.BLACK,\n",
    "                                linestyle=':'))\n",
    "\n",
    "    @property\n",
    "    def PLANES_XYZ(self):\n",
    "        return [[[c] if i == j else A for j, A in enumerate(self.grid)]\n",
    "                for i, c in enumerate(self.plane_intersection)]"
   ]
  },
  {
   "cell_type": "code",
   "execution_count": null,
   "metadata": {},
   "outputs": [],
   "source": [
    "csd_grid = [_x.flatten() for _x in convolver.CSD_GRID]"
   ]
  },
  {
   "cell_type": "code",
   "execution_count": null,
   "metadata": {},
   "outputs": [],
   "source": [
    "csd_plotter = CardinalPlaneVisualisation(csd_grid,\n",
    "                                         [0.01, 0, 0.065],\n",
    "                                         unit_factor=1e-3,\n",
    "                                         unit='$\\\\frac{pA}{mm^3}$',\n",
    "                                         length_factor=1e3,\n",
    "                                         length_unit='$mm$')"
   ]
  },
  {
   "cell_type": "markdown",
   "metadata": {},
   "source": [
    "# Ground truth CSD and its potential at the electrodes"
   ]
  },
  {
   "cell_type": "markdown",
   "metadata": {},
   "source": [
    "## GT CSD"
   ]
  },
  {
   "cell_type": "code",
   "execution_count": null,
   "metadata": {},
   "outputs": [],
   "source": [
    "%%time\n",
    "EIGENVALUES_KCSD, EIGENVECTORS_KCSD = np.linalg.eigh(KERNEL_KCSD)\n",
    "EIGENVALUES_KCSD, EIGENVECTORS_KCSD = EIGENVALUES_KCSD[::-1], EIGENVECTORS_KCSD[:, ::-1]\n",
    "\n",
    "GT_CSD = to_3D(reconstructor_kcsd(EIGENVECTORS_KCSD[:, 0] * 10))"
   ]
  },
  {
   "cell_type": "code",
   "execution_count": null,
   "metadata": {},
   "outputs": [],
   "source": [
    "csd_plotter.plot_volume(GT_CSD, 'GT CSD')"
   ]
  },
  {
   "cell_type": "markdown",
   "metadata": {},
   "source": [
    "## FEM forward modelling"
   ]
  },
  {
   "cell_type": "code",
   "execution_count": null,
   "metadata": {},
   "outputs": [],
   "source": [
    "import configparser\n",
    "import dolfin\n",
    "import scipy.interpolate as si\n",
    "\n",
    "import FEM.fem_common as fc"
   ]
  },
  {
   "cell_type": "markdown",
   "metadata": {},
   "source": [
    "Note that the model uses a different Dirichlet boundary condition than a forward model for slice geometry."
   ]
  },
  {
   "cell_type": "code",
   "execution_count": null,
   "metadata": {},
   "outputs": [],
   "source": [
    "class ForwardModel(object):\n",
    "    GROUNDED_PLATE_AT = -0.088\n",
    "\n",
    "    def __init__(self, config):\n",
    "        metadata = fc.MetadataReader(config)\n",
    "        self.fm = fc.FunctionManager(metadata.getpath('fem', 'mesh'),\n",
    "                                     metadata.getint('fem', 'degree'),\n",
    "                                     metadata.get('fem', 'element_type'))\n",
    "        self.config = configparser.ConfigParser()\n",
    "        self.config.read(metadata.getpath('model', 'config'))\n",
    "\n",
    "        self.V = self.fm.function_space\n",
    "        mesh = self.fm.mesh\n",
    "\n",
    "        n = self.V.dim()\n",
    "        d = mesh.geometry().dim()\n",
    "\n",
    "        self.dof_coords = self.V.tabulate_dof_coordinates()\n",
    "        self.dof_coords.resize((n, d))\n",
    "        \n",
    "        self.csd_f = self.fm.function()\n",
    "        \n",
    "        self.subdomains = self.fm.load_subdomains()\n",
    "        self.dx = dolfin.Measure(\"dx\")(subdomain_data=self.subdomains)            \n",
    "\n",
    "    @property\n",
    "    def CONDUCTIVITY(self):\n",
    "        for section in self.config.sections():\n",
    "            if self._is_conductive_volume(section):\n",
    "                yield (self.config.getint(section, 'volume'),\n",
    "                       self.config.getfloat(section, 'conductivity'))\n",
    "\n",
    "    def _is_conductive_volume(self, section):\n",
    "        return (self.config.has_option(section, 'volume')\n",
    "                and self.config.has_option(section, 'conductivity')) \n",
    "        \n",
    "    def __call__(self, csd_interpolator):\n",
    "        self.csd_f.vector()[:] = csd_interpolator(self.dof_coords)\n",
    "        \n",
    "        dirichlet_bc_gt = dolfin.DirichletBC(self.V,\n",
    "                                     dolfin.Constant(0),\n",
    "                                     (lambda x, on_boundary:\n",
    "                                      on_boundary and x[2] <= self.GROUNDED_PLATE_AT))\n",
    "        test = self.fm.test_function()\n",
    "        trial = self.fm.trial_function()\n",
    "        potential = self.fm.function()\n",
    "        \n",
    "        \n",
    "        dx = self.dx\n",
    "        a = sum(dolfin.Constant(c)\n",
    "                * dolfin.inner(dolfin.grad(trial),\n",
    "                               dolfin.grad(test))\n",
    "                * dx(i)\n",
    "                for i, c\n",
    "                in self.CONDUCTIVITY)\n",
    "        L = self.csd_f * test * dx\n",
    "        \n",
    "        b = dolfin.assemble(L)\n",
    "        A = dolfin.assemble(a)\n",
    "        dirichlet_bc_gt.apply(A, b)\n",
    "        \n",
    "        solver = dolfin.KrylovSolver(\"cg\", \"ilu\")\n",
    "        solver.parameters[\"maximum_iterations\"] = 10000\n",
    "        solver.parameters[\"absolute_tolerance\"] = 1E-8\n",
    "        solver.solve(A, potential.vector(), b)\n",
    "        \n",
    "        return potential"
   ]
  },
  {
   "cell_type": "code",
   "execution_count": null,
   "metadata": {},
   "outputs": [],
   "source": [
    "%%time\n",
    "fem = ForwardModel('FEM/solutions/tutorial/four_spheres/first.ini')"
   ]
  },
  {
   "cell_type": "markdown",
   "metadata": {},
   "source": [
    "It may take more than 3 minutes."
   ]
  },
  {
   "cell_type": "code",
   "execution_count": null,
   "metadata": {},
   "outputs": [],
   "source": [
    "%%time\n",
    "_csd = si.RegularGridInterpolator(csd_grid,\n",
    "                                  GT_CSD,\n",
    "                                  bounds_error=False,\n",
    "                                  fill_value=0)\n",
    "potential = fem(_csd)\n",
    "\n",
    "del _csd  # the object is large and no longer needed"
   ]
  },
  {
   "cell_type": "markdown",
   "metadata": {},
   "source": [
    "It may take more than 2 minutes."
   ]
  },
  {
   "cell_type": "markdown",
   "metadata": {},
   "source": [
    "We visualise the potential."
   ]
  },
  {
   "cell_type": "code",
   "execution_count": null,
   "metadata": {},
   "outputs": [],
   "source": [
    "potential_plotter = CardinalPlaneVisualisation(csd_grid,\n",
    "                                               [0.01, 0, 0.065],\n",
    "                                               unit='$\\mu{}V$',\n",
    "                                               length_factor=1e3,\n",
    "                                               length_unit='$mm$',\n",
    "                                               cmap=cbf.PRGn)"
   ]
  },
  {
   "cell_type": "code",
   "execution_count": null,
   "metadata": {},
   "outputs": [],
   "source": [
    "%%time\n",
    "V_PLANES = []\n",
    "\n",
    "for _X, _Y, _Z in potential_plotter.PLANES_XYZ:\n",
    "    with np.nditer([np.reshape(_X, (-1, 1, 1)),\n",
    "                    np.reshape(_Y, (1, -1, 1)),\n",
    "                    np.reshape(_Z,  (1, 1, -1)),\n",
    "                    None]) as it:\n",
    "        for _x, _y, _z, _res in it:\n",
    "            try:\n",
    "                _res[...] = potential(_x, _y, _z)\n",
    "            except RuntimeError:\n",
    "                _res[...] = np.nan\n",
    "\n",
    "        V_PLANES.append(np.ma.masked_invalid(it.operands[3]))"
   ]
  },
  {
   "cell_type": "markdown",
   "metadata": {},
   "source": [
    "It may take more than a minute."
   ]
  },
  {
   "cell_type": "code",
   "execution_count": null,
   "metadata": {},
   "outputs": [],
   "source": [
    "potential_plotter.plot_planes(V_PLANES, 'POTENTIAL')"
   ]
  },
  {
   "cell_type": "markdown",
   "metadata": {},
   "source": [
    "We probe the potential at electrodes."
   ]
  },
  {
   "cell_type": "code",
   "execution_count": null,
   "metadata": {},
   "outputs": [],
   "source": [
    "GT_V = np.array([potential(_e.x, _e.y, _e.z) for _e in electrodes])"
   ]
  },
  {
   "cell_type": "code",
   "execution_count": null,
   "metadata": {},
   "outputs": [],
   "source": [
    "del potential, fem  # these objects are large and no longer needed"
   ]
  },
  {
   "cell_type": "markdown",
   "metadata": {},
   "source": [
    "# Reconstruction"
   ]
  },
  {
   "cell_type": "markdown",
   "metadata": {},
   "source": [
    "## kCSD"
   ]
  },
  {
   "cell_type": "code",
   "execution_count": null,
   "metadata": {},
   "outputs": [],
   "source": [
    "CSD_KCSD = to_3D(reconstructor_kcsd(GT_V))"
   ]
  },
  {
   "cell_type": "code",
   "execution_count": null,
   "metadata": {
    "scrolled": false
   },
   "outputs": [],
   "source": [
    "csd_plotter.compare_with_gt(GT_CSD,\n",
    "                            CSD_KCSD,\n",
    "                            'kCSD')"
   ]
  },
  {
   "cell_type": "markdown",
   "metadata": {},
   "source": [
    "The reconstruction is mostly error."
   ]
  },
  {
   "cell_type": "code",
   "execution_count": null,
   "metadata": {},
   "outputs": [],
   "source": [
    "del CSD_KCSD  # the array is large and no longer needed"
   ]
  },
  {
   "cell_type": "code",
   "execution_count": null,
   "metadata": {},
   "outputs": [],
   "source": [
    "del reconstructor_kcsd, CROSSKERNEL_KCSD  # these objects are large and no longer needed"
   ]
  },
  {
   "cell_type": "markdown",
   "metadata": {},
   "source": [
    "## kESI"
   ]
  },
  {
   "cell_type": "code",
   "execution_count": null,
   "metadata": {},
   "outputs": [],
   "source": [
    "%%time\n",
    "PHI_KESI = kernel_constructor.create_base_images_at_electrodes(electrodes,\n",
    "                                                               pae_kesi)"
   ]
  },
  {
   "cell_type": "markdown",
   "metadata": {},
   "source": [
    "It may take more than a minute."
   ]
  },
  {
   "cell_type": "code",
   "execution_count": null,
   "metadata": {},
   "outputs": [],
   "source": [
    "KERNEL_KESI = kernel_constructor.create_kernel(PHI_KESI)"
   ]
  },
  {
   "cell_type": "code",
   "execution_count": null,
   "metadata": {},
   "outputs": [],
   "source": [
    "%%time\n",
    "CROSSKERNEL_KESI = kernel_constructor.create_crosskernel(PHI_KESI)"
   ]
  },
  {
   "cell_type": "code",
   "execution_count": null,
   "metadata": {},
   "outputs": [],
   "source": [
    "del PHI_KESI  # the array is large and no longer needed"
   ]
  },
  {
   "cell_type": "code",
   "execution_count": null,
   "metadata": {},
   "outputs": [],
   "source": [
    "reconstructor_kesi = Reconstructor(KernelSolver(KERNEL_KESI),\n",
    "                                   CROSSKERNEL_KESI)"
   ]
  },
  {
   "cell_type": "code",
   "execution_count": null,
   "metadata": {},
   "outputs": [],
   "source": [
    "CSD_KESI = to_3D(reconstructor_kesi(GT_V))"
   ]
  },
  {
   "cell_type": "code",
   "execution_count": null,
   "metadata": {
    "scrolled": false
   },
   "outputs": [],
   "source": [
    "csd_plotter.compare_with_gt(GT_CSD,\n",
    "                            CSD_KESI,\n",
    "                            'kESI')"
   ]
  },
  {
   "cell_type": "markdown",
   "metadata": {},
   "source": [
    "The reconstruction is pretty close to the ground truth."
   ]
  },
  {
   "cell_type": "code",
   "execution_count": null,
   "metadata": {},
   "outputs": [],
   "source": [
    "del CSD_KESI  # the array is large and no longer needed"
   ]
  },
  {
   "cell_type": "markdown",
   "metadata": {},
   "source": [
    "## Noise\n",
    "\n",
    "As no real-world measurement is perfect, we introduce 2% noise to see, how kESI may deal with it:"
   ]
  },
  {
   "cell_type": "code",
   "execution_count": null,
   "metadata": {},
   "outputs": [],
   "source": [
    "np.random.seed(42)\n",
    "V_WITH_NOISE = np.random.normal(loc=GT_V,\n",
    "                                scale=0.02*np.sqrt(np.square(GT_V).mean()))"
   ]
  },
  {
   "cell_type": "code",
   "execution_count": null,
   "metadata": {},
   "outputs": [],
   "source": [
    "CSD_KESI_WITH_NOISE = to_3D(reconstructor_kesi(V_WITH_NOISE))"
   ]
  },
  {
   "cell_type": "code",
   "execution_count": null,
   "metadata": {
    "scrolled": false
   },
   "outputs": [],
   "source": [
    "csd_plotter.compare_with_gt(GT_CSD,\n",
    "                            CSD_KESI_WITH_NOISE,\n",
    "                            'kESI (noise)')"
   ]
  },
  {
   "cell_type": "code",
   "execution_count": null,
   "metadata": {},
   "outputs": [],
   "source": [
    "del CSD_KESI_WITH_NOISE  # the array is large and no longer needed"
   ]
  },
  {
   "cell_type": "markdown",
   "metadata": {},
   "source": [
    "As you can see, the quality of reconstruction decreased significatntly."
   ]
  },
  {
   "cell_type": "markdown",
   "metadata": {},
   "source": [
    "## Regularization"
   ]
  },
  {
   "cell_type": "code",
   "execution_count": null,
   "metadata": {},
   "outputs": [],
   "source": [
    "EIGENVALUES_KESI = np.linalg.eigvalsh(KERNEL_KESI)[::-1]"
   ]
  },
  {
   "cell_type": "code",
   "execution_count": null,
   "metadata": {},
   "outputs": [],
   "source": [
    "plt.plot(EIGENVALUES_KESI,\n",
    "         marker='o')\n",
    "\n",
    "plt.yscale('log')"
   ]
  },
  {
   "cell_type": "code",
   "execution_count": null,
   "metadata": {},
   "outputs": [],
   "source": [
    "REGULARIZATION_PARAMETERS = np.logspace(4, 14, 10 * 10 + 1)"
   ]
  },
  {
   "cell_type": "markdown",
   "metadata": {},
   "source": [
    "### Leave-one-out cross-validation"
   ]
  },
  {
   "cell_type": "code",
   "execution_count": null,
   "metadata": {},
   "outputs": [],
   "source": [
    "from _common_new import cv"
   ]
  },
  {
   "cell_type": "code",
   "execution_count": null,
   "metadata": {},
   "outputs": [],
   "source": [
    "%%time\n",
    "CV_ERRORS = cv(reconstructor_kesi, V_WITH_NOISE, REGULARIZATION_PARAMETERS)"
   ]
  },
  {
   "cell_type": "code",
   "execution_count": null,
   "metadata": {},
   "outputs": [],
   "source": [
    "regularization_parameter_idx = np.argmin(CV_ERRORS)\n",
    "regularization_parameter = REGULARIZATION_PARAMETERS[regularization_parameter_idx]"
   ]
  },
  {
   "cell_type": "code",
   "execution_count": null,
   "metadata": {},
   "outputs": [],
   "source": [
    "plt.plot(REGULARIZATION_PARAMETERS,\n",
    "         CV_ERRORS,\n",
    "         color=cbf.BLUE)\n",
    "plt.axvline(regularization_parameter,\n",
    "            ls=':',\n",
    "            color=cbf.BLUE)\n",
    "plt.xscale('log')\n",
    "plt.xlabel('regularization parameter')\n",
    "plt.yscale('log')\n",
    "plt.ylabel('L2 norm of cross-validation error')"
   ]
  },
  {
   "cell_type": "code",
   "execution_count": null,
   "metadata": {},
   "outputs": [],
   "source": [
    "CSD_KESI_CV = to_3D(reconstructor_kesi(V_WITH_NOISE, regularization_parameter))"
   ]
  },
  {
   "cell_type": "code",
   "execution_count": null,
   "metadata": {
    "scrolled": false
   },
   "outputs": [],
   "source": [
    "csd_plotter.compare_with_gt(GT_CSD,\n",
    "                            CSD_KESI_CV,\n",
    "                            'kESI (noise)')"
   ]
  },
  {
   "cell_type": "code",
   "execution_count": null,
   "metadata": {},
   "outputs": [],
   "source": [
    "del CSD_KESI_CV  # the array is large and no longer needed"
   ]
  },
  {
   "cell_type": "markdown",
   "metadata": {},
   "source": [
    "### L-curve"
   ]
  },
  {
   "cell_type": "code",
   "execution_count": null,
   "metadata": {},
   "outputs": [],
   "source": [
    "model_norm = []\n",
    "error = []\n",
    "for _regularization_parameter in REGULARIZATION_PARAMETERS:\n",
    "    _beta = np.linalg.solve(KERNEL_KESI + _regularization_parameter * np.identity(len(electrodes)),\n",
    "                            V_WITH_NOISE)\n",
    "    _V = np.matmul(KERNEL_KESI, _beta)\n",
    "    error.append(np.sqrt(np.square(V_WITH_NOISE - _V).mean()))\n",
    "    model_norm.append(np.dot(_beta, _V))"
   ]
  },
  {
   "cell_type": "code",
   "execution_count": null,
   "metadata": {},
   "outputs": [],
   "source": [
    "_idx_low, _idx_high = np.searchsorted(REGULARIZATION_PARAMETERS,\n",
    "                                      [EIGENVALUES_KESI.min(),\n",
    "                                       EIGENVALUES_KESI.max()])\n",
    "_bottom = model_norm[_idx_high]\n",
    "_top = model_norm[_idx_low]\n",
    "_left = error[_idx_low]\n",
    "_right = error[_idx_high]\n",
    "\n",
    "fig, ax = plt.subplots()\n",
    "ax.plot(error, model_norm,\n",
    "        marker='.',\n",
    "        color=cbf.BLUE)\n",
    "ax.add_patch(plt.Rectangle((_left, _bottom),\n",
    "                           _right - _left,\n",
    "                           _top - _bottom,\n",
    "                           ls=':',\n",
    "                           edgecolor=cbf.BLACK,\n",
    "                           facecolor='none'))\n",
    "\n",
    "ax.set_yscale('log')\n",
    "ax.set_ylabel('norm of the model')\n",
    "ax.set_xscale('log')\n",
    "ax.set_xlabel('L2 norm of the prediction error')\n",
    "ax.set_title('L-curve')\n",
    "\n",
    "\n",
    "fig, ax = plt.subplots()\n",
    "ax.plot(error, model_norm,\n",
    "        marker='.',\n",
    "        color=cbf.BLUE)\n",
    "ax.plot(error[regularization_parameter_idx],\n",
    "        model_norm[regularization_parameter_idx],\n",
    "        marker='o',\n",
    "        color=cbf.VERMILION)\n",
    "ax.annotate(f'$\\\\lambda$ = {regularization_parameter:.2e}\\n(selected by CV)',\n",
    "            (error[regularization_parameter_idx],\n",
    "             model_norm[regularization_parameter_idx]),\n",
    "            xytext=(25, -50),\n",
    "            textcoords='offset points',\n",
    "            arrowprops={'facecolor': cbf.BLACK,\n",
    "                        'shrink': 0.1,\n",
    "                        'headwidth': 6,\n",
    "                        'width': 2,\n",
    "                       })\n",
    "\n",
    "ax.set_yscale('log')\n",
    "ax.set_ylabel('norm of the model')\n",
    "ax.set_xscale('log')\n",
    "ax.set_xlabel('L2 norm of the prediction error')\n",
    "ax.set_xlim(_left, _right)\n",
    "ax.set_ylim(_bottom, _top)\n",
    "_ = ax.set_title('L-curve cropped to the range of eigenvalues')"
   ]
  }
 ],
 "metadata": {
  "kernelspec": {
   "display_name": "Python [conda env:kesi37]",
   "language": "python",
   "name": "conda-env-kesi37-py"
  },
  "language_info": {
   "codemirror_mode": {
    "name": "ipython",
    "version": 3
   },
   "file_extension": ".py",
   "mimetype": "text/x-python",
   "name": "python",
   "nbconvert_exporter": "python",
   "pygments_lexer": "ipython3",
   "version": "3.7.12"
  }
 },
 "nbformat": 4,
 "nbformat_minor": 4
}
