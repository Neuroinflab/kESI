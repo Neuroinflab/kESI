{
 "cells": [
  {
   "cell_type": "markdown",
   "metadata": {},
   "source": [
    "Test kESI vs kCSD in four sphere model geometry, where forward FEM simulation and kESI assumptions matches.\n",
    "\n",
    "The comparison is handicapped - which means that GT CSDs are kCSD eigensources, which makes that method advantaged."
   ]
  },
  {
   "cell_type": "code",
   "execution_count": null,
   "metadata": {},
   "outputs": [],
   "source": [
    "import configparser\n",
    "import os\n",
    "import collections\n",
    "import itertools\n",
    "\n",
    "import numpy as np\n",
    "import pandas as pd\n",
    "\n",
    "import kesi\n",
    "import kesi._verbose as verbose\n",
    "import _common_new as common\n",
    "import _fast_reciprocal_reconstructor as frr"
   ]
  },
  {
   "cell_type": "code",
   "execution_count": null,
   "metadata": {},
   "outputs": [],
   "source": [
    "%matplotlib inline\n",
    "import matplotlib.pyplot as plt\n",
    "\n",
    "import cbf"
   ]
  },
  {
   "cell_type": "code",
   "execution_count": null,
   "metadata": {},
   "outputs": [],
   "source": [
    "COMPARISON = 'handicapped'\n",
    "\n",
    "INV_GEOMETRY = 'four_spheres_csf_3_mm'\n",
    "INV_MESH = 'normal'\n",
    "INV_DEGREE = 2\n",
    "\n",
    "FWD_GEOMETRY = INV_GEOMETRY\n",
    "FWD_MESH = 'coarse'\n",
    "FWD_DEGREE = 3"
   ]
  },
  {
   "cell_type": "code",
   "execution_count": null,
   "metadata": {},
   "outputs": [],
   "source": [
    "K = 9\n",
    "\n",
    "FILENAME_PATTERN = f'FEM/solutions/paper/{INV_GEOMETRY}/{INV_MESH}/{INV_DEGREE}/sampled/{K}/{{name}}.npz'"
   ]
  },
  {
   "cell_type": "code",
   "execution_count": null,
   "metadata": {},
   "outputs": [],
   "source": [
    "FEM_MESH = f'FEM/meshes/meshes/{FWD_GEOMETRY}_plain/{FWD_MESH}.xdmf'\n",
    "FEM_CONFIG = f'FEM/model_properties/{FWD_GEOMETRY}.ini'"
   ]
  },
  {
   "cell_type": "markdown",
   "metadata": {},
   "source": [
    "# FEM"
   ]
  },
  {
   "cell_type": "code",
   "execution_count": null,
   "metadata": {},
   "outputs": [],
   "source": [
    "import dolfin\n",
    "import FEM.fem_common as fc\n",
    "import scipy.interpolate as si"
   ]
  },
  {
   "cell_type": "code",
   "execution_count": null,
   "metadata": {},
   "outputs": [],
   "source": [
    "GROUNDED_PLATE_AT = -0.088\n",
    "\n",
    "\n",
    "class ForwardModel(object):\n",
    "    # XXX: duplicated code with FEM classes\n",
    "    def __init__(self, mesh, degree, config):\n",
    "        self.fm = fc.FunctionManager(mesh, degree, 'CG')\n",
    "        self.config = configparser.ConfigParser()\n",
    "        self.config.read(config)\n",
    "        \n",
    "        mesh_filename = mesh[:-5]\n",
    "\n",
    "#     def __init__(self, config):\n",
    "#         self.fm = fc.FunctionManagerINI(config)\n",
    "        \n",
    "        self.V = self.fm.function_space\n",
    "        mesh = self.fm.mesh\n",
    "\n",
    "        n = self.V.dim()\n",
    "        d = mesh.geometry().dim()\n",
    "\n",
    "        self.dof_coords = self.V.tabulate_dof_coordinates()\n",
    "        self.dof_coords.resize((n, d))\n",
    "        \n",
    "        self.csd_f = self.fm.function()\n",
    "        \n",
    "        \n",
    "#         mesh_filename = self.fm.getpath('fem', 'mesh')[:-5]\n",
    "        with dolfin.XDMFFile(mesh_filename + '_subdomains.xdmf') as fh:\n",
    "            mvc = dolfin.MeshValueCollection(\"size_t\", mesh, 3)\n",
    "            fh.read(mvc, \"subdomains\")\n",
    "            self.subdomains = dolfin.cpp.mesh.MeshFunctionSizet(mesh, mvc)\n",
    "            self.dx = dolfin.Measure(\"dx\")(subdomain_data=self.subdomains)\n",
    "          \n",
    "#         self.config = configparser.ConfigParser()\n",
    "#         self.config.read(self.fm.getpath('fem', 'config'))\n",
    "\n",
    "    @property\n",
    "    def CONDUCTIVITY(self):\n",
    "        for section in self.config.sections():\n",
    "            if self._is_conductive_volume(section):\n",
    "                yield (self.config.getint(section, 'volume'),\n",
    "                       self.config.getfloat(section, 'conductivity'))\n",
    "\n",
    "    def _is_conductive_volume(self, section):\n",
    "        return (self.config.has_option(section, 'volume')\n",
    "                and self.config.has_option(section, 'conductivity')) \n",
    "        \n",
    "    def __call__(self, csd_interpolator):\n",
    "        self.csd_f.vector()[:] = csd_interpolator(self.dof_coords)\n",
    "        \n",
    "        dirichlet_bc_gt = dolfin.DirichletBC(self.V,\n",
    "                                     dolfin.Constant(0),\n",
    "                                     (lambda x, on_boundary:\n",
    "                                      on_boundary and x[2] < GROUNDED_PLATE_AT))\n",
    "        test = self.fm.test_function()\n",
    "        trial = self.fm.trial_function()\n",
    "        potential = self.fm.function()\n",
    "        \n",
    "        \n",
    "        dx = self.dx\n",
    "        a = sum(dolfin.Constant(c)\n",
    "                * dolfin.inner(dolfin.grad(trial),\n",
    "                               dolfin.grad(test))\n",
    "                * dx(i)\n",
    "                for i, c\n",
    "                in self.CONDUCTIVITY)\n",
    "        L = self.csd_f * test * dx\n",
    "        \n",
    "        b = dolfin.assemble(L)\n",
    "        A = dolfin.assemble(a)\n",
    "        dirichlet_bc_gt.apply(A, b)\n",
    "        \n",
    "        solver = dolfin.KrylovSolver(\"cg\", \"ilu\")\n",
    "        solver.parameters[\"maximum_iterations\"] = 10000\n",
    "        solver.parameters[\"absolute_tolerance\"] = 1E-8\n",
    "        # solver.parameters[\"monitor_convergence\"] = True  # Goes to Jupyter server output stream\n",
    "        solver.solve(A, potential.vector(), b)\n",
    "        \n",
    "        return potential"
   ]
  },
  {
   "cell_type": "code",
   "execution_count": null,
   "metadata": {},
   "outputs": [],
   "source": [
    "%time fem_gt = ForwardModel(FEM_MESH, FWD_DEGREE, FEM_CONFIG)"
   ]
  },
  {
   "cell_type": "markdown",
   "metadata": {},
   "source": [
    "# kernel construction"
   ]
  },
  {
   "cell_type": "code",
   "execution_count": null,
   "metadata": {},
   "outputs": [],
   "source": [
    "electrode_grid_names = [\n",
    "#                         'A',\n",
    "                        'B',\n",
    "#                         'C',\n",
    "                        'D',\n",
    "#                         'E',\n",
    "                        ]\n",
    "electrode_names = [f'{x}_{i:02d}' for i in range(0, 12)\n",
    "                   for x in electrode_grid_names]"
   ]
  },
  {
   "cell_type": "code",
   "execution_count": null,
   "metadata": {},
   "outputs": [],
   "source": [
    "class Electrode(object):\n",
    "    def __init__(self, filename):\n",
    "        \"\"\"\n",
    "        Parameters\n",
    "        ----------\n",
    "        \n",
    "        filename : str\n",
    "            Path to the sampled correction potential.\n",
    "        \"\"\"\n",
    "        self.filename = filename\n",
    "        with np.load(filename) as fh:\n",
    "            self.SAMPLING_GRID = [fh[c] for c in 'XYZ']\n",
    "            self.x, self.y, self.z = fh['LOCATION']\n",
    "            self.base_conductivity = fh['BASE_CONDUCTIVITY']\n",
    "\n",
    "    def correction_leadfield(self, X, Y, Z):\n",
    "        \"\"\"\n",
    "        Correction of the leadfield of the electrode\n",
    "        for violation of kCSD assumptions\n",
    "        \n",
    "        Parameters\n",
    "        ----------\n",
    "        X, Y, Z : np.array\n",
    "            Coordinate matrices of the same shape.\n",
    "        \"\"\"\n",
    "        with np.load(self.filename) as fh:\n",
    "            return self._correction_leadfield(fh['CORRECTION_POTENTIAL'],\n",
    "                                              [X, Y, Z])\n",
    "\n",
    "    def _correction_leadfield(self, SAMPLES, XYZ):\n",
    "        # if XYZ points are in nodes of the sampling grid,\n",
    "        # no time-consuming interpolation is necessary\n",
    "        return SAMPLES[self._sampling_grid_indices(XYZ)]\n",
    "\n",
    "    def _sampling_grid_indices(self, XYZ):\n",
    "        return tuple(np.searchsorted(GRID, COORD)\n",
    "                     for GRID, COORD in zip(self.SAMPLING_GRID, XYZ))"
   ]
  },
  {
   "cell_type": "code",
   "execution_count": null,
   "metadata": {},
   "outputs": [],
   "source": [
    "electrodes = [Electrode(FILENAME_PATTERN.format(name=name))\n",
    "              for name in electrode_names]"
   ]
  },
  {
   "cell_type": "code",
   "execution_count": null,
   "metadata": {},
   "outputs": [],
   "source": [
    "ELECTRODES = []\n",
    "for name, electrode in zip(electrode_names, electrodes):\n",
    "    ELECTRODES.append({'NAME': name,\n",
    "                       'X': electrode.x,\n",
    "                       'Y': electrode.y,\n",
    "                       'Z': electrode.z})\n",
    "ELECTRODES = pd.DataFrame(ELECTRODES)"
   ]
  },
  {
   "cell_type": "code",
   "execution_count": null,
   "metadata": {},
   "outputs": [],
   "source": [
    "plt.scatter(ELECTRODES.X, ELECTRODES.Z, marker='.')\n",
    "plt.gca().add_artist(plt.Circle((0,0), radius=0.090, ls=':', edgecolor=cbf.BLACK, facecolor='none'))\n",
    "plt.gca().add_artist(plt.Circle((0,0), radius=0.086, ls=':', edgecolor=cbf.VERMILION, facecolor='none'))\n",
    "plt.gca().add_artist(plt.Circle((0,0), radius=0.082, ls=':', edgecolor=cbf.BLUE, facecolor='none'))\n",
    "plt.gca().add_artist(plt.Circle((0,0), radius=0.079, ls=':', edgecolor=cbf.PURPLE, facecolor='none'))\n",
    "plt.xlim(-0.03, 0.03)\n",
    "plt.ylim(0.04, 0.08)\n",
    "plt.gca().set_aspect('equal')"
   ]
  },
  {
   "cell_type": "code",
   "execution_count": null,
   "metadata": {
    "scrolled": true
   },
   "outputs": [],
   "source": [
    "set(np.diff(sorted(set(ELECTRODES.Z * 1000))))"
   ]
  },
  {
   "cell_type": "code",
   "execution_count": null,
   "metadata": {},
   "outputs": [],
   "source": [
    "ELECTRODES.Z.min()"
   ]
  },
  {
   "cell_type": "code",
   "execution_count": null,
   "metadata": {},
   "outputs": [],
   "source": [
    "XX, YY, ZZ = electrode.SAMPLING_GRID"
   ]
  },
  {
   "cell_type": "code",
   "execution_count": null,
   "metadata": {},
   "outputs": [],
   "source": [
    "ROMBERG_K = 5"
   ]
  },
  {
   "cell_type": "code",
   "execution_count": null,
   "metadata": {},
   "outputs": [],
   "source": [
    "dx = (XX[-1] - XX[0]) / (len(XX) - 1)\n",
    "SRC_R_MAX = (2**(ROMBERG_K - 1)) * dx\n",
    "ROMBERG_N = 2**ROMBERG_K + 1\n",
    "print(SRC_R_MAX)"
   ]
  },
  {
   "cell_type": "code",
   "execution_count": null,
   "metadata": {},
   "outputs": [],
   "source": []
  },
  {
   "cell_type": "code",
   "execution_count": null,
   "metadata": {},
   "outputs": [],
   "source": [
    "H_Y = 2e-2\n",
    "H_X = 2e-2\n",
    "X = XX[abs(XX) <= H_X + SRC_R_MAX + dx]\n",
    "Y = YY[abs(YY) <= H_Y + SRC_R_MAX + dx]\n",
    "Z = ZZ[(ZZ >= 2.5e-2 - SRC_R_MAX - dx)\n",
    "       & (ZZ <= 7.9e-2)]"
   ]
  },
  {
   "cell_type": "code",
   "execution_count": null,
   "metadata": {},
   "outputs": [],
   "source": [
    "convolver = frr.Convolver([X, Y, Z],\n",
    "                          [X, Y, Z])"
   ]
  },
  {
   "cell_type": "code",
   "execution_count": null,
   "metadata": {},
   "outputs": [],
   "source": []
  },
  {
   "cell_type": "code",
   "execution_count": null,
   "metadata": {},
   "outputs": [],
   "source": [
    "sd = SRC_R_MAX / 3\n",
    "def source(x, y, z):\n",
    "    return common.SphericalSplineSourceKCSD(x, y, z,\n",
    "#                                             [SRC_R_MAX],\n",
    "#                                             [[1]],\n",
    "                                             [sd, 3 * sd],\n",
    "                                             [[1],\n",
    "                                              [0,\n",
    "                                               2.25 / sd,\n",
    "                                               -1.5 / sd ** 2,\n",
    "                                               0.25 / sd ** 3]],\n",
    "                                             electrode.base_conductivity)\n",
    "\n",
    "model_src = source(0, 0, 0)"
   ]
  },
  {
   "cell_type": "code",
   "execution_count": null,
   "metadata": {},
   "outputs": [],
   "source": [
    "SRC_MASK = (((convolver.SRC_Z < convolver.SRC_Z.max() - SRC_R_MAX)\n",
    "             & (convolver.SRC_Z > convolver.SRC_Z.min() + SRC_R_MAX))\n",
    "            & (abs(convolver.SRC_Y) <= H_Y)\n",
    "            & (abs(convolver.SRC_X) <= H_X)\n",
    "            & (np.square(convolver.SRC_X)\n",
    "               + np.square(convolver.SRC_Y)\n",
    "               + np.square(convolver.SRC_Z)\n",
    "                < np.square(0.079 - SRC_R_MAX))\n",
    "            )"
   ]
  },
  {
   "cell_type": "code",
   "execution_count": null,
   "metadata": {},
   "outputs": [],
   "source": [
    "SRC_MASK.sum(), SRC_MASK.shape"
   ]
  },
  {
   "cell_type": "code",
   "execution_count": null,
   "metadata": {},
   "outputs": [],
   "source": [
    "CSD_MASK = np.ones(convolver.shape('CSD'),\n",
    "                   dtype=bool)"
   ]
  },
  {
   "cell_type": "markdown",
   "metadata": {},
   "source": [
    "# Kernels"
   ]
  },
  {
   "cell_type": "code",
   "execution_count": null,
   "metadata": {},
   "outputs": [],
   "source": [
    "from scipy.integrate import romb\n",
    "\n",
    "ROMBERG_WEIGHTS = romb(np.identity(ROMBERG_N)) * 2 ** -ROMBERG_K\n",
    "\n",
    "convolver_interface = frr.ConvolverInterfaceIndexed(convolver,\n",
    "                                                    model_src.csd,\n",
    "                                                    ROMBERG_WEIGHTS,\n",
    "                                                    SRC_MASK)\n",
    "\n",
    "kernel_constructor = frr.KernelConstructor()\n",
    "kernel_constructor.create_crosskernel = frr.CrossKernelConstructor(convolver_interface,\n",
    "                                                                   CSD_MASK)\n",
    "\n",
    "pae_kcsd = frr.PAE_Analytical(convolver_interface,\n",
    "                              potential=model_src.potential)\n",
    "pae_kesi = frr.PAE_AnalyticalCorrectedNumerically(convolver_interface,\n",
    "                                                  potential=model_src.potential)"
   ]
  },
  {
   "cell_type": "markdown",
   "metadata": {},
   "source": [
    "Warning: no subtraction of kCSD out of the slice possible"
   ]
  },
  {
   "cell_type": "code",
   "execution_count": null,
   "metadata": {},
   "outputs": [],
   "source": [
    "%%time\n",
    "PHI_KCSD = kernel_constructor.create_base_images_at_electrodes(electrodes,\n",
    "                                                               pae_kcsd)"
   ]
  },
  {
   "cell_type": "code",
   "execution_count": null,
   "metadata": {
    "scrolled": true
   },
   "outputs": [],
   "source": [
    "%%time\n",
    "PHI_KESI = kernel_constructor.create_base_images_at_electrodes(electrodes,\n",
    "                                                               pae_kesi)"
   ]
  },
  {
   "cell_type": "markdown",
   "metadata": {},
   "source": [
    "# kernel analysis"
   ]
  },
  {
   "cell_type": "code",
   "execution_count": null,
   "metadata": {},
   "outputs": [],
   "source": [
    "KERNEL_KCSD = kernel_constructor.create_kernel(PHI_KCSD)\n",
    "\n",
    "EIGENVALUES_KCSD, EIGENVECTORS_KCSD = np.linalg.eigh(KERNEL_KCSD)\n",
    "EIGENVALUES_KCSD, EIGENVECTORS_KCSD = EIGENVALUES_KCSD[::-1], EIGENVECTORS_KCSD[:, ::-1]\n",
    "LAMBDA_KCSD = np.sqrt(EIGENVALUES_KCSD)\n",
    "EIGENSOURCES_KCSD = np.matmul(PHI_KCSD,\n",
    "                              np.matmul(EIGENVECTORS_KCSD,\n",
    "                                        np.diag(1. / LAMBDA_KCSD)))"
   ]
  },
  {
   "cell_type": "code",
   "execution_count": null,
   "metadata": {},
   "outputs": [],
   "source": [
    "KERNEL_KESI = kernel_constructor.create_kernel(PHI_KESI)\n",
    "\n",
    "EIGENVALUES_KESI, EIGENVECTORS_KESI = np.linalg.eigh(KERNEL_KESI)\n",
    "EIGENVALUES_KESI, EIGENVECTORS_KESI = EIGENVALUES_KESI[::-1], EIGENVECTORS_KESI[:, ::-1]\n",
    "LAMBDA_KESI = np.sqrt(EIGENVALUES_KESI)\n",
    "# EIGENSOURCES_KESI = np.matmul(FWD,\n",
    "#                               np.matmul(EIGENVECTORS_KESI,\n",
    "#                                         np.diag(1. / LAMBDA_KESI)))"
   ]
  },
  {
   "cell_type": "code",
   "execution_count": null,
   "metadata": {},
   "outputs": [],
   "source": [
    "# KCSD_TO_KESI_ES = np.matmul(EIGENSOURCES_KESI.T, EIGENSOURCES)"
   ]
  },
  {
   "cell_type": "code",
   "execution_count": null,
   "metadata": {},
   "outputs": [],
   "source": [
    "# assert (KCSD_TO_KESI_ES.max(axis=0) > 0).all()"
   ]
  },
  {
   "cell_type": "code",
   "execution_count": null,
   "metadata": {},
   "outputs": [],
   "source": [
    "# plt.plot(abs(np.diag(np.matmul(EIGENVECTORS_KESI.T, EIGENVECTORS))), marker='.')\n",
    "# plt.plot(abs(np.diag(KCSD_TO_KESI_ES)), marker='.')\n",
    "# plt.ylim(0.94, 1.00)"
   ]
  },
  {
   "cell_type": "code",
   "execution_count": null,
   "metadata": {},
   "outputs": [],
   "source": [
    "# for i, KESI_PROJECTION in enumerate(KCSD_TO_KESI_ES.T):\n",
    "#     _idx = np.argmax(abs(KESI_PROJECTION))\n",
    "#     if KESI_PROJECTION[_idx] > 0:\n",
    "#         EIGENSOURCES[:, i] += EIGENSOURCES_KESI[:, _idx]\n",
    "#     else:\n",
    "#         EIGENSOURCES[:, i] -= EIGENSOURCES_KESI[:, _idx]"
   ]
  },
  {
   "cell_type": "code",
   "execution_count": null,
   "metadata": {},
   "outputs": [],
   "source": [
    "# del EIGENSOURCES_KESI"
   ]
  },
  {
   "cell_type": "markdown",
   "metadata": {},
   "source": [
    "## crosskernels"
   ]
  },
  {
   "cell_type": "code",
   "execution_count": null,
   "metadata": {},
   "outputs": [],
   "source": [
    "%%time\n",
    "CROSSKERNEL_KCSD = kernel_constructor.create_crosskernel(PHI_KCSD).reshape(convolver.shape('CSD') + (-1,))"
   ]
  },
  {
   "cell_type": "code",
   "execution_count": null,
   "metadata": {},
   "outputs": [],
   "source": [
    "%%time\n",
    "CROSSKERNEL_KESI = kernel_constructor.create_crosskernel(PHI_KESI).reshape(convolver.shape('CSD') + (-1,))"
   ]
  },
  {
   "cell_type": "code",
   "execution_count": null,
   "metadata": {},
   "outputs": [],
   "source": [
    "del PHI_KCSD, PHI_KESI"
   ]
  },
  {
   "cell_type": "markdown",
   "metadata": {},
   "source": [
    "# IMAGES"
   ]
  },
  {
   "cell_type": "code",
   "execution_count": null,
   "metadata": {},
   "outputs": [],
   "source": [
    "%%time\n",
    "GT_CSD = []\n",
    "\n",
    "_SRC = np.zeros(convolver.shape('SRC'))\n",
    "for i, _SRC[SRC_MASK] in enumerate(EIGENSOURCES_KCSD.T):\n",
    "    print(i)\n",
    "    GT_CSD.append(convolver.base_weights_to_csd(_SRC, model_src.csd, (ROMBERG_N,) * 3))\n",
    "    \n",
    "del _SRC"
   ]
  },
  {
   "cell_type": "code",
   "execution_count": null,
   "metadata": {},
   "outputs": [],
   "source": [
    "%%time\n",
    "IMAGE = []\n",
    "\n",
    "for i, _CSD in enumerate(GT_CSD):\n",
    "    print(i)\n",
    "    _csd = si.RegularGridInterpolator(\n",
    "                                  [getattr(convolver, f'CSD_{x}').flatten()\n",
    "                                   for x in 'XYZ'],\n",
    "                                  _CSD,\n",
    "                                  bounds_error=False,\n",
    "                                  fill_value=0)\n",
    "    _v = fem_gt(_csd)\n",
    "    IMAGE.append(np.array(list(map(_v, ELECTRODES.X, ELECTRODES.Y, ELECTRODES.Z))))"
   ]
  },
  {
   "cell_type": "code",
   "execution_count": null,
   "metadata": {},
   "outputs": [],
   "source": [
    "del _CSD, _csd, _v"
   ]
  },
  {
   "cell_type": "code",
   "execution_count": null,
   "metadata": {},
   "outputs": [],
   "source": [
    "%%time\n",
    "\n",
    "FILENAME = f'git_paper_4SM__two_paralel_linear_electrodes_images_INV_{INV_GEOMETRY}_{INV_MESH}_{INV_DEGREE}_FWD_{FWD_GEOMETRY}_{FWD_MESH}_{FWD_DEGREE}_{COMPARISON}.npz'\n",
    "\n",
    "kwargs = {attr: getattr(convolver, attr) for attr in map('CSD_{}'.format, 'XYZ')}\n",
    "kwargs.update((f'POT_{attr}', ELECTRODES[attr]) for attr in 'XYZ')\n",
    "\n",
    "np.savez_compressed(FILENAME,\n",
    "                    CSD=GT_CSD,\n",
    "                    POT=IMAGE,\n",
    "                    **kwargs)"
   ]
  },
  {
   "cell_type": "code",
   "execution_count": null,
   "metadata": {
    "scrolled": true
   },
   "outputs": [],
   "source": [
    "for i, V in enumerate(IMAGE):\n",
    "    plt.figure()\n",
    "    plt.title(i)\n",
    "    plt.axhline(1, ls=':', color=cbf.BLACK)\n",
    "    plt.axvline(i, ls=':', color=cbf.BLACK)\n",
    "    plt.stem(np.matmul(V, EIGENVECTORS_KCSD) / LAMBDA_KCSD)\n",
    "    plt.plot(np.matmul(V, EIGENVECTORS_KESI) / LAMBDA_KESI)"
   ]
  },
  {
   "cell_type": "markdown",
   "metadata": {},
   "source": [
    "## Reconstruction errors"
   ]
  },
  {
   "cell_type": "code",
   "execution_count": null,
   "metadata": {},
   "outputs": [],
   "source": [
    "norms = {'L1': lambda x: np.abs(x).mean(),\n",
    "         'L2': lambda x: np.sqrt(np.square(x).mean()),\n",
    "         'Linf': lambda x: np.abs(x).max(),\n",
    "         }\n",
    "\n",
    "def add_norms_to_dict(d, key_template, DATA):\n",
    "    for name, norm in norms.items():\n",
    "        d[key_template.format(name)] = norm(DATA)\n",
    "\n",
    "def reconstruct(_KERNEL, _CROSSKERNEL, V, _rp=0):\n",
    "    return np.matmul(_CROSSKERNEL,\n",
    "                     np.linalg.solve(_KERNEL\n",
    "                                     + _rp * np.identity(len(_KERNEL)),\n",
    "                                     V))"
   ]
  },
  {
   "cell_type": "code",
   "execution_count": null,
   "metadata": {},
   "outputs": [],
   "source": [
    "plt.plot(EIGENVALUES_KCSD)\n",
    "plt.plot(EIGENVALUES_KESI)\n",
    "plt.yscale('log')"
   ]
  },
  {
   "cell_type": "code",
   "execution_count": null,
   "metadata": {},
   "outputs": [],
   "source": [
    "REGULARIZATION_PARAMETERS = np.logspace(3, 17, 5 * 14 + 1)"
   ]
  },
  {
   "cell_type": "code",
   "execution_count": null,
   "metadata": {},
   "outputs": [],
   "source": [
    "es_reconstructors = {method: verbose.VerboseFFR._CrossKernelReconstructor(\n",
    "                                                     kesi._engine._LinearKernelSolver(\n",
    "                                                         _KERNEL),\n",
    "                                                     np.matmul(np.diag(_LAMBDA),\n",
    "                                                               _EIGENVECTORS.T))\n",
    "                     for method, _KERNEL, _EIGENVECTORS, _LAMBDA\n",
    "                     in [('kCSD', KERNEL_KCSD, EIGENVECTORS_KCSD, LAMBDA_KCSD),\n",
    "                         ('kESI', KERNEL_KESI, EIGENVECTORS_KESI, LAMBDA_KESI),\n",
    "                         ]\n",
    "                     }"
   ]
  },
  {
   "cell_type": "code",
   "execution_count": null,
   "metadata": {},
   "outputs": [],
   "source": [
    "%%time\n",
    "IMAGE_ERRORS = []\n",
    "IMAGE_ERRORS_CV = []\n",
    "\n",
    "for i, (_CSD_GT, V) in enumerate(zip(GT_CSD, IMAGE)):\n",
    "    print(i)\n",
    "    row = {'ES': i}\n",
    "    add_norms_to_dict(row, 'GT_{}', _CSD_GT)\n",
    "    row_cv = row.copy()\n",
    "    IMAGE_ERRORS.append(row)\n",
    "    IMAGE_ERRORS_CV.append(row_cv)\n",
    "\n",
    "\n",
    "    for method, _KERNEL, _CROSSKERNEL in [\n",
    "        ('kCSD', KERNEL_KCSD, CROSSKERNEL_KCSD),\n",
    "        ('kESI', KERNEL_KESI, CROSSKERNEL_KESI),\n",
    "        ]:\n",
    "        _ERRORS = common.cv(es_reconstructors[method],\n",
    "                            V,\n",
    "                            REGULARIZATION_PARAMETERS)\n",
    "        for _row, _rp in [(row, 0),\n",
    "                          (row_cv, REGULARIZATION_PARAMETERS[np.argmin(_ERRORS)])]:\n",
    "            add_norms_to_dict(_row,\n",
    "                              f'ERR_{method}_{{}}',\n",
    "                              reconstruct(_KERNEL, _CROSSKERNEL, V, _rp) - _CSD_GT)\n",
    "    \n",
    "del _CSD_GT, _ERRORS, _CROSSKERNEL, _KERNEL\n",
    "\n",
    "IMAGE_ERRORS = pd.DataFrame(IMAGE_ERRORS)\n",
    "IMAGE_ERRORS_CV = pd.DataFrame(IMAGE_ERRORS_CV)"
   ]
  },
  {
   "cell_type": "markdown",
   "metadata": {},
   "source": [
    "## Reconstruction error plots (no regularization)"
   ]
  },
  {
   "cell_type": "code",
   "execution_count": null,
   "metadata": {},
   "outputs": [],
   "source": [
    "for norm in norms:\n",
    "    plt.figure()\n",
    "    plt.title(norm)\n",
    "    for method, color, ls in [('kCSD', cbf.SKY_BLUE, '-'),\n",
    "                              ('kESI', cbf.VERMILION, ':'),\n",
    "                             ]:\n",
    "        plt.plot(IMAGE_ERRORS.ES,\n",
    "                 IMAGE_ERRORS[f'ERR_{method}_{norm}'] / IMAGE_ERRORS[f'GT_{norm}'],\n",
    "                 color=color,\n",
    "                 ls=ls,\n",
    "                 label=method)\n",
    "    plt.legend(loc='best')\n",
    "    plt.axhline(1, color=cbf.BLACK, ls=':')\n",
    "    plt.axhline(0.5, color=cbf.BLACK, ls=':')\n",
    "    plt.axhline(0.1, color=cbf.BLACK, ls=':')\n",
    "    plt.axhline(0.05, color=cbf.BLACK, ls=':')\n",
    "    plt.yscale('log')"
   ]
  },
  {
   "cell_type": "markdown",
   "metadata": {},
   "source": [
    "## Reconstruction error plots (regularization)"
   ]
  },
  {
   "cell_type": "code",
   "execution_count": null,
   "metadata": {},
   "outputs": [],
   "source": [
    "for norm in norms:\n",
    "    plt.figure()\n",
    "    plt.title(norm)\n",
    "    for method, color, ls in [('kCSD', cbf.SKY_BLUE, '-'),\n",
    "                              ('kESI', cbf.VERMILION, ':'),\n",
    "                             ]:\n",
    "        plt.plot(IMAGE_ERRORS_CV.ES,\n",
    "                 IMAGE_ERRORS_CV[f'ERR_{method}_{norm}'] / IMAGE_ERRORS_CV[f'GT_{norm}'],\n",
    "                 color=color,\n",
    "                 ls=ls,\n",
    "                 label=method)\n",
    "    plt.legend(loc='best')\n",
    "    plt.axhline(1, color=cbf.BLACK, ls=':')\n",
    "    plt.axhline(0.5, color=cbf.BLACK, ls=':')\n",
    "    plt.axhline(0.1, color=cbf.BLACK, ls=':')\n",
    "    plt.axhline(0.05, color=cbf.BLACK, ls=':')\n",
    "    plt.yscale('log')"
   ]
  },
  {
   "cell_type": "markdown",
   "metadata": {},
   "source": [
    "## compare approaches"
   ]
  },
  {
   "cell_type": "code",
   "execution_count": null,
   "metadata": {
    "scrolled": false
   },
   "outputs": [],
   "source": [
    "for norm in norms:\n",
    "    plt.figure()\n",
    "    plt.title(norm)\n",
    "    for method, color in [('kCSD', cbf.SKY_BLUE),\n",
    "                          ('kESI', cbf.VERMILION),\n",
    "                         ]:\n",
    "        plt.plot(IMAGE_ERRORS.ES,\n",
    "                 IMAGE_ERRORS[f'ERR_{method}_{norm}'] / IMAGE_ERRORS[f'GT_{norm}'],\n",
    "                 color=color,\n",
    "                 ls='-',\n",
    "                 label=method)\n",
    "        plt.plot(IMAGE_ERRORS_CV.ES,\n",
    "                 IMAGE_ERRORS_CV[f'ERR_{method}_{norm}'] / IMAGE_ERRORS_CV[f'GT_{norm}'],\n",
    "                 color=color,\n",
    "                 ls=':',\n",
    "                 label=f'{method} (CV)')\n",
    "\n",
    "    plt.legend(loc='best')\n",
    "    plt.axhline(1, color=cbf.BLACK, ls=':')\n",
    "    plt.axhline(0.5, color=cbf.BLACK, ls=':')\n",
    "    plt.axhline(0.1, color=cbf.BLACK, ls=':')\n",
    "    plt.axhline(0.05, color=cbf.BLACK, ls=':')\n",
    "    plt.yscale('log')"
   ]
  },
  {
   "cell_type": "code",
   "execution_count": null,
   "metadata": {},
   "outputs": [],
   "source": [
    "dx * 1e3, SRC_R_MAX * 1e3"
   ]
  },
  {
   "cell_type": "code",
   "execution_count": null,
   "metadata": {},
   "outputs": [],
   "source": [
    "class CardinalPlaneVisualisation(object):\n",
    "    SPHERE_RADII = [0.079, 0.082, 0.086, 0.090]\n",
    "    SPHERE_RADII_GT = [0.079, 0.080, 0.085, 0.090]\n",
    "\n",
    "    def __init__(self,\n",
    "                 grid,\n",
    "                 plane_intersection,\n",
    "                 dpi=17,\n",
    "                 cmap=cbf.bwr,\n",
    "                 amp=None,\n",
    "                 length_factor=1,\n",
    "                 length_unit='$m$',\n",
    "                 unit_factor=1,\n",
    "                 unit=''):\n",
    "        self.grid = grid\n",
    "        self.plane_intersection = np.array(plane_intersection)\n",
    "        self.indices = [np.searchsorted(g, a)\n",
    "                        for a, g in zip(plane_intersection,\n",
    "                                        grid)]\n",
    "        self.dpi = dpi\n",
    "        self.cmap = cmap\n",
    "        self.amp = amp\n",
    "        self.length_factor = length_factor\n",
    "        self.length_unit = length_unit\n",
    "        self.unit_factor = unit_factor\n",
    "        self.unit = unit\n",
    "\n",
    "    def start_new_image(self, title, wx, wy, wz):\n",
    "        self.fig = plt.figure(figsize=((wx + wy) / self.dpi,\n",
    "                                       (wz + wy) / self.dpi))\n",
    "        if title is not None:\n",
    "            self.fig.suptitle(title)\n",
    "\n",
    "        gs = plt.GridSpec(2, 2,\n",
    "                          figure=self.fig,\n",
    "                          width_ratios=[wx, wy],\n",
    "                          height_ratios=[wz, wy])\n",
    "\n",
    "        self.ax_xz = self.fig.add_subplot(gs[0, 0])\n",
    "        self.ax_xz.set_aspect('equal')\n",
    "        self.ax_xz.set_ylabel(f'Z [{self.length_unit}]')\n",
    "        self.ax_xz.set_xlabel(f'X [{self.length_unit}]')\n",
    "\n",
    "        self.ax_yx = self.fig.add_subplot(gs[1, 1])\n",
    "        self.ax_yx.set_aspect('equal')\n",
    "        self.ax_yx.set_ylabel(f'X [{self.length_unit}]')\n",
    "        self.ax_yx.set_xlabel(f'Y [{self.length_unit}]')\n",
    "\n",
    "        self.ax_yz = self.fig.add_subplot(gs[0, 1],\n",
    "                                          sharey=self.ax_xz,\n",
    "                                          sharex=self.ax_yx)\n",
    "        self.ax_yz.set_aspect('equal')\n",
    "\n",
    "        self.cax = self.fig.add_subplot(gs[1, 0])\n",
    "        self.cax.set_visible(False)\n",
    "\n",
    "    def finish_image(self):\n",
    "        x, y, z = self.length_factor * self.plane_intersection\n",
    "\n",
    "        self.ax_xz.axvline(x, ls=':', color=cbf.BLACK)\n",
    "        self.ax_xz.axhline(z, ls=':', color=cbf.BLACK)\n",
    "\n",
    "        self.ax_yx.axvline(y, ls=':', color=cbf.BLACK)\n",
    "        self.ax_yx.axhline(x, ls=':', color=cbf.BLACK)\n",
    "\n",
    "        self.ax_yz.axvline(y, ls=':', color=cbf.BLACK)\n",
    "        self.ax_yz.axhline(z, ls=':', color=cbf.BLACK)\n",
    "        self.fig.colorbar(self.im, ax=self.cax,\n",
    "                          orientation='horizontal',\n",
    "                          label=self.unit)\n",
    "\n",
    "    def plot_volume(self, DATA, title=None, amp=None):\n",
    "        self.start_new_image(title, *DATA.shape)\n",
    "        ix, iy, iz = self.indices\n",
    "        self._plot_planes([DATA[ix:ix+1, :, :],\n",
    "                           DATA[:, iy:iy+1, :],\n",
    "                           DATA[:, :, iz:iz+1],\n",
    "                           ],\n",
    "                           amp if amp is not None else abs(DATA).max())\n",
    "        self.finish_image()\n",
    "\n",
    "    def _plot_planes(self, DATA_PLANES, amp):\n",
    "        DATA_ZY = DATA_PLANES[0][0, :, :].T * self.unit_factor\n",
    "        DATA_ZX = DATA_PLANES[1][:, 0, :].T * self.unit_factor\n",
    "        DATA_XY = DATA_PLANES[2][:, :, 0] * self.unit_factor\n",
    "        \n",
    "        def _extent(first, second):\n",
    "            _first = self.grid[first] * self.length_factor\n",
    "            _second = self.grid[second] * self.length_factor\n",
    "            return (_first.min(), _first.max(),\n",
    "                    _second.min(), _second.max())\n",
    "\n",
    "        self.ax_xz.imshow(DATA_ZX,\n",
    "                          vmin=-amp * self.unit_factor,\n",
    "                          vmax=amp * self.unit_factor,\n",
    "                          cmap=self.cmap,\n",
    "                          origin='lower',\n",
    "                          extent=_extent(0, 2))\n",
    "        self.ax_yx.imshow(DATA_XY,\n",
    "                          vmin=-amp * self.unit_factor,\n",
    "                          vmax=amp * self.unit_factor,\n",
    "                          cmap=self.cmap,\n",
    "                          origin='lower',\n",
    "                          extent=_extent(1, 0))\n",
    "        self.im = self.ax_yz.imshow(DATA_ZY,\n",
    "                                    vmin=-amp * self.unit_factor,\n",
    "                                    vmax=amp * self.unit_factor,\n",
    "                                    cmap=self.cmap,\n",
    "                                    origin='lower',\n",
    "                                    extent=_extent(1, 2))\n",
    "\n",
    "    def plot_planes(self,\n",
    "                    DATA_PLANES,\n",
    "                    title=None,\n",
    "                    amp=None):\n",
    "\n",
    "        DATA_YZ, DATA_XZ, DATA_XY = DATA_PLANES\n",
    "        wx, wy, _ = DATA_XY.shape\n",
    "        wz = DATA_YZ.shape[2]\n",
    "        assert DATA_YZ.shape[1] == wy\n",
    "        assert DATA_XZ.shape[0] == wx\n",
    "        assert DATA_XZ.shape[2] == wz\n",
    "        \n",
    "        self.start_new_image(title, wx, wy, wz)\n",
    "        self._plot_planes(DATA_PLANES,\n",
    "                          amp if amp is not None else max(abs(_A).max() for _A in DATA_PLANES))\n",
    "        self.finish_image()\n",
    "\n",
    "    def compare_with_gt(self, GT, CSD, title=''):\n",
    "        ERROR = CSD - GT\n",
    "        error_L2 = np.sqrt(np.square(ERROR).sum() / np.square(GT_CSD).sum())\n",
    "        amp = max(abs(CSD).max(),\n",
    "                  abs(GT).max(),\n",
    "                  abs(ERROR).max())\n",
    "        self.plot_volume(GT,\n",
    "                         title='GT CSD',\n",
    "                         amp=amp)\n",
    "        self._add_spheres(self.SPHERE_RADII_GT)\n",
    "        self.plot_volume(CSD,\n",
    "                         title=f'{title} reconstruction',\n",
    "                         amp=amp)\n",
    "        self._add_spheres(self.SPHERE_RADII)\n",
    "        self.plot_volume(ERROR,\n",
    "                         title=f'{title} error (GT normalized L2 norm: {error_L2:.2g})',\n",
    "                         amp=amp)\n",
    "\n",
    "    def _add_spheres(self, sphere_radii):\n",
    "        for c, ax in zip(self.plane_intersection,\n",
    "                         [self.ax_yz,\n",
    "                          self.ax_xz,\n",
    "                          self.ax_yx]):\n",
    "            for r2 in np.square(sphere_radii):\n",
    "                self._plot_circle(ax, np.sqrt(r2 - np.square(c)))\n",
    "\n",
    "    def _plot_circle(self, ax, r):\n",
    "        ax.add_artist(plt.Circle((0, 0), r * self.length_factor,\n",
    "                                facecolor='none',\n",
    "                                edgecolor=cbf.BLACK,\n",
    "                                linestyle=':'))\n",
    "\n",
    "    @property\n",
    "    def PLANES_XYZ(self):\n",
    "        return [[[c] if i == j else A for j, A in enumerate(self.grid)]\n",
    "                for i, c in enumerate(self.plane_intersection)]"
   ]
  },
  {
   "cell_type": "code",
   "execution_count": null,
   "metadata": {},
   "outputs": [],
   "source": [
    "csd_plotter = CardinalPlaneVisualisation([_x.flatten() for _x in convolver.CSD_GRID],\n",
    "                                         [0, 0, 0.058],\n",
    "                                         unit_factor=1e-3,\n",
    "                                         unit='$\\\\frac{pA}{mm^3}$',\n",
    "                                         length_factor=1e3,\n",
    "                                         length_unit='$mm$')"
   ]
  },
  {
   "cell_type": "code",
   "execution_count": null,
   "metadata": {},
   "outputs": [],
   "source": [
    "# _ES = 1\n",
    "_ES = 2\n",
    "# _ES = 7\n",
    "\n",
    "csd = {'GT': GT_CSD[_ES]}\n",
    "_V = IMAGE[_ES]\n",
    "\n",
    "plt.figure()\n",
    "plt.title('CV')\n",
    "plt.xscale('log')\n",
    "plt.yscale('log')\n",
    "\n",
    "for method, _KERNEL, _CROSSKERNEL in [\n",
    "    ('kCSD', KERNEL_KCSD, CROSSKERNEL_KCSD),\n",
    "    ('kESI', KERNEL_KESI, CROSSKERNEL_KESI),\n",
    "    ]:\n",
    "    _ERRORS = common.cv(es_reconstructors[method],\n",
    "                        _V,\n",
    "                        REGULARIZATION_PARAMETERS)\n",
    "    regularization_parameter = REGULARIZATION_PARAMETERS[np.argmin(_ERRORS)]\n",
    "    _l = plt.plot(REGULARIZATION_PARAMETERS,\n",
    "                  _ERRORS,\n",
    "                 label=method)\n",
    "    plt.axvline(regularization_parameter,\n",
    "                ls=':',\n",
    "                color=_l[0].get_color())\n",
    "\n",
    "    csd[method] = reconstruct(_KERNEL, _CROSSKERNEL, _V, regularization_parameter)\n",
    "plt.legend(loc='best')"
   ]
  },
  {
   "cell_type": "code",
   "execution_count": null,
   "metadata": {
    "scrolled": false
   },
   "outputs": [],
   "source": [
    "# x, y, z = 1e-3 * np.array([0, 0, 58])\n",
    "\n",
    "for method, _CSD in csd.items():\n",
    "    csd_plotter.plot_volume(_CSD, method)\n",
    "    csd_plotter._add_spheres(csd_plotter.SPHERE_RADII)\n",
    "\n",
    "    csd_plotter.ax_xz.set_xlim(-20, 20)\n",
    "    csd_plotter.ax_yx.set_xlim(-20, 20)\n",
    "    csd_plotter.ax_yz.set_xlim(-20, 20)\n",
    "    \n",
    "    csd_plotter.ax_xz.set_ylim(25, 90)\n",
    "    csd_plotter.ax_yx.set_ylim(-20, 20)\n",
    "    csd_plotter.ax_yz.set_ylim(25, 90)\n",
    "    \n",
    "    csd_plotter.ax_xz.scatter(ELECTRODES.X * 1e3, ELECTRODES.Z * 1e3, marker='x', color=cbf.BLACK)\n",
    "    csd_plotter.ax_yx.scatter(ELECTRODES.Y * 1e3, ELECTRODES.X * 1e3, marker='x', color=cbf.BLACK)\n",
    "    csd_plotter.ax_yz.scatter(ELECTRODES.Y * 1e3, ELECTRODES.Z * 1e3, marker='x', color=cbf.BLACK)\n",
    "\n",
    "#     fig, axes = crude_plot_data(_CSD,\n",
    "#                                 x=x, y=y, z=z,\n",
    "#                                 grid=[c.flatten() for c in convolver.CSD_MESH])\n",
    "#     fig.suptitle(method)\n",
    "\n",
    "#     for ax, cx, cy, c in zip(axes[0] + axes[1][1:],\n",
    "#                              'XYY',\n",
    "#                              'ZZX',\n",
    "#                              [y, x, z]):\n",
    "#         ax.set_xlim(-0.02, 0.02)\n",
    "#         ax.set_ylim(0.025 if cy == 'Z' else -0.02,\n",
    "#                     0.09 if cy == 'Z' else 0.02)\n",
    "#         ax.scatter(ELECTRODES[cx], ELECTRODES[cy], marker='x', color=cbf.BLACK)\n",
    "#         for r, ls in [(90, '-'),\n",
    "#                       (86, '-.'),\n",
    "#                       (82, '--'),\n",
    "#                       (79, ':'),\n",
    "#                       ]:\n",
    "#             ax.add_artist(plt.Circle((0,0),\n",
    "#                                      radius=np.sqrt(np.square(r * 1e-3) - np.square(c)),\n",
    "#                           ls=ls,\n",
    "#                           edgecolor=cbf.BLACK,\n",
    "#                           facecolor='none'))"
   ]
  },
  {
   "cell_type": "code",
   "execution_count": null,
   "metadata": {},
   "outputs": [],
   "source": [
    "for _ES, (_GT, _V) in enumerate(zip(GT_CSD, IMAGE), start=1):\n",
    "    print(_ES)\n",
    "\n",
    "    csd = {f'ES #{_ES} GT': _GT}\n",
    "    \n",
    "#     plt.figure()\n",
    "#     plt.title('CV')\n",
    "#     plt.xscale('log')\n",
    "#     plt.yscale('log')\n",
    "\n",
    "    for method, _KERNEL, _CROSSKERNEL in [\n",
    "        ('kCSD', KERNEL_KCSD, CROSSKERNEL_KCSD),\n",
    "        ('kESI', KERNEL_KESI, CROSSKERNEL_KESI),\n",
    "        ]:\n",
    "        print(_ES, method)\n",
    "        _ERRORS = common.cv(es_reconstructors[method],\n",
    "                            _V,\n",
    "                            REGULARIZATION_PARAMETERS)\n",
    "        regularization_parameter = REGULARIZATION_PARAMETERS[np.argmin(_ERRORS)]\n",
    "#         _l = plt.plot(REGULARIZATION_PARAMETERS,\n",
    "#                       _ERRORS,\n",
    "#                      label=method)\n",
    "#         plt.axvline(regularization_parameter,\n",
    "#                     ls=':',\n",
    "#                     color=_l[0].get_color())\n",
    "\n",
    "        csd[f'ES #{_ES} {method}'] = reconstruct(_KERNEL, _CROSSKERNEL, _V, regularization_parameter)\n",
    "#     plt.legend(loc='best')\n",
    "\n",
    "    for method, _CSD in csd.items():\n",
    "        csd_plotter.plot_volume(_CSD, method)\n",
    "        csd_plotter._add_spheres(csd_plotter.SPHERE_RADII)\n",
    "\n",
    "        csd_plotter.ax_xz.set_xlim(-20, 20)\n",
    "        csd_plotter.ax_yx.set_xlim(-20, 20)\n",
    "        csd_plotter.ax_yz.set_xlim(-20, 20)\n",
    "\n",
    "        csd_plotter.ax_xz.set_ylim(25, 90)\n",
    "        csd_plotter.ax_yx.set_ylim(-20, 20)\n",
    "        csd_plotter.ax_yz.set_ylim(25, 90)\n",
    "\n",
    "        csd_plotter.ax_xz.scatter(ELECTRODES.X * 1e3, ELECTRODES.Z * 1e3, marker='x', color=cbf.BLACK)\n",
    "        csd_plotter.ax_yx.scatter(ELECTRODES.Y * 1e3, ELECTRODES.X * 1e3, marker='x', color=cbf.BLACK)\n",
    "        csd_plotter.ax_yz.scatter(ELECTRODES.Y * 1e3, ELECTRODES.Z * 1e3, marker='x', color=cbf.BLACK)"
   ]
  },
  {
   "cell_type": "code",
   "execution_count": null,
   "metadata": {},
   "outputs": [],
   "source": []
  }
 ],
 "metadata": {
  "kernelspec": {
   "display_name": "Python [conda env:kesi37]",
   "language": "python",
   "name": "conda-env-kesi37-py"
  },
  "language_info": {
   "codemirror_mode": {
    "name": "ipython",
    "version": 3
   },
   "file_extension": ".py",
   "mimetype": "text/x-python",
   "name": "python",
   "nbconvert_exporter": "python",
   "pygments_lexer": "ipython3",
   "version": "3.7.12"
  }
 },
 "nbformat": 4,
 "nbformat_minor": 4
}
