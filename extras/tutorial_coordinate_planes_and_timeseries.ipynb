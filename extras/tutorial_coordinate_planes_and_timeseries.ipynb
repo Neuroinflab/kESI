{
 "cells": [
  {
   "cell_type": "markdown",
   "metadata": {},
   "source": [
    "Please note that this tutorial is focused at reconstructing CSD timeseries\n",
    "at a subset of the _CSD_ grid.  For sake of simplicity it uses kCSD\n",
    "(cross)kernels only.\n",
    "To learn, how to create kESI (cross)kernels please consult\n",
    "`tutorial_*_basics_explained.ipynb`.  To compare the reconstructed CSD\n",
    "with kCSD reconstruction at all nodes of the _CSD_ grid please run\n",
    "one of `tutorial_slice[_basics_explained].ipynb` notebooks."
   ]
  },
  {
   "cell_type": "markdown",
   "metadata": {},
   "source": [
    "# Requirements\n",
    "\n",
    "## Memory\n",
    "\n",
    "The code of the notebook requires at least 1.8 GB (1.7 GiB) of free memory.\n",
    "\n",
    "\n",
    "## Environment\n",
    "\n",
    "1. Anaconda Python distribution (tested with `Miniconda3-py39_4.12.0-Linux-x86_64.sh`, _conda v. 4.12.0_).\n",
    "2. Jupyter server (see `extras/jupyter_server.sh` for details).\n",
    "3. Anaconda environments (run `setup_conda_envs.sh`)."
   ]
  },
  {
   "cell_type": "markdown",
   "metadata": {},
   "source": [
    "# FRR: Fast Reciprocal Reconstructor kernel construction tools"
   ]
  },
  {
   "cell_type": "markdown",
   "metadata": {},
   "source": [
    "## Electrode object\n",
    "\n",
    "The implementation of the electrode object is minimal necessary for construction of a kCSD (cross)kernel."
   ]
  },
  {
   "cell_type": "code",
   "execution_count": null,
   "metadata": {},
   "outputs": [],
   "source": [
    "import collections\n",
    "\n",
    "Electrode = collections.namedtuple('Electrode',\n",
    "                                   ['x', 'y', 'z', 'conductivity'])"
   ]
  },
  {
   "cell_type": "markdown",
   "metadata": {},
   "source": [
    "We use the same positions of electrodes as `tutorial_slice[_basics_explained].ipynb` notebooks."
   ]
  },
  {
   "cell_type": "code",
   "execution_count": null,
   "metadata": {},
   "outputs": [],
   "source": [
    "CONDUCTIVITY = 0.3  # S/m\n",
    "\n",
    "ELECTRODES_XYZ = [(0.0, 0.0, 5e-05),\n",
    "                  (5e-05, 0.0, 0.00015),\n",
    "                  (5e-05, -5e-05, 0.00025)]\n",
    "\n",
    "electrodes = [Electrode(x, y, z, CONDUCTIVITY) for x, y, z in ELECTRODES_XYZ]"
   ]
  },
  {
   "cell_type": "markdown",
   "metadata": {},
   "source": [
    "## Model source\n",
    "\n",
    "We want to use CSD bases 36μm wide ($R = 18\\mu{}m$)."
   ]
  },
  {
   "cell_type": "code",
   "execution_count": null,
   "metadata": {},
   "outputs": [],
   "source": [
    "from kesi.common import SphericalSplineSourceKCSD\n",
    "\n",
    "SRC_R = 18e-6  # m\n",
    "\n",
    "spline_nodes = [SRC_R / 3, SRC_R]\n",
    "spline_polynomials = [[1],\n",
    "                      [0,\n",
    "                       6.75 / SRC_R,\n",
    "                       -13.5 / SRC_R ** 2,\n",
    "                       6.75 / SRC_R ** 3]]\n",
    "model_src = SphericalSplineSourceKCSD(0, 0, 0,\n",
    "                                      spline_nodes,\n",
    "                                      spline_polynomials)"
   ]
  },
  {
   "cell_type": "markdown",
   "metadata": {},
   "source": [
    "## Convolver object"
   ]
  },
  {
   "cell_type": "code",
   "execution_count": null,
   "metadata": {},
   "outputs": [],
   "source": [
    "import numpy as np\n",
    "from kesi.kernel.constructor import Convolver\n",
    "\n",
    "ROMBERG_K = 5\n",
    "Z_MIN = 0\n",
    "Z_MAX = 3e-4\n",
    "XY_AMP = 1.5e-4\n",
    "\n",
    "_h_min = SRC_R * 2**(1 - ROMBERG_K)\n",
    "_X = _Y = np.linspace(-XY_AMP, XY_AMP, int(np.floor(2 * XY_AMP / _h_min)) + 1)\n",
    "_Z = np.linspace(Z_MIN, Z_MAX, int(np.floor((Z_MAX - Z_MIN) / _h_min)) + 1)\n",
    "\n",
    "_csd_grid = _pot_grid = [_X, _Y, _Z]\n",
    "\n",
    "convolver = Convolver(_pot_grid, _csd_grid)\n",
    "\n",
    "for _h in convolver.steps('POT'):\n",
    "    assert _h >= _h_min, f'{_h} < {_h_min}'"
   ]
  },
  {
   "cell_type": "markdown",
   "metadata": {},
   "source": [
    "## Convolver interface"
   ]
  },
  {
   "cell_type": "code",
   "execution_count": null,
   "metadata": {},
   "outputs": [],
   "source": [
    "from kesi.kernel.constructor import ConvolverInterfaceIndexed\n",
    "from scipy.integrate import romb\n",
    "\n",
    "ROMBERG_N = 2 ** ROMBERG_K + 1\n",
    "ROMBERG_WEIGHTS = romb(np.identity(ROMBERG_N), dx=2 ** -ROMBERG_K)\n",
    "\n",
    "SRC_MASK = ((convolver.SRC_Z > Z_MIN + SRC_R)\n",
    "            & (convolver.SRC_Z < Z_MAX - SRC_R)\n",
    "            & (abs(convolver.SRC_X) < XY_AMP - SRC_R)\n",
    "            & (abs(convolver.SRC_Y) < XY_AMP - SRC_R))"
   ]
  },
  {
   "cell_type": "code",
   "execution_count": null,
   "metadata": {},
   "outputs": [],
   "source": [
    "print(SRC_MASK.sum())"
   ]
  },
  {
   "cell_type": "code",
   "execution_count": null,
   "metadata": {},
   "outputs": [],
   "source": [
    "convolver_interface = ConvolverInterfaceIndexed(convolver,\n",
    "                                                model_src.csd,\n",
    "                                                ROMBERG_WEIGHTS,\n",
    "                                                SRC_MASK)"
   ]
  },
  {
   "cell_type": "markdown",
   "metadata": {},
   "source": [
    "## Potential At Electrode object"
   ]
  },
  {
   "cell_type": "markdown",
   "metadata": {},
   "source": [
    "### Potential At Electrode: analytical solution of the forward problem (kCSD)"
   ]
  },
  {
   "cell_type": "code",
   "execution_count": null,
   "metadata": {},
   "outputs": [],
   "source": [
    "from kesi.kernel import potential_basis_functions as pbf"
   ]
  },
  {
   "cell_type": "code",
   "execution_count": null,
   "metadata": {},
   "outputs": [],
   "source": [
    "pbf_kcsd = pbf.Analytical(convolver_interface,\n",
    "                          potential=model_src.potential)"
   ]
  },
  {
   "cell_type": "markdown",
   "metadata": {},
   "source": [
    "## Kernel constructor and cross-kernel constructor"
   ]
  },
  {
   "cell_type": "code",
   "execution_count": null,
   "metadata": {},
   "outputs": [],
   "source": [
    "from kesi.kernel.constructor import KernelConstructor, CrossKernelConstructor\n",
    "\n",
    "kernel_constructor = KernelConstructor()"
   ]
  },
  {
   "cell_type": "markdown",
   "metadata": {},
   "source": [
    "### Cross-kernel for reconstruction in coordinate planes\n",
    "\n",
    "To calculate the cross-kernel matrix we need to select nodes of the _CSD_ grid.\n",
    "We are going to visualise current source density in the coordinate planes,\n",
    "thus in the boolean mask we select the closest nodes to the planes.\n",
    "First we unequivocally define the planes by their intersection point."
   ]
  },
  {
   "cell_type": "code",
   "execution_count": null,
   "metadata": {},
   "outputs": [],
   "source": [
    "coordinate_x = 25e-6\n",
    "coordinate_y = -25e-6\n",
    "coordinate_z = 150e-6\n",
    "\n",
    "intersection = [coordinate_x,\n",
    "                coordinate_y,\n",
    "                coordinate_z]"
   ]
  },
  {
   "cell_type": "markdown",
   "metadata": {},
   "source": [
    "We find indices of the node of the _CSD_ grid closest to the intersection in terms of Manhattan distance."
   ]
  },
  {
   "cell_type": "code",
   "execution_count": null,
   "metadata": {},
   "outputs": [],
   "source": [
    "indices_of_coordinates = [np.argmin(abs(_C - _c))\n",
    "                          for _C, _c in zip(convolver.CSD_GRID,\n",
    "                                            intersection)]"
   ]
  },
  {
   "cell_type": "markdown",
   "metadata": {},
   "source": [
    "With the indices we select the closest (to the coordinate planes) nodes of the _CSD_ grid.\n",
    "<!-- We define an auxilary function `one_hot(i, n)` which returns `n`-long vector which all elements but `i`-th are `0` (and the `i`-th element is `1`). -->"
   ]
  },
  {
   "cell_type": "code",
   "execution_count": null,
   "metadata": {},
   "outputs": [],
   "source": [
    "CSD_MASK_CP = np.zeros(convolver.csd_shape,\n",
    "                       dtype=bool)\n",
    "CSD_MASK_CP[indices_of_coordinates[0], :, :] = True\n",
    "CSD_MASK_CP[:, indices_of_coordinates[1], :] = True\n",
    "CSD_MASK_CP[:, :, indices_of_coordinates[2]] = True"
   ]
  },
  {
   "cell_type": "markdown",
   "metadata": {},
   "source": [
    "We count the selected nodes."
   ]
  },
  {
   "cell_type": "code",
   "execution_count": null,
   "metadata": {},
   "outputs": [],
   "source": [
    "n_csd_nodes = CSD_MASK_CP.sum()\n",
    "print(f'{n_csd_nodes} nodes of the CSD grid selected (coordinate planes).')"
   ]
  },
  {
   "cell_type": "markdown",
   "metadata": {},
   "source": [
    "We use the `CSD_MASK_CP` to create a cross-kernel constructor."
   ]
  },
  {
   "cell_type": "code",
   "execution_count": null,
   "metadata": {},
   "outputs": [],
   "source": [
    "kernel_constructor.crosskernel_cp = CrossKernelConstructor(convolver_interface,\n",
    "                                                           CSD_MASK_CP)"
   ]
  },
  {
   "cell_type": "markdown",
   "metadata": {},
   "source": [
    "To retrieve three CSD planes from CSD vector we define an auxilary function `to_planes()`.\n",
    "The function uses three index arrays to select (and arrange) appropriate elements of the vector."
   ]
  },
  {
   "cell_type": "code",
   "execution_count": null,
   "metadata": {},
   "outputs": [],
   "source": [
    "# As we reconstruct CSD at n_csd_nodes points,\n",
    "# n_csd_nodes is invalid index value for the\n",
    "# reconstructed CSD vector.\n",
    "\n",
    "_CSD_IDX = np.full_like(CSD_MASK_CP, n_csd_nodes,\n",
    "                        dtype=np.int32)\n",
    "_CSD_IDX[CSD_MASK_CP] = np.arange(n_csd_nodes)\n",
    "\n",
    "COORDINATE_PLANE_INDICES = [_CSD_IDX[indices_of_coordinates[0], :, :].copy(),\n",
    "                            _CSD_IDX[:, indices_of_coordinates[1], :].copy(),\n",
    "                            _CSD_IDX[:, :, indices_of_coordinates[2]].copy()\n",
    "                            ]\n",
    "del _CSD_IDX\n",
    "\n",
    "# We test, whether all indices are valid.\n",
    "\n",
    "for _A in COORDINATE_PLANE_INDICES:\n",
    "    assert _A.min() >= 0 and _A.max() < CSD_MASK_CP.sum()\n",
    "    \n",
    "def to_planes(CSD):\n",
    "    return [CSD[IDX] for IDX in COORDINATE_PLANE_INDICES]"
   ]
  },
  {
   "cell_type": "markdown",
   "metadata": {},
   "source": [
    "### Cross-kernel for reconstruction in cordinate line\n",
    "\n",
    "For the sake of simplicity we repeat all the steps above but definition of auxilary function, as the vector  format of reconstruction fits our purposes."
   ]
  },
  {
   "cell_type": "code",
   "execution_count": null,
   "metadata": {},
   "outputs": [],
   "source": [
    "_CSD_MASK = np.zeros(convolver.csd_shape,\n",
    "                     dtype=bool)\n",
    "_CSD_MASK[indices_of_coordinates[0], indices_of_coordinates[1], :] = True\n",
    "\n",
    "kernel_constructor.crosskernel_cl = CrossKernelConstructor(convolver_interface,\n",
    "                                                           _CSD_MASK)\n",
    "\n",
    "del _CSD_MASK"
   ]
  },
  {
   "cell_type": "markdown",
   "metadata": {},
   "source": [
    "# Reconstructor"
   ]
  },
  {
   "cell_type": "markdown",
   "metadata": {},
   "source": [
    "## Construction of kernels"
   ]
  },
  {
   "cell_type": "code",
   "execution_count": null,
   "metadata": {},
   "outputs": [],
   "source": [
    "%%time\n",
    "B = kernel_constructor.potential_basis_functions_at_electrodes(electrodes,\n",
    "                                                               pbf_kcsd)"
   ]
  },
  {
   "cell_type": "code",
   "execution_count": null,
   "metadata": {},
   "outputs": [],
   "source": [
    "KERNEL = kernel_constructor.kernel(B)"
   ]
  },
  {
   "cell_type": "code",
   "execution_count": null,
   "metadata": {},
   "outputs": [],
   "source": [
    "%%time\n",
    "CROSSKERNEL_CP = kernel_constructor.crosskernel_cp(B)"
   ]
  },
  {
   "cell_type": "code",
   "execution_count": null,
   "metadata": {},
   "outputs": [],
   "source": [
    "%%time\n",
    "CROSSKERNEL_CL = kernel_constructor.crosskernel_cl(B)"
   ]
  },
  {
   "cell_type": "code",
   "execution_count": null,
   "metadata": {},
   "outputs": [],
   "source": [
    "del B  # the array is large and no longer needed"
   ]
  },
  {
   "cell_type": "markdown",
   "metadata": {},
   "source": [
    "## Reconstructors"
   ]
  },
  {
   "cell_type": "code",
   "execution_count": null,
   "metadata": {},
   "outputs": [],
   "source": [
    "from kesi._verbose import _CrossKernelReconstructor as Reconstructor\n",
    "from kesi._engine import _LinearKernelSolver as KernelSolver\n",
    "\n",
    "kernel_solver = KernelSolver(KERNEL)\n",
    "reconstructor_cp = Reconstructor(kernel_solver,\n",
    "                                 CROSSKERNEL_CP)\n",
    "reconstructor_cl = Reconstructor(kernel_solver,\n",
    "                                 CROSSKERNEL_CL)"
   ]
  },
  {
   "cell_type": "markdown",
   "metadata": {},
   "source": [
    "# Visualisation"
   ]
  },
  {
   "cell_type": "code",
   "execution_count": null,
   "metadata": {},
   "outputs": [],
   "source": [
    "import matplotlib.pyplot as plt\n",
    "import cbf\n",
    "\n",
    "\n",
    "class CoordinatePlanesVisualisation(object):\n",
    "    def __init__(self,\n",
    "                 grid,\n",
    "                 plane_intersection,\n",
    "                 dpi=35,\n",
    "                 cmap=cbf.bwr,\n",
    "                 amp=None,\n",
    "                 length_factor=1,\n",
    "                 length_unit='$m$',\n",
    "                 unit_factor=1,\n",
    "                 unit=''):\n",
    "        self.grid = grid\n",
    "        self.plane_intersection = np.array(plane_intersection)\n",
    "        self.dpi = dpi\n",
    "        self.cmap = cmap\n",
    "        self.amp = amp\n",
    "        self.length_factor = length_factor\n",
    "        self.length_unit = length_unit\n",
    "        self.unit_factor = unit_factor\n",
    "        self.unit = unit\n",
    "    \n",
    "    def start_new_image(self, title, wx, wy, wz):\n",
    "        self.fig = plt.figure(figsize=((wx + wy) / self.dpi,\n",
    "                                       (wz + wy) / self.dpi))\n",
    "        if title is not None:\n",
    "            self.fig.suptitle(title)\n",
    "\n",
    "        gs = plt.GridSpec(2, 2,\n",
    "                          figure=self.fig,\n",
    "                          width_ratios=[wx, wy],\n",
    "                          height_ratios=[wz, wy])\n",
    "\n",
    "        self.ax_xz = self.fig.add_subplot(gs[0, 0])\n",
    "        self.ax_xz.set_aspect('equal')\n",
    "        self.ax_xz.set_ylabel(f'Z [{self.length_unit}]')\n",
    "        self.ax_xz.set_xlabel(f'X [{self.length_unit}]')\n",
    "\n",
    "        self.ax_yx = self.fig.add_subplot(gs[1, 1])\n",
    "        self.ax_yx.set_aspect('equal')\n",
    "        self.ax_yx.set_ylabel(f'X [{self.length_unit}]')\n",
    "        self.ax_yx.set_xlabel(f'Y [{self.length_unit}]')\n",
    "\n",
    "        self.ax_yz = self.fig.add_subplot(gs[0, 1],\n",
    "                                          sharey=self.ax_xz,\n",
    "                                          sharex=self.ax_yx)\n",
    "        self.ax_yz.set_aspect('equal')\n",
    "\n",
    "        self.cax = self.fig.add_subplot(gs[1, 0])\n",
    "        self.cax.set_visible(False)\n",
    "\n",
    "    def finish_image(self):\n",
    "        x, y, z = self.length_factor * self.plane_intersection\n",
    "\n",
    "        self.ax_xz.axvline(x, ls=':', color=cbf.BLACK)\n",
    "        self.ax_xz.axhline(z, ls=':', color=cbf.BLACK)\n",
    "\n",
    "        self.ax_yx.axvline(y, ls=':', color=cbf.BLACK)\n",
    "        self.ax_yx.axhline(x, ls=':', color=cbf.BLACK)\n",
    "\n",
    "        self.ax_yz.axvline(y, ls=':', color=cbf.BLACK)\n",
    "        self.ax_yz.axhline(z, ls=':', color=cbf.BLACK)\n",
    "        self.fig.colorbar(self.im, ax=self.cax,\n",
    "                          orientation='horizontal',\n",
    "                          label=self.unit)\n",
    "\n",
    "    def _plot_planes(self, DATA_PLANES, amp):\n",
    "        DATA_ZY = DATA_PLANES[0].T * self.unit_factor\n",
    "        DATA_ZX = DATA_PLANES[1].T * self.unit_factor\n",
    "        DATA_XY = DATA_PLANES[2] * self.unit_factor\n",
    "        \n",
    "        def _extent(first, second):\n",
    "            _first = self.grid[first] * self.length_factor\n",
    "            _second = self.grid[second] * self.length_factor\n",
    "            return (_first.min(), _first.max(),\n",
    "                    _second.min(), _second.max())\n",
    "\n",
    "        self.ax_xz.imshow(DATA_ZX,\n",
    "                          vmin=-amp * self.unit_factor,\n",
    "                          vmax=amp * self.unit_factor,\n",
    "                          cmap=self.cmap,\n",
    "                          origin='lower',\n",
    "                          extent=_extent(0, 2))\n",
    "        self.ax_yx.imshow(DATA_XY,\n",
    "                          vmin=-amp * self.unit_factor,\n",
    "                          vmax=amp * self.unit_factor,\n",
    "                          cmap=self.cmap,\n",
    "                          origin='lower',\n",
    "                          extent=_extent(1, 0))\n",
    "        self.im = self.ax_yz.imshow(DATA_ZY,\n",
    "                                    vmin=-amp * self.unit_factor,\n",
    "                                    vmax=amp * self.unit_factor,\n",
    "                                    cmap=self.cmap,\n",
    "                                    origin='lower',\n",
    "                                    extent=_extent(1, 2))\n",
    "\n",
    "    def plot_planes(self,\n",
    "                    DATA_PLANES,\n",
    "                    title=None,\n",
    "                    amp=None):\n",
    "\n",
    "        DATA_YZ, DATA_XZ, DATA_XY = DATA_PLANES\n",
    "        wx, wy = DATA_XY.shape\n",
    "        wz = DATA_YZ.shape[1]\n",
    "        assert DATA_YZ.shape[0] == wy\n",
    "        assert DATA_XZ.shape[0] == wx\n",
    "        assert DATA_XZ.shape[1] == wz\n",
    "        \n",
    "        self.start_new_image(title, wx, wy, wz)\n",
    "        self._plot_planes(DATA_PLANES,\n",
    "                          amp if amp is not None else max(abs(_A).max() for _A in DATA_PLANES))\n",
    "        self.finish_image()"
   ]
  },
  {
   "cell_type": "code",
   "execution_count": null,
   "metadata": {},
   "outputs": [],
   "source": [
    "csd_plotter = CoordinatePlanesVisualisation([_x.flatten() for _x in convolver.CSD_GRID],\n",
    "                                            intersection,\n",
    "                                            unit_factor=1e-12,\n",
    "                                            unit='$\\\\frac{\\\\mu{}A}{mm^3}$',\n",
    "                                            length_factor=1e6,\n",
    "                                            length_unit='$\\\\mu{}m$')"
   ]
  },
  {
   "cell_type": "markdown",
   "metadata": {},
   "source": [
    "# Reconstruction"
   ]
  },
  {
   "cell_type": "markdown",
   "metadata": {},
   "source": [
    "## Reconstruction in coordinate planes\n",
    "\n",
    "Potential values (given in $\\mu{}V$) are stored in a vector `POTENTIALS`.\n",
    "Each of its $N$ elements were calculated from ground truth CSD\n",
    "in the `tutorial_slice.ipynb` notebook (`GT_V` therein)."
   ]
  },
  {
   "cell_type": "code",
   "execution_count": null,
   "metadata": {},
   "outputs": [],
   "source": [
    "POTENTIALS = [-126548.99283768,\n",
    "              -119140.53772061,\n",
    "              -73225.23872045,\n",
    "              ]"
   ]
  },
  {
   "cell_type": "markdown",
   "metadata": {},
   "source": [
    "As potential input was a vector, the reconstructor returns\n",
    "a vector of CSD values.  Each of its $\\tilde{\\underline{N}}$\n",
    "elements corresponds to a selected node of the _CSD_ grid."
   ]
  },
  {
   "cell_type": "code",
   "execution_count": null,
   "metadata": {},
   "outputs": [],
   "source": [
    "%%time\n",
    "CSD_CP = reconstructor_cp(POTENTIALS)"
   ]
  },
  {
   "cell_type": "markdown",
   "metadata": {},
   "source": [
    "It should be same as the kCSD reconstruction in\n",
    "`tutorial_slice[_basics_explained].ipynb` notebooks."
   ]
  },
  {
   "cell_type": "code",
   "execution_count": null,
   "metadata": {
    "scrolled": false
   },
   "outputs": [],
   "source": [
    "csd_plotter.plot_planes(to_planes(CSD_CP),\n",
    "                        title='kCSD reconstruction from slice tutorial notebook')"
   ]
  },
  {
   "cell_type": "markdown",
   "metadata": {},
   "source": [
    "## Reconstruction of timeseries"
   ]
  },
  {
   "cell_type": "markdown",
   "metadata": {},
   "source": [
    "Potential values (given in $\\mu{}V$) are stored in a $N \\times T$ matrix\n",
    "`TIMESERIES`.\n",
    "Each of its $N$ rows corresponds to an electrode, while each of its $T$\n",
    "columns corresponds to a timepoint.  Potentials are sum of time-modulated\n",
    "components.  Note, that the first component is negative of `POTENTIALS`."
   ]
  },
  {
   "cell_type": "code",
   "execution_count": null,
   "metadata": {},
   "outputs": [],
   "source": [
    "COMPONENTS = [[126548.99283768, -193132.43450924,  102791.12206456],\n",
    "              [119140.53772061,  -23621.73043093, -154596.99314908],\n",
    "              [ 73225.23872045,  105789.71746181,   79168.62902192]]\n",
    "\n",
    "T = 2048\n",
    "T_START = 0\n",
    "T_END = 2\n",
    "\n",
    "TIME = np.linspace(T_START, T_END, T)\n",
    "\n",
    "class spikes(object):\n",
    "    time_constant = 0.05\n",
    "\n",
    "    def __init__(self, *times):\n",
    "        self.times = times\n",
    "        \n",
    "    def __call__(self, TIME):\n",
    "        return sum(self.alpha((TIME - t) / self.time_constant)\n",
    "                   for t in self.times)\n",
    "\n",
    "    def alpha(self, TIME):\n",
    "        return np.where(TIME < 0, 0, TIME * np.exp(-TIME))\n",
    "    \n",
    "\n",
    "POTENTIAL_TIMESERIES = np.matmul(COMPONENTS,\n",
    "                                 [spikes(1.15, 1.25, 1.35, 1.45)(TIME),\n",
    "                                  0.10 * np.sin(TIME * 3 * np.pi),\n",
    "                                  0.05 * np.cos(TIME * 6 * np.pi)])"
   ]
  },
  {
   "cell_type": "markdown",
   "metadata": {},
   "source": [
    "The reconstructor returns a $\\tilde{\\underline{N}} \\times T$ matrix of CSD values.\n",
    "Each of its $T$ columns corresponds to a timepoint\n",
    "while each of its $\\tilde{\\underline{N}}$ rows corresponds to a selected node\n",
    "of the _CSD_ grid."
   ]
  },
  {
   "cell_type": "code",
   "execution_count": null,
   "metadata": {},
   "outputs": [],
   "source": [
    "%%time\n",
    "CSD_TIMESERIES = reconstructor_cl(POTENTIAL_TIMESERIES)"
   ]
  },
  {
   "cell_type": "code",
   "execution_count": null,
   "metadata": {
    "scrolled": false
   },
   "outputs": [],
   "source": [
    "dpi = 150 # 35\n",
    "cmap = cbf.bwr\n",
    "unit_factor = 1e-12\n",
    "unit = '$\\\\frac{\\\\mu{}A}{mm^3}$'\n",
    "length_factor = 1e6\n",
    "length_unit = '$\\\\mu{}m$'\n",
    "time_factor = 1000\n",
    "time_unit = '$ms$'\n",
    "\n",
    "_Z = convolver.CSD_GRID[2].flatten() * length_factor\n",
    "\n",
    "_amp = abs(CSD_TIMESERIES).max()\n",
    "\n",
    "plt.figure(figsize=(tuple(_x / dpi for _x in CSD_TIMESERIES.shape[::-1])))\n",
    "plt.ylabel(f\"Z [{length_unit}]\")\n",
    "plt.xlabel(f\"time [{time_unit}]\")\n",
    "\n",
    "plt.axhline(intersection[2] * length_factor,\n",
    "            ls=':',\n",
    "            color=cbf.BLACK)\n",
    "plt.imshow(CSD_TIMESERIES * unit_factor,\n",
    "           vmin=-_amp * unit_factor,\n",
    "           vmax=_amp * unit_factor,\n",
    "           cmap=cmap,\n",
    "           origin='lower',\n",
    "           extent=(T_START * time_factor, T_END * time_factor, _Z.min(), _Z.max()))\n",
    "\n",
    "plt.colorbar(label=unit)"
   ]
  },
  {
   "cell_type": "markdown",
   "metadata": {},
   "source": [
    "## Regularization"
   ]
  },
  {
   "cell_type": "code",
   "execution_count": null,
   "metadata": {},
   "outputs": [],
   "source": [
    "EIGENVALUES = np.linalg.eigvalsh(KERNEL)[::-1]\n",
    "\n",
    "plt.plot(EIGENVALUES,\n",
    "         marker='o')\n",
    "\n",
    "plt.yscale('log')"
   ]
  },
  {
   "cell_type": "code",
   "execution_count": null,
   "metadata": {},
   "outputs": [],
   "source": [
    "REGULARIZATION_PARAMETERS = np.logspace(10, 20, 10 * 10 + 1)"
   ]
  },
  {
   "cell_type": "markdown",
   "metadata": {},
   "source": [
    "### One-leave-out cross-validation\n",
    "\n",
    "We can choose one regularization parameter for all timepoints."
   ]
  },
  {
   "cell_type": "code",
   "execution_count": null,
   "metadata": {},
   "outputs": [],
   "source": [
    "from kesi.common import cv"
   ]
  },
  {
   "cell_type": "code",
   "execution_count": null,
   "metadata": {},
   "outputs": [],
   "source": [
    "%%time\n",
    "CV_ERRORS = cv(kernel_solver, POTENTIAL_TIMESERIES, REGULARIZATION_PARAMETERS)"
   ]
  },
  {
   "cell_type": "markdown",
   "metadata": {},
   "source": [
    "Note that, as cross-validation is cross-kernel independent, we use the `kernel_solver` object instead of a reconstructor."
   ]
  },
  {
   "cell_type": "code",
   "execution_count": null,
   "metadata": {},
   "outputs": [],
   "source": [
    "regularization_parameter = REGULARIZATION_PARAMETERS[np.argmin(CV_ERRORS)]"
   ]
  },
  {
   "cell_type": "code",
   "execution_count": null,
   "metadata": {},
   "outputs": [],
   "source": [
    "plt.plot(REGULARIZATION_PARAMETERS,\n",
    "         CV_ERRORS,\n",
    "         color=cbf.BLUE)\n",
    "plt.axvline(regularization_parameter,\n",
    "            ls=(0, (1, 2)),\n",
    "            color=cbf.BLUE)\n",
    "plt.xscale('log')\n",
    "plt.xlabel('regularization parameter')\n",
    "plt.yscale('log')\n",
    "plt.ylabel('L2 norm of cross-validation error')"
   ]
  },
  {
   "cell_type": "markdown",
   "metadata": {},
   "source": [
    "As the smallest value of `REGULARIZATION_PARAMETERS` has been chosen (which is 4 orders of magnitude smaller than any of the kernel eigenvalues), it seems that cross-validation is against regularization."
   ]
  },
  {
   "cell_type": "markdown",
   "metadata": {},
   "source": [
    "We can also try to calculate a separate regularization parameter for each timepoint."
   ]
  },
  {
   "cell_type": "code",
   "execution_count": null,
   "metadata": {},
   "outputs": [],
   "source": [
    "%%time\n",
    "_CV_ERRORS = np.transpose([cv(kernel_solver, _V, REGULARIZATION_PARAMETERS)\n",
    "                           for _V in POTENTIAL_TIMESERIES.T])"
   ]
  },
  {
   "cell_type": "code",
   "execution_count": null,
   "metadata": {},
   "outputs": [],
   "source": [
    "_REGULARIZATION_PARAMETERS = REGULARIZATION_PARAMETERS[_CV_ERRORS.argmin(axis=0)]"
   ]
  },
  {
   "cell_type": "code",
   "execution_count": null,
   "metadata": {},
   "outputs": [],
   "source": [
    "from matplotlib import cm\n",
    "from matplotlib.colors import LogNorm\n",
    "\n",
    "# _vmin = 10 ** np.floor(np.log10(_CV_ERRORS.min()))\n",
    "# _vmax = 10 ** np.ceil(np.log10(_CV_ERRORS.max()))\n",
    "_vmin = _CV_ERRORS.min()\n",
    "_vmax = _CV_ERRORS.max()\n",
    "\n",
    "levels = np.logspace(np.log10(_vmin),\n",
    "                     np.log10(_vmax),\n",
    "                     256)\n",
    "\n",
    "_T, _R = np.meshgrid(TIME * time_factor,\n",
    "                     REGULARIZATION_PARAMETERS)\n",
    "\n",
    "plt.figure(figsize=(12, 5))\n",
    "\n",
    "plt.contourf(_T, _R, _CV_ERRORS,\n",
    "             levels,\n",
    "             norm=LogNorm(vmin=_vmin, vmax=_vmax),\n",
    "             cmap=cm.copper)\n",
    "plt.plot(TIME * time_factor, _REGULARIZATION_PARAMETERS,\n",
    "         ls=\"--\",\n",
    "         color=cbf.BLUE)\n",
    "plt.axhline(EIGENVALUES.min(),\n",
    "            ls=\":\",\n",
    "            color=cbf.GREEN)\n",
    "plt.axhline(EIGENVALUES.max(),\n",
    "            ls=\":\",\n",
    "            color=cbf.GREEN)\n",
    "plt.xlim(T_START * time_factor, T_END * time_factor)\n",
    "plt.ylim(1 / 1.2 * REGULARIZATION_PARAMETERS[0], 1.2 * REGULARIZATION_PARAMETERS[-1])\n",
    "plt.yscale(\"log\")\n",
    "plt.xlabel(f\"time [{time_unit}]\")\n",
    "plt.ylabel(\"regularization parameter\")\n",
    "\n",
    "plt.colorbar(label=\"CV error\")"
   ]
  }
 ],
 "metadata": {
  "kernelspec": {
   "display_name": "Python [conda env:kesi3.7]",
   "language": "python",
   "name": "conda-env-kesi3.7-py"
  },
  "language_info": {
   "codemirror_mode": {
    "name": "ipython",
    "version": 3
   },
   "file_extension": ".py",
   "mimetype": "text/x-python",
   "name": "python",
   "nbconvert_exporter": "python",
   "pygments_lexer": "ipython3",
   "version": "3.7.12"
  }
 },
 "nbformat": 4,
 "nbformat_minor": 4
}
