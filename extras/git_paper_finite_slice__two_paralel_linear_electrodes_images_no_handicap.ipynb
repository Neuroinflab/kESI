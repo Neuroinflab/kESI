{
 "cells": [
  {
   "cell_type": "code",
   "execution_count": null,
   "metadata": {},
   "outputs": [],
   "source": [
    "import datetime\n",
    "import configparser\n",
    "import os\n",
    "\n",
    "import numpy as np\n",
    "import pandas as pd\n",
    "\n",
    "import kesi\n",
    "import kesi._verbose as verbose\n",
    "import _common_new as common\n",
    "import _fast_reciprocal_reconstructor as frr"
   ]
  },
  {
   "cell_type": "code",
   "execution_count": null,
   "metadata": {},
   "outputs": [],
   "source": [
    "%matplotlib inline\n",
    "import matplotlib.pyplot as plt\n",
    "\n",
    "import cbf"
   ]
  },
  {
   "cell_type": "code",
   "execution_count": null,
   "metadata": {},
   "outputs": [],
   "source": [
    "MODEL_NAME = 'finite_slice'\n",
    "MESH_NAME = 'composite'\n",
    "CONFIG_NAME = 'grid_3d'\n",
    "DEGREE = 3\n",
    "K = 9\n",
    "\n",
    "FILENAME_PATTERN = f'FEM/solutions/paper/{MODEL_NAME}/{MESH_NAME}_{DEGREE}/{CONFIG_NAME}_sampled/{K}/{{name}}.npz'"
   ]
  },
  {
   "cell_type": "code",
   "execution_count": null,
   "metadata": {},
   "outputs": [],
   "source": [
    "BRAIN_CONDUCTIVITY = 0.3  # S / m\n",
    "SALINE_CONDUCTIVITY = 1.5  # S / m\n",
    "H = 3e-4  # m\n",
    "\n",
    "# SD_GT = H / 16\n",
    "# RESOLUTION = 32"
   ]
  },
  {
   "cell_type": "markdown",
   "metadata": {},
   "source": [
    "# FEM"
   ]
  },
  {
   "cell_type": "code",
   "execution_count": null,
   "metadata": {},
   "outputs": [],
   "source": [
    "import dolfin\n",
    "import FEM.fem_common as fc\n",
    "import scipy.interpolate as si"
   ]
  },
  {
   "cell_type": "code",
   "execution_count": null,
   "metadata": {},
   "outputs": [],
   "source": [
    "class ForwardModel(object):\n",
    "    # XXX: duplicated code with FEM classes\n",
    "    def __init__(self, config):\n",
    "        self.fm = fc.FunctionManagerINI(config)\n",
    "        \n",
    "        self.V = self.fm.function_space\n",
    "        mesh = self.fm.mesh\n",
    "\n",
    "        n = self.V.dim()\n",
    "        d = mesh.geometry().dim()\n",
    "\n",
    "        self.dof_coords = self.V.tabulate_dof_coordinates()\n",
    "        self.dof_coords.resize((n, d))\n",
    "        \n",
    "        self.csd_f = self.fm.function()\n",
    "        \n",
    "        \n",
    "        mesh_filename = self.fm.getpath('fem', 'mesh')[:-5]\n",
    "        with dolfin.XDMFFile(mesh_filename + '_subdomains.xdmf') as fh:\n",
    "            mvc = dolfin.MeshValueCollection(\"size_t\", mesh, 3)\n",
    "            fh.read(mvc, \"subdomains\")\n",
    "            self.subdomains = dolfin.cpp.mesh.MeshFunctionSizet(mesh, mvc)\n",
    "            self.dx = dolfin.Measure(\"dx\")(subdomain_data=self.subdomains)\n",
    "            \n",
    "            \n",
    "        self.config = configparser.ConfigParser()\n",
    "        self.config.read(self.fm.getpath('fem', 'config'))\n",
    "\n",
    "    @property\n",
    "    def CONDUCTIVITY(self):\n",
    "        for section in self.config.sections():\n",
    "            if self._is_conductive_volume(section):\n",
    "                yield (self.config.getint(section, 'volume'),\n",
    "                       self.config.getfloat(section, 'conductivity'))\n",
    "\n",
    "    def _is_conductive_volume(self, section):\n",
    "        return (self.config.has_option(section, 'volume')\n",
    "                and self.config.has_option(section, 'conductivity')) \n",
    "        \n",
    "    def __call__(self, csd_interpolator):\n",
    "        self.csd_f.vector()[:] = csd_interpolator(self.dof_coords)\n",
    "        \n",
    "        dirichlet_bc_gt = dolfin.DirichletBC(self.V,\n",
    "                                     dolfin.Constant(0),\n",
    "                                     (lambda x, on_boundary:\n",
    "                                      on_boundary and x[2] > 0))\n",
    "        test = self.fm.test_function()\n",
    "        trial = self.fm.trial_function()\n",
    "        potential = self.fm.function()\n",
    "        \n",
    "        \n",
    "        dx = self.dx\n",
    "        a = sum(dolfin.Constant(c)\n",
    "                * dolfin.inner(dolfin.grad(trial),\n",
    "                               dolfin.grad(test))\n",
    "                * dx(i)\n",
    "                for i, c\n",
    "                in self.CONDUCTIVITY)\n",
    "        L = self.csd_f * test * dx\n",
    "        \n",
    "        b = dolfin.assemble(L)\n",
    "        A = dolfin.assemble(a)\n",
    "        dirichlet_bc_gt.apply(A, b)\n",
    "        \n",
    "        solver = dolfin.KrylovSolver(\"cg\", \"ilu\")\n",
    "        solver.parameters[\"maximum_iterations\"] = 10000\n",
    "        solver.parameters[\"absolute_tolerance\"] = 1E-8\n",
    "        # solver.parameters[\"monitor_convergence\"] = True  # Goes to Jupyter server output stream\n",
    "        solver.solve(A, potential.vector(), b)\n",
    "        \n",
    "        return potential"
   ]
  },
  {
   "cell_type": "code",
   "execution_count": null,
   "metadata": {},
   "outputs": [],
   "source": [
    "FEM_CONFIG_GT = 'FEM/fem_configs/paper/finite_slice/fine_3/fem.ini'\n",
    "# FEM_CONFIG_GT = 'FEM/fem_configs/paper/finite_slice/composite_3/grid_3d.ini'"
   ]
  },
  {
   "cell_type": "code",
   "execution_count": null,
   "metadata": {},
   "outputs": [],
   "source": [
    "%time fem_gt = ForwardModel(FEM_CONFIG_GT)"
   ]
  },
  {
   "cell_type": "markdown",
   "metadata": {},
   "source": [
    "# kernel construction"
   ]
  },
  {
   "cell_type": "code",
   "execution_count": null,
   "metadata": {},
   "outputs": [],
   "source": [
    "electrode_grid_names = [\n",
    "#                         'minus24',\n",
    "                        'minus12',\n",
    "#                         '0',\n",
    "                        '12',\n",
    "#                         '24',\n",
    "                        ]\n",
    "electrode_names = [f'{x}_0_{i}' for i in [\n",
    "                                          6,\n",
    "                                          12,\n",
    "                                          18,\n",
    "                                          24,\n",
    "                                          30,\n",
    "                                          36,\n",
    "                                          42,\n",
    "                                          48,\n",
    "                                          54,\n",
    "                                          60,\n",
    "                                          ]\n",
    "                   for x in electrode_grid_names]"
   ]
  },
  {
   "cell_type": "code",
   "execution_count": null,
   "metadata": {},
   "outputs": [],
   "source": [
    "class Electrode_kESI(object):\n",
    "    def __init__(self, filename, decimals_tolerance=None, dx=0):\n",
    "        self.filename = filename\n",
    "        self.decimals_tolerance = decimals_tolerance\n",
    "        self.dx = dx\n",
    "        with np.load(filename) as fh:\n",
    "            self._X = self.round(fh['X'])\n",
    "            self._Y = self.round(fh['Y'])\n",
    "            self._Z = self.round(fh['Z'])\n",
    "            self.x, self.y, self.z = fh['LOCATION']\n",
    "#             try:\n",
    "            self.base_conductivity = fh['BASE_CONDUCTIVITY']\n",
    "#             except KeyError:\n",
    "#                 pass\n",
    "    \n",
    "    def round(self, A):\n",
    "        if self.decimals_tolerance is None:\n",
    "            return A\n",
    "        return np.round(A, decimals=self.decimals_tolerance)\n",
    "\n",
    "    def correction_potential(self, X, Y, Z):\n",
    "        _X, IDX_X, _ = np.intersect1d(self._X, self.round(X[:, 0, 0]), return_indices=True)\n",
    "        assert len(_X) == np.shape(X)[0]\n",
    "        _Y, IDX_Y, _ = np.intersect1d(self._Y, self.round(Y[0, :, 0]), return_indices=True)\n",
    "        assert len(_Y) == np.shape(Y)[1]\n",
    "        _Z, IDX_Z, _ = np.intersect1d(self._Z, self.round(Z[0, 0, :]), return_indices=True)\n",
    "        assert len(_Z) == np.shape(Z)[2]\n",
    "\n",
    "        with np.load(self.filename) as fh:\n",
    "            return fh['CORRECTION_POTENTIAL'][np.ix_(IDX_X, IDX_Y, IDX_Z)]\n",
    "\n",
    "    def base_potential(self, X, Y, Z):\n",
    "        return (0.25 / (np.pi * self.base_conductivity)\n",
    "                / (self.dx * 0.15\n",
    "                   + np.sqrt(np.square(X - self.x)\n",
    "                             + np.square(Y - self.y)\n",
    "                             + np.square(Z - self.z))))\n",
    "\n",
    "        \n",
    "class Electrode_kCSD(object):\n",
    "    def __init__(self, filename):\n",
    "        with np.load(filename) as fh:\n",
    "            self.x, self.y, self.z = fh['LOCATION']"
   ]
  },
  {
   "cell_type": "code",
   "execution_count": null,
   "metadata": {},
   "outputs": [],
   "source": [
    "ELECTRODES = []\n",
    "for name in electrode_names:\n",
    "    electrode = Electrode_kESI(FILENAME_PATTERN.format(name=name))\n",
    "    ELECTRODES.append({'NAME': name,\n",
    "                       'X': electrode.x,\n",
    "                       'Y': electrode.y,\n",
    "                       'Z': electrode.z})\n",
    "ELECTRODES = pd.DataFrame(ELECTRODES)"
   ]
  },
  {
   "cell_type": "code",
   "execution_count": null,
   "metadata": {},
   "outputs": [],
   "source": [
    "plt.scatter(ELECTRODES.X, ELECTRODES.Z)\n",
    "plt.xlim(-H / 2, H / 2)\n",
    "plt.ylim(0, H)"
   ]
  },
  {
   "cell_type": "code",
   "execution_count": null,
   "metadata": {
    "scrolled": true
   },
   "outputs": [],
   "source": [
    "set(np.diff(sorted(set(ELECTRODES.Z * 1000_000))))"
   ]
  },
  {
   "cell_type": "code",
   "execution_count": null,
   "metadata": {},
   "outputs": [],
   "source": [
    "XX = electrode._X\n",
    "YY = electrode._Y\n",
    "ZZ = electrode._Z"
   ]
  },
  {
   "cell_type": "code",
   "execution_count": null,
   "metadata": {},
   "outputs": [],
   "source": [
    "assert electrode.base_conductivity == BRAIN_CONDUCTIVITY"
   ]
  },
  {
   "cell_type": "code",
   "execution_count": null,
   "metadata": {},
   "outputs": [],
   "source": [
    "ROMBERG_K = 6"
   ]
  },
  {
   "cell_type": "code",
   "execution_count": null,
   "metadata": {},
   "outputs": [],
   "source": [
    "dx = (XX[-1] - XX[0]) / (len(XX) - 1)\n",
    "SRC_R_MAX = (2**(ROMBERG_K - 1)) * dx\n",
    "ROMBERG_N = 2**ROMBERG_K + 1\n",
    "print(SRC_R_MAX)"
   ]
  },
  {
   "cell_type": "code",
   "execution_count": null,
   "metadata": {},
   "outputs": [],
   "source": []
  },
  {
   "cell_type": "code",
   "execution_count": null,
   "metadata": {},
   "outputs": [],
   "source": [
    "electrodes_kesi = [Electrode_kESI(FILENAME_PATTERN.format(name=name),\n",
    "                                  decimals_tolerance=16,\n",
    "                                  dx=dx)\n",
    "                   for name in electrode_names]\n",
    "electrodes_kcsd = [Electrode_kCSD(FILENAME_PATTERN.format(name=name)) for name in electrode_names]"
   ]
  },
  {
   "cell_type": "code",
   "execution_count": null,
   "metadata": {},
   "outputs": [],
   "source": [
    "H_Y = H/4\n",
    "X = XX\n",
    "Y = YY[abs(YY) <= H_Y + SRC_R_MAX + dx]\n",
    "Z = ZZ"
   ]
  },
  {
   "cell_type": "code",
   "execution_count": null,
   "metadata": {},
   "outputs": [],
   "source": [
    "convolver = frr.ckESI_convolver([X,\n",
    "                                 Y,\n",
    "                                 Z],\n",
    "                                [X,\n",
    "                                 Y,\n",
    "                                 Z])"
   ]
  },
  {
   "cell_type": "code",
   "execution_count": null,
   "metadata": {},
   "outputs": [],
   "source": []
  },
  {
   "cell_type": "code",
   "execution_count": null,
   "metadata": {},
   "outputs": [],
   "source": [
    "sd = SRC_R_MAX / 3\n",
    "def source(x, y, z):\n",
    "    return common.SphericalSplineSourceKCSD(x, y, z,\n",
    "#                                             [SRC_R_MAX],\n",
    "#                                             [[1]],\n",
    "                                             [sd, 3 * sd],\n",
    "                                             [[1],\n",
    "                                              [0,\n",
    "                                               2.25 / sd,\n",
    "                                               -1.5 / sd ** 2,\n",
    "                                               0.25 / sd ** 3]],\n",
    "                                             BRAIN_CONDUCTIVITY)\n",
    "\n",
    "model_src = source(0, 0, 0)"
   ]
  },
  {
   "cell_type": "code",
   "execution_count": null,
   "metadata": {},
   "outputs": [],
   "source": [
    "SRC_IDX = ((abs(convolver.SRC_X) < abs(convolver.SRC_X.max()) - SRC_R_MAX)\n",
    "                 & (abs(convolver.SRC_Y) <= H_Y)\n",
    "                 & ((convolver.SRC_Z > SRC_R_MAX)\n",
    "                    & (convolver.SRC_Z < H - SRC_R_MAX)))"
   ]
  },
  {
   "cell_type": "code",
   "execution_count": null,
   "metadata": {},
   "outputs": [],
   "source": [
    "SRC_IDX.sum(), SRC_IDX.shape"
   ]
  },
  {
   "cell_type": "code",
   "execution_count": null,
   "metadata": {},
   "outputs": [],
   "source": [
    "CSD_IDX = np.zeros(convolver.shape('CSD'),\n",
    "                   dtype=bool)"
   ]
  },
  {
   "cell_type": "markdown",
   "metadata": {},
   "source": [
    "# Kernels"
   ]
  },
  {
   "cell_type": "markdown",
   "metadata": {},
   "source": [
    "Warning: no subtraction of kCSD out of the slice possible"
   ]
  },
  {
   "cell_type": "code",
   "execution_count": null,
   "metadata": {},
   "outputs": [],
   "source": [
    "%%time\n",
    "kcsd_kernels = frr.ckESI_kernel_constructor(model_src,\n",
    "                                            convolver,\n",
    "                                            SRC_IDX,\n",
    "                                            CSD_IDX,\n",
    "                                            electrodes_kcsd,\n",
    "                                            weights=ROMBERG_N)"
   ]
  },
  {
   "cell_type": "code",
   "execution_count": null,
   "metadata": {
    "scrolled": true
   },
   "outputs": [],
   "source": [
    "%%time\n",
    "kesi_kernels = frr.ckESI_kernel_constructor(model_src,\n",
    "                                            convolver,\n",
    "                                            SRC_IDX,\n",
    "                                            CSD_IDX,\n",
    "                                            electrodes_kesi,\n",
    "                                            weights=ROMBERG_N)"
   ]
  },
  {
   "cell_type": "markdown",
   "metadata": {},
   "source": [
    "# kernel analysis"
   ]
  },
  {
   "cell_type": "code",
   "execution_count": null,
   "metadata": {},
   "outputs": [],
   "source": [
    "n = len(kesi_kernels._pre_kernel)\n",
    "FWD = kesi_kernels._pre_kernel * n\n",
    "PHI = kcsd_kernels._pre_kernel * n\n",
    "KERNEL = kcsd_kernels.kernel * n\n",
    "\n",
    "EIGENVALUES, EIGENVECTORS = np.linalg.eigh(KERNEL)\n",
    "EIGENVALUES, EIGENVECTORS = EIGENVALUES[::-1], EIGENVECTORS[:, ::-1]\n",
    "LAMBDA = np.sqrt(EIGENVALUES)\n",
    "EIGENSOURCES = np.matmul(PHI,\n",
    "                         np.matmul(EIGENVECTORS,\n",
    "                                   np.diag(1. / LAMBDA)))"
   ]
  },
  {
   "cell_type": "code",
   "execution_count": null,
   "metadata": {},
   "outputs": [],
   "source": [
    "KERNEL_KESI = kesi_kernels.kernel * n\n",
    "EIGENVALUES_KESI, EIGENVECTORS_KESI = np.linalg.eigh(KERNEL_KESI)\n",
    "EIGENVALUES_KESI, EIGENVECTORS_KESI = EIGENVALUES_KESI[::-1], EIGENVECTORS_KESI[:, ::-1]\n",
    "LAMBDA_KESI = np.sqrt(EIGENVALUES_KESI)\n",
    "EIGENSOURCES_KESI = np.matmul(FWD,\n",
    "                              np.matmul(EIGENVECTORS_KESI,\n",
    "                                        np.diag(1. / LAMBDA_KESI)))"
   ]
  },
  {
   "cell_type": "code",
   "execution_count": null,
   "metadata": {},
   "outputs": [],
   "source": [
    "KCSD_TO_KESI_ES = np.matmul(EIGENSOURCES_KESI.T, EIGENSOURCES)"
   ]
  },
  {
   "cell_type": "code",
   "execution_count": null,
   "metadata": {},
   "outputs": [],
   "source": [
    "assert (KCSD_TO_KESI_ES.max(axis=0) > 0).all()"
   ]
  },
  {
   "cell_type": "code",
   "execution_count": null,
   "metadata": {},
   "outputs": [],
   "source": [
    "for i, KESI_PROJECTION in enumerate(KCSD_TO_KESI_ES.T):\n",
    "    _idx = np.argmax(abs(KESI_PROJECTION))\n",
    "    if KESI_PROJECTION[_idx] > 0:\n",
    "        EIGENSOURCES[:, i] += EIGENSOURCES_KESI[:, _idx]\n",
    "    else:\n",
    "        EIGENSOURCES[:, i] -= EIGENSOURCES_KESI[:, _idx]"
   ]
  },
  {
   "cell_type": "code",
   "execution_count": null,
   "metadata": {},
   "outputs": [],
   "source": [
    "del EIGENSOURCES_KESI"
   ]
  },
  {
   "cell_type": "markdown",
   "metadata": {},
   "source": [
    "## crosskernels"
   ]
  },
  {
   "cell_type": "code",
   "execution_count": null,
   "metadata": {},
   "outputs": [],
   "source": [
    "%%time\n",
    "_SRC = np.zeros(convolver.shape('SRC'))\n",
    "CROSSKERNEL = np.empty(convolver.shape('CSD') + (len(KERNEL),))\n",
    "\n",
    "for i, _SRC[SRC_IDX] in enumerate(PHI.T):\n",
    "    print(i)\n",
    "    CROSSKERNEL[:, :, :, i] = convolver.base_weights_to_csd(_SRC, model_src.csd, (ROMBERG_N,) * 3)\n",
    "    \n",
    "del _SRC"
   ]
  },
  {
   "cell_type": "code",
   "execution_count": null,
   "metadata": {},
   "outputs": [],
   "source": [
    "%%time\n",
    "_SRC = np.zeros(convolver.shape('SRC'))\n",
    "CROSSKERNEL_KESI = np.empty(convolver.shape('CSD') + (len(KERNEL_KESI),))\n",
    "\n",
    "for i, _SRC[SRC_IDX] in enumerate(FWD.T):\n",
    "    print(i)\n",
    "    CROSSKERNEL_KESI[:, :, :, i] = convolver.base_weights_to_csd(_SRC, model_src.csd, (ROMBERG_N,) * 3)\n",
    "    \n",
    "del _SRC"
   ]
  },
  {
   "cell_type": "code",
   "execution_count": null,
   "metadata": {},
   "outputs": [],
   "source": [
    "del PHI, FWD"
   ]
  },
  {
   "cell_type": "markdown",
   "metadata": {},
   "source": [
    "# IMAGES"
   ]
  },
  {
   "cell_type": "code",
   "execution_count": null,
   "metadata": {},
   "outputs": [],
   "source": [
    "%%time\n",
    "GT_CSD = []\n",
    "\n",
    "_SRC = np.zeros(convolver.shape('SRC'))\n",
    "for i, _SRC[SRC_IDX] in enumerate(EIGENSOURCES.T):\n",
    "    print(i)\n",
    "    GT_CSD.append(convolver.base_weights_to_csd(_SRC, model_src.csd, (ROMBERG_N,) * 3))\n",
    "    \n",
    "del _SRC"
   ]
  },
  {
   "cell_type": "code",
   "execution_count": null,
   "metadata": {},
   "outputs": [],
   "source": [
    "%%time\n",
    "IMAGE = []\n",
    "\n",
    "for i, _CSD in enumerate(GT_CSD):\n",
    "    print(i)\n",
    "    _csd = si.RegularGridInterpolator(\n",
    "                                  [getattr(convolver, f'CSD_{x}').flatten()\n",
    "                                   for x in 'XYZ'],\n",
    "                                  _CSD,\n",
    "                                  bounds_error=False,\n",
    "                                  fill_value=0)\n",
    "    _v = fem_gt(_csd)\n",
    "    IMAGE.append(np.array(list(map(_v, ELECTRODES.X, ELECTRODES.Y, ELECTRODES.Z))))\n"
   ]
  },
  {
   "cell_type": "code",
   "execution_count": null,
   "metadata": {},
   "outputs": [],
   "source": [
    "del _CSD, _csd, _v"
   ]
  },
  {
   "cell_type": "code",
   "execution_count": null,
   "metadata": {},
   "outputs": [],
   "source": [
    "for i, V in enumerate(IMAGE):\n",
    "    plt.figure()\n",
    "    plt.title(i)\n",
    "    plt.axhline(1, ls=':', color=cbf.BLACK)\n",
    "    plt.axvline(i, ls=':', color=cbf.BLACK)\n",
    "    plt.stem(np.matmul(V, EIGENVECTORS) / LAMBDA)\n",
    "    plt.plot(np.matmul(V, EIGENVECTORS_KESI) / LAMBDA)"
   ]
  },
  {
   "cell_type": "markdown",
   "metadata": {},
   "source": [
    "## Images error (reconstructed)"
   ]
  },
  {
   "cell_type": "code",
   "execution_count": null,
   "metadata": {
    "scrolled": true
   },
   "outputs": [],
   "source": [
    "%%time\n",
    "IMAGE_ERRORS = []\n",
    "for i, (_CSD_GT, V) in enumerate(zip(GT_CSD, IMAGE)):\n",
    "    print(i)\n",
    "    row = {'ES': i,\n",
    "           'GT_L1': abs(_CSD_GT).mean(),\n",
    "           'GT_L2': np.sqrt(np.square(_CSD_GT).mean()),\n",
    "           'GT_Linf': abs(_CSD_GT).max(),\n",
    "           }\n",
    "    IMAGE_ERRORS.append(row)\n",
    "    for method, _KERNEL, _CROSSKERNEL in [\n",
    "        ('kCSD', KERNEL, CROSSKERNEL),\n",
    "        ('kESI', KERNEL_KESI, CROSSKERNEL_KESI),\n",
    "        ]:\n",
    "        _DIFF = np.matmul(_CROSSKERNEL,\n",
    "                          np.linalg.solve(_KERNEL, V)) - _CSD_GT\n",
    "        row[f'ERR_{method}_L1'] = abs(_DIFF).mean()\n",
    "        row[f'ERR_{method}_L2'] = np.sqrt(np.square(_DIFF).mean())\n",
    "        row[f'ERR_{method}_Linf'] = abs(_DIFF).max()\n",
    "    print(row)\n",
    "    \n",
    "del _CSD_GT, _DIFF, _CROSSKERNEL, _KERNEL"
   ]
  },
  {
   "cell_type": "code",
   "execution_count": null,
   "metadata": {},
   "outputs": [],
   "source": [
    "IMAGE_ERRORS = pd.DataFrame(IMAGE_ERRORS)"
   ]
  },
  {
   "cell_type": "code",
   "execution_count": null,
   "metadata": {},
   "outputs": [],
   "source": [
    "IMAGE_ERRORS"
   ]
  },
  {
   "cell_type": "code",
   "execution_count": null,
   "metadata": {},
   "outputs": [],
   "source": [
    "for norm in ['L1', 'L2', 'Linf']:\n",
    "    plt.figure()\n",
    "    plt.title(norm)\n",
    "    for method, color, ls in [('kCSD', cbf.SKY_BLUE, '-'),\n",
    "                              ('kESI', cbf.VERMILION, ':'),\n",
    "                             ]:\n",
    "        plt.plot(IMAGE_ERRORS.ES,\n",
    "                 IMAGE_ERRORS[f'ERR_{method}_{norm}'] / IMAGE_ERRORS[f'GT_{norm}'],\n",
    "                 color=color,\n",
    "                 ls=ls,\n",
    "                 label=method)\n",
    "    plt.legend(loc='best')\n",
    "    plt.axhline(1, color=cbf.BLACK, ls=':')\n",
    "    plt.axhline(0.5, color=cbf.BLACK, ls=':')\n",
    "    plt.axhline(0.1, color=cbf.BLACK, ls=':')\n",
    "    plt.axhline(0.05, color=cbf.BLACK, ls=':')\n",
    "    plt.yscale('log')"
   ]
  },
  {
   "cell_type": "markdown",
   "metadata": {},
   "source": [
    "## Images error (reconstructed regularized)"
   ]
  },
  {
   "cell_type": "code",
   "execution_count": null,
   "metadata": {},
   "outputs": [],
   "source": [
    "plt.plot(EIGENVALUES)\n",
    "plt.plot(EIGENVALUES_KESI)\n",
    "plt.yscale('log')"
   ]
  },
  {
   "cell_type": "code",
   "execution_count": null,
   "metadata": {},
   "outputs": [],
   "source": [
    "REGULARIZATION_PARAMETERS = np.logspace(11, 17, 5 * 6 + 1)"
   ]
  },
  {
   "cell_type": "code",
   "execution_count": null,
   "metadata": {},
   "outputs": [],
   "source": [
    "es_reconstructors = {method: verbose.VerboseFFR._CrossKernelReconstructor(\n",
    "                                                     kesi._engine._LinearKernelSolver(\n",
    "                                                         _KERNEL),\n",
    "                                                     np.matmul(np.diag(_LAMBDA),\n",
    "                                                               _EIGENVECTORS.T))\n",
    "                     for method, _KERNEL, _EIGENVECTORS, _LAMBDA\n",
    "                     in [('kCSD', KERNEL, EIGENVECTORS, LAMBDA),\n",
    "                         ('kESI', KERNEL_KESI, EIGENVECTORS_KESI, LAMBDA_KESI),\n",
    "                         ]\n",
    "                     }"
   ]
  },
  {
   "cell_type": "code",
   "execution_count": null,
   "metadata": {
    "scrolled": true
   },
   "outputs": [],
   "source": [
    "%%time\n",
    "IMAGE_ERRORS_CV = []\n",
    "for i, (_CSD_GT, V) in enumerate(zip(GT_CSD, IMAGE)):\n",
    "    print(i)\n",
    "    row = {'ES': i,\n",
    "           'GT_L1': abs(_CSD_GT).mean(),\n",
    "           'GT_L2': np.sqrt(np.square(_CSD_GT).mean()),\n",
    "           'GT_Linf': abs(_CSD_GT).max(),\n",
    "           }\n",
    "    IMAGE_ERRORS_CV.append(row)\n",
    "\n",
    "    for method, _KERNEL, _CROSSKERNEL in [\n",
    "        ('kCSD', KERNEL, CROSSKERNEL),\n",
    "        ('kESI', KERNEL_KESI, CROSSKERNEL_KESI),\n",
    "        ]:\n",
    "        _ERRORS = common.cv(es_reconstructors[method],\n",
    "                            V,\n",
    "                            REGULARIZATION_PARAMETERS)\n",
    "        regularization_parameter = REGULARIZATION_PARAMETERS[np.argmin(_ERRORS)]\n",
    "\n",
    "        _DIFF = np.matmul(_CROSSKERNEL,\n",
    "                          np.linalg.solve(_KERNEL\n",
    "                                          + regularization_parameter * np.identity(len(_KERNEL)),\n",
    "                                          V)) - _CSD_GT\n",
    "        row[f'ERR_{method}_L1'] = abs(_DIFF).mean()\n",
    "        row[f'ERR_{method}_L2'] = np.sqrt(np.square(_DIFF).mean())\n",
    "        row[f'ERR_{method}_Linf'] = abs(_DIFF).max()\n",
    "    \n",
    "del _CSD_GT, _DIFF, _CROSSKERNEL, _KERNEL"
   ]
  },
  {
   "cell_type": "code",
   "execution_count": null,
   "metadata": {},
   "outputs": [],
   "source": [
    "IMAGE_ERRORS_CV = pd.DataFrame(IMAGE_ERRORS_CV)"
   ]
  },
  {
   "cell_type": "code",
   "execution_count": null,
   "metadata": {},
   "outputs": [],
   "source": [
    "IMAGE_ERRORS_CV"
   ]
  },
  {
   "cell_type": "code",
   "execution_count": null,
   "metadata": {},
   "outputs": [],
   "source": [
    "for norm in ['L1', 'L2', 'Linf']:\n",
    "    plt.figure()\n",
    "    plt.title(norm)\n",
    "    for method, color, ls in [('kCSD', cbf.SKY_BLUE, '-'),\n",
    "                              ('kESI', cbf.VERMILION, ':'),\n",
    "                             ]:\n",
    "        plt.plot(IMAGE_ERRORS_CV.ES,\n",
    "                 IMAGE_ERRORS_CV[f'ERR_{method}_{norm}'] / IMAGE_ERRORS_CV[f'GT_{norm}'],\n",
    "                 color=color,\n",
    "                 ls=ls,\n",
    "                 label=method)\n",
    "    plt.legend(loc='best')\n",
    "    plt.axhline(1, color=cbf.BLACK, ls=':')\n",
    "    plt.axhline(0.5, color=cbf.BLACK, ls=':')\n",
    "    plt.axhline(0.1, color=cbf.BLACK, ls=':')\n",
    "    plt.axhline(0.05, color=cbf.BLACK, ls=':')\n",
    "    plt.yscale('log')"
   ]
  },
  {
   "cell_type": "markdown",
   "metadata": {},
   "source": [
    "## compare approaches"
   ]
  },
  {
   "cell_type": "code",
   "execution_count": null,
   "metadata": {},
   "outputs": [],
   "source": [
    "for norm in ['L1', 'L2', 'Linf']:\n",
    "    assert abs(IMAGE_ERRORS[f'GT_{norm}'] - IMAGE_ERRORS_CV[f'GT_{norm}']).max() == 0"
   ]
  },
  {
   "cell_type": "code",
   "execution_count": null,
   "metadata": {},
   "outputs": [],
   "source": [
    "for norm in ['L1', 'L2', 'Linf']:\n",
    "    plt.figure()\n",
    "    plt.title(norm)\n",
    "    for method, color in [('kCSD', cbf.SKY_BLUE),\n",
    "                          ('kESI', cbf.VERMILION),\n",
    "                         ]:\n",
    "        plt.plot(IMAGE_ERRORS.ES,\n",
    "                 IMAGE_ERRORS[f'ERR_{method}_{norm}'] / IMAGE_ERRORS[f'GT_{norm}'],\n",
    "                 color=color,\n",
    "                 ls='-',\n",
    "                 label=method)\n",
    "        plt.plot(IMAGE_ERRORS_CV.ES,\n",
    "                 IMAGE_ERRORS_CV[f'ERR_{method}_{norm}'] / IMAGE_ERRORS_CV[f'GT_{norm}'],\n",
    "                 color=color,\n",
    "                 ls=':',\n",
    "                 label=f'{method} (CV)')\n",
    "\n",
    "    plt.legend(loc='best')\n",
    "    plt.axhline(1, color=cbf.BLACK, ls=':')\n",
    "    plt.axhline(0.5, color=cbf.BLACK, ls=':')\n",
    "    plt.axhline(0.1, color=cbf.BLACK, ls=':')\n",
    "    plt.axhline(0.05, color=cbf.BLACK, ls=':')\n",
    "    plt.yscale('log')"
   ]
  },
  {
   "cell_type": "code",
   "execution_count": null,
   "metadata": {},
   "outputs": [],
   "source": []
  },
  {
   "cell_type": "code",
   "execution_count": null,
   "metadata": {},
   "outputs": [],
   "source": []
  }
 ],
 "metadata": {
  "kernelspec": {
   "display_name": "Python [conda env:kesi36]",
   "language": "python",
   "name": "conda-env-kesi36-py"
  },
  "language_info": {
   "codemirror_mode": {
    "name": "ipython",
    "version": 3
   },
   "file_extension": ".py",
   "mimetype": "text/x-python",
   "name": "python",
   "nbconvert_exporter": "python",
   "pygments_lexer": "ipython3",
   "version": "3.6.13"
  }
 },
 "nbformat": 4,
 "nbformat_minor": 4
}
