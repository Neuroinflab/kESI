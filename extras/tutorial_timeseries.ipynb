{
 "cells": [
  {
   "cell_type": "markdown",
   "metadata": {},
   "source": [
    "Please note that this tutorial is focused at reconstructing CSD timeseries\n",
    "at a subset of the _CSD_ grid.  For sake of simplicity it uses kCSD\n",
    "(cross)kernels only.\n",
    "To learn, how to create kESI (cross)kernels please consult\n",
    "`tutorial_*_basics_explained.ipynb`.  To compare the reconstructed CSD\n",
    "with kCSD reconstruction at all nodes of the _CSD_ grid please run\n",
    "one of `tutorial_slice[_basics_explained].ipynb` notebooks."
   ]
  },
  {
   "cell_type": "markdown",
   "metadata": {},
   "source": [
    "# Requirements\n",
    "\n",
    "## Memory\n",
    "\n",
    "The code of the notebook requires at least 1.8 GB (1.7 GiB) of free memory.\n",
    "\n",
    "\n",
    "## Environment\n",
    "\n",
    "1. Anaconda Python distribution (tested with `Miniconda3-py39_4.12.0-Linux-x86_64.sh`, _conda v. 4.12.0_).\n",
    "2. Jupyter server (see `extras/jupyter_server.sh` for details).\n",
    "3. Anaconda environments (run `setup_conda_envs.sh`)."
   ]
  },
  {
   "cell_type": "markdown",
   "metadata": {},
   "source": [
    "# Kernel construction tools"
   ]
  },
  {
   "cell_type": "markdown",
   "metadata": {},
   "source": [
    "## Electrode object\n",
    "\n",
    "The implementation of the electrode object is minimal necessary for construction of a kCSD (cross)kernel."
   ]
  },
  {
   "cell_type": "code",
   "execution_count": null,
   "metadata": {},
   "outputs": [],
   "source": [
    "import collections\n",
    "\n",
    "Electrode = collections.namedtuple('Electrode',\n",
    "                                   ['x', 'y', 'z', 'conductivity'])"
   ]
  },
  {
   "cell_type": "markdown",
   "metadata": {},
   "source": [
    "We use the same positions of electrodes as `tutorial_slice[_basics_explained].ipynb` notebooks."
   ]
  },
  {
   "cell_type": "code",
   "execution_count": null,
   "metadata": {},
   "outputs": [],
   "source": [
    "CONDUCTIVITY = 0.3  # S/m\n",
    "\n",
    "ELECTRODES_XYZ = [(0.0, 0.0, 5e-05),\n",
    "                  (5e-05, 0.0, 0.00015),\n",
    "                  (5e-05, -5e-05, 0.00025)]\n",
    "\n",
    "electrodes = [Electrode(x, y, z, CONDUCTIVITY) for x, y, z in ELECTRODES_XYZ]"
   ]
  },
  {
   "cell_type": "markdown",
   "metadata": {},
   "source": [
    "## Model source\n",
    "\n",
    "We want to use CSD bases 36μm wide ($R = 18\\mu{}m$)."
   ]
  },
  {
   "cell_type": "code",
   "execution_count": null,
   "metadata": {},
   "outputs": [],
   "source": [
    "from kesi.common import SphericalSplineSourceKCSD\n",
    "\n",
    "SRC_R = 18e-6  # m\n",
    "\n",
    "spline_nodes = [SRC_R / 3, SRC_R]\n",
    "spline_polynomials = [[1],\n",
    "                      [0,\n",
    "                       6.75 / SRC_R,\n",
    "                       -13.5 / SRC_R ** 2,\n",
    "                       6.75 / SRC_R ** 3]]\n",
    "model_src = SphericalSplineSourceKCSD(0, 0, 0,\n",
    "                                      spline_nodes,\n",
    "                                      spline_polynomials)"
   ]
  },
  {
   "cell_type": "markdown",
   "metadata": {},
   "source": [
    "## Convolver object"
   ]
  },
  {
   "cell_type": "code",
   "execution_count": null,
   "metadata": {},
   "outputs": [],
   "source": [
    "import numpy as np\n",
    "from kesi.kernel.constructor import Convolver\n",
    "\n",
    "ROMBERG_K = 5\n",
    "Z_MIN = 0\n",
    "Z_MAX = 3e-4\n",
    "XY_AMP = 1.5e-4\n",
    "\n",
    "_h_min = SRC_R * 2**(1 - ROMBERG_K)\n",
    "_X = _Y = np.linspace(-XY_AMP, XY_AMP, int(np.floor(2 * XY_AMP / _h_min)) + 1)\n",
    "_Z = np.linspace(Z_MIN, Z_MAX, int(np.floor((Z_MAX - Z_MIN) / _h_min)) + 1)\n",
    "\n",
    "_csd_grid = _pot_grid = [_X, _Y, _Z]\n",
    "\n",
    "convolver = Convolver(_pot_grid, _csd_grid)\n",
    "\n",
    "for _c, _h in zip(\"XYZ\", convolver.steps(\"POT\")):\n",
    "    assert _h >= _h_min, f\"{_c}:\\t{_h} < {_h_min}\"\n",
    "    if _h >= 2 * _h_min:\n",
    "        print(f\"You can reduce number of nodes of quadrature for {_c} dimension\")"
   ]
  },
  {
   "cell_type": "markdown",
   "metadata": {},
   "source": [
    "## Convolver interface"
   ]
  },
  {
   "cell_type": "code",
   "execution_count": null,
   "metadata": {},
   "outputs": [],
   "source": [
    "from kesi.kernel.constructor import ConvolverInterfaceIndexed\n",
    "from scipy.integrate import romb\n",
    "\n",
    "ROMBERG_N = 2 ** ROMBERG_K + 1\n",
    "ROMBERG_WEIGHTS = romb(np.identity(ROMBERG_N), dx=2 ** -ROMBERG_K)\n",
    "\n",
    "SRC_MASK = ((convolver.SRC_Z > Z_MIN + SRC_R)\n",
    "            & (convolver.SRC_Z < Z_MAX - SRC_R)\n",
    "            & (abs(convolver.SRC_X) < XY_AMP - SRC_R)\n",
    "            & (abs(convolver.SRC_Y) < XY_AMP - SRC_R))"
   ]
  },
  {
   "cell_type": "code",
   "execution_count": null,
   "metadata": {},
   "outputs": [],
   "source": [
    "print(SRC_MASK.sum())"
   ]
  },
  {
   "cell_type": "code",
   "execution_count": null,
   "metadata": {},
   "outputs": [],
   "source": [
    "convolver_interface = ConvolverInterfaceIndexed(convolver,\n",
    "                                                model_src.csd,\n",
    "                                                ROMBERG_WEIGHTS,\n",
    "                                                SRC_MASK)"
   ]
  },
  {
   "cell_type": "markdown",
   "metadata": {},
   "source": [
    "## Potential Basis Functions"
   ]
  },
  {
   "cell_type": "code",
   "execution_count": null,
   "metadata": {},
   "outputs": [],
   "source": [
    "from kesi.kernel.potential_basis_functions import Analytical as PBF"
   ]
  },
  {
   "cell_type": "code",
   "execution_count": null,
   "metadata": {},
   "outputs": [],
   "source": [
    "pbf = PBF(convolver_interface,\n",
    "          potential=model_src.potential)"
   ]
  },
  {
   "cell_type": "markdown",
   "metadata": {},
   "source": [
    "## Kernel constructor and cross-kernel constructor"
   ]
  },
  {
   "cell_type": "code",
   "execution_count": null,
   "metadata": {},
   "outputs": [],
   "source": [
    "from kesi.kernel.constructor import KernelConstructor, CrossKernelConstructor\n",
    "\n",
    "kernel_constructor = KernelConstructor()"
   ]
  },
  {
   "cell_type": "markdown",
   "metadata": {},
   "source": [
    "### Cross-kernel for reconstruction in coordinate line\n",
    "\n",
    "As we want to plot 2D reconstruction (Z vs T), in the boolean mask we\n",
    "select the closest nodes of the _CSD_ grid to given coordinate line."
   ]
  },
  {
   "cell_type": "code",
   "execution_count": null,
   "metadata": {},
   "outputs": [],
   "source": [
    "coordinate_x = 25e-6\n",
    "coordinate_y = -25e-6\n",
    "\n",
    "coordinate_line = [coordinate_x,\n",
    "                   coordinate_y]"
   ]
  },
  {
   "cell_type": "markdown",
   "metadata": {},
   "source": [
    "We find indices of the node of the _CSD_ grid closest to the coordinate line in terms of Manhattan distance."
   ]
  },
  {
   "cell_type": "code",
   "execution_count": null,
   "metadata": {},
   "outputs": [],
   "source": [
    "indices_of_coordinates = [np.argmin(abs(_C - _c))\n",
    "                          for _C, _c in zip(convolver.CSD_GRID,\n",
    "                                            coordinate_line)]"
   ]
  },
  {
   "cell_type": "markdown",
   "metadata": {},
   "source": [
    "With the indices we select the closest (to the coordinate planes) nodes of the _CSD_ grid.\n",
    "<!-- We define an auxilary function `one_hot(i, n)` which returns `n`-long vector which all elements but `i`-th are `0` (and the `i`-th element is `1`). -->"
   ]
  },
  {
   "cell_type": "code",
   "execution_count": null,
   "metadata": {},
   "outputs": [],
   "source": [
    "_CSD_MASK = np.zeros(convolver.csd_shape,\n",
    "                     dtype=bool)\n",
    "_CSD_MASK[indices_of_coordinates[0], indices_of_coordinates[1], :] = True\n",
    "\n",
    "kernel_constructor.crosskernel = CrossKernelConstructor(convolver_interface,\n",
    "                                                        _CSD_MASK)\n",
    "\n",
    "del _CSD_MASK"
   ]
  },
  {
   "cell_type": "markdown",
   "metadata": {},
   "source": [
    "# Reconstructor"
   ]
  },
  {
   "cell_type": "markdown",
   "metadata": {},
   "source": [
    "## Construction of kernels"
   ]
  },
  {
   "cell_type": "code",
   "execution_count": null,
   "metadata": {},
   "outputs": [],
   "source": [
    "%%time\n",
    "B = kernel_constructor.potential_basis_functions_at_electrodes(electrodes,\n",
    "                                                               pbf)"
   ]
  },
  {
   "cell_type": "code",
   "execution_count": null,
   "metadata": {},
   "outputs": [],
   "source": [
    "KERNEL = kernel_constructor.kernel(B)"
   ]
  },
  {
   "cell_type": "code",
   "execution_count": null,
   "metadata": {},
   "outputs": [],
   "source": [
    "%%time\n",
    "CROSSKERNEL = kernel_constructor.crosskernel(B)"
   ]
  },
  {
   "cell_type": "code",
   "execution_count": null,
   "metadata": {},
   "outputs": [],
   "source": [
    "del B  # the array is large and no longer needed"
   ]
  },
  {
   "cell_type": "markdown",
   "metadata": {},
   "source": [
    "## Reconstructors"
   ]
  },
  {
   "cell_type": "code",
   "execution_count": null,
   "metadata": {},
   "outputs": [],
   "source": [
    "from kesi._verbose import _CrossKernelReconstructor as Reconstructor\n",
    "from kesi._engine import _LinearKernelSolver as KernelSolver\n",
    "\n",
    "\n",
    "reconstructor = Reconstructor(KernelSolver(KERNEL),\n",
    "                              CROSSKERNEL)"
   ]
  },
  {
   "cell_type": "markdown",
   "metadata": {},
   "source": [
    "# Visualisation"
   ]
  },
  {
   "cell_type": "code",
   "execution_count": null,
   "metadata": {},
   "outputs": [],
   "source": [
    "import matplotlib.pyplot as plt\n",
    "\n",
    "import cbf"
   ]
  },
  {
   "cell_type": "markdown",
   "metadata": {},
   "source": [
    "# Reconstruction"
   ]
  },
  {
   "cell_type": "markdown",
   "metadata": {},
   "source": [
    "## Reconstruction of timeseries"
   ]
  },
  {
   "cell_type": "markdown",
   "metadata": {},
   "source": [
    "Potential values (given in $\\mu{}V$) are stored in a $N \\times T$ matrix\n",
    "`POTENTIAL_TIMESERIES`.\n",
    "Each of its $N$ rows corresponds to an electrode, while each of its $T$\n",
    "columns corresponds to a timepoint.  Potentials are sum of time-modulated\n",
    "components.  The components are proportional to kCSD eigensources\n",
    "forward-modelled in the slice model (see `tutorial_slice[_basics_explained].ipynb`\n",
    "notebooks for details).  Note that last two components are modulated periodically,\n",
    "while the first component is strongly time-localized."
   ]
  },
  {
   "cell_type": "code",
   "execution_count": null,
   "metadata": {},
   "outputs": [],
   "source": [
    "COMPONENTS = [[126548.99283768, -193132.43450924,  102791.12206456],\n",
    "              [119140.53772061,  -23621.73043093, -154596.99314908],\n",
    "              [ 73225.23872045,  105789.71746181,   79168.62902192]]\n",
    "\n",
    "T = 2048\n",
    "T_START = 0\n",
    "T_END = 2\n",
    "\n",
    "TIME = np.linspace(T_START, T_END, T)\n",
    "\n",
    "\n",
    "class Spikes(object):\n",
    "    time_constant = 0.05\n",
    "\n",
    "    def __init__(self, *times):\n",
    "        self.times = times\n",
    "        \n",
    "    def __call__(self, TIME):\n",
    "        return sum(self.alpha((TIME - t) / self.time_constant - 1)\n",
    "                   for t in self.times)\n",
    "\n",
    "    def alpha(self, TIME):\n",
    "        return np.where(TIME < 0, 0, TIME * np.exp(-TIME))\n",
    "    \n",
    "\n",
    "POTENTIAL_TIMESERIES = np.matmul(COMPONENTS,\n",
    "                                 [Spikes(1.20, 1.25, 1.40, 1.45)(TIME),\n",
    "                                  0.10 * np.sin(TIME * 3 * np.pi),\n",
    "                                  0.05 * np.cos(TIME * 6 * np.pi)])"
   ]
  },
  {
   "cell_type": "markdown",
   "metadata": {},
   "source": [
    "The reconstructor returns a $\\tilde{N} \\times T$ matrix of CSD values.\n",
    "Each of its $T$ columns corresponds to a timepoint\n",
    "while each of its $\\tilde{N}$ rows corresponds to a selected node\n",
    "of the _CSD_ grid."
   ]
  },
  {
   "cell_type": "code",
   "execution_count": null,
   "metadata": {},
   "outputs": [],
   "source": [
    "%%time\n",
    "CSD_TIMESERIES = reconstructor(POTENTIAL_TIMESERIES)"
   ]
  },
  {
   "cell_type": "code",
   "execution_count": null,
   "metadata": {
    "scrolled": false
   },
   "outputs": [],
   "source": [
    "dpi = 150 # 35\n",
    "cmap = cbf.bwr\n",
    "unit_factor = 1e-12\n",
    "unit = '$\\\\frac{\\\\mu{}A}{mm^3}$'\n",
    "length_factor = 1e6\n",
    "length_unit = '$\\\\mu{}m$'\n",
    "time_factor = 1000\n",
    "time_unit = '$ms$'\n",
    "\n",
    "_T, _Z = np.meshgrid(TIME * time_factor,\n",
    "                     convolver.CSD_GRID[2].flatten() * length_factor)\n",
    "\n",
    "_amp = abs(CSD_TIMESERIES * unit_factor).max()\n",
    "\n",
    "plt.figure(figsize=(tuple(_x / dpi for _x in CSD_TIMESERIES.shape[::-1])))\n",
    "plt.ylabel(f\"Z [{length_unit}]\")\n",
    "plt.xlabel(f\"time [{time_unit}]\")\n",
    "\n",
    "plt.contourf(_T, _Z, CSD_TIMESERIES * unit_factor,\n",
    "             256,\n",
    "             vmin=-_amp,\n",
    "             vmax=_amp,\n",
    "             cmap=cmap)\n",
    "\n",
    "plt.colorbar(label=unit)"
   ]
  },
  {
   "cell_type": "markdown",
   "metadata": {},
   "source": [
    "## Regularization"
   ]
  },
  {
   "cell_type": "code",
   "execution_count": null,
   "metadata": {},
   "outputs": [],
   "source": [
    "EIGENVALUES = np.linalg.eigvalsh(KERNEL)[::-1]\n",
    "\n",
    "plt.plot(EIGENVALUES,\n",
    "         marker='o')\n",
    "\n",
    "plt.yscale('log')"
   ]
  },
  {
   "cell_type": "code",
   "execution_count": null,
   "metadata": {},
   "outputs": [],
   "source": [
    "REGULARIZATION_PARAMETERS = np.logspace(10, 20, 10 * 10 + 1)"
   ]
  },
  {
   "cell_type": "markdown",
   "metadata": {},
   "source": [
    "### One-leave-out cross-validation\n",
    "\n",
    "We can choose one regularization parameter for all timepoints."
   ]
  },
  {
   "cell_type": "code",
   "execution_count": null,
   "metadata": {},
   "outputs": [],
   "source": [
    "from kesi.common import cv"
   ]
  },
  {
   "cell_type": "code",
   "execution_count": null,
   "metadata": {},
   "outputs": [],
   "source": [
    "%%time\n",
    "CV_ERRORS = cv(reconstructor, POTENTIAL_TIMESERIES, REGULARIZATION_PARAMETERS)"
   ]
  },
  {
   "cell_type": "code",
   "execution_count": null,
   "metadata": {},
   "outputs": [],
   "source": [
    "regularization_parameter = REGULARIZATION_PARAMETERS[np.argmin(CV_ERRORS)]"
   ]
  },
  {
   "cell_type": "code",
   "execution_count": null,
   "metadata": {},
   "outputs": [],
   "source": [
    "plt.plot(REGULARIZATION_PARAMETERS,\n",
    "         CV_ERRORS,\n",
    "         color=cbf.BLUE)\n",
    "plt.axvline(regularization_parameter,\n",
    "            ls=(0, (1, 2)),\n",
    "            color=cbf.BLUE)\n",
    "plt.xscale('log')\n",
    "plt.xlabel('regularization parameter')\n",
    "plt.yscale('log')\n",
    "plt.ylabel('L2 norm of cross-validation error')"
   ]
  },
  {
   "cell_type": "markdown",
   "metadata": {},
   "source": [
    "As the smallest value of `REGULARIZATION_PARAMETERS` has been chosen (which is 4 orders of magnitude smaller than any of the kernel eigenvalues), it seems that cross-validation is against regularization."
   ]
  },
  {
   "cell_type": "markdown",
   "metadata": {},
   "source": [
    "We can also try to calculate a separate regularization parameter for each timepoint."
   ]
  },
  {
   "cell_type": "code",
   "execution_count": null,
   "metadata": {},
   "outputs": [],
   "source": [
    "%%time\n",
    "CV_ERRORS_SERIES = np.transpose([cv(reconstructor, _V, REGULARIZATION_PARAMETERS)\n",
    "                                for _V in POTENTIAL_TIMESERIES.T])"
   ]
  },
  {
   "cell_type": "code",
   "execution_count": null,
   "metadata": {},
   "outputs": [],
   "source": [
    "REGULARIZATION_PARAMETERS_SERIES = REGULARIZATION_PARAMETERS[CV_ERRORS_SERIES.argmin(axis=0)]"
   ]
  },
  {
   "cell_type": "code",
   "execution_count": null,
   "metadata": {},
   "outputs": [],
   "source": [
    "from matplotlib.colors import LogNorm\n",
    "\n",
    "_vmin = CV_ERRORS_SERIES.min()\n",
    "_vmax = CV_ERRORS_SERIES.max()\n",
    "\n",
    "levels = np.logspace(np.log10(_vmin),\n",
    "                     np.log10(_vmax),\n",
    "                     256)\n",
    "\n",
    "_T, _R = np.meshgrid(TIME * time_factor,\n",
    "                     REGULARIZATION_PARAMETERS)\n",
    "\n",
    "fig = plt.figure(figsize=(16, 10))\n",
    "gs = plt.GridSpec(2, 2,\n",
    "                  figure=fig,\n",
    "                  width_ratios=[12, 1],\n",
    "                  height_ratios=[1, 2],\n",
    "                  wspace=0)\n",
    "ax_rp = fig.add_subplot(gs[0, 0])\n",
    "ax_cb = fig.add_subplot(gs[1, 1])\n",
    "ax_err = fig.add_subplot(gs[1, 0])\n",
    "\n",
    "ax_cb.set_visible(False)\n",
    "\n",
    "\n",
    "_contourf = ax_err.contourf(_T, _R, CV_ERRORS_SERIES,\n",
    "                            levels,\n",
    "                            norm=LogNorm(vmin=_vmin, vmax=_vmax),\n",
    "                            cmap=cbf.wo)\n",
    "\n",
    "for (ax, ls) in [(ax_rp, \"-\"),\n",
    "                 (ax_err, \"--\")]:\n",
    "    ax.plot(TIME * time_factor, REGULARIZATION_PARAMETERS_SERIES,\n",
    "            ls=ls,\n",
    "            color=cbf.BLUE)\n",
    "\n",
    "for ax in [ax_rp, ax_err]:\n",
    "    ax.axhline(EIGENVALUES.min(),\n",
    "               ls=\":\",\n",
    "               color=cbf.GREEN)\n",
    "    ax.axhline(EIGENVALUES.max(),\n",
    "               ls=\":\",\n",
    "               color=cbf.GREEN)\n",
    "    \n",
    "    ax.set_xlim(T_START * time_factor, T_END * time_factor)\n",
    "    ax.set_ylim(REGULARIZATION_PARAMETERS[0], REGULARIZATION_PARAMETERS[-1])\n",
    "    ax.set_yscale(\"log\")\n",
    "    ax.set_ylabel(\"regularization parameter\")\n",
    "\n",
    "ax_err.set_xlabel(f\"time [{time_unit}]\")\n",
    "ax_rp.spines[['right', 'top']].set_visible(False)\n",
    "ax_rp.set_title(\"CV-selected regularization parameter\")\n",
    "\n",
    "\n",
    "fig.colorbar(_contourf, label=\"CV error\", ax=ax_cb)"
   ]
  }
 ],
 "metadata": {
  "kernelspec": {
   "display_name": "Python [conda env:kesi3.7]",
   "language": "python",
   "name": "conda-env-kesi3.7-py"
  },
  "language_info": {
   "codemirror_mode": {
    "name": "ipython",
    "version": 3
   },
   "file_extension": ".py",
   "mimetype": "text/x-python",
   "name": "python",
   "nbconvert_exporter": "python",
   "pygments_lexer": "ipython3",
   "version": "3.7.12"
  }
 },
 "nbformat": 4,
 "nbformat_minor": 4
}
