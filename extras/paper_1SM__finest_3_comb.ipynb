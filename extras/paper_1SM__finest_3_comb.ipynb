{
 "cells": [
  {
   "cell_type": "code",
   "execution_count": 54,
   "metadata": {},
   "outputs": [],
   "source": [
    "import datetime\n",
    "import configparser\n",
    "import os\n",
    "\n",
    "import numpy as np\n",
    "import pandas as pd"
   ]
  },
  {
   "cell_type": "code",
   "execution_count": 2,
   "metadata": {},
   "outputs": [],
   "source": [
    "DEGREE = 3\n",
    "CONFIG_NAME = 'comb'\n",
    "MESH_NAME = 'finest'\n",
    "MODEL_NAME = '1SM'\n",
    "K = 9\n",
    "ROMBERG_K = 5\n",
    "GROUNDED_PLATE_AT = -0.088\n",
    "\n",
    "FILENAME_PATTERN = f'FEM/solutions/paper/{MODEL_NAME}/{MESH_NAME}_{DEGREE}/{CONFIG_NAME}_sampled/{K}/{{name}}.npz'\n",
    "ES_PREFIX = f'ES/paper_{MODEL_NAME}__{MESH_NAME}_{DEGREE}_{CONFIG_NAME}'"
   ]
  },
  {
   "cell_type": "code",
   "execution_count": 3,
   "metadata": {},
   "outputs": [],
   "source": [
    "ELECTRODES = []\n",
    "for col, x in zip('ABCDE', np.linspace(-6e-3, 6e-3, 5)):\n",
    "    for row, z in enumerate(np.linspace(0.046, 0.076, 13)):\n",
    "        ELECTRODES.append({'NAME': f'{col}_{row:02d}',\n",
    "                           'X': x,\n",
    "                           'Y': 0.0,\n",
    "                           'Z': z})\n",
    "ELECTRODES = pd.DataFrame(ELECTRODES)"
   ]
  },
  {
   "cell_type": "code",
   "execution_count": null,
   "metadata": {},
   "outputs": [],
   "source": []
  },
  {
   "cell_type": "code",
   "execution_count": 6,
   "metadata": {},
   "outputs": [],
   "source": [
    "import _fast_reciprocal_reconstructor as frr\n",
    "import _common_new as common\n",
    "\n",
    "from _dicom import crude_plot_data"
   ]
  },
  {
   "cell_type": "code",
   "execution_count": 7,
   "metadata": {},
   "outputs": [],
   "source": [
    "class Electrode_kESI(object):\n",
    "    def __init__(self, filename, decimals_tolerance=None, dx=0):\n",
    "        self.filename = filename\n",
    "        self.decimals_tolerance = decimals_tolerance\n",
    "        self.dx = dx\n",
    "        with np.load(filename) as fh:\n",
    "            self._X = self.round(fh['X'])\n",
    "            self._Y = self.round(fh['Y'])\n",
    "            self._Z = self.round(fh['Z'])\n",
    "            self.x, self.y, self.z = fh['LOCATION']\n",
    "#             try:\n",
    "            self.base_conductivity = fh['BASE_CONDUCTIVITY']\n",
    "#             except KeyError:\n",
    "#                 pass\n",
    "    \n",
    "    def round(self, A):\n",
    "        if self.decimals_tolerance is None:\n",
    "            return A\n",
    "        return np.round(A, decimals=self.decimals_tolerance)\n",
    "\n",
    "    def correction_potential(self, X, Y, Z):\n",
    "        _X, IDX_X, _ = np.intersect1d(self._X, self.round(X[:, 0, 0]), return_indices=True)\n",
    "        assert len(_X) == np.shape(X)[0]\n",
    "        _Y, IDX_Y, _ = np.intersect1d(self._Y, self.round(Y[0, :, 0]), return_indices=True)\n",
    "        assert len(_Y) == np.shape(Y)[1]\n",
    "        _Z, IDX_Z, _ = np.intersect1d(self._Z, self.round(Z[0, 0, :]), return_indices=True)\n",
    "        assert len(_Z) == np.shape(Z)[2]\n",
    "\n",
    "        with np.load(self.filename) as fh:\n",
    "            return fh['CORRECTION_POTENTIAL'][np.ix_(IDX_X, IDX_Y, IDX_Z)]\n",
    "\n",
    "    def base_potential(self, X, Y, Z):\n",
    "        return (0.25 / (np.pi * self.base_conductivity)\n",
    "                / (self.dx * 0.15\n",
    "                   + np.sqrt(np.square(X - self.x)\n",
    "                             + np.square(Y - self.y)\n",
    "                             + np.square(Z - self.z))))\n",
    "\n",
    "        \n",
    "class Electrode_kCSD(object):\n",
    "    def __init__(self, filename):\n",
    "        with np.load(filename) as fh:\n",
    "            self.x, self.y, self.z = fh['LOCATION']"
   ]
  },
  {
   "cell_type": "code",
   "execution_count": 8,
   "metadata": {},
   "outputs": [],
   "source": [
    "electrode = Electrode_kESI(FILENAME_PATTERN.format(name='A_00'))\n",
    "# assert all(X == electrode._X)\n",
    "# assert all(Y == electrode._Y)\n",
    "# assert all(Z == electrode._Z)\n",
    "XX = electrode._X\n",
    "YY = electrode._Y\n",
    "ZZ = electrode._Z"
   ]
  },
  {
   "cell_type": "code",
   "execution_count": 10,
   "metadata": {},
   "outputs": [
    {
     "name": "stdout",
     "output_type": "stream",
     "text": [
      "0.005625\n",
      "0.0399 0.0761\n"
     ]
    }
   ],
   "source": [
    "dx = (XX[-1] - XX[0]) / (len(XX) - 1)\n",
    "SRC_R_MAX = (2**(ROMBERG_K - 1)) * dx\n",
    "ROMBERG_N = 2**ROMBERG_K + 1\n",
    "print(SRC_R_MAX)\n",
    "\n",
    "NAIVE_R_MAX = 90e-3 - SRC_R_MAX\n",
    "NAIVE_R_MIN = 31e-3\n",
    "\n",
    "INFORMED_R_MAX = 79e-3\n",
    "INFORMED_R_MIN = 67e-3\n",
    "\n",
    "E_Z_MAX = 76.1e-3\n",
    "E_Z_MIN = 39.9e-3\n",
    "E_X_DIST_MAX = 6.0001e-3\n",
    "\n",
    "\n",
    "X_DIST_MAX = 9e-3\n",
    "Y_DIST_MAX = 1e-3\n",
    "print(E_Z_MIN, E_Z_MAX)"
   ]
  },
  {
   "cell_type": "code",
   "execution_count": 11,
   "metadata": {},
   "outputs": [],
   "source": [
    "X = XX[abs(XX) < X_DIST_MAX + SRC_R_MAX + dx]\n",
    "Y = YY[abs(YY) < Y_DIST_MAX + SRC_R_MAX + dx]\n",
    "Z = ZZ[(ZZ < max(NAIVE_R_MAX, INFORMED_R_MAX) + SRC_R_MAX + dx)\n",
    "      & (ZZ > min(NAIVE_R_MIN, INFORMED_R_MIN) - SRC_R_MAX - dx)]"
   ]
  },
  {
   "cell_type": "code",
   "execution_count": 12,
   "metadata": {},
   "outputs": [
    {
     "name": "stdout",
     "output_type": "stream",
     "text": [
      "65\n",
      "20\n"
     ]
    }
   ],
   "source": [
    "ELE_NAIVE = ELECTRODES[(ELECTRODES.Z >= E_Z_MIN)\n",
    "                       & (ELECTRODES.Z <= E_Z_MAX)\n",
    "                       & (abs(ELECTRODES.X) <= E_X_DIST_MAX)].copy()\n",
    "print(len(ELE_NAIVE))\n",
    "\n",
    "_ELE_NAIVE_R2 = np.square(ELE_NAIVE.X) + np.square(ELE_NAIVE.Y) + np.square(ELE_NAIVE.Z)\n",
    "ELE_INFORMED = ELE_NAIVE[(_ELE_NAIVE_R2 >= np.square(INFORMED_R_MIN))\n",
    "                          & (_ELE_NAIVE_R2 <= np.square(INFORMED_R_MAX))].copy()\n",
    "print(len(ELE_INFORMED))\n",
    "\n",
    "electrodes = {'kesi_informed': \n",
    "                  [Electrode_kESI(FILENAME_PATTERN.format(name=name),\n",
    "                                  decimals_tolerance=16,\n",
    "                                  dx=dx)\n",
    "                   for name in ELE_INFORMED.NAME],\n",
    "              'kcsd_informed': \n",
    "                  [Electrode_kCSD(FILENAME_PATTERN.format(name=name))\n",
    "                   for name in ELE_INFORMED.NAME],\n",
    "              'kesi_naive': \n",
    "                  [Electrode_kESI(FILENAME_PATTERN.format(name=name),\n",
    "                                  decimals_tolerance=16,\n",
    "                                  dx=dx)\n",
    "                   for name in ELE_NAIVE.NAME],\n",
    "              'kcsd_naive': \n",
    "                  [Electrode_kCSD(FILENAME_PATTERN.format(name=name))\n",
    "                   for name in ELE_NAIVE.NAME],\n",
    "              }"
   ]
  },
  {
   "cell_type": "code",
   "execution_count": 13,
   "metadata": {},
   "outputs": [
    {
     "name": "stdout",
     "output_type": "stream",
     "text": [
      "5.117399685701221 deg\n"
     ]
    }
   ],
   "source": [
    "# arc = np.arctan(abs(ELE.X / ELE.Z).max())\n",
    "arc = np.arctan(E_X_DIST_MAX / INFORMED_R_MIN)\n",
    "print(f'{arc / np.pi * 180} deg')"
   ]
  },
  {
   "cell_type": "code",
   "execution_count": 14,
   "metadata": {},
   "outputs": [],
   "source": [
    "def inflate(A):\n",
    "    B = np.empty(2 * len(A) - 1)\n",
    "    B[::2] = A\n",
    "    B[1::2] = 0.5 * (A[:-1] + A[1:])\n",
    "    return B"
   ]
  },
  {
   "cell_type": "code",
   "execution_count": 15,
   "metadata": {},
   "outputs": [],
   "source": [
    "# convolver = frr.ckESI_convolver([X, Y, Z], [X, Y, Z])\n",
    "convolver = frr.ckESI_convolver([X,\n",
    "                                 Y,\n",
    "                                 Z],\n",
    "                                [inflate(X),\n",
    "                                 inflate(Y),\n",
    "                                 inflate(Z)])"
   ]
  },
  {
   "cell_type": "code",
   "execution_count": 16,
   "metadata": {},
   "outputs": [
    {
     "name": "stdout",
     "output_type": "stream",
     "text": [
      "0.005625\n"
     ]
    }
   ],
   "source": [
    "conductivity = 0.33\n",
    "# sd = convolver.ds('POT')[0] * 16 / 6\n",
    "sd = SRC_R_MAX / 3\n",
    "model_src = common.SphericalSplineSourceKCSD(0, 0, 0,\n",
    "                                             [sd, 3 * sd],\n",
    "                                             [[1],\n",
    "                                              [0,\n",
    "                                               2.25 / sd,\n",
    "                                               -1.5 / sd ** 2,\n",
    "                                               0.25 / sd ** 3]],\n",
    "                                             conductivity)\n",
    "print(3 * sd)"
   ]
  },
  {
   "cell_type": "code",
   "execution_count": 17,
   "metadata": {},
   "outputs": [],
   "source": [
    "SRC_R2 = (np.square(convolver.SRC_X)\n",
    "          + np.square(convolver.SRC_Y)\n",
    "          + np.square(convolver.SRC_Z))\n",
    "SRC_IDX_NAIVE = ((SRC_R2 >= NAIVE_R_MIN ** 2)\n",
    "                 & (SRC_R2 <= NAIVE_R_MAX ** 2)\n",
    "                 & (abs(convolver.SRC_Y) < Y_DIST_MAX)\n",
    "                 )\n",
    "\n",
    "SRC_IDX_INFORMED = ((SRC_R2 >= INFORMED_R_MIN ** 2)\n",
    "                    & (SRC_R2 <= INFORMED_R_MAX ** 2)\n",
    "                    & (abs(convolver.SRC_Y) < Y_DIST_MAX)\n",
    "                    & (((convolver.SRC_X * 0\n",
    "                        + convolver.SRC_Y * 0\n",
    "                        + convolver.SRC_Z\n",
    "                        / np.sqrt(SRC_R2)) >= np.cos(arc)))\n",
    "                   )\n",
    "source_idx = {'naive': SRC_IDX_NAIVE,\n",
    "              'informed': SRC_IDX_INFORMED}"
   ]
  },
  {
   "cell_type": "code",
   "execution_count": 18,
   "metadata": {},
   "outputs": [],
   "source": [
    "CSD_R2 = (np.square(convolver.CSD_X)\n",
    "          + np.square(convolver.CSD_Y)\n",
    "          + np.square(convolver.CSD_Z))\n",
    "CSD_IDX = CSD_R2 <= 0.090 ** 2"
   ]
  },
  {
   "cell_type": "code",
   "execution_count": 19,
   "metadata": {},
   "outputs": [],
   "source": [
    "POT_R2 = (np.square(convolver.POT_X)\n",
    "          + np.square(convolver.POT_Y)\n",
    "          + np.square(convolver.POT_Z))\n",
    "POT_ALLOWED = POT_R2 <= 0.090 ** 2"
   ]
  },
  {
   "cell_type": "code",
   "execution_count": 21,
   "metadata": {},
   "outputs": [
    {
     "data": {
      "text/plain": [
       "(0.990944223589627, 0.10668134197545963, 0.010259671436142025)"
      ]
     },
     "execution_count": 21,
     "metadata": {},
     "output_type": "execute_result"
    }
   ],
   "source": [
    "CSD_IDX.mean(), SRC_IDX_NAIVE.mean(), SRC_IDX_INFORMED.mean()"
   ]
  },
  {
   "cell_type": "code",
   "execution_count": null,
   "metadata": {},
   "outputs": [],
   "source": []
  },
  {
   "cell_type": "markdown",
   "metadata": {},
   "source": [
    "# Kernels"
   ]
  },
  {
   "cell_type": "code",
   "execution_count": 22,
   "metadata": {},
   "outputs": [],
   "source": [
    "kernels = {f'{method}_{setup}': frr.ckESI_kernel_constructor(\n",
    "                                   model_src,\n",
    "                                   convolver,\n",
    "                                   SRC_IDX,\n",
    "                                   CSD_IDX,\n",
    "                                   electrodes[f'{method}_{setup}'],\n",
    "                                   weights=ROMBERG_N)\n",
    "           for method in ['kcsd', 'kesi']\n",
    "           for setup, SRC_IDX in source_idx.items()}"
   ]
  },
  {
   "cell_type": "code",
   "execution_count": null,
   "metadata": {},
   "outputs": [],
   "source": []
  },
  {
   "cell_type": "code",
   "execution_count": 24,
   "metadata": {},
   "outputs": [
    {
     "name": "stdout",
     "output_type": "stream",
     "text": [
      "CPU times: user 8min 13s, sys: 2min 2s, total: 10min 16s\n",
      "Wall time: 10min 27s\n"
     ]
    }
   ],
   "source": [
    "%%time\n",
    "kernels['kesi_naive_handicapped'] = kernels['kesi_naive']\n",
    "kernels['kesi_naive'] = frr.ckESI_kernel_constructor(\n",
    "                                model_src,\n",
    "                                convolver,\n",
    "                                SRC_IDX_NAIVE,\n",
    "                                CSD_IDX,\n",
    "                                electrodes['kesi_naive'],\n",
    "                                weights=ROMBERG_N,\n",
    "                                leadfield_allowed_mask=POT_ALLOWED,\n",
    "                                csd_allowed_mask=CSD_IDX) #,"
   ]
  },
  {
   "cell_type": "code",
   "execution_count": null,
   "metadata": {},
   "outputs": [],
   "source": []
  },
  {
   "cell_type": "markdown",
   "metadata": {},
   "source": [
    "# Kernel diagnostic"
   ]
  },
  {
   "cell_type": "code",
   "execution_count": 23,
   "metadata": {},
   "outputs": [],
   "source": [
    "%matplotlib inline\n",
    "import matplotlib.pyplot as plt\n",
    "import cbf"
   ]
  },
  {
   "cell_type": "code",
   "execution_count": 33,
   "metadata": {},
   "outputs": [],
   "source": [
    "def test_aliasing(kcsd, kesi, threshold=None,\n",
    "                  esmax=None, aliasmax=None,\n",
    "                  threshold_nsr=None):\n",
    "    n = len(kesi._pre_kernel)\n",
    "    FWD = kesi._pre_kernel * n\n",
    "    PHI = kcsd._pre_kernel * n\n",
    "    KERNEL = kcsd.kernel * n\n",
    "    \n",
    "    EIGENVALUES, EIGENVECTORS = np.linalg.eigh(KERNEL)\n",
    "    EIGENVALUES, EIGENVECTORS = EIGENVALUES[::-1], EIGENVECTORS[:, ::-1]\n",
    "    LAMBDA = np.sqrt(EIGENVALUES)\n",
    "    EIGENSOURCES = np.matmul(PHI,\n",
    "                             np.matmul(EIGENVECTORS,\n",
    "                                       np.diag(1. / LAMBDA)))\n",
    "\n",
    "    CORR = FWD - PHI\n",
    "    CORR_POT = np.matmul(EIGENSOURCES.T, CORR)\n",
    "    CORR_EV = np.matmul(CORR_POT, EIGENVECTORS)\n",
    "    \n",
    "    plt.figure(figsize=(12, 12))\n",
    "    plt.subplot(2, 2, 1)\n",
    "    \n",
    "    v_max = abs(CORR_EV).max()\n",
    "    plt.imshow(CORR_EV[slice(-1) if esmax is None else slice(0, esmax),\n",
    "                       slice(-1) if aliasmax is None else slice(0, aliasmax)],\n",
    "               cmap=cbf.PRGn, vmax=v_max, vmin=-v_max)\n",
    "    plt.ylabel('ES')\n",
    "    plt.xlabel('EV aliasing')\n",
    "    plt.colorbar()\n",
    "\n",
    "    CORR_ES = np.matmul(CORR_EV, np.diag(1 / LAMBDA))\n",
    "    \n",
    "    plt.subplot(2, 2, 2)\n",
    "    if threshold is None:\n",
    "        threshold = abs(CORR_ES).max()\n",
    "    plt.imshow(CORR_ES[slice(-1) if esmax is None else slice(0, esmax),\n",
    "                    slice(-1) if aliasmax is None else slice(0, aliasmax)],\n",
    "               cmap=cbf.bwr, vmax=threshold, vmin=-threshold)\n",
    "    plt.ylabel('ES')\n",
    "    plt.xlabel('ES aliasing')\n",
    "    plt.colorbar()\n",
    "    \n",
    "    EV_I = LAMBDA.reshape(-1, 1)\n",
    "    EV_J = LAMBDA.reshape(1, -1)\n",
    "    A_II = np.diag(CORR_EV).reshape(-1, 1)\n",
    "    \n",
    "    NSR_MIN = np.ma.masked_invalid(np.square(CORR_EV / (EV_I + A_II) * np.minimum(EV_I / EV_J, 1)))\n",
    "    np.fill_diagonal(NSR_MIN, 0)\n",
    "    \n",
    "    _NSR = NSR_MIN[slice(-1) if esmax is None else slice(0, esmax),\n",
    "                   slice(-1) if aliasmax is None else slice(0, aliasmax)]\n",
    "    \n",
    "    plt.subplot(2, 2, 3)\n",
    "    if threshold_nsr is None:\n",
    "        threshold_nsr = _NSR.max()\n",
    "\n",
    "    plt.imshow(_NSR,\n",
    "               cmap=cbf.bwr, vmax=threshold_nsr, vmin=-threshold_nsr)\n",
    "    plt.ylabel('ES')\n",
    "    plt.xlabel('Minimal NSR by ES')\n",
    "    plt.colorbar()\n",
    "    \n",
    "    plt.subplot(2, 2, 4)\n",
    "    plt.plot(NSR_MIN.sum(axis=1)[slice(-1) if esmax is None else slice(-1, esmax)],\n",
    "             range(len(_NSR)),\n",
    "             marker='.')\n",
    "    plt.ylabel('ES')\n",
    "#     plt.xscale('log')\n",
    "    plt.xlabel('Minimal NSR')\n",
    "    return CORR_ES"
   ]
  },
  {
   "cell_type": "code",
   "execution_count": 34,
   "metadata": {},
   "outputs": [
    {
     "name": "stdout",
     "output_type": "stream",
     "text": [
      "naive\n",
      "informed\n"
     ]
    },
    {
     "data": {
      "image/png": "[encoded data removed]",
      "text/plain": [
       "<Figure size 864x864 with 7 Axes>"
      ]
     },
     "metadata": {
      "needs_background": "light"
     },
     "output_type": "display_data"
    },
    {
     "data": {
      "image/png": "[encoded data removed]",
      "text/plain": [
       "<Figure size 864x864 with 7 Axes>"
      ]
     },
     "metadata": {
      "needs_background": "light"
     },
     "output_type": "display_data"
    }
   ],
   "source": [
    "for setup in source_idx:\n",
    "    print(setup)\n",
    "    test_aliasing(kernels[f'kcsd_{setup}'], kernels[f'kesi_{setup}'])"
   ]
  },
  {
   "cell_type": "code",
   "execution_count": 35,
   "metadata": {},
   "outputs": [],
   "source": [
    "def plot_eigenvalues(kcsd):\n",
    "    n = len(kcsd._pre_kernel)\n",
    "    KERNEL = kcsd.kernel * n\n",
    "    \n",
    "    EIGENVALUES, EIGENVECTORS = np.linalg.eigh(KERNEL)\n",
    "    EIGENVALUES, EIGENVECTORS = EIGENVALUES[::-1], EIGENVECTORS[:, ::-1]\n",
    "    \n",
    "    plt.plot(EIGENVALUES)\n",
    "    plt.yscale('log')"
   ]
  },
  {
   "cell_type": "code",
   "execution_count": 36,
   "metadata": {},
   "outputs": [],
   "source": [
    "def plot_eigenvalues_normalized(kcsd):\n",
    "    KERNEL = kcsd.kernel\n",
    "    \n",
    "    EIGENVALUES, EIGENVECTORS = np.linalg.eigh(KERNEL)\n",
    "    EIGENVALUES, EIGENVECTORS = EIGENVALUES[::-1], EIGENVECTORS[:, ::-1]\n",
    "    \n",
    "    plt.plot(EIGENVALUES)\n",
    "    plt.yscale('log')"
   ]
  },
  {
   "cell_type": "code",
   "execution_count": 37,
   "metadata": {
    "scrolled": true
   },
   "outputs": [
    {
     "data": {
      "image/png": "[encoded data removed]",
      "text/plain": [
       "<Figure size 1296x432 with 2 Axes>"
      ]
     },
     "metadata": {
      "needs_background": "light"
     },
     "output_type": "display_data"
    },
    {
     "data": {
      "image/png": "[encoded data removed]",
      "text/plain": [
       "<Figure size 1296x432 with 2 Axes>"
      ]
     },
     "metadata": {
      "needs_background": "light"
     },
     "output_type": "display_data"
    },
    {
     "data": {
      "image/png": "[encoded data removed]",
      "text/plain": [
       "<Figure size 1296x432 with 2 Axes>"
      ]
     },
     "metadata": {
      "needs_background": "light"
     },
     "output_type": "display_data"
    },
    {
     "data": {
      "image/png": "[encoded data removed]",
      "text/plain": [
       "<Figure size 1296x432 with 2 Axes>"
      ]
     },
     "metadata": {
      "needs_background": "light"
     },
     "output_type": "display_data"
    },
    {
     "data": {
      "image/png": "[encoded data removed]",
      "text/plain": [
       "<Figure size 1296x432 with 2 Axes>"
      ]
     },
     "metadata": {
      "needs_background": "light"
     },
     "output_type": "display_data"
    }
   ],
   "source": [
    "for name, ks in kernels.items():\n",
    "    plt.figure(figsize=(18, 6))\n",
    "    plt.suptitle(name)\n",
    "    plt.subplot(1, 2, 1)\n",
    "    plt.title('raw')\n",
    "    plot_eigenvalues(ks)\n",
    "    \n",
    "    plt.subplot(1, 2, 2)\n",
    "    plt.title('normalized')\n",
    "    plot_eigenvalues_normalized(ks)"
   ]
  },
  {
   "cell_type": "code",
   "execution_count": 39,
   "metadata": {},
   "outputs": [
    {
     "name": "stdout",
     "output_type": "stream",
     "text": [
      "kcsd_naive 0\n",
      "kcsd_naive 1\n",
      "kcsd_naive 2\n",
      "kcsd_naive 3\n",
      "kcsd_naive 4\n",
      "kcsd_naive 5\n",
      "kcsd_naive 6\n",
      "kcsd_naive 7\n",
      "kcsd_naive 8\n",
      "kcsd_naive 9\n",
      "kcsd_naive 10\n",
      "kcsd_naive 11\n",
      "kcsd_naive 12\n",
      "kcsd_naive 13\n",
      "kcsd_naive 14\n",
      "kcsd_naive 15\n",
      "kcsd_naive 16\n",
      "kcsd_naive 17\n",
      "kcsd_naive 18\n",
      "kcsd_naive 19\n",
      "kcsd_naive 20\n",
      "kcsd_naive 21\n",
      "kcsd_naive 22\n",
      "kcsd_naive 23\n",
      "kcsd_naive 24\n",
      "kcsd_naive 25\n",
      "kcsd_naive 26\n",
      "kcsd_naive 27\n",
      "kcsd_naive 28\n",
      "kcsd_naive 29\n",
      "kcsd_naive 30\n",
      "kcsd_naive 31\n",
      "kcsd_naive 32\n",
      "kcsd_naive 33\n",
      "kcsd_naive 34\n",
      "kcsd_naive 35\n",
      "kcsd_naive 36\n",
      "kcsd_naive 37\n",
      "kcsd_naive 38\n",
      "kcsd_naive 39\n",
      "kcsd_naive 40\n",
      "kcsd_naive 41\n",
      "kcsd_naive 42\n",
      "kcsd_naive 43\n",
      "kcsd_naive 44\n",
      "kcsd_naive 45\n",
      "kcsd_naive 46\n",
      "kcsd_naive 47\n",
      "kcsd_naive 48\n",
      "kcsd_naive 49\n",
      "kcsd_naive 50\n",
      "kcsd_naive 51\n",
      "kcsd_naive 52\n",
      "kcsd_naive 53\n",
      "kcsd_naive 54\n",
      "kcsd_naive 55\n",
      "kcsd_naive 56\n",
      "kcsd_naive 57\n",
      "kcsd_naive 58\n",
      "kcsd_naive 59\n",
      "kcsd_naive 60\n",
      "kcsd_naive 61\n",
      "kcsd_naive 62\n",
      "kcsd_naive 63\n",
      "kcsd_naive 64\n",
      "kcsd_informed 0\n",
      "kcsd_informed 1\n",
      "kcsd_informed 2\n",
      "kcsd_informed 3\n",
      "kcsd_informed 4\n",
      "kcsd_informed 5\n",
      "kcsd_informed 6\n",
      "kcsd_informed 7\n",
      "kcsd_informed 8\n",
      "kcsd_informed 9\n",
      "kcsd_informed 10\n",
      "kcsd_informed 11\n",
      "kcsd_informed 12\n",
      "kcsd_informed 13\n",
      "kcsd_informed 14\n",
      "kcsd_informed 15\n",
      "kcsd_informed 16\n",
      "kcsd_informed 17\n",
      "kcsd_informed 18\n",
      "kcsd_informed 19\n",
      "kesi_naive 0\n",
      "kesi_naive 1\n",
      "kesi_naive 2\n",
      "kesi_naive 3\n",
      "kesi_naive 4\n",
      "kesi_naive 5\n",
      "kesi_naive 6\n",
      "kesi_naive 7\n",
      "kesi_naive 8\n",
      "kesi_naive 9\n",
      "kesi_naive 10\n",
      "kesi_naive 11\n",
      "kesi_naive 12\n",
      "kesi_naive 13\n",
      "kesi_naive 14\n",
      "kesi_naive 15\n",
      "kesi_naive 16\n",
      "kesi_naive 17\n",
      "kesi_naive 18\n",
      "kesi_naive 19\n",
      "kesi_naive 20\n",
      "kesi_naive 21\n",
      "kesi_naive 22\n",
      "kesi_naive 23\n",
      "kesi_naive 24\n",
      "kesi_naive 25\n",
      "kesi_naive 26\n",
      "kesi_naive 27\n",
      "kesi_naive 28\n",
      "kesi_naive 29\n",
      "kesi_naive 30\n",
      "kesi_naive 31\n",
      "kesi_naive 32\n",
      "kesi_naive 33\n",
      "kesi_naive 34\n",
      "kesi_naive 35\n",
      "kesi_naive 36\n",
      "kesi_naive 37\n",
      "kesi_naive 38\n",
      "kesi_naive 39\n",
      "kesi_naive 40\n",
      "kesi_naive 41\n",
      "kesi_naive 42\n",
      "kesi_naive 43\n",
      "kesi_naive 44\n",
      "kesi_naive 45\n",
      "kesi_naive 46\n",
      "kesi_naive 47\n",
      "kesi_naive 48\n",
      "kesi_naive 49\n",
      "kesi_naive 50\n",
      "kesi_naive 51\n",
      "kesi_naive 52\n",
      "kesi_naive 53\n",
      "kesi_naive 54\n",
      "kesi_naive 55\n",
      "kesi_naive 56\n",
      "kesi_naive 57\n",
      "kesi_naive 58\n",
      "kesi_naive 59\n",
      "kesi_naive 60\n",
      "kesi_naive 61\n",
      "kesi_naive 62\n",
      "kesi_naive 63\n",
      "kesi_naive 64\n",
      "kesi_informed 0\n",
      "kesi_informed 1\n",
      "kesi_informed 2\n",
      "kesi_informed 3\n",
      "kesi_informed 4\n",
      "kesi_informed 5\n",
      "kesi_informed 6\n",
      "kesi_informed 7\n",
      "kesi_informed 8\n",
      "kesi_informed 9\n",
      "kesi_informed 10\n",
      "kesi_informed 11\n",
      "kesi_informed 12\n",
      "kesi_informed 13\n",
      "kesi_informed 14\n",
      "kesi_informed 15\n",
      "kesi_informed 16\n",
      "kesi_informed 17\n",
      "kesi_informed 18\n",
      "kesi_informed 19\n",
      "kesi_naive_handicapped 0\n",
      "kesi_naive_handicapped 1\n",
      "kesi_naive_handicapped 2\n",
      "kesi_naive_handicapped 3\n",
      "kesi_naive_handicapped 4\n",
      "kesi_naive_handicapped 5\n",
      "kesi_naive_handicapped 6\n",
      "kesi_naive_handicapped 7\n",
      "kesi_naive_handicapped 8\n",
      "kesi_naive_handicapped 9\n",
      "kesi_naive_handicapped 10\n",
      "kesi_naive_handicapped 11\n",
      "kesi_naive_handicapped 12\n",
      "kesi_naive_handicapped 13\n",
      "kesi_naive_handicapped 14\n",
      "kesi_naive_handicapped 15\n",
      "kesi_naive_handicapped 16\n",
      "kesi_naive_handicapped 17\n",
      "kesi_naive_handicapped 18\n",
      "kesi_naive_handicapped 19\n",
      "kesi_naive_handicapped 20\n",
      "kesi_naive_handicapped 21\n",
      "kesi_naive_handicapped 22\n",
      "kesi_naive_handicapped 23\n",
      "kesi_naive_handicapped 24\n",
      "kesi_naive_handicapped 25\n",
      "kesi_naive_handicapped 26\n",
      "kesi_naive_handicapped 27\n",
      "kesi_naive_handicapped 28\n",
      "kesi_naive_handicapped 29\n",
      "kesi_naive_handicapped 30\n",
      "kesi_naive_handicapped 31\n",
      "kesi_naive_handicapped 32\n",
      "kesi_naive_handicapped 33\n",
      "kesi_naive_handicapped 34\n",
      "kesi_naive_handicapped 35\n",
      "kesi_naive_handicapped 36\n",
      "kesi_naive_handicapped 37\n",
      "kesi_naive_handicapped 38\n",
      "kesi_naive_handicapped 39\n",
      "kesi_naive_handicapped 40\n",
      "kesi_naive_handicapped 41\n",
      "kesi_naive_handicapped 42\n",
      "kesi_naive_handicapped 43\n",
      "kesi_naive_handicapped 44\n",
      "kesi_naive_handicapped 45\n",
      "kesi_naive_handicapped 46\n",
      "kesi_naive_handicapped 47\n",
      "kesi_naive_handicapped 48\n",
      "kesi_naive_handicapped 49\n",
      "kesi_naive_handicapped 50\n",
      "kesi_naive_handicapped 51\n",
      "kesi_naive_handicapped 52\n",
      "kesi_naive_handicapped 53\n",
      "kesi_naive_handicapped 54\n",
      "kesi_naive_handicapped 55\n",
      "kesi_naive_handicapped 56\n",
      "kesi_naive_handicapped 57\n",
      "kesi_naive_handicapped 58\n",
      "kesi_naive_handicapped 59\n",
      "kesi_naive_handicapped 60\n",
      "kesi_naive_handicapped 61\n",
      "kesi_naive_handicapped 62\n",
      "kesi_naive_handicapped 63\n",
      "kesi_naive_handicapped 64\n"
     ]
    }
   ],
   "source": [
    "_SRC = np.zeros(convolver.shape('SRC'))\n",
    "_CSD = np.zeros(convolver.shape('CSD'))\n",
    "\n",
    "for name, ks in kernels.items():\n",
    "    _n = len(ks._pre_kernel)\n",
    "    _PHI = ks._pre_kernel * _n\n",
    "    _KERNEL = ks.kernel * _n\n",
    "\n",
    "    _EIGENVALUES, _EIGENVECTORS = np.linalg.eigh(_KERNEL)\n",
    "    _EIGENVALUES, _EIGENVECTORS = _EIGENVALUES[::-1], _EIGENVECTORS[:, ::-1]\n",
    "    _EIGENSOURCES = np.matmul(_PHI,\n",
    "                              np.matmul(_EIGENVECTORS,\n",
    "                                        np.diag(1. / np.sqrt(_EIGENVALUES))))\n",
    "\n",
    "    for i, _ES in enumerate(_EIGENSOURCES.T):\n",
    "        print(name, i)\n",
    "        _SRC[ks.source_indices] = _ES\n",
    "        _CSD[CSD_IDX] = convolver.base_weights_to_csd(_SRC,\n",
    "                                                      model_src.csd,\n",
    "                                                      (ROMBERG_N * 2 - 1,)*3)[CSD_IDX]\n",
    "        np.savez_compressed(f'{ES_PREFIX}_{name}_ES{i:02d}.npz',\n",
    "                            X=convolver.CSD_X.flatten(),\n",
    "                            Y=convolver.CSD_Y.flatten(),\n",
    "                            Z=convolver.CSD_Z.flatten(),\n",
    "                            CSD=_CSD,\n",
    "                            EIGENSOURCE=_ES,\n",
    "                            EIGENVECTOR=_EIGENVECTORS[:, i],\n",
    "                            EIGENVALUE=_EIGENVALUES[i],\n",
    "                            SOURCE_X=convolver.SRC_X.flatten(),\n",
    "                            SOURCE_Y=convolver.SRC_Y.flatten(),\n",
    "                            SOURCE_Z=convolver.SRC_Z.flatten(),\n",
    "                            SOURCE_IDX=ks.source_indices)\n",
    "    else:\n",
    "        _SRC[ks.source_indices] = 0"
   ]
  },
  {
   "cell_type": "code",
   "execution_count": null,
   "metadata": {},
   "outputs": [],
   "source": []
  },
  {
   "cell_type": "markdown",
   "metadata": {},
   "source": [
    "# FEM images"
   ]
  },
  {
   "cell_type": "code",
   "execution_count": 40,
   "metadata": {},
   "outputs": [],
   "source": [
    "FEM_CONFIG_GT = f'FEM/fem_configs/paper/{MODEL_NAME}/{MESH_NAME}_{DEGREE}/{CONFIG_NAME}.ini'"
   ]
  },
  {
   "cell_type": "code",
   "execution_count": 41,
   "metadata": {},
   "outputs": [],
   "source": [
    "import dolfin\n",
    "import FEM.fem_common as fc\n",
    "import scipy.interpolate as si"
   ]
  },
  {
   "cell_type": "code",
   "execution_count": 42,
   "metadata": {},
   "outputs": [],
   "source": [
    "class ForwardModel(object):\n",
    "    # XXX: duplicated code with FEM classes\n",
    "    def __init__(self, config):\n",
    "        self.fm = fc.FunctionManagerINI(config)\n",
    "        \n",
    "        self.V = self.fm.function_space\n",
    "        mesh = self.fm.mesh\n",
    "\n",
    "        n = self.V.dim()\n",
    "        d = mesh.geometry().dim()\n",
    "\n",
    "        self.dof_coords = self.V.tabulate_dof_coordinates()\n",
    "        self.dof_coords.resize((n, d))\n",
    "        \n",
    "        self.csd_f = self.fm.function()\n",
    "        \n",
    "        \n",
    "        mesh_filename = self.fm.getpath('fem', 'mesh')[:-5]\n",
    "        with dolfin.XDMFFile(mesh_filename + '_subdomains.xdmf') as fh:\n",
    "            mvc = dolfin.MeshValueCollection(\"size_t\", mesh, 3)\n",
    "            fh.read(mvc, \"subdomains\")\n",
    "            self.subdomains = dolfin.cpp.mesh.MeshFunctionSizet(mesh, mvc)\n",
    "            self.dx = dolfin.Measure(\"dx\")(subdomain_data=self.subdomains)\n",
    "            \n",
    "            \n",
    "        self.config = configparser.ConfigParser()\n",
    "        self.config.read(self.fm.getpath('fem', 'config'))\n",
    "\n",
    "    @property\n",
    "    def CONDUCTIVITY(self):\n",
    "        for section in self.config.sections():\n",
    "            if self._is_conductive_volume(section):\n",
    "                yield (self.config.getint(section, 'volume'),\n",
    "                       self.config.getfloat(section, 'conductivity'))\n",
    "\n",
    "    def _is_conductive_volume(self, section):\n",
    "        return (self.config.has_option(section, 'volume')\n",
    "                and self.config.has_option(section, 'conductivity')) \n",
    "        \n",
    "    def __call__(self, csd_interpolator):\n",
    "        self.csd_f.vector()[:] = csd_interpolator(self.dof_coords)\n",
    "        \n",
    "        dirichlet_bc_gt = dolfin.DirichletBC(self.V,\n",
    "                                     dolfin.Constant(0),\n",
    "                                     (lambda x, on_boundary:\n",
    "                                      on_boundary and x[2] < GROUNDED_PLATE_AT))\n",
    "        test = self.fm.test_function()\n",
    "        trial = self.fm.trial_function()\n",
    "        potential = self.fm.function()\n",
    "        \n",
    "        \n",
    "        dx = self.dx\n",
    "        a = sum(dolfin.Constant(c)\n",
    "                * dolfin.inner(dolfin.grad(trial),\n",
    "                               dolfin.grad(test))\n",
    "                * dx(i)\n",
    "                for i, c\n",
    "                in self.CONDUCTIVITY)\n",
    "        L = self.csd_f * test * dx\n",
    "        \n",
    "        b = dolfin.assemble(L)\n",
    "        A = dolfin.assemble(a)\n",
    "        dirichlet_bc_gt.apply(A, b)\n",
    "        \n",
    "        solver = dolfin.KrylovSolver(\"cg\", \"ilu\")\n",
    "        solver.parameters[\"maximum_iterations\"] = 10000\n",
    "        solver.parameters[\"absolute_tolerance\"] = 1E-8\n",
    "        # solver.parameters[\"monitor_convergence\"] = True  # Goes to Jupyter server output stream\n",
    "        solver.solve(A, potential.vector(), b)\n",
    "        \n",
    "        return potential"
   ]
  },
  {
   "cell_type": "code",
   "execution_count": 43,
   "metadata": {},
   "outputs": [
    {
     "name": "stdout",
     "output_type": "stream",
     "text": [
      "CPU times: user 26.3 s, sys: 2.72 s, total: 29 s\n",
      "Wall time: 29.1 s\n"
     ]
    }
   ],
   "source": [
    "try:\n",
    "    if FEM_CONFIG_GT != _LAST_FEM_CONFIG_GT:\n",
    "        raise NameError\n",
    "except NameError:\n",
    "    %time fem_gt = ForwardModel(FEM_CONFIG_GT)\n",
    "    _LAST_FEM_CONFIG_GT = FEM_CONFIG_GT"
   ]
  },
  {
   "cell_type": "code",
   "execution_count": 44,
   "metadata": {},
   "outputs": [],
   "source": [
    "def forward_eigensources_to_images(fem, ELECTRODES, eigensource_filenames):\n",
    "    potentials = {ROW.NAME: [] for _, ROW in ELECTRODES.iterrows()}\n",
    "    \n",
    "    for filename in eigensource_filenames:\n",
    "        with np.load(filename) as fh:\n",
    "            XYZ = [fh[c] for c in 'XYZ']\n",
    "            CSD = fh['CSD']\n",
    "        csd_interpolator = si.RegularGridInterpolator(\n",
    "                                  XYZ,\n",
    "                                  CSD,\n",
    "                                  bounds_error=False,\n",
    "                                  fill_value=0)\n",
    "        try:\n",
    "            v = fem(csd_interpolator)\n",
    "        except RuntimeError:\n",
    "            v = lambda x, y, z: np.nan\n",
    "            \n",
    "        for _, ROW in ELECTRODES.iterrows():\n",
    "            potentials[ROW.NAME].append(v(ROW.X, ROW.Y, ROW.Z))\n",
    "\n",
    "    return {name: np.array(a) for name, a in potentials.items()}"
   ]
  },
  {
   "cell_type": "code",
   "execution_count": 47,
   "metadata": {},
   "outputs": [],
   "source": [
    "for name, _electrodes in electrodes.items():\n",
    "    eigenimages = forward_eigensources_to_images(fem_gt,\n",
    "                                       ELECTRODES, \n",
    "                                       [f'{ES_PREFIX}_{name}_ES{i:02d}.npz'\n",
    "                                        for i in range(len(_electrodes))])\n",
    "    np.savez_compressed(f'{ES_PREFIX}_{name}_ES_IMAGES_AT_ELECTRODES.npz',\n",
    "                        **eigenimages)"
   ]
  },
  {
   "cell_type": "code",
   "execution_count": null,
   "metadata": {},
   "outputs": [],
   "source": []
  },
  {
   "cell_type": "markdown",
   "metadata": {},
   "source": [
    "# Reconstructors"
   ]
  },
  {
   "cell_type": "code",
   "execution_count": null,
   "metadata": {},
   "outputs": [],
   "source": [
    "import kesi\n",
    "import kesi._verbose as verbose"
   ]
  },
  {
   "cell_type": "code",
   "execution_count": null,
   "metadata": {},
   "outputs": [],
   "source": [
    "reconstructor_kesi_informed = verbose.VerboseFFR._CrossKernelReconstructor(\n",
    "                         kesi._engine._LinearKernelSolver(\n",
    "                             kesi_kernels_informed.kernel),\n",
    "                         kesi_kernels_informed.cross_kernel)"
   ]
  },
  {
   "cell_type": "code",
   "execution_count": null,
   "metadata": {},
   "outputs": [],
   "source": [
    "reconstructor_kcsd_informed = verbose.VerboseFFR._CrossKernelReconstructor(\n",
    "                         kesi._engine._LinearKernelSolver(\n",
    "                             kcsd_kernels_informed.kernel),\n",
    "                         kcsd_kernels_informed.cross_kernel)"
   ]
  },
  {
   "cell_type": "code",
   "execution_count": null,
   "metadata": {},
   "outputs": [],
   "source": [
    "reconstructor_kesi_naive = verbose.VerboseFFR._CrossKernelReconstructor(\n",
    "                         kesi._engine._LinearKernelSolver(\n",
    "                             kesi_kernels_naive.kernel),\n",
    "                         kesi_kernels_naive.cross_kernel)"
   ]
  },
  {
   "cell_type": "code",
   "execution_count": null,
   "metadata": {},
   "outputs": [],
   "source": [
    "reconstructor_kcsd_naive = verbose.VerboseFFR._CrossKernelReconstructor(\n",
    "                         kesi._engine._LinearKernelSolver(\n",
    "                             kcsd_kernels_naive.kernel),\n",
    "                         kcsd_kernels_naive.cross_kernel)"
   ]
  },
  {
   "cell_type": "code",
   "execution_count": null,
   "metadata": {},
   "outputs": [],
   "source": [
    "reconstructor = [reconstructor_kcsd_informed,\n",
    "                 reconstructor_kesi_informed,\n",
    "                 reconstructor_kcsd_naive,\n",
    "                 reconstructor_kesi_naive]\n",
    "reconstructor_name = ['kCSD informed',\n",
    "                      'kESI informed',\n",
    "                      'kCSD naive',\n",
    "                      'kESI naive']"
   ]
  },
  {
   "cell_type": "code",
   "execution_count": null,
   "metadata": {},
   "outputs": [],
   "source": [
    "def wrap_csd(DATA):\n",
    "    WRAPPED = np.zeros(convolver.shape('CSD'))\n",
    "    WRAPPED[CSD_ALLOWED] = DATA\n",
    "    return WRAPPED"
   ]
  },
  {
   "cell_type": "code",
   "execution_count": null,
   "metadata": {},
   "outputs": [],
   "source": [
    "regularization_parameters = np.logspace(-15, 10, 91)"
   ]
  },
  {
   "cell_type": "code",
   "execution_count": null,
   "metadata": {},
   "outputs": [],
   "source": []
  },
  {
   "cell_type": "markdown",
   "metadata": {},
   "source": [
    "# FEM GT"
   ]
  },
  {
   "cell_type": "code",
   "execution_count": null,
   "metadata": {},
   "outputs": [],
   "source": [
    "EIGENSOURCE_MIXTURE = {\n",
    "                       7: 1.0,\n",
    "#                        2: 1.0,\n",
    "#                        4: 1.0,\n",
    "#                        3: 0.25,\n",
    "                       }"
   ]
  },
  {
   "cell_type": "code",
   "execution_count": null,
   "metadata": {},
   "outputs": [],
   "source": [
    "CSD = 0\n",
    "for es, weight in EIGENSOURCE_MIXTURE.items():\n",
    "    with np.load(f'{ES_PREFIX}_kCSD_ES{es:02d}.npz',) as fh:\n",
    "        XYZ = [fh[c] for c in 'XYZ']\n",
    "        CSD += weight * fh['CSD']"
   ]
  },
  {
   "cell_type": "code",
   "execution_count": null,
   "metadata": {},
   "outputs": [],
   "source": [
    "crude_plot_data(CSD, title='GT')"
   ]
  },
  {
   "cell_type": "code",
   "execution_count": null,
   "metadata": {},
   "outputs": [],
   "source": [
    "import scipy.interpolate as si"
   ]
  },
  {
   "cell_type": "code",
   "execution_count": null,
   "metadata": {},
   "outputs": [],
   "source": [
    "csd_interpolator = si.RegularGridInterpolator([A.flatten() for A in XYZ],\n",
    "                                              CSD,\n",
    "                                              bounds_error=False,\n",
    "                                              fill_value=0)"
   ]
  },
  {
   "cell_type": "code",
   "execution_count": null,
   "metadata": {},
   "outputs": [],
   "source": [
    "FEM_CONFIG_GT = 'FEM/solutions/paper/1SM/finest_3/comb.ini'"
   ]
  },
  {
   "cell_type": "code",
   "execution_count": null,
   "metadata": {},
   "outputs": [],
   "source": [
    "import dolfin\n",
    "import FEM.fem_common as fc"
   ]
  },
  {
   "cell_type": "code",
   "execution_count": null,
   "metadata": {},
   "outputs": [],
   "source": [
    "\n",
    "    "
   ]
  },
  {
   "cell_type": "code",
   "execution_count": null,
   "metadata": {},
   "outputs": [],
   "source": [
    "class ForwardModel(object):\n",
    "    # XXX: duplicated code with FEM classes\n",
    "    def __init__(self, config):\n",
    "        self.fm = fc.FunctionManagerINI(config)\n",
    "        \n",
    "        self.V = self.fm.function_space\n",
    "        mesh = self.fm.mesh\n",
    "\n",
    "        n = self.V.dim()\n",
    "        d = mesh.geometry().dim()\n",
    "\n",
    "        self.dof_coords = self.V.tabulate_dof_coordinates()\n",
    "        self.dof_coords.resize((n, d))\n",
    "        \n",
    "        self.csd_f = self.fm.function()\n",
    "        \n",
    "        \n",
    "        mesh_filename = self.fm.getpath('fem', 'mesh')[:-5]\n",
    "        with dolfin.XDMFFile(mesh_filename + '_subdomains.xdmf') as fh:\n",
    "            mvc = dolfin.MeshValueCollection(\"size_t\", mesh, 3)\n",
    "            fh.read(mvc, \"subdomains\")\n",
    "            self.subdomains = dolfin.cpp.mesh.MeshFunctionSizet(mesh, mvc)\n",
    "            self.dx = dolfin.Measure(\"dx\")(subdomain_data=self.subdomains)\n",
    "            \n",
    "            \n",
    "        self.config = configparser.ConfigParser()\n",
    "        self.config.read(self.fm.getpath('fem', 'config'))\n",
    "\n",
    "    @property\n",
    "    def CONDUCTIVITY(self):\n",
    "        for section in self.config.sections():\n",
    "            if self._is_conductive_volume(section):\n",
    "                yield (self.config.getint(section, 'volume'),\n",
    "                       self.config.getfloat(section, 'conductivity'))\n",
    "\n",
    "    def _is_conductive_volume(self, section):\n",
    "        return (self.config.has_option(section, 'volume')\n",
    "                and self.config.has_option(section, 'conductivity')) \n",
    "        \n",
    "    def __call__(self, csd_interpolator):\n",
    "        self.csd_f.vector()[:] = csd_interpolator(self.dof_coords)\n",
    "        \n",
    "        dirichlet_bc_gt = dolfin.DirichletBC(self.V,\n",
    "                                     dolfin.Constant(0),\n",
    "                                     (lambda x, on_boundary:\n",
    "                                      on_boundary and x[2] < GROUNDED_PLATE_AT))\n",
    "        test = self.fm.test_function()\n",
    "        trial = self.fm.trial_function()\n",
    "        potential = self.fm.function()\n",
    "        \n",
    "        \n",
    "        dx = self.dx\n",
    "        a = sum(dolfin.Constant(c)\n",
    "                * dolfin.inner(dolfin.grad(trial),\n",
    "                               dolfin.grad(test))\n",
    "                * dx(i)\n",
    "                for i, c\n",
    "                in self.CONDUCTIVITY)\n",
    "        L = self.csd_f * test * dx\n",
    "        \n",
    "        b = dolfin.assemble(L)\n",
    "        A = dolfin.assemble(a)\n",
    "        dirichlet_bc_gt.apply(A, b)\n",
    "        \n",
    "        solver = dolfin.KrylovSolver(\"cg\", \"ilu\")\n",
    "        solver.parameters[\"maximum_iterations\"] = 10000\n",
    "        solver.parameters[\"absolute_tolerance\"] = 1E-8\n",
    "        # solver.parameters[\"monitor_convergence\"] = True  # Goes to Jupyter server output stream\n",
    "        solver.solve(A, potential.vector(), b)\n",
    "        \n",
    "        return potential"
   ]
  },
  {
   "cell_type": "code",
   "execution_count": null,
   "metadata": {},
   "outputs": [],
   "source": [
    "try:\n",
    "    if FEM_CONFIG_GT != _LAST_FEM_CONFIG_GT:\n",
    "        raise NameError\n",
    "except NameError:\n",
    "    %time fem_gt = ForwardModel(FEM_CONFIG_GT)\n",
    "    _LAST_FEM_CONFIG_GT = FEM_CONFIG_GT"
   ]
  },
  {
   "cell_type": "code",
   "execution_count": null,
   "metadata": {},
   "outputs": [],
   "source": [
    "%time potential = fem_gt(csd_interpolator)    "
   ]
  },
  {
   "cell_type": "code",
   "execution_count": null,
   "metadata": {},
   "outputs": [],
   "source": [
    "ELE['FEM'] = [potential(x, y, z)\n",
    "              for x, y, z in zip(ELE.X,\n",
    "                                 ELE.Y,\n",
    "                                 ELE.Z)]"
   ]
  },
  {
   "cell_type": "code",
   "execution_count": null,
   "metadata": {},
   "outputs": [],
   "source": []
  },
  {
   "cell_type": "markdown",
   "metadata": {},
   "source": [
    "# CSD reconstruction"
   ]
  },
  {
   "cell_type": "code",
   "execution_count": null,
   "metadata": {},
   "outputs": [],
   "source": []
  },
  {
   "cell_type": "code",
   "execution_count": null,
   "metadata": {},
   "outputs": [],
   "source": [
    "# POTENTIAL = ELE.FEM\n",
    "\n",
    "ES = 0\n",
    "for es, weight in EIGENSOURCE_MIXTURE.items():\n",
    "    ES += weight * EIGENSOURCES[:, es]\n",
    "\n",
    "POTENTIAL_FWD = np.matmul(ES, FWD)"
   ]
  },
  {
   "cell_type": "code",
   "execution_count": null,
   "metadata": {},
   "outputs": [],
   "source": [
    "plt.hist(ELE.FEM - POTENTIAL_FWD)"
   ]
  },
  {
   "cell_type": "code",
   "execution_count": null,
   "metadata": {},
   "outputs": [],
   "source": [
    "plt.scatter(ELE.Z, ELE.FEM - POTENTIAL_FWD)"
   ]
  },
  {
   "cell_type": "code",
   "execution_count": null,
   "metadata": {},
   "outputs": [],
   "source": [
    "plt.scatter(ELE.Z,\n",
    "            (ELE.FEM - POTENTIAL_FWD) / (0.5 * (abs(ELE.FEM) + abs(POTENTIAL_FWD))))"
   ]
  },
  {
   "cell_type": "code",
   "execution_count": null,
   "metadata": {},
   "outputs": [],
   "source": []
  },
  {
   "cell_type": "code",
   "execution_count": null,
   "metadata": {},
   "outputs": [],
   "source": [
    "POTENTIAL = ELE.FEM"
   ]
  },
  {
   "cell_type": "code",
   "execution_count": null,
   "metadata": {},
   "outputs": [],
   "source": [
    "csd_0 = [wrap_csd(rec(POTENTIAL))\n",
    "          for rec in reconstructor]"
   ]
  },
  {
   "cell_type": "code",
   "execution_count": null,
   "metadata": {},
   "outputs": [],
   "source": [
    "l2_0 = [np.sqrt(np.square(CSD - csd).mean()) / np.sqrt(np.square(CSD).mean())\n",
    "          for csd in csd_0]"
   ]
  },
  {
   "cell_type": "code",
   "execution_count": null,
   "metadata": {},
   "outputs": [],
   "source": [
    "list(map('{:e}'.format, l2_0))"
   ]
  },
  {
   "cell_type": "code",
   "execution_count": null,
   "metadata": {},
   "outputs": [],
   "source": [
    "amp = abs(CSD).max()"
   ]
  },
  {
   "cell_type": "code",
   "execution_count": null,
   "metadata": {
    "scrolled": true
   },
   "outputs": [],
   "source": [
    "crude_plot_data(CSD, title='GT')"
   ]
  },
  {
   "cell_type": "code",
   "execution_count": null,
   "metadata": {
    "scrolled": true
   },
   "outputs": [],
   "source": [
    "for rec, name in zip(csd_0, reconstructor_name):\n",
    "    crude_plot_data(rec,\n",
    "                    title=f'{name} no CV',\n",
    "                    amp=amp)"
   ]
  },
  {
   "cell_type": "code",
   "execution_count": null,
   "metadata": {
    "scrolled": true
   },
   "outputs": [],
   "source": [
    "error_0 = [rec - CSD for rec in csd_0]\n",
    "max_err = max(abs(e).max() for e in error_0)\n",
    "\n",
    "for err, name in zip(error_0, reconstructor_name):\n",
    "    crude_plot_data(err,\n",
    "                    title=f'{name} ERR',\n",
    "                    amp=max_err)"
   ]
  },
  {
   "cell_type": "code",
   "execution_count": null,
   "metadata": {},
   "outputs": [],
   "source": []
  },
  {
   "cell_type": "code",
   "execution_count": null,
   "metadata": {},
   "outputs": [],
   "source": [
    "errors = [common.cv(rec, POTENTIAL, regularization_parameters)\n",
    "          for rec in reconstructor]"
   ]
  },
  {
   "cell_type": "code",
   "execution_count": null,
   "metadata": {},
   "outputs": [],
   "source": [
    "regularization_parameter = [regularization_parameters[np.argmin(err)]\n",
    "                            for err in errors]"
   ]
  },
  {
   "cell_type": "code",
   "execution_count": null,
   "metadata": {},
   "outputs": [],
   "source": [
    "for err, rp in zip(errors, regularization_parameter):\n",
    "    plt.figure()\n",
    "    plt.xscale('log')\n",
    "    plt.yscale('log')\n",
    "    plt.plot(regularization_parameters, err)\n",
    "    plt.axvline(rp, color='k')"
   ]
  },
  {
   "cell_type": "code",
   "execution_count": null,
   "metadata": {},
   "outputs": [],
   "source": [
    "csd_cv = [wrap_csd(rec(POTENTIAL, regularization_parameter=rp))\n",
    "          for rec, rp in zip(reconstructor, regularization_parameter)]"
   ]
  },
  {
   "cell_type": "code",
   "execution_count": null,
   "metadata": {},
   "outputs": [],
   "source": [
    "l2_cv = [np.sqrt(np.square(CSD - csd).mean()) / np.sqrt(np.square(CSD).mean())\n",
    "          for csd in csd_cv]"
   ]
  },
  {
   "cell_type": "code",
   "execution_count": null,
   "metadata": {},
   "outputs": [],
   "source": [
    "list(map('{:e}'.format, l2_cv))"
   ]
  },
  {
   "cell_type": "code",
   "execution_count": null,
   "metadata": {},
   "outputs": [],
   "source": [
    "crude_plot_data(CSD, title='GT')"
   ]
  },
  {
   "cell_type": "code",
   "execution_count": null,
   "metadata": {
    "scrolled": false
   },
   "outputs": [],
   "source": [
    "for rec, name in zip(csd_cv, reconstructor_name):\n",
    "    crude_plot_data(rec,\n",
    "                    title=name,\n",
    "                    amp=amp)"
   ]
  },
  {
   "cell_type": "code",
   "execution_count": null,
   "metadata": {
    "scrolled": false
   },
   "outputs": [],
   "source": [
    "error = [rec - CSD for rec in csd_cv]\n",
    "max_err = max(abs(e).max() for e in error)\n",
    "\n",
    "for err, name in zip(error, reconstructor_name):\n",
    "    crude_plot_data(err,\n",
    "                    title=f'{name} ERR',\n",
    "                    amp=max_err)"
   ]
  },
  {
   "cell_type": "code",
   "execution_count": null,
   "metadata": {},
   "outputs": [],
   "source": []
  },
  {
   "cell_type": "code",
   "execution_count": null,
   "metadata": {},
   "outputs": [],
   "source": [
    "reconstructor_kcsd_es = verbose.VerboseFFR._CrossKernelReconstructor(\n",
    "                         kesi._engine._LinearKernelSolver(\n",
    "                             kcsd_kernels_informed.kernel),\n",
    "                         np.matmul(EIGENSOURCES.T,\n",
    "                                   kcsd_kernels_informed._pre_kernel))"
   ]
  },
  {
   "cell_type": "code",
   "execution_count": null,
   "metadata": {},
   "outputs": [],
   "source": [
    "plt.yscale('symlog', linscale=3)\n",
    "plt.stem(reconstructor_kcsd_es(POTENTIAL))\n",
    "_X, _Y = zip(*EIGENSOURCE_MIXTURE.items())\n",
    "plt.scatter(_X, _Y, color=cbf.VERMILION)"
   ]
  },
  {
   "cell_type": "code",
   "execution_count": null,
   "metadata": {},
   "outputs": [],
   "source": [
    "plt.yscale('symlog', linscale=3)\n",
    "plt.stem(reconstructor_kcsd_es(POTENTIAL,\n",
    "                               regularization_parameter=regularization_parameter[0]))\n",
    "_X, _Y = zip(*EIGENSOURCE_MIXTURE.items())\n",
    "plt.scatter(_X, _Y, color=cbf.VERMILION)"
   ]
  },
  {
   "cell_type": "code",
   "execution_count": null,
   "metadata": {},
   "outputs": [],
   "source": []
  },
  {
   "cell_type": "code",
   "execution_count": null,
   "metadata": {},
   "outputs": [],
   "source": [
    "reconstructor_kesi_es = verbose.VerboseFFR._CrossKernelReconstructor(\n",
    "                         kesi._engine._LinearKernelSolver(\n",
    "                             kesi_kernels_informed.kernel),\n",
    "                         np.matmul(EIGENSOURCES_KESI.T,\n",
    "                                   kesi_kernels_informed._pre_kernel))"
   ]
  },
  {
   "cell_type": "code",
   "execution_count": null,
   "metadata": {},
   "outputs": [],
   "source": []
  },
  {
   "cell_type": "code",
   "execution_count": null,
   "metadata": {},
   "outputs": [],
   "source": [
    "for i in range(10):\n",
    "    plt.title(i)\n",
    "    plt.plot(reconstructor_kesi_es(EIGENVECTORS_KESI[:, i],\n",
    "                                   regularization_parameter=0))"
   ]
  },
  {
   "cell_type": "code",
   "execution_count": null,
   "metadata": {},
   "outputs": [],
   "source": [
    "plt.plot(reconstructor_kesi_es(POTENTIAL,\n",
    "                               regularization_parameter=0))\n",
    "plt.plot(reconstructor_kesi_es(POTENTIAL,\n",
    "                               regularization_parameter=1))\n",
    "plt.plot(reconstructor_kesi_es(POTENTIAL,\n",
    "                               regularization_parameter=10))\n",
    "plt.plot(reconstructor_kesi_es(POTENTIAL,\n",
    "                               regularization_parameter=100))\n",
    "plt.yscale('symlog')"
   ]
  },
  {
   "cell_type": "code",
   "execution_count": null,
   "metadata": {},
   "outputs": [],
   "source": [
    "abs(np.matmul(EIGENSOURCES_KESI.T,\n",
    "              FWD)\n",
    "    - np.matmul(np.diag(np.sqrt(EIGENVALUES_KESI)),\n",
    "                EIGENVECTORS_KESI.T)).max()"
   ]
  },
  {
   "cell_type": "code",
   "execution_count": null,
   "metadata": {},
   "outputs": [],
   "source": []
  },
  {
   "cell_type": "code",
   "execution_count": null,
   "metadata": {},
   "outputs": [],
   "source": [
    "es_fwd = []\n",
    "es_fwd_ev = []\n",
    "ev_snr = []\n",
    "fwd_bwd_es = []\n",
    "es_snr = []"
   ]
  },
  {
   "cell_type": "code",
   "execution_count": null,
   "metadata": {},
   "outputs": [],
   "source": [
    "assert len(es_fwd) == len(es_snr)\n",
    "\n",
    "for i in range(len(ev_snr), len(EIGENVALUES_KESI)):\n",
    "    print(i)\n",
    "    with np.load(f'{ES_PREFIX}_kESI_ES{i:02d}.npz',) as fh:\n",
    "        csd_interpolator = si.RegularGridInterpolator([fh[c] for c in 'XYZ'],\n",
    "                                                      fh['CSD'],\n",
    "                                                      bounds_error=False,\n",
    "                                                      fill_value=0)\n",
    "    v_f = fem_gt(csd_interpolator)\n",
    "    V_F = [v_f(x, y, z)\n",
    "           for x, y, z in zip(ELE.X,\n",
    "                              ELE.Y,\n",
    "                              ELE.Y)]\n",
    "    es_fwd.append(V_F)\n",
    "    EVS = abs(np.matmul(V_F, EIGENVECTORS_KESI))\n",
    "    es_fwd_ev.append(EVS)\n",
    "    ev_snr.append(EVS[i] / (EVS.sum() - EVS[i]))\n",
    "    ESS = EVS / np.sqrt(EIGENVALUES_KESI)\n",
    "    fwd_bwd_es.append(ESS)\n",
    "    es_snr.append(ESS[i] / (ESS.sum() - ESS[i]))"
   ]
  },
  {
   "cell_type": "code",
   "execution_count": null,
   "metadata": {},
   "outputs": [],
   "source": [
    "plt.plot(ev_snr, ls='none', marker='o')\n",
    "plt.yscale('log')\n",
    "plt.axhline(1, ls=':', color='k')"
   ]
  },
  {
   "cell_type": "code",
   "execution_count": null,
   "metadata": {},
   "outputs": [],
   "source": [
    "plt.plot(es_snr, ls='none', marker='o')\n",
    "plt.yscale('log')\n",
    "plt.axhline(1, ls=':', color='k')"
   ]
  },
  {
   "cell_type": "code",
   "execution_count": null,
   "metadata": {},
   "outputs": [],
   "source": []
  },
  {
   "cell_type": "code",
   "execution_count": null,
   "metadata": {},
   "outputs": [],
   "source": [
    "np.dot(EIGENVECTORS[:, 0], EIGENVECTORS_KESI[:, 0])"
   ]
  },
  {
   "cell_type": "code",
   "execution_count": null,
   "metadata": {},
   "outputs": [],
   "source": [
    "np.dot(EIGENSOURCES[:, 0], EIGENSOURCES_KESI[:, 0])"
   ]
  },
  {
   "cell_type": "code",
   "execution_count": null,
   "metadata": {},
   "outputs": [],
   "source": [
    "import json"
   ]
  },
  {
   "cell_type": "code",
   "execution_count": null,
   "metadata": {},
   "outputs": [],
   "source": [
    "json.dumps(list(map(list, ALIASING)))"
   ]
  },
  {
   "cell_type": "code",
   "execution_count": null,
   "metadata": {},
   "outputs": [],
   "source": [
    "%timeit\n",
    "EIGENSOURCES = np.matmul(PHI,\n",
    "                         np.matmul(EIGENVECTORS,\n",
    "                                   np.diag(1. / np.sqrt(EIGENVALUES))))\n",
    "CORR = FWD - PHI\n",
    "CORR_POT = np.matmul(EIGENSOURCES.T, CORR)\n",
    "CORR_EV = np.matmul(CORR_POT, EIGENVECTORS)\n",
    "CORR_ES = np.matmul(CORR_EV, np.diag(1 / np.sqrt(EIGENVALUES)))"
   ]
  },
  {
   "cell_type": "code",
   "execution_count": null,
   "metadata": {},
   "outputs": [],
   "source": [
    "%timeit\n",
    "EVS = np.matmul(EIGENVECTORS,\n",
    "                np.diag(1. / np.sqrt(EIGENVALUES)))\n",
    "CORR_ES2 = np.matmul(EVS.T,\n",
    "                     np.matmul(np.matmul(PHI.T, FWD),\n",
    "                               EVS)) - np.identity(len(EIGENVALUES))"
   ]
  },
  {
   "cell_type": "code",
   "execution_count": null,
   "metadata": {},
   "outputs": [],
   "source": [
    "abs(CORR_ES - CORR_ES2).max()"
   ]
  },
  {
   "cell_type": "code",
   "execution_count": null,
   "metadata": {},
   "outputs": [],
   "source": []
  },
  {
   "cell_type": "code",
   "execution_count": null,
   "metadata": {},
   "outputs": [],
   "source": []
  },
  {
   "cell_type": "code",
   "execution_count": null,
   "metadata": {},
   "outputs": [],
   "source": []
  },
  {
   "cell_type": "markdown",
   "metadata": {},
   "source": [
    "# mean-centered montage"
   ]
  },
  {
   "cell_type": "code",
   "execution_count": null,
   "metadata": {},
   "outputs": [],
   "source": [
    "m, n = kesi_kernels_informed._pre_kernel.shape\n",
    "threshold = 1"
   ]
  },
  {
   "cell_type": "code",
   "execution_count": null,
   "metadata": {},
   "outputs": [],
   "source": [
    "TRANS = np.identity(n) - np.ones((n, n)) / n"
   ]
  },
  {
   "cell_type": "code",
   "execution_count": null,
   "metadata": {},
   "outputs": [],
   "source": [
    "FWD = np.matmul(kesi_kernels_informed._pre_kernel * m, TRANS)\n",
    "PHI = np.matmul(kcsd_kernels_informed._pre_kernel * m, TRANS)\n",
    "KERNEL = np.matmul(np.matmul(TRANS,\n",
    "                             kcsd_kernels_informed.kernel * m),\n",
    "                   TRANS)"
   ]
  },
  {
   "cell_type": "code",
   "execution_count": null,
   "metadata": {},
   "outputs": [],
   "source": [
    "EIGENVALUES, EIGENVECTORS = np.linalg.eigh(KERNEL)\n",
    "EIGENVALUES, EIGENVECTORS = EIGENVALUES[::-1], EIGENVECTORS[:, ::-1]\n",
    "LAMBDA = np.sqrt(EIGENVALUES)\n",
    "EIGENSOURCES = np.matmul(PHI,\n",
    "                         np.matmul(EIGENVECTORS,\n",
    "                                   np.diag(1. / LAMBDA)))\n",
    "\n",
    "CORR = FWD - PHI\n",
    "CORR_POT = np.matmul(EIGENSOURCES.T, CORR)\n",
    "CORR_EV = np.matmul(CORR_POT, EIGENVECTORS)\n",
    "\n",
    "plt.figure(figsize=(12, 12))\n",
    "plt.subplot(2, 2, 1)\n",
    "\n",
    "v_max = abs(CORR_EV).max()\n",
    "plt.imshow(CORR_EV,\n",
    "           cmap=cbf.PRGn, vmax=v_max, vmin=-v_max)\n",
    "plt.ylabel('ES')\n",
    "plt.xlabel('EV aliasing')\n",
    "plt.colorbar()\n",
    "\n",
    "CORR_ES = np.matmul(CORR_EV, np.diag(1 / LAMBDA))\n",
    "\n",
    "plt.subplot(2, 2, 2)\n",
    "threshold = abs(CORR_ES).max()\n",
    "plt.imshow(CORR_ES,\n",
    "           cmap=cbf.bwr, vmax=threshold, vmin=-threshold)\n",
    "plt.ylabel('ES')\n",
    "plt.xlabel('ES aliasing')\n",
    "plt.colorbar()\n",
    "\n",
    "EV_I = LAMBDA.reshape(-1, 1)\n",
    "EV_J = LAMBDA.reshape(1, -1)\n",
    "A_II = np.diag(CORR_EV).reshape(-1, 1)\n",
    "\n",
    "NSR_MIN = np.ma.masked_invalid(np.square(CORR_EV / (EV_I + A_II) * np.minimum(EV_I / EV_J, 1)))\n",
    "np.fill_diagonal(NSR_MIN, 0)\n",
    "\n",
    "_NSR = NSR_MIN\n",
    "\n",
    "plt.subplot(2, 2, 3)\n",
    "threshold_nsr = _NSR.max()\n",
    "\n",
    "plt.imshow(_NSR,\n",
    "           cmap=cbf.bwr, vmax=threshold_nsr, vmin=-threshold_nsr)\n",
    "plt.ylabel('ES')\n",
    "plt.xlabel('Minimal NSR by ES')\n",
    "plt.colorbar()\n",
    "\n",
    "plt.subplot(2, 2, 4)\n",
    "plt.plot(NSR_MIN.sum(axis=1),\n",
    "         range(len(_NSR)),\n",
    "         marker='.')\n",
    "plt.ylabel('ES')\n",
    "#     plt.xscale('log')\n",
    "plt.xlabel('Minimal NSR')"
   ]
  },
  {
   "cell_type": "code",
   "execution_count": null,
   "metadata": {},
   "outputs": [],
   "source": [
    "plt.plot(EIGENVALUES)\n",
    "plt.yscale('log')"
   ]
  },
  {
   "cell_type": "code",
   "execution_count": null,
   "metadata": {},
   "outputs": [],
   "source": [
    "ELECTRODES.Z.min()"
   ]
  },
  {
   "cell_type": "code",
   "execution_count": null,
   "metadata": {},
   "outputs": [],
   "source": [
    "np.linalg.det(KERNEL), np.linalg.det(kcsd_kernels_informed.kernel * m)"
   ]
  },
  {
   "cell_type": "code",
   "execution_count": null,
   "metadata": {},
   "outputs": [],
   "source": [
    "KERNEL_KESI = np.matmul(np.matmul(TRANS,\n",
    "                                  kesi_kernels_informed.kernel * m),\n",
    "                        TRANS)"
   ]
  },
  {
   "cell_type": "code",
   "execution_count": null,
   "metadata": {},
   "outputs": [],
   "source": []
  },
  {
   "cell_type": "code",
   "execution_count": null,
   "metadata": {},
   "outputs": [],
   "source": []
  },
  {
   "cell_type": "code",
   "execution_count": null,
   "metadata": {},
   "outputs": [],
   "source": [
    "np.meshgrid?"
   ]
  },
  {
   "cell_type": "code",
   "execution_count": null,
   "metadata": {},
   "outputs": [],
   "source": [
    "convolver.leadfield_to_base_potentials?"
   ]
  },
  {
   "cell_type": "code",
   "execution_count": null,
   "metadata": {},
   "outputs": [],
   "source": [
    "E_SRC = np.zeros(convolver.shape('SRC'))\n",
    "try:\n",
    "    del E_X\n",
    "except:\n",
    "    pass\n",
    "\n",
    "_ELE_Z = np.linspace(0.04, 0.089, 129).reshape(-1, 1)\n",
    "\n",
    "for i in range(3):\n",
    "    print(i)\n",
    "    with np.load(f'{ES_PREFIX}_kESI_ES{i:02d}.npz',) as fh:\n",
    "        _CSD = fh['CSD']\n",
    "        _X, _Y, _Z = [fh[c] for c in 'XYZ']\n",
    "        csd_interpolator = si.RegularGridInterpolator([_X, _Y, _Z],\n",
    "                                                      _CSD,\n",
    "                                                      bounds_error=False,\n",
    "                                                      fill_value=0)\n",
    "        v_f = fem_gt(csd_interpolator)\n",
    "        \n",
    "        try:\n",
    "            E_X\n",
    "        except:\n",
    "            E_X, E_Y, E_Z = np.meshgrid(_X, _Y, _Z,\n",
    "                                        indexing='ij')\n",
    "            E_X, E_Y, E_Z = [A[SRC_IDX_INFORMED].reshape(1, -1)\n",
    "                             for A in [E_X, E_Y, E_Z]]\n",
    "\n",
    "        _ES = fh['EIGENSOURCE'].reshape(1, -1)\n",
    "        \n",
    "        _V_KCSD = (model_src.potential(E_X, E_Y, E_Z - _ELE_Z) * _ES).sum(axis=1)\n",
    "        _V_KESI = [v_f(0, 0, z) for z in _ELE_Z]\n",
    "        \n",
    "    plt.figure()\n",
    "    plt.title(i)\n",
    "    plt.plot(_ELE_Z, _V_KCSD, label='kCSD')\n",
    "    plt.plot(_ELE_Z, _V_KESI, label='kESI')\n",
    "    plt.legend(loc='best')"
   ]
  },
  {
   "cell_type": "code",
   "execution_count": null,
   "metadata": {},
   "outputs": [],
   "source": [
    "SRC_R_MAX"
   ]
  },
  {
   "cell_type": "code",
   "execution_count": null,
   "metadata": {
    "scrolled": false
   },
   "outputs": [],
   "source": [
    "_ELE_Z = np.linspace(-0.04, 0.089, 1025)\n",
    "\n",
    "_X_2 = np.linspace(-SRC_R_MAX, SRC_R_MAX, 257)\n",
    "\n",
    "try:\n",
    "    del _CSD_2\n",
    "except:\n",
    "    pass\n",
    "\n",
    "for i in range(1, 40):\n",
    "    z = 0.089 - 1 * i * SRC_R_MAX\n",
    "    z_img_flat =  2 * 0.090 - z\n",
    "    \n",
    "    # optic stuff\n",
    "    _f = 0.09 / 2\n",
    "    _vf = 0.09 - _f\n",
    "    _ao = 1.\n",
    "    _fo = z - _f\n",
    "    _bi = _ao * _vf / _fo  # amp**(1/3)\n",
    "    _fi = _bi * _vf / _ao\n",
    "    \n",
    "    z_img = _f + _fi\n",
    "    amp_img = _bi ** 3\n",
    "    print(f'{i}\\t{z:.4g}\\t{z_img:.4g}\\t{amp_img:.4g}')\n",
    "    \n",
    "    _src = common.SphericalSplineSourceKCSD(0, 0, z,\n",
    "                                            [sd, 3 * sd],\n",
    "                                            [[1],\n",
    "                                             [0,\n",
    "                                              2.25 / sd,\n",
    "                                              -1.5 / sd ** 2,\n",
    "                                              0.25 / sd ** 3]],\n",
    "                                            conductivity)\n",
    "    _src_img = common.SphericalSplineSourceKCSD(0, 0, z_img,\n",
    "                                            [sd, 3 * sd],\n",
    "                                            [[1],\n",
    "                                             [0,\n",
    "                                              2.25 / sd,\n",
    "                                              -1.5 / sd ** 2,\n",
    "                                              0.25 / sd ** 3]],\n",
    "                                            conductivity)\n",
    "    _src_img_flat = common.SphericalSplineSourceKCSD(0, 0, z_img_flat,\n",
    "                                            [sd, 3 * sd],\n",
    "                                            [[1],\n",
    "                                             [0,\n",
    "                                              2.25 / sd,\n",
    "                                              -1.5 / sd ** 2,\n",
    "                                              0.25 / sd ** 3]],\n",
    "                                            conductivity)\n",
    "\n",
    "    \n",
    "    _V_KCSD = _src.potential(0, 0, _ELE_Z)\n",
    "    _V_IMG = _V_KCSD + amp_img * _src_img.potential(0, 0, _ELE_Z)\n",
    "    _V_IMG_FLAT = _V_KCSD + _src_img_flat.potential(0, 0, _ELE_Z)\n",
    "\n",
    "    try:\n",
    "        _CSD_2\n",
    "    except:\n",
    "        _CSD_2 = _src.csd(_X_2.reshape(-1, 1, 1),\n",
    "                          _X_2.reshape(1, -1, 1),\n",
    "                          z + _X_2.reshape(1, 1, -1))\n",
    "        \n",
    "    \n",
    "    csd_interpolator = si.RegularGridInterpolator([_X_2, _X_2, _X_2 + z],\n",
    "                                                  _CSD_2,\n",
    "                                                  bounds_error=False,\n",
    "                                                  fill_value=0)\n",
    "    v_f = fem_gt(csd_interpolator)\n",
    "    _V_KESI = np.array([v_f(0, 0, z) for z in _ELE_Z])\n",
    "    \n",
    "    plt.figure(figsize=(12, 6))\n",
    "    plt.subplot(1, 2, 1)\n",
    "    plt.title(z)\n",
    "    plt.plot(_ELE_Z, _V_KCSD, label='kCSD', ls='-')\n",
    "    plt.plot(_ELE_Z, _V_KESI, label='FEM', ls='--')\n",
    "    plt.plot(_ELE_Z, _V_IMG, label='$IMG_{almost}$', ls=':')\n",
    "    plt.plot(_ELE_Z, _V_IMG_FLAT, label='$IMG_{flat}$', ls='-.')\n",
    "    plt.legend(loc='best')\n",
    "    \n",
    "    plt.subplot(1, 2, 2)\n",
    "    plt.title('ERR to FEM')\n",
    "    plt.plot(_ELE_Z, _V_KCSD - _V_KESI, label='kCSD', ls='-')\n",
    "    plt.plot(_ELE_Z, _V_IMG - _V_KESI, label='$IMG_{almost}$', ls='--')\n",
    "    plt.plot(_ELE_Z, _V_IMG_FLAT - _V_KESI, label='$IMG_{flat}$', ls=':')\n",
    "    plt.legend(loc='best')\n"
   ]
  },
  {
   "cell_type": "code",
   "execution_count": null,
   "metadata": {
    "scrolled": false
   },
   "outputs": [],
   "source": [
    "_ELE_Z = np.linspace(-0.04, 0.089, 1025)\n",
    "\n",
    "_X_2 = np.linspace(-SRC_R_MAX, SRC_R_MAX, 257)\n",
    "\n",
    "try:\n",
    "    del _CSD_2\n",
    "except:\n",
    "    pass\n",
    "\n",
    "for i in range(1, 40):\n",
    "    z = 0.089 - 1 * i * SRC_R_MAX\n",
    "    z_img_flat =  2 * 0.090 - z\n",
    "    \n",
    "    # optic stuff\n",
    "    _f = 0.09 / 2\n",
    "    _vf = 0.09 - _f\n",
    "    _ao = 1.\n",
    "    _fo = z - _f\n",
    "    _bi = _ao * _vf / _fo  # amp**(1/3)\n",
    "    _fi = _bi * _vf / _ao\n",
    "    \n",
    "    z_img = _f + _fi\n",
    "    amp_img = _bi ** 3\n",
    "    print(f'{i}\\t{z:.4g}\\t{z_img:.4g}\\t{amp_img:.4g}')\n",
    "    \n",
    "    _src = common.SphericalSplineSourceKCSD(0, 0, z,\n",
    "                                            [sd, 3 * sd],\n",
    "                                            [[1],\n",
    "                                             [0,\n",
    "                                              2.25 / sd,\n",
    "                                              -1.5 / sd ** 2,\n",
    "                                              0.25 / sd ** 3]],\n",
    "                                            conductivity)\n",
    "    _src_img = common.SphericalSplineSourceKCSD(0, 0, z_img,\n",
    "                                            [sd, 3 * sd],\n",
    "                                            [[1],\n",
    "                                             [0,\n",
    "                                              2.25 / sd,\n",
    "                                              -1.5 / sd ** 2,\n",
    "                                              0.25 / sd ** 3]],\n",
    "                                            conductivity)\n",
    "    _src_img_flat = common.SphericalSplineSourceKCSD(0, 0, z_img_flat,\n",
    "                                            [sd, 3 * sd],\n",
    "                                            [[1],\n",
    "                                             [0,\n",
    "                                              2.25 / sd,\n",
    "                                              -1.5 / sd ** 2,\n",
    "                                              0.25 / sd ** 3]],\n",
    "                                            conductivity)\n",
    "\n",
    "    \n",
    "    _V_KCSD = _src.potential(0, 0, _ELE_Z)\n",
    "    _V_IMG = _V_KCSD + amp_img * _src_img.potential(0, 0, _ELE_Z)\n",
    "    _V_IMG_FLAT = _V_KCSD + _src_img_flat.potential(0, 0, _ELE_Z)\n",
    "\n",
    "    try:\n",
    "        _CSD_2\n",
    "    except:\n",
    "        _CSD_2 = _src.csd(_X_2.reshape(-1, 1, 1),\n",
    "                          _X_2.reshape(1, -1, 1),\n",
    "                          z + _X_2.reshape(1, 1, -1))\n",
    "        \n",
    "    \n",
    "    csd_interpolator = si.RegularGridInterpolator([_X_2, _X_2, _X_2 + z],\n",
    "                                                  _CSD_2,\n",
    "                                                  bounds_error=False,\n",
    "                                                  fill_value=0)\n",
    "    v_f = fem_gt(csd_interpolator)\n",
    "    _V_KESI = np.array([v_f(0, 0, z) for z in _ELE_Z])\n",
    "    \n",
    "    plt.figure(figsize=(12, 6))\n",
    "    plt.subplot(1, 2, 1)\n",
    "    plt.title(z)\n",
    "    plt.plot(_ELE_Z, _V_KCSD, label='kCSD', ls='-')\n",
    "    plt.plot(_ELE_Z, _V_KESI, label='FEM', ls='--')\n",
    "    plt.plot(_ELE_Z, _V_IMG, label='$IMG_{almost}$', ls=':')\n",
    "    plt.plot(_ELE_Z, _V_IMG_FLAT, label='$IMG_{flat}$', ls='-.')\n",
    "    plt.legend(loc='best')\n",
    "    \n",
    "    plt.subplot(1, 2, 2)\n",
    "    plt.title('ERR to FEM')\n",
    "    plt.plot(_ELE_Z, _V_KCSD - _V_KESI, label='kCSD', ls='-')\n",
    "    plt.plot(_ELE_Z, _V_IMG - _V_KESI, label='$IMG_{almost}$', ls='--')\n",
    "    plt.plot(_ELE_Z, _V_IMG_FLAT - _V_KESI, label='$IMG_{flat}$', ls=':')\n",
    "    plt.legend(loc='best')\n"
   ]
  },
  {
   "cell_type": "markdown",
   "metadata": {},
   "source": [
    "Paraxial approximation should work well for depths 59-74 mm."
   ]
  },
  {
   "cell_type": "code",
   "execution_count": null,
   "metadata": {},
   "outputs": [],
   "source": [
    "electrode._X"
   ]
  },
  {
   "cell_type": "code",
   "execution_count": 55,
   "metadata": {},
   "outputs": [
    {
     "data": {
      "text/plain": [
       "6292"
      ]
     },
     "execution_count": 55,
     "metadata": {},
     "output_type": "execute_result"
    }
   ],
   "source": [
    "len(kernels['kesi_informed']._pre_kernel)"
   ]
  },
  {
   "cell_type": "code",
   "execution_count": 56,
   "metadata": {},
   "outputs": [
    {
     "data": {
      "text/plain": [
       "(85, 39, 185)"
      ]
     },
     "execution_count": 56,
     "metadata": {},
     "output_type": "execute_result"
    }
   ],
   "source": [
    "convolver.shape('SRC')"
   ]
  },
  {
   "cell_type": "code",
   "execution_count": null,
   "metadata": {},
   "outputs": [],
   "source": []
  }
 ],
 "metadata": {
  "kernelspec": {
   "display_name": "Python [conda env:kesi36]",
   "language": "python",
   "name": "conda-env-kesi36-py"
  },
  "language_info": {
   "codemirror_mode": {
    "name": "ipython",
    "version": 3
   },
   "file_extension": ".py",
   "mimetype": "text/x-python",
   "name": "python",
   "nbconvert_exporter": "python",
   "pygments_lexer": "ipython3",
   "version": "3.6.13"
  }
 },
 "nbformat": 4,
 "nbformat_minor": 4
}
