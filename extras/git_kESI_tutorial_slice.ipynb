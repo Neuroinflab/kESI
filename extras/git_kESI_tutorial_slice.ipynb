{
 "cells": [
  {
   "cell_type": "markdown",
   "metadata": {},
   "source": [
    "# Requirements\n",
    "\n",
    "## Memory\n",
    "\n",
    "The code of the notebook requires at least 22 GB (20 GiB) of free memory.\n",
    "\n",
    "\n",
    "## Environment\n",
    "\n",
    "1. Anaconda Python distribution (tested with _Miniconda3-py39\\_4.12.0-Linux-x86\\_64.sh_, _conda v. 4.12.0_).\n",
    "2. Jupyter server (see _extras/jupyter\\_server.sh_ for details).\n",
    "3. Anaconda environments (run _setup\\_conda\\_envs.sh_).\n",
    "4. gmsh (not necessary if you already have meshes in either MSH or XDMF format).\n",
    "\n",
    "\n",
    "## Setup\n",
    "\n",
    "### Mesh\n",
    "\n",
    "You need to have a mesh in XDMF format.  Try:\n",
    "\n",
    "    conda activate kesi37\n",
    "    cd extras/FEM/meshes\n",
    "    snakemake meshes/circular_slice/fine.xdmf -j 1\n",
    "    \n",
    "It may take a while.  At least 240 MB (230 MiB) of free memory is necessary.\n",
    "\n",
    "Now you have the following files created:\n",
    "- _meshes/circular\\_slice/fine.xdmf_,\n",
    "- _meshes/circular\\_slice/fine.h5_,\n",
    "- _meshes/circular\\_slice/fine\\_boundaries.xdmf_,\n",
    "- _meshes/circular\\_slice/fine\\_boundaries.h5_,\n",
    "- _meshes/circular\\_slice/fine\\_subdomains.xdmf_,\n",
    "- _meshes/circular\\_slice/fine\\_subdomains.h5_\n",
    "\n",
    "(_\\*.xdmf_ files are headers for _\\*.h5_ files).  The files are derived from _meshes/circular\\_slice/fine.msh_ mesh saved in _gmsh_ format, which is created from blueprint in the _meshes/circular\\_slice/fine.geo_.  The blueprint itself is derived from a template _circular\\_slice.geo.template_.  \n",
    "\n",
    "The template may also be used to derive meshes of other resolutions:\n",
    "- _meshes/circular\\_slice/finest.xdmf_,\n",
    "- _meshes/circular\\_slice/finer.xdmf_,\n",
    "- _meshes/circular\\_slice/normal.xdmf_,\n",
    "- _meshes/circular\\_slice/coarse.xdmf_,\n",
    "- _meshes/circular\\_slice/coarser.xdmf_, and\n",
    "- _meshes/circular\\_slice/coarsest.xdmf_.\n",
    "\n",
    "For the circular slice geometry also the _meshes/circular_slice_composite/mesh.xdmf_ mesh (with more complex structure) can be derived."
   ]
  },
  {
   "cell_type": "markdown",
   "metadata": {},
   "source": [
    "### Model properties\n",
    "\n",
    "For every mesh additional information is necessary, like conductivity of its compartments.  Such information is stored in the following files (appropriate for the tutorial marked in bold) in the _extras/FEM/model\\_properties_ directory:\n",
    "- **_circular\\_slice.ini_**,\n",
    "- _single\\_sphere.ini_,\n",
    "- _four\\_spheres\\_csf\\_1\\_mm.ini_,\n",
    "- _four\\_spheres\\_csf\\_1\\_mm\\_separate\\_cortex.ini_, and\n",
    "- _four\\_spheres\\_csf\\_3\\_mm.ini_.\n",
    "\n",
    "Format of such file is:\n",
    "\n",
    "    [<compartment name>]\n",
    "    volume = <volume number>\n",
    "    conductivity = <conductivity in SI units>\n",
    "    \n",
    "for a compartment and:\n",
    "\n",
    "    [<surface name>]\n",
    "    surface = <surface number>\n",
    "    \n",
    "for a boundary.  Additional information may be provided, like radius, thickness, or conductivity associated with external surface for subtraction method."
   ]
  },
  {
   "cell_type": "markdown",
   "metadata": {},
   "source": [
    "### Electrodes\n",
    "\n",
    "In the _extras/FEM/electrode\\_locations_ you can find examplary positions of electrodes in appropriate sections of INI files:\n",
    "\n",
    "    [<electrode name>]\n",
    "    x = <X coordinate in meters>\n",
    "    y = <Y coordinate in meters>\n",
    "    z = <Z coordinate in meters>\n",
    "\n",
    "Lets define positions of three point electrodes:\n",
    "\n",
    "    [first]\n",
    "    x = 0\n",
    "    y = 0\n",
    "    z = 0.5e-4\n",
    "    \n",
    "    [second]\n",
    "    x = 0.5e-4\n",
    "    y = 0\n",
    "    z = 1.5e-4\n",
    "    \n",
    "    [third]\n",
    "    x = 0.5e-4\n",
    "    y = -0.5e-4\n",
    "    z = 2.5e-4\n",
    "\n",
    "Write the positions as _extras/FEM/electrode\\_locations/tutorial/slice.ini_."
   ]
  },
  {
   "cell_type": "markdown",
   "metadata": {},
   "source": [
    "# Preprocessing\n",
    "\n",
    "## Calculation of the leadfield correction\n",
    "\n",
    "For every electrode we use Finite Element Method (FEM) to calculate the leadfield correction (at least 3 GB of free RAM is required):\n",
    "\n",
    "    cd extras\n",
    "    python paper_solve_slice_on_plate.py \\\n",
    "      --mesh FEM/meshes/meshes/circular_slice/fine.xdmf \\\n",
    "      --degree 3 \\\n",
    "      --config FEM/model_properties/circular_slice.ini \\\n",
    "      --electrodes FEM/electrode_locations/tutorial/slice.ini \\\n",
    "      --name first \\\n",
    "      --output FEM/solutions/tutorial/slice/first.ini\n",
    "    python paper_solve_slice_on_plate.py \\\n",
    "      --mesh FEM/meshes/meshes/circular_slice/fine.xdmf \\\n",
    "      --degree 3 \\\n",
    "      --config FEM/model_properties/circular_slice.ini \\\n",
    "      --electrodes FEM/electrode_locations/tutorial/slice.ini \\\n",
    "      --name second \\\n",
    "      --output FEM/solutions/tutorial/slice/second.ini\n",
    "    python paper_solve_slice_on_plate.py \\\n",
    "      --mesh FEM/meshes/meshes/circular_slice/fine.xdmf \\\n",
    "      --degree 3 \\\n",
    "      --config FEM/model_properties/circular_slice.ini \\\n",
    "      --electrodes FEM/electrode_locations/tutorial/slice.ini \\\n",
    "      --name third \\\n",
    "      --output FEM/solutions/tutorial/slice/third.ini\n",
    "\n",
    "> Note, that for slice geometry a dedicated tool\n",
    "> `paper_solve_slice_on_plate.py` is used.\n",
    "\n",
    "| Parameter  | Description  |\n",
    "|:------------|:--------------|\n",
    "| `--mesh`   | FEM mesh |\n",
    "| `--degree` | degree of FEM elements |\n",
    "| `--config` | physical model configuration (conductivity of subdomains etc.) |\n",
    "| `--electrodes` | definition of electrode positions |\n",
    "| `--name` | name of the electrode for which leadfield correction is to be calculated |\n",
    "| `--output` | _\\*.ini_ file for solution metadata (path to the file with the calculated function is the same up to the _*.h5_ extension) |"
   ]
  },
  {
   "cell_type": "markdown",
   "metadata": {},
   "source": [
    "## Sampling of the leadfield correction\n",
    "\n",
    "We sample the correction on NxNxN grid, where `N = 2**K + 1`:\n",
    "\n",
    "    mkdir -p FEM/solutions/tutorial/slice/sampled/9/\n",
    "    python paper_sample_slice_solution.py \\\n",
    "      -k 9 \\\n",
    "      --sampling-radius 0.0003 \\\n",
    "      --config FEM/solutions/tutorial/slice/first.ini \\\n",
    "      --output FEM/solutions/tutorial/slice/sampled/9/first.npz\n",
    "    python paper_sample_slice_solution.py \\\n",
    "      -k 9 \\\n",
    "      --sampling-radius 0.0003 \\\n",
    "      --config FEM/solutions/tutorial/slice/second.ini \\\n",
    "      --output FEM/solutions/tutorial/slice/sampled/9/second.npz\n",
    "    python paper_sample_slice_solution.py \\\n",
    "      -k 9 \\\n",
    "      --sampling-radius 0.0003 \\\n",
    "      --config FEM/solutions/tutorial/slice/third.ini \\\n",
    "      --output FEM/solutions/tutorial/slice/sampled/9/third.npz\n",
    "\n",
    "It may take several hours  (at least 1.8 GB of free RAM is required).\n",
    "\n",
    "> Note, that for slice geometry a dedicated tool `paper_sample_slice_solution.py` is used.\n",
    "\n",
    "| Parameter  | Description  |\n",
    "|:------------|:--------------|\n",
    "| `-k`   | binary logarithm of sample number in each dimansion (which is `2**k + 1`) |\n",
    "| `--sampling-radius` | edge of the sampled cube |\n",
    "| `--config` | the solution metadata |\n",
    "| `--output` | file for the sampled solution |"
   ]
  },
  {
   "cell_type": "markdown",
   "metadata": {},
   "source": [
    "# FRR: Fast Reciprocal Reconstructor kernel construction tools\n",
    "\n",
    "The `_fast_reciprocal_reconstructor` module contains tools which allow for fast construction of (cross)kernels.  They use discrete Fourier transform (FFT) for high throughput integration."
   ]
  },
  {
   "cell_type": "markdown",
   "metadata": {},
   "source": [
    "## Electrode object\n",
    "\n",
    "An electrode object contains information about electrode spatial location (`.x`, `.y` and `.z` attribute), which is an absolute minimum to be used by kESI (in this case: kCSD with known base function in potential space).  It may also provide additional information about:\n",
    "- leadfield (`.leadfield()` method) which enables kESI for arbitrary base function in CSD space, or\n",
    "- leadfield correction (`.correction_leadfield()` method) which enables kESI for setups violating kCSD assumptions,\n",
    "  while facilitating application of analitically derived kCSD base functions to avoid significant numerical errors,\n",
    "- base conductivity (`.base_conductivity` attribute) assumed when calculating the leadfield correction,\n",
    "- grid used to sample the leadfield correction (`.SAMPLING_GRID` attribute)."
   ]
  },
  {
   "cell_type": "code",
   "execution_count": null,
   "metadata": {},
   "outputs": [],
   "source": [
    "import numpy as np\n",
    "import scipy.interpolate as si\n",
    "\n",
    "class Electrode(object):\n",
    "    def __init__(self, filename, dx=0):\n",
    "        \"\"\"\n",
    "        Parameters\n",
    "        ----------\n",
    "        \n",
    "        filename : str\n",
    "            Path to the sampled correction potential.\n",
    "            \n",
    "        dx : float\n",
    "            Integration step used to calculate a regularization\n",
    "            parameter of the `.leadfield()` method.\n",
    "        \"\"\"\n",
    "        self.filename = filename\n",
    "        self.dx = dx\n",
    "        with np.load(filename) as fh:\n",
    "            self.SAMPLING_GRID = [fh[c] for c in 'XYZ']\n",
    "            self.x, self.y, self.z = fh['LOCATION']\n",
    "            self.base_conductivity = fh['BASE_CONDUCTIVITY']\n",
    "\n",
    "    @property\n",
    "    def _epsilon(self):\n",
    "        \"\"\"\n",
    "        Regularization parameter of the `.leadfield()` method.\n",
    "        \n",
    "        Note\n",
    "        ----\n",
    "        \n",
    "        The 0.15 factor choice has been based on a toy numerical experiment.\n",
    "        Further, more rigorous experiments are definitely recommended.\n",
    "        \"\"\"\n",
    "        return 0.15 * self.dx\n",
    "\n",
    "    def correction_leadfield(self, X, Y, Z):\n",
    "        \"\"\"\n",
    "        Correction of the leadfield of the electrode\n",
    "        for violation of kCSD assumptions\n",
    "        \n",
    "        Parameters\n",
    "        ----------\n",
    "        X, Y, Z : np.array\n",
    "            Coordinate matrices of the same shape.\n",
    "        \"\"\"\n",
    "        with np.load(self.filename) as fh:\n",
    "            return self._correction_leadfield(fh['CORRECTION_POTENTIAL'],\n",
    "                                              [X, Y, Z])\n",
    "\n",
    "    def _correction_leadfield(self, SAMPLES, XYZ):\n",
    "        return self._interpolate(SAMPLES, XYZ)\n",
    "        # # if XYZ points are in nodes of the sampling grid,\n",
    "        # # no time-consuming interpolation is necessary\n",
    "        # return SAMPLES[self._sampling_grid_indices(XYZ)]\n",
    "\n",
    "    def _interpolate(self, SAMPLES, XYZ):\n",
    "        # The interpolation can be speeded up at the cost\n",
    "        # of precision by changing the method to 'nearest'\n",
    "        interpolator = si.RegularGridInterpolator(\n",
    "                              self.SAMPLING_GRID,\n",
    "                              SAMPLES,\n",
    "                              bounds_error=False,\n",
    "                              fill_value=0,\n",
    "                              method='linear')\n",
    "        return interpolator(np.stack(XYZ, axis=-1))\n",
    "#\n",
    "#     def _sampling_grid_indices(self, XYZ):\n",
    "#         return tuple(np.searchsorted(GRID, COORD)\n",
    "#                      for GRID, COORD in zip(self.SAMPLING_GRID, XYZ))\n",
    "\n",
    "    def leadfield(self, X, Y, Z):\n",
    "        \"\"\"\n",
    "        Regularized leadfield of the electrode in infinite homogenous\n",
    "        isotropic medium (kCSD assumptions) of conductivity\n",
    "        `.base_conductivity` S/m.\n",
    "        \n",
    "        Note\n",
    "        ----\n",
    "        \n",
    "        The regularization is necessary to limit numerical integration\n",
    "        errors.\n",
    "        \"\"\"\n",
    "        return (0.25 / (np.pi * self.base_conductivity)\n",
    "                / (self._epsilon\n",
    "                   + np.sqrt(np.square(X - self.x)\n",
    "                             + np.square(Y - self.y)\n",
    "                             + np.square(Z - self.z))))"
   ]
  },
  {
   "cell_type": "code",
   "execution_count": null,
   "metadata": {},
   "outputs": [],
   "source": [
    "electrodes = [Electrode(f'FEM/solutions/tutorial/slice/sampled/9/{name}.npz')\n",
    "              for name in ['first', 'second', 'third']]"
   ]
  },
  {
   "cell_type": "markdown",
   "metadata": {},
   "source": [
    "## Source objects\n",
    "\n",
    "kESI (and its special case kCSD) reconstructs CSD as a mixture of base functions (in short: _bases_).  FRR tools derive all bases as translation of an appropriate model base (with centroid at the origin of the coordinate system: $[0, 0, 0]$).\n",
    "\n",
    "While FRR tools operate on base profiles defined as callables accepting vector arguments x, y and z, we can use a convenience kCSD base object (of either `SphericalSplineSourceKCSD` or `GaussianSourceKCSD3D` class) which couple functions in potential and CSD space.  The object is named _source_, as it represents potential (`.potential()` method) generated by certain CSD profile (`.csd()` method) in infinite homogeneous isotropic (kCSD assumptions) medium."
   ]
  },
  {
   "cell_type": "markdown",
   "metadata": {},
   "source": [
    "### Gaussian source\n",
    "\n",
    "To familiarize with kCSD base function objects, we create an object for CSD given by three dimensional normal distribution centered at $[-5\\mu{}m, 20\\mu{}m, 100\\mu{}m]$ with standard deviation of $10\\mu{}m$, in a medium of conductivity $0.3 S/m$."
   ]
  },
  {
   "cell_type": "code",
   "execution_count": null,
   "metadata": {},
   "outputs": [],
   "source": [
    "from _common_new import GaussianSourceKCSD3D\n",
    "\n",
    "import matplotlib.pyplot as plt\n",
    "import cbf\n",
    "\n",
    "src = GaussianSourceKCSD3D(-5e-6, 20e-6, 100e-6,\n",
    "                           standard_deviation=10e-6,\n",
    "                           conductivity=0.3)\n",
    "\n",
    "print(f'centroid at ({src.x}m, {src.y}m, {src.z}m)')\n",
    "print(f'medium conductivity: {src.conductivity}S/m')"
   ]
  },
  {
   "cell_type": "markdown",
   "metadata": {},
   "source": [
    "As both CSD and potential have spherical symmetry (they depend on the distance to the centroid only), we plot them as functions of the distance:"
   ]
  },
  {
   "cell_type": "code",
   "execution_count": null,
   "metadata": {},
   "outputs": [],
   "source": [
    "_X = src.x + np.linspace(0, 24e-6, 1025)\n",
    "_Y = src.y + np.linspace(0, 30e-6, 1025)\n",
    "_Z = src.z + np.linspace(0, 32e-6, 1025)\n",
    "_R = np.sqrt(np.square(_X - src.x)\n",
    "             + np.square(_Y - src.y)\n",
    "             + np.square(_Z - src.z))\n",
    "\n",
    "_CSD = src.csd(_X, _Y, _Z)\n",
    "_POTENTIAL = src.potential(_X, _Y, _Z)\n",
    "\n",
    "plt.figure()\n",
    "plt.plot(_R * 1e6, _CSD * 1e-12, color=cbf.SKY_BLUE)\n",
    "\n",
    "for x in range(10, 50, 10):\n",
    "    plt.axvline(x, ls=':', color=cbf.BLACK)\n",
    "\n",
    "plt.xlim(0, 50)\n",
    "plt.ylabel('CSD [$\\\\frac{\\\\mu{}A}{mm^3}$]')\n",
    "plt.xlabel('R [$\\\\mu{}m$]')\n",
    "\n",
    "plt.figure()\n",
    "plt.plot(_R * 1e6, _POTENTIAL * 1e-3, color=cbf.PURPLE)\n",
    "\n",
    "for x in range(10, 50, 10):\n",
    "    plt.axvline(x, ls=':', color=cbf.BLACK)\n",
    "\n",
    "plt.xlim(0, 50)\n",
    "plt.ylabel('potential [$\\\\mu{}V$]')\n",
    "_ = plt.xlabel('R [$\\\\mu{}m$]')"
   ]
  },
  {
   "cell_type": "markdown",
   "metadata": {},
   "source": [
    "It may seem that base function in the CSD space disappears completely in distance greater than 4 standard deviations, but if we plot it in semilogarithmic axes, we can see that its support is much larger (theoretically infinite):"
   ]
  },
  {
   "cell_type": "code",
   "execution_count": null,
   "metadata": {},
   "outputs": [],
   "source": [
    "_X = src.x + np.linspace(0, 240e-6, 1025)\n",
    "_Y = src.y + np.linspace(0, 300e-6, 1025)\n",
    "_Z = src.z + np.linspace(0, 320e-6, 1025)\n",
    "_R = np.sqrt(np.square(_X - src.x)\n",
    "             + np.square(_Y - src.y)\n",
    "             + np.square(_Z - src.z))\n",
    "\n",
    "_CSD = src.csd(_X, _Y, _Z)\n",
    "\n",
    "plt.figure()\n",
    "plt.plot(_R * 1e6, _CSD * 1e-12, color=cbf.SKY_BLUE)\n",
    "\n",
    "plt.xlim(0, 500)\n",
    "plt.ylabel('CSD [$\\\\frac{\\\\mu{}A}{\\\\mu{}m^3}$]')\n",
    "plt.xlabel('R [$\\\\mu{}m$]')\n",
    "plt.yscale('log')"
   ]
  },
  {
   "cell_type": "markdown",
   "metadata": {},
   "source": [
    "Such base functions have certain (luckily minor) drawbacks:\n",
    "- yield a fuzzy and (theoretically) spatially unlimited CSD reconstructions,\n",
    "- require sampling the model base globally rather than locally.\n",
    "\n",
    "It is feasible to mitigate that drawbacks by cropping the function support, which on the other hand introduces an error by design.  Luckily the error is sufferable - for example, cropping the 3D normal distribution to a sphere with radius of 3 standard deviations leads to loss of 2.9% of the distribution (0.81% if cropping to a cube)."
   ]
  },
  {
   "cell_type": "markdown",
   "metadata": {},
   "source": [
    "### Spherical spline source\n",
    "\n",
    "We can reduce the cropping error to 0 by use of CSD base functions with finite support, like functions of distance from their centroids ($r$; thus spherically symmetric), defined piecewise by polinomials (spline):\n",
    "\n",
    "$$\n",
    "\\tilde{b}(r) =\n",
    "\\begin{cases}\n",
    " p_0(r), 0 \\leq r < r_0   \\\\\n",
    " p_1(r), r_0 \\leq r < r_1 \\\\\n",
    " \\vdots \\\\\n",
    " p_n(r), r_{n-1} \\leq r < r_n \\\\\n",
    " 0, r_n \\le r\n",
    "\\end{cases} ,\n",
    "$$\n",
    "\n",
    "where $p_i(x) = \\sum_j \\alpha_ij x^j$.\n",
    "\n",
    "We are going to use the `SphericalSplineSourceKCSD` to define a model base with support of radius $R \\equiv r_1$, that:\n",
    "- is constant ($p_0(r) = c$) within radius $r_0 = \\frac{1}{3} R$ from centroid,\n",
    "- is continuous ($p_1(r_0) = c$ and $p_1(r_1) = 0$,\n",
    "- has continuous derivative ($\\dot{p}_1(r_0) = \\dot{p}_1(r_1) = 0$, as $p_0$ and $0$ are constant),\n",
    "- is normalised ($\\iiint_{\\mathbb{R}^3} \\tilde{b}(x, y, z) dv = \\int_0^R 4 \\pi r^2 \\tilde{b}(r) dr = 1$),\n",
    "\n",
    "thus the coefficients of polynomials are:\n",
    "$$\n",
    "\\begin{array}{rclcl}\n",
    "\\alpha_{00} & = & c , & & & \\\\\n",
    "\\alpha_{10} & = & c \\, r_2^2\\frac{r_2 - 3r_1}{(r_2 - r_1)^3} & = & 0 ,\\\\\n",
    "\\alpha_{11} & = & c \\, 6 \\frac{r_1 r_2}{(r_2 - r_1)^3} & = & c \\frac{27}{4} R^{-1} ,\\\\\n",
    "\\alpha_{12} & = & -c \\, 3 \\frac{r_1 + r_2}{(r_2 - r_1)^3} & = & -c \\frac{27}{2} R^{-2} ,\\\\\n",
    "\\alpha_{13} & = & c \\frac{2}{(r_2 - r_1)^3} & = & c \\frac{27}{4} R^{-3} ,\\\\\n",
    "\\end{array}\n",
    "$$\n",
    "up to a constant factor $c$.  We do not need to calculate the $c$ factor explicitely, as CSD base functions implemented with `SphericalSplineSourceKCSD` are normalised.  For the sake of simplicity we assume $c = 1$ when passing the coefficients to `SphericalSplineSourceKCSD`:"
   ]
  },
  {
   "cell_type": "code",
   "execution_count": null,
   "metadata": {},
   "outputs": [],
   "source": [
    "from _common_new import SphericalSplineSourceKCSD\n",
    "\n",
    "def get_model_source(radius, conductivity):\n",
    "    spline_nodes = [radius / 3, radius]\n",
    "    spline_polynomial_coefficients = [[1],\n",
    "                                      [0,\n",
    "                                       6.75 / radius,\n",
    "                                       -13.5 / radius ** 2,\n",
    "                                       6.75 / radius ** 3]]\n",
    "    return SphericalSplineSourceKCSD(0, 0, 0,\n",
    "                                     spline_nodes,\n",
    "                                     spline_polynomial_coefficients,\n",
    "                                     conductivity)"
   ]
  },
  {
   "cell_type": "markdown",
   "metadata": {},
   "source": [
    "## Model source\n",
    "\n",
    "We want to use CSD bases 36μm wide ($R = 18\\mu{}m$)."
   ]
  },
  {
   "cell_type": "code",
   "execution_count": null,
   "metadata": {},
   "outputs": [],
   "source": [
    "SRC_R = 18e-6\n",
    "BASE_CONDUCTIVITY = electrodes[0].base_conductivity\n",
    "\n",
    "model_src = get_model_source(SRC_R, BASE_CONDUCTIVITY)\n",
    "print(f'centroid at ({model_src.x}m, {model_src.y}m, {model_src.z}m)')\n",
    "print(f'conductivity = {model_src.conductivity}')\n",
    "print(f'c = {model_src.csd(0, 0, 0):.2e}')"
   ]
  },
  {
   "cell_type": "code",
   "execution_count": null,
   "metadata": {},
   "outputs": [],
   "source": [
    "_X = np.linspace(0, 4/3 * SRC_R, 1025)\n",
    "\n",
    "_CSD = model_src.csd(_X, 0, 0)\n",
    "_POTENTIAL = model_src.potential(_X, 0, 0)\n",
    "\n",
    "plt.figure()\n",
    "plt.plot(_X * 1e6, _CSD * 1e-12, color=cbf.SKY_BLUE)\n",
    "\n",
    "for x in range(6, 24, 6):\n",
    "    plt.axvline(x, ls=':', color=cbf.BLACK)\n",
    "\n",
    "plt.xlim(0, 24)\n",
    "plt.ylabel('CSD [$\\\\frac{\\\\mu{}A}{mm^3}$]')\n",
    "plt.xlabel('R [$\\mu{}m$]')\n",
    "\n",
    "plt.figure()\n",
    "plt.plot(_X * 1e6, _POTENTIAL * 1e-3, color=cbf.PURPLE)\n",
    "\n",
    "for x in range(6, 24, 6):\n",
    "    plt.axvline(x, ls=':', color=cbf.BLACK)\n",
    "\n",
    "plt.xlim(0, 24)\n",
    "plt.ylabel('potential [$\\\\mu{}V$]')\n",
    "_ = plt.xlabel('R [$\\mu{}m$]')"
   ]
  },
  {
   "cell_type": "markdown",
   "metadata": {},
   "source": [
    "We can test whether the model CSD base function is normalised to $1nA$ by integrating it:"
   ]
  },
  {
   "cell_type": "code",
   "execution_count": null,
   "metadata": {},
   "outputs": [],
   "source": [
    "from scipy.integrate import romb\n",
    "\n",
    "_k = 8\n",
    "_X = np.linspace(-SRC_R, SRC_R, 2**_k + 1)\n",
    "_dx = SRC_R / 2**(_k - 1)\n",
    "_SAMPLES = model_src.csd(_X.reshape(-1, 1, 1),\n",
    "                         _X.reshape(1, -1, 1),\n",
    "                         _X.reshape(1, 1, -1))\n",
    "print(romb(romb(romb(_SAMPLES, dx=_dx), dx=_dx), dx=_dx),\n",
    "      'nA')\n",
    "del _SAMPLES"
   ]
  },
  {
   "cell_type": "markdown",
   "metadata": {},
   "source": [
    "## Convolver object\n",
    "\n",
    "The convolver is the engine of the FRR tools.  It is used to:\n",
    "- integrate leadfields weighted by a CSD profile,\n",
    "- obtain CSD profile of a mixture of base functions.\n",
    "\n",
    "The convolver operates on three regular 3D grids of coordinates:\n",
    "- _POT_ grid used for leadfield (_reciprocal potential_) integration,\n",
    "- _CSD_ grid used for CSD profile calculation,\n",
    "- _SRC_ grid used for distributing of base function centroids.\n",
    "\n",
    "The _SRC_ grid is an intersection (in the set operation sense) of the _POT_ and the _CSD_ grids, thus they define the convolver unequivocally.\n",
    "\n",
    "As convolver will use the Romberg method for integration ($2^k + 1$ quadrature nodes), the integrated CSD profile will be cropped to $2^{k - 1} h$ from centroid in every dimension, where $h$ is the quadrature step size (distance between adjacent _POT_ grid nodes).  To avoid errors by design, we want $h \\geq 2^{1 - k} R$."
   ]
  },
  {
   "cell_type": "code",
   "execution_count": null,
   "metadata": {},
   "outputs": [],
   "source": [
    "from _fast_reciprocal_reconstructor import ckESI_convolver\n",
    "\n",
    "ROMBERG_K = 6\n",
    "\n",
    "_h_min = SRC_R * 2**(1 - ROMBERG_K)\n",
    "_X = _Y = np.linspace(-1.5e-4, 1.5e-4, int(np.floor(3e-4 / _h_min)) + 1)\n",
    "_Z = np.linspace(0, 3e-4, int(np.floor(3e-4 / _h_min)) + 1)\n",
    "\n",
    "_pot_grid = [_X, _Y, _Z]\n",
    "_csd_grid = [_X, _Y, _Z[_Z >= 0]]\n",
    "\n",
    "convolver = ckESI_convolver(_pot_grid, _csd_grid)\n",
    "\n",
    "for _h in convolver.ds('POT'):\n",
    "    assert _h >= _h_min, f'{_h} < {_h_min}'"
   ]
  },
  {
   "cell_type": "code",
   "execution_count": null,
   "metadata": {},
   "outputs": [],
   "source": [
    "print(convolver.csd_shape)"
   ]
  },
  {
   "cell_type": "code",
   "execution_count": null,
   "metadata": {},
   "outputs": [],
   "source": [
    "for name in ['POT', 'CSD', 'SRC']:\n",
    "    print(f'{name} mesh')\n",
    "    print('  shape:', convolver.shape(name))\n",
    "    print('  spacing:', convolver.ds(name))"
   ]
  },
  {
   "cell_type": "markdown",
   "metadata": {},
   "source": [
    "Open 3D meshgrids may be accessed as `.{NAME}_MESH` attributes, where `{NAME}` is the name of the mesh.\n",
    "Components of each meshgrid may be accessed as `.{NAME}_{C}` attributes, where `{C}` is the name of the coordinate."
   ]
  },
  {
   "cell_type": "markdown",
   "metadata": {},
   "source": [
    "## Convolver interface\n",
    "\n",
    "The convolver interface binds the convolver to:\n",
    "- a CSD profile,\n",
    "- weights of a quadrature of equally-spaced nodes,\n",
    "- boolean mask of nodes of the _SRC_ mesh with centroids of the base functions.\n",
    "\n",
    "We derive quadrature weights by applying Romberg's method to identity matrix ($2^k +1$ one-hot vectors), which yields the effective weights used by the method.\n",
    "\n",
    "When analytical solution of the kCSD forward problem is used coupled with numeric potential correction, the domain of CSD used for calculation of the potential correction is limited to the support of the leadfield correction.  Thus, close to the support boundary the numeric correction is calculated for different CSD profile than was used for the corrected analytical solution.  To avoid errors, it is advised not to put centroids near the boundary of the support (which is a subset of the _POT_ grid).  It is also advised to limit supports of CSD bases to where current sources are biologically possible (here we include only CSD bases which supports fit in the _POT_ grid)."
   ]
  },
  {
   "cell_type": "code",
   "execution_count": null,
   "metadata": {},
   "outputs": [],
   "source": [
    "from _fast_reciprocal_reconstructor import ConvolverInterfaceIndexed\n",
    "from scipy.integrate import romb\n",
    "\n",
    "ROMBERG_N = 2 ** ROMBERG_K + 1\n",
    "ROMBERG_WEIGHTS = romb(np.identity(ROMBERG_N), dx=2 ** -ROMBERG_K)\n",
    "\n",
    "SRC_IDX = ((convolver.SRC_Z > SRC_R)\n",
    "           & (convolver.SRC_Z < 3e-4 - SRC_R)\n",
    "           & (abs(convolver.SRC_X) < 1.5e-4 - SRC_R)\n",
    "           & (abs(convolver.SRC_Y) < 1.5e-4 - SRC_R))"
   ]
  },
  {
   "cell_type": "code",
   "execution_count": null,
   "metadata": {},
   "outputs": [],
   "source": [
    "print(SRC_IDX.sum())"
   ]
  },
  {
   "cell_type": "code",
   "execution_count": null,
   "metadata": {},
   "outputs": [],
   "source": [
    "convolver_interface = ConvolverInterfaceIndexed(convolver,\n",
    "                                                model_src.csd,\n",
    "                                                ROMBERG_WEIGHTS,\n",
    "                                                SRC_IDX)"
   ]
  },
  {
   "cell_type": "markdown",
   "metadata": {},
   "source": [
    "## Potential At Electrode object\n",
    "\n",
    "In [What we can and what we cannot see with extracellular multielectrodes](https://doi.org/10.1371/journal.pcbi.1008615) we have defined a $M$-dimensional feature vector $\\Phi(x)$ as a function of physical space:\n",
    "$$\n",
    " \\Phi(x)\n",
    " = [b_1(x), \\ldots, b_M(x)]^T ,\n",
    "$$\n",
    "representing every point $x$ by values of potential base functions there.\n",
    "\n",
    "The $\\Phi(x)$ function is implemented as a Potential At Electrode (PAE) object.  The object calculates values of potential base functions from (not all sources of information must be used):\n",
    "- coordinates of their centroids (in `convolver_interface`),\n",
    "- model CSD base (in `convolver_interface`),\n",
    "- model potential base (a callable given as a parameter of the object's constructor),\n",
    "- electrode location (in the electrode object),\n",
    "- additional information (in the electrode object)."
   ]
  },
  {
   "cell_type": "markdown",
   "metadata": {},
   "source": [
    "### Potential At Electrode: analytical solution of the forward problem (kCSD)\n",
    "\n",
    "If the model potential base is known for certain assumptions (e.g. these of kCSD) which are considered met, then `PAE_Analytical` class can be used.  It strightforwardly calculates values of potential base functions from:\n",
    "- coordinates of their centroids (in `convolver_interface`),\n",
    "- model potential base (a callable given as a parameter of the object's constructor),\n",
    "- electrode location (in the electrode object)."
   ]
  },
  {
   "cell_type": "code",
   "execution_count": null,
   "metadata": {},
   "outputs": [],
   "source": [
    "from _fast_reciprocal_reconstructor import PAE_Analytical"
   ]
  },
  {
   "cell_type": "code",
   "execution_count": null,
   "metadata": {},
   "outputs": [],
   "source": [
    "pae_kcsd = PAE_Analytical(convolver_interface,\n",
    "                          potential=model_src.potential)"
   ]
  },
  {
   "cell_type": "markdown",
   "metadata": {},
   "source": [
    "### Potential At Electrode: purely numerical solution of the forward problem (kCSD/kESI)\n",
    "\n",
    "If the model potential base is unknown, but leadfields of electrodes can be calculated in nodes of the _POT_ grid, then `PAE_Numerical` class can be used.  It numerically calculates values of potential base functions numerically from:\n",
    "- coordinates of their centroids (in `convolver_interface`),\n",
    "- model CSD base (in `convolver_interface`),\n",
    "- leadfield of the electrode (`.leadfield()` method of the electrode object).\n",
    "\n",
    "Note, that if the leadfield is not regular enough, significant numerical errors are expected."
   ]
  },
  {
   "cell_type": "code",
   "execution_count": null,
   "metadata": {},
   "outputs": [],
   "source": [
    "from _fast_reciprocal_reconstructor import PAE_Numerical"
   ]
  },
  {
   "cell_type": "code",
   "execution_count": null,
   "metadata": {},
   "outputs": [],
   "source": [
    "pae_numerical = PAE_Numerical(convolver_interface)"
   ]
  },
  {
   "cell_type": "markdown",
   "metadata": {},
   "source": [
    "We are not going to use that PAE object in the tutorial."
   ]
  },
  {
   "cell_type": "markdown",
   "metadata": {},
   "source": [
    "### Potential At Electrode: numerically corrected analytical solution of the forward problem (kESI)\n",
    "\n",
    "If the model potential base is known for certain assumptions (e.g. these of kCSD) which are not met, but corrections of leadfields of electrodes can be calculated in nodes of the _POT_ nodes, then `PAE_AnalyticalCorrectedNumerically` class can be used.  It calculates values of potential base functions from:\n",
    "- coordinates of their centroids (in `convolver_interface`),\n",
    "- model CSD base (in `convolver_interface`),\n",
    "- model potential base (a callable given as a parameter of the object's constructor),\n",
    "- electrode location (in the electrode object),\n",
    "- correction of the leadfield of the electrode (`.correction_leadfield()` method of the electrode object).\n",
    "\n",
    "As the leadfield correction is often more regular than the leadfield itself, numerical errors are smaller than in purely numerical approach."
   ]
  },
  {
   "cell_type": "code",
   "execution_count": null,
   "metadata": {},
   "outputs": [],
   "source": [
    "from _fast_reciprocal_reconstructor import PAE_AnalyticalCorrectedNumerically"
   ]
  },
  {
   "cell_type": "code",
   "execution_count": null,
   "metadata": {},
   "outputs": [],
   "source": [
    "pae_kesi = PAE_AnalyticalCorrectedNumerically(convolver_interface,\n",
    "                                              potential=model_src.potential)"
   ]
  },
  {
   "cell_type": "markdown",
   "metadata": {},
   "source": [
    "## Kernel constructor and cross-kernel constructor\n",
    "\n",
    "The kernel constructor is an object which is a collection of callables (methods) facilitating construction of base function values at electrodes ($\\mathbf{\\Phi}~=~[\\Phi(x_1), \\ldots, \\Phi(x_N)]$, where $x_i$ is the position of the $i$-th electrode) and the kernel matrix ($\\mathbf{K}~=~\\mathbf{\\Phi}^T\\mathbf{\\Phi}$).\n",
    "\n",
    "The methods are:\n",
    "- `.create_base_images_at_electrodes()`  which constructs $\\mathbf{\\Phi}$ from a sequence of electrode objects and a _PAE_ (Potential At Electrode) object responsible for base functions in the potential space,\n",
    "- `.create_kernel()` which constructs the kernel matrix from $\\mathbf{\\Phi}$."
   ]
  },
  {
   "cell_type": "code",
   "execution_count": null,
   "metadata": {},
   "outputs": [],
   "source": [
    "from _fast_reciprocal_reconstructor import ckESI_kernel_constructor, ckESI_crosskernel_constructor"
   ]
  },
  {
   "cell_type": "code",
   "execution_count": null,
   "metadata": {},
   "outputs": [],
   "source": [
    "kernel_constructor = ckESI_kernel_constructor()"
   ]
  },
  {
   "cell_type": "code",
   "execution_count": null,
   "metadata": {},
   "outputs": [],
   "source": [
    "CSD_IDX = np.ones(convolver.shape('CSD'),\n",
    "                  dtype=bool)"
   ]
  },
  {
   "cell_type": "markdown",
   "metadata": {},
   "source": [
    "The cross-kernel constructor is a callable which - based on the $\\mathbf{\\Phi}$ matrix (and boolean mask of the _CSD_ grid) - constructs the cross-kernel.  We assign it to `kernel_constructor.create_crosskernel` attribute to keep all kernel construction callables in one object."
   ]
  },
  {
   "cell_type": "code",
   "execution_count": null,
   "metadata": {},
   "outputs": [],
   "source": [
    "kernel_constructor.create_crosskernel = ckESI_crosskernel_constructor(convolver_interface,\n",
    "                                                                      CSD_IDX)"
   ]
  },
  {
   "cell_type": "markdown",
   "metadata": {},
   "source": [
    "As all elements of `CSD_IDX` are true, conversion of the reconstructed CSD vector is as simple as its rearrangement to match the _CSD_ grid of `convolver`.  We define an auxilary `to_3D()` function for that purpose."
   ]
  },
  {
   "cell_type": "code",
   "execution_count": null,
   "metadata": {},
   "outputs": [],
   "source": [
    "def to_3D(CSD):\n",
    "    return CSD.reshape(convolver.shape('CSD'))"
   ]
  },
  {
   "cell_type": "markdown",
   "metadata": {},
   "source": [
    "# kCSD reconstructor"
   ]
  },
  {
   "cell_type": "markdown",
   "metadata": {},
   "source": [
    "## Construction of kernels"
   ]
  },
  {
   "cell_type": "code",
   "execution_count": null,
   "metadata": {},
   "outputs": [],
   "source": [
    "%%time\n",
    "PHI_KCSD = kernel_constructor.create_base_images_at_electrodes(electrodes,\n",
    "                                                               pae_kcsd)"
   ]
  },
  {
   "cell_type": "code",
   "execution_count": null,
   "metadata": {},
   "outputs": [],
   "source": [
    "KERNEL_KCSD = kernel_constructor.create_kernel(PHI_KCSD)"
   ]
  },
  {
   "cell_type": "code",
   "execution_count": null,
   "metadata": {},
   "outputs": [],
   "source": [
    "%%time\n",
    "CROSSKERNEL_KCSD = kernel_constructor.create_crosskernel(PHI_KCSD)"
   ]
  },
  {
   "cell_type": "code",
   "execution_count": null,
   "metadata": {},
   "outputs": [],
   "source": [
    "del PHI_KCSD  # the array is large and no longer needed"
   ]
  },
  {
   "cell_type": "markdown",
   "metadata": {},
   "source": [
    "## Reconstructor object\n",
    "\n",
    "The reconstructor object is a wrapper arround (cross)kernel matrices facilitating CSD reconstruction without explicite matrix operations."
   ]
  },
  {
   "cell_type": "code",
   "execution_count": null,
   "metadata": {},
   "outputs": [],
   "source": [
    "from kesi._verbose import _CrossKernelReconstructor as Reconstructor\n",
    "from kesi._engine import _LinearKernelSolver as KernelSolver"
   ]
  },
  {
   "cell_type": "code",
   "execution_count": null,
   "metadata": {},
   "outputs": [],
   "source": [
    "reconstructor_kcsd = Reconstructor(KernelSolver(KERNEL_KCSD),\n",
    "                                   CROSSKERNEL_KCSD)"
   ]
  },
  {
   "cell_type": "markdown",
   "metadata": {},
   "source": [
    "# Visualisation\n",
    "\n",
    "For volumetric data visualisation we define an auxilary functions `crude_plot_data()` and `plot_csd_reconstruction()`."
   ]
  },
  {
   "cell_type": "code",
   "execution_count": null,
   "metadata": {},
   "outputs": [],
   "source": [
    "import matplotlib.pyplot as plt\n",
    "import cbf\n",
    "\n",
    "def crude_plot_data(DATA,\n",
    "                    x=None,\n",
    "                    y=None,\n",
    "                    z=None,\n",
    "                    grid=None,\n",
    "                    dpi=70,\n",
    "                    cmap=cbf.bwr,\n",
    "                    title=None,\n",
    "                    amp=None,\n",
    "                    length_factor=1,\n",
    "                    length_unit='$m$',\n",
    "                    unit=''):\n",
    "    wx, wy, wz = DATA.shape\n",
    "    \n",
    "    if grid is None:\n",
    "        ix, iy, iz = [w // 2 if a is None else a\n",
    "                      for a, w in zip([x, y, z],\n",
    "                                      [wx, wy, wz])]\n",
    "        x, y, z = ix, iy, iz\n",
    "        \n",
    "    else:\n",
    "        _xyz = [g.mean() if a is None else a\n",
    "                for a, g in zip([x, y, z],\n",
    "                                grid)]\n",
    "        ix, iy, iz = [np.searchsorted(g, a)\n",
    "                      for a, g in zip(_xyz,\n",
    "                                      grid)]\n",
    "        x, y, z = [length_factor * a for a in _xyz]\n",
    "\n",
    "        def _extent(first, second):\n",
    "            _first = grid[first] * length_factor\n",
    "            _second = grid[second] * length_factor\n",
    "            return (_first.min(), _first.max(),\n",
    "                    _second.min(), _second.max())\n",
    "\n",
    "    fig = plt.figure(figsize=((wx + wy) / dpi,\n",
    "                              (wz + wy) / dpi))\n",
    "    if title is not None:\n",
    "        fig.suptitle(title)\n",
    "    gs = plt.GridSpec(2, 2,\n",
    "                      figure=fig,\n",
    "                      width_ratios=[wx, wy],\n",
    "                      height_ratios=[wz, wy])\n",
    "\n",
    "    ax_xz = fig.add_subplot(gs[0, 0])\n",
    "    ax_xz.set_aspect('equal')\n",
    "    ax_xz.set_ylabel(f'Z [{length_unit}]')\n",
    "    ax_xz.set_xlabel(f'X [{length_unit}]')\n",
    "\n",
    "    ax_yx = fig.add_subplot(gs[1, 1])\n",
    "    ax_yx.set_aspect('equal')\n",
    "    ax_yx.set_ylabel(f'X [{length_unit}]')\n",
    "    ax_yx.set_xlabel(f'Y [{length_unit}]')\n",
    "\n",
    "    ax_yz = fig.add_subplot(gs[0, 1],\n",
    "                            sharey=ax_xz,\n",
    "                            sharex=ax_yx)\n",
    "    ax_yz.set_aspect('equal')\n",
    "\n",
    "    cax = fig.add_subplot(gs[1, 0])\n",
    "    cax.set_visible(False)\n",
    "\n",
    "    if amp is None:\n",
    "        amp = abs(DATA).max()\n",
    "\n",
    "    if grid is None:\n",
    "        ax_xz.imshow(DATA[:, iy, :].T,\n",
    "                     vmin=-amp,\n",
    "                     vmax=amp,\n",
    "                     cmap=cmap,\n",
    "                     origin='lower')\n",
    "        ax_yx.imshow(DATA[:, :, iz],\n",
    "                     vmin=-amp,\n",
    "                     vmax=amp,\n",
    "                     cmap=cmap,\n",
    "                     origin='lower')\n",
    "        im = ax_yz.imshow(DATA[ix, :, :].T,\n",
    "                          vmin=-amp,\n",
    "                          vmax=amp,\n",
    "                          cmap=cmap,\n",
    "                          origin='lower')\n",
    "    else:\n",
    "        ax_xz.imshow(DATA[:, iy, :].T,\n",
    "                     vmin=-amp,\n",
    "                     vmax=amp,\n",
    "                     cmap=cmap,\n",
    "                     origin='lower',\n",
    "                     extent=_extent(0, 2))\n",
    "        ax_yx.imshow(DATA[:, :, iz],\n",
    "                     vmin=-amp,\n",
    "                     vmax=amp,\n",
    "                     cmap=cmap,\n",
    "                     origin='lower',\n",
    "                     extent=_extent(1, 0))\n",
    "        im = ax_yz.imshow(DATA[ix, :, :].T,\n",
    "                          vmin=-amp,\n",
    "                          vmax=amp,\n",
    "                          cmap=cmap,\n",
    "                          origin='lower',\n",
    "                          extent=_extent(1, 2))\n",
    "        \n",
    "    ax_xz.axvline(x, ls=':', color=cbf.BLACK)\n",
    "    ax_xz.axhline(z, ls=':', color=cbf.BLACK)\n",
    "\n",
    "    ax_yx.axvline(y, ls=':', color=cbf.BLACK)\n",
    "    ax_yx.axhline(x, ls=':', color=cbf.BLACK)\n",
    "\n",
    "    ax_yz.axvline(y, ls=':', color=cbf.BLACK)\n",
    "    ax_yz.axhline(z, ls=':', color=cbf.BLACK)\n",
    "    fig.colorbar(im, ax=cax,\n",
    "                 orientation='horizontal',\n",
    "                 label=unit)\n",
    "\n",
    "    return (fig, ((ax_xz, ax_yz),\n",
    "                  (cax, ax_yx)))"
   ]
  },
  {
   "cell_type": "code",
   "execution_count": null,
   "metadata": {},
   "outputs": [],
   "source": [
    "csd_grid = [_x.flatten() for _x in convolver.CSD_MESH]"
   ]
  },
  {
   "cell_type": "code",
   "execution_count": null,
   "metadata": {},
   "outputs": [],
   "source": [
    "def plot_csd_reconstruction(CSD, x, y, z, title='', dpi=70):\n",
    "    unit_scaling_factor = 1e-12\n",
    "    unit = '$\\\\frac{\\\\mu{}A}{mm^3}$'\n",
    "    length_factor = 1e6\n",
    "    length_unit = '$\\\\mu{}m$'\n",
    "\n",
    "    ERROR = CSD - GT_CSD\n",
    "    error_L2 = np.sqrt(np.square(ERROR).sum() / np.square(GT_CSD).sum())\n",
    "    amp = max(abs(CSD).max(),\n",
    "              abs(GT_CSD).max(),\n",
    "              abs(ERROR).max()) * unit_scaling_factor\n",
    "    crude_plot_data(GT_CSD * unit_scaling_factor,\n",
    "                    unit=unit,\n",
    "                    title='GT CSD',\n",
    "                    grid=csd_grid, x=x, y=y, z=z, dpi=dpi,\n",
    "                    length_unit=length_unit,\n",
    "                    length_factor=length_factor,\n",
    "                    amp=amp)\n",
    "    crude_plot_data(CSD * unit_scaling_factor,\n",
    "                    unit=unit,\n",
    "                    title=f'{title} reconstruction',\n",
    "                    grid=csd_grid, x=x, y=y, z=z, dpi=dpi,\n",
    "                    length_unit=length_unit,\n",
    "                    length_factor=length_factor,\n",
    "                    amp=amp)\n",
    "    crude_plot_data(ERROR * unit_scaling_factor,\n",
    "                    unit=unit,\n",
    "                    title=f'{title} error (GT normalized L2 norm: {error_L2:.2g})',\n",
    "                    grid=csd_grid, x=x, y=y, z=z, dpi=dpi,\n",
    "                    length_unit=length_unit,\n",
    "                    length_factor=length_factor,\n",
    "                    amp=amp)"
   ]
  },
  {
   "cell_type": "markdown",
   "metadata": {},
   "source": [
    "# Ground truth CSD and its potential at the electrodes\n",
    "\n",
    "We derive GT CSD as an eigensource (scaled by a factor) of kCSD.  The order of the returned eigenvalues (and eigenvectors) is reversed for the sake of the highest-first convention."
   ]
  },
  {
   "cell_type": "markdown",
   "metadata": {},
   "source": [
    "## GT CSD"
   ]
  },
  {
   "cell_type": "code",
   "execution_count": null,
   "metadata": {},
   "outputs": [],
   "source": [
    "%%time\n",
    "EIGENVALUES_KCSD, EIGENVECTORS_KCSD = np.linalg.eigh(KERNEL_KCSD)\n",
    "EIGENVALUES_KCSD, EIGENVECTORS_KCSD = EIGENVALUES_KCSD[::-1], EIGENVECTORS_KCSD[:, ::-1]\n",
    "\n",
    "GT_CSD = to_3D(reconstructor_kcsd(EIGENVECTORS_KCSD[:, 0] * 2e5))"
   ]
  },
  {
   "cell_type": "code",
   "execution_count": null,
   "metadata": {},
   "outputs": [],
   "source": [
    "crude_plot_data(GT_CSD * 1e-12,\n",
    "                title='GT CSD',\n",
    "                grid=csd_grid,\n",
    "                x=5e-5,\n",
    "                y=0,\n",
    "                z=1.5e-4,\n",
    "                unit='$\\\\frac{\\\\mu{}A}{mm^3}$',\n",
    "                length_factor=1e6,\n",
    "                length_unit='$\\\\mu{}m$')"
   ]
  },
  {
   "cell_type": "markdown",
   "metadata": {},
   "source": [
    "## FEM forward modelling"
   ]
  },
  {
   "cell_type": "code",
   "execution_count": null,
   "metadata": {},
   "outputs": [],
   "source": [
    "import configparser\n",
    "import dolfin\n",
    "import scipy.interpolate as si\n",
    "\n",
    "import FEM.fem_common as fc"
   ]
  },
  {
   "cell_type": "markdown",
   "metadata": {},
   "source": [
    "We define a FEM forward model. It is a callable, which accepts CSD profile as a callable compatible with `scipy.interpolate.RegularGridInterpolator`.  Note that the model uses a different Dirichlet boundary condition than a forward model for spherical geometry."
   ]
  },
  {
   "cell_type": "code",
   "execution_count": null,
   "metadata": {},
   "outputs": [],
   "source": [
    "class ForwardModel(object):\n",
    "    def __init__(self, config):\n",
    "        metadata = fc.MetadataReader(config)\n",
    "        self.fm = fc.FunctionManager(metadata.getpath('fem', 'mesh'),\n",
    "                                     metadata.getint('fem', 'degree'),\n",
    "                                     metadata.get('fem', 'element_type'))\n",
    "        self.config = configparser.ConfigParser()\n",
    "        self.config.read(metadata.getpath('model', 'config'))\n",
    "        \n",
    "        self.V = self.fm.function_space\n",
    "        mesh = self.fm.mesh\n",
    "\n",
    "        n = self.V.dim()\n",
    "        d = mesh.geometry().dim()\n",
    "\n",
    "        self.dof_coords = self.V.tabulate_dof_coordinates()\n",
    "        self.dof_coords.resize((n, d))\n",
    "        \n",
    "        self.csd_f = self.fm.function()\n",
    "        \n",
    "        self.subdomains = self.fm.load_subdomains()\n",
    "        self.dx = dolfin.Measure(\"dx\")(subdomain_data=self.subdomains)\n",
    "\n",
    "    @property\n",
    "    def CONDUCTIVITY(self):\n",
    "        for section in self.config.sections():\n",
    "            if self._is_conductive_volume(section):\n",
    "                yield (self.config.getint(section, 'volume'),\n",
    "                       self.config.getfloat(section, 'conductivity'))\n",
    "\n",
    "    def _is_conductive_volume(self, section):\n",
    "        return (self.config.has_option(section, 'volume')\n",
    "                and self.config.has_option(section, 'conductivity')) \n",
    "        \n",
    "    def __call__(self, csd_interpolator):\n",
    "        self.csd_f.vector()[:] = csd_interpolator(self.dof_coords)\n",
    "        \n",
    "        dirichlet_bc_gt = dolfin.DirichletBC(self.V,\n",
    "                                     dolfin.Constant(0),\n",
    "                                     (lambda x, on_boundary:\n",
    "                                      on_boundary and x[2] > 0))\n",
    "        test = self.fm.test_function()\n",
    "        trial = self.fm.trial_function()\n",
    "        potential = self.fm.function()\n",
    "        \n",
    "        \n",
    "        dx = self.dx\n",
    "        a = sum(dolfin.Constant(c)\n",
    "                * dolfin.inner(dolfin.grad(trial),\n",
    "                               dolfin.grad(test))\n",
    "                * dx(i)\n",
    "                for i, c\n",
    "                in self.CONDUCTIVITY)\n",
    "        L = self.csd_f * test * dx\n",
    "        \n",
    "        b = dolfin.assemble(L)\n",
    "        A = dolfin.assemble(a)\n",
    "        dirichlet_bc_gt.apply(A, b)\n",
    "        \n",
    "        solver = dolfin.KrylovSolver(\"cg\", \"ilu\")\n",
    "        solver.parameters[\"maximum_iterations\"] = 10000\n",
    "        solver.parameters[\"absolute_tolerance\"] = 1E-8\n",
    "        solver.solve(A, potential.vector(), b)\n",
    "        \n",
    "        return potential"
   ]
  },
  {
   "cell_type": "code",
   "execution_count": null,
   "metadata": {},
   "outputs": [],
   "source": [
    "%time fem = ForwardModel('FEM/solutions/tutorial/slice/first.ini')"
   ]
  },
  {
   "cell_type": "markdown",
   "metadata": {},
   "source": [
    "We simulate the potential generated by the ground truth CSD profile."
   ]
  },
  {
   "cell_type": "code",
   "execution_count": null,
   "metadata": {},
   "outputs": [],
   "source": [
    "%%time\n",
    "_csd = si.RegularGridInterpolator(csd_grid,\n",
    "                                  GT_CSD,\n",
    "                                  bounds_error=False,\n",
    "                                  fill_value=0)\n",
    "potential = fem(_csd)\n",
    "\n",
    "del _csd  # the object is large and no longer needed"
   ]
  },
  {
   "cell_type": "markdown",
   "metadata": {},
   "source": [
    "We probe the potential in the whole region of interest to visualise it."
   ]
  },
  {
   "cell_type": "code",
   "execution_count": null,
   "metadata": {},
   "outputs": [],
   "source": [
    "%%time\n",
    "V_ROI = np.vectorize(potential)(convolver.CSD_X[::4, :, :],\n",
    "                                convolver.CSD_Y[:, ::4, :],\n",
    "                                convolver.CSD_Z[:, :, ::4])"
   ]
  },
  {
   "cell_type": "code",
   "execution_count": null,
   "metadata": {},
   "outputs": [],
   "source": [
    "crude_plot_data(V_ROI * 1e-3,\n",
    "                cmap=cbf.PRGn,\n",
    "                grid=[_x[::4] for _x in csd_grid],\n",
    "                x=5e-5,\n",
    "                y=0,\n",
    "                z=1.5e-4,\n",
    "                dpi=17,\n",
    "                title='POTENTIAL',\n",
    "                length_unit='$\\\\mu{}m$',\n",
    "                length_factor=1e6,\n",
    "                unit='$\\\\mu{}V$')"
   ]
  },
  {
   "cell_type": "code",
   "execution_count": null,
   "metadata": {},
   "outputs": [],
   "source": [
    "del V_ROI  # the array is no longer needed"
   ]
  },
  {
   "cell_type": "markdown",
   "metadata": {},
   "source": [
    "We probe the potential at electrodes."
   ]
  },
  {
   "cell_type": "code",
   "execution_count": null,
   "metadata": {},
   "outputs": [],
   "source": [
    "GT_V = np.array([potential(_e.x, _e.y, _e.z) for _e in electrodes])"
   ]
  },
  {
   "cell_type": "code",
   "execution_count": null,
   "metadata": {},
   "outputs": [],
   "source": [
    "del potential, fem  # these objects are large and no longer needed"
   ]
  },
  {
   "cell_type": "markdown",
   "metadata": {},
   "source": [
    "# Reconstruction"
   ]
  },
  {
   "cell_type": "markdown",
   "metadata": {},
   "source": [
    "## kCSD\n",
    "\n",
    "As the ground truth CSD is a kCSD eigensource, kCSD is (theoretically) able to reconstruct it exactly.  But the forward model does not conform to assumptions of kCSD, which may lead to reconstruction artifacts."
   ]
  },
  {
   "cell_type": "code",
   "execution_count": null,
   "metadata": {},
   "outputs": [],
   "source": [
    "CSD_KCSD = to_3D(reconstructor_kcsd(GT_V))"
   ]
  },
  {
   "cell_type": "code",
   "execution_count": null,
   "metadata": {
    "scrolled": false
   },
   "outputs": [],
   "source": [
    "plot_csd_reconstruction(CSD_KCSD,\n",
    "                        x=5e-5,\n",
    "                        y=0,\n",
    "                        z=1.5e-4,\n",
    "                        title='kCSD')"
   ]
  },
  {
   "cell_type": "markdown",
   "metadata": {},
   "source": [
    "The reconstruction does not match the ground truth."
   ]
  },
  {
   "cell_type": "code",
   "execution_count": null,
   "metadata": {},
   "outputs": [],
   "source": [
    "del CSD_KCSD  # the array is large and no longer needed"
   ]
  },
  {
   "cell_type": "code",
   "execution_count": null,
   "metadata": {},
   "outputs": [],
   "source": [
    "del reconstructor_kcsd, CROSSKERNEL_KCSD  # these objects are large and no longer needed"
   ]
  },
  {
   "cell_type": "markdown",
   "metadata": {},
   "source": [
    "## kESI\n",
    "\n",
    "kESI accounts for violation of kCSD assumptions, thus we expect more reliable reconstruction."
   ]
  },
  {
   "cell_type": "code",
   "execution_count": null,
   "metadata": {},
   "outputs": [],
   "source": [
    "%%time\n",
    "PHI_KESI = kernel_constructor.create_base_images_at_electrodes(electrodes,\n",
    "                                                               pae_kesi)"
   ]
  },
  {
   "cell_type": "code",
   "execution_count": null,
   "metadata": {},
   "outputs": [],
   "source": [
    "KERNEL_KESI = kernel_constructor.create_kernel(PHI_KESI)"
   ]
  },
  {
   "cell_type": "code",
   "execution_count": null,
   "metadata": {},
   "outputs": [],
   "source": [
    "%%time\n",
    "CROSSKERNEL_KESI = kernel_constructor.create_crosskernel(PHI_KESI)"
   ]
  },
  {
   "cell_type": "code",
   "execution_count": null,
   "metadata": {},
   "outputs": [],
   "source": [
    "del PHI_KESI  # the array is large and no longer needed"
   ]
  },
  {
   "cell_type": "code",
   "execution_count": null,
   "metadata": {},
   "outputs": [],
   "source": [
    "reconstructor_kesi = Reconstructor(KernelSolver(KERNEL_KESI),\n",
    "                                   CROSSKERNEL_KESI)"
   ]
  },
  {
   "cell_type": "code",
   "execution_count": null,
   "metadata": {},
   "outputs": [],
   "source": [
    "CSD_KESI = to_3D(reconstructor_kesi(GT_V))"
   ]
  },
  {
   "cell_type": "code",
   "execution_count": null,
   "metadata": {
    "scrolled": false
   },
   "outputs": [],
   "source": [
    "plot_csd_reconstruction(CSD_KESI,\n",
    "                        x=5e-5,\n",
    "                        y=0,\n",
    "                        z=1.5e-4,\n",
    "                        title='kESI')"
   ]
  },
  {
   "cell_type": "markdown",
   "metadata": {},
   "source": [
    "The reconstruction is pretty close to the ground truth."
   ]
  },
  {
   "cell_type": "code",
   "execution_count": null,
   "metadata": {},
   "outputs": [],
   "source": [
    "del CSD_KESI  # the array is large and no longer needed"
   ]
  },
  {
   "cell_type": "markdown",
   "metadata": {},
   "source": [
    "## Noise\n",
    "\n",
    "As no real-world measurement is perfect, we introduce 30% noise to see, how kESI may deal with it (the noise needs to be quite strong, as difference between the largest ans the smallest eigenvalue is not very substantial):"
   ]
  },
  {
   "cell_type": "code",
   "execution_count": null,
   "metadata": {},
   "outputs": [],
   "source": [
    "np.random.seed(42)\n",
    "V_WITH_NOISE = np.random.normal(loc=GT_V,\n",
    "                                scale=0.30*np.sqrt(np.square(GT_V).mean()))"
   ]
  },
  {
   "cell_type": "code",
   "execution_count": null,
   "metadata": {},
   "outputs": [],
   "source": [
    "CSD_KESI_WITH_NOISE = to_3D(reconstructor_kesi(V_WITH_NOISE))"
   ]
  },
  {
   "cell_type": "code",
   "execution_count": null,
   "metadata": {
    "scrolled": false
   },
   "outputs": [],
   "source": [
    "plot_csd_reconstruction(CSD_KESI_WITH_NOISE,\n",
    "                        x=5e-5,\n",
    "                        y=0,\n",
    "                        z=1.5e-4,\n",
    "                        title='kESI (noise)')"
   ]
  },
  {
   "cell_type": "code",
   "execution_count": null,
   "metadata": {},
   "outputs": [],
   "source": [
    "del CSD_KESI_WITH_NOISE  # the array is large and no longer needed"
   ]
  },
  {
   "cell_type": "markdown",
   "metadata": {},
   "source": [
    "## Regularization\n",
    "\n",
    "Mathematically, any potential vector $V$ can be seen as a linear combination of eigenvectors $v_i$ of the kernel matrix $K$:\n",
    "$$\n",
    "V = \\sum_{i=1}^N a_i v_i ,\n",
    "$$\n",
    "$$\n",
    "K = \\sum_{i=1}^N v_i \\lambda_i v_i^T ,\n",
    "$$\n",
    "which makes the CSD reconstruction $C$:\n",
    "$$\n",
    "C = \\sum_{i=1}^N \\frac{a_i}{\\lambda_i} \\tilde{v}_i ,\n",
    "$$\n",
    "where $\\tilde{v}_i$ are eigensources.  A noisy vector $\\hat{V} = V + \\varepsilon$ can be seen as:\n",
    "$$\n",
    "\\hat{V} = \\sum_{i=1}^N (a_i + \\varepsilon_i) v_i = V + \\sum_{i=1}^N \\varepsilon_i v_i ,\n",
    "$$\n",
    "which makes the CSD reconstruction $\\hat{C}$:\n",
    "$$\n",
    "\\hat{C} = C + \\sum_{i=1}^N \\frac{\\varepsilon_i}{\\lambda_i} \\tilde{v}_i ,\n",
    "$$\n",
    "and the noise-related error $E$:\n",
    "$$\n",
    "E = \\sum_{i=1}^N \\frac{\\varepsilon_i}{\\lambda_i} \\tilde{v}_i .\n",
    "$$\n",
    "It is clear that noise component associated with small eigenvalues ($\\lambda_i$) can easily dominate the solution.\n",
    "\n",
    "A technique called regularization limits impact of components associated with small eigenvalues by slightly modifying the solution:\n",
    "$$\n",
    "\\hat{C}' = \\sum_{i=1}^N \\frac{a_i + \\varepsilon_i}{\\lambda_i + \\lambda} \\tilde{v}_i ,\n",
    "$$\n",
    "where $\\lambda$ is the regularization parameter.  But regularization is not a silver bullet.  While it limits the noise-related error:\n",
    "$$\n",
    "E' = \\sum_{i=1}^N \\frac{\\varepsilon_i}{\\lambda_i + \\lambda} \\tilde{v}_i ,\n",
    "$$\n",
    "it also suppresses reconstructions of eigensources associated with small eigenvalues, as:\n",
    "$$\n",
    "C' = \\sum_{i=1}^N \\frac{a_i}{\\lambda_i + \\lambda} \\tilde{v}_i .\n",
    "$$\n",
    "It is thus important to choose the regularization parameter $\\lambda$ wisely.  The span of parameters from which it is being selected should cover eigenvalues of the kernel.  Values smaller than the smallest eigenvalue have negligible effect, while values larger than the largest eigenvalue suppress reconstruction completely, thus the optimal value of the regularization parameter is expected to fall in the span of eigenvalues.  If the smallest of parameters is selected, that may suggest that the solution should not be regularized.  Such suggestion is explicite if the set of tested parameters includes $0$."
   ]
  },
  {
   "cell_type": "code",
   "execution_count": null,
   "metadata": {},
   "outputs": [],
   "source": [
    "EIGENVALUES_KESI = np.linalg.eigvalsh(KERNEL_KESI)[::-1]"
   ]
  },
  {
   "cell_type": "markdown",
   "metadata": {},
   "source": [
    "We reversed order of the returned eigenvalues for the sake of the highest-first convention."
   ]
  },
  {
   "cell_type": "code",
   "execution_count": null,
   "metadata": {},
   "outputs": [],
   "source": [
    "plt.plot(EIGENVALUES_KESI,\n",
    "         marker='o')\n",
    "\n",
    "plt.yscale('log')"
   ]
  },
  {
   "cell_type": "code",
   "execution_count": null,
   "metadata": {},
   "outputs": [],
   "source": [
    "REGULARIZATION_PARAMETERS = np.logspace(10, 20, 10 * 10 + 1)"
   ]
  },
  {
   "cell_type": "markdown",
   "metadata": {},
   "source": [
    "### One-leave-out cross-validation\n",
    "\n",
    "We select a regularization parameter which minimizes L2 norm of one-leave-out cross-validation errors.  One-leave-out means that we predict the potential at a single (the left out) electrode from potentials at the remaining electrodes, and calculate the prediction error.  The procedure is repeated for every electrode and norm of the errors is calculated.\n",
    "\n",
    "The convenience function `cv()` maps regularization parameters to norms of corresponding errors  (given a reconstructor and measurements)."
   ]
  },
  {
   "cell_type": "code",
   "execution_count": null,
   "metadata": {},
   "outputs": [],
   "source": [
    "from _common_new import cv"
   ]
  },
  {
   "cell_type": "code",
   "execution_count": null,
   "metadata": {},
   "outputs": [],
   "source": [
    "%%time\n",
    "CV_ERRORS = cv(reconstructor_kesi, V_WITH_NOISE, REGULARIZATION_PARAMETERS)"
   ]
  },
  {
   "cell_type": "code",
   "execution_count": null,
   "metadata": {},
   "outputs": [],
   "source": [
    "regularization_parameter = REGULARIZATION_PARAMETERS[np.argmin(CV_ERRORS)]"
   ]
  },
  {
   "cell_type": "code",
   "execution_count": null,
   "metadata": {},
   "outputs": [],
   "source": [
    "plt.plot(REGULARIZATION_PARAMETERS,\n",
    "         CV_ERRORS,\n",
    "         color=cbf.BLUE)\n",
    "plt.axvline(regularization_parameter,\n",
    "            ls=':',\n",
    "            color=cbf.BLUE)\n",
    "plt.xscale('log')\n",
    "plt.xlabel('regularization parameter')\n",
    "plt.yscale('log')\n",
    "plt.ylabel('L2 norm of cross-validation error')"
   ]
  },
  {
   "cell_type": "markdown",
   "metadata": {},
   "source": [
    "As the smallest value of `REGULARIZATION_PARAMETERS` has been chosen (which is 4 orders of magnitude smaller than any of the kernel eigenvalues), it seems that cross-validation is against regularization."
   ]
  },
  {
   "cell_type": "markdown",
   "metadata": {},
   "source": [
    "### L-curve\n",
    "\n",
    "The L-curve method is a heuristic based on observation, that for high values of $\\lambda$ the solution norm (defined in eq. 26 from [What we can and what we cannot see with extracellular multielectrodes](https://doi.org/10.1371/journal.pcbi.1008615) and associated with overfitting) is low but the prediction error is high, while for low values of $\\lambda$ it is the opposite.  It is assumed that for the optimal $\\lambda$ both error and norm are reasonably low, and either of them quickly increases with change of $\\lambda$.  Thus, when errors and norms obtained for a range of regularization parameters are plot against each other, the curve is expected to be \"L\"-shaped with values for the optimal parameter in the \"knee\" of the curve.\n",
    "\n",
    "The regularized potential $V_{\\lambda}$ is predicted from the actually measured potential $V$:\n",
    "$$\n",
    "V_{\\lambda} = K \\beta_{\\lambda} ,\n",
    "$$\n",
    "where\n",
    "$$\n",
    "\\beta_{\\lambda} = (K + I \\lambda)^{-1} V .\n",
    "$$"
   ]
  },
  {
   "cell_type": "code",
   "execution_count": null,
   "metadata": {},
   "outputs": [],
   "source": [
    "model_norm = []\n",
    "error = []\n",
    "for _regularization_parameter in REGULARIZATION_PARAMETERS:\n",
    "    _beta = np.linalg.solve(KERNEL_KESI + _regularization_parameter * np.identity(len(electrodes)),\n",
    "                            V_WITH_NOISE)\n",
    "    _V = np.matmul(KERNEL_KESI, _beta)\n",
    "    error.append(np.sqrt(np.square(V_WITH_NOISE - _V).mean()))\n",
    "    model_norm.append(np.dot(_beta, _V))"
   ]
  },
  {
   "cell_type": "code",
   "execution_count": null,
   "metadata": {},
   "outputs": [],
   "source": [
    "_idx_low, _idx_high = np.searchsorted(REGULARIZATION_PARAMETERS,\n",
    "                                      [EIGENVALUES_KESI.min(),\n",
    "                                       EIGENVALUES_KESI.max()])\n",
    "_bottom = model_norm[_idx_high]\n",
    "_top = model_norm[_idx_low]\n",
    "_left = error[_idx_low]\n",
    "_right = error[_idx_high]\n",
    "\n",
    "fig, ax = plt.subplots()\n",
    "ax.plot(error, model_norm,\n",
    "        marker='.',\n",
    "        color=cbf.BLUE)\n",
    "ax.add_patch(plt.Rectangle((_left, _bottom),\n",
    "                           _right - _left,\n",
    "                           _top - _bottom,\n",
    "                           ls=':',\n",
    "                           edgecolor=cbf.BLACK,\n",
    "                           facecolor='none'))\n",
    "\n",
    "ax.set_yscale('log')\n",
    "ax.set_ylabel('norm of the model')\n",
    "ax.set_xscale('log')\n",
    "ax.set_xlabel('L2 norm of the prediction error')\n",
    "ax.set_title('L-curve')\n",
    "\n",
    "\n",
    "fig, ax = plt.subplots()\n",
    "ax.plot(error, model_norm,\n",
    "        marker='.',\n",
    "        color=cbf.BLUE)\n",
    "\n",
    "ax.set_yscale('log')\n",
    "ax.set_ylabel('norm of the model')\n",
    "ax.set_xscale('log')\n",
    "ax.set_xlabel('L2 norm of the prediction error')\n",
    "ax.set_xlim(_left, _right)\n",
    "ax.set_ylim(_bottom, _top)\n",
    "_ = ax.set_title('L-curve cropped to the range of eigenvalues')"
   ]
  },
  {
   "cell_type": "markdown",
   "metadata": {},
   "source": [
    "### Expert knowledge\n",
    "\n",
    "As neither cross-validation nor the L-curve method allowed to select a regularization, the expert knowledge has been used to choose `500_000_000_000_000` (`5e14`) as a value expected to damp all eigensources but the original."
   ]
  },
  {
   "cell_type": "code",
   "execution_count": null,
   "metadata": {},
   "outputs": [],
   "source": [
    "CSD_KESI_EXPERT_KNOWLEDGE = to_3D(reconstructor_kesi(V_WITH_NOISE, 5e14))"
   ]
  },
  {
   "cell_type": "code",
   "execution_count": null,
   "metadata": {
    "scrolled": false
   },
   "outputs": [],
   "source": [
    "plot_csd_reconstruction(CSD_KESI_EXPERT_KNOWLEDGE,\n",
    "                        x=5e-5,\n",
    "                        y=0,\n",
    "                        z=1.5e-4,\n",
    "                        title='kESI (regularized)')"
   ]
  },
  {
   "cell_type": "code",
   "execution_count": null,
   "metadata": {},
   "outputs": [],
   "source": [
    "del CSD_KESI_EXPERT_KNOWLEDGE  # the array is large and no longer needed"
   ]
  },
  {
   "cell_type": "code",
   "execution_count": null,
   "metadata": {},
   "outputs": [],
   "source": []
  }
 ],
 "metadata": {
  "kernelspec": {
   "display_name": "Python [conda env:kesi37]",
   "language": "python",
   "name": "conda-env-kesi37-py"
  },
  "language_info": {
   "codemirror_mode": {
    "name": "ipython",
    "version": 3
   },
   "file_extension": ".py",
   "mimetype": "text/x-python",
   "name": "python",
   "nbconvert_exporter": "python",
   "pygments_lexer": "ipython3",
   "version": "3.7.13"
  }
 },
 "nbformat": 4,
 "nbformat_minor": 4
}
