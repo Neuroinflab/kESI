{
 "cells": [
  {
   "cell_type": "code",
   "execution_count": null,
   "id": "3ebd40dd",
   "metadata": {},
   "outputs": [],
   "source": [
    "%matplotlib inline\n",
    "\n",
    "import configparser\n",
    "\n",
    "import numpy as np\n",
    "import scipy.integrate as si\n",
    "\n",
    "import matplotlib.pyplot as plt\n",
    "import cbf\n",
    "\n",
    "import kesi\n",
    "import kesi._verbose as verbose\n",
    "import _fast_reciprocal_reconstructor as frr\n",
    "import common"
   ]
  },
  {
   "cell_type": "code",
   "execution_count": null,
   "id": "050b1e02",
   "metadata": {},
   "outputs": [],
   "source": [
    "MODEL = '4SM_CSF_3_mm'\n",
    "MESH = 'uniform_coarse'\n",
    "DEGREE = 3\n",
    "BRAIN_R = 0.079"
   ]
  },
  {
   "cell_type": "markdown",
   "id": "5462a8ce",
   "metadata": {},
   "source": [
    "# Note\n",
    "\n",
    "Mind that to fit 4SM electrodes are centered in `[4.7467814  4.04361142 4.40882958] 1e-3`."
   ]
  },
  {
   "cell_type": "code",
   "execution_count": null,
   "id": "17fa91ad",
   "metadata": {},
   "outputs": [],
   "source": [
    "ELECTRODE_ORDER = [('AMG', '1'), ('AMG', '2'), ('AMG', '3'), ('AMG', '4'), ('AMG', '5'), ('AMG', '6'), ('AMG', '7'), ('AMG', '8'), ('HH', '1'), ('HH', '2'), ('HH', '3'), ('HH', '4'), ('HH', '5'), ('HH', '6'), ('HH', '7'), ('HH', '8'), ('HP', '1'), ('HP', '2'), ('HP', '3'), ('HP', '4'), ('HP', '5'), ('HP', '6'), ('HP', '7'), ('HP', '8'), ('PC', '1'), ('PC', '2'), ('PC', '3'), ('PC', '4'), ('PC', '5'), ('PC', '6'), ('PC', '7'), ('PC', '8'), ('PM', '1'), ('PM', '2'), ('PM', '3'), ('PM', '4'), ('PM', '5'), ('PM', '6'), ('STG', '1'), ('STG', '2'), ('STG', '3'), ('STG', '4'), ('STG', '5'), ('STG', '6'), ('STG', '7'), ('STG', '8'), ('TP', '1'), ('TP', '2'), ('TP', '3'), ('TP', '4'), ('TP', '5'), ('TP', '6'), ('TP', '7'), ('TP', '8')]"
   ]
  },
  {
   "cell_type": "code",
   "execution_count": null,
   "id": "b5c4b751",
   "metadata": {},
   "outputs": [],
   "source": [
    "class Electrode(object):\n",
    "    def __init__(self, filename, decimals_tolerance=None, dx=0):\n",
    "        \"\"\"\n",
    "        Parameters\n",
    "        ----------\n",
    "        \n",
    "        filename : str\n",
    "            Path to the sampled correction potential.\n",
    "            \n",
    "        decimals_tolerance : int\n",
    "            Precision of coordinate comparison\n",
    "            in the `.correction_potential()` method.\n",
    "            \n",
    "        dx : float\n",
    "            Integration step used to calculate a regularization\n",
    "            parameter of the `.base_potential()` method.\n",
    "        \"\"\"\n",
    "        self.filename = filename\n",
    "        self.decimals_tolerance = decimals_tolerance\n",
    "        self.dx = dx\n",
    "        with np.load(filename) as fh:\n",
    "            self._X = self.round(fh['X'])\n",
    "            self._Y = self.round(fh['Y'])\n",
    "            self._Z = self.round(fh['Z'])\n",
    "            self.x, self.y, self.z = fh['LOCATION']\n",
    "            self.base_conductivity = fh['BASE_CONDUCTIVITY']\n",
    "\n",
    "    @property\n",
    "    def _epsilon(self):\n",
    "        \"\"\"\n",
    "        Regularization parameter of the `.base_potential()` method.\n",
    "        \n",
    "        Note\n",
    "        ----\n",
    "        \n",
    "        The 0.15 factor choice has been based on a toy numerical experiment.\n",
    "        Further, more rigorous experiments are definitely recommended.\n",
    "        \"\"\"\n",
    "        return 0.15 * self.dx\n",
    "    \n",
    "    def round(self, A):\n",
    "        if self.decimals_tolerance is None:\n",
    "            return A\n",
    "        return np.round(A, decimals=self.decimals_tolerance)\n",
    "\n",
    "    def correction_potential(self, X, Y, Z):\n",
    "        \"\"\"\n",
    "        Parameters\n",
    "        ----------\n",
    "        X, Y, Z : np.array\n",
    "            Coordinate matrices with matrix indexing.\n",
    "            Coordinates are expected to be - respectively -\n",
    "            from `._X`, `._Y` and `._Z` attributes.\n",
    "            May be obtained with\n",
    "            `X, Y, Z = np.meshgrid(..., indexing='ij')`.\n",
    "        \"\"\"\n",
    "        _X, IDX_X, _ = np.intersect1d(self._X, self.round(X[:, 0, 0]), return_indices=True)\n",
    "        assert len(_X) == np.shape(X)[0]\n",
    "        _Y, IDX_Y, _ = np.intersect1d(self._Y, self.round(Y[0, :, 0]), return_indices=True)\n",
    "        assert len(_Y) == np.shape(Y)[1]\n",
    "        _Z, IDX_Z, _ = np.intersect1d(self._Z, self.round(Z[0, 0, :]), return_indices=True)\n",
    "        assert len(_Z) == np.shape(Z)[2]\n",
    "\n",
    "        with np.load(self.filename) as fh:\n",
    "            return fh['CORRECTION_POTENTIAL'][np.ix_(IDX_X, IDX_Y, IDX_Z)]\n",
    "\n",
    "    def base_potential(self, X, Y, Z):\n",
    "        return (0.25 / (np.pi * self.base_conductivity)\n",
    "                / (self._epsilon\n",
    "                   + np.sqrt(np.square(X - self.x)\n",
    "                             + np.square(Y - self.y)\n",
    "                             + np.square(Z - self.z))))"
   ]
  },
  {
   "cell_type": "code",
   "execution_count": null,
   "id": "193f5021",
   "metadata": {},
   "outputs": [],
   "source": [
    "electrodes = [Electrode(f'FEM/solutions/paper/{MODEL}/{MESH}_{DEGREE}/epi_wroclaw_sampled/9/{group}_{n}.npz')\n",
    "              for group, n in ELECTRODE_ORDER]"
   ]
  },
  {
   "cell_type": "code",
   "execution_count": null,
   "id": "bd1db520",
   "metadata": {},
   "outputs": [],
   "source": [
    "_X, _Y, _Z = [getattr(electrodes[0], f'_{c}') for c in 'XYZ']"
   ]
  },
  {
   "cell_type": "code",
   "execution_count": null,
   "id": "c1351789",
   "metadata": {},
   "outputs": [],
   "source": [
    "_ix_csd = np.searchsorted(_X * 1e3, [16.15, 85.6])\n",
    "_iy_csd = np.searchsorted(_Y * 1e3, [-24.04, 53.51])\n",
    "_iz_csd = np.searchsorted(_Z * 1e3, [-32.2, 40.65])"
   ]
  },
  {
   "cell_type": "code",
   "execution_count": null,
   "id": "83bc997e",
   "metadata": {},
   "outputs": [],
   "source": [
    "dx = max((_A[-1] - _A[0]) / (len(_A) - 1) for _A in [_X, _Y, _Z])"
   ]
  },
  {
   "cell_type": "code",
   "execution_count": null,
   "id": "2e908130",
   "metadata": {},
   "outputs": [],
   "source": [
    "dx"
   ]
  },
  {
   "cell_type": "code",
   "execution_count": null,
   "id": "551bdcfd",
   "metadata": {},
   "outputs": [],
   "source": [
    "ROMBERG_K = 6\n",
    "ROMBERG_N = 2 ** ROMBERG_K + 1\n",
    "ROMBERG_WEIGHTS = si.romb(np.identity(ROMBERG_N)) * 2 ** -ROMBERG_K\n",
    "\n",
    "SRC_R_MAX = dx * 2 ** (ROMBERG_K - 1)\n",
    "\n",
    "spline_nodes = [SRC_R_MAX / 3, SRC_R_MAX]\n",
    "spline_polynomials = [[1],\n",
    "                      [0,\n",
    "                       6.75 / SRC_R_MAX,\n",
    "                       -13.5 / SRC_R_MAX ** 2,\n",
    "                       6.75 / SRC_R_MAX ** 3]]\n",
    "model_src = common.SphericalSplineSourceKCSD(0, 0, 0,\n",
    "                                             spline_nodes,\n",
    "                                             spline_polynomials,\n",
    "                                             electrodes[0].base_conductivity)\n",
    "\n",
    "print(SRC_R_MAX)"
   ]
  },
  {
   "cell_type": "code",
   "execution_count": null,
   "id": "1789209b",
   "metadata": {},
   "outputs": [],
   "source": [
    "convolver = frr.ckESI_convolver([_X[_X >= _X[_ix_csd[0] - 1] - SRC_R_MAX],\n",
    "                                 _Y[(_Y >= _Y[_iy_csd[0] - 1] - SRC_R_MAX)\n",
    "                                    & (_Y <= _Y[_iy_csd[1] + 1] + SRC_R_MAX)],\n",
    "                                 _Z[(_Z >= _Z[_iz_csd[0] - 1] - SRC_R_MAX)\n",
    "                                    & (_Z <= _Z[_iz_csd[1] + 1] + SRC_R_MAX)],\n",
    "                                 ],\n",
    "                                [_X[_ix_csd[0] - 1:_ix_csd[1] + 1],\n",
    "                                 _Y[_iy_csd[0] - 1:_iy_csd[1] + 1],\n",
    "                                 _Z[_iz_csd[0] - 1:_iz_csd[1] + 1],\n",
    "                                 ])"
   ]
  },
  {
   "cell_type": "code",
   "execution_count": null,
   "id": "d02b89d0",
   "metadata": {},
   "outputs": [],
   "source": [
    "SRC_IDX = np.sqrt(sum(np.square(getattr(convolver, f'SRC_{c}')) for c in 'XYZ')) <= BRAIN_R - SRC_R_MAX"
   ]
  },
  {
   "cell_type": "code",
   "execution_count": null,
   "id": "28013e39",
   "metadata": {},
   "outputs": [],
   "source": [
    "SRC_IDX.sum()"
   ]
  },
  {
   "cell_type": "code",
   "execution_count": null,
   "id": "22d11ae9",
   "metadata": {},
   "outputs": [],
   "source": [
    "convolver_interface = frr.ConvolverInterfaceIndexed(convolver,\n",
    "                                                    model_src.csd,\n",
    "                                                    ROMBERG_WEIGHTS,\n",
    "                                                    SRC_IDX)"
   ]
  },
  {
   "cell_type": "code",
   "execution_count": null,
   "id": "8a99bed5",
   "metadata": {},
   "outputs": [],
   "source": [
    "kernel_constructor = frr.ckESI_kernel_constructor()"
   ]
  },
  {
   "cell_type": "code",
   "execution_count": null,
   "id": "0bca41e4",
   "metadata": {},
   "outputs": [],
   "source": [
    "CSD_IDX = np.ones(convolver.shape('CSD'),\n",
    "                  dtype=bool)"
   ]
  },
  {
   "cell_type": "code",
   "execution_count": null,
   "id": "a68b74f8",
   "metadata": {},
   "outputs": [],
   "source": [
    "CSD_IDX.shape"
   ]
  },
  {
   "cell_type": "code",
   "execution_count": null,
   "id": "7cc5ce46",
   "metadata": {},
   "outputs": [],
   "source": [
    "kernel_constructor.create_crosskernel = frr.ckESI_crosskernel_constructor(convolver_interface,\n",
    "                                                                          CSD_IDX)"
   ]
  },
  {
   "cell_type": "code",
   "execution_count": null,
   "id": "b8917791",
   "metadata": {},
   "outputs": [],
   "source": [
    "potential_at_electrode = frr.PAE_kESI_Analytical(convolver_interface,\n",
    "                                                 potential=model_src.potential)"
   ]
  },
  {
   "cell_type": "code",
   "execution_count": null,
   "id": "b40e7ef9",
   "metadata": {},
   "outputs": [],
   "source": [
    "%%time\n",
    "Φ = kernel_constructor.create_base_images_at_electrodes(electrodes,\n",
    "                                                        potential_at_electrode)"
   ]
  },
  {
   "cell_type": "code",
   "execution_count": null,
   "id": "b49f433e",
   "metadata": {},
   "outputs": [],
   "source": [
    "KERNEL = kernel_constructor.create_kernel(Φ)"
   ]
  },
  {
   "cell_type": "code",
   "execution_count": null,
   "id": "cb605ad7",
   "metadata": {},
   "outputs": [],
   "source": [
    "EIGENVALUES, EIGENVECTORS = np.linalg.eigh(KERNEL)\n",
    "EIGENVALUES, EIGENVECTORS = EIGENVALUES[::-1], EIGENVECTORS[:, ::-1]"
   ]
  },
  {
   "cell_type": "code",
   "execution_count": null,
   "id": "a07916aa",
   "metadata": {},
   "outputs": [],
   "source": [
    "EIGENSOURCES = np.matmul(Φ,\n",
    "                         np.matmul(EIGENVECTORS,\n",
    "                                   np.diag(1. / np.sqrt(EIGENVALUES))))"
   ]
  },
  {
   "cell_type": "code",
   "execution_count": null,
   "id": "7c6857b2",
   "metadata": {},
   "outputs": [],
   "source": [
    "%%time\n",
    "CROSSKERNEL = kernel_constructor.create_crosskernel(Φ)"
   ]
  },
  {
   "cell_type": "code",
   "execution_count": null,
   "id": "03cb5a97",
   "metadata": {},
   "outputs": [],
   "source": [
    "del Φ"
   ]
  },
  {
   "cell_type": "code",
   "execution_count": null,
   "id": "9b9ce260",
   "metadata": {},
   "outputs": [],
   "source": [
    "%%time\n",
    "EIGENSOURCES_CSD = kernel_constructor.create_crosskernel(EIGENSOURCES)"
   ]
  },
  {
   "cell_type": "code",
   "execution_count": null,
   "id": "8a076a8a",
   "metadata": {},
   "outputs": [],
   "source": [
    "del EIGENSOURCES"
   ]
  },
  {
   "cell_type": "code",
   "execution_count": null,
   "id": "ed5e1e55",
   "metadata": {},
   "outputs": [],
   "source": [
    "CROSSKERNEL_ES = np.matmul(np.diag(np.sqrt(EIGENVALUES)),\n",
    "                           EIGENVECTORS.T)"
   ]
  },
  {
   "cell_type": "code",
   "execution_count": null,
   "id": "a0079d9e",
   "metadata": {},
   "outputs": [],
   "source": [
    "_TMP = np.empty(convolver.shape('CSD') + CROSSKERNEL.shape[1:])\n",
    "\n",
    "for i, _COL in enumerate(CROSSKERNEL.T):\n",
    "    _TMP[:, :, :, i] = _COL.reshape(convolver.shape('CSD'))\n",
    "\n",
    "CROSSKERNEL = np.swapaxes(_TMP, 0, 1)\n",
    "del _TMP"
   ]
  },
  {
   "cell_type": "code",
   "execution_count": null,
   "id": "c84dc7f1",
   "metadata": {},
   "outputs": [],
   "source": [
    "_TMP = np.empty(convolver.shape('CSD') + EIGENSOURCES_CSD.shape[1:])\n",
    "\n",
    "for i, _COL in enumerate(EIGENSOURCES_CSD.T):\n",
    "    _TMP[:, :, :, i] = _COL.reshape(convolver.shape('CSD'))\n",
    "\n",
    "EIGENSOURCES_CSD = np.swapaxes(_TMP, 0, 1)\n",
    "del _TMP\n",
    "print(EIGENSOURCES_CSD.max(), EIGENSOURCES_CSD.min())"
   ]
  },
  {
   "cell_type": "code",
   "execution_count": null,
   "id": "75729e0d",
   "metadata": {},
   "outputs": [],
   "source": [
    "CSD_SPACE = np.array([np.swapaxes(A, 0, 1)\n",
    "                      for A in np.meshgrid(*convolver.CSD_MESH,\n",
    "                                           indexing='ij')])"
   ]
  },
  {
   "cell_type": "code",
   "execution_count": null,
   "id": "70611428",
   "metadata": {},
   "outputs": [],
   "source": [
    "kernel_solver = kesi._engine._LinearKernelSolver(KERNEL)"
   ]
  },
  {
   "cell_type": "code",
   "execution_count": null,
   "id": "b722e5be",
   "metadata": {},
   "outputs": [],
   "source": [
    "plt.plot(np.linalg.eigvals(KERNEL))\n",
    "plt.yscale('log')"
   ]
  },
  {
   "cell_type": "code",
   "execution_count": null,
   "id": "bfca1088",
   "metadata": {},
   "outputs": [],
   "source": [
    "REGULARIZATION_PARAMETERS = np.logspace(0, 15, 10 * 15 + 1)"
   ]
  },
  {
   "cell_type": "code",
   "execution_count": null,
   "id": "603a7aca",
   "metadata": {},
   "outputs": [],
   "source": [
    "DATA = np.load('FEM/solutions/NOT_SOLUTIONS/epi_wroclaw/lfp_napad.npy')"
   ]
  },
  {
   "cell_type": "code",
   "execution_count": null,
   "id": "496f0ed3",
   "metadata": {},
   "outputs": [],
   "source": [
    "DATA.shape"
   ]
  },
  {
   "cell_type": "code",
   "execution_count": null,
   "id": "0645a64b",
   "metadata": {},
   "outputs": [],
   "source": [
    "%%time\n",
    "ERRORS = common.cv(kernel_solver, DATA[:, :100], REGULARIZATION_PARAMETERS)"
   ]
  },
  {
   "cell_type": "code",
   "execution_count": null,
   "id": "41ac2d48",
   "metadata": {},
   "outputs": [],
   "source": [
    "%%time\n",
    "ERRORS = common.cv(kernel_solver, DATA[:, :1000], REGULARIZATION_PARAMETERS)"
   ]
  },
  {
   "cell_type": "code",
   "execution_count": null,
   "id": "065b969b",
   "metadata": {},
   "outputs": [],
   "source": [
    "%%time\n",
    "ERRORS = common.cv(kernel_solver, DATA[:, :2500], REGULARIZATION_PARAMETERS)"
   ]
  },
  {
   "cell_type": "code",
   "execution_count": null,
   "id": "c147b800",
   "metadata": {},
   "outputs": [],
   "source": [
    "%%time\n",
    "ERRORS = common.cv(kernel_solver, DATA[:, :5000], REGULARIZATION_PARAMETERS)"
   ]
  },
  {
   "cell_type": "code",
   "execution_count": null,
   "id": "a07f767a",
   "metadata": {},
   "outputs": [],
   "source": [
    "%%time\n",
    "ERRORS = common.cv(kernel_solver, DATA[:, :6000], REGULARIZATION_PARAMETERS)"
   ]
  },
  {
   "cell_type": "code",
   "execution_count": null,
   "id": "ff6ff795",
   "metadata": {},
   "outputs": [],
   "source": [
    "%%time\n",
    "ERRORS = common.cv(kernel_solver, DATA[:, :7500], REGULARIZATION_PARAMETERS)"
   ]
  },
  {
   "cell_type": "code",
   "execution_count": null,
   "id": "30f38e98",
   "metadata": {},
   "outputs": [],
   "source": [
    "%%time\n",
    "ERRORS = common.cv(kernel_solver, DATA[:, :10000], REGULARIZATION_PARAMETERS)"
   ]
  },
  {
   "cell_type": "code",
   "execution_count": null,
   "id": "827ca799",
   "metadata": {},
   "outputs": [],
   "source": [
    "DATA.shape[1] / 5000 * 23 / 3600"
   ]
  },
  {
   "cell_type": "code",
   "execution_count": null,
   "id": "db8596e3",
   "metadata": {},
   "outputs": [],
   "source": [
    "%%time\n",
    "_ERRORS = []\n",
    "# _ERRORS_OLD = []\n",
    "buffer_size = 5000\n",
    "for i in range(int(np.ceil(DATA.shape[1] / buffer_size))):\n",
    "    TMP = DATA[:, i * buffer_size:(i + 1) * buffer_size]\n",
    "#     _ERRORS_OLD.append(TMP.shape[1] * np.array(common.cv(kernel_solver, TMP, REGULARIZATION_PARAMETERS)))\n",
    "    _ERRORS.append(TMP.shape[1] * np.square(common.cv(kernel_solver, TMP, REGULARIZATION_PARAMETERS)))\n",
    "#     assert len(_ERRORS[-1]) == len(REGULARIZATION_PARAMETERS)\n",
    "\n",
    "# ERRORS_OLD = np.sum(_ERRORS_OLD, axis=0) / DATA.shape[1]\n",
    "ERRORS = np.sqrt(np.sum(_ERRORS, axis=0) / DATA.shape[1])"
   ]
  },
  {
   "cell_type": "code",
   "execution_count": null,
   "id": "6cd0cda9",
   "metadata": {},
   "outputs": [],
   "source": [
    "regularization_parameter = REGULARIZATION_PARAMETERS[np.argmin(ERRORS)]"
   ]
  },
  {
   "cell_type": "code",
   "execution_count": null,
   "id": "c7f19d1d",
   "metadata": {},
   "outputs": [],
   "source": [
    "plt.plot(REGULARIZATION_PARAMETERS, ERRORS)\n",
    "# plt.plot(REGULARIZATION_PARAMETERS, ERRORS_OLD)\n",
    "plt.xscale('log')\n",
    "plt.yscale('log')\n",
    "plt.axvline(regularization_parameter)"
   ]
  },
  {
   "cell_type": "code",
   "execution_count": null,
   "id": "445797db",
   "metadata": {},
   "outputs": [],
   "source": [
    "plt.plot(REGULARIZATION_PARAMETERS, np.transpose(_ERRORS))\n",
    "# plt.plot(REGULARIZATION_PARAMETERS, ERRORS_OLD)\n",
    "plt.xscale('log')\n",
    "plt.yscale('log')\n",
    "plt.axvline(regularization_parameter)"
   ]
  },
  {
   "cell_type": "code",
   "execution_count": null,
   "id": "f8700f1b",
   "metadata": {},
   "outputs": [],
   "source": [
    "%%time\n",
    "BETAS = kernel_solver(DATA, regularization_parameter)"
   ]
  },
  {
   "cell_type": "code",
   "execution_count": null,
   "id": "cdacdd09",
   "metadata": {},
   "outputs": [],
   "source": [
    "ORIGINAL_CSD_SPACE = [np.array([-24.04      , -19.47817609, -14.91635218, -10.35452826,\n",
    "                                -5.79270435,  -1.23088044,   3.33094347,   7.89276738,\n",
    "                                12.45459129,  17.01641521,  21.57823912,  26.14006303,\n",
    "                                30.70188694,  35.26371085,  39.82553477,  44.38735868,\n",
    "                                48.94918259,  53.5110065 ]),\n",
    "                      np.array([16.15      , 20.78009875, 25.41019751, 30.04029626, 34.67039502,\n",
    "                                39.30049377, 43.93059253, 48.56069128, 53.19079004, 57.82088879,\n",
    "                                62.45098755, 67.0810863 , 71.71118506, 76.34128381, 80.97138257,\n",
    "                                85.60148132]),\n",
    "                      np.array([-32.2       , -27.64703526, -23.09407053, -18.54110579,\n",
    "                                -13.98814105,  -9.43517632,  -4.88221158,  -0.32924684,\n",
    "                                4.22371789,   8.77668263,  13.32964737,  17.8826121 ,\n",
    "                                22.43557684,  26.98854158,  31.54150631,  36.09447105,\n",
    "                                40.64743579]),\n",
    "                      ] # Y, X, Z"
   ]
  },
  {
   "cell_type": "code",
   "execution_count": null,
   "id": "419c0db9",
   "metadata": {},
   "outputs": [],
   "source": [
    "from scipy.interpolate import RegularGridInterpolator"
   ]
  },
  {
   "cell_type": "code",
   "execution_count": null,
   "id": "80ce9103",
   "metadata": {},
   "outputs": [],
   "source": [
    "INTERPOLATED_CROSSKERNEL = []\n",
    "\n",
    "for i in range(len(KERNEL)):\n",
    "    interpolator = RegularGridInterpolator([CSD_SPACE[1, :, 0, 0] * 1e3,\n",
    "                                            CSD_SPACE[0, 0, :, 0] * 1e3,\n",
    "                                            CSD_SPACE[2, 0, 0, :] * 1e3,\n",
    "                                            ],\n",
    "                                           CROSSKERNEL[:, :, :, i],\n",
    "                                           bounds_error=False,\n",
    "                                           fill_value=0)\n",
    "    INTERPOLATED_CROSSKERNEL.append(\n",
    "        interpolator(np.stack(np.meshgrid(*ORIGINAL_CSD_SPACE, indexing='ij'),\n",
    "                              axis=-1)))\n",
    "INTERPOLATED_CROSSKERNEL = np.stack(INTERPOLATED_CROSSKERNEL, axis=-1)"
   ]
  },
  {
   "cell_type": "code",
   "execution_count": null,
   "id": "eec3cdf7",
   "metadata": {},
   "outputs": [],
   "source": [
    "INTERPOLATED_CROSSKERNEL.shape"
   ]
  },
  {
   "cell_type": "code",
   "execution_count": null,
   "id": "68a071f3",
   "metadata": {},
   "outputs": [],
   "source": [
    "INTERPOLATED_CROSSKERNEL.dtype"
   ]
  },
  {
   "cell_type": "code",
   "execution_count": null,
   "id": "fe0a0e33",
   "metadata": {},
   "outputs": [],
   "source": [
    "print(CROSSKERNEL.max(), CROSSKERNEL.min())"
   ]
  },
  {
   "cell_type": "code",
   "execution_count": null,
   "id": "cfca804c",
   "metadata": {},
   "outputs": [],
   "source": [
    "print(BETAS.max(), BETAS.min())"
   ]
  },
  {
   "cell_type": "code",
   "execution_count": null,
   "id": "8fff0ef6",
   "metadata": {},
   "outputs": [],
   "source": [
    "np.finfo(np.float16), np.finfo(np.float16).tiny"
   ]
  },
  {
   "cell_type": "code",
   "execution_count": null,
   "id": "f639f05c",
   "metadata": {},
   "outputs": [],
   "source": [
    "np.finfo(np.float32), np.finfo(np.float32).tiny"
   ]
  },
  {
   "cell_type": "code",
   "execution_count": null,
   "id": "c0898905",
   "metadata": {},
   "outputs": [],
   "source": [
    "np.savez_compressed('git_stereotactic_epi_wroclaw_kESI_4SM.npz',\n",
    "                    csd_space=CSD_SPACE * 1e3,\n",
    "                    _kernel=KERNEL,\n",
    "                    inflation_matrix=CROSSKERNEL.astype(np.float32),\n",
    "                    _inflation_matrix=INTERPOLATED_CROSSKERNEL.astype(np.float32),\n",
    "                    compressed_matrix=BETAS.astype(np.float32))"
   ]
  },
  {
   "cell_type": "code",
   "execution_count": null,
   "id": "16b57b57",
   "metadata": {},
   "outputs": [],
   "source": [
    "INTERPOLATED_ES_CSD = []\n",
    "\n",
    "for i in range(len(KERNEL)):\n",
    "    interpolator = RegularGridInterpolator([CSD_SPACE[1, :, 0, 0] * 1e3,\n",
    "                                            CSD_SPACE[0, 0, :, 0] * 1e3,\n",
    "                                            CSD_SPACE[2, 0, 0, :] * 1e3,\n",
    "                                            ],\n",
    "                                           EIGENSOURCES_CSD[:, :, :, i],\n",
    "                                           bounds_error=False,\n",
    "                                           fill_value=0)\n",
    "    INTERPOLATED_ES_CSD.append(\n",
    "        interpolator(np.stack(np.meshgrid(*ORIGINAL_CSD_SPACE, indexing='ij'),\n",
    "                              axis=-1)))\n",
    "INTERPOLATED_ES_CSD = np.stack(INTERPOLATED_ES_CSD, axis=-1)"
   ]
  },
  {
   "cell_type": "code",
   "execution_count": null,
   "id": "3ea9f3a3",
   "metadata": {},
   "outputs": [],
   "source": [
    "EIGENSOURCES_CSD.max(), EIGENSOURCES_CSD.min()"
   ]
  },
  {
   "cell_type": "code",
   "execution_count": null,
   "id": "028afcef",
   "metadata": {},
   "outputs": [],
   "source": [
    "abs(np.matmul(CROSSKERNEL_ES, BETAS)).max()"
   ]
  },
  {
   "cell_type": "code",
   "execution_count": null,
   "id": "b4ddc0fe",
   "metadata": {},
   "outputs": [],
   "source": [
    "np.isnan(INTERPOLATED_ES_CSD).any(), np.isinf(INTERPOLATED_ES_CSD).any()"
   ]
  },
  {
   "cell_type": "code",
   "execution_count": null,
   "id": "6e0c1163",
   "metadata": {},
   "outputs": [],
   "source": [
    "np.savez_compressed('git_stereotactic_epi_wroclaw_kESI_4SM.eigensources.npz',\n",
    "                    csd_space=CSD_SPACE * 1e3,\n",
    "                    inflation_matrix=EIGENSOURCES_CSD.astype(np.float32),\n",
    "                    _inflation_matrix=INTERPOLATED_ES_CSD.astype(np.float32),\n",
    "                    compressed_matrix=np.matmul(CROSSKERNEL_ES, BETAS).astype(np.float32))"
   ]
  },
  {
   "cell_type": "code",
   "execution_count": null,
   "id": "b8a18f21",
   "metadata": {},
   "outputs": [],
   "source": []
  }
 ],
 "metadata": {
  "kernelspec": {
   "display_name": "Python [conda env:kesi37]",
   "language": "python",
   "name": "conda-env-kesi37-py"
  },
  "language_info": {
   "codemirror_mode": {
    "name": "ipython",
    "version": 3
   },
   "file_extension": ".py",
   "mimetype": "text/x-python",
   "name": "python",
   "nbconvert_exporter": "python",
   "pygments_lexer": "ipython3",
   "version": "3.7.13"
  }
 },
 "nbformat": 4,
 "nbformat_minor": 5
}
