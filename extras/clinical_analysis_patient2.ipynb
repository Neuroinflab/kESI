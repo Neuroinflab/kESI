{
 "cells": [
  {
   "cell_type": "code",
   "execution_count": null,
   "metadata": {},
   "outputs": [],
   "source": [
    "import numpy as np\n",
    "import matplotlib.pyplot as plt"
   ]
  },
  {
   "cell_type": "code",
   "execution_count": null,
   "metadata": {},
   "outputs": [],
   "source": [
    "import pandas as pd\n",
    "path_to_csv = 'data/generated/setups/patient_2/electrodes.csv'\n",
    "df = pd.read_csv(path_to_csv)"
   ]
  },
  {
   "cell_type": "code",
   "execution_count": null,
   "metadata": {},
   "outputs": [],
   "source": [
    "ele_names = df.NAME"
   ]
  },
  {
   "cell_type": "code",
   "execution_count": null,
   "metadata": {
    "scrolled": true
   },
   "outputs": [],
   "source": [
    "ele_names"
   ]
  },
  {
   "cell_type": "markdown",
   "metadata": {},
   "source": [
    "%run solve_sphere_on_plate.py \\\n",
    "  --mesh data/generated/meshes/four_spheres_csf_3_mm__plain/normal.xdmf \\\n",
    "  --degree 1 \\\n",
    "  --config data/bundled/model_properties/four_spheres_csf_3_mm__Naess_Chintaluri_2017.ini \\\n",
    "  --grounded-plate-edge-z -0.088 \\\n",
    "  --electrodes data/generated/setups/patient_2/electrodes.csv \\\n",
    "  --name HB-3 \\\n",
    "  --output data/generated/tutorial/patient_2/fenics_leadfield_corrections/HB-3.ini\n",
    "\n",
    "%run create_grid.py \\\n",
    "  --grid data/generated/tutorial/patient_2/sampled_leadfield_corrections/grid.npz \\\n",
    "  --start -0.079 \\\n",
    "  --end 0.079 \\\n",
    "  -k 9\n",
    "\n",
    "%run sample_spherical_solution.py \\\n",
    "  --fill 0 \\\n",
    "  --sampling-radius 0.079 \\\n",
    "  --grid data/generated/tutorial/patient_2/sampled_leadfield_corrections/grid.npz \\\n",
    "  --config data/generated/tutorial/patient_2/fenics_leadfield_corrections/HB-3.ini \\\n",
    "  --output data/generated/tutorial/patient_2/sampled_leadfield_corrections/HB-3.npz"
   ]
  },
  {
   "cell_type": "code",
   "execution_count": null,
   "metadata": {},
   "outputs": [],
   "source": [
    "X = [0, 0, 0, 0, 0, 0.079, -0.079]\n",
    "Y = [0, 0.079, -0.079, 0, 0, 0, 0]\n",
    "Z = [0, 0, 0, 0.079, -0.079, 0, 0]\n",
    "\n",
    "\n",
    "df = pd.read_csv(path_to_csv)\n",
    "\n",
    "fig = plt.figure()\n",
    "ax = fig.add_subplot(projection='3d')\n",
    "ax.scatter(df.X, df.Y, df.Z)\n",
    "ax.scatter(X, Y, Z)\n",
    "\n",
    "r = 0.079\n",
    "# draw sphere\n",
    "u, v = np.mgrid[0:2*np.pi:50j, 0:np.pi:50j]\n",
    "x = r*np.cos(u)*np.sin(v)\n",
    "y = r*np.sin(u)*np.sin(v)\n",
    "z = r*np.cos(v)\n",
    "ax.plot_surface(x, y, z, color='b', alpha=0.2)\n",
    "\n",
    "ax.set_xlabel('X Label')\n",
    "ax.set_ylabel('Y Label')\n",
    "ax.set_zlabel('Z Label')\n",
    "plt.show()"
   ]
  },
  {
   "cell_type": "code",
   "execution_count": null,
   "metadata": {},
   "outputs": [],
   "source": [
    "from kesi.kernel.electrode import LinearlyInterpolatedLeadfieldCorrection as Electrode"
   ]
  },
  {
   "cell_type": "code",
   "execution_count": null,
   "metadata": {},
   "outputs": [],
   "source": [
    "import glob\n",
    "\n",
    "\n",
    "electrodes = [Electrode(filename)\n",
    "              for filename in glob.glob(\"data/generated/tutorial/patient_2/sampled_leadfield_corrections/*.npz\")]"
   ]
  },
  {
   "cell_type": "code",
   "execution_count": null,
   "metadata": {},
   "outputs": [],
   "source": [
    "from kesi.common import SphericalSplineSourceKCSD\n",
    "\n",
    "\n",
    "SRC_R = 10e-3\n",
    "\n",
    "spline_nodes = [SRC_R / 3, SRC_R]\n",
    "spline_polynomials = [[1],\n",
    "                      [0,\n",
    "                       6.75 / SRC_R,\n",
    "                       -13.5 / SRC_R ** 2,\n",
    "                       6.75 / SRC_R ** 3]]\n",
    "model_src = SphericalSplineSourceKCSD(0, 0, 0,\n",
    "                                      spline_nodes,\n",
    "                                      spline_polynomials)"
   ]
  },
  {
   "cell_type": "code",
   "execution_count": null,
   "metadata": {},
   "outputs": [],
   "source": [
    "import numpy as np\n",
    "\n",
    "from kesi.kernel.constructor import Convolver\n",
    "\n",
    "\n",
    "BRAIN_RADIUS = 0.079\n",
    "ROMBERG_K = 4\n",
    "\n",
    "_h_min = SRC_R * 2**(1 - ROMBERG_K)\n",
    "\n",
    "#_X = _Y = np.linspace(-BRAIN_RADIUS, BRAIN_RADIUS, int(np.floor(2 * BRAIN_RADIUS / _h_min)) + 1)\n",
    "#_Z = np.linspace(-0.5 * BRAIN_RADIUS, BRAIN_RADIUS, int(np.floor(1.5 * BRAIN_RADIUS / _h_min)) + 1)\n",
    "\n",
    "_X = _Y = np.linspace(-BRAIN_RADIUS, BRAIN_RADIUS, 95)\n",
    "_Z = np.linspace(-0.5 * BRAIN_RADIUS, BRAIN_RADIUS, 75)\n",
    "\n",
    "_pot_grid = [_X, _Y, _Z]\n",
    "_csd_grid = _pot_grid\n",
    "\n",
    "convolver = Convolver(_pot_grid, _csd_grid)\n",
    "\n",
    "for _c, _h in zip(\"XYZ\", convolver.steps(\"POT\")):\n",
    "    assert _h >= _h_min, f\"{_c}:\\t{_h} < {_h_min}\"\n",
    "    if _h >= 2 * _h_min:\n",
    "        print(f\"You can reduce number of nodes of quadrature for {_c} dimension\")"
   ]
  },
  {
   "cell_type": "code",
   "execution_count": null,
   "metadata": {},
   "outputs": [],
   "source": [
    "_X.shape"
   ]
  },
  {
   "cell_type": "code",
   "execution_count": null,
   "metadata": {},
   "outputs": [],
   "source": [
    "from kesi.kernel.constructor import ConvolverInterfaceIndexed\n",
    "\n",
    "from scipy.integrate import romb\n",
    "\n",
    "\n",
    "ROMBERG_N = 2 ** ROMBERG_K + 1\n",
    "ROMBERG_WEIGHTS = romb(np.identity(ROMBERG_N)) * 2 ** -ROMBERG_K\n",
    "\n",
    "SRC_MASK = ((convolver.SRC_Z > -0.06 + SRC_R)\n",
    "            & (np.sqrt(np.square(convolver.SRC_X)\n",
    "                       + np.square(convolver.SRC_Y)\n",
    "                       + np.square(convolver.SRC_Z)) < BRAIN_RADIUS - SRC_R))"
   ]
  },
  {
   "cell_type": "code",
   "execution_count": null,
   "metadata": {},
   "outputs": [],
   "source": [
    "SRC_MASK.shape"
   ]
  },
  {
   "cell_type": "code",
   "execution_count": null,
   "metadata": {},
   "outputs": [],
   "source": [
    "convolver_interface = ConvolverInterfaceIndexed(convolver,\n",
    "                                                model_src.csd,\n",
    "                                                ROMBERG_WEIGHTS,\n",
    "                                                SRC_MASK)"
   ]
  },
  {
   "cell_type": "code",
   "execution_count": null,
   "metadata": {},
   "outputs": [],
   "source": [
    "from kesi.kernel import potential_basis_functions as pbf"
   ]
  },
  {
   "cell_type": "code",
   "execution_count": null,
   "metadata": {},
   "outputs": [],
   "source": [
    "pbf_kcsd = pbf.Analytical(convolver_interface,\n",
    "                          potential=model_src.potential)"
   ]
  },
  {
   "cell_type": "code",
   "execution_count": null,
   "metadata": {},
   "outputs": [],
   "source": [
    "pbf_kesi = pbf.AnalyticalCorrectedNumerically(convolver_interface,\n",
    "                                              potential=model_src.potential)"
   ]
  },
  {
   "cell_type": "code",
   "execution_count": null,
   "metadata": {},
   "outputs": [],
   "source": [
    "from kesi.kernel.constructor import KernelConstructor, CrossKernelConstructor\n",
    "\n",
    "\n",
    "kernel_constructor = KernelConstructor()"
   ]
  },
  {
   "cell_type": "code",
   "execution_count": null,
   "metadata": {},
   "outputs": [],
   "source": [
    "CSD_MASK = np.ones(convolver.shape('CSD'),\n",
    "                   dtype=bool)\n",
    "\n",
    "kernel_constructor.crosskernel = CrossKernelConstructor(convolver_interface,\n",
    "                                                        CSD_MASK)"
   ]
  },
  {
   "cell_type": "code",
   "execution_count": null,
   "metadata": {},
   "outputs": [],
   "source": [
    "convolver.shape('CSD')"
   ]
  },
  {
   "cell_type": "code",
   "execution_count": null,
   "metadata": {},
   "outputs": [],
   "source": [
    "convolver.CSD_GRID[0].shape"
   ]
  },
  {
   "cell_type": "code",
   "execution_count": null,
   "metadata": {},
   "outputs": [],
   "source": []
  },
  {
   "cell_type": "code",
   "execution_count": null,
   "metadata": {},
   "outputs": [],
   "source": [
    "def to_3D(CSD):\n",
    "    return CSD.reshape(convolver.shape('CSD'))"
   ]
  },
  {
   "cell_type": "code",
   "execution_count": null,
   "metadata": {},
   "outputs": [],
   "source": [
    "%%time\n",
    "B_KCSD = kernel_constructor.potential_basis_functions_at_electrodes(electrodes,\n",
    "                                                                    pbf_kcsd)"
   ]
  },
  {
   "cell_type": "code",
   "execution_count": null,
   "metadata": {},
   "outputs": [],
   "source": [
    "%%time\n",
    "KERNEL_KCSD = kernel_constructor.kernel(B_KCSD)"
   ]
  },
  {
   "cell_type": "code",
   "execution_count": null,
   "metadata": {},
   "outputs": [],
   "source": [
    "KERNEL_KCSD.shape"
   ]
  },
  {
   "cell_type": "code",
   "execution_count": null,
   "metadata": {},
   "outputs": [],
   "source": [
    "%%time\n",
    "CROSSKERNEL_KCSD = kernel_constructor.crosskernel(B_KCSD)"
   ]
  },
  {
   "cell_type": "code",
   "execution_count": null,
   "metadata": {},
   "outputs": [],
   "source": [
    "CROSSKERNEL_KCSD.shape"
   ]
  },
  {
   "cell_type": "code",
   "execution_count": null,
   "metadata": {},
   "outputs": [],
   "source": [
    "del B_KCSD  # the array is large and no longer needed"
   ]
  },
  {
   "cell_type": "code",
   "execution_count": null,
   "metadata": {},
   "outputs": [],
   "source": [
    "from kesi._verbose import _CrossKernelReconstructor as Reconstructor\n",
    "from kesi._engine import _LinearKernelSolver as KernelSolver\n",
    "\n",
    "\n",
    "reconstructor_kcsd = Reconstructor(KernelSolver(KERNEL_KCSD),\n",
    "                                   CROSSKERNEL_KCSD)"
   ]
  },
  {
   "cell_type": "code",
   "execution_count": null,
   "metadata": {},
   "outputs": [],
   "source": [
    "import matplotlib.pyplot as plt\n",
    "\n",
    "from local import cbf\n",
    "from local.tutorial.view import FourSpheres3mm as CoordinatePlanesVisualisation"
   ]
  },
  {
   "cell_type": "code",
   "execution_count": null,
   "metadata": {},
   "outputs": [],
   "source": [
    "csd_grid = [_x.flatten() for _x in convolver.CSD_GRID]"
   ]
  },
  {
   "cell_type": "code",
   "execution_count": null,
   "metadata": {},
   "outputs": [],
   "source": [
    "csd_plotter = CoordinatePlanesVisualisation(csd_grid,\n",
    "                                            [0.045, 0.015, -0.02],\n",
    "                                            unit_factor=1e-3,\n",
    "                                            unit='$\\\\frac{pA}{mm^3}$',\n",
    "                                            length_factor=1e3,\n",
    "                                            length_unit='$mm$')"
   ]
  },
  {
   "cell_type": "code",
   "execution_count": null,
   "metadata": {},
   "outputs": [],
   "source": [
    "%%time\n",
    "EIGENVALUES_KCSD, EIGENVECTORS_KCSD = np.linalg.eigh(KERNEL_KCSD)\n",
    "EIGENVALUES_KCSD, EIGENVECTORS_KCSD = EIGENVALUES_KCSD[::-1], EIGENVECTORS_KCSD[:, ::-1]\n",
    "\n",
    "GT_CSD = to_3D(reconstructor_kcsd(EIGENVECTORS_KCSD[:, 2] * 100))"
   ]
  },
  {
   "cell_type": "code",
   "execution_count": null,
   "metadata": {},
   "outputs": [],
   "source": [
    "csd_plotter.plot_volume(GT_CSD, 'GT CSD')"
   ]
  },
  {
   "cell_type": "code",
   "execution_count": null,
   "metadata": {},
   "outputs": [],
   "source": [
    "import scipy.interpolate as si\n",
    "\n",
    "from local.tutorial import SphericalForwardModel as ForwardModel"
   ]
  },
  {
   "cell_type": "code",
   "execution_count": null,
   "metadata": {},
   "outputs": [],
   "source": [
    "%%time\n",
    "fem = ForwardModel(mesh=\"data/generated/meshes/four_spheres_csf_3_mm__plain/fine.xdmf\",\n",
    "                   degree=1,\n",
    "                   config=\"data/bundled/model_properties/four_spheres_csf_3_mm__Naess_Chintaluri_2017.ini\")"
   ]
  },
  {
   "cell_type": "code",
   "execution_count": null,
   "metadata": {},
   "outputs": [],
   "source": [
    "%%time\n",
    "_csd = si.RegularGridInterpolator(csd_grid,\n",
    "                                  GT_CSD,\n",
    "                                  bounds_error=False,\n",
    "                                  fill_value=0)\n",
    "potential = fem(_csd)\n",
    "\n",
    "del _csd  # the object is large and no longer needed"
   ]
  },
  {
   "cell_type": "code",
   "execution_count": null,
   "metadata": {},
   "outputs": [],
   "source": [
    "potential_plotter = CoordinatePlanesVisualisation(csd_grid,\n",
    "                                                  [-0.05, 0.015, -0.02],\n",
    "                                                  unit='$\\mu{}V$',\n",
    "                                                  length_factor=1e3,\n",
    "                                                  length_unit='$mm$',\n",
    "                                                  cmap=cbf.PRGn)"
   ]
  },
  {
   "cell_type": "code",
   "execution_count": null,
   "metadata": {},
   "outputs": [],
   "source": [
    "%%time\n",
    "V_PLANES = []\n",
    "\n",
    "for _X, _Y, _Z in potential_plotter.PLANES_XYZ:\n",
    "    with np.nditer([np.reshape(_X, (-1, 1, 1)),\n",
    "                    np.reshape(_Y, (1, -1, 1)),\n",
    "                    np.reshape(_Z,  (1, 1, -1)),\n",
    "                    None]) as it:\n",
    "        for _x, _y, _z, _res in it:\n",
    "            try:\n",
    "                _res[...] = potential(_x, _y, _z)\n",
    "            except RuntimeError:\n",
    "                _res[...] = np.nan\n",
    "\n",
    "        V_PLANES.append(np.ma.masked_invalid(it.operands[3]))"
   ]
  },
  {
   "cell_type": "code",
   "execution_count": null,
   "metadata": {},
   "outputs": [],
   "source": [
    "potential_plotter.plot_planes(V_PLANES, 'POTENTIAL')"
   ]
  },
  {
   "cell_type": "code",
   "execution_count": null,
   "metadata": {},
   "outputs": [],
   "source": [
    "GT_V = np.array([potential(_e.x, _e.y, _e.z) for _e in electrodes])"
   ]
  },
  {
   "cell_type": "code",
   "execution_count": null,
   "metadata": {},
   "outputs": [],
   "source": [
    "del potential, fem  # these objects are large and no longer needed"
   ]
  },
  {
   "cell_type": "code",
   "execution_count": null,
   "metadata": {},
   "outputs": [],
   "source": [
    "np.random.seed(42)\n",
    "NOISE_V = np.random.normal(loc=GT_V,\n",
    "                           scale=0.01 * GT_V.std())"
   ]
  },
  {
   "cell_type": "code",
   "execution_count": null,
   "metadata": {},
   "outputs": [],
   "source": [
    "plt.stem(abs(np.matmul(GT_V, EIGENVECTORS_KCSD)))"
   ]
  },
  {
   "cell_type": "code",
   "execution_count": null,
   "metadata": {},
   "outputs": [],
   "source": [
    "plt.stem(abs(np.matmul(GT_V, EIGENVECTORS_KCSD)) / np.sqrt(EIGENVALUES_KCSD))\n",
    "plt.yscale('log')"
   ]
  },
  {
   "cell_type": "code",
   "execution_count": null,
   "metadata": {},
   "outputs": [],
   "source": [
    "plt.stem(abs(np.matmul(NOISE_V, EIGENVECTORS_KCSD)))"
   ]
  },
  {
   "cell_type": "code",
   "execution_count": null,
   "metadata": {
    "scrolled": false
   },
   "outputs": [],
   "source": [
    "plt.stem(abs(np.matmul(NOISE_V, EIGENVECTORS_KCSD)) / np.sqrt(EIGENVALUES_KCSD))\n",
    "plt.yscale('log')"
   ]
  },
  {
   "cell_type": "markdown",
   "metadata": {},
   "source": [
    "## kCSD\n",
    "\n",
    "As the ground truth CSD is a kCSD eigensource, kCSD is (theoretically) able to reconstruct it exactly.  But the forward model does not conform to assumptions of kCSD, which may lead to reconstruction artifacts."
   ]
  },
  {
   "cell_type": "code",
   "execution_count": null,
   "metadata": {},
   "outputs": [],
   "source": [
    "CSD_KCSD = to_3D(reconstructor_kcsd(NOISE_V))"
   ]
  },
  {
   "cell_type": "code",
   "execution_count": null,
   "metadata": {},
   "outputs": [],
   "source": [
    "AMP = np.max(abs(CSD_KCSD))"
   ]
  },
  {
   "cell_type": "code",
   "execution_count": null,
   "metadata": {
    "scrolled": false
   },
   "outputs": [],
   "source": [
    "csd_plotter.compare_with_gt(GT_CSD,\n",
    "                            CSD_KCSD,\n",
    "                            'kCSD',\n",
    "                            amp=AMP)"
   ]
  },
  {
   "cell_type": "code",
   "execution_count": null,
   "metadata": {},
   "outputs": [],
   "source": [
    "np.savez_compressed(\"ES2_CSD_KCSD.npz\", CSD=CSD_KCSD, X=convolver.CSD_X, Y=convolver.CSD_Y, Z=convolver.CSD_Z)"
   ]
  },
  {
   "cell_type": "markdown",
   "metadata": {},
   "source": [
    "As you see, the reconstruction is mostly error."
   ]
  },
  {
   "cell_type": "code",
   "execution_count": null,
   "metadata": {},
   "outputs": [],
   "source": [
    "del CSD_KCSD  # the array is large and no longer needed"
   ]
  },
  {
   "cell_type": "markdown",
   "metadata": {},
   "source": [
    "## Regularization"
   ]
  },
  {
   "cell_type": "markdown",
   "metadata": {},
   "source": [
    "### Leave-one-out cross-validation"
   ]
  },
  {
   "cell_type": "code",
   "execution_count": null,
   "metadata": {},
   "outputs": [],
   "source": [
    "plt.figure(figsize=(18, 12))\n",
    "plt.plot(EIGENVALUES_KCSD)\n",
    "plt.yscale('log')"
   ]
  },
  {
   "cell_type": "code",
   "execution_count": null,
   "metadata": {},
   "outputs": [],
   "source": [
    "REGULARIZATION_PARAMETERS = np.logspace(-2, 15, 17 * 10 + 1)"
   ]
  },
  {
   "cell_type": "code",
   "execution_count": null,
   "metadata": {},
   "outputs": [],
   "source": [
    "from kesi.common import cv"
   ]
  },
  {
   "cell_type": "code",
   "execution_count": null,
   "metadata": {},
   "outputs": [],
   "source": [
    "%%time\n",
    "CV_ERRORS_KCSD = cv(reconstructor_kcsd, NOISE_V, REGULARIZATION_PARAMETERS)"
   ]
  },
  {
   "cell_type": "markdown",
   "metadata": {},
   "source": [
    "It may take more than two hours if other tasks are running.  Otherwise it may take less than a minute."
   ]
  },
  {
   "cell_type": "code",
   "execution_count": null,
   "metadata": {},
   "outputs": [],
   "source": [
    "regularization_parameter_kcsd = REGULARIZATION_PARAMETERS[np.argmin(CV_ERRORS_KCSD)]"
   ]
  },
  {
   "cell_type": "code",
   "execution_count": null,
   "metadata": {},
   "outputs": [],
   "source": [
    "plt.plot(REGULARIZATION_PARAMETERS,\n",
    "         CV_ERRORS_KCSD,\n",
    "         color=cbf.BLUE)\n",
    "plt.plot(regularization_parameter_kcsd,\n",
    "         min(CV_ERRORS_KCSD),\n",
    "         marker=\"o\",\n",
    "         color=cbf.BLUE)\n",
    "#plt.axvspan(EIGENVALUES_KCSD.min(),\n",
    "#            EIGENVALUES_KCSD.max(),\n",
    "#            ls=\":\",\n",
    "#            color=cbf.GREEN,\n",
    "#            hatch=\".....\",\n",
    "#            fill=False)\n",
    "for ev in EIGENVALUES_KCSD:\n",
    "    plt.axvline(ev, color=cbf.GREEN, ls=\":\")\n",
    "\n",
    "# plt.axvline(EIGENVALUES_KCSD[0])\n",
    "# plt.axvline(EIGENVALUES_KCSD[-1])\n",
    "plt.xscale('log')\n",
    "plt.xlabel('regularization parameter')\n",
    "plt.yscale('log')\n",
    "plt.ylabel('L2 norm of cross-validation error')"
   ]
  },
  {
   "cell_type": "markdown",
   "metadata": {},
   "source": [
    "## Regularized kCSD"
   ]
  },
  {
   "cell_type": "code",
   "execution_count": null,
   "metadata": {},
   "outputs": [],
   "source": [
    "CSD_KCSD_CV = to_3D(reconstructor_kcsd(NOISE_V, regularization_parameter_kcsd))"
   ]
  },
  {
   "cell_type": "code",
   "execution_count": null,
   "metadata": {
    "scrolled": false
   },
   "outputs": [],
   "source": [
    "csd_plotter.compare_with_gt(GT_CSD,\n",
    "                            CSD_KCSD_CV,\n",
    "                            'kCSD (regularized)')"
   ]
  },
  {
   "cell_type": "code",
   "execution_count": null,
   "metadata": {},
   "outputs": [],
   "source": [
    "np.savez_compressed(\"ES2_CSD_KCSD_CV.npz\", CSD=CSD_KCSD_CV, X=convolver.CSD_X, Y=convolver.CSD_Y, Z=convolver.CSD_Z)"
   ]
  },
  {
   "cell_type": "markdown",
   "metadata": {},
   "source": [
    "The reconstruction still is mostly error."
   ]
  },
  {
   "cell_type": "code",
   "execution_count": null,
   "metadata": {},
   "outputs": [],
   "source": [
    "del CSD_KCSD_CV  # the array is large and no longer needed"
   ]
  },
  {
   "cell_type": "code",
   "execution_count": null,
   "metadata": {},
   "outputs": [],
   "source": [
    "del CROSSKERNEL_KCSD #del reconstructor_kcsd, CROSSKERNEL_KCSD  # These objects are large and no longer needed"
   ]
  },
  {
   "cell_type": "markdown",
   "metadata": {},
   "source": [
    "## Unregularized kESI"
   ]
  },
  {
   "cell_type": "code",
   "execution_count": null,
   "metadata": {},
   "outputs": [],
   "source": [
    "%%time\n",
    "B_KESI = kernel_constructor.potential_basis_functions_at_electrodes(electrodes,\n",
    "                                                                    pbf_kesi)"
   ]
  },
  {
   "cell_type": "markdown",
   "metadata": {},
   "source": [
    "It may take more than 20 minutes."
   ]
  },
  {
   "cell_type": "code",
   "execution_count": null,
   "metadata": {},
   "outputs": [],
   "source": [
    "%%time\n",
    "KERNEL_KESI = kernel_constructor.kernel(B_KESI)"
   ]
  },
  {
   "cell_type": "code",
   "execution_count": null,
   "metadata": {},
   "outputs": [],
   "source": [
    "%%time\n",
    "CROSSKERNEL_KESI = kernel_constructor.crosskernel(B_KESI)"
   ]
  },
  {
   "cell_type": "code",
   "execution_count": null,
   "metadata": {},
   "outputs": [],
   "source": [
    "KERNEL_KESI[3, :]"
   ]
  },
  {
   "cell_type": "code",
   "execution_count": null,
   "metadata": {},
   "outputs": [],
   "source": [
    "KERNEL_KCSD[3, :]"
   ]
  },
  {
   "cell_type": "markdown",
   "metadata": {},
   "source": [
    "It may take more than half a minute."
   ]
  },
  {
   "cell_type": "code",
   "execution_count": null,
   "metadata": {},
   "outputs": [],
   "source": [
    "del B_KESI  # the array is large and no longer needed"
   ]
  },
  {
   "cell_type": "code",
   "execution_count": null,
   "metadata": {},
   "outputs": [],
   "source": [
    "reconstructor_kesi = Reconstructor(KernelSolver(KERNEL_KESI),\n",
    "                                   CROSSKERNEL_KESI)"
   ]
  },
  {
   "cell_type": "code",
   "execution_count": null,
   "metadata": {},
   "outputs": [],
   "source": [
    "CSD_KESI = to_3D(reconstructor_kesi(NOISE_V))"
   ]
  },
  {
   "cell_type": "code",
   "execution_count": null,
   "metadata": {
    "scrolled": false
   },
   "outputs": [],
   "source": [
    "csd_plotter.compare_with_gt(GT_CSD,\n",
    "                            CSD_KESI,\n",
    "                            'kESI')"
   ]
  },
  {
   "cell_type": "code",
   "execution_count": null,
   "metadata": {},
   "outputs": [],
   "source": [
    "np.savez_compressed(\"ES2_CSD_KESI.npz\", CSD=CSD_KESI, X=convolver.CSD_X, Y=convolver.CSD_Y, Z=convolver.CSD_Z)"
   ]
  },
  {
   "cell_type": "markdown",
   "metadata": {},
   "source": [
    "As you see, the unregularized kESI reconstruction somehow resembles the ground truth, but still is mostly error."
   ]
  },
  {
   "cell_type": "code",
   "execution_count": null,
   "metadata": {},
   "outputs": [],
   "source": [
    "del CSD_KESI  # the array is large and no longer needed"
   ]
  },
  {
   "cell_type": "markdown",
   "metadata": {},
   "source": [
    "## Regularized kESI"
   ]
  },
  {
   "cell_type": "code",
   "execution_count": null,
   "metadata": {},
   "outputs": [],
   "source": [
    "EIGENVALUES_KESI, EIGENVECTORS_KESI = np.linalg.eigh(KERNEL_KESI)\n",
    "EIGENVALUES_KESI, EIGENVECTORS_KESI = EIGENVALUES_KESI[::-1], EIGENVECTORS_KESI[:, ::-1]"
   ]
  },
  {
   "cell_type": "code",
   "execution_count": null,
   "metadata": {},
   "outputs": [],
   "source": [
    "plt.figure(figsize=(18, 12))\n",
    "plt.plot(EIGENVALUES_KCSD, label='kCSD', ls='-')\n",
    "plt.plot(EIGENVALUES_KESI, label='kESI', ls=':')\n",
    "plt.yscale('log')\n",
    "plt.legend(loc='best')"
   ]
  },
  {
   "cell_type": "code",
   "execution_count": null,
   "metadata": {},
   "outputs": [],
   "source": [
    "from kesi.common import cv"
   ]
  },
  {
   "cell_type": "code",
   "execution_count": null,
   "metadata": {},
   "outputs": [],
   "source": [
    "# REGULARIZATION_PARAMETERS = np.logspace(-2, 15, 17 * 10 + 1)"
   ]
  },
  {
   "cell_type": "code",
   "execution_count": null,
   "metadata": {},
   "outputs": [],
   "source": [
    "%%time\n",
    "CV_ERRORS_KESI = cv(reconstructor_kesi, NOISE_V, REGULARIZATION_PARAMETERS)"
   ]
  },
  {
   "cell_type": "markdown",
   "metadata": {},
   "source": [
    "It may take more than 2 hours if other tasks are running.  Otherwise it may take less than a minute."
   ]
  },
  {
   "cell_type": "code",
   "execution_count": null,
   "metadata": {},
   "outputs": [],
   "source": [
    "regularization_parameter_kesi = REGULARIZATION_PARAMETERS[np.argmin(CV_ERRORS_KESI)]"
   ]
  },
  {
   "cell_type": "code",
   "execution_count": null,
   "metadata": {},
   "outputs": [],
   "source": [
    "plt.plot(REGULARIZATION_PARAMETERS,\n",
    "        CV_ERRORS_KCSD,\n",
    "        color=cbf.BLUE,\n",
    "        label='kCSD')\n",
    "plt.plot(regularization_parameter_kcsd,\n",
    "        min(CV_ERRORS_KCSD),\n",
    "        marker=\"o\",\n",
    "        color=cbf.BLUE)\n",
    "plt.plot(REGULARIZATION_PARAMETERS,\n",
    "         CV_ERRORS_KESI,\n",
    "         color=cbf.VERMILION,\n",
    "         label='kESI')\n",
    "plt.plot(regularization_parameter_kesi,\n",
    "         min(CV_ERRORS_KESI),\n",
    "         marker=\"o\",\n",
    "         color=cbf.VERMILION)\n",
    "# plt.axvspan(min(EIGENVALUES_KCSD.min(), EIGENVALUES_KESI.min()),\n",
    "#             max(EIGENVALUES_KESI.max(), EIGENVALUES_KESI.max()),\n",
    "#             ls=\":\",\n",
    "#             color=cbf.GREEN,\n",
    "#             hatch=\".....\",\n",
    "#             fill=False)\n",
    "for ev in EIGENVALUES_KESI:\n",
    "    plt.axvline(ev, color=cbf.GREEN, ls=\":\")\n",
    "plt.xscale('log')\n",
    "plt.xlabel('regularization parameter')\n",
    "plt.yscale('log')\n",
    "plt.ylabel('L2 norm of cross-validation error')\n",
    "plt.legend(loc='best')"
   ]
  },
  {
   "cell_type": "code",
   "execution_count": null,
   "metadata": {},
   "outputs": [],
   "source": [
    "CSD_KESI_CV = to_3D(reconstructor_kesi(NOISE_V, regularization_parameter_kesi))"
   ]
  },
  {
   "cell_type": "code",
   "execution_count": null,
   "metadata": {
    "scrolled": false
   },
   "outputs": [],
   "source": [
    "csd_plotter.compare_with_gt(GT_CSD,\n",
    "                            CSD_KESI_CV,\n",
    "                            'kESI (regularized)')"
   ]
  },
  {
   "cell_type": "code",
   "execution_count": null,
   "metadata": {},
   "outputs": [],
   "source": [
    "np.savez_compressed(\"ES2_CSD_KESI_CV.npz\", CSD=CSD_KESI_CV, X=convolver.CSD_X, Y=convolver.CSD_Y, Z=convolver.CSD_Z)"
   ]
  },
  {
   "cell_type": "code",
   "execution_count": null,
   "metadata": {},
   "outputs": [],
   "source": []
  },
  {
   "cell_type": "code",
   "execution_count": null,
   "metadata": {},
   "outputs": [],
   "source": [
    "plt.stem(abs(np.matmul(GT_V, EIGENVECTORS_KESI)))"
   ]
  },
  {
   "cell_type": "code",
   "execution_count": null,
   "metadata": {},
   "outputs": [],
   "source": [
    "plt.stem(abs(np.matmul(GT_V, EIGENVECTORS_KESI)) / np.sqrt(EIGENVALUES_KESI))\n",
    "plt.yscale('log')"
   ]
  },
  {
   "cell_type": "code",
   "execution_count": null,
   "metadata": {},
   "outputs": [],
   "source": [
    "plt.stem(abs(np.matmul(NOISE_V, EIGENVECTORS_KESI)))"
   ]
  },
  {
   "cell_type": "code",
   "execution_count": null,
   "metadata": {
    "scrolled": false
   },
   "outputs": [],
   "source": [
    "plt.stem(abs(np.matmul(NOISE_V, EIGENVECTORS_KESI)) / np.sqrt(EIGENVALUES_KESI))\n",
    "plt.yscale('log')"
   ]
  },
  {
   "cell_type": "markdown",
   "metadata": {},
   "source": [
    "The kESI reconstruction definitely benefitted from regularization."
   ]
  },
  {
   "cell_type": "code",
   "execution_count": null,
   "metadata": {},
   "outputs": [],
   "source": [
    "del CSD_KESI_CV  # the array is large and no longer needed"
   ]
  },
  {
   "cell_type": "markdown",
   "metadata": {},
   "source": [
    "#### Analysis of epileptic data"
   ]
  },
  {
   "cell_type": "code",
   "execution_count": null,
   "metadata": {},
   "outputs": [],
   "source": [
    "from scipy.signal import filtfilt, butter\n",
    "Fs=1000\n",
    "npz_file = np.load('epi_data_to_vis_clinic_Pat2.npz')\n",
    "seeg = npz_file['eeg']\n",
    "print('seeg', seeg.shape)\n",
    "b, a = butter(3, [1/(Fs/2), 400/(Fs/2)], btype='bandpass')\n",
    "seeg= filtfilt(b, a, seeg)"
   ]
  },
  {
   "cell_type": "code",
   "execution_count": null,
   "metadata": {},
   "outputs": [],
   "source": [
    "from scipy.signal import filtfilt, butter\n",
    "Fs=1000\n",
    "seizures = np.load('lfp_napad_clinic_pat2.npy')\n",
    "print('seizures', seizures.shape)\n",
    "b, a = butter(3, [1/(Fs/2), 400/(Fs/2)], btype='bandpass')\n",
    "seizures = filtfilt(b, a, seizures)"
   ]
  },
  {
   "cell_type": "code",
   "execution_count": null,
   "metadata": {},
   "outputs": [],
   "source": [
    "SEEG_PART = seizures[:, 120000:150000:10]*1e3"
   ]
  },
  {
   "cell_type": "code",
   "execution_count": null,
   "metadata": {},
   "outputs": [],
   "source": [
    "SEEG_PART.shape"
   ]
  },
  {
   "cell_type": "code",
   "execution_count": null,
   "metadata": {},
   "outputs": [],
   "source": [
    "(1. / np.sqrt(EIGENVALUES_KESI.reshape(-1, 1)))"
   ]
  },
  {
   "cell_type": "code",
   "execution_count": null,
   "metadata": {
    "scrolled": false
   },
   "outputs": [],
   "source": [
    "_ESS = np.matmul(1. / np.sqrt(EIGENVALUES_KESI.reshape(-1, 1))\n",
    "                                 * EIGENVECTORS_KESI.T,\n",
    "                                 SEEG_PART)\n",
    "for i, ES in enumerate(_ESS):\n",
    "    plt.figure(figsize=(16, 4))\n",
    "    plt.title(i)\n",
    "    plt.plot(ES)\n",
    "\n",
    "_ESS = abs(_ESS)\n",
    "_ESS /= _ESS.sum(axis=0).reshape(1, -1)\n",
    "max_es_at = {i: ES.argmax() for i, ES in enumerate(_ESS)}\n",
    "\n",
    "del _ESS"
   ]
  },
  {
   "cell_type": "code",
   "execution_count": null,
   "metadata": {},
   "outputs": [],
   "source": []
  },
  {
   "cell_type": "code",
   "execution_count": null,
   "metadata": {},
   "outputs": [],
   "source": [
    "plt.figure(figsize=(16, 4))\n",
    "plt.plot(SEEG_PART[0, :])"
   ]
  },
  {
   "cell_type": "code",
   "execution_count": null,
   "metadata": {},
   "outputs": [],
   "source": [
    "from scipy.signal import spectrogram\n",
    "plt.figure()\n",
    "Fs=1000\n",
    "f, t, Sxx = spectrogram(seizures[15,:].T, Fs, nperseg=1000)\n",
    "plt.pcolormesh(t, f, Sxx)\n",
    "plt.ylabel('Frequency (Hz)'), plt.xlabel('Time (s)'), plt.ylim(0, 50)"
   ]
  },
  {
   "cell_type": "code",
   "execution_count": null,
   "metadata": {},
   "outputs": [],
   "source": [
    "plt.figure()\n",
    "Fs=1000\n",
    "f, t, Sxx = spectrogram(SEEG_PART[15,:].T, Fs, nperseg=100)\n",
    "plt.pcolormesh(t, f, Sxx)\n",
    "plt.ylabel('Frequency (Hz)'), plt.xlabel('Time (s)'), plt.ylim(0, 150)"
   ]
  },
  {
   "cell_type": "code",
   "execution_count": null,
   "metadata": {},
   "outputs": [],
   "source": [
    "plt.figure()\n",
    "Fs=1000\n",
    "f, t, Sxx = spectrogram(seeg[15,:].T, Fs, nperseg=1000)\n",
    "plt.pcolormesh(t, f, Sxx)\n",
    "plt.ylabel('Frequency (Hz)'), plt.xlabel('Time (s)'), plt.ylim(0, 50)"
   ]
  },
  {
   "cell_type": "markdown",
   "metadata": {},
   "source": [
    "#### kESI with real data"
   ]
  },
  {
   "cell_type": "code",
   "execution_count": null,
   "metadata": {},
   "outputs": [],
   "source": [
    "SEEG_TIMEPOINT = SEEG_PART[:, 2200]"
   ]
  },
  {
   "cell_type": "code",
   "execution_count": null,
   "metadata": {},
   "outputs": [],
   "source": [
    "plt.stem(abs(np.matmul(SEEG_TIMEPOINT, EIGENVECTORS_KESI)))"
   ]
  },
  {
   "cell_type": "code",
   "execution_count": null,
   "metadata": {},
   "outputs": [],
   "source": [
    "plt.stem(abs(np.matmul(SEEG_TIMEPOINT, EIGENVECTORS_KESI)) / np.sqrt(EIGENVALUES_KESI))\n",
    "plt.yscale('log')"
   ]
  },
  {
   "cell_type": "code",
   "execution_count": null,
   "metadata": {},
   "outputs": [],
   "source": [
    "plt.stem(abs(np.matmul(SEEG_TIMEPOINT, EIGENVECTORS_KCSD)))"
   ]
  },
  {
   "cell_type": "code",
   "execution_count": null,
   "metadata": {
    "scrolled": false
   },
   "outputs": [],
   "source": [
    "plt.stem(abs(np.matmul(SEEG_TIMEPOINT, EIGENVECTORS_KCSD)) / np.sqrt(EIGENVALUES_KCSD))\n",
    "plt.yscale('log')"
   ]
  },
  {
   "cell_type": "code",
   "execution_count": null,
   "metadata": {},
   "outputs": [],
   "source": [
    "%%time\n",
    "CSD_timeseries_kESI = reconstructor_kesi(SEEG_PART)"
   ]
  },
  {
   "cell_type": "code",
   "execution_count": null,
   "metadata": {},
   "outputs": [],
   "source": [
    "CSD_timeseries_kESI.shape"
   ]
  },
  {
   "cell_type": "code",
   "execution_count": null,
   "metadata": {},
   "outputs": [],
   "source": [
    "csd_plotter.plot_volume(to_3D(CSD_timeseries_kESI[:, 2200]), 'kESI without regularization')"
   ]
  },
  {
   "cell_type": "code",
   "execution_count": null,
   "metadata": {},
   "outputs": [],
   "source": [
    "%%time\n",
    "CV_ERRORS_KESI_SEEG = cv(reconstructor_kesi, SEEG_PART[:, 1000:3000], REGULARIZATION_PARAMETERS)"
   ]
  },
  {
   "cell_type": "code",
   "execution_count": null,
   "metadata": {},
   "outputs": [],
   "source": [
    "%%time\n",
    "CV_ERRORS_KESI_SEEG_TIMEPOINT = cv(reconstructor_kesi, SEEG_TIMEPOINT, REGULARIZATION_PARAMETERS)"
   ]
  },
  {
   "cell_type": "code",
   "execution_count": null,
   "metadata": {},
   "outputs": [],
   "source": [
    "regularization_parameter_kesi_seeg = REGULARIZATION_PARAMETERS[np.argmin(CV_ERRORS_KESI_SEEG)]"
   ]
  },
  {
   "cell_type": "code",
   "execution_count": null,
   "metadata": {},
   "outputs": [],
   "source": [
    "regularization_parameter_kesi_seeg_timepoint = REGULARIZATION_PARAMETERS[np.argmin(CV_ERRORS_KESI_SEEG_TIMEPOINT)]"
   ]
  },
  {
   "cell_type": "code",
   "execution_count": null,
   "metadata": {},
   "outputs": [],
   "source": [
    "regularization_parameter_kesi_seeg"
   ]
  },
  {
   "cell_type": "code",
   "execution_count": null,
   "metadata": {},
   "outputs": [],
   "source": [
    "plt.plot(REGULARIZATION_PARAMETERS,\n",
    "         CV_ERRORS_KESI_SEEG,\n",
    "         color=cbf.VERMILION,\n",
    "         label='kESI timespan')\n",
    "plt.plot(REGULARIZATION_PARAMETERS,\n",
    "         CV_ERRORS_KESI_SEEG_TIMEPOINT,\n",
    "         color=cbf.ORANGE,\n",
    "         label='kESI timepoint 2200')\n",
    "plt.plot(regularization_parameter_kesi_seeg,\n",
    "         min(CV_ERRORS_KESI_SEEG),\n",
    "         marker=\"o\",\n",
    "         color=cbf.VERMILION)\n",
    "plt.plot(regularization_parameter_kesi_seeg_timepoint,\n",
    "         min(CV_ERRORS_KESI_SEEG_TIMEPOINT),\n",
    "         marker=\"o\",\n",
    "         color=cbf.ORANGE)\n",
    "\n",
    "# plt.axvspan(min(EIGENVALUES_KCSD.min(), EIGENVALUES_KESI.min()),\n",
    "#             max(EIGENVALUES_KESI.max(), EIGENVALUES_KESI.max()),\n",
    "#             ls=\":\",\n",
    "#             color=cbf.GREEN,\n",
    "#             hatch=\".....\",\n",
    "#             fill=False)\n",
    "for ev in EIGENVALUES_KESI:\n",
    "    plt.axvline(ev, color=cbf.GREEN, ls=\":\")\n",
    "# plt.axvline(EIGENVALUES_KESI[0])\n",
    "# plt.axvline(EIGENVALUES_KESI[-1])\n",
    "plt.xscale('log')\n",
    "plt.xlabel('regularization parameter')\n",
    "plt.yscale('log')\n",
    "plt.ylabel('L2 norm of cross-validation error')\n",
    "plt.legend(loc='best')"
   ]
  },
  {
   "cell_type": "code",
   "execution_count": null,
   "metadata": {
    "scrolled": true
   },
   "outputs": [],
   "source": [
    "%%time\n",
    "CSD_TIMESERIES_KESI_CV = reconstructor_kesi(SEEG_PART[:, :], regularization_parameter_kesi_seeg)"
   ]
  },
  {
   "cell_type": "code",
   "execution_count": null,
   "metadata": {
    "scrolled": true
   },
   "outputs": [],
   "source": [
    "%%time\n",
    "CSD_TIMESERIES_KESI_CV_TIMEPOINT = reconstructor_kesi(SEEG_TIMEPOINT, regularization_parameter_kesi_seeg_timepoint)"
   ]
  },
  {
   "cell_type": "code",
   "execution_count": null,
   "metadata": {},
   "outputs": [],
   "source": [
    "convolver.CSD_X.flatten()"
   ]
  },
  {
   "cell_type": "code",
   "execution_count": null,
   "metadata": {},
   "outputs": [],
   "source": [
    "a,b,c = np.meshgrid(convolver.CSD_X.flatten(), convolver.CSD_Y.flatten(), convolver.CSD_Z.flatten())"
   ]
  },
  {
   "cell_type": "code",
   "execution_count": null,
   "metadata": {},
   "outputs": [],
   "source": [
    "a.shape"
   ]
  },
  {
   "cell_type": "code",
   "execution_count": null,
   "metadata": {},
   "outputs": [],
   "source": [
    "np.savez_compressed('CSD_TIMESERIES_KESI_CV', CSD=CSD_TIMESERIES_KESI_CV, X=convolver.CSD_X, Y=convolver.CSD_Y, Z=convolver.CSD_Z )"
   ]
  },
  {
   "cell_type": "code",
   "execution_count": null,
   "metadata": {},
   "outputs": [],
   "source": [
    "csd_plotter.plot_volume(to_3D(CSD_TIMESERIES_KESI_CV[:, 2200]), 'kESI with regularization (timespan)')"
   ]
  },
  {
   "cell_type": "code",
   "execution_count": null,
   "metadata": {},
   "outputs": [],
   "source": [
    "csd_plotter.plot_volume(to_3D(CSD_TIMESERIES_KESI_CV_TIMEPOINT), 'kESI with regularization (timepoint)')"
   ]
  },
  {
   "cell_type": "markdown",
   "metadata": {},
   "source": [
    "#### kCSD with real data"
   ]
  },
  {
   "cell_type": "code",
   "execution_count": null,
   "metadata": {},
   "outputs": [],
   "source": [
    "%time\n",
    "CSD_timeseries_kCSD = reconstructor_kcsd(SEEG_PART)"
   ]
  },
  {
   "cell_type": "code",
   "execution_count": null,
   "metadata": {},
   "outputs": [],
   "source": [
    "CSD_timeseries_kCSD.shape"
   ]
  },
  {
   "cell_type": "code",
   "execution_count": null,
   "metadata": {},
   "outputs": [],
   "source": [
    "csd_plotter.plot_volume(to_3D(CSD_timeseries_kCSD[:, 2200]), 'kCSD without regularization')"
   ]
  },
  {
   "cell_type": "code",
   "execution_count": null,
   "metadata": {},
   "outputs": [],
   "source": [
    "%%time\n",
    "CV_ERRORS_KCSD_SEEG = cv(reconstructor_kcsd, SEEG_PART[:, 1000:3000], REGULARIZATION_PARAMETERS)"
   ]
  },
  {
   "cell_type": "code",
   "execution_count": null,
   "metadata": {},
   "outputs": [],
   "source": [
    "%%time\n",
    "CV_ERRORS_KCSD_SEEG_TIMEPOINT = cv(reconstructor_kcsd, SEEG_TIMEPOINT, REGULARIZATION_PARAMETERS)"
   ]
  },
  {
   "cell_type": "code",
   "execution_count": null,
   "metadata": {},
   "outputs": [],
   "source": [
    "regularization_parameter_kcsd_seeg = REGULARIZATION_PARAMETERS[np.argmin(CV_ERRORS_KCSD_SEEG)]"
   ]
  },
  {
   "cell_type": "code",
   "execution_count": null,
   "metadata": {},
   "outputs": [],
   "source": [
    "regularization_parameter_kcsd_seeg_timepoint = REGULARIZATION_PARAMETERS[np.argmin(CV_ERRORS_KCSD_SEEG_TIMEPOINT)]"
   ]
  },
  {
   "cell_type": "code",
   "execution_count": null,
   "metadata": {},
   "outputs": [],
   "source": [
    "regularization_parameter_kcsd_seeg"
   ]
  },
  {
   "cell_type": "code",
   "execution_count": null,
   "metadata": {
    "scrolled": false
   },
   "outputs": [],
   "source": [
    "plt.plot(REGULARIZATION_PARAMETERS,\n",
    "         CV_ERRORS_KCSD_SEEG,\n",
    "         color=cbf.BLUE)\n",
    "plt.plot(REGULARIZATION_PARAMETERS,\n",
    "         CV_ERRORS_KCSD_SEEG_TIMEPOINT,\n",
    "         color=cbf.SKY_BLUE)\n",
    "plt.plot(regularization_parameter_kcsd_seeg,\n",
    "         min(CV_ERRORS_KCSD_SEEG),\n",
    "         marker=\"o\",\n",
    "         color=cbf.BLUE)\n",
    "plt.plot(regularization_parameter_kcsd_seeg_timepoint,\n",
    "         min(CV_ERRORS_KCSD_SEEG_TIMEPOINT),\n",
    "         marker=\"o\",\n",
    "         color=cbf.SKY_BLUE)\n",
    "plt.axvspan(EIGENVALUES_KCSD.min(),\n",
    "            EIGENVALUES_KCSD.max(),\n",
    "            ls=\":\",\n",
    "            color=cbf.GREEN,\n",
    "            hatch=\".....\",\n",
    "            fill=False)\n",
    "plt.xscale('log')\n",
    "plt.xlabel('regularization parameter')\n",
    "plt.yscale('log')\n",
    "plt.ylabel('L2 norm of cross-validation error')"
   ]
  },
  {
   "cell_type": "code",
   "execution_count": null,
   "metadata": {
    "scrolled": false
   },
   "outputs": [],
   "source": [
    "plt.stem(abs(np.matmul(SEEG_TIMEPOINT, EIGENVECTORS_KCSD)) / np.sqrt(EIGENVALUES_KCSD))\n",
    "plt.plot(abs(np.matmul(SEEG_TIMEPOINT, EIGENVECTORS_KCSD)) / np.sqrt(EIGENVALUES_KCSD + regularization_parameter_kcsd_seeg),\n",
    "         color=cbf.ORANGE)\n",
    "\n",
    "plt.yscale('log')"
   ]
  },
  {
   "cell_type": "code",
   "execution_count": null,
   "metadata": {},
   "outputs": [],
   "source": [
    "%%time\n",
    "CSD_TIMESERIES_KCSD_CV = reconstructor_kcsd(SEEG_PART[:, 2200], regularization_parameter_kcsd_seeg)"
   ]
  },
  {
   "cell_type": "code",
   "execution_count": null,
   "metadata": {},
   "outputs": [],
   "source": [
    "%%time\n",
    "CSD_TIMESERIES_KCSD_CV_TIMEPOINT = reconstructor_kcsd(SEEG_TIMEPOINT, regularization_parameter_kcsd_seeg_timepoint)"
   ]
  },
  {
   "cell_type": "code",
   "execution_count": null,
   "metadata": {},
   "outputs": [],
   "source": [
    "CSD_TIMESERIES_KCSD_CV.shape"
   ]
  },
  {
   "cell_type": "code",
   "execution_count": null,
   "metadata": {},
   "outputs": [],
   "source": [
    "csd_plotter.plot_volume(to_3D(CSD_TIMESERIES_KCSD_CV), 'kCSD with regularization (timespan)')"
   ]
  },
  {
   "cell_type": "code",
   "execution_count": null,
   "metadata": {},
   "outputs": [],
   "source": [
    "csd_plotter.plot_volume(to_3D(CSD_TIMESERIES_KCSD_CV_TIMEPOINT), 'kCSD with regularization (timespan)')"
   ]
  },
  {
   "cell_type": "code",
   "execution_count": null,
   "metadata": {},
   "outputs": [],
   "source": []
  },
  {
   "cell_type": "code",
   "execution_count": null,
   "metadata": {},
   "outputs": [],
   "source": [
    "del CSD_timeseries_kESI"
   ]
  },
  {
   "cell_type": "code",
   "execution_count": null,
   "metadata": {},
   "outputs": [],
   "source": [
    "del CSD_timeseries_kCSD"
   ]
  },
  {
   "cell_type": "code",
   "execution_count": null,
   "metadata": {},
   "outputs": [],
   "source": []
  },
  {
   "cell_type": "code",
   "execution_count": null,
   "metadata": {},
   "outputs": [],
   "source": [
    "T = 3000\n",
    "T_START = 125000\n",
    "T_END = 150000\n",
    "TIME = np.linspace(T_START, T_END, T)"
   ]
  },
  {
   "cell_type": "markdown",
   "metadata": {},
   "source": [
    "### ICA computations"
   ]
  },
  {
   "cell_type": "code",
   "execution_count": null,
   "metadata": {},
   "outputs": [],
   "source": [
    "import numpy as np\n",
    "import pylab as py\n",
    "from sklearn.decomposition import FastICA\n",
    "from scipy.signal import spectrogram\n",
    "import matplotlib.colors as colors"
   ]
  },
  {
   "cell_type": "code",
   "execution_count": null,
   "metadata": {},
   "outputs": [],
   "source": [
    "def comp_ica(csd, comps=4, i_comp=0):\n",
    "    nmf = FastICA(n_components=comps, random_state=0)\n",
    "    nmf_1, A = nmf.fit_transform(csd), nmf.mixing_\n",
    "    # comp = np.dot(nmf_1[:,i_comp].reshape(len(nmf_1),1),A1.T)\n",
    "    return nmf_1, A"
   ]
  },
  {
   "cell_type": "code",
   "execution_count": null,
   "metadata": {},
   "outputs": [],
   "source": [
    "#filename = 'epi_data_to_vis_clinic_Pat2_corrected.npz'\n",
    "#npz_file = np.load(filename)\n",
    "#csd=npz_file['csd'][:,:]*1e3\n",
    "#eeg=seeg[:,:]*1e3\n",
    "ch_list = np.loadtxt('channels_for_clinic_pat2.txt', dtype=np.str_)"
   ]
  },
  {
   "cell_type": "code",
   "execution_count": null,
   "metadata": {},
   "outputs": [],
   "source": [
    "vect1, vect2 = comp_ica(CSD_TIMESERIES_KESI_CV[:,:].T)\n",
    "#np.save('ica_patient2', vect2)"
   ]
  },
  {
   "cell_type": "code",
   "execution_count": null,
   "metadata": {},
   "outputs": [],
   "source": [
    "py.figure()\n",
    "Fs=1000\n",
    "py.suptitle(filename)\n",
    "for i in range(4):\n",
    "    py.subplot(4,1,i+1)\n",
    "    py.title('ica'+str(i))\n",
    "    f, t, Sxx = spectrogram(vect1[:,i], Fs, nperseg=Fs)\n",
    "    py.pcolormesh(t, f, Sxx, vmax=1e-6)\n",
    "    py.ylabel('Frequency (Hz)'), py.xlabel('Time (s)'), py.ylim(0,50)"
   ]
  },
  {
   "cell_type": "code",
   "execution_count": null,
   "metadata": {},
   "outputs": [],
   "source": []
  },
  {
   "cell_type": "code",
   "execution_count": null,
   "metadata": {},
   "outputs": [],
   "source": []
  },
  {
   "cell_type": "code",
   "execution_count": null,
   "metadata": {},
   "outputs": [],
   "source": [
    "ES = 9\n",
    "TIMEPOINT_ES = SEEG_PART[:, max_es_at[ES]]\n",
    "\n",
    "CV_ERRORS_KCSD_EV = cv(reconstructor_kcsd, TIMEPOINT_ES, REGULARIZATION_PARAMETERS)\n",
    "regularization_parameter_kcsd_es = REGULARIZATION_PARAMETERS[np.argmin(CV_ERRORS_KCSD_EV)]\n",
    "\n",
    "CV_ERRORS_KESI_EV = cv(reconstructor_kesi, TIMEPOINT_ES, REGULARIZATION_PARAMETERS)\n",
    "regularization_parameter_kesi_es = REGULARIZATION_PARAMETERS[np.argmin(CV_ERRORS_KESI_EV)]"
   ]
  },
  {
   "cell_type": "code",
   "execution_count": null,
   "metadata": {},
   "outputs": [],
   "source": [
    "plt.title(f\"ES #{ES}\")\n",
    "plt.plot(REGULARIZATION_PARAMETERS,\n",
    "         CV_ERRORS_KCSD_EV,\n",
    "         color=cbf.BLUE)\n",
    "plt.plot(REGULARIZATION_PARAMETERS,\n",
    "         CV_ERRORS_KESI_EV,\n",
    "         color=cbf.VERMILION)\n",
    "plt.plot(regularization_parameter_kcsd_es,\n",
    "         min(CV_ERRORS_KCSD_EV),\n",
    "         marker=\"o\",\n",
    "         color=cbf.BLUE,\n",
    "         label=\"kCSD\")\n",
    "plt.plot(regularization_parameter_kesi_es,\n",
    "         min(CV_ERRORS_KESI_EV),\n",
    "         marker=\"o\",\n",
    "         color=cbf.VERMILION,\n",
    "         label=\"kESI\")\n",
    "plt.axvspan(EIGENVALUES_KCSD.min(),\n",
    "            EIGENVALUES_KCSD.max(),\n",
    "            ls=\":\",\n",
    "            color=cbf.GREEN,\n",
    "            hatch=\".....\",\n",
    "            fill=False)\n",
    "plt.xscale('log')\n",
    "plt.xlabel('regularization parameter')\n",
    "plt.yscale('log')\n",
    "plt.ylabel('L2 norm of cross-validation error')\n",
    "plt.legend(loc=\"best\");"
   ]
  },
  {
   "cell_type": "code",
   "execution_count": null,
   "metadata": {},
   "outputs": [],
   "source": [
    "csd_plotter.plot_volume(to_3D(reconstructor_kesi(TIMEPOINT_ES)), 'kESI without regularization')"
   ]
  },
  {
   "cell_type": "code",
   "execution_count": null,
   "metadata": {},
   "outputs": [],
   "source": [
    "csd_plotter.plot_volume(to_3D(reconstructor_kcsd(TIMEPOINT_ES)), 'kCSD without regularization')"
   ]
  },
  {
   "cell_type": "code",
   "execution_count": null,
   "metadata": {},
   "outputs": [],
   "source": [
    "csd_plotter.plot_volume(to_3D(reconstructor_kesi(TIMEPOINT_ES, regularization_parameter_kesi_es)), 'kESI with regularization')"
   ]
  },
  {
   "cell_type": "code",
   "execution_count": null,
   "metadata": {},
   "outputs": [],
   "source": [
    "csd_plotter.plot_volume(to_3D(reconstructor_kcsd(TIMEPOINT_ES, regularization_parameter_kcsd_es)),\n",
    "                        'kCSD with regularization')"
   ]
  },
  {
   "cell_type": "code",
   "execution_count": null,
   "metadata": {},
   "outputs": [],
   "source": [
    "_CSD = to_3D(reconstructor_kcsd(TIMEPOINT_ES, regularization_parameter_kcsd_es))\n",
    "_CSD[0,0,0] = 100 * abs(_CSD).max()\n",
    "csd_plotter.plot_volume(_CSD,\n",
    "                        'kCSD with regularization')"
   ]
  },
  {
   "cell_type": "code",
   "execution_count": null,
   "metadata": {},
   "outputs": [],
   "source": [
    "i_max_L2_diff = None\n",
    "max_L2_diff = 0\n",
    "for i, _TIMEPOINT in enumerate(SEEG_PART.T):\n",
    "    _CV_ERRORS_KCSD = cv(reconstructor_kcsd, _TIMEPOINT, REGULARIZATION_PARAMETERS)\n",
    "    _regularization_parameter_kcsd = REGULARIZATION_PARAMETERS[np.argmin(_CV_ERRORS_KCSD)]\n",
    "\n",
    "    _CV_ERRORS_KESI = cv(reconstructor_kesi, _TIMEPOINT, REGULARIZATION_PARAMETERS)\n",
    "    _regularization_parameter_kesi = REGULARIZATION_PARAMETERS[np.argmin(_CV_ERRORS_KESI)]\n",
    "\n",
    "    _KCSD = reconstructor_kcsd(_TIMEPOINT, _regularization_parameter_kcsd)\n",
    "    _KESI = reconstructor_kesi(_TIMEPOINT, _regularization_parameter_kesi)\n",
    "    _amp = 0.5 * (abs(_KCSD).max() + abs(_KESI).max())\n",
    "    _DIFF = to_3D(_KCSD - _KESI)\n",
    "\n",
    "    _L2 = np.sqrt(np.square(_DIFF).mean()) / _amp\n",
    "    if _L2 > max_L2_diff:\n",
    "        max_L2_diff = _L2\n",
    "        i_max_L2_diff = i"
   ]
  },
  {
   "cell_type": "code",
   "execution_count": null,
   "metadata": {},
   "outputs": [],
   "source": [
    "print(i_max_L2_diff, max_L2_diff)"
   ]
  },
  {
   "cell_type": "code",
   "execution_count": null,
   "metadata": {},
   "outputs": [],
   "source": []
  },
  {
   "cell_type": "code",
   "execution_count": null,
   "metadata": {},
   "outputs": [],
   "source": [
    "TIMEPOINT_BF = SEEG_PART[:, i_max_L2_diff]\n",
    "\n",
    "CV_ERRORS_KCSD_BF = cv(reconstructor_kcsd, TIMEPOINT_BF, REGULARIZATION_PARAMETERS)\n",
    "regularization_parameter_kcsd_bf = REGULARIZATION_PARAMETERS[np.argmin(CV_ERRORS_KCSD_BF)]\n",
    "\n",
    "CV_ERRORS_KESI_BF = cv(reconstructor_kesi, TIMEPOINT_BF, REGULARIZATION_PARAMETERS)\n",
    "regularization_parameter_kesi_bf = REGULARIZATION_PARAMETERS[np.argmin(CV_ERRORS_KESI_BF)]"
   ]
  },
  {
   "cell_type": "code",
   "execution_count": null,
   "metadata": {},
   "outputs": [],
   "source": [
    "plt.title(f\"BF: timepoint #{i_max_L2_diff}\")\n",
    "plt.plot(REGULARIZATION_PARAMETERS,\n",
    "         CV_ERRORS_KCSD_BF,\n",
    "         color=cbf.BLUE)\n",
    "plt.plot(REGULARIZATION_PARAMETERS,\n",
    "         CV_ERRORS_KESI_BF,\n",
    "         color=cbf.VERMILION)\n",
    "plt.plot(regularization_parameter_kcsd_bf,\n",
    "         min(CV_ERRORS_KCSD_BF),\n",
    "         marker=\"o\",\n",
    "         color=cbf.BLUE,\n",
    "         label=\"kCSD\")\n",
    "plt.plot(regularization_parameter_kesi_bf,\n",
    "         min(CV_ERRORS_KESI_BF),\n",
    "         marker=\"o\",\n",
    "         color=cbf.VERMILION,\n",
    "         label=\"kESI\")\n",
    "plt.axvspan(EIGENVALUES_KCSD.min(),\n",
    "            EIGENVALUES_KCSD.max(),\n",
    "            ls=\":\",\n",
    "            color=cbf.GREEN,\n",
    "            hatch=\".....\",\n",
    "            fill=False)\n",
    "plt.xscale('log')\n",
    "plt.xlabel('regularization parameter')\n",
    "plt.yscale('log')\n",
    "plt.ylabel('L2 norm of cross-validation error')\n",
    "plt.legend(loc=\"best\");"
   ]
  },
  {
   "cell_type": "code",
   "execution_count": null,
   "metadata": {},
   "outputs": [],
   "source": [
    "csd_plotter.plot_volume(to_3D(reconstructor_kesi(TIMEPOINT_BF)), 'kESI without regularization')"
   ]
  },
  {
   "cell_type": "code",
   "execution_count": null,
   "metadata": {},
   "outputs": [],
   "source": [
    "csd_plotter.plot_volume(to_3D(reconstructor_kcsd(TIMEPOINT_BF)), 'kCSD without regularization')"
   ]
  },
  {
   "cell_type": "code",
   "execution_count": null,
   "metadata": {},
   "outputs": [],
   "source": [
    "csd_plotter.plot_volume(to_3D(reconstructor_kesi(TIMEPOINT_BF, regularization_parameter_kesi_bf)), 'kESI with regularization')"
   ]
  },
  {
   "cell_type": "code",
   "execution_count": null,
   "metadata": {},
   "outputs": [],
   "source": [
    "csd_plotter.plot_volume(to_3D(reconstructor_kcsd(TIMEPOINT_BF, regularization_parameter_kcsd_bf)),\n",
    "                        'kCSD with regularization')"
   ]
  },
  {
   "cell_type": "code",
   "execution_count": null,
   "metadata": {},
   "outputs": [],
   "source": [
    "_A = np.log10(abs(np.matmul(EIGENVECTORS_KCSD.T, EIGENVECTORS_KESI)))\n",
    "_amp = abs(_A).max()\n",
    "\n",
    "plt.imshow(_A, vmin=-_amp, vmax=_amp, cmap=cbf.bwr)\n",
    "plt.colorbar()"
   ]
  },
  {
   "cell_type": "code",
   "execution_count": null,
   "metadata": {},
   "outputs": [],
   "source": [
    "plt.stem(abs(np.matmul(NOISE_V, EIGENVECTORS_KCSD)) / np.sqrt(EIGENVALUES_KCSD))\n",
    "plt.yscale('log')"
   ]
  },
  {
   "cell_type": "code",
   "execution_count": null,
   "metadata": {},
   "outputs": [],
   "source": [
    "plt.stem(abs(np.matmul(GT_V, EIGENVECTORS_KESI)))\n",
    "plt.yscale('log')"
   ]
  },
  {
   "cell_type": "code",
   "execution_count": null,
   "metadata": {},
   "outputs": [],
   "source": [
    "plt.stem(abs(np.matmul(GT_V, EIGENVECTORS_KCSD)))\n",
    "plt.yscale('log')"
   ]
  },
  {
   "cell_type": "code",
   "execution_count": null,
   "metadata": {},
   "outputs": [],
   "source": [
    "plt.stem(abs(np.matmul(NOISE_V, EIGENVECTORS_KESI)) / np.sqrt(EIGENVALUES_KESI))\n",
    "plt.yscale('log')"
   ]
  },
  {
   "cell_type": "code",
   "execution_count": null,
   "metadata": {},
   "outputs": [],
   "source": []
  }
 ],
 "metadata": {
  "kernelspec": {
   "display_name": "Python [conda env:kesi3.7]",
   "language": "python",
   "name": "conda-env-kesi3.7-py"
  },
  "language_info": {
   "codemirror_mode": {
    "name": "ipython",
    "version": 3
   },
   "file_extension": ".py",
   "mimetype": "text/x-python",
   "name": "python",
   "nbconvert_exporter": "python",
   "pygments_lexer": "ipython3",
   "version": "3.7.12"
  }
 },
 "nbformat": 4,
 "nbformat_minor": 4
}
