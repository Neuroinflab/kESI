{
 "cells": [
  {
   "cell_type": "markdown",
   "metadata": {},
   "source": [
    "Please note that this tutorial is focused at reconstructing CSD\n",
    "at a subset of the _CSD_ grid.  For sake of simplicity it uses kCSD\n",
    "(cross)kernels only.\n",
    "To learn, how to create kESI (cross)kernels please consult\n",
    "`tutorial_*_basics_explained.ipynb`.  To compare the reconstructed CSD\n",
    "with kCSD reconstruction at all nodes of the _CSD_ grid please run\n",
    "one of `tutorial_slice[_basics_explained].ipynb` notebooks."
   ]
  },
  {
   "cell_type": "markdown",
   "metadata": {},
   "source": [
    "# Requirements\n",
    "\n",
    "## Memory\n",
    "\n",
    "The code of the notebook requires at least 1.8 GB (1.7 GiB) of free memory.\n",
    "\n",
    "\n",
    "## Environment\n",
    "\n",
    "1. Anaconda Python distribution (tested with `Miniconda3-py39_4.12.0-Linux-x86_64.sh`, _conda v. 4.12.0_).\n",
    "2. Jupyter server (see `extras/jupyter_server.sh` for details).\n",
    "3. Anaconda environments (run `setup_conda_envs.sh`)."
   ]
  },
  {
   "cell_type": "markdown",
   "metadata": {},
   "source": [
    "# Kernel construction tools"
   ]
  },
  {
   "cell_type": "markdown",
   "metadata": {},
   "source": [
    "## Electrode object\n",
    "\n",
    "The implementation of the electrode object is minimal necessary for construction of a kCSD (cross)kernel."
   ]
  },
  {
   "cell_type": "code",
   "execution_count": null,
   "metadata": {},
   "outputs": [],
   "source": [
    "import collections\n",
    "\n",
    "Electrode = collections.namedtuple('Electrode',\n",
    "                                   ['x', 'y', 'z', 'conductivity'])"
   ]
  },
  {
   "cell_type": "markdown",
   "metadata": {},
   "source": [
    "We use the same positions of electrodes as `tutorial_slice[_basics_explained].ipynb` notebooks."
   ]
  },
  {
   "cell_type": "code",
   "execution_count": null,
   "metadata": {},
   "outputs": [],
   "source": [
    "CONDUCTIVITY = 0.3  # S/m\n",
    "\n",
    "ELECTRODES_XYZ = [(0.0, 0.0, 5e-05),\n",
    "                  (5e-05, 0.0, 0.00015),\n",
    "                  (5e-05, -5e-05, 0.00025)]\n",
    "\n",
    "electrodes = [Electrode(x, y, z, CONDUCTIVITY) for x, y, z in ELECTRODES_XYZ]"
   ]
  },
  {
   "cell_type": "markdown",
   "metadata": {},
   "source": [
    "## Model source\n",
    "\n",
    "We want to use CSD bases 36μm wide ($R = 18\\mu{}m$)."
   ]
  },
  {
   "cell_type": "code",
   "execution_count": null,
   "metadata": {},
   "outputs": [],
   "source": [
    "from kesi.common import SphericalSplineSourceKCSD\n",
    "\n",
    "SRC_R = 18e-6  # m\n",
    "\n",
    "spline_nodes = [SRC_R / 3, SRC_R]\n",
    "spline_polynomials = [[1],\n",
    "                      [0,\n",
    "                       6.75 / SRC_R,\n",
    "                       -13.5 / SRC_R ** 2,\n",
    "                       6.75 / SRC_R ** 3]]\n",
    "model_src = SphericalSplineSourceKCSD(0, 0, 0,\n",
    "                                      spline_nodes,\n",
    "                                      spline_polynomials)"
   ]
  },
  {
   "cell_type": "markdown",
   "metadata": {},
   "source": [
    "## Convolver object"
   ]
  },
  {
   "cell_type": "code",
   "execution_count": null,
   "metadata": {},
   "outputs": [],
   "source": [
    "import numpy as np\n",
    "from kesi.kernel.constructor import Convolver\n",
    "\n",
    "ROMBERG_K = 5\n",
    "Z_MIN = 0\n",
    "Z_MAX = 3e-4\n",
    "XY_AMP = 1.5e-4\n",
    "\n",
    "_h_min = SRC_R * 2**(1 - ROMBERG_K)\n",
    "_X = _Y = np.linspace(-XY_AMP, XY_AMP, int(np.floor(2 * XY_AMP / _h_min)) + 1)\n",
    "_Z = np.linspace(Z_MIN, Z_MAX, int(np.floor((Z_MAX - Z_MIN) / _h_min)) + 1)\n",
    "\n",
    "_csd_grid = _pot_grid = [_X, _Y, _Z]\n",
    "\n",
    "convolver = Convolver(_pot_grid, _csd_grid)\n",
    "\n",
    "for _c, _h in zip(\"XYZ\", convolver.steps(\"POT\")):\n",
    "    assert _h >= _h_min, f\"{_c}:\\t{_h} < {_h_min}\"\n",
    "    if _h >= 2 * _h_min:\n",
    "        print(f\"You can reduce number of nodes of quadrature for {_c} dimension\")"
   ]
  },
  {
   "cell_type": "markdown",
   "metadata": {},
   "source": [
    "## Convolver interface"
   ]
  },
  {
   "cell_type": "code",
   "execution_count": null,
   "metadata": {},
   "outputs": [],
   "source": [
    "from kesi.kernel.constructor import ConvolverInterfaceIndexed\n",
    "from scipy.integrate import romb\n",
    "\n",
    "ROMBERG_N = 2 ** ROMBERG_K + 1\n",
    "ROMBERG_WEIGHTS = romb(np.identity(ROMBERG_N), dx=2 ** -ROMBERG_K)\n",
    "\n",
    "SRC_MASK = ((convolver.SRC_Z > Z_MIN + SRC_R)\n",
    "            & (convolver.SRC_Z < Z_MAX - SRC_R)\n",
    "            & (abs(convolver.SRC_X) < XY_AMP - SRC_R)\n",
    "            & (abs(convolver.SRC_Y) < XY_AMP - SRC_R))"
   ]
  },
  {
   "cell_type": "code",
   "execution_count": null,
   "metadata": {},
   "outputs": [],
   "source": [
    "print(SRC_MASK.sum())"
   ]
  },
  {
   "cell_type": "code",
   "execution_count": null,
   "metadata": {},
   "outputs": [],
   "source": [
    "convolver_interface = ConvolverInterfaceIndexed(convolver,\n",
    "                                                model_src.csd,\n",
    "                                                ROMBERG_WEIGHTS,\n",
    "                                                SRC_MASK)"
   ]
  },
  {
   "cell_type": "markdown",
   "metadata": {},
   "source": [
    "## Potential Basis Functions"
   ]
  },
  {
   "cell_type": "code",
   "execution_count": null,
   "metadata": {},
   "outputs": [],
   "source": [
    "from kesi.kernel.potential_basis_functions import Analytical as PBF"
   ]
  },
  {
   "cell_type": "code",
   "execution_count": null,
   "metadata": {},
   "outputs": [],
   "source": [
    "pbf = PBF(convolver_interface,\n",
    "          potential=model_src.potential)"
   ]
  },
  {
   "cell_type": "markdown",
   "metadata": {},
   "source": [
    "## Kernel constructor and cross-kernel constructor"
   ]
  },
  {
   "cell_type": "code",
   "execution_count": null,
   "metadata": {},
   "outputs": [],
   "source": [
    "from kesi.kernel.constructor import KernelConstructor, CrossKernelConstructor\n",
    "\n",
    "kernel_constructor = KernelConstructor()"
   ]
  },
  {
   "cell_type": "markdown",
   "metadata": {},
   "source": [
    "### Cross-kernel for reconstruction in coordinate planes\n",
    "\n",
    "To calculate the cross-kernel matrix we need to select nodes of the _CSD_ grid.\n",
    "We are going to visualise current source density in the coordinate planes,\n",
    "thus in the boolean mask we select the closest nodes to the planes.\n",
    "First we unequivocally define the planes by their intersection point."
   ]
  },
  {
   "cell_type": "code",
   "execution_count": null,
   "metadata": {},
   "outputs": [],
   "source": [
    "coordinate_x = 25e-6\n",
    "coordinate_y = -25e-6\n",
    "coordinate_z = 150e-6\n",
    "\n",
    "intersection = [coordinate_x,\n",
    "                coordinate_y,\n",
    "                coordinate_z]"
   ]
  },
  {
   "cell_type": "markdown",
   "metadata": {},
   "source": [
    "We find indices of the node of the _CSD_ grid closest to the intersection in terms of Manhattan distance."
   ]
  },
  {
   "cell_type": "code",
   "execution_count": null,
   "metadata": {},
   "outputs": [],
   "source": [
    "indices_of_coordinates = [np.argmin(abs(_C - _c))\n",
    "                          for _C, _c in zip(convolver.CSD_GRID,\n",
    "                                            intersection)]"
   ]
  },
  {
   "cell_type": "markdown",
   "metadata": {},
   "source": [
    "With the indices we select the closest (to the coordinate planes) nodes of the _CSD_ grid.\n",
    "<!-- We define an auxilary function `one_hot(i, n)` which returns `n`-long vector which all elements but `i`-th are `0` (and the `i`-th element is `1`). -->"
   ]
  },
  {
   "cell_type": "code",
   "execution_count": null,
   "metadata": {},
   "outputs": [],
   "source": [
    "CSD_MASK = np.zeros(convolver.csd_shape,\n",
    "                    dtype=bool)\n",
    "CSD_MASK[indices_of_coordinates[0], :, :] = True  # X-coordinate plane\n",
    "CSD_MASK[:, indices_of_coordinates[1], :] = True  # Y-coordinate plane\n",
    "CSD_MASK[:, :, indices_of_coordinates[2]] = True  # Z-coordinate plane"
   ]
  },
  {
   "cell_type": "markdown",
   "metadata": {},
   "source": [
    "We count the selected nodes."
   ]
  },
  {
   "cell_type": "code",
   "execution_count": null,
   "metadata": {},
   "outputs": [],
   "source": [
    "n_csd_nodes = CSD_MASK.sum()\n",
    "print(f'{n_csd_nodes} nodes of the CSD grid selected.')"
   ]
  },
  {
   "cell_type": "markdown",
   "metadata": {},
   "source": [
    "We use the `CSD_MASK` to create a cross-kernel constructor."
   ]
  },
  {
   "cell_type": "code",
   "execution_count": null,
   "metadata": {},
   "outputs": [],
   "source": [
    "kernel_constructor.crosskernel = CrossKernelConstructor(convolver_interface,\n",
    "                                                        CSD_MASK)"
   ]
  },
  {
   "cell_type": "markdown",
   "metadata": {},
   "source": [
    "To retrieve three CSD planes from CSD vector we define an auxilary function `to_planes()`.\n",
    "The function uses three index arrays to select (and arrange) appropriate elements of the vector."
   ]
  },
  {
   "cell_type": "code",
   "execution_count": null,
   "metadata": {},
   "outputs": [],
   "source": [
    "# As we reconstruct CSD at n_csd_nodes points,\n",
    "# n_csd_nodes is invalid index value for the\n",
    "# reconstructed CSD vector.\n",
    "\n",
    "_CSD_IDX = np.full_like(CSD_MASK, n_csd_nodes,\n",
    "                        dtype=np.int32)\n",
    "_CSD_IDX[CSD_MASK] = np.arange(n_csd_nodes)\n",
    "\n",
    "COORDINATE_PLANE_INDICES = [_CSD_IDX[indices_of_coordinates[0], :, :].copy(),\n",
    "                            _CSD_IDX[:, indices_of_coordinates[1], :].copy(),\n",
    "                            _CSD_IDX[:, :, indices_of_coordinates[2]].copy()\n",
    "                            ]\n",
    "del _CSD_IDX\n",
    "\n",
    "# We test, whether all indices are valid.\n",
    "\n",
    "for _A in COORDINATE_PLANE_INDICES:\n",
    "    assert _A.min() >= 0 and _A.max() < CSD_MASK.sum()\n",
    "    \n",
    "def to_planes(CSD):\n",
    "    return [CSD[IDX] for IDX in COORDINATE_PLANE_INDICES]"
   ]
  },
  {
   "cell_type": "markdown",
   "metadata": {},
   "source": [
    "# Reconstructor"
   ]
  },
  {
   "cell_type": "markdown",
   "metadata": {},
   "source": [
    "## Construction of kernels"
   ]
  },
  {
   "cell_type": "code",
   "execution_count": null,
   "metadata": {},
   "outputs": [],
   "source": [
    "%%time\n",
    "B = kernel_constructor.potential_basis_functions_at_electrodes(electrodes,\n",
    "                                                               pbf)"
   ]
  },
  {
   "cell_type": "code",
   "execution_count": null,
   "metadata": {},
   "outputs": [],
   "source": [
    "KERNEL = kernel_constructor.kernel(B)"
   ]
  },
  {
   "cell_type": "code",
   "execution_count": null,
   "metadata": {},
   "outputs": [],
   "source": [
    "%%time\n",
    "CROSSKERNEL = kernel_constructor.crosskernel(B)"
   ]
  },
  {
   "cell_type": "code",
   "execution_count": null,
   "metadata": {},
   "outputs": [],
   "source": [
    "del B  # the array is large and no longer needed"
   ]
  },
  {
   "cell_type": "markdown",
   "metadata": {},
   "source": [
    "## Reconstructors"
   ]
  },
  {
   "cell_type": "code",
   "execution_count": null,
   "metadata": {},
   "outputs": [],
   "source": [
    "from kesi._verbose import _CrossKernelReconstructor as Reconstructor\n",
    "from kesi._engine import _LinearKernelSolver as KernelSolver\n",
    "\n",
    "\n",
    "reconstructor = Reconstructor(KernelSolver(KERNEL),\n",
    "                              CROSSKERNEL)"
   ]
  },
  {
   "cell_type": "markdown",
   "metadata": {},
   "source": [
    "# Visualisation"
   ]
  },
  {
   "cell_type": "code",
   "execution_count": null,
   "metadata": {},
   "outputs": [],
   "source": [
    "from tutorial import coordinate_planes_CoordinatePlanesVisualisation as CoordinatePlanesVisualisation"
   ]
  },
  {
   "cell_type": "code",
   "execution_count": null,
   "metadata": {},
   "outputs": [],
   "source": [
    "csd_plotter = CoordinatePlanesVisualisation([_x.flatten() for _x in convolver.CSD_GRID],\n",
    "                                            intersection,\n",
    "                                            unit_factor=1e-12,\n",
    "                                            unit='$\\\\frac{\\\\mu{}A}{mm^3}$',\n",
    "                                            length_factor=1e6,\n",
    "                                            length_unit='$\\\\mu{}m$')"
   ]
  },
  {
   "cell_type": "markdown",
   "metadata": {},
   "source": [
    "# Reconstruction"
   ]
  },
  {
   "cell_type": "markdown",
   "metadata": {},
   "source": [
    "otential values (given in $\\mu{}V$) are stored in a vector `POTENTIAL`.\n",
    "Each of its $N$ elements were calculated from ground truth CSD\n",
    "in the `tutorial_slice.ipynb` notebook (`GT_V` therein)."
   ]
  },
  {
   "cell_type": "code",
   "execution_count": null,
   "metadata": {},
   "outputs": [],
   "source": [
    "POTENTIAL = [-126548.99283768,\n",
    "             -119140.53772061,\n",
    "             -73225.23872045,\n",
    "             ]"
   ]
  },
  {
   "cell_type": "markdown",
   "metadata": {},
   "source": [
    "As potential input was a vector, the reconstructor returns\n",
    "a vector of CSD values.  Each of its $\\tilde{\\underline{N}}$\n",
    "elements corresponds to a selected node of the _CSD_ grid."
   ]
  },
  {
   "cell_type": "code",
   "execution_count": null,
   "metadata": {},
   "outputs": [],
   "source": [
    "%%time\n",
    "CSD = reconstructor(POTENTIAL)"
   ]
  },
  {
   "cell_type": "markdown",
   "metadata": {},
   "source": [
    "It should be same as the kCSD reconstruction in\n",
    "`tutorial_slice[_basics_explained].ipynb` notebooks."
   ]
  },
  {
   "cell_type": "code",
   "execution_count": null,
   "metadata": {
    "scrolled": false
   },
   "outputs": [],
   "source": [
    "csd_plotter.plot_planes(to_planes(CSD),\n",
    "                        title='kCSD reconstruction from slice tutorial notebook')"
   ]
  }
 ],
 "metadata": {
  "kernelspec": {
   "display_name": "Python [conda env:kesi3.7]",
   "language": "python",
   "name": "conda-env-kesi3.7-py"
  },
  "language_info": {
   "codemirror_mode": {
    "name": "ipython",
    "version": 3
   },
   "file_extension": ".py",
   "mimetype": "text/x-python",
   "name": "python",
   "nbconvert_exporter": "python",
   "pygments_lexer": "ipython3",
   "version": "3.7.12"
  }
 },
 "nbformat": 4,
 "nbformat_minor": 4
}
