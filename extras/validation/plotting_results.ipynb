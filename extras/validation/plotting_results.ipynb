{
 "cells": [
  {
   "cell_type": "code",
   "execution_count": 1,
   "metadata": {},
   "outputs": [
    {
     "name": "stderr",
     "output_type": "stream",
     "text": [
      "Unable to import from dolfin\n"
     ]
    }
   ],
   "source": [
    "import numpy as np\n",
    "import pandas as pd\n",
    "import scipy\n",
    "import matplotlib.pyplot as plt\n",
    "import matplotlib.cm as cm\n",
    "from matplotlib import gridspec\n",
    "import itertools\n",
    "import time\n",
    "import sys\n",
    "\n",
    "from kesi._verbose import (VerboseFFR,\n",
    "                           LinearMixture,\n",
    "                           LoadableVerboseFFR)\n",
    "from kesi._engine import _LinearKernelSolver\n",
    "sys.path.append('..')\n",
    "from FEM.fem_sphere_gaussian import (SomeSphereGaussianSourceFactory3D,\n",
    "                                     SomeSphereGaussianSourceFactoryOnlyCSD)\n",
    "from _common_new import altitude_azimuth_mesh\n",
    "\n",
    "MeasurementManagerBase = VerboseFFR.MeasurementManagerBase"
   ]
  },
  {
   "cell_type": "code",
   "execution_count": 2,
   "metadata": {},
   "outputs": [],
   "source": [
    "class MeasurementManager(MeasurementManagerBase):\n",
    "    def __init__(self, ELECTRODES, space='potential'):\n",
    "        self._space = space\n",
    "        self._ELECTRODES = ELECTRODES\n",
    "        self.number_of_measurements = len(ELECTRODES)\n",
    "    def probe(self, field):\n",
    "        return getattr(field, \n",
    "                       self._space)(self._ELECTRODES.X,\n",
    "                                    self._ELECTRODES.Y,\n",
    "                                    self._ELECTRODES.Z)"
   ]
  },
  {
   "cell_type": "code",
   "execution_count": 3,
   "metadata": {},
   "outputs": [],
   "source": [
    "def all_sources(r, altitude, azimuth):\n",
    "    return [factory(x, y, z)\n",
    "            for x, y, z in itertools.product(r, altitude, azimuth)]"
   ]
  },
  {
   "cell_type": "code",
   "execution_count": 4,
   "metadata": {},
   "outputs": [],
   "source": [
    "def calculate_point_error(true_csd, est_csd):\n",
    "    \"\"\"\n",
    "    Calculates normalized error of reconstruction at every point of\n",
    "    estimation space separetly.\n",
    "\n",
    "    Parameters\n",
    "    ----------\n",
    "    true_csd: numpy array\n",
    "        Values of true csd at points of kCSD estimation.\n",
    "    est_csd: numpy array\n",
    "        CSD estimated with kCSD method.\n",
    "\n",
    "    Returns\n",
    "    -------\n",
    "    point_error: numpy array\n",
    "        Normalized error of reconstruction calculated separetly at every\n",
    "        point of estimation space.\n",
    "    \"\"\"\n",
    "    true_csd_r = true_csd.reshape(true_csd.size, 1)\n",
    "    est_csd_r = est_csd.reshape(est_csd.size, 1)\n",
    "    epsilon = np.linalg.norm(true_csd_r)/np.max(abs(true_csd_r))\n",
    "    err_r = abs(est_csd_r/(np.linalg.norm(est_csd_r)) -\n",
    "                true_csd_r/(np.linalg.norm(true_csd_r)))\n",
    "    err_r *= epsilon\n",
    "    point_error = err_r.reshape(true_csd.shape)\n",
    "    return point_error"
   ]
  },
  {
   "cell_type": "code",
   "execution_count": 5,
   "metadata": {},
   "outputs": [],
   "source": [
    "def calculate_rms(true_csd, est_csd):\n",
    "    \"\"\"\n",
    "    Calculates normalized error of reconstruction.\n",
    "    Parameters\n",
    "    ----------\n",
    "    true_csd: numpy array\n",
    "        Values of true CSD at points of kCSD estimation.\n",
    "    est_csd: numpy array\n",
    "        CSD estimated with kCSD method.\n",
    "    Returns\n",
    "    -------\n",
    "    rms: float\n",
    "        Normalized error of reconstruction.\n",
    "    \"\"\"\n",
    "    rms = np.linalg.norm((true_csd - est_csd))/(np.linalg.norm(true_csd))\n",
    "    return rms"
   ]
  },
  {
   "cell_type": "code",
   "execution_count": 6,
   "metadata": {},
   "outputs": [],
   "source": [
    "def calculate_rdm(true_csd, est_csd):\n",
    "    \"\"\"\n",
    "    Calculates relative difference measure between reconstructed source and\n",
    "    ground truth.\n",
    "    Parameters\n",
    "    ----------\n",
    "    true_csd: numpy array\n",
    "        Values of true CSD at points of kCSD estimation.\n",
    "    est_csd: numpy array\n",
    "        CSD estimated with kCSD method.\n",
    "    Returns\n",
    "    -------\n",
    "    rdm: float\n",
    "        Relative difference measure.\n",
    "    \"\"\"\n",
    "    epsilon = np.finfo(np.float64).eps\n",
    "    rdm = np.linalg.norm(est_csd/(np.linalg.norm(est_csd) + epsilon) -\n",
    "                         true_csd/(np.linalg.norm(true_csd) + epsilon))\n",
    "    return rdm"
   ]
  },
  {
   "cell_type": "code",
   "execution_count": 7,
   "metadata": {},
   "outputs": [],
   "source": [
    "def calculate_rdm_point(true_csd, est_csd):\n",
    "    rdm = abs(est_csd.reshape(est_csd.size, 1)/(np.linalg.norm(est_csd.reshape(est_csd.size, 1))) -\n",
    "              true_csd.reshape(true_csd.size, 1)/(np.linalg.norm(true_csd.reshape(true_csd.size, 1))))\n",
    "    rdm *= np.linalg.norm(true_csd.reshape(true_csd.size, 1))/np.max(abs(true_csd.reshape(true_csd.size, 1)))\n",
    "    return rdm.reshape(true_csd.shape)"
   ]
  },
  {
   "cell_type": "code",
   "execution_count": 8,
   "metadata": {},
   "outputs": [],
   "source": [
    "def calculate_mag(true_csd, est_csd):\n",
    "    \"\"\"\n",
    "    Calculates magnitude ratio between reconstructed source and ground\n",
    "    truth.\n",
    "    Parameters\n",
    "    ----------\n",
    "    test_csd: numpy array\n",
    "        Values of true CSD at points of kCSD estimation.\n",
    "    est_csd: numpy array\n",
    "        CSD estimated with kCSD method.\n",
    "    Returns\n",
    "    -------\n",
    "    mag: float\n",
    "        Magnitude ratio.\n",
    "    \"\"\"\n",
    "    epsilon = np.finfo(np.float64).eps\n",
    "    mag = np.linalg.norm(est_csd/(true_csd + epsilon))\n",
    "    return mag"
   ]
  },
  {
   "cell_type": "code",
   "execution_count": 9,
   "metadata": {},
   "outputs": [],
   "source": [
    "def calculate_mag_point(true_csd, est_csd):\n",
    "    epsilon = np.max(abs(true_csd.reshape(true_csd.size, 1)))\n",
    "    mag = abs(est_csd.reshape(est_csd.size, 1))/(abs(true_csd.reshape(true_csd.size, 1)) + epsilon)\n",
    "    return mag.reshape(true_csd.shape)"
   ]
  },
  {
   "cell_type": "code",
   "execution_count": 10,
   "metadata": {},
   "outputs": [],
   "source": [
    "def cross_validate(reconstructor, measurements, regularization_parameters):\n",
    "    errors = np.zeros(regularization_parameters.size)\n",
    "    for rp_idx, rp in enumerate(regularization_parameters):\n",
    "        print('Cross validating regularization parameter :', rp)\n",
    "        errors[rp_idx] = np.linalg.norm(reconstructor.leave_one_out_errors(measurements, rp))\n",
    "    err_idx = np.where(errors == np.min(errors))\n",
    "    cv_rp = regularization_parameters[err_idx][0]\n",
    "    print('CV_rp :', cv_rp)\n",
    "    return cv_rp, errors"
   ]
  },
  {
   "cell_type": "code",
   "execution_count": 11,
   "metadata": {},
   "outputs": [],
   "source": [
    "def make_plot(values, val_type, X, Y, Z, path, idx=15, fig_title=None):\n",
    "    plt.figure(figsize=(6, 6))\n",
    "    ax = plt.subplot(111)\n",
    "    ax.set_title(fig_title)\n",
    "    if val_type == 'csd':\n",
    "        cmap = cm.bwr\n",
    "        t_max = np.max(np.abs(values))\n",
    "        t_min = -t_max\n",
    "    else:\n",
    "        cmap = cm.Greys\n",
    "        t_max = np.max(np.abs(values))#1\n",
    "        t_min = 0\n",
    "    levels = np.linspace(t_min, t_max, 65)\n",
    "    ax.set_aspect('equal')\n",
    "    im = ax.contourf(X[idx, :, :], Z[idx, :, :], values[:, idx, :], levels=levels, cmap=cmap, alpha=1)\n",
    "    ax.set_xlabel('X (m)')\n",
    "    ax.set_ylabel('Z (m)')\n",
    "    ax.set_xticks([X.min(), 0, X.max()])\n",
    "    ax.set_yticks([Z.min(), 0, Z.max()])\n",
    "    ticks = np.linspace(t_min, t_max, 3, endpoint=True)\n",
    "    plt.colorbar(im, orientation='horizontal', format='%.2f', ticks=ticks)\n",
    "    plt.savefig(path + '/figs/' + str(fig_title) +'.png', dpi=300)\n",
    "    return"
   ]
  },
  {
   "cell_type": "code",
   "execution_count": 12,
   "metadata": {},
   "outputs": [],
   "source": [
    "def generate_figure(X, Y, Z, values, values_type, IDX, layer, title, save_path=sys.path[0]):\n",
    "    VALUES = np.zeros(X.shape)  \n",
    "    for v, i, j, k in zip(values, *np.where(IDX)):  # place values in regular grid\n",
    "        VALUES[i, j, k] = v\n",
    "    make_plot(VALUES, values_type, X, Y, Z, save_path, idx=layer, fig_title=title)"
   ]
  },
  {
   "cell_type": "code",
   "execution_count": 13,
   "metadata": {},
   "outputs": [],
   "source": [
    "def make_subplot(ax, values, val_type, X, Y, Z, t_max, idx=15, fig_title=None, colorbar=False, cax=None):\n",
    "    #plt.figure(figsize=(6, 6))\n",
    "    #ax = plt.subplot(111)\n",
    "    ax.set_title(fig_title)\n",
    "    if val_type == 'csd':\n",
    "        cmap = cm.bwr\n",
    "        #t_max = np.max(np.abs(values))\n",
    "        t_min = -t_max\n",
    "    else:\n",
    "        cmap = cm.Greys\n",
    "        #t_max = np.max(np.abs(values))#1\n",
    "        t_min = 0\n",
    "    levels = np.linspace(t_min, t_max, 65)\n",
    "    ax.set_aspect('equal')\n",
    "    im = ax.contourf(X[idx, :, :], Z[idx, :, :], values[:, idx, :], levels=levels, cmap=cmap, alpha=1)\n",
    "    ax.set_xlabel('X (m)')\n",
    "    ax.set_ylabel('Z (m)', labelpad=0.04)\n",
    "    ax.set_xticks([X.min(), 0, X.max()])\n",
    "    ax.set_yticks([Z.min(), 0, Z.max()])\n",
    "    if colorbar:\n",
    "        ticks = np.linspace(t_min, t_max, 3, endpoint=True)\n",
    "        plt.colorbar(im, cax=cax, orientation='horizontal', format='%.2f', ticks=ticks)\n",
    "    #plt.savefig(path + '/figs/' + str(fig_title) +'.png', dpi=300)\n",
    "    return"
   ]
  },
  {
   "cell_type": "code",
   "execution_count": 14,
   "metadata": {},
   "outputs": [],
   "source": [
    "def generate_subplot(X, Y, Z, true_csd, est_csd, type1, est_csd_cv, type2, IDX, layer, fig_title, src_nr=0, save_path=sys.path[0]):\n",
    "    fig = plt.figure(figsize=(17, 15))\n",
    "    csd_max = 60000\n",
    "    err_max = 0.14\n",
    "    gs = gridspec.GridSpec(4, 3, height_ratios=[1., 1., 1., 0.04], left=0.135,\n",
    "                           right=0.865, top=0.94, bottom=0.06)\n",
    "    TRUE_CSD = np.zeros(X.shape)  \n",
    "    for v, i, j, k in zip(true_csd[src_nr], *np.where(IDX)):  # place values in regular grid\n",
    "        TRUE_CSD[i, j, k] = v\n",
    "    ax = plt.subplot(gs[0, 0])\n",
    "    title = 'True csd'\n",
    "    make_subplot(ax, TRUE_CSD, 'csd', X, Y, Z, csd_max, idx=layer, fig_title=title)\n",
    "    \n",
    "    EST_CSD = np.zeros(X.shape)  \n",
    "    for v, i, j, k in zip(est_csd[src_nr], *np.where(IDX)):  # place values in regular grid\n",
    "        EST_CSD[i, j, k] = v\n",
    "    ax = plt.subplot(gs[1, 0])\n",
    "    title = 'Est csd ' + str(type1)\n",
    "    make_subplot(ax, EST_CSD, 'csd', X, Y, Z, csd_max, idx=layer, fig_title=title)\n",
    "    \n",
    "    ERROR = np.zeros(X.shape)\n",
    "    error = calculate_point_error(true_csd[src_nr], est_csd[src_nr])\n",
    "    for v, i, j, k in zip(error, *np.where(IDX)):  # place values in regular grid\n",
    "        ERROR[i, j, k] = v\n",
    "    ax = plt.subplot(gs[1, 1])\n",
    "    title = 'Error ' + str(type1)\n",
    "    make_subplot(ax, ERROR, 'err', X, Y, Z, err_max, idx=layer, fig_title=title)\n",
    "    \n",
    "    DIFF = np.zeros(X.shape)\n",
    "    diff = (true_csd[src_nr] - est_csd[src_nr])\n",
    "    for v, i, j, k in zip(diff, *np.where(IDX)):  # place values in regular grid\n",
    "        DIFF[i, j, k] = v\n",
    "    ax = plt.subplot(gs[1, 2])\n",
    "    title = 'Diff ' + str(type1)\n",
    "    make_subplot(ax, DIFF, 'csd', X, Y, Z, csd_max, idx=layer, fig_title=title)\n",
    "    \n",
    "    EST_CSD_CV = np.zeros(X.shape)  \n",
    "    for v, i, j, k in zip(est_csd_cv[src_nr], *np.where(IDX)):  # place values in regular grid\n",
    "        EST_CSD_CV[i, j, k] = v\n",
    "    ax = plt.subplot(gs[2, 0])\n",
    "    cax = plt.subplot(gs[3, 0])\n",
    "    title = 'Est csd ' + str(type2)\n",
    "    make_subplot(ax, EST_CSD_CV, 'csd', X, Y, Z, csd_max, idx=layer, fig_title=title, colorbar=True, cax=cax)\n",
    "    \n",
    "    ERROR_CV = np.zeros(X.shape)\n",
    "    error_cv = calculate_point_error(true_csd[src_nr], est_csd_cv[src_nr])\n",
    "    for v, i, j, k in zip(error_cv, *np.where(IDX)):  # place values in regular grid\n",
    "        ERROR_CV[i, j, k] = v\n",
    "    ax = plt.subplot(gs[2, 1])\n",
    "    cax = plt.subplot(gs[3, 1])\n",
    "    title = 'Error ' + str(type2)\n",
    "    make_subplot(ax, ERROR_CV, 'err', X, Y, Z, err_max, idx=layer, fig_title=title, colorbar=True, cax=cax)\n",
    "    \n",
    "    DIFF = np.zeros(X.shape)\n",
    "    diff = (true_csd[src_nr] - est_csd_cv[src_nr])\n",
    "    for v, i, j, k in zip(diff, *np.where(IDX)):  # place values in regular grid\n",
    "        DIFF[i, j, k] = v\n",
    "    ax = plt.subplot(gs[2, 2])\n",
    "    cax = plt.subplot(gs[3, 2])\n",
    "    title = 'Diff ' + str(type2)\n",
    "    make_subplot(ax, DIFF, 'csd', X, Y, Z, csd_max, idx=layer, fig_title=title, colorbar=True, cax=cax)\n",
    "    fig_title = fig_title + ' validation ' + type1 + type2 + ' src_nr ' + str(src_nr)\n",
    "    print(fig_title)\n",
    "    plt.savefig(path + '/figs/' + str(fig_title) +'.png', dpi=300)"
   ]
  },
  {
   "cell_type": "code",
   "execution_count": 15,
   "metadata": {},
   "outputs": [
    {
     "name": "stdout",
     "output_type": "stream",
     "text": [
      "Loading data --- 2.5657429695129395 seconds ---\n",
      "Number of sources:  45508\n",
      "Sources --- 6.828580617904663 seconds ---\n"
     ]
    }
   ],
   "source": [
    "start_time = time.time()    \n",
    "MESHFILE = '/home/mbejtka/Data_Kuba/four_spheres_gaussian_1000_deg_1.npz'\n",
    "factory = SomeSphereGaussianSourceFactory3D(MESHFILE)\n",
    "print(\"Loading data --- %s seconds ---\" % (time.time() - start_time))\n",
    "\n",
    "dst = factory.R[1] - factory.R[0]\n",
    "sources = [factory(r, altitude, azimuth)\n",
    "           for altitude, azimuth in altitude_azimuth_mesh(-np.pi/2,\n",
    "                                                          dst/factory.scalp_radius)\n",
    "           for r in factory.R]\n",
    "print('Number of sources: ', len(sources))\n",
    "print(\"Sources --- %s seconds ---\" % (time.time() - start_time))"
   ]
  },
  {
   "cell_type": "code",
   "execution_count": 16,
   "metadata": {},
   "outputs": [],
   "source": [
    "# Determine positions of electrodes\n",
    "theta, phi, r = np.meshgrid(np.linspace(-0.5*np.pi, 0.5*np.pi, 15),\n",
    "                           np.linspace(0, 2*np.pi, 15),\n",
    "                           [factory.R.max()])\n",
    "ELE_X = r*np.cos(theta)*np.cos(phi)\n",
    "ELE_Y = r*np.cos(theta)*np.sin(phi)\n",
    "ELE_Z = r*np.sin(theta)\n",
    "ELECTRODES = pd.DataFrame({'X': ELE_X.flatten(),\n",
    "                           'Y': ELE_Y.flatten(),\n",
    "                           'Z': ELE_Z.flatten()})"
   ]
  },
  {
   "cell_type": "code",
   "execution_count": 17,
   "metadata": {},
   "outputs": [],
   "source": [
    "# Estimating points    \n",
    "r = factory.scalp_radius\n",
    "X, Y, Z = np.meshgrid(np.linspace(-r, r, 30),\n",
    "                      np.linspace(-r, r, 30),\n",
    "                      np.linspace(-r, r, 30))\n",
    "IDX = X**2 + Y**2 + Z**2 <=r**2\n",
    "EST_X = X[IDX]\n",
    "EST_Y = Y[IDX]\n",
    "EST_Z = Z[IDX]\n",
    "EST_POINTS =pd.DataFrame({'X': EST_X.flatten(),\n",
    "                          'Y': EST_Y.flatten(),\n",
    "                          'Z': EST_Z.flatten()})"
   ]
  },
  {
   "cell_type": "code",
   "execution_count": 18,
   "metadata": {},
   "outputs": [],
   "source": [
    "measurement_manager = MeasurementManager(ELECTRODES, space='potential')\n",
    "measurement_manager_basis = MeasurementManager(EST_POINTS, space='csd')"
   ]
  },
  {
   "cell_type": "code",
   "execution_count": 19,
   "metadata": {},
   "outputs": [],
   "source": [
    "# Create reconstructor\n",
    "reconstructor_filename = '../SavedReconstructor_four_spheres_1000_deg_1.npz'\n",
    "#reconstructor = VerboseFFR(sources, measurement_manager)\n",
    "#reconstructor.save(reconstructor_filename)\n",
    "#print(\"Reconstructor --- %s seconds ---\" % (time.time() - start_time))"
   ]
  },
  {
   "cell_type": "code",
   "execution_count": 20,
   "metadata": {},
   "outputs": [],
   "source": [
    "factoryCSD = SomeSphereGaussianSourceFactoryOnlyCSD(MESHFILE)\n",
    "dst = factoryCSD.R[1] - factoryCSD.R[0]\n",
    "sourcesCSD = [factoryCSD(r, altitude, azimuth)\n",
    "              for altitude, azimuth in altitude_azimuth_mesh(-np.pi/2,\n",
    "                                                          dst/factory.scalp_radius)\n",
    "              for r in factoryCSD.R]"
   ]
  },
  {
   "cell_type": "code",
   "execution_count": 21,
   "metadata": {},
   "outputs": [],
   "source": [
    "loadable_reconstructor = LoadableVerboseFFR(reconstructor_filename, sourcesCSD, measurement_manager)\n",
    "kernel = loadable_reconstructor.kernel\n",
    "cross_rec_filename = 'results/four_spheres_1000_deg_1_cross_reconstructor.npz'\n",
    "cross_kernel = loadable_reconstructor._CrossKernelReconstructor.load(cross_rec_filename)\n",
    "cross_reconstructor = loadable_reconstructor._CrossKernelReconstructor(_LinearKernelSolver(kernel), cross_kernel)"
   ]
  },
  {
   "cell_type": "code",
   "execution_count": 22,
   "metadata": {
    "scrolled": true
   },
   "outputs": [],
   "source": [
    "potential = [measurement_manager.probe(source) for source in sources]"
   ]
  },
  {
   "cell_type": "code",
   "execution_count": 23,
   "metadata": {},
   "outputs": [],
   "source": [
    "true_csd = [measurement_manager_basis.probe(source) for source in sourcesCSD]"
   ]
  },
  {
   "cell_type": "code",
   "execution_count": 24,
   "metadata": {},
   "outputs": [],
   "source": [
    "with np.load('../four_spheres_parallel_1000_deg_1_rp_0.npz') as fh:\n",
    "    EST_CSD_RP0 = fh['EST_CSD']"
   ]
  },
  {
   "cell_type": "code",
   "execution_count": 25,
   "metadata": {},
   "outputs": [],
   "source": [
    "with np.load('results/four_spheres_1000_deg_1_cv.npz') as fh:\n",
    "    EST_CSD_CV = fh['EST_CSD']"
   ]
  },
  {
   "cell_type": "code",
   "execution_count": 26,
   "metadata": {},
   "outputs": [],
   "source": [
    "with np.load('../four_spheres_1000_deg_1_rp_001.npz') as fh:\n",
    "    EST_CSD_PIC = fh['EST_CSD']"
   ]
  },
  {
   "cell_type": "code",
   "execution_count": 27,
   "metadata": {
    "scrolled": false
   },
   "outputs": [
    {
     "name": "stdout",
     "output_type": "stream",
     "text": [
      "four_spheres validation PicardCV src_nr 0\n"
     ]
    },
    {
     "data": {
      "image/png": "[encoded data removed]",
      "text/plain": [
       "<Figure size 1224x1080 with 10 Axes>"
      ]
     },
     "metadata": {
      "needs_background": "light"
     },
     "output_type": "display_data"
    }
   ],
   "source": [
    "src_nr = 0\n",
    "layer = 15\n",
    "sphere = 'four_spheres'\n",
    "path = sys.path[0]\n",
    "generate_subplot(X, Y, Z, true_csd, EST_CSD_PIC, 'Picard', EST_CSD_CV, 'CV', IDX, layer, str(sphere), 0, path)"
   ]
  }
 ],
 "metadata": {
  "kernelspec": {
   "display_name": "Python [conda env:kesi37] *",
   "language": "python",
   "name": "conda-env-kesi37-py"
  },
  "language_info": {
   "codemirror_mode": {
    "name": "ipython",
    "version": 3
   },
   "file_extension": ".py",
   "mimetype": "text/x-python",
   "name": "python",
   "nbconvert_exporter": "python",
   "pygments_lexer": "ipython3",
   "version": "3.7.0"
  }
 },
 "nbformat": 4,
 "nbformat_minor": 4
}
