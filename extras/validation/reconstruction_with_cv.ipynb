{
 "cells": [
  {
   "cell_type": "code",
   "execution_count": 1,
   "metadata": {},
   "outputs": [
    {
     "name": "stderr",
     "output_type": "stream",
     "text": [
      "Unable to import from dolfin\n"
     ]
    }
   ],
   "source": [
    "import numpy as np\n",
    "import pandas as pd\n",
    "import matplotlib.pyplot as plt\n",
    "import matplotlib.cm as cm\n",
    "import itertools\n",
    "import time\n",
    "import sys\n",
    "\n",
    "from kesi._verbose import (VerboseFFR,\n",
    "                           LinearMixture,\n",
    "                           LoadableVerboseFFR, _CrossKernelReconstructor)\n",
    "from kesi._engine import _LinearKernelSolver\n",
    "sys.path.append('..')\n",
    "from FEM.fem_sphere_gaussian import (SomeSphereGaussianSourceFactory3D,\n",
    "                                     SomeSphereGaussianSourceFactoryOnlyCSD)\n",
    "from _common_new import altitude_azimuth_mesh\n",
    "\n",
    "try:\n",
    "    from joblib import Parallel, delayed\n",
    "    import multiprocessing\n",
    "    NUM_CORES = multiprocessing.cpu_count() - 1\n",
    "    PARALLEL_AVAILABLE = True\n",
    "except ImportError:\n",
    "    PARALLEL_AVAILABLE = False\n",
    "\n",
    "MeasurementManagerBase = VerboseFFR.MeasurementManagerBase"
   ]
  },
  {
   "cell_type": "code",
   "execution_count": 2,
   "metadata": {},
   "outputs": [],
   "source": [
    "class MeasurementManager(MeasurementManagerBase):\n",
    "    def __init__(self, ELECTRODES, space='potential'):\n",
    "        self._space = space\n",
    "        self._ELECTRODES = ELECTRODES\n",
    "        self.number_of_measurements = len(ELECTRODES)\n",
    "    def probe(self, field):\n",
    "        return getattr(field, \n",
    "                       self._space)(self._ELECTRODES.X,\n",
    "                                    self._ELECTRODES.Y,\n",
    "                                    self._ELECTRODES.Z)"
   ]
  },
  {
   "cell_type": "code",
   "execution_count": 3,
   "metadata": {},
   "outputs": [],
   "source": [
    "def all_sources(r, altitude, azimuth):\n",
    "    return [factory(x, y, z)\n",
    "            for x, y, z in itertools.product(r, altitude, azimuth)]"
   ]
  },
  {
   "cell_type": "code",
   "execution_count": 4,
   "metadata": {},
   "outputs": [],
   "source": [
    "def calculate_point_error(true_csd, est_csd):\n",
    "    \"\"\"\n",
    "    Calculates normalized error of reconstruction at every point of\n",
    "    estimation space separetly.\n",
    "\n",
    "    Parameters\n",
    "    ----------\n",
    "    true_csd: numpy array\n",
    "        Values of true csd at points of kCSD estimation.\n",
    "    est_csd: numpy array\n",
    "        CSD estimated with kCSD method.\n",
    "\n",
    "    Returns\n",
    "    -------\n",
    "    point_error: numpy array\n",
    "        Normalized error of reconstruction calculated separetly at every\n",
    "        point of estimation space.\n",
    "    \"\"\"\n",
    "    true_csd_r = true_csd.reshape(true_csd.size, 1)\n",
    "    est_csd_r = est_csd.reshape(est_csd.size, 1)\n",
    "    epsilon = np.linalg.norm(true_csd_r)/np.max(abs(true_csd_r))\n",
    "    err_r = abs(est_csd_r/(np.linalg.norm(est_csd_r)) -\n",
    "                true_csd_r/(np.linalg.norm(true_csd_r)))\n",
    "    err_r *= epsilon\n",
    "    point_error = err_r.reshape(true_csd.shape)\n",
    "    return point_error"
   ]
  },
  {
   "cell_type": "code",
   "execution_count": 5,
   "metadata": {},
   "outputs": [],
   "source": [
    "def calculate_rms(true_csd, est_csd):\n",
    "    \"\"\"\n",
    "    Calculates normalized error of reconstruction.\n",
    "    Parameters\n",
    "    ----------\n",
    "    true_csd: numpy array\n",
    "        Values of true CSD at points of kCSD estimation.\n",
    "    est_csd: numpy array\n",
    "        CSD estimated with kCSD method.\n",
    "    Returns\n",
    "    -------\n",
    "    rms: float\n",
    "        Normalized error of reconstruction.\n",
    "    \"\"\"\n",
    "    rms = np.linalg.norm((true_csd - est_csd))/(np.linalg.norm(true_csd))\n",
    "    return rms"
   ]
  },
  {
   "cell_type": "code",
   "execution_count": 6,
   "metadata": {},
   "outputs": [],
   "source": [
    "def calculate_rdm(true_csd, est_csd):\n",
    "    \"\"\"\n",
    "    Calculates relative difference measure between reconstructed source and\n",
    "    ground truth.\n",
    "    Parameters\n",
    "    ----------\n",
    "    true_csd: numpy array\n",
    "        Values of true CSD at points of kCSD estimation.\n",
    "    est_csd: numpy array\n",
    "        CSD estimated with kCSD method.\n",
    "    Returns\n",
    "    -------\n",
    "    rdm: float\n",
    "        Relative difference measure.\n",
    "    \"\"\"\n",
    "    epsilon = np.finfo(np.float64).eps\n",
    "    rdm = np.linalg.norm(est_csd/(np.linalg.norm(est_csd) + epsilon) -\n",
    "                         true_csd/(np.linalg.norm(true_csd) + epsilon))\n",
    "    return rdm"
   ]
  },
  {
   "cell_type": "code",
   "execution_count": 7,
   "metadata": {},
   "outputs": [],
   "source": [
    "def calculate_rdm_point(true_csd, est_csd):\n",
    "    rdm = abs(est_csd.reshape(est_csd.size, 1)/(np.linalg.norm(est_csd.reshape(est_csd.size, 1))) -\n",
    "              true_csd.reshape(true_csd.size, 1)/(np.linalg.norm(true_csd.reshape(true_csd.size, 1))))\n",
    "    rdm *= np.linalg.norm(true_csd.reshape(true_csd.size, 1))/np.max(abs(true_csd.reshape(true_csd.size, 1)))\n",
    "    return rdm.reshape(true_csd.shape)"
   ]
  },
  {
   "cell_type": "code",
   "execution_count": 8,
   "metadata": {},
   "outputs": [],
   "source": [
    "def calculate_mag(true_csd, est_csd):\n",
    "    \"\"\"\n",
    "    Calculates magnitude ratio between reconstructed source and ground\n",
    "    truth.\n",
    "    Parameters\n",
    "    ----------\n",
    "    test_csd: numpy array\n",
    "        Values of true CSD at points of kCSD estimation.\n",
    "    est_csd: numpy array\n",
    "        CSD estimated with kCSD method.\n",
    "    Returns\n",
    "    -------\n",
    "    mag: float\n",
    "        Magnitude ratio.\n",
    "    \"\"\"\n",
    "    epsilon = np.finfo(np.float64).eps\n",
    "    mag = np.linalg.norm(est_csd/(true_csd + epsilon))\n",
    "    return mag"
   ]
  },
  {
   "cell_type": "code",
   "execution_count": 9,
   "metadata": {},
   "outputs": [],
   "source": [
    "def calculate_mag_point(true_csd, est_csd):\n",
    "    epsilon = np.max(abs(true_csd.reshape(true_csd.size, 1)))\n",
    "    mag = abs(est_csd.reshape(est_csd.size, 1))/(abs(true_csd.reshape(true_csd.size, 1)) + epsilon)\n",
    "    return mag.reshape(true_csd.shape)"
   ]
  },
  {
   "cell_type": "code",
   "execution_count": 10,
   "metadata": {},
   "outputs": [],
   "source": [
    "def cross_validate(reconstructor, measurements, regularization_parameters):\n",
    "    errors = np.zeros(regularization_parameters.size)\n",
    "    for rp_idx, rp in enumerate(regularization_parameters):\n",
    "        print('Cross validating regularization parameter :', rp)\n",
    "        errors[rp_idx] = np.linalg.norm(reconstructor.leave_one_out_errors(measurements, rp))\n",
    "    err_idx = np.where(errors == np.min(errors))\n",
    "    cv_rp = regularization_parameters[err_idx][0]\n",
    "    print('CV_rp :', cv_rp)\n",
    "    return cv_rp, errors"
   ]
  },
  {
   "cell_type": "code",
   "execution_count": 11,
   "metadata": {},
   "outputs": [],
   "source": [
    "def make_plot(values, val_type, X, Y, Z, path, idx=15, fig_title=None):\n",
    "    plt.figure(figsize=(6, 6))\n",
    "    ax = plt.subplot(111)\n",
    "    ax.set_title(fig_title)\n",
    "    if val_type == 'csd':\n",
    "        cmap = cm.bwr\n",
    "        t_max = np.max(np.abs(values))\n",
    "        t_min = -t_max\n",
    "    else:\n",
    "        cmap = cm.Greys\n",
    "        t_max = np.max(np.abs(values))#1\n",
    "        t_min = 0\n",
    "    levels = np.linspace(t_min, t_max, 65)\n",
    "    ax.set_aspect('equal')\n",
    "    im = ax.contourf(X[idx, :, :], Z[idx, :, :], values[:, idx, :], levels=levels, cmap=cmap, alpha=1)\n",
    "    ax.set_xlabel('X (m)')\n",
    "    ax.set_ylabel('Z (m)')\n",
    "    ax.set_xticks([X.min(), 0, X.max()])\n",
    "    ax.set_yticks([Z.min(), 0, Z.max()])\n",
    "    ticks = np.linspace(t_min, t_max, 3, endpoint=True)\n",
    "    plt.colorbar(im, orientation='horizontal', format='%.2f', ticks=ticks)\n",
    "    plt.savefig(path + '/' + str(fig_title) +'.png', dpi=300)\n",
    "    return"
   ]
  },
  {
   "cell_type": "code",
   "execution_count": 12,
   "metadata": {},
   "outputs": [],
   "source": [
    "def generate_figure(X, Y, Z, values, values_type, IDX, layer, title, save_path=sys.path[0]):\n",
    "    VALUES = np.zeros(X.shape)  \n",
    "    for v, i, j, k in zip(values, *np.where(IDX)):  # place values in regular grid\n",
    "        VALUES[i, j, k] = v\n",
    "    make_plot(VALUES, values_type, X, Y, Z, save_path, idx=layer, fig_title=title)"
   ]
  },
  {
   "cell_type": "code",
   "execution_count": 13,
   "metadata": {},
   "outputs": [
    {
     "name": "stdout",
     "output_type": "stream",
     "text": [
      "Loading data --- 2.564345121383667 seconds ---\n",
      "Number of sources:  45508\n",
      "Sources --- 6.603707551956177 seconds ---\n"
     ]
    }
   ],
   "source": [
    "start_time = time.time()    \n",
    "MESHFILE = '/home/mbejtka/Data_Kuba/four_spheres_gaussian_1000_deg_1.npz'\n",
    "factory = SomeSphereGaussianSourceFactory3D(MESHFILE)\n",
    "print(\"Loading data --- %s seconds ---\" % (time.time() - start_time))\n",
    "\n",
    "dst = factory.R[1] - factory.R[0]\n",
    "sources = [factory(r, altitude, azimuth)\n",
    "           for altitude, azimuth in altitude_azimuth_mesh(-np.pi/2,\n",
    "                                                          dst/factory.scalp_radius)\n",
    "           for r in factory.R]\n",
    "print('Number of sources: ', len(sources))\n",
    "print(\"Sources --- %s seconds ---\" % (time.time() - start_time))"
   ]
  },
  {
   "cell_type": "code",
   "execution_count": 14,
   "metadata": {},
   "outputs": [],
   "source": [
    "# Determine positions of electrodes\n",
    "theta, phi, r = np.meshgrid(np.linspace(-0.5*np.pi, 0.5*np.pi, 15),\n",
    "                           np.linspace(0, 2*np.pi, 15),\n",
    "                           [factory.R.max()])\n",
    "ELE_X = r*np.cos(theta)*np.cos(phi)\n",
    "ELE_Y = r*np.cos(theta)*np.sin(phi)\n",
    "ELE_Z = r*np.sin(theta)\n",
    "ELECTRODES = pd.DataFrame({'X': ELE_X.flatten(),\n",
    "                           'Y': ELE_Y.flatten(),\n",
    "                           'Z': ELE_Z.flatten()})"
   ]
  },
  {
   "cell_type": "code",
   "execution_count": 15,
   "metadata": {},
   "outputs": [],
   "source": [
    "# Estimating points    \n",
    "r = factory.scalp_radius\n",
    "X, Y, Z = np.meshgrid(np.linspace(-r, r, 30),\n",
    "                      np.linspace(-r, r, 30),\n",
    "                      np.linspace(-r, r, 30))\n",
    "IDX = X**2 + Y**2 + Z**2 <=r**2\n",
    "EST_X = X[IDX]\n",
    "EST_Y = Y[IDX]\n",
    "EST_Z = Z[IDX]\n",
    "EST_POINTS =pd.DataFrame({'X': EST_X.flatten(),\n",
    "                          'Y': EST_Y.flatten(),\n",
    "                          'Z': EST_Z.flatten()})"
   ]
  },
  {
   "cell_type": "code",
   "execution_count": 16,
   "metadata": {},
   "outputs": [],
   "source": [
    "measurement_manager = MeasurementManager(ELECTRODES, space='potential')\n",
    "measurement_manager_basis = MeasurementManager(EST_POINTS, space='csd')"
   ]
  },
  {
   "cell_type": "code",
   "execution_count": 17,
   "metadata": {},
   "outputs": [],
   "source": [
    "# Create reconstructor\n",
    "reconstructor_filename = '../SavedReconstructor_four_spheres_1000_deg_1.npz'\n",
    "#reconstructor = VerboseFFR(sources, measurement_manager)\n",
    "#reconstructor.save(reconstructor_filename)\n",
    "#print(\"Reconstructor --- %s seconds ---\" % (time.time() - start_time))"
   ]
  },
  {
   "cell_type": "code",
   "execution_count": 18,
   "metadata": {},
   "outputs": [],
   "source": [
    "factoryCSD = SomeSphereGaussianSourceFactoryOnlyCSD(MESHFILE)\n",
    "dst = factoryCSD.R[1] - factoryCSD.R[0]\n",
    "sourcesCSD = [factoryCSD(r, altitude, azimuth)\n",
    "              for altitude, azimuth in altitude_azimuth_mesh(-np.pi/2,\n",
    "                                                          dst/factory.scalp_radius)\n",
    "              for r in factoryCSD.R]"
   ]
  },
  {
   "cell_type": "code",
   "execution_count": 19,
   "metadata": {},
   "outputs": [],
   "source": [
    "loadable_reconstructor = LoadableVerboseFFR(reconstructor_filename, sourcesCSD, measurement_manager)\n",
    "kernel = loadable_reconstructor.kernel\n",
    "cross_kernel = loadable_reconstructor.get_kernel_matrix(measurement_manager_basis)\n",
    "cross_reconstructor = _CrossKernelReconstructor(_LinearKernelSolver(kernel), cross_kernel)"
   ]
  },
  {
   "cell_type": "code",
   "execution_count": 20,
   "metadata": {
    "scrolled": true
   },
   "outputs": [],
   "source": [
    "potential = [measurement_manager.probe(source) for source in sources]"
   ]
  },
  {
   "cell_type": "code",
   "execution_count": 21,
   "metadata": {},
   "outputs": [],
   "source": [
    "true_csd = [measurement_manager_basis.probe(source) for source in sourcesCSD]"
   ]
  },
  {
   "cell_type": "code",
   "execution_count": 25,
   "metadata": {},
   "outputs": [],
   "source": [
    "rp = 0\n",
    "est_csd2 = cross_reconstructor(np.array(potential[:4]).T, rp)"
   ]
  },
  {
   "cell_type": "code",
   "execution_count": 44,
   "metadata": {},
   "outputs": [
    {
     "data": {
      "text/plain": [
       "(12712,)"
      ]
     },
     "execution_count": 44,
     "metadata": {},
     "output_type": "execute_result"
    }
   ],
   "source": [
    "est_csd2[:, 0].shape"
   ]
  },
  {
   "cell_type": "code",
   "execution_count": 27,
   "metadata": {},
   "outputs": [],
   "source": [
    "rps = np.logspace(-1, -15, 7, base=10.)\n",
    "src_nr = 0\n",
    "layer = 15\n",
    "path = sys.path[0]"
   ]
  },
  {
   "cell_type": "code",
   "execution_count": 28,
   "metadata": {},
   "outputs": [],
   "source": [
    "true_csd1 = measurement_manager_basis.probe(sourcesCSD[src_nr])\n",
    "#rp, rp_errors = cross_validate(loadable_reconstructor, potential[0], rps)\n",
    "est_csd = cross_reconstructor(potential[src_nr], rp)\n",
    "#error = calculate_point_error(true_csd, est_csd)"
   ]
  },
  {
   "cell_type": "code",
   "execution_count": 57,
   "metadata": {},
   "outputs": [],
   "source": [
    "def single_estimation(reconstructor, potential, rp):\n",
    "    est_csd = reconstructor(potential, rp)\n",
    "    return est_csd"
   ]
  },
  {
   "cell_type": "code",
   "execution_count": 64,
   "metadata": {},
   "outputs": [
    {
     "name": "stdout",
     "output_type": "stream",
     "text": [
      "22.4 ms ± 96.2 µs per loop (mean ± std. dev. of 7 runs, 10 loops each)\n"
     ]
    }
   ],
   "source": [
    "%timeit [single_estimation(cross_reconstructor, potential[i], 0) for i in range(16)]"
   ]
  },
  {
   "cell_type": "code",
   "execution_count": 65,
   "metadata": {},
   "outputs": [
    {
     "name": "stdout",
     "output_type": "stream",
     "text": [
      "2.42 ms ± 23.1 µs per loop (mean ± std. dev. of 7 runs, 100 loops each)\n"
     ]
    }
   ],
   "source": [
    "%timeit single_estimation(cross_reconstructor, np.array(potential[:16]).T, 0)"
   ]
  },
  {
   "cell_type": "code",
   "execution_count": null,
   "metadata": {},
   "outputs": [],
   "source": [
    "def vector_estimation(reconstruction, potential, rp):\n",
    "    est_csd = \n",
    "    return est_csd"
   ]
  },
  {
   "cell_type": "code",
   "execution_count": 42,
   "metadata": {},
   "outputs": [
    {
     "data": {
      "text/plain": [
       "False"
      ]
     },
     "execution_count": 42,
     "metadata": {},
     "output_type": "execute_result"
    }
   ],
   "source": [
    "np.all(est_csd == est_csd2[:, 0])"
   ]
  },
  {
   "cell_type": "code",
   "execution_count": 47,
   "metadata": {},
   "outputs": [
    {
     "data": {
      "text/plain": [
       "4603"
      ]
     },
     "execution_count": 47,
     "metadata": {},
     "output_type": "execute_result"
    }
   ],
   "source": [
    "np.sum(est_csd == est_csd2[:, 0])"
   ]
  },
  {
   "cell_type": "code",
   "execution_count": 51,
   "metadata": {
    "scrolled": true
   },
   "outputs": [
    {
     "data": {
      "text/plain": [
       "332788.3863510816"
      ]
     },
     "execution_count": 51,
     "metadata": {},
     "output_type": "execute_result"
    }
   ],
   "source": [
    "np.linalg.norm(est_csd)"
   ]
  },
  {
   "cell_type": "code",
   "execution_count": 52,
   "metadata": {},
   "outputs": [
    {
     "data": {
      "text/plain": [
       "332788.3863478204"
      ]
     },
     "execution_count": 52,
     "metadata": {},
     "output_type": "execute_result"
    }
   ],
   "source": [
    "np.linalg.norm(est_csd2[:, 0])"
   ]
  },
  {
   "cell_type": "code",
   "execution_count": 54,
   "metadata": {},
   "outputs": [
    {
     "data": {
      "text/plain": [
       "3.2186508178710938e-06"
      ]
     },
     "execution_count": 54,
     "metadata": {},
     "output_type": "execute_result"
    }
   ],
   "source": [
    "np.max(abs(est_csd - est_csd2[:, 0]))"
   ]
  },
  {
   "cell_type": "code",
   "execution_count": 56,
   "metadata": {},
   "outputs": [
    {
     "data": {
      "text/plain": [
       "50214.30166363716"
      ]
     },
     "execution_count": 56,
     "metadata": {},
     "output_type": "execute_result"
    }
   ],
   "source": [
    "np.max(est_csd)"
   ]
  },
  {
   "cell_type": "code",
   "execution_count": 41,
   "metadata": {},
   "outputs": [
    {
     "data": {
      "text/plain": [
       "[<matplotlib.lines.Line2D at 0x7ff3aa763198>]"
      ]
     },
     "execution_count": 41,
     "metadata": {},
     "output_type": "execute_result"
    },
    {
     "data": {
      "image/png": "[encoded data removed]",
      "text/plain": [
       "<Figure size 432x288 with 1 Axes>"
      ]
     },
     "metadata": {
      "needs_background": "light"
     },
     "output_type": "display_data"
    }
   ],
   "source": [
    "import matplotlib.pyplot as plt\n",
    "\n",
    "plt.figure()\n",
    "plt.plot(est_csd, '.')\n",
    "plt.plot(est_csd2[:, 0], '.')"
   ]
  },
  {
   "cell_type": "code",
   "execution_count": null,
   "metadata": {},
   "outputs": [],
   "source": [
    "sphere = 'four spheres'\n",
    "generate_figure(X, Y, Z, true_csd, 'csd', IDX, layer, str(sphere)+' True csd', path)\n",
    "generate_figure(X, Y, Z, est_csd, 'csd', IDX, layer, str(sphere)+' Est csd rp=' + str(rp), path)\n",
    "generate_figure(X, Y, Z, error, 'err', IDX, layer, str(sphere)+' Error rp=' + str(rp), path)"
   ]
  },
  {
   "cell_type": "code",
   "execution_count": null,
   "metadata": {},
   "outputs": [],
   "source": [
    "diff = true_csd - est_csd\n",
    "generate_figure(X, Y, Z, diff, 'csd', IDX, layer, str(sphere)+' Diff rp=' + str(rp))\n",
    "np.linalg.norm(diff)"
   ]
  },
  {
   "cell_type": "code",
   "execution_count": null,
   "metadata": {},
   "outputs": [],
   "source": [
    "def plot_cv_errors(rps, rp_errors, sphere, src_nr, save_path):\n",
    "    plt.figure(figsize=(6, 4))\n",
    "    plt.title(sphere)\n",
    "    plt.plot(rps, rp_errors, '.')\n",
    "    plt.xscale('log')\n",
    "    plt.yscale('log')\n",
    "    plt.xlabel('Regularization parameter')\n",
    "    plt.ylabel('Error in potential space')\n",
    "    plt.savefig(save_path + '/cv_errors ' + sphere + '1000_deg_1 src_'+  str(src_nr) + '.png', dpi=300)"
   ]
  },
  {
   "cell_type": "code",
   "execution_count": null,
   "metadata": {},
   "outputs": [],
   "source": [
    "plot_cv_errors(rps, rp_errors, sphere, src_nr, path)"
   ]
  },
  {
   "cell_type": "code",
   "execution_count": null,
   "metadata": {},
   "outputs": [],
   "source": [
    "def picard_plot(eigenvalues, eigenvectors, potential, sphere, number, save_path):\n",
    "    #idx = eigenvalues.argsort()[::-1]\n",
    "    #eigenvalues = eigenvalues[idx]\n",
    "    #eigenvectors = eigenvectors[:, idx]\n",
    "    utb = abs(np.matmul(eigenvectors.T, potential))\n",
    "    utbs = abs(np.matmul(eigenvectors.T, potential))/eigenvalues\n",
    "    plt.figure(figsize=(8, 5))\n",
    "    plt.title('Picard plot')\n",
    "    plt.plot(eigenvalues, '.', label=r'$\\mu^{\\frac{1}{2}}$')\n",
    "    plt.plot(utb, label='$|W^{T}V|$')\n",
    "    plt.plot(utbs, label=r'$\\frac{|W^{T}V|}{\\mu^{\\frac{1}{2}}}$')\n",
    "    plt.axvline(x=21, linestyle='--', color='black', label='cut-off')\n",
    "    plt.yscale('log')\n",
    "    plt.xlabel('Component number')\n",
    "    plt.legend(ncol=4)\n",
    "    plt.savefig(save_path +'/Picard_plot '+str(sphere)+' 1000_pots_' + str(number) + '.png', dpi=300)\n",
    "    plt.show()"
   ]
  },
  {
   "cell_type": "code",
   "execution_count": null,
   "metadata": {},
   "outputs": [],
   "source": [
    "def evd(kernel, regularization_parameter=0):\n",
    "    eigenvalues, eigenvectors = np.linalg.eigh(kernel + np.identity(kernel.shape[0])\n",
    "                                               * regularization_parameter)\n",
    "    idx = eigenvalues.argsort()[::-1]\n",
    "    eigenvalues = eigenvalues[idx]\n",
    "    eigenvectors = eigenvectors[:, idx]\n",
    "    return eigenvalues, eigenvectors"
   ]
  },
  {
   "cell_type": "code",
   "execution_count": null,
   "metadata": {},
   "outputs": [],
   "source": [
    "eigenvalues, eigenvectors = evd(kernel, regularization_parameter=0)\n",
    "eigenvalues.shape"
   ]
  },
  {
   "cell_type": "code",
   "execution_count": null,
   "metadata": {},
   "outputs": [],
   "source": [
    "picard_plot(eigenvalues, eigenvectors, potential[src_nr], sphere, src_nr, path)"
   ]
  },
  {
   "cell_type": "code",
   "execution_count": null,
   "metadata": {},
   "outputs": [],
   "source": [
    "rp_eigenvals = eigenvalues[:]\n",
    "rp_ev, ev_err = cross_validate(loadable_reconstructor, potential[src_nr], rp_eigenvals)\n",
    "plot_cv_errors(rp_eigenvals, ev_err, sphere, src_nr, path)"
   ]
  },
  {
   "cell_type": "code",
   "execution_count": null,
   "metadata": {},
   "outputs": [],
   "source": [
    "plot_cv_errors(rp_eigenvals, ev_err, sphere, src_nr, path)"
   ]
  },
  {
   "cell_type": "code",
   "execution_count": null,
   "metadata": {},
   "outputs": [],
   "source": [
    "index = np.where(ev_err == np.min(ev_err))[0]\n",
    "rp_eigenvals[index]"
   ]
  },
  {
   "cell_type": "code",
   "execution_count": null,
   "metadata": {},
   "outputs": [],
   "source": [
    "rp_eigenvals = eigenvalues[:]\n",
    "method = 'CV'\n",
    "rms = np.zeros(len(rp_eigenvals))\n",
    "rdm = np.zeros(len(rp_eigenvals))\n",
    "mag = np.zeros(len(rp_eigenvals))\n",
    "for j, value in enumerate(rp_eigenvals):\n",
    "    est_csd_ev = cross_reconstructor(potential[src_nr], np.array(value))\n",
    "    rms[j] = calculate_rms(true_csd, est_csd_ev)\n",
    "    rdm[j] = calculate_rdm(true_csd, est_csd_ev)\n",
    "    mag[j] = calculate_mag(true_csd, est_csd_ev)\n",
    "    #generate_figure(X, Y, Z, est_csd_ev, 'csd', IDX, layer,\n",
    "     #               str(sphere)+' Est csd '+method+' rp=' + str(value), path)"
   ]
  },
  {
   "cell_type": "code",
   "execution_count": null,
   "metadata": {},
   "outputs": [],
   "source": [
    "def plot_global_csd_errors(rps, error, sphere, src_nr, save_path, title):\n",
    "    plt.figure(figsize=(6, 4))\n",
    "    plt.title(sphere + title)\n",
    "    plt.plot(rps, error, '.')\n",
    "    plt.xscale('log')\n",
    "    #plt.yscale('log')\n",
    "    plt.xlabel('Regularization parameter')\n",
    "    plt.ylabel('Error in csd space')\n",
    "    plt.savefig(save_path + '/' + sphere + title + '1000_deg_1 src_'+  str(src_nr) + '.png', dpi=300)"
   ]
  },
  {
   "cell_type": "code",
   "execution_count": null,
   "metadata": {},
   "outputs": [],
   "source": [
    "rms.shape"
   ]
  },
  {
   "cell_type": "code",
   "execution_count": null,
   "metadata": {
    "scrolled": true
   },
   "outputs": [],
   "source": [
    "plot_global_csd_errors(rp_eigenvals, rms, sphere, src_nr, path, title=' RMS')"
   ]
  },
  {
   "cell_type": "code",
   "execution_count": null,
   "metadata": {},
   "outputs": [],
   "source": [
    "plot_global_csd_errors(rp_eigenvals, rdm, sphere, src_nr, path, title=' RDM')"
   ]
  },
  {
   "cell_type": "code",
   "execution_count": null,
   "metadata": {},
   "outputs": [],
   "source": [
    "plot_global_csd_errors(rp_eigenvals, mag, sphere, src_nr, path, title=' MAG')"
   ]
  },
  {
   "cell_type": "code",
   "execution_count": null,
   "metadata": {},
   "outputs": [],
   "source": [
    "np.min(mag)"
   ]
  },
  {
   "cell_type": "code",
   "execution_count": null,
   "metadata": {},
   "outputs": [],
   "source": [
    "np.where((rp_eigenvals>0.89) & (rp_eigenvals<0.95))"
   ]
  },
  {
   "cell_type": "code",
   "execution_count": null,
   "metadata": {},
   "outputs": [],
   "source": [
    "est_csd_8 = cross_reconstructor(potential[src_nr], np.array(rp_eigenvals[8]))\n",
    "est_csd_9 = cross_reconstructor(potential[src_nr], np.array(rp_eigenvals[9]))\n",
    "error_ev_8 = calculate_point_error(true_csd, est_csd_8)\n",
    "error_ev_9 = calculate_point_error(true_csd, est_csd_9)\n",
    "generate_figure(X, Y, Z, error_ev_8, 'err', IDX, layer, str(sphere)+' Error rp=' + str(rp_eigenvals[8]), path)\n",
    "generate_figure(X, Y, Z, error_ev_9, 'err', IDX, layer, str(sphere)+' Error rp=' + str(rp_eigenvals[9]), path)"
   ]
  },
  {
   "cell_type": "code",
   "execution_count": null,
   "metadata": {},
   "outputs": [],
   "source": [
    "print(rp_ev)\n",
    "est_csd_ev = cross_reconstructor(potential[src_nr], rp_ev)\n",
    "error_ev = calculate_point_error(true_csd, est_csd_ev)\n",
    "generate_figure(X, Y, Z, est_csd_ev, 'csd', IDX, layer, str(sphere)+' Est csd rp=' + str(rp_ev), path)\n",
    "generate_figure(X, Y, Z, error_ev, 'err', IDX, layer, str(sphere)+' Error rp=' + str(rp_ev), path)"
   ]
  },
  {
   "cell_type": "code",
   "execution_count": null,
   "metadata": {},
   "outputs": [],
   "source": [
    "np.all(est_csd == est_csd_ev)"
   ]
  },
  {
   "cell_type": "code",
   "execution_count": null,
   "metadata": {},
   "outputs": [],
   "source": [
    "diff = est_csd - est_csd_ev\n",
    "generate_figure(X, Y, Z, diff, 'csd', IDX, layer, str(sphere)+' Diff rp=' + str(rp))"
   ]
  },
  {
   "cell_type": "code",
   "execution_count": null,
   "metadata": {},
   "outputs": [],
   "source": [
    "def picard_plot_log(eigenvalues, eigenvectors, potential, sphere, number, save_path):\n",
    "    #idx = eigenvalues.argsort()[::-1]\n",
    "    #eigenvalues = eigenvalues[idx]\n",
    "    #eigenvectors = eigenvectors[:, idx]\n",
    "    utb = abs(np.matmul(eigenvectors.T, potential))\n",
    "    utbs = abs(np.matmul(eigenvectors.T, potential))/eigenvalues\n",
    "    plt.figure(figsize=(8, 5))\n",
    "    plt.title('Picard plot')\n",
    "    plt.plot(eigenvalues, eigenvalues, '.', label=r'$\\mu^{\\frac{1}{2}}$')\n",
    "    plt.plot(eigenvalues, utb, label='$|W^{T}V|$')\n",
    "    plt.plot(eigenvalues, utbs, label=r'$\\frac{|W^{T}V|}{\\mu^{\\frac{1}{2}}}$')\n",
    "    #plt.axvline(x=21, linestyle='--', color='black', label='cut-off')\n",
    "    plt.yscale('log')\n",
    "    plt.xlabel('Eigenvalues')\n",
    "    plt.xscale('log')\n",
    "    plt.legend(ncol=4)\n",
    "    plt.savefig(save_path +'/Picard_plot_log '+str(sphere)+' 1000_pots_' + str(number) + '.png', dpi=300)\n",
    "    plt.show()"
   ]
  },
  {
   "cell_type": "code",
   "execution_count": null,
   "metadata": {
    "scrolled": true
   },
   "outputs": [],
   "source": [
    "picard_plot_log(eigenvalues, eigenvectors, potential[src_nr], sphere, src_nr, path)"
   ]
  },
  {
   "cell_type": "code",
   "execution_count": null,
   "metadata": {},
   "outputs": [],
   "source": [
    "plot_cv_errors(rp_eigenvals, ev_err, sphere, src_nr, path)"
   ]
  },
  {
   "cell_type": "code",
   "execution_count": null,
   "metadata": {},
   "outputs": [],
   "source": [
    "plt.figure()\n",
    "ax = plt.subplot(221)\n"
   ]
  }
 ],
 "metadata": {
  "kernelspec": {
   "display_name": "Python [conda env:kesi37] *",
   "language": "python",
   "name": "conda-env-kesi37-py"
  },
  "language_info": {
   "codemirror_mode": {
    "name": "ipython",
    "version": 3
   },
   "file_extension": ".py",
   "mimetype": "text/x-python",
   "name": "python",
   "nbconvert_exporter": "python",
   "pygments_lexer": "ipython3",
   "version": "3.7.0"
  }
 },
 "nbformat": 4,
 "nbformat_minor": 4
}
