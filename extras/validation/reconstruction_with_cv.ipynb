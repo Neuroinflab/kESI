{
 "cells": [
  {
   "cell_type": "code",
   "execution_count": null,
   "metadata": {},
   "outputs": [],
   "source": [
    "import numpy as np\n",
    "import pandas as pd\n",
    "import scipy\n",
    "import itertools\n",
    "import time\n",
    "import sys\n",
    "import datetime\n",
    "import os\n",
    "import validation_functions as vf\n",
    "\n",
    "from kesi._verbose import (VerboseFFR,\n",
    "                           LinearMixture,\n",
    "                           LoadableVerboseFFR)\n",
    "from kesi._engine import _LinearKernelSolver\n",
    "sys.path.append('..')\n",
    "from FEM.fem_sphere_gaussian import (SomeSphereGaussianSourceFactory3D,\n",
    "                                     SomeSphereGaussianSourceFactoryOnlyCSD)\n",
    "from _common_new import altitude_azimuth_mesh\n",
    "import plotting_functions as pf\n",
    "try:\n",
    "    from joblib import Parallel, delayed\n",
    "    import multiprocessing\n",
    "    NUM_CORES = multiprocessing.cpu_count() - 1\n",
    "    PARALLEL_AVAILABLE = True\n",
    "except ImportError:\n",
    "    PARALLEL_AVAILABLE = False\n",
    "\n",
    "MeasurementManagerBase = VerboseFFR.MeasurementManagerBase"
   ]
  },
  {
   "cell_type": "code",
   "execution_count": null,
   "metadata": {},
   "outputs": [],
   "source": [
    "def makemydir(directory):\n",
    "    \"\"\"\n",
    "    Creates directory if it doesn't exist\n",
    "    \"\"\"\n",
    "    try:\n",
    "        os.makedirs(directory)\n",
    "    except OSError:\n",
    "        pass\n",
    "    os.chdir(directory)"
   ]
  },
  {
   "cell_type": "code",
   "execution_count": null,
   "metadata": {},
   "outputs": [],
   "source": [
    "def generate_EEG_electrodesRPI(nr_theta, nr_phi, r):\n",
    "    '''Determine positions of electrodes - EEG\n",
    "    '''\n",
    "    theta, phi, r = np.meshgrid(np.linspace(-0.5*np.pi, 0.5*np.pi, nr_theta),\n",
    "                                np.linspace(0, 2*np.pi, nr_phi),\n",
    "                                r)\n",
    "    ELE_X = -r*np.cos(theta)*np.cos(phi)\n",
    "    ELE_Y = r*np.cos(theta)*np.sin(phi)\n",
    "    ELE_Z = r*np.sin(theta)\n",
    "    ELECTRODES = pd.DataFrame({'X': ELE_X.flatten(),\n",
    "                               'Y': ELE_Y.flatten(),\n",
    "                               'Z': ELE_Z.flatten()})\n",
    "    ELECTRODES_NR = ELE_X.size\n",
    "    return ELECTRODES, ELECTRODES_NR\n",
    "\n",
    "def generate_ECoG_electrodes(nr_x, nr_y, Z):\n",
    "    '''Determine positions of electrodes - ECoG\n",
    "    '''\n",
    "    xx, yy, zz = np.meshgrid(np.linspace(-0.035, 0.035, nr_x),\n",
    "                             np.linspace(-0.035, 0.035, nr_y),\n",
    "                             [-Z])\n",
    "    ELE_PLANE = np.zeros([xx.size, 3])\n",
    "    ELE_PLANE[:, 0] = xx.flatten()\n",
    "    ELE_PLANE[:, 1] = yy.flatten()\n",
    "    ELE_PLANE[:, 2] = zz.flatten()\n",
    "    ELE_SPHERE = np.array([Z*ELE_PLANE[i]/np.linalg.norm(ELE_PLANE[i]) for i in range(xx.size)])\n",
    "    ELECTRODES = pd.DataFrame({'X': ELE_SPHERE[:, 0],\n",
    "                               'Y': ELE_SPHERE[:, 1],\n",
    "                               'Z': ELE_SPHERE[:, 2]})\n",
    "    ELECTRODES_NR = xx.size\n",
    "    return ELECTRODES, ELECTRODES_NR"
   ]
  },
  {
   "cell_type": "code",
   "execution_count": null,
   "metadata": {},
   "outputs": [],
   "source": [
    "start_time = time.time()\n",
    "meshname = 'four_spheres_gaussian_1000_deg_1'\n",
    "MESHFILE = '/home/mbejtka/Data_Kuba/' + meshname + '.npz'\n",
    "now = datetime.datetime.today() \n",
    "nTime = now.strftime('%Y-%m-%d_%H-%M-%S')\n",
    "save_path = sys.path[0] + '/results/' + nTime\n",
    "makemydir(save_path)\n",
    "forward_model = 'four_spheres'\n",
    "\n",
    "factory = SomeSphereGaussianSourceFactory3D(MESHFILE)\n",
    "print(\"Loading data --- %s seconds ---\" % (time.time() - start_time))\n",
    "\n",
    "dst = factory.R[1] - factory.R[0]\n",
    "sources = [factory(r, altitude, azimuth)\n",
    "           for altitude, azimuth in altitude_azimuth_mesh(-np.pi/2,\n",
    "                                                          dst/factory.scalp_radius)\n",
    "           for r in factory.R]\n",
    "setup_dict = {'meshname': meshname, 'path': save_path, 'sources': sources}\n",
    "print('Number of sources: ', len(sources))\n",
    "print(\"Sources --- %s seconds ---\" % (time.time() - start_time))"
   ]
  },
  {
   "cell_type": "code",
   "execution_count": null,
   "metadata": {},
   "outputs": [],
   "source": [
    "ele_type = 'ECoG'\n",
    "\n",
    "if ele_type == 'EEG':\n",
    "    ELECTRODES, ELECTRODES_NR = generate_EEG_electrodesRPI(15,\n",
    "                                                           15,\n",
    "                                                           [factory.scalp_radius])\n",
    "elif ele_type == 'ECoG':\n",
    "    ELECTRODES, ELECTRODES_NR = generate_ECoG_electrodes(8, 8, factory.R.max())\n",
    "setup_dict.update({'ele_type': ele_type, 'ELECTRODES': ELECTRODES})"
   ]
  },
  {
   "cell_type": "code",
   "execution_count": null,
   "metadata": {},
   "outputs": [],
   "source": [
    "# Estimating points    \n",
    "r = factory.scalp_radius\n",
    "X, Y, Z = np.meshgrid(np.linspace(-r, r, 30),\n",
    "                      np.linspace(-r, r, 30),\n",
    "                      np.linspace(-r, r, 30))\n",
    "IDX = X**2 + Y**2 + Z**2 <=r**2\n",
    "EST_X = X[IDX]\n",
    "EST_Y = Y[IDX]\n",
    "EST_Z = Z[IDX]\n",
    "EST_POINTS =pd.DataFrame({'X': EST_X.flatten(),\n",
    "                          'Y': EST_Y.flatten(),\n",
    "                          'Z': EST_Z.flatten()})\n",
    "setup_dict.update({'X':X, 'Y':Y, 'Z':Z, 'IDX': IDX, 'EST_POINTS': EST_POINTS})"
   ]
  },
  {
   "cell_type": "code",
   "execution_count": null,
   "metadata": {
    "scrolled": true
   },
   "outputs": [],
   "source": [
    "measurement_manager = vf.MeasurementManager(ELECTRODES, space='potential')\n",
    "measurement_manager_basis = vf.MeasurementManager(EST_POINTS, space='csd')"
   ]
  },
  {
   "cell_type": "code",
   "execution_count": null,
   "metadata": {},
   "outputs": [],
   "source": [
    "# Create reconstructor\n",
    "reconstructor_filename = save_path +'/Reconstructor.npz'\n",
    "reconstructor = VerboseFFR(sources, measurement_manager)\n",
    "reconstructor.save(reconstructor_filename)\n",
    "print(\"Reconstructor --- %s seconds ---\" % (time.time() - start_time))"
   ]
  },
  {
   "cell_type": "code",
   "execution_count": null,
   "metadata": {},
   "outputs": [],
   "source": [
    "factoryCSD = SomeSphereGaussianSourceFactoryOnlyCSD(MESHFILE)\n",
    "dst = factoryCSD.R[1] - factoryCSD.R[0]\n",
    "sourcesCSD = [factoryCSD(r, altitude, azimuth)\n",
    "              for altitude, azimuth in altitude_azimuth_mesh(-np.pi/2,\n",
    "                                                          dst/factory.scalp_radius)\n",
    "              for r in factoryCSD.R]"
   ]
  },
  {
   "cell_type": "code",
   "execution_count": null,
   "metadata": {},
   "outputs": [],
   "source": [
    "loadable_reconstructor = LoadableVerboseFFR(reconstructor_filename, sourcesCSD, measurement_manager)\n",
    "kernel = loadable_reconstructor.kernel\n",
    "cross_kernel = loadable_reconstructor.get_kernel_matrix(measurement_manager_basis)\n",
    "cross_reconstructor = loadable_reconstructor._CrossKernelReconstructor(_LinearKernelSolver(kernel), cross_kernel)"
   ]
  },
  {
   "cell_type": "code",
   "execution_count": null,
   "metadata": {},
   "outputs": [],
   "source": [
    "cross_reconstructor_filename = save_path + '/CrossReconstructor.npz'\n",
    "cross_reconstructor.save(cross_reconstructor_filename)"
   ]
  },
  {
   "cell_type": "code",
   "execution_count": null,
   "metadata": {
    "scrolled": true
   },
   "outputs": [],
   "source": [
    "potential = [measurement_manager.probe(source) for source in sources]"
   ]
  },
  {
   "cell_type": "code",
   "execution_count": null,
   "metadata": {},
   "outputs": [],
   "source": [
    "true_csd = [measurement_manager_basis.probe(source) for source in sourcesCSD]"
   ]
  },
  {
   "cell_type": "code",
   "execution_count": null,
   "metadata": {},
   "outputs": [],
   "source": [
    "setup_dict.update({'POTENTIAL': potential, 'TRUE_CSD': true_csd})\n",
    "np.savez_compressed(save_path + '/Setup_info.npz', **setup_dict)"
   ]
  },
  {
   "cell_type": "code",
   "execution_count": null,
   "metadata": {},
   "outputs": [],
   "source": [
    "eigensources, eigenvalues, eigenvectors = vf.calculate_eigensources(kernel, cross_kernel, regularization_parameter=0)\n",
    "projection = vf.csd_into_eigensource_projection(true_csd, eigensources)\n",
    "np.savez_compressed(save_path + '/Spectral_decomposition.npz',\n",
    "                    EIGENSOURCES=eigensources,\n",
    "                    EIGENVALUES=eigenvalues, EIGENVECTORS=eigenvectors,\n",
    "                    PROJECTION=projection)"
   ]
  },
  {
   "cell_type": "code",
   "execution_count": null,
   "metadata": {},
   "outputs": [],
   "source": [
    "eigen_parameters = eigenvalues[np.where(eigenvalues > 0)]"
   ]
  },
  {
   "cell_type": "code",
   "execution_count": null,
   "metadata": {},
   "outputs": [],
   "source": [
    "#l_lambd, lcurve_axis, curve_surf, lambdas = [L_curve(kernel, potential[src_nr], lambdas=np.logspace(-20, -1, 30))\n",
    "#                                             for src_nr in range(len(sources))]"
   ]
  },
  {
   "cell_type": "code",
   "execution_count": null,
   "metadata": {},
   "outputs": [],
   "source": [
    "import plotting_functions as pf\n",
    "%load_ext autoreload\n",
    "%autoreload 2"
   ]
  },
  {
   "cell_type": "code",
   "execution_count": null,
   "metadata": {},
   "outputs": [],
   "source": [
    "from imp import reload \n",
    "reload(pf)\n",
    "reload(vf)"
   ]
  },
  {
   "cell_type": "code",
   "execution_count": null,
   "metadata": {},
   "outputs": [],
   "source": [
    "src_nr = 0\n",
    "potential_noise, noise = vf.add_noise(potential[src_nr], seed=0, level=30)\n",
    "l_lambd, lcurve_axis, curve_surf, lambdas = vf.L_curve(kernel, potential_noise, lambdas=eigen_parameters)"
   ]
  },
  {
   "cell_type": "code",
   "execution_count": null,
   "metadata": {},
   "outputs": [],
   "source": [
    "import matplotlib.pyplot as plt\n",
    "plt.figure()\n",
    "plt.plot(potential[src_nr])\n",
    "plt.plot(potential_noise)"
   ]
  },
  {
   "cell_type": "code",
   "execution_count": null,
   "metadata": {},
   "outputs": [],
   "source": [
    "plt.figure()\n",
    "plt.plot(lcurve_axis[1], lcurve_axis[0], '.')\n",
    "plt.plot(lcurve_axis[1, np.where(lambdas==l_lambd)], lcurve_axis[0, np.where(lambdas==l_lambd)], 'o', label='lambda')\n",
    "plt.title('L-curve')\n",
    "plt.legend()\n",
    "plt.savefig(save_path + '/L-curve.png')"
   ]
  },
  {
   "cell_type": "code",
   "execution_count": null,
   "metadata": {
    "scrolled": true
   },
   "outputs": [],
   "source": [
    "reg_params = np.logspace(-20, 1, 30)\n",
    "EST_CSD_0, indx_rp0, EE_0, rp0 = vf.estimate_csd(cross_reconstructor, potential_noise.reshape(1,len(potential[src_nr])),\n",
    "                                        regularization_parameters=reg_params)"
   ]
  },
  {
   "cell_type": "code",
   "execution_count": null,
   "metadata": {},
   "outputs": [],
   "source": [
    "reg_params[indx_rp0]"
   ]
  },
  {
   "cell_type": "code",
   "execution_count": null,
   "metadata": {},
   "outputs": [],
   "source": [
    "est_csd_noise = cross_reconstructor(potential_noise, reg_params[indx_rp0])"
   ]
  },
  {
   "cell_type": "code",
   "execution_count": null,
   "metadata": {},
   "outputs": [],
   "source": [
    "est_csd_noise_0 = cross_reconstructor(potential_noise, np.array([0]))"
   ]
  },
  {
   "cell_type": "code",
   "execution_count": null,
   "metadata": {
    "scrolled": true
   },
   "outputs": [],
   "source": [
    "plt.figure(figsize=(6, 6))\n",
    "ax = plt.subplot(111)\n",
    "t_max = np.max(abs(est_csd_noise))\n",
    "pf.make_subplot(ax, pf.values_in_a_grid(X, est_csd_noise, IDX), 'csd', X, Y, Z, t_max, idx=15, fig_title='CV')"
   ]
  },
  {
   "cell_type": "code",
   "execution_count": null,
   "metadata": {},
   "outputs": [],
   "source": [
    "plt.figure(figsize=(6, 6))\n",
    "ax = plt.subplot(111)\n",
    "t_max = np.max(abs(est_csd_noise_0))\n",
    "pf.make_subplot(ax, pf.values_in_a_grid(X, est_csd_noise_0, IDX), 'csd', X, Y, Z, t_max, idx=15, fig_title='Without regularization')"
   ]
  },
  {
   "cell_type": "code",
   "execution_count": null,
   "metadata": {},
   "outputs": [],
   "source": [
    "est_csd_noise_lc = cross_reconstructor(potential_noise, l_lambd)"
   ]
  },
  {
   "cell_type": "code",
   "execution_count": null,
   "metadata": {},
   "outputs": [],
   "source": [
    "plt.figure(figsize=(6, 6))\n",
    "ax = plt.subplot(111)\n",
    "t_max = np.max(abs(est_csd_noise_lc))\n",
    "pf.make_subplot(ax, pf.values_in_a_grid(X, est_csd_noise_lc, IDX), 'csd', X, Y, Z, t_max, idx=15, fig_title='L-curve')"
   ]
  },
  {
   "cell_type": "code",
   "execution_count": null,
   "metadata": {},
   "outputs": [],
   "source": [
    "EST_CSD_LC, indx_rpLC, EE_LC, rpLC = vf.estimate_csd(cross_reconstructor, potential,\n",
    "                                        regularization_parameters=np.array([l_lambd]))"
   ]
  },
  {
   "cell_type": "code",
   "execution_count": null,
   "metadata": {},
   "outputs": [],
   "source": [
    "EST_CSD_0, indx_rp0, EE_0, rp0 = vf.estimate_csd(cross_reconstructor, potential,\n",
    "                                        regularization_parameters=np.array([0]))"
   ]
  },
  {
   "cell_type": "code",
   "execution_count": null,
   "metadata": {
    "scrolled": true
   },
   "outputs": [],
   "source": [
    "regularization_parameters = eigen_parameters\n",
    "EST_CSD, indx_rp, EE, rp = vf.estimate_csd(cross_reconstructor, potential,\n",
    "                                        regularization_parameters=regularization_parameters)"
   ]
  },
  {
   "cell_type": "code",
   "execution_count": null,
   "metadata": {},
   "outputs": [],
   "source": [
    "indx_rp.shape"
   ]
  },
  {
   "cell_type": "code",
   "execution_count": null,
   "metadata": {},
   "outputs": [],
   "source": [
    "src_nr = 0\n",
    "EST_CSD2, indx_rp2, EE2, rp2 = vf.estimate_csd(cross_reconstructor, potential_noise.reshape(1,len(potential[src_nr])),\n",
    "                                        regularization_parameters=eigen_parameters)"
   ]
  },
  {
   "cell_type": "code",
   "execution_count": null,
   "metadata": {},
   "outputs": [],
   "source": [
    "np.logspace(-5, 5, 100)[indx_rp2]"
   ]
  },
  {
   "cell_type": "code",
   "execution_count": null,
   "metadata": {},
   "outputs": [],
   "source": [
    "plt.figure()\n",
    "plt.plot(np.logspace(-5, 5, 100), EE2, '.', label='regular')\n",
    "plt.plot(eigen_parameters, EEn, '.', label='eigenV')\n",
    "plt.xscale('log')\n",
    "plt.yscale('log')\n",
    "plt.xlabel('Regularization parameter')\n",
    "plt.ylabel('Error in potential space')\n",
    "plt.legend()\n",
    "plt.savefig(save_path + '/Pots_Error_eigenvalues_vs_regular_params.png')"
   ]
  },
  {
   "cell_type": "code",
   "execution_count": null,
   "metadata": {},
   "outputs": [],
   "source": [
    "regularization_parameters = eigen_parameters\n",
    "EST_CSDn, indx_rpn, EEn, rpn = vf.estimate_csd(cross_reconstructor, noise.reshape(1,len(potential[src_nr])),\n",
    "                                        regularization_parameters=regularization_parameters)"
   ]
  },
  {
   "cell_type": "code",
   "execution_count": null,
   "metadata": {},
   "outputs": [],
   "source": [
    "rpn"
   ]
  },
  {
   "cell_type": "code",
   "execution_count": null,
   "metadata": {},
   "outputs": [],
   "source": [
    "np.savez_compressed(save_path + '/Estimation.npz', EST_CSD_CV=EST_CSD, indx_rp=indx_rp, EE=EE,\n",
    "                    LAMBD=rp, REG_PARAMS=regularization_parameters, L_LAMBD=l_lambd, LCURVE=lcurve_axis,\n",
    "                    EST_CSD_0=EST_CSD_0, EE_0=EE_0, EST_CSD_LC=EST_CSD_LC, EE_LC=EE_LC)"
   ]
  },
  {
   "cell_type": "code",
   "execution_count": null,
   "metadata": {},
   "outputs": [],
   "source": [
    "src_nr = 0\n",
    "rms = np.zeros(len(eigen_parameters))\n",
    "rdm = np.zeros(len(eigen_parameters))\n",
    "mag = np.zeros(len(eigen_parameters))\n",
    "for j, value in enumerate(eigen_parameters):\n",
    "    est_csd_ev = cross_reconstructor(potential[src_nr], np.array(value))\n",
    "    rms[j] = vf.calculate_rms(true_csd[src_nr], est_csd_ev)\n",
    "    rdm[j] = vf.calculate_rdm(true_csd[src_nr], est_csd_ev)\n",
    "    mag[j] = vf.calculate_mag(true_csd[src_nr], est_csd_ev)\n",
    "np.savez_compressed(save_path + '/GlobalErrors.npz', RMS=rms, RDM=rdm, MAG=mag)"
   ]
  },
  {
   "cell_type": "code",
   "execution_count": null,
   "metadata": {},
   "outputs": [],
   "source": [
    "src_nr = 0\n",
    "#eigen_parameters2 = np.logspace(-5, 5, 64)\n",
    "eigen_parameters2 = eigen_parameters\n",
    "rms_n = np.zeros(len(eigen_parameters2))\n",
    "rdm_n = np.zeros(len(eigen_parameters2))\n",
    "mag_n = np.zeros(len(eigen_parameters2))\n",
    "for j, value in enumerate(eigen_parameters2):\n",
    "    est_csd_ev = cross_reconstructor(potential_noise, np.array(value))\n",
    "    rms_n[j] = vf.calculate_rms(true_csd[src_nr], est_csd_ev)\n",
    "    rdm_n[j] = vf.calculate_rdm(true_csd[src_nr], est_csd_ev)\n",
    "    mag_n[j] = vf.calculate_mag(true_csd[src_nr], est_csd_ev)\n",
    "#np.savez_compressed(save_path + '/GlobalErrorsNoise.npz', RMS=rms_n, RDM=rdm_n, MAG=mag_n)"
   ]
  },
  {
   "cell_type": "code",
   "execution_count": null,
   "metadata": {},
   "outputs": [],
   "source": [
    "src_nr = 0\n",
    "#eigen_parameters2 = np.logspace(-5, 5, 64)\n",
    "eigen_parameters2 = eigen_parameters\n",
    "rms_noise = np.zeros(len(eigen_parameters2))\n",
    "rdm_noise = np.zeros(len(eigen_parameters2))\n",
    "mag_noise = np.zeros(len(eigen_parameters2))\n",
    "for j, value in enumerate(eigen_parameters2):\n",
    "    est_csd_ev = cross_reconstructor(noise, np.array(value))\n",
    "    rms_noise[j] = vf.calculate_rms(true_csd[src_nr], est_csd_ev)\n",
    "    rdm_noise[j] = vf.calculate_rdm(true_csd[src_nr], est_csd_ev)\n",
    "    mag_noise[j] = vf.calculate_mag(true_csd[src_nr], est_csd_ev)"
   ]
  },
  {
   "cell_type": "code",
   "execution_count": null,
   "metadata": {
    "scrolled": false
   },
   "outputs": [],
   "source": [
    "pf.plot_potential_ele(ELECTRODES.X, ELECTRODES.Y, ELECTRODES.Z, potential[src_nr], 'Potential without noise', save_path)"
   ]
  },
  {
   "cell_type": "code",
   "execution_count": null,
   "metadata": {},
   "outputs": [],
   "source": [
    "pf.plot_potential_ele(ELECTRODES.X, ELECTRODES.Y, ELECTRODES.Z, potential_noise, 'Potential with noise', save_path)"
   ]
  },
  {
   "cell_type": "code",
   "execution_count": null,
   "metadata": {},
   "outputs": [],
   "source": [
    "pf.plot_potential_ele(ELECTRODES.X, ELECTRODES.Y, ELECTRODES.Z, noise, 'Noise', save_path)"
   ]
  },
  {
   "cell_type": "code",
   "execution_count": null,
   "metadata": {
    "scrolled": true
   },
   "outputs": [],
   "source": [
    "layer = 15\n",
    "src_nr = 0\n",
    "pf.generate_Picard_subplot(eigenvalues, eigenvectors, true_csd[src_nr], potential[src_nr], EE[:, src_nr],\n",
    "                           rms, rdm, mag, eigen_parameters[indx_rp[src_nr]], forward_model, src_nr, save_path,\n",
    "                           ELECTRODES.X, ELECTRODES.Y, ELECTRODES.Z,\n",
    "                           sources[src_nr].x, sources[src_nr].y, sources[src_nr].z, X, Y, Z, IDX, layer)"
   ]
  },
  {
   "cell_type": "code",
   "execution_count": null,
   "metadata": {
    "scrolled": true
   },
   "outputs": [],
   "source": [
    "src_nr = 0\n",
    "pf.generate_Picard_subplot(eigenvalues, eigenvectors, true_csd[src_nr], potential_noise, EE2,\n",
    "                           rms_n, rdm_n, mag_n, eigen_parameters[indx_rp2[src_nr]], forward_model, src_nr, save_path,\n",
    "                           ELECTRODES.X, ELECTRODES.Y, ELECTRODES.Z,\n",
    "                           sources[src_nr].x, sources[src_nr].y, sources[src_nr].z, X, Y, Z, IDX, layer)"
   ]
  },
  {
   "cell_type": "code",
   "execution_count": null,
   "metadata": {
    "scrolled": true
   },
   "outputs": [],
   "source": [
    "src_nr = 0\n",
    "pf.generate_Picard_subplot(eigenvalues, eigenvectors, true_csd[src_nr], noise, EEn,\n",
    "                           rms_noise, rdm_noise, mag_noise, eigen_parameters[indx_rpn[src_nr]], forward_model, src_nr, save_path,\n",
    "                           ELECTRODES.X, ELECTRODES.Y, ELECTRODES.Z,\n",
    "                           sources[src_nr].x, sources[src_nr].y, sources[src_nr].z, X, Y, Z, IDX, layer)"
   ]
  }
 ],
 "metadata": {
  "kernelspec": {
   "display_name": "Python [conda env:kesi37] *",
   "language": "python",
   "name": "conda-env-kesi37-py"
  },
  "language_info": {
   "codemirror_mode": {
    "name": "ipython",
    "version": 3
   },
   "file_extension": ".py",
   "mimetype": "text/x-python",
   "name": "python",
   "nbconvert_exporter": "python",
   "pygments_lexer": "ipython3",
   "version": "3.7.0"
  }
 },
 "nbformat": 4,
 "nbformat_minor": 4
}
