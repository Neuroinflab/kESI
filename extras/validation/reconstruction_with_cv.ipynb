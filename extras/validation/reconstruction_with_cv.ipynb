{
 "cells": [
  {
   "cell_type": "code",
   "execution_count": 1,
   "metadata": {},
   "outputs": [
    {
     "name": "stderr",
     "output_type": "stream",
     "text": [
      "Unable to import from dolfin\n"
     ]
    }
   ],
   "source": [
    "import numpy as np\n",
    "import pandas as pd\n",
    "import scipy\n",
    "import matplotlib.pyplot as plt\n",
    "import matplotlib.cm as cm\n",
    "import itertools\n",
    "import time\n",
    "import sys\n",
    "import datetime\n",
    "import os\n",
    "\n",
    "from kesi._verbose import (VerboseFFR,\n",
    "                           LinearMixture,\n",
    "                           LoadableVerboseFFR)\n",
    "from kesi._engine import _LinearKernelSolver\n",
    "sys.path.append('..')\n",
    "from FEM.fem_sphere_gaussian import (SomeSphereGaussianSourceFactory3D,\n",
    "                                     SomeSphereGaussianSourceFactoryOnlyCSD)\n",
    "from _common_new import altitude_azimuth_mesh\n",
    "\n",
    "try:\n",
    "    from joblib import Parallel, delayed\n",
    "    import multiprocessing\n",
    "    NUM_CORES = multiprocessing.cpu_count() - 1\n",
    "    PARALLEL_AVAILABLE = True\n",
    "except ImportError:\n",
    "    PARALLEL_AVAILABLE = False\n",
    "\n",
    "MeasurementManagerBase = VerboseFFR.MeasurementManagerBase"
   ]
  },
  {
   "cell_type": "code",
   "execution_count": 2,
   "metadata": {},
   "outputs": [],
   "source": [
    "def makemydir(directory):\n",
    "    \"\"\"\n",
    "    Creates directory if it doesn't exist\n",
    "    \"\"\"\n",
    "    try:\n",
    "        os.makedirs(directory)\n",
    "    except OSError:\n",
    "        pass\n",
    "    os.chdir(directory)"
   ]
  },
  {
   "cell_type": "code",
   "execution_count": 3,
   "metadata": {},
   "outputs": [],
   "source": [
    "class MeasurementManager(MeasurementManagerBase):\n",
    "    def __init__(self, ELECTRODES, space='potential'):\n",
    "        self._space = space\n",
    "        self._ELECTRODES = ELECTRODES\n",
    "        self.number_of_measurements = len(ELECTRODES)\n",
    "    def probe(self, field):\n",
    "        return getattr(field, \n",
    "                       self._space)(self._ELECTRODES.X,\n",
    "                                    self._ELECTRODES.Y,\n",
    "                                    self._ELECTRODES.Z)"
   ]
  },
  {
   "cell_type": "code",
   "execution_count": 4,
   "metadata": {},
   "outputs": [],
   "source": [
    "def all_sources(r, altitude, azimuth):\n",
    "    return [factory(x, y, z)\n",
    "            for x, y, z in itertools.product(r, altitude, azimuth)]"
   ]
  },
  {
   "cell_type": "code",
   "execution_count": 5,
   "metadata": {},
   "outputs": [],
   "source": [
    "def calculate_point_error(true_csd, est_csd):\n",
    "    \"\"\"\n",
    "    Calculates normalized error of reconstruction at every point of\n",
    "    estimation space separetly.\n",
    "\n",
    "    Parameters\n",
    "    ----------\n",
    "    true_csd: numpy array\n",
    "        Values of true csd at points of kCSD estimation.\n",
    "    est_csd: numpy array\n",
    "        CSD estimated with kCSD method.\n",
    "\n",
    "    Returns\n",
    "    -------\n",
    "    point_error: numpy array\n",
    "        Normalized error of reconstruction calculated separetly at every\n",
    "        point of estimation space.\n",
    "    \"\"\"\n",
    "    true_csd_r = true_csd.reshape(true_csd.size, 1)\n",
    "    est_csd_r = est_csd.reshape(est_csd.size, 1)\n",
    "    epsilon = np.linalg.norm(true_csd_r)/np.max(abs(true_csd_r))\n",
    "    err_r = abs(est_csd_r/(np.linalg.norm(est_csd_r)) -\n",
    "                true_csd_r/(np.linalg.norm(true_csd_r)))\n",
    "    err_r *= epsilon\n",
    "    point_error = err_r.reshape(true_csd.shape)\n",
    "    return point_error"
   ]
  },
  {
   "cell_type": "code",
   "execution_count": 6,
   "metadata": {},
   "outputs": [],
   "source": [
    "def calculate_rms(true_csd, est_csd):\n",
    "    \"\"\"\n",
    "    Calculates normalized error of reconstruction.\n",
    "    Parameters\n",
    "    ----------\n",
    "    true_csd: numpy array\n",
    "        Values of true CSD at points of kCSD estimation.\n",
    "    est_csd: numpy array\n",
    "        CSD estimated with kCSD method.\n",
    "    Returns\n",
    "    -------\n",
    "    rms: float\n",
    "        Normalized error of reconstruction.\n",
    "    \"\"\"\n",
    "    rms = np.linalg.norm((true_csd - est_csd))/(np.linalg.norm(true_csd))\n",
    "    return rms"
   ]
  },
  {
   "cell_type": "code",
   "execution_count": 7,
   "metadata": {},
   "outputs": [],
   "source": [
    "def calculate_rdm(true_csd, est_csd):\n",
    "    \"\"\"\n",
    "    Calculates relative difference measure between reconstructed source and\n",
    "    ground truth.\n",
    "    Parameters\n",
    "    ----------\n",
    "    true_csd: numpy array\n",
    "        Values of true CSD at points of kCSD estimation.\n",
    "    est_csd: numpy array\n",
    "        CSD estimated with kCSD method.\n",
    "    Returns\n",
    "    -------\n",
    "    rdm: float\n",
    "        Relative difference measure.\n",
    "    \"\"\"\n",
    "    epsilon = np.finfo(np.float64).eps\n",
    "    rdm = np.linalg.norm(est_csd/(np.linalg.norm(est_csd) + epsilon) -\n",
    "                         true_csd/(np.linalg.norm(true_csd) + epsilon))\n",
    "    return rdm"
   ]
  },
  {
   "cell_type": "code",
   "execution_count": 8,
   "metadata": {},
   "outputs": [],
   "source": [
    "def calculate_rdm_point(true_csd, est_csd):\n",
    "    rdm = abs(est_csd.reshape(est_csd.size, 1)/(np.linalg.norm(est_csd.reshape(est_csd.size, 1))) -\n",
    "              true_csd.reshape(true_csd.size, 1)/(np.linalg.norm(true_csd.reshape(true_csd.size, 1))))\n",
    "    rdm *= np.linalg.norm(true_csd.reshape(true_csd.size, 1))/np.max(abs(true_csd.reshape(true_csd.size, 1)))\n",
    "    return rdm.reshape(true_csd.shape)"
   ]
  },
  {
   "cell_type": "code",
   "execution_count": 9,
   "metadata": {},
   "outputs": [],
   "source": [
    "def calculate_mag(true_csd, est_csd):\n",
    "    \"\"\"\n",
    "    Calculates magnitude ratio between reconstructed source and ground\n",
    "    truth.\n",
    "    Parameters\n",
    "    ----------\n",
    "    test_csd: numpy array\n",
    "        Values of true CSD at points of kCSD estimation.\n",
    "    est_csd: numpy array\n",
    "        CSD estimated with kCSD method.\n",
    "    Returns\n",
    "    -------\n",
    "    mag: float\n",
    "        Magnitude ratio.\n",
    "    \"\"\"\n",
    "    epsilon = np.finfo(np.float64).eps\n",
    "    mag = np.linalg.norm(est_csd/(true_csd + epsilon))\n",
    "    return mag"
   ]
  },
  {
   "cell_type": "code",
   "execution_count": 10,
   "metadata": {},
   "outputs": [],
   "source": [
    "def calculate_mag_point(true_csd, est_csd):\n",
    "    epsilon = np.max(abs(true_csd.reshape(true_csd.size, 1)))\n",
    "    mag = abs(est_csd.reshape(est_csd.size, 1))/(abs(true_csd.reshape(true_csd.size, 1)) + epsilon)\n",
    "    return mag.reshape(true_csd.shape)"
   ]
  },
  {
   "cell_type": "code",
   "execution_count": 11,
   "metadata": {},
   "outputs": [],
   "source": [
    "def make_plot(values, val_type, X, Y, Z, path, idx=15, fig_title=None):\n",
    "    plt.figure(figsize=(6, 6))\n",
    "    ax = plt.subplot(111)\n",
    "    ax.set_title(fig_title)\n",
    "    if val_type == 'csd':\n",
    "        cmap = cm.bwr\n",
    "        t_max = np.max(np.abs(values))\n",
    "        t_min = -t_max\n",
    "    else:\n",
    "        cmap = cm.Greys\n",
    "        t_max = np.max(np.abs(values))#1\n",
    "        t_min = 0\n",
    "    levels = np.linspace(t_min, t_max, 65)\n",
    "    ax.set_aspect('equal')\n",
    "    im = ax.contourf(X[idx, :, :], Z[idx, :, :], values[:, idx, :], levels=levels, cmap=cmap, alpha=1)\n",
    "    ax.set_xlabel('X (m)')\n",
    "    ax.set_ylabel('Z (m)')\n",
    "    ax.set_xticks([X.min(), 0, X.max()])\n",
    "    ax.set_yticks([Z.min(), 0, Z.max()])\n",
    "    ticks = np.linspace(t_min, t_max, 3, endpoint=True)\n",
    "    plt.colorbar(im, orientation='horizontal', format='%.2f', ticks=ticks)\n",
    "    plt.savefig(path + '/figs/' + str(fig_title) +'.png', dpi=300)\n",
    "    return"
   ]
  },
  {
   "cell_type": "code",
   "execution_count": 12,
   "metadata": {},
   "outputs": [],
   "source": [
    "def generate_figure(X, Y, Z, values, values_type, IDX, layer, title, save_path=sys.path[0]):\n",
    "    VALUES = np.zeros(X.shape)  \n",
    "    for v, i, j, k in zip(values, *np.where(IDX)):  # place values in regular grid\n",
    "        VALUES[i, j, k] = v\n",
    "    make_plot(VALUES, values_type, X, Y, Z, save_path, idx=layer, fig_title=title)"
   ]
  },
  {
   "cell_type": "code",
   "execution_count": 13,
   "metadata": {},
   "outputs": [],
   "source": [
    "def cross_validation(reconstructor, measurements, regularization_parameters):\n",
    "    EE = np.zeros((regularization_parameters.size, np.array(measurements).shape[0]))\n",
    "    for rp_idx, rp in enumerate(regularization_parameters):\n",
    "        print('Cross validating regularization parameter :', rp)\n",
    "        EE[rp_idx] = np.linalg.norm(reconstructor.leave_one_out_errors(np.array(measurements).T, rp), axis=0)\n",
    "    indx_rp = np.argmin(EE, axis=0)\n",
    "    return indx_rp, EE"
   ]
  },
  {
   "cell_type": "code",
   "execution_count": 14,
   "metadata": {},
   "outputs": [],
   "source": [
    "def estimate_csd(reconstructor, measurements, regularization_parameters):\n",
    "    indx_rp, EE = cross_validation(reconstructor, measurements, regularization_parameters)\n",
    "    if np.array(measurements).shape[0] == np.array(measurements).size:\n",
    "        indx_rp = indx_rp[0]\n",
    "        EST_CSD = reconstructor(np.array(measurements).T, regularization_parameters[indx_rp]).T\n",
    "        EE = EE[:, 0]\n",
    "        lambd = regularization_parameters[indx_rp]\n",
    "        print('CV_rp :', regularization_parameters[indx_rp])\n",
    "    else:\n",
    "        EST_CSD = np.zeros(((np.array(measurements).shape[0]), reconstructor._cross_kernel.shape[0]))\n",
    "        lambd = np.zeros([(np.array(measurements).shape[0])])\n",
    "        for i, rp in enumerate(regularization_parameters):\n",
    "            lambd[indx_rp == i] = rp\n",
    "            EST_CSD[indx_rp == i, :] = reconstructor(np.array(measurements)[indx_rp == i, :].T, rp).T\n",
    "    return EST_CSD, indx_rp, EE, rp"
   ]
  },
  {
   "cell_type": "code",
   "execution_count": 16,
   "metadata": {},
   "outputs": [],
   "source": [
    "def generate_EEG_electrodesRPI(nr_theta, nr_phi, r):\n",
    "    '''Determine positions of electrodes - EEG\n",
    "    '''\n",
    "    theta, phi, r = np.meshgrid(np.linspace(-0.5*np.pi, 0.5*np.pi, nr_theta),\n",
    "                                np.linspace(0, 2*np.pi, nr_phi),\n",
    "                                r)\n",
    "    ELE_X = -r*np.cos(theta)*np.cos(phi)\n",
    "    ELE_Y = r*np.cos(theta)*np.sin(phi)\n",
    "    ELE_Z = r*np.sin(theta)\n",
    "    ELECTRODES = pd.DataFrame({'X': ELE_X.flatten(),\n",
    "                               'Y': ELE_Y.flatten(),\n",
    "                               'Z': ELE_Z.flatten()})\n",
    "    ELECTRODES_NR = ELE_X.size\n",
    "    return ELECTRODES, ELECTRODES_NR\n",
    "\n",
    "def generate_ECoG_electrodes(nr_x, nr_y, Z):\n",
    "    '''Determine positions of electrodes - ECoG\n",
    "    '''\n",
    "    xx, yy, zz = np.meshgrid(np.linspace(-0.035, 0.035, nr_x),\n",
    "                             np.linspace(-0.035, 0.035, nr_y),\n",
    "                             [-Z])\n",
    "    ELE_PLANE = np.zeros([xx.size, 3])\n",
    "    ELE_PLANE[:, 0] = xx.flatten()\n",
    "    ELE_PLANE[:, 1] = yy.flatten()\n",
    "    ELE_PLANE[:, 2] = zz.flatten()\n",
    "    ELE_SPHERE = np.array([Z*ELE_PLANE[i]/np.linalg.norm(ELE_PLANE[i]) for i in range(xx.size)])\n",
    "    ELECTRODES = pd.DataFrame({'X': ELE_SPHERE[:, 0],\n",
    "                               'Y': ELE_SPHERE[:, 1],\n",
    "                               'Z': ELE_SPHERE[:, 2]})\n",
    "    ELECTRODES_NR = xx.size\n",
    "    return ELECTRODES, ELECTRODES_NR"
   ]
  },
  {
   "cell_type": "code",
   "execution_count": null,
   "metadata": {},
   "outputs": [],
   "source": [
    "def calculate_eigensources(kernel, cross_kernel, regularization_parameter=0):\n",
    "    eigenvalues, eigenvectors = np.linalg.eigh(kernel + np.identity(kernel.shape[0])\n",
    "                                               * regularization_parameter)\n",
    "    idx = eigenvalues.argsort()[::-1]\n",
    "    eigenvalues = eigenvalues[idx]\n",
    "    eigenvectors = eigenvectors[:, idx]\n",
    "    return np.matmul(cross_kernel, eigenvectors), eigenvalues, eigenvectors"
   ]
  },
  {
   "cell_type": "code",
   "execution_count": null,
   "metadata": {},
   "outputs": [],
   "source": [
    "def csd_into_eigensource_projection(csd, eigensources):\n",
    "    orthn = scipy.linalg.orth(eigensources)\n",
    "    return np.matmul(np.matmul(csd, orthn), orthn.T)"
   ]
  },
  {
   "cell_type": "code",
   "execution_count": 15,
   "metadata": {},
   "outputs": [
    {
     "name": "stdout",
     "output_type": "stream",
     "text": [
      "Loading data --- 2.5595171451568604 seconds ---\n",
      "Number of sources:  45508\n",
      "Sources --- 7.0079779624938965 seconds ---\n"
     ]
    }
   ],
   "source": [
    "start_time = time.time()\n",
    "meshname = 'four_spheres_gaussian_1000_deg_1'\n",
    "MESHFILE = '/home/mbejtka/Data_Kuba/' + meshname + '.npz'\n",
    "now = datetime.datetime.today() \n",
    "nTime = now.strftime('%Y-%m-%d_%H-%M-%S')\n",
    "save_path = sys.path[0] + '/results/' + nTime\n",
    "makemydir(save_path)\n",
    "\n",
    "factory = SomeSphereGaussianSourceFactory3D(MESHFILE)\n",
    "print(\"Loading data --- %s seconds ---\" % (time.time() - start_time))\n",
    "\n",
    "dst = factory.R[1] - factory.R[0]\n",
    "sources = [factory(r, altitude, azimuth)\n",
    "           for altitude, azimuth in altitude_azimuth_mesh(-np.pi/2,\n",
    "                                                          dst/factory.scalp_radius)\n",
    "           for r in factory.R]\n",
    "setup_dict = {'meshname': meshname, 'path': save_path, 'sources': sources}\n",
    "print('Number of sources: ', len(sources))\n",
    "print(\"Sources --- %s seconds ---\" % (time.time() - start_time))"
   ]
  },
  {
   "cell_type": "code",
   "execution_count": 17,
   "metadata": {},
   "outputs": [],
   "source": [
    "ele_type = 'ECoG'\n",
    "\n",
    "if ele_type == 'EEG':\n",
    "    ELECTRODES, ELECTRODES_NR = generate_EEG_electrodesRPI(15,\n",
    "                                                           15,\n",
    "                                                           [factory.scalp_radius])\n",
    "elif ele_type == 'ECoG':\n",
    "    ELECTRODES, ELECTRODES_NR = generate_ECoG_electrodes(8, 8, factory.R.max())\n",
    "setup_dict.update({'ele_type': ele_type, 'ELECTRODES': ELECTRODES})"
   ]
  },
  {
   "cell_type": "code",
   "execution_count": 18,
   "metadata": {},
   "outputs": [],
   "source": [
    "# Estimating points    \n",
    "r = factory.scalp_radius\n",
    "X, Y, Z = np.meshgrid(np.linspace(-r, r, 30),\n",
    "                      np.linspace(-r, r, 30),\n",
    "                      np.linspace(-r, r, 30))\n",
    "IDX = X**2 + Y**2 + Z**2 <=r**2\n",
    "EST_X = X[IDX]\n",
    "EST_Y = Y[IDX]\n",
    "EST_Z = Z[IDX]\n",
    "EST_POINTS =pd.DataFrame({'X': EST_X.flatten(),\n",
    "                          'Y': EST_Y.flatten(),\n",
    "                          'Z': EST_Z.flatten()})\n",
    "setup_dict.update({'X':X, 'Y':Y, 'Z':Z, 'IDX': IDX, 'EST_POINTS': EST_POINTS})"
   ]
  },
  {
   "cell_type": "code",
   "execution_count": 19,
   "metadata": {
    "scrolled": true
   },
   "outputs": [],
   "source": [
    "measurement_manager = MeasurementManager(ELECTRODES, space='potential')\n",
    "measurement_manager_basis = MeasurementManager(EST_POINTS, space='csd')"
   ]
  },
  {
   "cell_type": "code",
   "execution_count": 20,
   "metadata": {},
   "outputs": [
    {
     "name": "stdout",
     "output_type": "stream",
     "text": [
      "Reconstructor --- 181.63461685180664 seconds ---\n"
     ]
    }
   ],
   "source": [
    "# Create reconstructor\n",
    "reconstructor_filename = save_path +'/Reconstructor.npz'\n",
    "reconstructor = VerboseFFR(sources, measurement_manager)\n",
    "reconstructor.save(reconstructor_filename)\n",
    "print(\"Reconstructor --- %s seconds ---\" % (time.time() - start_time))"
   ]
  },
  {
   "cell_type": "code",
   "execution_count": 21,
   "metadata": {},
   "outputs": [],
   "source": [
    "factoryCSD = SomeSphereGaussianSourceFactoryOnlyCSD(MESHFILE)\n",
    "dst = factoryCSD.R[1] - factoryCSD.R[0]\n",
    "sourcesCSD = [factoryCSD(r, altitude, azimuth)\n",
    "              for altitude, azimuth in altitude_azimuth_mesh(-np.pi/2,\n",
    "                                                          dst/factory.scalp_radius)\n",
    "              for r in factoryCSD.R]"
   ]
  },
  {
   "cell_type": "code",
   "execution_count": 22,
   "metadata": {},
   "outputs": [],
   "source": [
    "loadable_reconstructor = LoadableVerboseFFR(reconstructor_filename, sourcesCSD, measurement_manager)\n",
    "kernel = loadable_reconstructor.kernel\n",
    "cross_kernel = loadable_reconstructor.get_kernel_matrix(measurement_manager_basis)\n",
    "cross_reconstructor = loadable_reconstructor._CrossKernelReconstructor(_LinearKernelSolver(kernel), cross_kernel)"
   ]
  },
  {
   "cell_type": "code",
   "execution_count": 23,
   "metadata": {},
   "outputs": [],
   "source": [
    "cross_reconstructor_filename = save_path + '/CrossReconstructor.npz'\n",
    "cross_reconstructor.save(cross_reconstructor_filename)"
   ]
  },
  {
   "cell_type": "code",
   "execution_count": 24,
   "metadata": {
    "scrolled": true
   },
   "outputs": [],
   "source": [
    "potential = [measurement_manager.probe(source) for source in sources]"
   ]
  },
  {
   "cell_type": "code",
   "execution_count": 25,
   "metadata": {},
   "outputs": [],
   "source": [
    "true_csd = [measurement_manager_basis.probe(source) for source in sourcesCSD]"
   ]
  },
  {
   "cell_type": "code",
   "execution_count": 27,
   "metadata": {},
   "outputs": [],
   "source": [
    "setup_dict.update({'POTENTIAL': potential, 'TRUE_CSD': true_csd})\n",
    "np.savez_compressed(save_path + '/Setup_info.npz', **setup_dict)"
   ]
  },
  {
   "cell_type": "code",
   "execution_count": null,
   "metadata": {},
   "outputs": [],
   "source": [
    "eigensources, eigenvalues, eigenvectors = calculate_eigensources(kernel, cross_kernel, regularization_parameter=0)\n",
    "projection = csd_into_eigensource_projection(true_csd, eigensources)\n",
    "np.savez_compressed(save_path + 'Spectral_decomposition.npz')"
   ]
  },
  {
   "cell_type": "code",
   "execution_count": null,
   "metadata": {},
   "outputs": [],
   "source": [
    "eigen_parameters = eigenvalues[np.where(eigenvalues > 0)]"
   ]
  },
  {
   "cell_type": "code",
   "execution_count": null,
   "metadata": {},
   "outputs": [],
   "source": [
    "regularization_parameters = np.concatenate((eigen_parameters, np.array([0])))\n",
    "EST_CSD, indx_rp, EE, rp = estimate_csd(cross_reconstructor, potential,\n",
    "                                        regularization_parameters=regularization_parameters)\n",
    "np.savez_compressed(save_path + '/Estimation.npz', EST_CSD=EST_CSD, indx_rp=indx_rp, EE=EE,\n",
    "                    LAMBD=rp, REG_PARAMS=regularization_parameters)"
   ]
  }
 ],
 "metadata": {
  "kernelspec": {
   "display_name": "Python [conda env:kesi37] *",
   "language": "python",
   "name": "conda-env-kesi37-py"
  },
  "language_info": {
   "codemirror_mode": {
    "name": "ipython",
    "version": 3
   },
   "file_extension": ".py",
   "mimetype": "text/x-python",
   "name": "python",
   "nbconvert_exporter": "python",
   "pygments_lexer": "ipython3",
   "version": "3.7.0"
  }
 },
 "nbformat": 4,
 "nbformat_minor": 4
}
