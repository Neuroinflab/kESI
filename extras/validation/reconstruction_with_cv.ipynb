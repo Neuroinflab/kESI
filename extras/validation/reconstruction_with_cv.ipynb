{
 "cells": [
  {
   "cell_type": "code",
   "execution_count": 1,
   "metadata": {},
   "outputs": [
    {
     "name": "stderr",
     "output_type": "stream",
     "text": [
      "Unable to import from dolfin\n"
     ]
    }
   ],
   "source": [
    "import numpy as np\n",
    "import pandas as pd\n",
    "import scipy\n",
    "import itertools\n",
    "import time\n",
    "import sys\n",
    "import datetime\n",
    "import os\n",
    "\n",
    "from kesi._verbose import (VerboseFFR,\n",
    "                           LinearMixture,\n",
    "                           LoadableVerboseFFR)\n",
    "from kesi._engine import _LinearKernelSolver\n",
    "sys.path.append('..')\n",
    "from FEM.fem_sphere_gaussian import (SomeSphereGaussianSourceFactory3D,\n",
    "                                     SomeSphereGaussianSourceFactoryOnlyCSD)\n",
    "from _common_new import altitude_azimuth_mesh\n",
    "\n",
    "try:\n",
    "    from joblib import Parallel, delayed\n",
    "    import multiprocessing\n",
    "    NUM_CORES = multiprocessing.cpu_count() - 1\n",
    "    PARALLEL_AVAILABLE = True\n",
    "except ImportError:\n",
    "    PARALLEL_AVAILABLE = False\n",
    "\n",
    "MeasurementManagerBase = VerboseFFR.MeasurementManagerBase"
   ]
  },
  {
   "cell_type": "code",
   "execution_count": 2,
   "metadata": {},
   "outputs": [],
   "source": [
    "import matplotlib.pyplot as plt"
   ]
  },
  {
   "cell_type": "code",
   "execution_count": 3,
   "metadata": {},
   "outputs": [],
   "source": [
    "def makemydir(directory):\n",
    "    \"\"\"\n",
    "    Creates directory if it doesn't exist\n",
    "    \"\"\"\n",
    "    try:\n",
    "        os.makedirs(directory)\n",
    "    except OSError:\n",
    "        pass\n",
    "    os.chdir(directory)"
   ]
  },
  {
   "cell_type": "code",
   "execution_count": 4,
   "metadata": {},
   "outputs": [],
   "source": [
    "class MeasurementManager(MeasurementManagerBase):\n",
    "    def __init__(self, ELECTRODES, space='potential'):\n",
    "        self._space = space\n",
    "        self._ELECTRODES = ELECTRODES\n",
    "        self.number_of_measurements = len(ELECTRODES)\n",
    "    def probe(self, field):\n",
    "        return getattr(field, \n",
    "                       self._space)(self._ELECTRODES.X,\n",
    "                                    self._ELECTRODES.Y,\n",
    "                                    self._ELECTRODES.Z)"
   ]
  },
  {
   "cell_type": "code",
   "execution_count": 5,
   "metadata": {},
   "outputs": [],
   "source": [
    "def all_sources(r, altitude, azimuth):\n",
    "    return [factory(x, y, z)\n",
    "            for x, y, z in itertools.product(r, altitude, azimuth)]"
   ]
  },
  {
   "cell_type": "code",
   "execution_count": 6,
   "metadata": {},
   "outputs": [],
   "source": [
    "def calculate_point_error(true_csd, est_csd):\n",
    "    \"\"\"\n",
    "    Calculates normalized error of reconstruction at every point of\n",
    "    estimation space separetly.\n",
    "\n",
    "    Parameters\n",
    "    ----------\n",
    "    true_csd: numpy array\n",
    "        Values of true csd at points of kCSD estimation.\n",
    "    est_csd: numpy array\n",
    "        CSD estimated with kCSD method.\n",
    "\n",
    "    Returns\n",
    "    -------\n",
    "    point_error: numpy array\n",
    "        Normalized error of reconstruction calculated separetly at every\n",
    "        point of estimation space.\n",
    "    \"\"\"\n",
    "    true_csd_r = true_csd.reshape(true_csd.size, 1)\n",
    "    est_csd_r = est_csd.reshape(est_csd.size, 1)\n",
    "    epsilon = np.linalg.norm(true_csd_r)/np.max(abs(true_csd_r))\n",
    "    err_r = abs(est_csd_r/(np.linalg.norm(est_csd_r)) -\n",
    "                true_csd_r/(np.linalg.norm(true_csd_r)))\n",
    "    err_r *= epsilon\n",
    "    point_error = err_r.reshape(true_csd.shape)\n",
    "    return point_error"
   ]
  },
  {
   "cell_type": "code",
   "execution_count": 7,
   "metadata": {},
   "outputs": [],
   "source": [
    "def calculate_rms(true_csd, est_csd):\n",
    "    \"\"\"\n",
    "    Calculates normalized error of reconstruction.\n",
    "    Parameters\n",
    "    ----------\n",
    "    true_csd: numpy array\n",
    "        Values of true CSD at points of kCSD estimation.\n",
    "    est_csd: numpy array\n",
    "        CSD estimated with kCSD method.\n",
    "    Returns\n",
    "    -------\n",
    "    rms: float\n",
    "        Normalized error of reconstruction.\n",
    "    \"\"\"\n",
    "    rms = np.linalg.norm((true_csd - est_csd))/(np.linalg.norm(true_csd))\n",
    "    return rms"
   ]
  },
  {
   "cell_type": "code",
   "execution_count": 8,
   "metadata": {},
   "outputs": [],
   "source": [
    "def calculate_rdm(true_csd, est_csd):\n",
    "    \"\"\"\n",
    "    Calculates relative difference measure between reconstructed source and\n",
    "    ground truth.\n",
    "    Parameters\n",
    "    ----------\n",
    "    true_csd: numpy array\n",
    "        Values of true CSD at points of kCSD estimation.\n",
    "    est_csd: numpy array\n",
    "        CSD estimated with kCSD method.\n",
    "    Returns\n",
    "    -------\n",
    "    rdm: float\n",
    "        Relative difference measure.\n",
    "    \"\"\"\n",
    "    epsilon = np.finfo(np.float64).eps\n",
    "    rdm = np.linalg.norm(est_csd/(np.linalg.norm(est_csd) + epsilon) -\n",
    "                         true_csd/(np.linalg.norm(true_csd) + epsilon))\n",
    "    return rdm"
   ]
  },
  {
   "cell_type": "code",
   "execution_count": 9,
   "metadata": {},
   "outputs": [],
   "source": [
    "def calculate_rdm_point(true_csd, est_csd):\n",
    "    rdm = abs(est_csd.reshape(est_csd.size, 1)/(np.linalg.norm(est_csd.reshape(est_csd.size, 1))) -\n",
    "              true_csd.reshape(true_csd.size, 1)/(np.linalg.norm(true_csd.reshape(true_csd.size, 1))))\n",
    "    rdm *= np.linalg.norm(true_csd.reshape(true_csd.size, 1))/np.max(abs(true_csd.reshape(true_csd.size, 1)))\n",
    "    return rdm.reshape(true_csd.shape)"
   ]
  },
  {
   "cell_type": "code",
   "execution_count": 10,
   "metadata": {},
   "outputs": [],
   "source": [
    "def calculate_mag(true_csd, est_csd):\n",
    "    \"\"\"\n",
    "    Calculates magnitude ratio between reconstructed source and ground\n",
    "    truth.\n",
    "    Parameters\n",
    "    ----------\n",
    "    test_csd: numpy array\n",
    "        Values of true CSD at points of kCSD estimation.\n",
    "    est_csd: numpy array\n",
    "        CSD estimated with kCSD method.\n",
    "    Returns\n",
    "    -------\n",
    "    mag: float\n",
    "        Magnitude ratio.\n",
    "    \"\"\"\n",
    "    epsilon = np.finfo(np.float64).eps\n",
    "    mag = np.linalg.norm(est_csd/(true_csd + epsilon))\n",
    "    return mag"
   ]
  },
  {
   "cell_type": "code",
   "execution_count": 11,
   "metadata": {},
   "outputs": [],
   "source": [
    "def calculate_mag_point(true_csd, est_csd):\n",
    "    epsilon = np.max(abs(true_csd.reshape(true_csd.size, 1)))\n",
    "    mag = abs(est_csd.reshape(est_csd.size, 1))/(abs(true_csd.reshape(true_csd.size, 1)) + epsilon)\n",
    "    return mag.reshape(true_csd.shape)"
   ]
  },
  {
   "cell_type": "code",
   "execution_count": 12,
   "metadata": {},
   "outputs": [],
   "source": [
    "def cross_validation(reconstructor, measurements, regularization_parameters):\n",
    "    EE = np.zeros((regularization_parameters.size, np.array(measurements).shape[0]))\n",
    "    for rp_idx, rp in enumerate(regularization_parameters):\n",
    "        print('Cross validating regularization parameter :', rp)\n",
    "        EE[rp_idx] = np.linalg.norm(reconstructor.leave_one_out_errors(np.array(measurements).T, rp), axis=0)\n",
    "    indx_rp = np.argmin(EE, axis=0)\n",
    "    return indx_rp, EE"
   ]
  },
  {
   "cell_type": "code",
   "execution_count": 13,
   "metadata": {},
   "outputs": [],
   "source": [
    "def estimate_csd(reconstructor, measurements, regularization_parameters):\n",
    "    indx_rp, EE = cross_validation(reconstructor, measurements, regularization_parameters)\n",
    "    if np.array(measurements).shape[0] == np.array(measurements).size:\n",
    "        indx_rp = indx_rp[0]\n",
    "        EST_CSD = reconstructor(np.array(measurements).T, regularization_parameters[indx_rp]).T\n",
    "        EE = EE[:, 0]\n",
    "        lambd = regularization_parameters[indx_rp]\n",
    "        print('CV_rp :', regularization_parameters[indx_rp])\n",
    "    else:\n",
    "        EST_CSD = np.zeros(((np.array(measurements).shape[0]), reconstructor._cross_kernel.shape[0]))\n",
    "        lambd = np.zeros([(np.array(measurements).shape[0])])\n",
    "        for i, rp in enumerate(regularization_parameters):\n",
    "            lambd[indx_rp == i] = rp\n",
    "            EST_CSD[indx_rp == i, :] = reconstructor(np.array(measurements)[indx_rp == i, :].T, rp).T\n",
    "    return EST_CSD, indx_rp, EE, rp"
   ]
  },
  {
   "cell_type": "code",
   "execution_count": 14,
   "metadata": {},
   "outputs": [],
   "source": [
    "def generate_EEG_electrodesRPI(nr_theta, nr_phi, r):\n",
    "    '''Determine positions of electrodes - EEG\n",
    "    '''\n",
    "    theta, phi, r = np.meshgrid(np.linspace(-0.5*np.pi, 0.5*np.pi, nr_theta),\n",
    "                                np.linspace(0, 2*np.pi, nr_phi),\n",
    "                                r)\n",
    "    ELE_X = -r*np.cos(theta)*np.cos(phi)\n",
    "    ELE_Y = r*np.cos(theta)*np.sin(phi)\n",
    "    ELE_Z = r*np.sin(theta)\n",
    "    ELECTRODES = pd.DataFrame({'X': ELE_X.flatten(),\n",
    "                               'Y': ELE_Y.flatten(),\n",
    "                               'Z': ELE_Z.flatten()})\n",
    "    ELECTRODES_NR = ELE_X.size\n",
    "    return ELECTRODES, ELECTRODES_NR\n",
    "\n",
    "def generate_ECoG_electrodes(nr_x, nr_y, Z):\n",
    "    '''Determine positions of electrodes - ECoG\n",
    "    '''\n",
    "    xx, yy, zz = np.meshgrid(np.linspace(-0.035, 0.035, nr_x),\n",
    "                             np.linspace(-0.035, 0.035, nr_y),\n",
    "                             [-Z])\n",
    "    ELE_PLANE = np.zeros([xx.size, 3])\n",
    "    ELE_PLANE[:, 0] = xx.flatten()\n",
    "    ELE_PLANE[:, 1] = yy.flatten()\n",
    "    ELE_PLANE[:, 2] = zz.flatten()\n",
    "    ELE_SPHERE = np.array([Z*ELE_PLANE[i]/np.linalg.norm(ELE_PLANE[i]) for i in range(xx.size)])\n",
    "    ELECTRODES = pd.DataFrame({'X': ELE_SPHERE[:, 0],\n",
    "                               'Y': ELE_SPHERE[:, 1],\n",
    "                               'Z': ELE_SPHERE[:, 2]})\n",
    "    ELECTRODES_NR = xx.size\n",
    "    return ELECTRODES, ELECTRODES_NR"
   ]
  },
  {
   "cell_type": "code",
   "execution_count": 15,
   "metadata": {},
   "outputs": [],
   "source": [
    "def calculate_eigensources(kernel, cross_kernel, regularization_parameter=0):\n",
    "    eigenvalues, eigenvectors = np.linalg.eigh(kernel + np.identity(kernel.shape[0])\n",
    "                                               * regularization_parameter)\n",
    "    idx = eigenvalues.argsort()[::-1]\n",
    "    eigenvalues = eigenvalues[idx]\n",
    "    eigenvectors = eigenvectors[:, idx]\n",
    "    return np.matmul(cross_kernel, eigenvectors), eigenvalues, eigenvectors"
   ]
  },
  {
   "cell_type": "code",
   "execution_count": 16,
   "metadata": {},
   "outputs": [],
   "source": [
    "def csd_into_eigensource_projection(csd, eigensources):\n",
    "    orthn = scipy.linalg.orth(eigensources)\n",
    "    return np.matmul(np.matmul(csd, orthn), orthn.T)"
   ]
  },
  {
   "cell_type": "code",
   "execution_count": 57,
   "metadata": {},
   "outputs": [],
   "source": [
    "def parallel_search(kernel, potential, lambdas, n_jobs=4):\n",
    "    \"\"\"Method for Parallel L-curve computation\n",
    "    Parameters\n",
    "    ----------\n",
    "    kernel : np.array\n",
    "    potential : list\n",
    "    lambdas : list\n",
    "    Returns\n",
    "    -------\n",
    "    modelnormseq : list\n",
    "    residualseq : list\n",
    "    \"\"\"\n",
    "    if PARALLEL_AVAILABLE:\n",
    "        jobs = (delayed(L_model_fast)(kernel, potential, lamb, i)\n",
    "                for i, lamb in enumerate(lambdas))\n",
    "        modelvsres = Parallel(n_jobs=n_jobs, backend='threading')(jobs)\n",
    "    else:\n",
    "        # Please verify this!\n",
    "        modelvsres = []\n",
    "        for i, lamb in enumerate(lambdas):\n",
    "            modelvsres.append(L_model_fast(kernel, potential, lamb, i))\n",
    "    modelnormseq, residualseq = zip(*modelvsres)\n",
    "    return modelnormseq, residualseq"
   ]
  },
  {
   "cell_type": "code",
   "execution_count": 58,
   "metadata": {},
   "outputs": [],
   "source": [
    "def L_model_fast(kernel, potential, lamb, i):\n",
    "    \"\"\"Method for Fast L-curve computation\n",
    "    Parameters\n",
    "    ----------\n",
    "    kernel : np.array\n",
    "    potential : list\n",
    "    lambd : list\n",
    "    i : int\n",
    "    Returns\n",
    "    -------\n",
    "    modelnorm : float\n",
    "    residual : float\n",
    "    \"\"\"\n",
    "    k_inv = np.linalg.inv(kernel + lamb*np.identity(kernel.shape[0]))\n",
    "    beta_new = np.dot(k_inv, potential)\n",
    "    V_est = np.dot(kernel, beta_new)\n",
    "    modelnorm = np.einsum('i,j->i', beta_new.T, V_est)\n",
    "    residual = np.linalg.norm(V_est - potential)\n",
    "    modelnorm = np.max(modelnorm)\n",
    "    return modelnorm, residual"
   ]
  },
  {
   "cell_type": "code",
   "execution_count": 59,
   "metadata": {},
   "outputs": [],
   "source": [
    "def suggest_lambda(kernel):\n",
    "    \"\"\"Computes the lambda parameter range for regularization, \n",
    "    Used in Cross validation and L-curve\n",
    "    Returns\n",
    "    -------\n",
    "    Lambdas : list\n",
    "    \"\"\"\n",
    "    u, s, v = np.linalg.svd(kernel)\n",
    "    print('min lambda', 10**np.round(np.log10(s[-1]), decimals=0))\n",
    "    print('max lambda', str.format('{0:.4f}', np.std(np.diag(kernel))))\n",
    "    return np.logspace(np.log10(s[-1]), np.log10(np.std(np.diag(kernel))), 20)"
   ]
  },
  {
   "cell_type": "code",
   "execution_count": 74,
   "metadata": {},
   "outputs": [],
   "source": [
    "def L_curve(kernel, potential, lambdas=None, n_jobs=1):\n",
    "    \"\"\"Method defines the L-curve.\n",
    "    By default calculates L-curve over lambda,\n",
    "    When no argument is passed, it takes\n",
    "    lambdas = np.logspace(-10,-1,100,base=10)\n",
    "    and Rs = np.array(self.R).flatten()\n",
    "    otherwise pass necessary numpy arrays\n",
    "    Parameters\n",
    "    ----------\n",
    "    L-curve plotting: default True\n",
    "    lambdas : numpy array\n",
    "    Rs : numpy array\n",
    "    Returns\n",
    "    -------\n",
    "    curve_surf : post cross validation\n",
    "    \"\"\"\n",
    "    if lambdas is None:\n",
    "        print('No lambda given, using defaults')\n",
    "        lambdas = suggest_lambda(kernel)\n",
    "    else:\n",
    "        lambdas = lambdas.flatten()\n",
    "    lcurve_axis = np.zeros((2, len(lambdas)))\n",
    "    curve_surf = np.zeros((len(lambdas)))\n",
    "    suggest_lambda(kernel)\n",
    "    #print('l-curve (all lambda): ', np.round(R, decimals=3))\n",
    "    modelnormseq, residualseq = parallel_search(kernel, potential, lambdas,\n",
    "                                                      n_jobs=n_jobs)\n",
    "    norm_log = np.log(modelnormseq + np.finfo(np.float64).eps)\n",
    "    res_log = np.log(residualseq + np.finfo(np.float64).eps)\n",
    "    curveseq = res_log[0] * (norm_log - norm_log[-1]) + res_log * (norm_log[-1] - norm_log[0]) \\\n",
    "        + res_log[-1] * (norm_log[0] - norm_log)\n",
    "    curve_surf = curveseq\n",
    "    lcurve_axis[0, :] = norm_log\n",
    "    lcurve_axis[1, :] = res_log\n",
    "    lambd = lambdas[np.argmax(curve_surf)]\n",
    "    #self.update_lambda(lambdas[np.argmax(self.curve_surf, axis=1)[best_R_ind]])\n",
    "    print(\"Best lambda = \", lambd)\n",
    "    return lambd, lcurve_axis, curve_surf, lambdas"
   ]
  },
  {
   "cell_type": "code",
   "execution_count": 21,
   "metadata": {},
   "outputs": [
    {
     "name": "stdout",
     "output_type": "stream",
     "text": [
      "Loading data --- 2.6138675212860107 seconds ---\n",
      "Number of sources:  45508\n",
      "Sources --- 6.723602056503296 seconds ---\n"
     ]
    }
   ],
   "source": [
    "start_time = time.time()\n",
    "meshname = 'four_spheres_gaussian_1000_deg_1'\n",
    "MESHFILE = '/home/mbejtka/Data_Kuba/' + meshname + '.npz'\n",
    "now = datetime.datetime.today() \n",
    "nTime = now.strftime('%Y-%m-%d_%H-%M-%S')\n",
    "save_path = sys.path[0] + '/results/' + nTime\n",
    "makemydir(save_path)\n",
    "\n",
    "factory = SomeSphereGaussianSourceFactory3D(MESHFILE)\n",
    "print(\"Loading data --- %s seconds ---\" % (time.time() - start_time))\n",
    "\n",
    "dst = factory.R[1] - factory.R[0]\n",
    "sources = [factory(r, altitude, azimuth)\n",
    "           for altitude, azimuth in altitude_azimuth_mesh(-np.pi/2,\n",
    "                                                          dst/factory.scalp_radius)\n",
    "           for r in factory.R]\n",
    "setup_dict = {'meshname': meshname, 'path': save_path, 'sources': sources}\n",
    "print('Number of sources: ', len(sources))\n",
    "print(\"Sources --- %s seconds ---\" % (time.time() - start_time))"
   ]
  },
  {
   "cell_type": "code",
   "execution_count": 22,
   "metadata": {},
   "outputs": [],
   "source": [
    "ele_type = 'ECoG'\n",
    "\n",
    "if ele_type == 'EEG':\n",
    "    ELECTRODES, ELECTRODES_NR = generate_EEG_electrodesRPI(15,\n",
    "                                                           15,\n",
    "                                                           [factory.scalp_radius])\n",
    "elif ele_type == 'ECoG':\n",
    "    ELECTRODES, ELECTRODES_NR = generate_ECoG_electrodes(8, 8, factory.R.max())\n",
    "setup_dict.update({'ele_type': ele_type, 'ELECTRODES': ELECTRODES})"
   ]
  },
  {
   "cell_type": "code",
   "execution_count": 23,
   "metadata": {},
   "outputs": [],
   "source": [
    "# Estimating points    \n",
    "r = factory.scalp_radius\n",
    "X, Y, Z = np.meshgrid(np.linspace(-r, r, 30),\n",
    "                      np.linspace(-r, r, 30),\n",
    "                      np.linspace(-r, r, 30))\n",
    "IDX = X**2 + Y**2 + Z**2 <=r**2\n",
    "EST_X = X[IDX]\n",
    "EST_Y = Y[IDX]\n",
    "EST_Z = Z[IDX]\n",
    "EST_POINTS =pd.DataFrame({'X': EST_X.flatten(),\n",
    "                          'Y': EST_Y.flatten(),\n",
    "                          'Z': EST_Z.flatten()})\n",
    "setup_dict.update({'X':X, 'Y':Y, 'Z':Z, 'IDX': IDX, 'EST_POINTS': EST_POINTS})"
   ]
  },
  {
   "cell_type": "code",
   "execution_count": 24,
   "metadata": {
    "scrolled": true
   },
   "outputs": [],
   "source": [
    "measurement_manager = MeasurementManager(ELECTRODES, space='potential')\n",
    "measurement_manager_basis = MeasurementManager(EST_POINTS, space='csd')"
   ]
  },
  {
   "cell_type": "code",
   "execution_count": 25,
   "metadata": {},
   "outputs": [
    {
     "name": "stdout",
     "output_type": "stream",
     "text": [
      "Reconstructor --- 183.28508114814758 seconds ---\n"
     ]
    }
   ],
   "source": [
    "# Create reconstructor\n",
    "reconstructor_filename = save_path +'/Reconstructor.npz'\n",
    "reconstructor = VerboseFFR(sources, measurement_manager)\n",
    "reconstructor.save(reconstructor_filename)\n",
    "print(\"Reconstructor --- %s seconds ---\" % (time.time() - start_time))"
   ]
  },
  {
   "cell_type": "code",
   "execution_count": 26,
   "metadata": {},
   "outputs": [],
   "source": [
    "factoryCSD = SomeSphereGaussianSourceFactoryOnlyCSD(MESHFILE)\n",
    "dst = factoryCSD.R[1] - factoryCSD.R[0]\n",
    "sourcesCSD = [factoryCSD(r, altitude, azimuth)\n",
    "              for altitude, azimuth in altitude_azimuth_mesh(-np.pi/2,\n",
    "                                                          dst/factory.scalp_radius)\n",
    "              for r in factoryCSD.R]"
   ]
  },
  {
   "cell_type": "code",
   "execution_count": 27,
   "metadata": {},
   "outputs": [],
   "source": [
    "loadable_reconstructor = LoadableVerboseFFR(reconstructor_filename, sourcesCSD, measurement_manager)\n",
    "kernel = loadable_reconstructor.kernel\n",
    "cross_kernel = loadable_reconstructor.get_kernel_matrix(measurement_manager_basis)\n",
    "cross_reconstructor = loadable_reconstructor._CrossKernelReconstructor(_LinearKernelSolver(kernel), cross_kernel)"
   ]
  },
  {
   "cell_type": "code",
   "execution_count": 28,
   "metadata": {},
   "outputs": [],
   "source": [
    "cross_reconstructor_filename = save_path + '/CrossReconstructor.npz'\n",
    "cross_reconstructor.save(cross_reconstructor_filename)"
   ]
  },
  {
   "cell_type": "code",
   "execution_count": 29,
   "metadata": {
    "scrolled": true
   },
   "outputs": [],
   "source": [
    "potential = [measurement_manager.probe(source) for source in sources]"
   ]
  },
  {
   "cell_type": "code",
   "execution_count": 30,
   "metadata": {},
   "outputs": [],
   "source": [
    "true_csd = [measurement_manager_basis.probe(source) for source in sourcesCSD]"
   ]
  },
  {
   "cell_type": "code",
   "execution_count": 31,
   "metadata": {},
   "outputs": [],
   "source": [
    "setup_dict.update({'POTENTIAL': potential, 'TRUE_CSD': true_csd})\n",
    "np.savez_compressed(save_path + '/Setup_info.npz', **setup_dict)"
   ]
  },
  {
   "cell_type": "code",
   "execution_count": 32,
   "metadata": {},
   "outputs": [],
   "source": [
    "eigensources, eigenvalues, eigenvectors = calculate_eigensources(kernel, cross_kernel, regularization_parameter=0)\n",
    "projection = csd_into_eigensource_projection(true_csd, eigensources)\n",
    "np.savez_compressed(save_path + '/Spectral_decomposition.npz',\n",
    "                    EIGENSOURCES=eigensources,\n",
    "                    EIGENVALUES=eigenvalues, EIGENVECTORS=eigenvectors,\n",
    "                    PROJECTION=projection)"
   ]
  },
  {
   "cell_type": "code",
   "execution_count": 33,
   "metadata": {},
   "outputs": [],
   "source": [
    "eigen_parameters = eigenvalues[np.where(eigenvalues > 0)]"
   ]
  },
  {
   "cell_type": "code",
   "execution_count": 88,
   "metadata": {},
   "outputs": [
    {
     "name": "stdout",
     "output_type": "stream",
     "text": [
      "min lambda 0.0001\n",
      "max lambda 0.7881\n",
      "Best lambda =  1.373823795883261e-09\n"
     ]
    }
   ],
   "source": [
    "l_lambd, lcurve_axis, curve_surf, lambdas = L_curve(kernel, potential[0], lambdas=np.logspace(-20, -1, 30))"
   ]
  },
  {
   "cell_type": "code",
   "execution_count": 89,
   "metadata": {},
   "outputs": [
    {
     "data": {
      "text/plain": [
       "[<matplotlib.lines.Line2D at 0x7f828235ed30>]"
      ]
     },
     "execution_count": 89,
     "metadata": {},
     "output_type": "execute_result"
    },
    {
     "data": {
      "image/png": "[encoded data removed]",
      "text/plain": [
       "<Figure size 432x288 with 1 Axes>"
      ]
     },
     "metadata": {
      "needs_background": "light"
     },
     "output_type": "display_data"
    }
   ],
   "source": [
    "plt.figure()\n",
    "plt.plot(lcurve_axis[1], lcurve_axis[0], '.')\n",
    "plt.plot(lcurve_axis[1, np.where(lambdas==lambd)], lcurve_axis[0, np.where(lambdas==lambd)], 'o')"
   ]
  },
  {
   "cell_type": "code",
   "execution_count": 35,
   "metadata": {},
   "outputs": [
    {
     "name": "stdout",
     "output_type": "stream",
     "text": [
      "Cross validating regularization parameter : 7.278953843983146e-05\n"
     ]
    }
   ],
   "source": [
    "EST_CSD_LC, indx_rpLC, EE_LC, rpLC = estimate_csd(cross_reconstructor, potential,\n",
    "                                        regularization_parameters=np.array([l_lambd]))"
   ]
  },
  {
   "cell_type": "code",
   "execution_count": 36,
   "metadata": {},
   "outputs": [
    {
     "name": "stdout",
     "output_type": "stream",
     "text": [
      "Cross validating regularization parameter : 0\n"
     ]
    }
   ],
   "source": [
    "EST_CSD_0, indx_rp0, EE_0, rp0 = estimate_csd(cross_reconstructor, potential,\n",
    "                                        regularization_parameters=np.array([0]))"
   ]
  },
  {
   "cell_type": "code",
   "execution_count": 38,
   "metadata": {},
   "outputs": [
    {
     "name": "stdout",
     "output_type": "stream",
     "text": [
      "Cross validating regularization parameter : 486857.06907366676\n",
      "Cross validating regularization parameter : 210.94395193763853\n",
      "Cross validating regularization parameter : 210.9437770639217\n",
      "Cross validating regularization parameter : 28.671011866520928\n",
      "Cross validating regularization parameter : 26.325007995469736\n",
      "Cross validating regularization parameter : 15.700405595350443\n",
      "Cross validating regularization parameter : 4.579727688505242\n",
      "Cross validating regularization parameter : 4.579261164020402\n",
      "Cross validating regularization parameter : 2.1242697703391036\n",
      "Cross validating regularization parameter : 2.124218921458344\n",
      "Cross validating regularization parameter : 0.9810236495785829\n",
      "Cross validating regularization parameter : 0.7034284788106849\n",
      "Cross validating regularization parameter : 0.5557024009270339\n",
      "Cross validating regularization parameter : 0.27244213708071185\n",
      "Cross validating regularization parameter : 0.2356507978040982\n",
      "Cross validating regularization parameter : 0.15906843453885977\n",
      "Cross validating regularization parameter : 0.15906165095032918\n",
      "Cross validating regularization parameter : 0.07813293838586412\n",
      "Cross validating regularization parameter : 0.07812912306842458\n",
      "Cross validating regularization parameter : 0.030751678220209213\n",
      "Cross validating regularization parameter : 0.02781703103121805\n",
      "Cross validating regularization parameter : 0.02661267629804384\n",
      "Cross validating regularization parameter : 0.026598644706393594\n",
      "Cross validating regularization parameter : 0.019244524222245905\n",
      "Cross validating regularization parameter : 0.009115039155733227\n",
      "Cross validating regularization parameter : 0.008742494215783473\n",
      "Cross validating regularization parameter : 0.005140604515475625\n",
      "Cross validating regularization parameter : 0.00513268949441173\n",
      "Cross validating regularization parameter : 0.002634707850261609\n",
      "Cross validating regularization parameter : 0.002628387002646642\n",
      "Cross validating regularization parameter : 0.002583005137112198\n",
      "Cross validating regularization parameter : 0.002270173336245198\n",
      "Cross validating regularization parameter : 0.0010139138404543098\n",
      "Cross validating regularization parameter : 0.0009059632356059088\n",
      "Cross validating regularization parameter : 0.0008335371836300543\n",
      "Cross validating regularization parameter : 0.0008323161585312028\n",
      "Cross validating regularization parameter : 0.0005306681248858888\n",
      "Cross validating regularization parameter : 0.0003407435606860028\n",
      "Cross validating regularization parameter : 0.0003374604247559751\n",
      "Cross validating regularization parameter : 0.00025790953762177274\n",
      "Cross validating regularization parameter : 0.00025551630695749107\n",
      "Cross validating regularization parameter : 0.00023751042221468557\n",
      "Cross validating regularization parameter : 0.00023740418808478774\n",
      "Cross validating regularization parameter : 0.00016702576343183173\n",
      "Cross validating regularization parameter : 0.00014706503787284742\n",
      "Cross validating regularization parameter : 0.00014469862567144628\n",
      "Cross validating regularization parameter : 0.00013408903114619117\n",
      "Cross validating regularization parameter : 0.00013370168764073603\n",
      "Cross validating regularization parameter : 0.0001226649453370038\n",
      "Cross validating regularization parameter : 0.00012167355875224686\n",
      "Cross validating regularization parameter : 0.0001197667561851267\n",
      "Cross validating regularization parameter : 0.00010577193203460963\n",
      "Cross validating regularization parameter : 0.00010490445057972548\n",
      "Cross validating regularization parameter : 0.00010437028439850889\n",
      "Cross validating regularization parameter : 0.00010356010165704989\n",
      "Cross validating regularization parameter : 9.603841177779503e-05\n",
      "Cross validating regularization parameter : 9.356114820713127e-05\n",
      "Cross validating regularization parameter : 9.317396947187142e-05\n",
      "Cross validating regularization parameter : 9.157178805872178e-05\n",
      "Cross validating regularization parameter : 8.744033874204298e-05\n",
      "Cross validating regularization parameter : 8.72232794088887e-05\n",
      "Cross validating regularization parameter : 8.130719109879721e-05\n",
      "Cross validating regularization parameter : 7.955597908196055e-05\n",
      "Cross validating regularization parameter : 5.9388061189335616e-05\n"
     ]
    }
   ],
   "source": [
    "regularization_parameters = eigen_parameters\n",
    "EST_CSD, indx_rp, EE, rp = estimate_csd(cross_reconstructor, potential,\n",
    "                                        regularization_parameters=regularization_parameters)"
   ]
  },
  {
   "cell_type": "code",
   "execution_count": 39,
   "metadata": {},
   "outputs": [],
   "source": [
    "np.savez_compressed(save_path + '/Estimation.npz', EST_CSD_CV=EST_CSD, indx_rp=indx_rp, EE=EE,\n",
    "                    LAMBD=rp, REG_PARAMS=regularization_parameters, L_LAMBD=l_lambd, LCURVE=lcurve_axis,\n",
    "                    EST_CSD_0=EST_CSD_0, EE_0=EE_0, EST_CSD_LC=EST_CSD_LC, EE_LC=EE_LC)"
   ]
  }
 ],
 "metadata": {
  "kernelspec": {
   "display_name": "Python [conda env:kesi37] *",
   "language": "python",
   "name": "conda-env-kesi37-py"
  },
  "language_info": {
   "codemirror_mode": {
    "name": "ipython",
    "version": 3
   },
   "file_extension": ".py",
   "mimetype": "text/x-python",
   "name": "python",
   "nbconvert_exporter": "python",
   "pygments_lexer": "ipython3",
   "version": "3.7.0"
  }
 },
 "nbformat": 4,
 "nbformat_minor": 4
}
