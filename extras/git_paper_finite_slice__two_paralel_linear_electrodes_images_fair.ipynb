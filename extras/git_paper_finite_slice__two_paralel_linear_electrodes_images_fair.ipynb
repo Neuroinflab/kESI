{
 "cells": [
  {
   "cell_type": "code",
   "execution_count": null,
   "metadata": {},
   "outputs": [],
   "source": [
    "import datetime\n",
    "import configparser\n",
    "import os\n",
    "\n",
    "import numpy as np\n",
    "import pandas as pd\n",
    "\n",
    "import kesi\n",
    "import kesi._verbose as verbose\n",
    "import _common_new as common\n",
    "import _fast_reciprocal_reconstructor as frr"
   ]
  },
  {
   "cell_type": "code",
   "execution_count": null,
   "metadata": {},
   "outputs": [],
   "source": [
    "%matplotlib inline\n",
    "import matplotlib.pyplot as plt\n",
    "\n",
    "import cbf"
   ]
  },
  {
   "cell_type": "code",
   "execution_count": null,
   "metadata": {},
   "outputs": [],
   "source": [
    "MODEL_NAME = 'circular_slice'\n",
    "MESH_NAME = 'finer'\n",
    "DEGREE = 3\n",
    "K = 9\n",
    "\n",
    "FILENAME_PATTERN = f'FEM/solutions/paper/{MODEL_NAME}/{MESH_NAME}/{DEGREE}/sampled/{K}/{{name}}.npz'"
   ]
  },
  {
   "cell_type": "code",
   "execution_count": null,
   "metadata": {},
   "outputs": [],
   "source": [
    "BRAIN_CONDUCTIVITY = 0.3  # S / m\n",
    "SALINE_CONDUCTIVITY = 1.5  # S / m\n",
    "H = 3e-4  # m\n",
    "\n",
    "# SD_GT = H / 16\n",
    "# RESOLUTION = 32"
   ]
  },
  {
   "cell_type": "markdown",
   "metadata": {},
   "source": [
    "# FEM"
   ]
  },
  {
   "cell_type": "code",
   "execution_count": null,
   "metadata": {},
   "outputs": [],
   "source": [
    "import dolfin\n",
    "import FEM.fem_common as fc\n",
    "import scipy.interpolate as si"
   ]
  },
  {
   "cell_type": "code",
   "execution_count": null,
   "metadata": {},
   "outputs": [],
   "source": [
    "class ForwardModel(object):\n",
    "    # XXX: duplicated code with FEM classes\n",
    "    \n",
    "    def __init__(self, mesh, degree, config):\n",
    "        self.fm = fc.FunctionManager(mesh, degree, 'CG')\n",
    "        self.config = configparser.ConfigParser()\n",
    "        self.config.read(config)\n",
    "        \n",
    "        mesh_filename = mesh[:-5]\n",
    "#     def __init__(self, config):\n",
    "#         self.fm = fc.FunctionManagerINI(config)\n",
    "        \n",
    "        self.V = self.fm.function_space\n",
    "        mesh = self.fm.mesh\n",
    "\n",
    "        n = self.V.dim()\n",
    "        d = mesh.geometry().dim()\n",
    "\n",
    "        self.dof_coords = self.V.tabulate_dof_coordinates()\n",
    "        self.dof_coords.resize((n, d))\n",
    "        \n",
    "        self.csd_f = self.fm.function()\n",
    "        \n",
    "        \n",
    "#         mesh_filename = self.fm.getpath('fem', 'mesh')[:-5]\n",
    "        with dolfin.XDMFFile(mesh_filename + '_subdomains.xdmf') as fh:\n",
    "            mvc = dolfin.MeshValueCollection(\"size_t\", mesh, 3)\n",
    "            fh.read(mvc, \"subdomains\")\n",
    "            self.subdomains = dolfin.cpp.mesh.MeshFunctionSizet(mesh, mvc)\n",
    "            self.dx = dolfin.Measure(\"dx\")(subdomain_data=self.subdomains)\n",
    "            \n",
    "            \n",
    "#         self.config = configparser.ConfigParser()\n",
    "#         self.config.read(self.fm.getpath('fem', 'config'))\n",
    "\n",
    "    @property\n",
    "    def CONDUCTIVITY(self):\n",
    "        for section in self.config.sections():\n",
    "            if self._is_conductive_volume(section):\n",
    "                yield (self.config.getint(section, 'volume'),\n",
    "                       self.config.getfloat(section, 'conductivity'))\n",
    "\n",
    "    def _is_conductive_volume(self, section):\n",
    "        return (self.config.has_option(section, 'volume')\n",
    "                and self.config.has_option(section, 'conductivity')) \n",
    "        \n",
    "    def __call__(self, csd_interpolator):\n",
    "        self.csd_f.vector()[:] = csd_interpolator(self.dof_coords)\n",
    "        \n",
    "        dirichlet_bc_gt = dolfin.DirichletBC(self.V,\n",
    "                                     dolfin.Constant(0),\n",
    "                                     (lambda x, on_boundary:\n",
    "                                      on_boundary and x[2] > 0))\n",
    "        test = self.fm.test_function()\n",
    "        trial = self.fm.trial_function()\n",
    "        potential = self.fm.function()\n",
    "        \n",
    "        \n",
    "        dx = self.dx\n",
    "        a = sum(dolfin.Constant(c)\n",
    "                * dolfin.inner(dolfin.grad(trial),\n",
    "                               dolfin.grad(test))\n",
    "                * dx(i)\n",
    "                for i, c\n",
    "                in self.CONDUCTIVITY)\n",
    "        L = self.csd_f * test * dx\n",
    "        \n",
    "        b = dolfin.assemble(L)\n",
    "        A = dolfin.assemble(a)\n",
    "        dirichlet_bc_gt.apply(A, b)\n",
    "        \n",
    "        solver = dolfin.KrylovSolver(\"cg\", \"ilu\")\n",
    "        solver.parameters[\"maximum_iterations\"] = 10000\n",
    "        solver.parameters[\"absolute_tolerance\"] = 1E-8\n",
    "        # solver.parameters[\"monitor_convergence\"] = True  # Goes to Jupyter server output stream\n",
    "        solver.solve(A, potential.vector(), b)\n",
    "        \n",
    "        return potential"
   ]
  },
  {
   "cell_type": "code",
   "execution_count": null,
   "metadata": {},
   "outputs": [],
   "source": [
    "%%time\n",
    "fem_gt = ForwardModel('FEM/meshes/meshes/circular_slice/fine.xdmf',\n",
    "                      3,\n",
    "                      'FEM/model_properties/circular_slice.ini')"
   ]
  },
  {
   "cell_type": "markdown",
   "metadata": {},
   "source": [
    "# kernel construction"
   ]
  },
  {
   "cell_type": "code",
   "execution_count": null,
   "metadata": {},
   "outputs": [],
   "source": [
    "electrode_grid_names = [\n",
    "#                         'minus24',\n",
    "                        'minus12',\n",
    "#                         '0',\n",
    "                        '12',\n",
    "#                         '24',\n",
    "                        ]\n",
    "electrode_names = [f'{x}_0_{i}' for i in [\n",
    "                                          6,\n",
    "                                          12,\n",
    "                                          18,\n",
    "                                          24,\n",
    "                                          30,\n",
    "                                          36,\n",
    "                                          42,\n",
    "                                          48,\n",
    "                                          54,\n",
    "                                          60,\n",
    "                                          ]\n",
    "                   for x in electrode_grid_names]"
   ]
  },
  {
   "cell_type": "code",
   "execution_count": null,
   "metadata": {},
   "outputs": [],
   "source": [
    "class Electrode(object):\n",
    "    def __init__(self, filename):\n",
    "        \"\"\"\n",
    "        Parameters\n",
    "        ----------\n",
    "        \n",
    "        filename : str\n",
    "            Path to the sampled correction potential.\n",
    "        \"\"\"\n",
    "        self.filename = filename\n",
    "        with np.load(filename) as fh:\n",
    "            self.SAMPLING_GRID = [fh[c] for c in 'XYZ']\n",
    "            self.x, self.y, self.z = fh['LOCATION']\n",
    "            self.base_conductivity = fh['BASE_CONDUCTIVITY']\n",
    "\n",
    "    def correction_leadfield(self, X, Y, Z):\n",
    "        \"\"\"\n",
    "        Correction of the leadfield of the electrode\n",
    "        for violation of kCSD assumptions\n",
    "        \n",
    "        Parameters\n",
    "        ----------\n",
    "        X, Y, Z : np.array\n",
    "            Coordinate matrices of the same shape.\n",
    "        \"\"\"\n",
    "        with np.load(self.filename) as fh:\n",
    "            return self._correction_leadfield(fh['CORRECTION_POTENTIAL'],\n",
    "                                              [X, Y, Z])\n",
    "\n",
    "    def _correction_leadfield(self, SAMPLES, XYZ):\n",
    "        # if XYZ points are in nodes of the sampling grid,\n",
    "        # no time-consuming interpolation is necessary\n",
    "        return SAMPLES[self._sampling_grid_indices(XYZ)]\n",
    "\n",
    "    def _sampling_grid_indices(self, XYZ):\n",
    "        return tuple(np.searchsorted(GRID, COORD)\n",
    "                     for GRID, COORD in zip(self.SAMPLING_GRID, XYZ))"
   ]
  },
  {
   "cell_type": "code",
   "execution_count": null,
   "metadata": {},
   "outputs": [],
   "source": [
    "ELECTRODES = []\n",
    "for name in electrode_names:\n",
    "    electrode = Electrode(FILENAME_PATTERN.format(name=name))\n",
    "    ELECTRODES.append({'NAME': name,\n",
    "                       'X': electrode.x,\n",
    "                       'Y': electrode.y,\n",
    "                       'Z': electrode.z})\n",
    "ELECTRODES = pd.DataFrame(ELECTRODES)"
   ]
  },
  {
   "cell_type": "code",
   "execution_count": null,
   "metadata": {},
   "outputs": [],
   "source": [
    "plt.scatter(ELECTRODES.X, ELECTRODES.Z)\n",
    "plt.xlim(-H / 2, H / 2)\n",
    "plt.ylim(0, H)"
   ]
  },
  {
   "cell_type": "code",
   "execution_count": null,
   "metadata": {
    "scrolled": true
   },
   "outputs": [],
   "source": [
    "set(np.diff(sorted(set(ELECTRODES.Z * 1000_000))))"
   ]
  },
  {
   "cell_type": "code",
   "execution_count": null,
   "metadata": {},
   "outputs": [],
   "source": [
    "XX, YY, ZZ = electrode.SAMPLING_GRID"
   ]
  },
  {
   "cell_type": "code",
   "execution_count": null,
   "metadata": {},
   "outputs": [],
   "source": [
    "assert electrode.base_conductivity == BRAIN_CONDUCTIVITY"
   ]
  },
  {
   "cell_type": "code",
   "execution_count": null,
   "metadata": {},
   "outputs": [],
   "source": [
    "ROMBERG_K = 6"
   ]
  },
  {
   "cell_type": "code",
   "execution_count": null,
   "metadata": {},
   "outputs": [],
   "source": [
    "dx = (XX[-1] - XX[0]) / (len(XX) - 1)\n",
    "SRC_R_MAX = (2**(ROMBERG_K - 1)) * dx\n",
    "ROMBERG_N = 2**ROMBERG_K + 1\n",
    "print(SRC_R_MAX)"
   ]
  },
  {
   "cell_type": "code",
   "execution_count": null,
   "metadata": {},
   "outputs": [],
   "source": []
  },
  {
   "cell_type": "code",
   "execution_count": null,
   "metadata": {},
   "outputs": [],
   "source": [
    "electrodes = [Electrode(FILENAME_PATTERN.format(name=name))\n",
    "              for name in electrode_names]"
   ]
  },
  {
   "cell_type": "code",
   "execution_count": null,
   "metadata": {},
   "outputs": [],
   "source": [
    "H_Y = H/4\n",
    "X = XX\n",
    "Y = YY[abs(YY) <= H_Y + SRC_R_MAX + dx]\n",
    "Z = ZZ"
   ]
  },
  {
   "cell_type": "code",
   "execution_count": null,
   "metadata": {},
   "outputs": [],
   "source": [
    "convolver = frr.Convolver([X, Y, Z],\n",
    "                          [X, Y, Z])"
   ]
  },
  {
   "cell_type": "code",
   "execution_count": null,
   "metadata": {},
   "outputs": [],
   "source": []
  },
  {
   "cell_type": "code",
   "execution_count": null,
   "metadata": {},
   "outputs": [],
   "source": [
    "sd = SRC_R_MAX / 3\n",
    "def source(x, y, z):\n",
    "    return common.SphericalSplineSourceKCSD(x, y, z,\n",
    "#                                             [SRC_R_MAX],\n",
    "#                                             [[1]],\n",
    "                                             [sd, 3 * sd],\n",
    "                                             [[1],\n",
    "                                              [0,\n",
    "                                               2.25 / sd,\n",
    "                                               -1.5 / sd ** 2,\n",
    "                                               0.25 / sd ** 3]],\n",
    "                                             BRAIN_CONDUCTIVITY)\n",
    "\n",
    "model_src = source(0, 0, 0)"
   ]
  },
  {
   "cell_type": "code",
   "execution_count": null,
   "metadata": {},
   "outputs": [],
   "source": [
    "SRC_MASK = ((abs(convolver.SRC_X) < abs(convolver.SRC_X.max()) - SRC_R_MAX)\n",
    "            & (abs(convolver.SRC_Y) <= H_Y)\n",
    "            & ((convolver.SRC_Z > SRC_R_MAX)\n",
    "               & (convolver.SRC_Z < H - SRC_R_MAX)))"
   ]
  },
  {
   "cell_type": "code",
   "execution_count": null,
   "metadata": {},
   "outputs": [],
   "source": [
    "SRC_MASK.sum(), SRC_MASK.shape"
   ]
  },
  {
   "cell_type": "code",
   "execution_count": null,
   "metadata": {},
   "outputs": [],
   "source": [
    "CSD_MASK = np.ones(convolver.shape('CSD'),\n",
    "                   dtype=bool)"
   ]
  },
  {
   "cell_type": "markdown",
   "metadata": {},
   "source": [
    "# Kernels"
   ]
  },
  {
   "cell_type": "code",
   "execution_count": null,
   "metadata": {},
   "outputs": [],
   "source": [
    "from scipy.integrate import romb\n",
    "\n",
    "ROMBERG_WEIGHTS = romb(np.identity(ROMBERG_N)) * 2 ** -ROMBERG_K\n",
    "\n",
    "convolver_interface = frr.ConvolverInterfaceIndexed(convolver,\n",
    "                                                    model_src.csd,\n",
    "                                                    ROMBERG_WEIGHTS,\n",
    "                                                    SRC_MASK)\n",
    "\n",
    "kernel_constructor = frr.KernelConstructor()\n",
    "kernel_constructor.create_crosskernel = frr.CrossKernelConstructor(convolver_interface,\n",
    "                                                                   CSD_MASK)"
   ]
  },
  {
   "cell_type": "code",
   "execution_count": null,
   "metadata": {},
   "outputs": [],
   "source": [
    "%%time\n",
    "pae_kcsd = frr.PAE_Analytical(convolver_interface,\n",
    "                              potential=model_src.potential)\n",
    "\n",
    "PHI_KCSD = kernel_constructor.create_base_images_at_electrodes(electrodes,\n",
    "                                                               pae_kcsd)\n",
    "KERNEL_KCSD = kernel_constructor.create_kernel(PHI_KCSD)\n",
    "CROSSKERNEL_KCSD = kernel_constructor.create_crosskernel(PHI_KCSD).reshape(convolver.shape('CSD') + (-1,))"
   ]
  },
  {
   "cell_type": "code",
   "execution_count": null,
   "metadata": {
    "scrolled": true
   },
   "outputs": [],
   "source": [
    "%%time\n",
    "pae_kesi = frr.PAE_AnalyticalCorrectedNumerically(convolver_interface,\n",
    "                                                  potential=model_src.potential)\n",
    "\n",
    "PHI_KESI = kernel_constructor.create_base_images_at_electrodes(electrodes,\n",
    "                                                               pae_kesi)\n",
    "KERNEL_KESI = kernel_constructor.create_kernel(PHI_KESI)\n",
    "CROSSKERNEL_KESI = kernel_constructor.create_crosskernel(PHI_KESI).reshape(convolver.shape('CSD') + (-1,))"
   ]
  },
  {
   "cell_type": "markdown",
   "metadata": {},
   "source": [
    "# kernel analysis"
   ]
  },
  {
   "cell_type": "code",
   "execution_count": null,
   "metadata": {},
   "outputs": [],
   "source": [
    "%%time\n",
    "\n",
    "EIGENVALUES_KCSD, EIGENVECTORS_KCSD = np.linalg.eigh(KERNEL_KCSD)\n",
    "EIGENVALUES_KCSD, EIGENVECTORS_KCSD = EIGENVALUES_KCSD[::-1], EIGENVECTORS_KCSD[:, ::-1]\n",
    "LAMBDA_KCSD = np.sqrt(EIGENVALUES_KCSD)\n",
    "EIGENSOURCES_KCSD = np.matmul(PHI_KCSD,\n",
    "                              np.matmul(EIGENVECTORS_KCSD,\n",
    "                                        np.diag(1. / LAMBDA_KCSD)))\n",
    "\n",
    "del PHI_KCSD"
   ]
  },
  {
   "cell_type": "code",
   "execution_count": null,
   "metadata": {},
   "outputs": [],
   "source": [
    "%%time\n",
    "\n",
    "EIGENVALUES_KESI, EIGENVECTORS_KESI = np.linalg.eigh(KERNEL_KESI)\n",
    "EIGENVALUES_KESI, EIGENVECTORS_KESI = EIGENVALUES_KESI[::-1], EIGENVECTORS_KESI[:, ::-1]\n",
    "LAMBDA_KESI = np.sqrt(EIGENVALUES_KESI)\n",
    "EIGENSOURCES_KESI = np.matmul(PHI_KESI,\n",
    "                              np.matmul(EIGENVECTORS_KESI,\n",
    "                                        np.diag(1. / LAMBDA_KESI)))\n",
    "\n",
    "del PHI_KESI"
   ]
  },
  {
   "cell_type": "code",
   "execution_count": null,
   "metadata": {},
   "outputs": [],
   "source": [
    "KCSD_TO_KESI_ES = np.matmul(EIGENSOURCES_KESI.T, EIGENSOURCES_KCSD)"
   ]
  },
  {
   "cell_type": "code",
   "execution_count": null,
   "metadata": {},
   "outputs": [],
   "source": [
    "assert (KCSD_TO_KESI_ES.max(axis=0) > 0).all()"
   ]
  },
  {
   "cell_type": "code",
   "execution_count": null,
   "metadata": {},
   "outputs": [],
   "source": [
    "for i, KESI_PROJECTION in enumerate(KCSD_TO_KESI_ES.T):\n",
    "    _idx = np.argmax(abs(KESI_PROJECTION))\n",
    "    if KESI_PROJECTION[_idx] > 0:\n",
    "        EIGENSOURCES_KCSD[:, i] += EIGENSOURCES_KESI[:, _idx]\n",
    "    else:\n",
    "        EIGENSOURCES_KCSD[:, i] -= EIGENSOURCES_KESI[:, _idx]\n",
    "\n",
    "EIGENSOURCES_MIXED = EIGENSOURCES_KCSD\n",
    "del EIGENSOURCES_KCSD, EIGENSOURCES_KESI\n",
    "EIGENSOURCES_MIXED *= 0.5"
   ]
  },
  {
   "cell_type": "markdown",
   "metadata": {},
   "source": [
    "# IMAGES"
   ]
  },
  {
   "cell_type": "code",
   "execution_count": null,
   "metadata": {},
   "outputs": [],
   "source": [
    "%%time\n",
    "GT_CSD = []\n",
    "\n",
    "_SRC = np.zeros(convolver.shape('SRC'))\n",
    "for i, _SRC[SRC_MASK] in enumerate(EIGENSOURCES_MIXED.T):\n",
    "    print(i)\n",
    "    GT_CSD.append(convolver.base_weights_to_csd(_SRC, model_src.csd, (ROMBERG_N,) * 3))\n",
    "    \n",
    "del _SRC"
   ]
  },
  {
   "cell_type": "code",
   "execution_count": null,
   "metadata": {},
   "outputs": [],
   "source": [
    "%%time\n",
    "IMAGE = []\n",
    "\n",
    "for i, _CSD in enumerate(GT_CSD):\n",
    "    print(i)\n",
    "    _csd = si.RegularGridInterpolator(\n",
    "                                  [getattr(convolver, f'CSD_{x}').flatten()\n",
    "                                   for x in 'XYZ'],\n",
    "                                  _CSD,\n",
    "                                  bounds_error=False,\n",
    "                                  fill_value=0)\n",
    "    _v = fem_gt(_csd)\n",
    "    IMAGE.append(np.array(list(map(_v, ELECTRODES.X, ELECTRODES.Y, ELECTRODES.Z))))\n",
    "\n",
    "del _CSD, _csd, _v"
   ]
  },
  {
   "cell_type": "code",
   "execution_count": null,
   "metadata": {
    "scrolled": false
   },
   "outputs": [],
   "source": [
    "for i, V in enumerate(IMAGE):\n",
    "    plt.figure()\n",
    "    plt.title(i)\n",
    "    plt.axhline(1, ls=':', color=cbf.BLACK)\n",
    "    plt.axvline(i, ls=':', color=cbf.BLACK)\n",
    "    plt.stem(np.matmul(V, EIGENVECTORS_KCSD) / LAMBDA_KCSD)\n",
    "    plt.plot(np.matmul(V, EIGENVECTORS_KESI) / LAMBDA_KESI)"
   ]
  },
  {
   "cell_type": "markdown",
   "metadata": {},
   "source": [
    "## Images error (reconstructed)"
   ]
  },
  {
   "cell_type": "code",
   "execution_count": null,
   "metadata": {
    "scrolled": true
   },
   "outputs": [],
   "source": [
    "%%time\n",
    "IMAGE_ERRORS = []\n",
    "for i, (_CSD_GT, V) in enumerate(zip(GT_CSD, IMAGE)):\n",
    "    print(i)\n",
    "    row = {'ES': i,\n",
    "           'GT_L1': abs(_CSD_GT).mean(),\n",
    "           'GT_L2': np.sqrt(np.square(_CSD_GT).mean()),\n",
    "           'GT_Linf': abs(_CSD_GT).max(),\n",
    "           }\n",
    "    IMAGE_ERRORS.append(row)\n",
    "    for method, _KERNEL, _CROSSKERNEL in [\n",
    "        ('kCSD', KERNEL_KCSD, CROSSKERNEL_KCSD),\n",
    "        ('kESI', KERNEL_KESI, CROSSKERNEL_KESI),\n",
    "        ]:\n",
    "        _DIFF = np.matmul(_CROSSKERNEL,\n",
    "                          np.linalg.solve(_KERNEL, V)) - _CSD_GT\n",
    "        row[f'ERR_{method}_L1'] = abs(_DIFF).mean()\n",
    "        row[f'ERR_{method}_L2'] = np.sqrt(np.square(_DIFF).mean())\n",
    "        row[f'ERR_{method}_Linf'] = abs(_DIFF).max()\n",
    "    print(row)\n",
    "    \n",
    "del _CSD_GT, _DIFF, _CROSSKERNEL, _KERNEL"
   ]
  },
  {
   "cell_type": "code",
   "execution_count": null,
   "metadata": {},
   "outputs": [],
   "source": [
    "IMAGE_ERRORS = pd.DataFrame(IMAGE_ERRORS)"
   ]
  },
  {
   "cell_type": "code",
   "execution_count": null,
   "metadata": {},
   "outputs": [],
   "source": [
    "IMAGE_ERRORS"
   ]
  },
  {
   "cell_type": "code",
   "execution_count": null,
   "metadata": {},
   "outputs": [],
   "source": [
    "for norm in ['L1', 'L2', 'Linf']:\n",
    "    plt.figure()\n",
    "    plt.title(norm)\n",
    "    for method, color, ls in [('kCSD', cbf.SKY_BLUE, '-'),\n",
    "                              ('kESI', cbf.VERMILION, ':'),\n",
    "                             ]:\n",
    "        plt.plot(IMAGE_ERRORS.ES,\n",
    "                 IMAGE_ERRORS[f'ERR_{method}_{norm}'] / IMAGE_ERRORS[f'GT_{norm}'],\n",
    "                 color=color,\n",
    "                 ls=ls,\n",
    "                 label=method)\n",
    "    plt.legend(loc='best')\n",
    "    plt.axhline(1, color=cbf.BLACK, ls=':')\n",
    "    plt.axhline(0.5, color=cbf.BLACK, ls=':')\n",
    "    plt.axhline(0.1, color=cbf.BLACK, ls=':')\n",
    "    plt.axhline(0.05, color=cbf.BLACK, ls=':')\n",
    "    plt.yscale('log')"
   ]
  },
  {
   "cell_type": "markdown",
   "metadata": {},
   "source": [
    "## Images error (reconstructed regularized)"
   ]
  },
  {
   "cell_type": "code",
   "execution_count": null,
   "metadata": {},
   "outputs": [],
   "source": [
    "plt.plot(EIGENVALUES_KCSD)\n",
    "plt.plot(EIGENVALUES_KESI)\n",
    "plt.yscale('log')"
   ]
  },
  {
   "cell_type": "code",
   "execution_count": null,
   "metadata": {},
   "outputs": [],
   "source": [
    "REGULARIZATION_PARAMETERS = np.logspace(11, 17, 5 * 6 + 1)"
   ]
  },
  {
   "cell_type": "code",
   "execution_count": null,
   "metadata": {},
   "outputs": [],
   "source": [
    "es_reconstructors = {method: verbose.VerboseFFR._CrossKernelReconstructor(\n",
    "                                                     kesi._engine._LinearKernelSolver(\n",
    "                                                         _KERNEL),\n",
    "                                                     np.matmul(np.diag(_LAMBDA),\n",
    "                                                               _EIGENVECTORS.T))\n",
    "                     for method, _KERNEL, _EIGENVECTORS, _LAMBDA\n",
    "                     in [('kCSD', KERNEL_KCSD, EIGENVECTORS_KCSD, LAMBDA_KCSD),\n",
    "                         ('kESI', KERNEL_KESI, EIGENVECTORS_KESI, LAMBDA_KESI),\n",
    "                         ]\n",
    "                     }"
   ]
  },
  {
   "cell_type": "code",
   "execution_count": null,
   "metadata": {
    "scrolled": true
   },
   "outputs": [],
   "source": [
    "%%time\n",
    "IMAGE_ERRORS_CV = []\n",
    "for i, (_CSD_GT, V) in enumerate(zip(GT_CSD, IMAGE)):\n",
    "    print(i)\n",
    "    row = {'ES': i,\n",
    "           'GT_L1': abs(_CSD_GT).mean(),\n",
    "           'GT_L2': np.sqrt(np.square(_CSD_GT).mean()),\n",
    "           'GT_Linf': abs(_CSD_GT).max(),\n",
    "           }\n",
    "    IMAGE_ERRORS_CV.append(row)\n",
    "\n",
    "    for method, _KERNEL, _CROSSKERNEL in [\n",
    "        ('kCSD', KERNEL_KCSD, CROSSKERNEL_KCSD),\n",
    "        ('kESI', KERNEL_KESI, CROSSKERNEL_KESI),\n",
    "        ]:\n",
    "        _ERRORS = common.cv(es_reconstructors[method],\n",
    "                            V,\n",
    "                            REGULARIZATION_PARAMETERS)\n",
    "        regularization_parameter = REGULARIZATION_PARAMETERS[np.argmin(_ERRORS)]\n",
    "\n",
    "        _DIFF = np.matmul(_CROSSKERNEL,\n",
    "                          np.linalg.solve(_KERNEL\n",
    "                                          + regularization_parameter * np.identity(len(_KERNEL)),\n",
    "                                          V)) - _CSD_GT\n",
    "        row[f'ERR_{method}_L1'] = abs(_DIFF).mean()\n",
    "        row[f'ERR_{method}_L2'] = np.sqrt(np.square(_DIFF).mean())\n",
    "        row[f'ERR_{method}_Linf'] = abs(_DIFF).max()\n",
    "    \n",
    "del _CSD_GT, _DIFF, _CROSSKERNEL, _KERNEL"
   ]
  },
  {
   "cell_type": "code",
   "execution_count": null,
   "metadata": {},
   "outputs": [],
   "source": [
    "IMAGE_ERRORS_CV = pd.DataFrame(IMAGE_ERRORS_CV)"
   ]
  },
  {
   "cell_type": "code",
   "execution_count": null,
   "metadata": {},
   "outputs": [],
   "source": [
    "IMAGE_ERRORS_CV"
   ]
  },
  {
   "cell_type": "code",
   "execution_count": null,
   "metadata": {},
   "outputs": [],
   "source": [
    "for norm in ['L1', 'L2', 'Linf']:\n",
    "    plt.figure()\n",
    "    plt.title(norm)\n",
    "    for method, color, ls in [('kCSD', cbf.SKY_BLUE, '-'),\n",
    "                              ('kESI', cbf.VERMILION, ':'),\n",
    "                             ]:\n",
    "        plt.plot(IMAGE_ERRORS_CV.ES,\n",
    "                 IMAGE_ERRORS_CV[f'ERR_{method}_{norm}'] / IMAGE_ERRORS_CV[f'GT_{norm}'],\n",
    "                 color=color,\n",
    "                 ls=ls,\n",
    "                 label=method)\n",
    "    plt.legend(loc='best')\n",
    "    plt.axhline(1, color=cbf.BLACK, ls=':')\n",
    "    plt.axhline(0.5, color=cbf.BLACK, ls=':')\n",
    "    plt.axhline(0.1, color=cbf.BLACK, ls=':')\n",
    "    plt.axhline(0.05, color=cbf.BLACK, ls=':')\n",
    "    plt.yscale('log')"
   ]
  },
  {
   "cell_type": "markdown",
   "metadata": {},
   "source": [
    "## compare approaches"
   ]
  },
  {
   "cell_type": "code",
   "execution_count": null,
   "metadata": {},
   "outputs": [],
   "source": [
    "for norm in ['L1', 'L2', 'Linf']:\n",
    "    assert abs(IMAGE_ERRORS[f'GT_{norm}'] - IMAGE_ERRORS_CV[f'GT_{norm}']).max() == 0"
   ]
  },
  {
   "cell_type": "code",
   "execution_count": null,
   "metadata": {},
   "outputs": [],
   "source": [
    "for norm in ['L1', 'L2', 'Linf']:\n",
    "    plt.figure()\n",
    "    plt.title(norm)\n",
    "    for method, color in [('kCSD', cbf.SKY_BLUE),\n",
    "                          ('kESI', cbf.VERMILION),\n",
    "                         ]:\n",
    "        plt.plot(IMAGE_ERRORS.ES,\n",
    "                 IMAGE_ERRORS[f'ERR_{method}_{norm}'] / IMAGE_ERRORS[f'GT_{norm}'],\n",
    "                 color=color,\n",
    "                 ls='-',\n",
    "                 label=method)\n",
    "        plt.plot(IMAGE_ERRORS_CV.ES,\n",
    "                 IMAGE_ERRORS_CV[f'ERR_{method}_{norm}'] / IMAGE_ERRORS_CV[f'GT_{norm}'],\n",
    "                 color=color,\n",
    "                 ls=':',\n",
    "                 label=f'{method} (CV)')\n",
    "\n",
    "    plt.legend(loc='best')\n",
    "    plt.axhline(1, color=cbf.BLACK, ls=':')\n",
    "    plt.axhline(0.5, color=cbf.BLACK, ls=':')\n",
    "    plt.axhline(0.1, color=cbf.BLACK, ls=':')\n",
    "    plt.axhline(0.05, color=cbf.BLACK, ls=':')\n",
    "    plt.yscale('log')"
   ]
  },
  {
   "cell_type": "code",
   "execution_count": null,
   "metadata": {},
   "outputs": [],
   "source": []
  },
  {
   "cell_type": "code",
   "execution_count": null,
   "metadata": {},
   "outputs": [],
   "source": []
  }
 ],
 "metadata": {
  "kernelspec": {
   "display_name": "Python [conda env:kesi37]",
   "language": "python",
   "name": "conda-env-kesi37-py"
  },
  "language_info": {
   "codemirror_mode": {
    "name": "ipython",
    "version": 3
   },
   "file_extension": ".py",
   "mimetype": "text/x-python",
   "name": "python",
   "nbconvert_exporter": "python",
   "pygments_lexer": "ipython3",
   "version": "3.7.12"
  }
 },
 "nbformat": 4,
 "nbformat_minor": 4
}
