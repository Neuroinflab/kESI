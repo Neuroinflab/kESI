{
 "cells": [
  {
   "cell_type": "markdown",
   "metadata": {},
   "source": [
    "Please note that this tutorial is focused at reconstructing CSD timeseries\n",
    "at a subset of the _CSD_ grid.  For sake of simplicity it uses kCSD\n",
    "(cross)kernels only.\n",
    "To learn, how to create kESI (cross)kernels please consult\n",
    "_tutorial\\_*\\_basics\\_explained.ipynb_.  To compare the reconstructed CSD\n",
    "with kCSD reconstruction at all nodes of the _CSD_ grid please run\n",
    "one of _tutorial\\_slice\\[\\_basics\\_explained\\].ipynb_ notebooks."
   ]
  },
  {
   "cell_type": "markdown",
   "metadata": {},
   "source": [
    "# Requirements\n",
    "\n",
    "## Memory\n",
    "\n",
    "The code of the notebook requires at least 1.8 GB (1.7 GiB) of free memory.\n",
    "\n",
    "\n",
    "## Environment\n",
    "\n",
    "1. Anaconda Python distribution (tested with _Miniconda3-py39\\_4.12.0-Linux-x86\\_64.sh_, _conda v. 4.12.0_).\n",
    "2. Jupyter server (see _extras/jupyter\\_server.sh_ for details).\n",
    "3. Anaconda environments (run _setup\\_conda\\_envs.sh_)."
   ]
  },
  {
   "cell_type": "markdown",
   "metadata": {},
   "source": [
    "# FRR: Fast Reciprocal Reconstructor kernel construction tools"
   ]
  },
  {
   "cell_type": "markdown",
   "metadata": {},
   "source": [
    "## Electrode object\n",
    "\n",
    "The implementation of the electrode object is minimal necessary for construction of a kCSD (cross)kernel."
   ]
  },
  {
   "cell_type": "code",
   "execution_count": null,
   "metadata": {},
   "outputs": [],
   "source": [
    "import collections\n",
    "\n",
    "Electrode = collections.namedtuple('Electrode',\n",
    "                                   ['x', 'y', 'z', 'conductivity'])"
   ]
  },
  {
   "cell_type": "markdown",
   "metadata": {},
   "source": [
    "We use the same positions of electrodes as _tutorial\\_slice\\[\\_basics\\_explained\\].ipynb_ notebooks."
   ]
  },
  {
   "cell_type": "code",
   "execution_count": null,
   "metadata": {},
   "outputs": [],
   "source": [
    "CONDUCTIVITY = 0.3  # S/m\n",
    "\n",
    "ELECTRODES_XYZ = [(0.0, 0.0, 5e-05),\n",
    "                  (5e-05, 0.0, 0.00015),\n",
    "                  (5e-05, -5e-05, 0.00025)]\n",
    "\n",
    "electrodes = [Electrode(x, y, z, CONDUCTIVITY) for x, y, z in ELECTRODES_XYZ]"
   ]
  },
  {
   "cell_type": "markdown",
   "metadata": {},
   "source": [
    "## Model source\n",
    "\n",
    "We want to use CSD bases 36μm wide ($R = 18\\mu{}m$)."
   ]
  },
  {
   "cell_type": "code",
   "execution_count": null,
   "metadata": {},
   "outputs": [],
   "source": [
    "from common import SphericalSplineSourceKCSD\n",
    "\n",
    "SRC_R = 18e-6  # m\n",
    "\n",
    "spline_nodes = [SRC_R / 3, SRC_R]\n",
    "spline_polynomials = [[1],\n",
    "                      [0,\n",
    "                       6.75 / SRC_R,\n",
    "                       -13.5 / SRC_R ** 2,\n",
    "                       6.75 / SRC_R ** 3]]\n",
    "model_src = SphericalSplineSourceKCSD(0, 0, 0,\n",
    "                                      spline_nodes,\n",
    "                                      spline_polynomials)"
   ]
  },
  {
   "cell_type": "markdown",
   "metadata": {},
   "source": [
    "## Convolver object"
   ]
  },
  {
   "cell_type": "code",
   "execution_count": null,
   "metadata": {},
   "outputs": [],
   "source": [
    "import numpy as np\n",
    "from kesi.kernel.constructor import Convolver\n",
    "\n",
    "ROMBERG_K = 5\n",
    "Z_MIN = 0\n",
    "Z_MAX = 3e-4\n",
    "XY_AMP = 1.5e-4\n",
    "\n",
    "_h_min = SRC_R * 2**(1 - ROMBERG_K)\n",
    "_X = _Y = np.linspace(-XY_AMP, XY_AMP, int(np.floor(2 * XY_AMP / _h_min)) + 1)\n",
    "_Z = np.linspace(Z_MIN, Z_MAX, int(np.floor((Z_MAX - Z_MIN) / _h_min)) + 1)\n",
    "\n",
    "_csd_grid = _pot_grid = [_X, _Y, _Z]\n",
    "\n",
    "convolver = Convolver(_pot_grid, _csd_grid)\n",
    "\n",
    "for _h in convolver.steps('POT'):\n",
    "    assert _h >= _h_min, f'{_h} < {_h_min}'"
   ]
  },
  {
   "cell_type": "markdown",
   "metadata": {},
   "source": [
    "## Convolver interface"
   ]
  },
  {
   "cell_type": "code",
   "execution_count": null,
   "metadata": {},
   "outputs": [],
   "source": [
    "from kesi.kernel.constructor import ConvolverInterfaceIndexed\n",
    "from scipy.integrate import romb\n",
    "\n",
    "ROMBERG_N = 2 ** ROMBERG_K + 1\n",
    "ROMBERG_WEIGHTS = romb(np.identity(ROMBERG_N), dx=2 ** -ROMBERG_K)\n",
    "\n",
    "SRC_MASK = ((convolver.SRC_Z > Z_MIN + SRC_R)\n",
    "            & (convolver.SRC_Z < Z_MAX - SRC_R)\n",
    "            & (abs(convolver.SRC_X) < XY_AMP - SRC_R)\n",
    "            & (abs(convolver.SRC_Y) < XY_AMP - SRC_R))"
   ]
  },
  {
   "cell_type": "code",
   "execution_count": null,
   "metadata": {},
   "outputs": [],
   "source": [
    "print(SRC_MASK.sum())"
   ]
  },
  {
   "cell_type": "code",
   "execution_count": null,
   "metadata": {},
   "outputs": [],
   "source": [
    "convolver_interface = ConvolverInterfaceIndexed(convolver,\n",
    "                                                model_src.csd,\n",
    "                                                ROMBERG_WEIGHTS,\n",
    "                                                SRC_MASK)"
   ]
  },
  {
   "cell_type": "markdown",
   "metadata": {},
   "source": [
    "## Potential At Electrode object"
   ]
  },
  {
   "cell_type": "markdown",
   "metadata": {},
   "source": [
    "### Potential At Electrode: analytical solution of the forward problem (kCSD)"
   ]
  },
  {
   "cell_type": "code",
   "execution_count": null,
   "metadata": {},
   "outputs": [],
   "source": [
    "from kesi.kernel import potential_basis_functions as pbf"
   ]
  },
  {
   "cell_type": "code",
   "execution_count": null,
   "metadata": {},
   "outputs": [],
   "source": [
    "pbf_kcsd = pbf.Analytical(convolver_interface,\n",
    "                          potential=model_src.potential)"
   ]
  },
  {
   "cell_type": "markdown",
   "metadata": {},
   "source": [
    "## Kernel constructor and cross-kernel constructor"
   ]
  },
  {
   "cell_type": "code",
   "execution_count": null,
   "metadata": {},
   "outputs": [],
   "source": [
    "from kesi.kernel.constructor import KernelConstructor, CrossKernelConstructor\n",
    "\n",
    "kernel_constructor = KernelConstructor()"
   ]
  },
  {
   "cell_type": "markdown",
   "metadata": {},
   "source": [
    "To calculate the cross-kernel matrix we need to select nodes of the _CSD_ grid.\n",
    "We are going to visualise current source density in the cardinal planes,\n",
    "thus in the boolean mask we select the closest nodes to the planes.\n",
    "First we unequivocally define the planes by their intersection point."
   ]
  },
  {
   "cell_type": "code",
   "execution_count": null,
   "metadata": {},
   "outputs": [],
   "source": [
    "cardinal_plane_x = 5e-5\n",
    "cardinal_plane_y = 0\n",
    "cardinal_plane_z = 1.5e-4\n",
    "\n",
    "cardinal_plane_intersection = [cardinal_plane_x,\n",
    "                               cardinal_plane_y,\n",
    "                               cardinal_plane_z]"
   ]
  },
  {
   "cell_type": "markdown",
   "metadata": {},
   "source": [
    "We find indices of the closest (to the intersection point) node of the _CSD_ grid."
   ]
  },
  {
   "cell_type": "code",
   "execution_count": null,
   "metadata": {},
   "outputs": [],
   "source": [
    "cardinal_plane_indices = [np.argmin(abs(_C - _c))\n",
    "                          for _C, _c in zip(convolver.CSD_GRID,\n",
    "                                            cardinal_plane_intersection)]"
   ]
  },
  {
   "cell_type": "markdown",
   "metadata": {},
   "source": [
    "With the indices we select the closest (to the cardinal planes) nodes of the _CSD_ grid.\n",
    "<!-- We define an auxilary function `one_hot(i, n)` which returns `n`-long vector which all elements but `i`-th are `0` (and the `i`-th element is `1`). -->"
   ]
  },
  {
   "cell_type": "code",
   "execution_count": null,
   "metadata": {},
   "outputs": [],
   "source": [
    "CSD_MASK = np.zeros(convolver.csd_shape,\n",
    "                    dtype=bool)\n",
    "CSD_MASK[cardinal_plane_indices[0], :, :] = True\n",
    "CSD_MASK[:, cardinal_plane_indices[1], :] = True\n",
    "CSD_MASK[:, :, cardinal_plane_indices[2]] = True\n",
    "\n",
    "# def one_hot(i, n):\n",
    "#     return np.arange(n) == i\n",
    "\n",
    "# _masks = [np.reshape(one_hot(_idx, n),\n",
    "#                      np.where(one_hot(i, 3), -1, 1))\n",
    "#           for i, (_idx, n) in enumerate(zip(cardinal_plane_indices,\n",
    "#                                             convolver.csd_shape))]\n",
    "\n",
    "# CSD_MASK = _masks[0] | _masks[1] | _masks[2]"
   ]
  },
  {
   "cell_type": "markdown",
   "metadata": {},
   "source": [
    "We count the selected nodes."
   ]
  },
  {
   "cell_type": "code",
   "execution_count": null,
   "metadata": {},
   "outputs": [],
   "source": [
    "n_csd_nodes = CSD_MASK.sum()\n",
    "print(f'{n_csd_nodes} nodes of the CSD grid selected.')"
   ]
  },
  {
   "cell_type": "markdown",
   "metadata": {},
   "source": [
    "We also keep the coordinates of the selected nodes for further use."
   ]
  },
  {
   "cell_type": "code",
   "execution_count": null,
   "metadata": {},
   "outputs": [],
   "source": [
    "CSD_X, CSD_Y, CSD_Z = [A[CSD_MASK] for A in convolver_interface.meshgrid('CSD')]"
   ]
  },
  {
   "cell_type": "markdown",
   "metadata": {},
   "source": [
    "We use the `CSD_MASK` to create a cross-kernel constructor."
   ]
  },
  {
   "cell_type": "code",
   "execution_count": null,
   "metadata": {},
   "outputs": [],
   "source": [
    "kernel_constructor.create_crosskernel = CrossKernelConstructor(convolver_interface,\n",
    "                                                               CSD_MASK)"
   ]
  },
  {
   "cell_type": "markdown",
   "metadata": {},
   "source": [
    "To retrieve three CSD planes from CSD vector we define an auxilary function `to_planes()`.\n",
    "The function uses three index arrays to select (and arrange) appropriate elements of the vector."
   ]
  },
  {
   "cell_type": "code",
   "execution_count": null,
   "metadata": {},
   "outputs": [],
   "source": [
    "# As we reconstruct CSD at n_csd_nodes points,\n",
    "# n_csd_nodes is invalid index value for the\n",
    "# reconstructed CSD vector.\n",
    "\n",
    "_CSD_IDX = np.full_like(CSD_MASK, n_csd_nodes,\n",
    "                        dtype=np.int32)\n",
    "_CSD_IDX[CSD_MASK] = np.arange(n_csd_nodes)\n",
    "\n",
    "CARDINAL_PLANE_INDICES = [_CSD_IDX[cardinal_plane_indices[0], :, :].copy(),\n",
    "                          _CSD_IDX[:, cardinal_plane_indices[1], :].copy(),\n",
    "                          _CSD_IDX[:, :, cardinal_plane_indices[2]].copy()\n",
    "                          ]\n",
    "del _CSD_IDX\n",
    "\n",
    "# We test, whether all indices are valid.\n",
    "\n",
    "for _A in CARDINAL_PLANE_INDICES:\n",
    "    assert _A.min() >= 0 and _A.max() < CSD_MASK.sum()\n",
    "    \n",
    "def to_planes(CSD):\n",
    "    return [CSD[IDX] for IDX in CARDINAL_PLANE_INDICES]"
   ]
  },
  {
   "cell_type": "markdown",
   "metadata": {},
   "source": [
    "# Reconstructor"
   ]
  },
  {
   "cell_type": "markdown",
   "metadata": {},
   "source": [
    "## Construction of kernels"
   ]
  },
  {
   "cell_type": "code",
   "execution_count": null,
   "metadata": {},
   "outputs": [],
   "source": [
    "%%time\n",
    "PHI = kernel_constructor.create_base_images_at_electrodes(electrodes,\n",
    "                                                          pbf_kcsd)"
   ]
  },
  {
   "cell_type": "code",
   "execution_count": null,
   "metadata": {},
   "outputs": [],
   "source": [
    "KERNEL = kernel_constructor.create_kernel(PHI)"
   ]
  },
  {
   "cell_type": "code",
   "execution_count": null,
   "metadata": {},
   "outputs": [],
   "source": [
    "%%time\n",
    "CROSSKERNEL = kernel_constructor.create_crosskernel(PHI)"
   ]
  },
  {
   "cell_type": "code",
   "execution_count": null,
   "metadata": {},
   "outputs": [],
   "source": [
    "del PHI  # the array is large and no longer needed"
   ]
  },
  {
   "cell_type": "markdown",
   "metadata": {},
   "source": [
    "## Reconstructor object"
   ]
  },
  {
   "cell_type": "code",
   "execution_count": null,
   "metadata": {},
   "outputs": [],
   "source": [
    "from kesi._verbose import _CrossKernelReconstructor as Reconstructor\n",
    "from kesi._engine import _LinearKernelSolver as KernelSolver\n",
    "\n",
    "reconstructor = Reconstructor(KernelSolver(KERNEL),\n",
    "                              CROSSKERNEL)"
   ]
  },
  {
   "cell_type": "markdown",
   "metadata": {},
   "source": [
    "# Visualisation"
   ]
  },
  {
   "cell_type": "code",
   "execution_count": null,
   "metadata": {},
   "outputs": [],
   "source": [
    "import matplotlib.pyplot as plt\n",
    "import cbf\n",
    "\n",
    "class CardinalPlaneVisualisation(object):\n",
    "    def __init__(self,\n",
    "                 grid,\n",
    "                 plane_intersection,\n",
    "                 dpi=35,\n",
    "                 cmap=cbf.bwr,\n",
    "                 amp=None,\n",
    "                 length_factor=1,\n",
    "                 length_unit='$m$',\n",
    "                 unit_factor=1,\n",
    "                 unit=''):\n",
    "        self.grid = grid\n",
    "        self.plane_intersection = np.array(plane_intersection)\n",
    "        self.dpi = dpi\n",
    "        self.cmap = cmap\n",
    "        self.amp = amp\n",
    "        self.length_factor = length_factor\n",
    "        self.length_unit = length_unit\n",
    "        self.unit_factor = unit_factor\n",
    "        self.unit = unit\n",
    "    \n",
    "    def start_new_image(self, title, wx, wy, wz):\n",
    "        self.fig = plt.figure(figsize=((wx + wy) / self.dpi,\n",
    "                                       (wz + wy) / self.dpi))\n",
    "        if title is not None:\n",
    "            self.fig.suptitle(title)\n",
    "\n",
    "        gs = plt.GridSpec(2, 2,\n",
    "                          figure=self.fig,\n",
    "                          width_ratios=[wx, wy],\n",
    "                          height_ratios=[wz, wy])\n",
    "\n",
    "        self.ax_xz = self.fig.add_subplot(gs[0, 0])\n",
    "        self.ax_xz.set_aspect('equal')\n",
    "        self.ax_xz.set_ylabel(f'Z [{self.length_unit}]')\n",
    "        self.ax_xz.set_xlabel(f'X [{self.length_unit}]')\n",
    "\n",
    "        self.ax_yx = self.fig.add_subplot(gs[1, 1])\n",
    "        self.ax_yx.set_aspect('equal')\n",
    "        self.ax_yx.set_ylabel(f'X [{self.length_unit}]')\n",
    "        self.ax_yx.set_xlabel(f'Y [{self.length_unit}]')\n",
    "\n",
    "        self.ax_yz = self.fig.add_subplot(gs[0, 1],\n",
    "                                          sharey=self.ax_xz,\n",
    "                                          sharex=self.ax_yx)\n",
    "        self.ax_yz.set_aspect('equal')\n",
    "\n",
    "        self.cax = self.fig.add_subplot(gs[1, 0])\n",
    "        self.cax.set_visible(False)\n",
    "\n",
    "    def finish_image(self):\n",
    "        x, y, z = self.length_factor * self.plane_intersection\n",
    "\n",
    "        self.ax_xz.axvline(x, ls=':', color=cbf.BLACK)\n",
    "        self.ax_xz.axhline(z, ls=':', color=cbf.BLACK)\n",
    "\n",
    "        self.ax_yx.axvline(y, ls=':', color=cbf.BLACK)\n",
    "        self.ax_yx.axhline(x, ls=':', color=cbf.BLACK)\n",
    "\n",
    "        self.ax_yz.axvline(y, ls=':', color=cbf.BLACK)\n",
    "        self.ax_yz.axhline(z, ls=':', color=cbf.BLACK)\n",
    "        self.fig.colorbar(self.im, ax=self.cax,\n",
    "                          orientation='horizontal',\n",
    "                          label=self.unit)\n",
    "\n",
    "    def _plot_planes(self, DATA_PLANES, amp):\n",
    "        DATA_ZY = DATA_PLANES[0].T * self.unit_factor\n",
    "        DATA_ZX = DATA_PLANES[1].T * self.unit_factor\n",
    "        DATA_XY = DATA_PLANES[2] * self.unit_factor\n",
    "        \n",
    "        def _extent(first, second):\n",
    "            _first = self.grid[first] * self.length_factor\n",
    "            _second = self.grid[second] * self.length_factor\n",
    "            return (_first.min(), _first.max(),\n",
    "                    _second.min(), _second.max())\n",
    "\n",
    "        self.ax_xz.imshow(DATA_ZX,\n",
    "                          vmin=-amp * self.unit_factor,\n",
    "                          vmax=amp * self.unit_factor,\n",
    "                          cmap=self.cmap,\n",
    "                          origin='lower',\n",
    "                          extent=_extent(0, 2))\n",
    "        self.ax_yx.imshow(DATA_XY,\n",
    "                          vmin=-amp * self.unit_factor,\n",
    "                          vmax=amp * self.unit_factor,\n",
    "                          cmap=self.cmap,\n",
    "                          origin='lower',\n",
    "                          extent=_extent(1, 0))\n",
    "        self.im = self.ax_yz.imshow(DATA_ZY,\n",
    "                                    vmin=-amp * self.unit_factor,\n",
    "                                    vmax=amp * self.unit_factor,\n",
    "                                    cmap=self.cmap,\n",
    "                                    origin='lower',\n",
    "                                    extent=_extent(1, 2))\n",
    "\n",
    "    def plot_planes(self,\n",
    "                    DATA_PLANES,\n",
    "                    title=None,\n",
    "                    amp=None):\n",
    "\n",
    "        DATA_YZ, DATA_XZ, DATA_XY = DATA_PLANES\n",
    "        wx, wy = DATA_XY.shape\n",
    "        wz = DATA_YZ.shape[1]\n",
    "        assert DATA_YZ.shape[0] == wy\n",
    "        assert DATA_XZ.shape[0] == wx\n",
    "        assert DATA_XZ.shape[1] == wz\n",
    "        \n",
    "        self.start_new_image(title, wx, wy, wz)\n",
    "        self._plot_planes(DATA_PLANES,\n",
    "                          amp if amp is not None else max(abs(_A).max() for _A in DATA_PLANES))\n",
    "        self.finish_image()"
   ]
  },
  {
   "cell_type": "code",
   "execution_count": null,
   "metadata": {},
   "outputs": [],
   "source": [
    "csd_plotter = CardinalPlaneVisualisation([_x.flatten() for _x in convolver.CSD_GRID],\n",
    "                                         cardinal_plane_intersection,\n",
    "                                         unit_factor=1e-12,\n",
    "                                         unit='$\\\\frac{\\\\mu{}A}{mm^3}$',\n",
    "                                         length_factor=1e6,\n",
    "                                         length_unit='$\\\\mu{}m$')"
   ]
  },
  {
   "cell_type": "markdown",
   "metadata": {},
   "source": [
    "# Reconstruction"
   ]
  },
  {
   "cell_type": "markdown",
   "metadata": {},
   "source": [
    "Potential values (given in $\\mu{}V$) are stored in a $N \\times T$ matrix\n",
    "(here $N = T = 3$).  Each of its $N$ rows corresponds to an electrode,\n",
    "while each of its $T$ columns corresponds to a timepoint.\n",
    "Values for the first timepoint were calculated from ground truth CSD\n",
    "in the _tutorial\\_slice.ipynb_ notebook (`GT_V` there)."
   ]
  },
  {
   "cell_type": "code",
   "execution_count": null,
   "metadata": {},
   "outputs": [],
   "source": [
    "POTENTIAL = np.array([[-126548.99282495,  -28969.86519294,    7709.33415335],\n",
    "                      [-119140.53771587,   -3543.25964668,  -11594.77447688],\n",
    "                      [ -73225.23867845,   15868.45761855,    5937.64717958]])"
   ]
  },
  {
   "cell_type": "markdown",
   "metadata": {},
   "source": [
    "The reconstructor returns a $\\tilde{\\underline{N}} \\times T$ matrix of CSD values.\n",
    "Each of its $T$ columns corresponds to a timepoint\n",
    "while each of its $\\tilde{\\underline{N}}$ rows corresponds to a selectrd node\n",
    "of the _CSD_ grid."
   ]
  },
  {
   "cell_type": "code",
   "execution_count": null,
   "metadata": {},
   "outputs": [],
   "source": [
    "%%time\n",
    "CSD = reconstructor(POTENTIAL)"
   ]
  },
  {
   "cell_type": "markdown",
   "metadata": {},
   "source": [
    "Its first column should be same as the kCSD reconstruction\n",
    "in _tutorial\\_slice\\[\\_basics\\_explained\\].ipynb_ notebooks."
   ]
  },
  {
   "cell_type": "code",
   "execution_count": null,
   "metadata": {
    "scrolled": false
   },
   "outputs": [],
   "source": [
    "csd_plotter.plot_planes(to_planes(CSD[:, 0]),\n",
    "                        title='kCSD reconstruction from slice tutorial notebook')"
   ]
  },
  {
   "cell_type": "markdown",
   "metadata": {},
   "source": [
    "We may also plot the remaining timepoints."
   ]
  },
  {
   "cell_type": "code",
   "execution_count": null,
   "metadata": {
    "scrolled": false
   },
   "outputs": [],
   "source": [
    "for i in [1, 2]:\n",
    "    csd_plotter.plot_planes(to_planes(CSD[:, i]),\n",
    "                            title=f'kCSD reconstruction at timepoint #{i}')"
   ]
  },
  {
   "cell_type": "markdown",
   "metadata": {},
   "source": [
    "## Regularization"
   ]
  },
  {
   "cell_type": "code",
   "execution_count": null,
   "metadata": {},
   "outputs": [],
   "source": [
    "EIGENVALUES = np.linalg.eigvalsh(KERNEL)[::-1]\n",
    "\n",
    "plt.plot(EIGENVALUES,\n",
    "         marker='o')\n",
    "\n",
    "plt.yscale('log')"
   ]
  },
  {
   "cell_type": "code",
   "execution_count": null,
   "metadata": {},
   "outputs": [],
   "source": [
    "REGULARIZATION_PARAMETERS = np.logspace(10, 20, 10 * 10 + 1)"
   ]
  },
  {
   "cell_type": "markdown",
   "metadata": {},
   "source": [
    "### One-leave-out cross-validation\n",
    "\n",
    "We can choose one regularization parameter for all timepoints."
   ]
  },
  {
   "cell_type": "code",
   "execution_count": null,
   "metadata": {},
   "outputs": [],
   "source": [
    "from common import cv"
   ]
  },
  {
   "cell_type": "code",
   "execution_count": null,
   "metadata": {},
   "outputs": [],
   "source": [
    "%%time\n",
    "CV_ERRORS = cv(reconstructor, POTENTIAL, REGULARIZATION_PARAMETERS)"
   ]
  },
  {
   "cell_type": "code",
   "execution_count": null,
   "metadata": {},
   "outputs": [],
   "source": [
    "regularization_parameter = REGULARIZATION_PARAMETERS[np.argmin(CV_ERRORS)]"
   ]
  },
  {
   "cell_type": "code",
   "execution_count": null,
   "metadata": {},
   "outputs": [],
   "source": [
    "plt.plot(REGULARIZATION_PARAMETERS,\n",
    "         CV_ERRORS,\n",
    "         color=cbf.BLUE)\n",
    "plt.axvline(regularization_parameter,\n",
    "            ls=(0, (1, 2)),\n",
    "            color=cbf.BLUE)\n",
    "plt.xscale('log')\n",
    "plt.xlabel('regularization parameter')\n",
    "plt.yscale('log')\n",
    "plt.ylabel('L2 norm of cross-validation error')"
   ]
  },
  {
   "cell_type": "markdown",
   "metadata": {},
   "source": [
    "As the smallest value of `REGULARIZATION_PARAMETERS` has been chosen (which is 4 orders of magnitude smaller than any of the kernel eigenvalues), it seems that cross-validation is against regularization."
   ]
  },
  {
   "cell_type": "markdown",
   "metadata": {},
   "source": [
    "We can also try to calculate a separate regularization parameter for each timepoint."
   ]
  },
  {
   "cell_type": "code",
   "execution_count": null,
   "metadata": {},
   "outputs": [],
   "source": [
    "for i, (color, ls) in enumerate([(cbf.BLUE, '-'),\n",
    "                                 (cbf.VERMILION, '--'),\n",
    "                                 (cbf.GREEN, ':'),\n",
    "                                ]):\n",
    "    _CV_ERRORS = cv(reconstructor, POTENTIAL[:, i], REGULARIZATION_PARAMETERS)\n",
    "    _regularization_parameter = REGULARIZATION_PARAMETERS[np.argmin(_CV_ERRORS)]\n",
    "    plt.plot(REGULARIZATION_PARAMETERS,\n",
    "             _CV_ERRORS,\n",
    "             color=color,\n",
    "             ls=ls,\n",
    "             label=f'timepoint #{i}')\n",
    "    plt.axvline(_regularization_parameter,\n",
    "                ls=(i, (1, 2)),\n",
    "                color=color)\n",
    "\n",
    "plt.xscale('log')\n",
    "plt.xlabel('regularization parameter')\n",
    "plt.yscale('log')\n",
    "plt.ylabel('L2 norm of cross-validation error')\n",
    "plt.legend(loc='lower right')"
   ]
  },
  {
   "cell_type": "markdown",
   "metadata": {},
   "source": [
    "Once again, extreme values of regularization parameter are selected."
   ]
  }
 ],
 "metadata": {
  "kernelspec": {
   "display_name": "Python [conda env:kesi37]",
   "language": "python",
   "name": "conda-env-kesi37-py"
  },
  "language_info": {
   "codemirror_mode": {
    "name": "ipython",
    "version": 3
   },
   "file_extension": ".py",
   "mimetype": "text/x-python",
   "name": "python",
   "nbconvert_exporter": "python",
   "pygments_lexer": "ipython3",
   "version": "3.7.12"
  }
 },
 "nbformat": 4,
 "nbformat_minor": 4
}
